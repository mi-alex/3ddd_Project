{
 "cells": [
  {
   "cell_type": "code",
   "execution_count": null,
   "metadata": {},
   "outputs": [
    {
     "name": "stdout",
     "output_type": "stream",
     "text": [
      "Шаг 1, время 2024-12-13 19:50:10.124078. Нет данных для сравнения\n",
      "Шаг 2, время 2024-12-13 19:53:37.096472. Данные за прошедший период не изменились\n",
      "Шаг 3, время 2024-12-13 19:57:03.109096. Данные за прошедший период изменились\n"
     ]
    }
   ],
   "source": [
    "# Парсинг топа продаж 3dsky\n",
    "from selenium import webdriver\n",
    "from selenium.webdriver.common.by import By\n",
    "from selenium.webdriver.chrome.service import Service\n",
    "from selenium.webdriver.common.keys import Keys\n",
    "from selenium.webdriver.chrome.options import Options\n",
    "from datetime import datetime\n",
    "import time\n",
    "\n",
    "# Настройка Selenium\n",
    "chrome_options = Options()\n",
    "chrome_options.add_argument(\"--headless\")  # Запуск без интерфейса (опционально)\n",
    "chrome_options.add_argument(\"--disable-gpu\")\n",
    "chrome_options.add_argument(\"--window-size=1920,1080\")\n",
    "chrome_service = Service(\"C:\\\\Users\\\\mi_al\\\\Desktop\\\\chromedriver-win64\\\\chromedriver.exe\")  # Замените на путь к вашему ChromeDriver\n",
    "\n",
    "# Инициализация констант и переменных\n",
    "result = []                                                         # текущий список\n",
    "prev_result = []                                                    # предыдущий список\n",
    "report = []                                                         # итоговый протокол\n",
    "\n",
    "url = \"https://3dsky.org/3dmodels?order=sell_rating&page=1\"         # адрес (без номера страницы)\n",
    "pause_time = 5                                                      # время задержки на загрузку в сек\n",
    "pause_step = 3600                                                   # пауза между шагами\n",
    "repeat = 24                                                         # сколько раз повторять                                       \n",
    "\n",
    "for step in range(repeat):\n",
    "\n",
    "    # Инициализация браузера\n",
    "    driver = webdriver.Chrome(service=chrome_service, options=chrome_options)\n",
    "    driver.get(url)\n",
    "\n",
    "    # Небольшая пауза для загрузки контента\n",
    "    time.sleep(pause_time)\n",
    "\n",
    "    # Парсинг данных\n",
    "    try:\n",
    "        # Получаем список моделей с первой страницы топа\n",
    "        models = driver.find_elements(By.CSS_SELECTOR, \"div.model-title\")\n",
    "\n",
    "        for n, model in enumerate(models, 1):\n",
    "            # Извлечение данных\n",
    "            curdate = str(datetime.now().date())\n",
    "            title = model.find_element(By.TAG_NAME, \"a\").get_attribute(\"title\") if model.find_elements(By.TAG_NAME, \"a\") else \"No title\"\n",
    "            link = model.find_element(By.TAG_NAME, \"a\").get_attribute(\"href\") if model.find_elements(By.TAG_NAME, \"a\") else \"No link\"\n",
    "            result.append([n, curdate, title, link])\n",
    "\n",
    "    finally:\n",
    "        # Закрытие браузера\n",
    "        driver.quit()\n",
    " \n",
    "    # Если шаг не первый, то сравниваем текущий результат с предыдущим\n",
    "    if step > 0:\n",
    "        if prev_result == result:\n",
    "            reporttext = 'Данные за прошедший период не изменились'\n",
    "        else:\n",
    "            reporttext = 'Данные за прошедший период изменились'\n",
    "    # Если первый, то просто пишем, что нет данных для сравнения\n",
    "    else:\n",
    "        reporttext = 'Нет данных для сравнения'\n",
    " \n",
    "    # Формируем и публикуем отчёт о работе\n",
    "    reportdate = str(datetime.now())\n",
    "    report.append([reportdate, reporttext])\n",
    "    print(f'Шаг {step+1}, время {reportdate}. {reporttext}')       \n",
    "        \n",
    "    # Перекладываем текущий результат в предыдущий, а текущий очищаем    \n",
    "    prev_result = result\n",
    "    result = []\n",
    "  \n",
    "    if step + 1 < repeat:\n",
    "        time.sleep(pause_step)\n"
   ]
  }
 ],
 "metadata": {
  "kernelspec": {
   "display_name": "Python 3",
   "language": "python",
   "name": "python3"
  },
  "language_info": {
   "codemirror_mode": {
    "name": "ipython",
    "version": 3
   },
   "file_extension": ".py",
   "mimetype": "text/x-python",
   "name": "python",
   "nbconvert_exporter": "python",
   "pygments_lexer": "ipython3",
   "version": "3.9.13"
  }
 },
 "nbformat": 4,
 "nbformat_minor": 2
}
