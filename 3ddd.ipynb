{
 "cells": [
  {
   "cell_type": "markdown",
   "metadata": {},
   "source": [
    "## Парсинг данных сайта 3dsky.org\n",
    "\n",
    "### Получение данных с сайта\n",
    "Получение данных выполняется в два прохода. Сначала мы берём первые страницы топа и формируем список моделей с основными данными: номер по порядку, дата парсинга, наименование, ссылка. На втором этапе мы проходим по этому списку, заходя на страницу каждой модели, и получаем детализированную информацию о ней. В связи с тем, что иногда случаются ошибки получения данных (из-за неустойчивости сети), для каждой модели предпринимаются несколько попыток парсинга."
   ]
  },
  {
   "cell_type": "code",
   "execution_count": 50,
   "metadata": {},
   "outputs": [
    {
     "name": "stdout",
     "output_type": "stream",
     "text": [
      "Success: [1, '2025-02-03', 'Dressing room 28', 'https://3dsky.org/3dmodels/show/garderobnaia_28', 'Furniture', 'Wardrobe & Display cabinets', '3dsMax 2017 + fbx', 'Corona', 'None', 'None', '2024-11-14', 'protektor', 337, 237], attempt: 1\n",
      "Success: [2, '2025-02-03', 'Set of Epson projectors.', 'https://3dsky.org/3dmodels/show/nabor_proektorov_epson_1', 'Technology', 'PC & other electronics', '3dsMax 2015 + fbx', 'Corona', 'V-Ray', 'None', '2024-11-24', 'slipknot1111', 30, 146], attempt: 1\n",
      "Success: [3, '2025-02-03', 'Emmi Chair From MINOTTI Brand', 'https://3dsky.org/3dmodels/show/kreslo_emmi_ot_brenda_minotti', 'Furniture', 'Arm chair', '3dsMax 2015 + fbx', 'Corona', 'V-Ray', 'None', '2025-01-09', 'Graphicus', 188, 126], attempt: 1\n",
      "Success: [4, '2025-02-03', 'Boheme Uno collection', 'https://3dsky.org/3dmodels/show/boheme_uno_collection', 'Bathroom', 'Faucet', '3dsMax 2015 + obj', 'Corona', 'V-Ray', 'None', '2025-01-07', 'sarabale', 3, 38], attempt: 1\n",
      "Success: [5, '2025-02-03', 'Benuta Leon Cream Wool Rug', 'https://3dsky.org/3dmodels/show/benuta_leon_cream_wool_rug', 'Decoration', 'Carpets', '3dsMax 2015 + obj', 'Corona', 'None', 'None', '2024-11-03', '3Dmitruk', 353, 450], attempt: 1\n",
      "Success: [6, '2025-02-03', 'Cairns pedestal Divan.ru', 'https://3dsky.org/3dmodels/show/kerns_tumba_divan_ru', 'Furniture', 'Sideboard & Chest of drawer', '3dsMax 2016 + obj', 'Corona', 'V-Ray', 'None', '2024-11-05', 'niga2323', 814, 187], attempt: 1\n",
      "Success: [7, '2025-02-03', 'A set of clothes and accessories to fill a wardrobe or store and showroom', 'https://3dsky.org/3dmodels/show/a_set_of_clothes_and_accessories_to_fill_a_wardrobe_or_store_and_showroom', 'Decoration', 'Clothes', '3dsMax 2015 + fbx', 'Corona', 'V-Ray', 'None', '2024-11-23', 'sofiakholina', 848, 242], attempt: 1\n",
      "Success: [8, '2025-02-03', 'curtains with piping', 'https://3dsky.org/3dmodels/show/shtory_s_kantom', 'Decoration', 'Curtain', '3dsMax 2018 + fbx', 'Corona', 'None', 'None', '2025-01-14', 'бойко75', 20, 119], attempt: 1\n",
      "Success: [9, '2025-02-03', 'Double shower curtain with hidden ceiling cornice', 'https://3dsky.org/3dmodels/show/shtora_dlia_vannoi_dvoinaia_so_skrytym_potolochnym_karnizom', 'Bathroom', 'Bathroom accessories', '3dsMax 2019 + obj', 'Corona', 'None', 'None', '2024-11-28', 'kristi4487', 9, 116], attempt: 1\n",
      "Success: [10, '2025-02-03', 'Decorative set NG27', 'https://3dsky.org/3dmodels/show/dekorativnyi_nabor_ng27', 'Decoration', 'Decorative set', '3dsMax 2016 + obj', 'Corona', 'V-Ray', 'None', '2024-12-25', 'niga2323', 814, 218], attempt: 1\n",
      "Success: [11, '2025-02-03', 'coffee table decor set 005', 'https://3dsky.org/3dmodels/show/coffee_table_decor_set_005', 'Decoration', 'Decorative set', '3dsMax 2015 + fbx', 'Corona', 'V-Ray', 'None', '2024-11-15', 'Mitya87', 208, 520], attempt: 1\n",
      "Success: [12, '2025-02-03', 'Sockets and switches Donel series R98', 'https://3dsky.org/3dmodels/show/rozetki_i_vykliuchateli_donel_ceriia_r98_1', 'Technology', 'Miscellaneous', '3dsMax 2017 + obj', 'Corona', 'V-Ray', 'None', '2024-12-17', 'DashutaG', 36, 129], attempt: 1\n",
      "Success: [13, '2025-02-03', 'Benuta Dave Rectangular Fur Rug (3 colors)', 'https://3dsky.org/3dmodels/show/benuta_dave_rectangular_fur_rug_3_colors', 'Decoration', 'Carpets', '3dsMax 2015 + obj', 'Corona', 'None', 'None', '2024-06-27', '3Dmitruk', 353, 643], attempt: 1\n",
      "Success: [14, '2025-02-03', 'Basic wardrobe made of cabinet furniture with doors 2', 'https://3dsky.org/3dmodels/show/basic_wardrobe_made_of_cabinet_furniture_with_doors_2', 'Furniture', 'Wardrobe & Display cabinets', '3dsMax 2015 + fbx', 'Corona', 'V-Ray', 'None', '2024-11-26', 'sofiakholina', 848, 159], attempt: 1\n",
      "Success: [15, '2025-02-03', 'Anders Dusty Rose Pink Area Rug', 'https://3dsky.org/3dmodels/show/anders_dusty_rose_pink_area_rug_9', 'Decoration', 'Carpets', '3dsMax 2015 + obj', 'Corona', 'None', 'None', '2024-12-27', 'leeooo', 47, 69], attempt: 1\n",
      "Success: [16, '2025-02-03', 'Bathroom furniture 28 in neoclassical style', 'https://3dsky.org/3dmodels/show/mebel_dlia_vannoi_komnaty_28_v_stile_neoklassika', 'Bathroom', 'Bathroom furniture', '3dsMax 2013 + obj', 'Corona', 'None', 'None', '2025-01-11', 'don2432', 178, 75], attempt: 1\n",
      "Success: [17, '2025-02-03', 'Luceplan Levante Pendant Lamps', 'https://3dsky.org/3dmodels/show/luceplan_levante_pendant_lamps', 'Lighting', 'Pendant light', '3dsMax 2013 + obj', 'Corona', 'V-Ray', 'None', '2025-01-21', 'horrortechnology', 761, 69], attempt: 1\n",
      "Success: [18, '2025-02-03', 'Indoor Plant Set 89', 'https://3dsky.org/3dmodels/show/indoor_plant_set_89_23', 'Plants', 'Indoor', '3dsMax 2015 + obj', 'Corona', 'V-Ray', 'None', '2024-04-30', 'mh.designer', 222, 133], attempt: 1\n",
      "Success: [19, '2025-02-03', 'Ventilation system.', 'https://3dsky.org/3dmodels/show/industrialnyi_potolok_2', 'Other Models', 'Miscellaneous', '3dsMax 2015 + fbx', 'Corona', 'V-Ray', 'None', '2024-08-24', 'slipknot1111', 30, 221], attempt: 1\n",
      "Success: [20, '2025-02-03', 'Porcelain tiles Nolana Estima', 'https://3dsky.org/3dmodels/show/keramogranit_nolana_estima', 'Materials', 'Tile', '3dsMax 2020 + obj', 'Corona', 'None', 'None', '2024-09-14', 'RazorS95', 19, 250], attempt: 1\n",
      "Success: [21, '2025-02-03', 'Yamaguchi Skyway Massage Chair', 'https://3dsky.org/3dmodels/show/yamaguchi_skyway_massazhnoe_kreslo', 'Furniture', 'Arm chair', '3dsMax 2020 + fbx', 'Corona', 'None', 'None', '2024-09-02', 'nepotogen', 22, 65], attempt: 1\n",
      "Success: [22, '2025-02-03', 'Mogens table Divan.ru', 'https://3dsky.org/3dmodels/show/mogens_stolik_divan_ru', 'Furniture', 'Table', '3dsMax 2016 + obj', 'Corona', 'V-Ray', 'None', '2024-10-29', 'niga2323', 814, 130], attempt: 1\n",
      "Success: [23, '2025-02-03', 'Bathroom furniture 27 modular in a modern style', 'https://3dsky.org/3dmodels/show/mebel_dlia_vannoi_komnaty_27_modulnaia_v_sovremennom_stile', 'Bathroom', 'Bathroom furniture', '3dsMax 2013 + obj', 'Corona', 'None', 'None', '2024-12-15', 'don2432', 178, 81], attempt: 1\n",
      "Success: [24, '2025-02-03', 'Vibia Plus Minus', 'https://3dsky.org/3dmodels/show/vibia_plusminus_19', 'Lighting', 'Pendant light', '3dsMax 2015 + obj', 'Corona', 'None', 'None', '2024-10-12', 'animexgroup', 42, 65], attempt: 1\n",
      "Success: [25, '2025-02-03', 'Decorative set with branch ch15', 'https://3dsky.org/3dmodels/show/decorative_set_with_branch_ch15', 'Decoration', 'Decorative set', '3dsMax 2016 + fbx', 'Corona', 'None', 'None', '2024-10-11', 'cheka_3dviz', 122, 397], attempt: 1\n",
      "Success: [26, '2025-02-03', 'Basic wardrobe made of cabinet furniture with doors', 'https://3dsky.org/3dmodels/show/basic_wardrobe_made_of_cabinet_furniture_with_doors', 'Furniture', 'Wardrobe & Display cabinets', '3dsMax 2015 + fbx', 'Corona', 'V-Ray', 'None', '2024-11-12', 'sofiakholina', 848, 209], attempt: 1\n",
      "Success: [27, '2025-02-03', 'Graceful Dual Layer Curtains Velvet with Sheer Overlay', 'https://3dsky.org/3dmodels/show/graceful_dual_layer_curtains_velvet_with_sheer_overlay', 'Decoration', 'Curtain', '3dsMax 2016 + obj', 'Corona', 'V-Ray', 'None', '2024-12-26', 'bahar tanhaee', 290, 73], attempt: 1\n",
      "Success: [28, '2025-02-03', 'Table setting 45', 'https://3dsky.org/3dmodels/show/servirovka_stola_table_setting_45', 'Kitchen', 'Tableware', '3dsMax 2017 + fbx', 'Corona', 'V-Ray', 'None', '2025-01-07', 'Brast', 191, 92], attempt: 1\n",
      "Success: [29, '2025-02-03', 'Rack with clothes 03', 'https://3dsky.org/3dmodels/show/rack_with_clothes_03', 'Decoration', 'Clothes', '3dsMax 2014 + obj', 'Corona', 'V-Ray', 'None', '2025-01-22', 'tarankaa', 299, 112], attempt: 1\n",
      "Success: [30, '2025-02-03', 'Tree branch in a ceramics pot - set indoor plant 620', 'https://3dsky.org/3dmodels/show/tree_branch_in_a_ceramics_pot_set_indoor_plant_620', 'Plants', 'Indoor', '3dsMax 2015 + obj', 'Corona', 'V-Ray', 'None', '2025-01-21', 'Hadi Picasso', 575, 21], attempt: 1\n",
      "Success: [31, '2025-02-03', 'Washing machine and dryer Samsung', 'https://3dsky.org/3dmodels/show/washing_machine_and_dryer_samsung', 'Technology', 'Household appliance', '3dsMax 2016 + obj', 'Corona', 'V-Ray', 'None', '2022-06-09', 'rakochi.design', 538, 700], attempt: 1\n",
      "Success: [32, '2025-02-03', 'Clothes for wardrobe NG15', 'https://3dsky.org/3dmodels/show/odezhda_dlia_garderoba_ng15', 'Decoration', 'Clothes', '3dsMax 2016 + obj', 'Corona', 'V-Ray', 'None', '2024-11-12', 'niga2323', 814, 281], attempt: 1\n",
      "Success: [33, '2025-02-03', 'Houseplants 01', 'https://3dsky.org/3dmodels/show/komnatnye_rasteniia_01', 'Plants', 'Indoor', '3dsMax 2019 + obj', 'Corona', 'None', 'None', '2024-10-10', '13halav', 8, 152], attempt: 1\n",
      "Success: [34, '2025-02-03', 'Decor set with water and pears stv005', 'https://3dsky.org/3dmodels/show/dekor_nabor_s_vodoi_i_grushami_stv005', 'Kitchen', 'Food and drinks', '3dsMax 2015 + obj', 'Corona', 'None', 'None', '2024-12-23', 'GOSS', 29, 213], attempt: 1\n",
      "Success: [35, '2025-02-03', 'Set of clothes for the wardrobe', 'https://3dsky.org/3dmodels/show/nabor_odezhdy_dlia_garderoba_1', 'Decoration', 'Clothes', '3dsMax 2020 + obj', 'Corona', 'None', 'None', '2025-01-10', 'Klyuchko_project', 317, 180], attempt: 1\n",
      "Success: [36, '2025-02-03', 'FloorGen Tools 1.5.4', 'https://3dsky.org/3dmodels/show/floorgen_tools_1_5_4', 'Scripts', 'Scripts', 'Script', 'Corona', 'V-Ray', 'None', '2019-04-14', '-NiK-', 41, 818], attempt: 1\n",
      "Success: [37, '2025-02-03', 'TV wall with Xiaomi laser projector', 'https://3dsky.org/3dmodels/show/tv_stena_s_lazernym_proektorom_xiaomi', 'Furniture', 'TV Wall', '3dsMax 2015 + fbx', 'Corona', 'V-Ray', 'None', '2023-12-09', 'aoverina', 2314, 1587], attempt: 1\n",
      "Success: [38, '2025-02-03', 'Boen parquet board wood flooring', 'https://3dsky.org/3dmodels/show/parketnaia_doska_boen', 'Textures', 'Floor coverings', '3dsMax 2016 + obj', 'Corona', 'V-Ray', 'None', '2024-01-07', 'dofen', 332, 946], attempt: 1\n",
      "Success: [39, '2025-02-03', 'Office chair Ashley', 'https://3dsky.org/3dmodels/show/ofisnoe_kreslo_eshli', 'Furniture', 'Office furniture', '3dsMax 2015 + obj', 'Corona', 'None', 'None', '2024-10-13', 'illidan_', 6, 203], attempt: 1\n",
      "Success: [40, '2025-02-03', 'Jewelry organizer', 'https://3dsky.org/3dmodels/show/organaizer_dlia_ukrashenii', 'Decoration', 'Other decorative objects', '3dsMax 2017 + obj', 'Corona', 'V-Ray', 'None', '2024-10-11', 'NataLila', 16, 243], attempt: 1\n",
      "Success: [41, '2025-02-03', 'Childrens open wardrobe with desk, modular, modern, 25', 'https://3dsky.org/3dmodels/show/shkaf_otkrytyi_detskii_s_pismennym_stolom_modulnyi_sovremennyi_25', 'Childroom', 'Wardrobe', '3dsMax 2013 + obj', 'Corona', 'None', 'None', '2024-11-13', 'don2432', 178, 180], attempt: 1\n",
      "Success: [42, '2025-02-03', 'MicroCement Vitra Porcelain Tiles', 'https://3dsky.org/3dmodels/show/keramogranit_microcement_vitra', 'Materials', 'Tile', '3dsMax 2015 + obj', 'Corona', 'None', 'None', '2024-11-09', 'RazorS95', 19, 75], attempt: 1\n",
      "Success: [43, '2025-02-03', 'Roman blind with tassels', 'https://3dsky.org/3dmodels/show/shtora_rimskaia_s_kistochkami', 'Decoration', 'Curtain', '3dsMax 2019 + obj', 'Corona', 'None', 'None', '2024-12-17', 'kristi4487', 9, 89], attempt: 1\n",
      "Success: [44, '2025-02-03', 'curtains with piping', 'https://3dsky.org/3dmodels/show/shtory_s_kantom_1', 'Decoration', 'Curtain', '3dsMax 2018 + fbx', 'Corona', 'None', 'None', '2025-01-18', 'бойко75', 20, 50], attempt: 1\n",
      "Success: [45, '2025-02-03', 'Flower In Vase 77', 'https://3dsky.org/3dmodels/show/flower_in_vase_77', 'Plants', 'Bouquet', '3dsMax 2016 + fbx', 'Corona', 'None', 'None', '2025-01-20', 'adib908', 95, 70], attempt: 1\n",
      "Success: [46, '2025-02-03', 'Clothes for the hallway', 'https://3dsky.org/3dmodels/show/odezhda_dlia_prikhozhei_2', 'Decoration', 'Clothes', '3dsMax 2021 + fbx', 'Corona', 'None', 'None', '2025-01-15', 'MurMur222', 73, 38], attempt: 1\n",
      "Success: [47, '2025-02-03', 'PlayStation 5 Collection', 'https://3dsky.org/3dmodels/show/playstation_5_collection', 'Technology', 'PC & other electronics', '3dsMax 2014 + fbx', 'Corona', 'V-Ray', 'None', '2024-05-23', 'Aviato', 2324, 115], attempt: 1\n",
      "Success: [48, '2025-02-03', 'Cookware set NG5', 'https://3dsky.org/3dmodels/show/nabor_posudy_ng5', 'Kitchen', 'Tableware', '3dsMax 2016 + obj', 'Corona', 'V-Ray', 'None', '2024-10-07', 'niga2323', 814, 469], attempt: 1\n",
      "Success: [49, '2025-02-03', 'Grilles for ventilation and air conditioning Redvent', 'https://3dsky.org/3dmodels/show/reshetki_dlia_ventiliatsii_i_konditsionirovaniia_redvent', 'Other Models', 'Miscellaneous', '3dsMax 2017 + obj', 'Corona', 'V-Ray', 'None', '2024-10-27', 'DashutaG', 36, 242], attempt: 1\n",
      "Success: [50, '2025-02-03', 'EWRIKA Penelope electric heated towel rail', 'https://3dsky.org/3dmodels/show/ewrika_penelopa_polotentsesushitel_elektricheskii', 'Bathroom', 'Towel rail', '3dsMax 2016 + obj', 'Corona', 'V-Ray', 'None', '2024-10-21', 'niga2323', 814, 102], attempt: 1\n",
      "Success: [51, '2025-02-03', 'Track system centersvet Infinity', 'https://3dsky.org/3dmodels/show/trekovaia_sistema_centersvet_infinity', 'Lighting', 'Technical lighting', '3dsMax 2020 + obj', 'Corona', 'None', 'None', '2024-10-30', 'Beliy', 24, 82], attempt: 1\n",
      "Success: [52, '2025-02-03', 'Minotti Horizonte Modular Sofa', 'https://3dsky.org/3dmodels/show/minotti_horizonte_modular_sofa_7', 'Furniture', 'Sofa', '3dsMax 2014 + obj', 'Corona', 'V-Ray', 'None', '2024-12-06', 'Theorema3D', 257, 115], attempt: 1\n",
      "Success: [53, '2025-02-03', 'Decorative plaster 25', 'https://3dsky.org/3dmodels/show/dekorativnaia_shtukaturka_25_3', 'Textures', 'Wall covering', '3dsMax 2020 + obj', 'Corona', 'None', 'None', '2024-12-18', 'fenomen1988', 8, 96], attempt: 1\n",
      "Success: [54, '2025-02-03', 'Kitchen 29', 'https://3dsky.org/3dmodels/show/kukhnia_29_4', 'Kitchen', 'Kitchen', '3dsMax 2018 + fbx', 'Corona', 'V-Ray', 'None', '2024-12-08', 'Bensy', 101, 119], attempt: 1\n",
      "Success: [55, '2025-02-03', 'Step by Step Stone Path', 'https://3dsky.org/3dmodels/show/poshagovaia_dorozhka_iz_kamnia', 'Architecture', 'Environment elements', '3dsMax 2021 + obj', 'Corona', 'None', 'None', '2024-11-20', 'rustalx', 23, 45], attempt: 1\n",
      "Success: [56, '2025-02-03', 'Bathroom Accessories 71', 'https://3dsky.org/3dmodels/show/bathroom_accessories_71_3', 'Bathroom', 'Bathroom accessories', '3dsMax 2016 + obj', 'Corona', 'V-Ray', 'None', '2025-01-16', 'morteza20', 404, 91], attempt: 1\n",
      "Success: [57, '2025-02-03', 'Counter Stool Bar Stool Folsom', 'https://3dsky.org/3dmodels/show/counter_stool_bar_stool_folsom_1', 'Furniture', 'Chair', '3dsMax 2017 + fbx', 'Corona', 'None', 'None', '2024-12-18', 'zircon', 73, 56], attempt: 1\n",
      "Success: [58, '2025-02-03', 'Decorative Set-089', 'https://3dsky.org/3dmodels/show/decorative_set_089_5', 'Decoration', 'Decorative set', '3dsMax 2015 + obj', 'Corona', 'V-Ray', 'None', '2025-01-11', 'mhl.hnr', 263, 98], attempt: 1\n",
      "Success: [59, '2025-02-03', 'Rimadesio Altair storage', 'https://3dsky.org/3dmodels/show/tumba_rimadesio_altair', 'Other Models', 'Shop', '3dsMax 2017 + fbx', 'Corona', 'None', 'None', '2025-01-15', 'Tutty_desu', 46, 107], attempt: 1\n",
      "Success: [60, '2025-02-03', 'Set of ceilings Armstrong and Grilyato', 'https://3dsky.org/3dmodels/show/nabor_potolkov_armstrong_i_griliato_1', 'Other Models', 'Miscellaneous', '3dsMax 2013 + fbx', 'Corona', 'V-Ray', 'None', '2022-08-18', 'solomon5555', 448, 864], attempt: 1\n",
      "Success: [61, '2025-02-03', 'Curtains with Roman blinds 2', 'https://3dsky.org/3dmodels/show/shtory_s_rimskimi_shtorami_2', 'Decoration', 'Curtain', '3dsMax 2014 + obj', 'Corona', 'None', 'None', '2024-08-26', 'Rolan05', 132, 354], attempt: 1\n",
      "Success: [62, '2025-02-03', 'Bathroom decor with a set of different cosmetic products', 'https://3dsky.org/3dmodels/show/bathroom_decor_with_a_set_of_different_cosmetic_products', 'Bathroom', 'Bathroom accessories', '3dsMax 2015 + fbx', 'Corona', 'V-Ray', 'None', '2024-07-10', 'sofiakholina', 848, 359], attempt: 1\n",
      "Success: [63, '2025-02-03', 'Realistic meadow grass', 'https://3dsky.org/3dmodels/show/realistichnaia_lugovaia_trava', 'Plants', 'Grass', '3dsMax 2020 + obj', 'Corona', 'None', 'None', '2024-09-05', 'AlexHappy', 1763, 486], attempt: 1\n",
      "Success: [64, '2025-02-03', 'Set of cabinet fronts. Furniture for the wardrobe. Wooden facades with rattan slats, milled or fabric.', 'https://3dsky.org/3dmodels/show/nabor_fasadov_shkafov_mebel_v_garderob_dereviannye_fasady_s_reikoi_rotangom_frezerovkoi_ili_tkaniu', 'Furniture', 'Wardrobe & Display cabinets', '3dsMax 2017 + fbx', 'Corona', 'V-Ray', 'None', '2024-05-17', 'maxim7191', 115, 740], attempt: 1\n",
      "Success: [65, '2025-02-03', 'Wood Materials LuxLucia Casa - 7 Colors Set04W1', 'https://3dsky.org/3dmodels/show/wood_materials_luxlucia_casa_7_colors_set04w1', 'Textures', 'Wood', '3dsMax 2015 + obj', 'Corona', 'V-Ray', 'None', '2024-08-18', 'Lux3DLucia', 244, 184], attempt: 1\n",
      "Success: [66, '2025-02-03', 'Decorative Set-086 Shelf Accessories', 'https://3dsky.org/3dmodels/show/decorative_set_086_4', 'Decoration', 'Decorative set', '3dsMax 2015 + obj', 'Corona', 'V-Ray', 'None', '2024-11-17', 'mhl.hnr', 263, 156], attempt: 1\n",
      "Success: [67, '2025-02-03', 'Pinboard with childrens drawings', 'https://3dsky.org/3dmodels/show/pinbord_doska_s_detskimi_risunkami', 'Childroom', 'Miscellaneous', '3dsMax 2017 + obj', 'Corona', 'V-Ray', 'None', '2024-10-14', 'DashutaG', 36, 139], attempt: 1\n",
      "Success: [68, '2025-02-03', 'Shower 1', 'https://3dsky.org/3dmodels/show/dushevaia_1_1', 'Bathroom', 'Shower', '3dsMax 2017 + fbx', 'Corona', 'None', 'None', '2024-12-14', 'oleksandroleksandr', 134, 116], attempt: 1\n",
      "Success: [69, '2025-02-03', 'Clifford Thorvall table and chairs Divan.ru', 'https://3dsky.org/3dmodels/show/kliford_torvall_stol_i_stulia_divan_ru', 'Furniture', 'Table + Chair', '3dsMax 2016 + obj', 'Corona', 'V-Ray', 'None', '2024-11-28', 'niga2323', 814, 54], attempt: 1\n",
      "Success: [70, '2025-02-03', 'Washable Rug Pam Beige, Gray and Cream by Benuta', 'https://3dsky.org/3dmodels/show/washable_rug_pam_beige_grey_and_cream_by_benuta', 'Decoration', 'Carpets', '3dsMax 2015 + fbx', 'Corona', 'V-Ray', 'None', '2025-01-05', 'sofiakholina', 848, 38], attempt: 1\n",
      "Success: [71, '2025-02-03', 'Decorative set with a bouquet of lilacs in a glass vase', 'https://3dsky.org/3dmodels/show/dekorativnyi_nabor_s_buketom_sireni_v_stekliannoi_vaze', 'Decoration', 'Decorative set', '3dsMax 2012 + obj', 'Corona', 'V-Ray', 'None', '2025-01-10', 'auralis', 252, 63], attempt: 1\n",
      "Success: [72, '2025-02-03', 'Carpet Flow', 'https://3dsky.org/3dmodels/show/carpet_flow_2', 'Decoration', 'Carpets', '3dsMax 2015 + obj', 'Corona', 'V-Ray', 'None', '2025-01-05', 'Moonboy', 40, 26], attempt: 1\n",
      "Success: [73, '2025-02-03', 'Mateo Dining chair, Adrien Table', 'https://3dsky.org/3dmodels/show/mateo_dining_chair_adrien_table', 'Furniture', 'Table + Chair', '3dsMax 2015 + obj', 'Corona', 'V-Ray', 'None', '2025-01-16', 'scorpion3ddd', 16, 30], attempt: 1\n",
      "Success: [74, '2025-02-03', 'kitchen modern-071', 'https://3dsky.org/3dmodels/show/kitchen_modern_071', 'Kitchen', 'Kitchen', '3dsMax 2015 + obj', 'Corona', 'V-Ray', 'None', '2025-01-11', 'moon_3dart296', 25, 46], attempt: 1\n",
      "Success: [75, '2025-02-03', 'Italon MILLENIUM NEW', 'https://3dsky.org/3dmodels/show/italon_millenium_new', 'Textures', 'Tile', '3dsMax 2016 + obj', 'Corona', 'V-Ray', 'None', '2025-01-17', 'StanisLOVE.viz', 168, 16], attempt: 1\n",
      "Success: [76, '2025-02-03', 'Emma Naomi Brenda tables Divan.ru', 'https://3dsky.org/3dmodels/show/emma_naomi_brenda_stoliki_divan_ru', 'Furniture', 'Table', '3dsMax 2016 + obj', 'Corona', 'V-Ray', 'None', '2024-03-20', 'niga2323', 814, 441], attempt: 1\n",
      "Success: [77, '2025-02-03', 'Padel', 'https://3dsky.org/3dmodels/show/padel_padel', 'Other Models', 'Sports', '3dsMax 2017 + obj', 'Corona', 'V-Ray', 'None', '2023-11-03', 'alexsm2014', 24, 136], attempt: 1\n",
      "Success: [78, '2025-02-03', 'SAFAVIEH Dina Coastal Jute Rug Round', 'https://3dsky.org/3dmodels/show/safavieh_dina_coastal_jute_rug_round', 'Decoration', 'Carpets', '3dsMax 2013 + obj', 'None', 'V-Ray', 'None', '2023-11-21', '3Dmitruk', 353, 322], attempt: 1\n",
      "Success: [79, '2025-02-03', 'Boucle Fabric', 'https://3dsky.org/3dmodels/show/boucle_fabric', 'Materials', 'Miscellaneous', '3dsMax 2019 + obj', 'Corona', 'None', 'None', '2024-10-27', 'marchik3d', 164, 620], attempt: 1\n",
      "Success: [80, '2025-02-03', 'Connect Soft Modular Sofa 2', 'https://3dsky.org/3dmodels/show/connect_soft_modular_sofa_2_1', 'Furniture', 'Sofa', '3dsMax 2014 + obj', 'Corona', 'V-Ray', 'None', '2024-12-06', 'Theorema3D', 257, 106], attempt: 1\n",
      "Success: [81, '2025-02-03', 'Built-in ironing board Rocket', 'https://3dsky.org/3dmodels/show/vstroennaia_gladilnaia_doska_raketa', 'Other Models', 'Miscellaneous', '3dsMax 2018 + obj', 'Corona', 'None', 'None', '2024-12-05', 'ElenaSokha', 276, 93], attempt: 1\n",
      "Success: [82, '2025-02-03', 'kitchen accessories 048', 'https://3dsky.org/3dmodels/show/kitchen_accessories_048', 'Kitchen', 'Other kitchen accessories', '3dsMax 2017 + obj', 'Corona', 'V-Ray', 'None', '2024-12-17', 'Nargesasgari', 124, 72], attempt: 1\n",
      "Success: [83, '2025-02-03', 'Bathroom accessories 01', 'https://3dsky.org/3dmodels/show/bathroom_accessories_01_186', 'Bathroom', 'Bathroom accessories', '3dsMax 2013 + obj', 'Corona', 'V-Ray', 'None', '2024-12-28', '3d_artistAhmadnejad', 170, 49], attempt: 1\n",
      "Success: [84, '2025-02-03', 'Pouf Loreen StoolGroup', 'https://3dsky.org/3dmodels/show/puf_loreen_stoolgroup_8', 'Furniture', 'Chair', '3dsMax 2017 + obj', 'Corona', 'None', 'None', '2024-11-13', 'Boburmirzo0007', 16, 23], attempt: 1\n",
      "Success: [85, '2025-02-03', 'Onyx for large format slabs Arch Skin', 'https://3dsky.org/3dmodels/show/oniks_dlia_krupnoformatnykh_slebov_arch_skin', 'Textures', 'Stone', 'Texture', 'Corona', 'V-Ray', 'None', '2025-01-08', 'marabito', 8, 25], attempt: 1\n",
      "Success: [86, '2025-02-03', 'Set of base wood materials. Seamless', 'https://3dsky.org/3dmodels/show/set_of_base_wood_materials_seamless', 'Materials', 'Wood', '3dsMax 2015 + fbx', 'Corona', 'V-Ray', 'None', '2025-01-14', 'sofiakholina', 848, 28], attempt: 1\n",
      "Success: [87, '2025-02-03', 'Sinks and faucets Omoikiri', 'https://3dsky.org/3dmodels/show/moiki_i_smesiteli_omoikiri', 'Kitchen', 'Sink', '3dsMax 2017 + fbx', 'Corona', 'None', 'None', '2023-10-15', 'oleksandroleksandr', 134, 543], attempt: 1\n",
      "Success: [88, '2025-02-03', 'Cafe Equipment Set 4', 'https://3dsky.org/3dmodels/show/oborudovanie_dlia_kafe_set_4_1', 'Other Models', 'Restaurant', '3dsMax 2014 + fbx', 'Corona', 'V-Ray', 'None', '2023-03-08', 'Стаска', 79, 525], attempt: 1\n",
      "Success: [89, '2025-02-03', 'Coffee Shop 6', 'https://3dsky.org/3dmodels/show/coffee_shop_6_1', 'Other Models', 'Restaurant', '3dsMax 2012 + obj', 'Corona', 'V-Ray', 'None', '2024-03-11', 'omnomn', 324, 664], attempt: 1\n",
      "Pending: [90, '2025-02-03', 'Prefabricated juniper panel', 'https://3dsky.org/3dmodels/show/sbornoe_panno_iz_mozhzhevelnika', 'Decoration', 'Other decorative objects', '3dsMax 2017 + fbx', 'Corona', 'V-Ray', 'None', '2023-12-28', 'naty2009', 252], attempt: 1\n",
      "Pending: [90, '2025-02-03', 'Prefabricated juniper panel', 'https://3dsky.org/3dmodels/show/sbornoe_panno_iz_mozhzhevelnika', 'Decoration', 'Other decorative objects', '3dsMax 2017 + fbx', 'Corona', 'V-Ray', 'None', '2023-12-28', 'naty2009', 252], attempt: 2\n",
      "Failed: [90, '2025-02-03', 'Prefabricated juniper panel', 'https://3dsky.org/3dmodels/show/sbornoe_panno_iz_mozhzhevelnika', 'Decoration', 'Other decorative objects', '3dsMax 2017 + fbx', 'Corona', 'V-Ray', 'None', '2023-12-28', 'naty2009', 252], attempt: 3\n",
      "Success: [91, '2025-02-03', 'Panel with waves', 'https://3dsky.org/3dmodels/show/panel_s_volnami', 'Decoration', 'Sculpture', '3dsMax 2017 + obj', 'Corona', 'V-Ray', 'None', '2024-04-28', 'Manax', 75, 550], attempt: 1\n",
      "Success: [92, '2025-02-03', 'Robot vacuum cleaner Xiaomi Robot Vacuum Cleaner X20', 'https://3dsky.org/3dmodels/show/robot_pylesos_xiaomi_robot_vacuum_cleaner_x20', 'Technology', 'Household appliance', '3dsMax 2018 + fbx', 'Corona', 'None', 'None', '2024-05-31', 'dilya_1', 106, 159], attempt: 1\n",
      "Success: [93, '2025-02-03', 'Cezares Stylus + Boheme Uno + AlcaPlast Thin', 'https://3dsky.org/3dmodels/show/cezares_stylus_boheme_uno_alcaplast_thin', 'Bathroom', 'Toilet and Bidet', '3dsMax 2015 + fbx', 'Corona', 'V-Ray', 'None', '2024-05-31', 'star_vera', 7, 201], attempt: 1\n",
      "Success: [94, '2025-02-03', 'Home heating system kit 2', 'https://3dsky.org/3dmodels/show/komplekt_sistemy_otopleniia_dlia_doma_2', 'Technology', 'Miscellaneous', '3dsMax 2013 + obj', 'Corona', 'V-Ray', 'None', '2024-03-30', 'madMIX', 84, 200], attempt: 1\n",
      "Success: [95, '2025-02-03', 'Acrylic stone for countertops', 'https://3dsky.org/3dmodels/show/akrilovyi_kamen_dlia_stoleshnits', 'Textures', 'Stone', 'Texture', 'Corona', 'V-Ray', 'None', '2024-08-04', 'marabito', 8, 116], attempt: 1\n",
      "Success: [96, '2025-02-03', 'Roman blinds', 'https://3dsky.org/3dmodels/show/shtory_rimskie', 'Decoration', 'Curtain', '3dsMax 2018 + fbx', 'Corona', 'None', 'None', '2024-10-02', 'бойко75', 20, 146], attempt: 1\n",
      "Success: [97, '2025-02-03', 'HOMARY island for dressing room NG16', 'https://3dsky.org/3dmodels/show/homary_ostrov_dlia_garderobnoi_ng16', 'Furniture', 'Other', '3dsMax 2016 + obj', 'Corona', 'V-Ray', 'None', '2024-11-18', 'niga2323', 814, 414], attempt: 1\n",
      "Success: [98, '2025-02-03', 'Voyampol cabinet Divan.ru', 'https://3dsky.org/3dmodels/show/voiampol_tumba_divan_ru', 'Furniture', 'Sideboard & Chest of drawer', '3dsMax 2016 + obj', 'Corona', 'V-Ray', 'None', '2024-11-05', 'niga2323', 814, 77], attempt: 1\n",
      "Success: [99, '2025-02-03', 'UNO heated towel rail by Boheme', 'https://3dsky.org/3dmodels/show/polotentsesushiteli_uno_by_boheme', 'Bathroom', 'Towel rail', '3dsMax 2015 + fbx', 'Corona', 'V-Ray', 'None', '2024-12-04', 'iriyarmak', 60, 33], attempt: 1\n",
      "Success: [100, '2025-02-03', 'Indoor Plant 849 - Cinnamons Tree', 'https://3dsky.org/3dmodels/show/indoor_plant_849_cinnamons_tree', 'Plants', 'Indoor', '3dsMax 2015 + obj', 'Corona', 'V-Ray', 'None', '2024-12-16', '3Design.FB', 1620, 57], attempt: 1\n",
      "Success: [101, '2025-02-03', 'Kitchen in neoclassical style 78', 'https://3dsky.org/3dmodels/show/kukhnia_v_stile_neoklassika_78', 'Kitchen', 'Kitchen', '3dsMax 2018 + obj', 'Corona', 'None', 'None', '2024-12-03', 'Sofi_', 89, 79], attempt: 1\n",
      "Success: [102, '2025-02-03', 'Decorative set 099', 'https://3dsky.org/3dmodels/show/decorative_set_099_1', 'Decoration', 'Decorative set', '3dsMax 2016 + fbx', 'Corona', 'V-Ray', 'None', '2024-12-22', 'Moriiiz', 94, 111], attempt: 1\n",
      "Success: [103, '2025-02-03', 'Mogens console Divan.ru', 'https://3dsky.org/3dmodels/show/mogens_konsol_divan_ru', 'Furniture', 'Console', '3dsMax 2016 + obj', 'Corona', 'V-Ray', 'None', '2024-12-16', 'niga2323', 814, 42], attempt: 1\n",
      "Success: [104, '2025-02-03', 'The Paralume Marina Chandelier', 'https://3dsky.org/3dmodels/show/il_paralume_marina_chandelier', 'Lighting', 'Pendant light', '3dsMax 2014 + obj', 'Corona', 'V-Ray', 'None', '2024-12-25', 'Pure model', 433, 83], attempt: 1\n",
      "Success: [105, '2025-02-03', 'Marlet Corner Sofa Set1', 'https://3dsky.org/3dmodels/show/marlet_corner_sofa_set1', 'Furniture', 'Sofa', '3dsMax 2014 + obj', 'Corona', 'V-Ray', 'None', '2025-01-05', 'Theorema3D', 257, 54], attempt: 1\n",
      "Success: [106, '2025-02-03', 'VOLUME Bed', 'https://3dsky.org/3dmodels/show/volume_bed_15', 'Furniture', 'Bed', '3dsMax 2015 + obj', 'Corona', 'V-Ray', 'None', '2024-12-06', 'romina.1990', 58, 47], attempt: 1\n",
      "Success: [107, '2025-02-03', 'Teyo Belvedere Vanity', 'https://3dsky.org/3dmodels/show/teyo_belvedere_vanity', 'Bathroom', 'Bathroom furniture', '3dsMax 2021 + obj', 'Corona', 'None', 'None', '2024-12-19', 'Weareteyo', 9, 33], attempt: 1\n",
      "Success: [108, '2025-02-03', 'Boheme Zodiac shower system', 'https://3dsky.org/3dmodels/show/boheme_zodiac_dushevaia_sistema', 'Bathroom', 'Faucet', '3dsMax 2018 + obj', 'Corona', 'None', 'None', '2024-12-29', 'wodg123', 2, 12], attempt: 1\n",
      "Success: [109, '2025-02-03', 'Furniture Composition 313', 'https://3dsky.org/3dmodels/show/furniture_composition_313', 'Furniture', 'Wardrobe & Display cabinets', '3dsMax 2013 + obj', 'Corona', 'V-Ray', 'None', '2025-01-14', 'Stt.HuynOneShine', 197, 45], attempt: 1\n",
      "Success: [110, '2025-02-03', 'Carpeting. Seamless carpet 3', 'https://3dsky.org/3dmodels/show/carpeting_seamless_carpet_3', 'Materials', 'Miscellaneous', '3dsMax 2015 + fbx', 'Corona', 'V-Ray', 'None', '2025-01-08', 'sofiakholina', 848, 49], attempt: 1\n",
      "Success: [111, '2025-02-03', 'Lema mobile Cloud Sofa 3', 'https://3dsky.org/3dmodels/show/lema_mobile_cloud_sofa_3', 'Furniture', 'Sofa', '3dsMax 2014 + obj', 'Corona', 'V-Ray', 'None', '2025-01-19', 'Theorema3D', 257, 24], attempt: 1\n",
      "Success: [112, '2025-02-03', 'Bticino switches and sockets', 'https://3dsky.org/3dmodels/show/bticino_switch_and_sockets', 'Technology', 'Miscellaneous', '3dsMax 2016 + fbx', 'Corona', 'V-Ray', 'None', '2025-01-20', 'sirous21', 238, 100], attempt: 1\n",
      "Success: [113, '2025-02-03', 'Kit Armstrong ceiling, grilyato', 'https://3dsky.org/3dmodels/show/nabor_dlia_potolka_armstrongh_ghril_iato', 'Other Models', 'Miscellaneous', '3dsMax 2014 + fbx', 'None', 'V-Ray', 'None', '2017-03-21', 'AHTOHUO', 7, 2234], attempt: 1\n",
      "Success: [114, '2025-02-03', 'Lint-free carpet Wool Line', 'https://3dsky.org/3dmodels/show/bezvorsovyi_kover_wool_line', 'Decoration', 'Carpets', '3dsMax 2018 + obj', 'Corona', 'V-Ray', 'None', '2023-12-05', 'cheshuin', 6, 830], attempt: 1\n",
      "Success: [115, '2025-02-03', 'Set for ceilings Grilyato 2', 'https://3dsky.org/3dmodels/show/nabor_dlia_potolkov_griliato_2', 'Decoration', 'Other decorative objects', '3dsMax 2013 + fbx', 'Corona', 'V-Ray', 'None', '2022-11-20', 'solomon5555', 448, 482], attempt: 1\n",
      "Success: [116, '2025-02-03', 'TV Samsung QLED The Frame 4K LS03B', 'https://3dsky.org/3dmodels/show/televizor_samsung_qled_the_frame_4k_ls03b', 'Technology', 'TV', '3dsMax 2016 + obj', 'Corona', 'V-Ray', 'None', '2023-10-27', 'AlexHappy', 1763, 295], attempt: 1\n",
      "Success: [117, '2025-02-03', 'Poplar / Populus deltoides #9', 'https://3dsky.org/3dmodels/show/topol_deltovidnyi_poplar_populus_deltoides_9', 'Plants', 'Tree', '3dsMax 2016 + fbx', 'Corona', 'None', 'None', '2023-10-13', 'Magomed Mirzaev', 385, 316], attempt: 1\n",
      "Success: [118, '2025-02-03', 'Italon STELLARIS Decor FullPack', 'https://3dsky.org/3dmodels/show/italon_stellaris_decor_fullpack', 'Textures', 'Tile', '3dsMax 2016 + obj', 'Corona', 'V-Ray', 'None', '2024-04-03', 'StanisLOVE.viz', 168, 266], attempt: 1\n",
      "Success: [119, '2025-02-03', 'Shoe cabinet with filling for the hallway and wardrobe 002', 'https://3dsky.org/3dmodels/show/obuvnoi_shkaf_s_napolneniem_dlia_prikhozhei_i_garderoba_002_1', 'Furniture', 'Wardrobe & Display cabinets', '3dsMax 2016 + obj', 'Corona', 'None', 'None', '2024-05-16', 'UglyRaccoon', 148, 519], attempt: 1\n",
      "Success: [120, '2025-02-03', 'Wardrobe system Rimadesio Dress Bold', 'https://3dsky.org/3dmodels/show/garderobnaia_sistema_rimadesio_dress_bold', 'Furniture', 'Wardrobe & Display cabinets', '3dsMax 2013 + obj', 'Corona', 'V-Ray', 'None', '2024-06-20', 'restereo', 107, 583], attempt: 1\n"
     ]
    }
   ],
   "source": [
    "# Парсинг топа продаж 3dsky\n",
    "from selenium import webdriver\n",
    "from selenium.webdriver.common.by import By\n",
    "from selenium.webdriver.chrome.service import Service\n",
    "from selenium.webdriver.common.keys import Keys\n",
    "from selenium.webdriver.chrome.options import Options\n",
    "from datetime import datetime\n",
    "import time\n",
    "\n",
    "# Настройка Selenium\n",
    "chrome_options = Options()\n",
    "chrome_options.add_argument(\"--headless\")  # Запуск без интерфейса (опционально)\n",
    "chrome_options.add_argument(\"--disable-gpu\")\n",
    "chrome_options.add_argument(\"--window-size=1920,1080\")\n",
    "chrome_service = Service(\"C:\\\\Users\\\\mi_al\\\\Desktop\\\\chromedriver-win64\\\\chromedriver.exe\")  # Замените на путь к вашему ChromeDriver\n",
    "\n",
    "# Инициализация констант и переменных\n",
    "result = []                                                         # итоговый список\n",
    "maxpage = 2                                                         # сколько страниц топа грузим\n",
    "basic_url = \"https://3dsky.org/3dmodels?order=sell_rating&page=\"    # адрес (без номера страницы)\n",
    "pause_time = 5                                                      # время задержки на загрузку в сек\n",
    "page_size = 60                                                      # число моделей на странице\n",
    "attempts = 3                                                        # число попыток парсинга каждой модели\n",
    "basic_width = 4                                                     # количество параметров модели из топа\n",
    "full_width = 14                                                     # полное число параметров модели\n",
    "url_position = 3                                                    # на каком месте находится параметр url\n",
    "\n",
    "# Формируем список моделей\n",
    "for page in range(maxpage):\n",
    "    # Инициализация браузера\n",
    "    driver = webdriver.Chrome(service=chrome_service, options=chrome_options)\n",
    "    \n",
    "    url = basic_url + str(page + 1)\n",
    "    driver.get(url)\n",
    "\n",
    "    # Небольшая пауза для загрузки контента\n",
    "    time.sleep(pause_time)\n",
    "\n",
    "    # Парсинг данных\n",
    "    try:\n",
    "        # Получаем список моделей с заданной страницы топа\n",
    "        models = driver.find_elements(By.CSS_SELECTOR, \"div.model-title\")\n",
    "\n",
    "        for n, model in enumerate(models, 1):\n",
    "            # Извлечение данных\n",
    "            curdate = str(datetime.now().date())\n",
    "            title = model.find_element(By.TAG_NAME, \"a\").get_attribute(\"title\") if model.find_elements(By.TAG_NAME, \"a\") else \"No title\"\n",
    "            link = model.find_element(By.TAG_NAME, \"a\").get_attribute(\"href\") if model.find_elements(By.TAG_NAME, \"a\") else \"No link\"\n",
    "            #print(f\"Название: {title}, Ссылка: {link}\")\n",
    "            \n",
    "            # Формируем заготовку строки: номер строки, текущая дата, название модели, ссылка              \n",
    "            line_num = page*page_size + n\n",
    "            result.append([line_num, curdate, title, link])\n",
    "\n",
    "    finally:\n",
    "        # Закрытие браузера\n",
    "        driver.quit()\n",
    "\n",
    "# В цикле по списку получаем подробную информацию по каждой модели\n",
    "for model in result:\n",
    "    for attempt in range(attempts):\n",
    "    \n",
    "        # Инициализация браузера\n",
    "        driver = webdriver.Chrome(service=chrome_service, options=chrome_options)\n",
    "        \n",
    "        # Открытие страницы конкретной модели\n",
    "        url = model[url_position]\n",
    "        driver.get(url)\n",
    "        \n",
    "        # Небольшая пауза для загрузки контента\n",
    "        time.sleep(pause_time)\n",
    "        \n",
    "        # Парсинг данных\n",
    "        try:\n",
    "            category = driver.find_elements(By.CSS_SELECTOR, \"body > app-root > app-model > app-base-wide > main > section.container.main-base-container > div.row.white-background > div.col-md-12.model-page-top.ng-tns-c55-0 > div.favourite-and-category.ng-tns-c55-0.ng-star-inserted > div:nth-child(1) > div.category.ng-tns-c55-0 > a > span\")\n",
    "            subcategory = driver.find_elements(By.CSS_SELECTOR, \"body > app-root > app-model > app-base-wide > main > section.container.main-base-container > div.row.white-background > div.col-md-12.model-page-top.ng-tns-c55-0 > div.favourite-and-category.ng-tns-c55-0.ng-star-inserted > div:nth-child(1) > div.subcategory.ng-tns-c55-0 > a > span\")\n",
    "            platform = driver.find_elements(By.CSS_SELECTOR, \"#info-desktop > div.model-info-block.ng-tns-c55-0 > table > tbody > tr:nth-child(1) > td:nth-child(2)\")\n",
    "            renders = driver.find_elements(By.CSS_SELECTOR, \"#info-desktop > div.model-info-block.ng-tns-c55-0 > table > tbody > tr:nth-child(2) > td:nth-child(2) > div\")\n",
    "            published = driver.find_elements(By.CSS_SELECTOR, \"#info-desktop > div.model-info-block.ng-tns-c55-0 > div.publication-date.ng-tns-c55-0.ng-star-inserted\")\n",
    "            username = driver.find_elements(By.CSS_SELECTOR, \"#info-desktop > div:nth-child(1) > div > div > a > div > div > div.model-user-name.ng-tns-c55-0\")\n",
    "            followers = driver.find_elements(By.CSS_SELECTOR, \"#info-desktop > div:nth-child(1) > div > div > a > div > div > div.model-subscribe-count.ng-tns-c55-0.ng-star-inserted\")\n",
    "            selected = driver.find_elements(By.CSS_SELECTOR, \"#info-desktop > div:nth-child(1) > div > div > div:nth-child(3) > div.price-block.ng-tns-c55-0.ng-star-inserted > div.bookmarks-block-wrapper-mobile.ng-tns-c55-0.ng-star-inserted > div > div\")\n",
    "            \n",
    "            # Добавляем полученные данные в строку: категория, подкатегория, платформа, рендер\n",
    "            if category:\n",
    "                model.append(category[0].text)\n",
    "            if subcategory:\n",
    "                model.append(subcategory[0].text)\n",
    "            if platform:\n",
    "                model.append(platform[0].text)\n",
    "            \n",
    "            if renders:\n",
    "                render_text = renders[0].text\n",
    "            if ('Corona' in render_text) and ('V-Ray' in render_text):\n",
    "                model.extend(['Corona','V-Ray','None'])\n",
    "            elif ('Corona' in render_text):\n",
    "                model.extend(['Corona','None','None'])\n",
    "            elif ('V-Ray' in render_text):\n",
    "                model.extend(['None','V-Ray','None'])\n",
    "            elif ('Standard' in render_text):\n",
    "                model.extend(['None','None','Standard'])\n",
    "            else:\n",
    "                model.extend(['None','None','None'])\n",
    "            \n",
    "            if published:\n",
    "                pub_date = \" \".join(str(published[0].text).split(\" \")[1:])\n",
    "                date_object = datetime.strptime(pub_date, \"%d %B %Y\")\n",
    "                formatted_date = date_object.strftime(\"%Y-%m-%d\")\n",
    "                model.append(formatted_date)\n",
    "            if username:\n",
    "                model.append(username[0].text)\n",
    "            if followers:\n",
    "                model.append(int(followers[0].text.split(\" \")[0]))\n",
    "            if selected:\n",
    "                selected_text = driver.execute_script(\"return arguments[0].innerText;\", selected[0])\n",
    "                model.append(int(selected_text.strip()))\n",
    "\n",
    "        finally:\n",
    "            # Закрытие браузера\n",
    "            driver.quit()\n",
    "            \n",
    "        # Проверяем, все ли параметры считались, и если нет, то пробуем ещё несколько раз\n",
    "        if len(model) == full_width:\n",
    "            print(f'Success: {model}, attempt: {attempt+1}')\n",
    "            break\n",
    "        else:\n",
    "            if attempt+1 == attempts:\n",
    "                print(f'Failed: {model}, attempt: {attempt+1}')\n",
    "            else:\n",
    "                print(f'Pending: {model}, attempt: {attempt+1}')\n",
    "                if len(model) > basic_width:\n",
    "                    del model[basic_width:]\n"
   ]
  },
  {
   "cell_type": "markdown",
   "metadata": {},
   "source": [
    "### Запись результатов парсинга в файл"
   ]
  },
  {
   "cell_type": "code",
   "execution_count": 51,
   "metadata": {},
   "outputs": [
    {
     "name": "stdout",
     "output_type": "stream",
     "text": [
      "Данные успешно сохранены в output.xlsx\n"
     ]
    }
   ],
   "source": [
    "# Добавляем результат в конец файла\n",
    "import pandas as pd\n",
    "file_path = \"output.xlsx\"\n",
    "\n",
    "# Чтение данных\n",
    "existing_data = pd.read_excel(file_path)\n",
    "\n",
    "# Преобразование текущих данных DataFrame\n",
    "new_data_df = pd.DataFrame(result[0:], columns=['N','Curdate','Title','Link','Category','Subcategory','Platform','Corona','V-Ray','Standard','Pubdate','Username','Followers','Selected'])\n",
    "\n",
    "# Конкатенация и запись результата в Excel\n",
    "updated_data = pd.concat([existing_data, new_data_df], ignore_index=True)\n",
    "updated_data.to_excel(file_path, index=False)\n",
    "\n",
    "# Выводим результат для контроля\n",
    "print(f\"Данные успешно сохранены в {file_path}\")\n"
   ]
  },
  {
   "cell_type": "code",
   "execution_count": 98,
   "metadata": {},
   "outputs": [
    {
     "name": "stdout",
     "output_type": "stream",
     "text": [
      "Corona\n"
     ]
    }
   ],
   "source": [
    "# Песочница для апробации парсинга конкретного элемента\n",
    "# Настройка Selenium\n",
    "chrome_options = Options()\n",
    "chrome_options.add_argument(\"--headless\")  # Запуск без интерфейса (опционально)\n",
    "chrome_options.add_argument(\"--disable-gpu\")\n",
    "chrome_options.add_argument(\"--window-size=1920,1080\")\n",
    "chrome_service = Service(\"C:\\\\Users\\\\mi_al\\\\Desktop\\\\chromedriver-win64\\\\chromedriver.exe\")  # Замените на путь к вашему ChromeDriver\n",
    "\n",
    "# Инициализация браузера\n",
    "driver = webdriver.Chrome(service=chrome_service, options=chrome_options)\n",
    "\n",
    "# Открытие сайта\n",
    "url = \"https://3dsky.org/3dmodels/show/kerns_tumba_divan_ru\"\n",
    "driver.get(url)\n",
    "\n",
    "# Небольшая пауза для загрузки контента\n",
    "time.sleep(5)  # Настройте задержку в зависимости от скорости интернета\n",
    "\n",
    "# Парсинг данных\n",
    "try:\n",
    "    # Пример: Найти все элементы с моделями (настройте селектор под сайт)\n",
    "    models = driver.find_elements(By.CSS_SELECTOR, \"#info-desktop > div.model-info-block.ng-tns-c55-0 > table > tbody > tr:nth-child(2) > td:nth-child(2) > div > div\")\n",
    "    print(models[1].text)\n",
    "    \n",
    "\n",
    "   \n",
    "    #published = str(models[0].text)\n",
    "\n",
    "finally:\n",
    "    # Закрытие браузера\n",
    "    driver.quit()"
   ]
  },
  {
   "cell_type": "markdown",
   "metadata": {},
   "source": [
    "## Анализ текущего топа\n",
    "В этом разделе анализируется только топ одного дня, без чтения данных из файла. Для анализа всего топа — см. 3ddd_analysis.ipynb."
   ]
  },
  {
   "cell_type": "code",
   "execution_count": 14,
   "metadata": {},
   "outputs": [
    {
     "data": {
      "text/html": [
       "<div>\n",
       "<style scoped>\n",
       "    .dataframe tbody tr th:only-of-type {\n",
       "        vertical-align: middle;\n",
       "    }\n",
       "\n",
       "    .dataframe tbody tr th {\n",
       "        vertical-align: top;\n",
       "    }\n",
       "\n",
       "    .dataframe thead th {\n",
       "        text-align: right;\n",
       "    }\n",
       "</style>\n",
       "<table border=\"1\" class=\"dataframe\">\n",
       "  <thead>\n",
       "    <tr style=\"text-align: right;\">\n",
       "      <th></th>\n",
       "      <th>N</th>\n",
       "      <th>Curdate</th>\n",
       "      <th>Title</th>\n",
       "      <th>Link</th>\n",
       "      <th>Category</th>\n",
       "      <th>Subcategory</th>\n",
       "      <th>Platform</th>\n",
       "      <th>Corona</th>\n",
       "      <th>V-Ray</th>\n",
       "      <th>Standard</th>\n",
       "      <th>Pubdate</th>\n",
       "      <th>Username</th>\n",
       "      <th>Followers</th>\n",
       "      <th>Selected</th>\n",
       "      <th>Duration</th>\n",
       "    </tr>\n",
       "  </thead>\n",
       "  <tbody>\n",
       "    <tr>\n",
       "      <th>0</th>\n",
       "      <td>1</td>\n",
       "      <td>2025-01-31</td>\n",
       "      <td>Benuta Leon Cream Wool Rug</td>\n",
       "      <td>https://3dsky.org/3dmodels/show/benuta_leon_cr...</td>\n",
       "      <td>Decoration</td>\n",
       "      <td>Carpets</td>\n",
       "      <td>3dsMax 2015 + obj</td>\n",
       "      <td>Corona</td>\n",
       "      <td>None</td>\n",
       "      <td>None</td>\n",
       "      <td>2024-11-03</td>\n",
       "      <td>3Dmitruk</td>\n",
       "      <td>352</td>\n",
       "      <td>443.0</td>\n",
       "      <td>89</td>\n",
       "    </tr>\n",
       "    <tr>\n",
       "      <th>1</th>\n",
       "      <td>2</td>\n",
       "      <td>2025-01-31</td>\n",
       "      <td>A set of clothes and accessories to fill a war...</td>\n",
       "      <td>https://3dsky.org/3dmodels/show/a_set_of_cloth...</td>\n",
       "      <td>Decoration</td>\n",
       "      <td>Clothes</td>\n",
       "      <td>3dsMax 2015 + fbx</td>\n",
       "      <td>Corona</td>\n",
       "      <td>V-Ray</td>\n",
       "      <td>None</td>\n",
       "      <td>2024-11-23</td>\n",
       "      <td>sofiakholina</td>\n",
       "      <td>843</td>\n",
       "      <td>234.0</td>\n",
       "      <td>69</td>\n",
       "    </tr>\n",
       "    <tr>\n",
       "      <th>2</th>\n",
       "      <td>3</td>\n",
       "      <td>2025-01-31</td>\n",
       "      <td>Cairns pedestal Divan.ru</td>\n",
       "      <td>https://3dsky.org/3dmodels/show/kerns_tumba_di...</td>\n",
       "      <td>Furniture</td>\n",
       "      <td>Sideboard &amp; Chest of drawer</td>\n",
       "      <td>3dsMax 2016 + obj</td>\n",
       "      <td>Corona</td>\n",
       "      <td>V-Ray</td>\n",
       "      <td>None</td>\n",
       "      <td>2024-11-05</td>\n",
       "      <td>niga2323</td>\n",
       "      <td>811</td>\n",
       "      <td>181.0</td>\n",
       "      <td>87</td>\n",
       "    </tr>\n",
       "    <tr>\n",
       "      <th>3</th>\n",
       "      <td>4</td>\n",
       "      <td>2025-01-31</td>\n",
       "      <td>Boheme Uno collection</td>\n",
       "      <td>https://3dsky.org/3dmodels/show/boheme_uno_col...</td>\n",
       "      <td>Bathroom</td>\n",
       "      <td>Faucet</td>\n",
       "      <td>3dsMax 2015 + obj</td>\n",
       "      <td>Corona</td>\n",
       "      <td>V-Ray</td>\n",
       "      <td>None</td>\n",
       "      <td>2025-01-07</td>\n",
       "      <td>sarabale</td>\n",
       "      <td>3</td>\n",
       "      <td>36.0</td>\n",
       "      <td>24</td>\n",
       "    </tr>\n",
       "    <tr>\n",
       "      <th>4</th>\n",
       "      <td>5</td>\n",
       "      <td>2025-01-31</td>\n",
       "      <td>curtains with piping</td>\n",
       "      <td>https://3dsky.org/3dmodels/show/shtory_s_kantom</td>\n",
       "      <td>Decoration</td>\n",
       "      <td>Curtain</td>\n",
       "      <td>3dsMax 2018 + fbx</td>\n",
       "      <td>Corona</td>\n",
       "      <td>None</td>\n",
       "      <td>None</td>\n",
       "      <td>2025-01-14</td>\n",
       "      <td>бойко75</td>\n",
       "      <td>21</td>\n",
       "      <td>111.0</td>\n",
       "      <td>17</td>\n",
       "    </tr>\n",
       "  </tbody>\n",
       "</table>\n",
       "</div>"
      ],
      "text/plain": [
       "   N     Curdate                                              Title  \\\n",
       "0  1  2025-01-31                         Benuta Leon Cream Wool Rug   \n",
       "1  2  2025-01-31  A set of clothes and accessories to fill a war...   \n",
       "2  3  2025-01-31                           Cairns pedestal Divan.ru   \n",
       "3  4  2025-01-31                              Boheme Uno collection   \n",
       "4  5  2025-01-31                               curtains with piping   \n",
       "\n",
       "                                                Link    Category  \\\n",
       "0  https://3dsky.org/3dmodels/show/benuta_leon_cr...  Decoration   \n",
       "1  https://3dsky.org/3dmodels/show/a_set_of_cloth...  Decoration   \n",
       "2  https://3dsky.org/3dmodels/show/kerns_tumba_di...   Furniture   \n",
       "3  https://3dsky.org/3dmodels/show/boheme_uno_col...    Bathroom   \n",
       "4    https://3dsky.org/3dmodels/show/shtory_s_kantom  Decoration   \n",
       "\n",
       "                   Subcategory           Platform  Corona  V-Ray Standard  \\\n",
       "0                      Carpets  3dsMax 2015 + obj  Corona   None     None   \n",
       "1                      Clothes  3dsMax 2015 + fbx  Corona  V-Ray     None   \n",
       "2  Sideboard & Chest of drawer  3dsMax 2016 + obj  Corona  V-Ray     None   \n",
       "3                       Faucet  3dsMax 2015 + obj  Corona  V-Ray     None   \n",
       "4                      Curtain  3dsMax 2018 + fbx  Corona   None     None   \n",
       "\n",
       "     Pubdate      Username  Followers  Selected  Duration  \n",
       "0 2024-11-03      3Dmitruk        352     443.0        89  \n",
       "1 2024-11-23  sofiakholina        843     234.0        69  \n",
       "2 2024-11-05      niga2323        811     181.0        87  \n",
       "3 2025-01-07      sarabale          3      36.0        24  \n",
       "4 2025-01-14       бойко75         21     111.0        17  "
      ]
     },
     "metadata": {},
     "output_type": "display_data"
    }
   ],
   "source": [
    "# Анализ текущего топа (без чтения из файла)\n",
    "import pandas as pd\n",
    "import plotly.express as px\n",
    "\n",
    "result_vis = pd.DataFrame(result, columns=['N','Curdate','Title','Link','Category','Subcategory','Platform','Corona','V-Ray','Standard','Pubdate','Username','Followers','Selected'])\n",
    "result_vis['Pubdate'] = pd.to_datetime(result_vis['Pubdate'])\n",
    "#result_vis.drop('N', axis=1, inplace=True)\n",
    "\n",
    "current_date = datetime.now()\n",
    "result_vis['Duration'] = (current_date - result_vis['Pubdate']).dt.days\n",
    "\n",
    "display(result_vis.head())"
   ]
  },
  {
   "cell_type": "code",
   "execution_count": 15,
   "metadata": {},
   "outputs": [
    {
     "data": {
      "application/vnd.plotly.v1+json": {
       "config": {
        "plotlyServerURL": "https://plot.ly"
       },
       "data": [
        {
         "alignmentgroup": "True",
         "hovertemplate": "Category=%{x}<br>Count=%{y}<extra></extra>",
         "legendgroup": "",
         "marker": {
          "color": "#636efa",
          "pattern": {
           "shape": ""
          }
         },
         "name": "",
         "offsetgroup": "",
         "orientation": "v",
         "showlegend": false,
         "textposition": "auto",
         "type": "bar",
         "x": [
          "Furniture",
          "Decoration",
          "Bathroom",
          "Other Models",
          "Kitchen",
          "Technology",
          "Plants",
          "Textures",
          "Childroom",
          "Materials",
          "Lighting",
          "Scripts"
         ],
         "xaxis": "x",
         "y": [
          27,
          26,
          12,
          11,
          9,
          8,
          7,
          7,
          5,
          4,
          3,
          1
         ],
         "yaxis": "y"
        }
       ],
       "layout": {
        "barmode": "relative",
        "legend": {
         "tracegroupgap": 0
        },
        "template": {
         "data": {
          "bar": [
           {
            "error_x": {
             "color": "#2a3f5f"
            },
            "error_y": {
             "color": "#2a3f5f"
            },
            "marker": {
             "line": {
              "color": "#E5ECF6",
              "width": 0.5
             },
             "pattern": {
              "fillmode": "overlay",
              "size": 10,
              "solidity": 0.2
             }
            },
            "type": "bar"
           }
          ],
          "barpolar": [
           {
            "marker": {
             "line": {
              "color": "#E5ECF6",
              "width": 0.5
             },
             "pattern": {
              "fillmode": "overlay",
              "size": 10,
              "solidity": 0.2
             }
            },
            "type": "barpolar"
           }
          ],
          "carpet": [
           {
            "aaxis": {
             "endlinecolor": "#2a3f5f",
             "gridcolor": "white",
             "linecolor": "white",
             "minorgridcolor": "white",
             "startlinecolor": "#2a3f5f"
            },
            "baxis": {
             "endlinecolor": "#2a3f5f",
             "gridcolor": "white",
             "linecolor": "white",
             "minorgridcolor": "white",
             "startlinecolor": "#2a3f5f"
            },
            "type": "carpet"
           }
          ],
          "choropleth": [
           {
            "colorbar": {
             "outlinewidth": 0,
             "ticks": ""
            },
            "type": "choropleth"
           }
          ],
          "contour": [
           {
            "colorbar": {
             "outlinewidth": 0,
             "ticks": ""
            },
            "colorscale": [
             [
              0,
              "#0d0887"
             ],
             [
              0.1111111111111111,
              "#46039f"
             ],
             [
              0.2222222222222222,
              "#7201a8"
             ],
             [
              0.3333333333333333,
              "#9c179e"
             ],
             [
              0.4444444444444444,
              "#bd3786"
             ],
             [
              0.5555555555555556,
              "#d8576b"
             ],
             [
              0.6666666666666666,
              "#ed7953"
             ],
             [
              0.7777777777777778,
              "#fb9f3a"
             ],
             [
              0.8888888888888888,
              "#fdca26"
             ],
             [
              1,
              "#f0f921"
             ]
            ],
            "type": "contour"
           }
          ],
          "contourcarpet": [
           {
            "colorbar": {
             "outlinewidth": 0,
             "ticks": ""
            },
            "type": "contourcarpet"
           }
          ],
          "heatmap": [
           {
            "colorbar": {
             "outlinewidth": 0,
             "ticks": ""
            },
            "colorscale": [
             [
              0,
              "#0d0887"
             ],
             [
              0.1111111111111111,
              "#46039f"
             ],
             [
              0.2222222222222222,
              "#7201a8"
             ],
             [
              0.3333333333333333,
              "#9c179e"
             ],
             [
              0.4444444444444444,
              "#bd3786"
             ],
             [
              0.5555555555555556,
              "#d8576b"
             ],
             [
              0.6666666666666666,
              "#ed7953"
             ],
             [
              0.7777777777777778,
              "#fb9f3a"
             ],
             [
              0.8888888888888888,
              "#fdca26"
             ],
             [
              1,
              "#f0f921"
             ]
            ],
            "type": "heatmap"
           }
          ],
          "heatmapgl": [
           {
            "colorbar": {
             "outlinewidth": 0,
             "ticks": ""
            },
            "colorscale": [
             [
              0,
              "#0d0887"
             ],
             [
              0.1111111111111111,
              "#46039f"
             ],
             [
              0.2222222222222222,
              "#7201a8"
             ],
             [
              0.3333333333333333,
              "#9c179e"
             ],
             [
              0.4444444444444444,
              "#bd3786"
             ],
             [
              0.5555555555555556,
              "#d8576b"
             ],
             [
              0.6666666666666666,
              "#ed7953"
             ],
             [
              0.7777777777777778,
              "#fb9f3a"
             ],
             [
              0.8888888888888888,
              "#fdca26"
             ],
             [
              1,
              "#f0f921"
             ]
            ],
            "type": "heatmapgl"
           }
          ],
          "histogram": [
           {
            "marker": {
             "pattern": {
              "fillmode": "overlay",
              "size": 10,
              "solidity": 0.2
             }
            },
            "type": "histogram"
           }
          ],
          "histogram2d": [
           {
            "colorbar": {
             "outlinewidth": 0,
             "ticks": ""
            },
            "colorscale": [
             [
              0,
              "#0d0887"
             ],
             [
              0.1111111111111111,
              "#46039f"
             ],
             [
              0.2222222222222222,
              "#7201a8"
             ],
             [
              0.3333333333333333,
              "#9c179e"
             ],
             [
              0.4444444444444444,
              "#bd3786"
             ],
             [
              0.5555555555555556,
              "#d8576b"
             ],
             [
              0.6666666666666666,
              "#ed7953"
             ],
             [
              0.7777777777777778,
              "#fb9f3a"
             ],
             [
              0.8888888888888888,
              "#fdca26"
             ],
             [
              1,
              "#f0f921"
             ]
            ],
            "type": "histogram2d"
           }
          ],
          "histogram2dcontour": [
           {
            "colorbar": {
             "outlinewidth": 0,
             "ticks": ""
            },
            "colorscale": [
             [
              0,
              "#0d0887"
             ],
             [
              0.1111111111111111,
              "#46039f"
             ],
             [
              0.2222222222222222,
              "#7201a8"
             ],
             [
              0.3333333333333333,
              "#9c179e"
             ],
             [
              0.4444444444444444,
              "#bd3786"
             ],
             [
              0.5555555555555556,
              "#d8576b"
             ],
             [
              0.6666666666666666,
              "#ed7953"
             ],
             [
              0.7777777777777778,
              "#fb9f3a"
             ],
             [
              0.8888888888888888,
              "#fdca26"
             ],
             [
              1,
              "#f0f921"
             ]
            ],
            "type": "histogram2dcontour"
           }
          ],
          "mesh3d": [
           {
            "colorbar": {
             "outlinewidth": 0,
             "ticks": ""
            },
            "type": "mesh3d"
           }
          ],
          "parcoords": [
           {
            "line": {
             "colorbar": {
              "outlinewidth": 0,
              "ticks": ""
             }
            },
            "type": "parcoords"
           }
          ],
          "pie": [
           {
            "automargin": true,
            "type": "pie"
           }
          ],
          "scatter": [
           {
            "fillpattern": {
             "fillmode": "overlay",
             "size": 10,
             "solidity": 0.2
            },
            "type": "scatter"
           }
          ],
          "scatter3d": [
           {
            "line": {
             "colorbar": {
              "outlinewidth": 0,
              "ticks": ""
             }
            },
            "marker": {
             "colorbar": {
              "outlinewidth": 0,
              "ticks": ""
             }
            },
            "type": "scatter3d"
           }
          ],
          "scattercarpet": [
           {
            "marker": {
             "colorbar": {
              "outlinewidth": 0,
              "ticks": ""
             }
            },
            "type": "scattercarpet"
           }
          ],
          "scattergeo": [
           {
            "marker": {
             "colorbar": {
              "outlinewidth": 0,
              "ticks": ""
             }
            },
            "type": "scattergeo"
           }
          ],
          "scattergl": [
           {
            "marker": {
             "colorbar": {
              "outlinewidth": 0,
              "ticks": ""
             }
            },
            "type": "scattergl"
           }
          ],
          "scattermapbox": [
           {
            "marker": {
             "colorbar": {
              "outlinewidth": 0,
              "ticks": ""
             }
            },
            "type": "scattermapbox"
           }
          ],
          "scatterpolar": [
           {
            "marker": {
             "colorbar": {
              "outlinewidth": 0,
              "ticks": ""
             }
            },
            "type": "scatterpolar"
           }
          ],
          "scatterpolargl": [
           {
            "marker": {
             "colorbar": {
              "outlinewidth": 0,
              "ticks": ""
             }
            },
            "type": "scatterpolargl"
           }
          ],
          "scatterternary": [
           {
            "marker": {
             "colorbar": {
              "outlinewidth": 0,
              "ticks": ""
             }
            },
            "type": "scatterternary"
           }
          ],
          "surface": [
           {
            "colorbar": {
             "outlinewidth": 0,
             "ticks": ""
            },
            "colorscale": [
             [
              0,
              "#0d0887"
             ],
             [
              0.1111111111111111,
              "#46039f"
             ],
             [
              0.2222222222222222,
              "#7201a8"
             ],
             [
              0.3333333333333333,
              "#9c179e"
             ],
             [
              0.4444444444444444,
              "#bd3786"
             ],
             [
              0.5555555555555556,
              "#d8576b"
             ],
             [
              0.6666666666666666,
              "#ed7953"
             ],
             [
              0.7777777777777778,
              "#fb9f3a"
             ],
             [
              0.8888888888888888,
              "#fdca26"
             ],
             [
              1,
              "#f0f921"
             ]
            ],
            "type": "surface"
           }
          ],
          "table": [
           {
            "cells": {
             "fill": {
              "color": "#EBF0F8"
             },
             "line": {
              "color": "white"
             }
            },
            "header": {
             "fill": {
              "color": "#C8D4E3"
             },
             "line": {
              "color": "white"
             }
            },
            "type": "table"
           }
          ]
         },
         "layout": {
          "annotationdefaults": {
           "arrowcolor": "#2a3f5f",
           "arrowhead": 0,
           "arrowwidth": 1
          },
          "autotypenumbers": "strict",
          "coloraxis": {
           "colorbar": {
            "outlinewidth": 0,
            "ticks": ""
           }
          },
          "colorscale": {
           "diverging": [
            [
             0,
             "#8e0152"
            ],
            [
             0.1,
             "#c51b7d"
            ],
            [
             0.2,
             "#de77ae"
            ],
            [
             0.3,
             "#f1b6da"
            ],
            [
             0.4,
             "#fde0ef"
            ],
            [
             0.5,
             "#f7f7f7"
            ],
            [
             0.6,
             "#e6f5d0"
            ],
            [
             0.7,
             "#b8e186"
            ],
            [
             0.8,
             "#7fbc41"
            ],
            [
             0.9,
             "#4d9221"
            ],
            [
             1,
             "#276419"
            ]
           ],
           "sequential": [
            [
             0,
             "#0d0887"
            ],
            [
             0.1111111111111111,
             "#46039f"
            ],
            [
             0.2222222222222222,
             "#7201a8"
            ],
            [
             0.3333333333333333,
             "#9c179e"
            ],
            [
             0.4444444444444444,
             "#bd3786"
            ],
            [
             0.5555555555555556,
             "#d8576b"
            ],
            [
             0.6666666666666666,
             "#ed7953"
            ],
            [
             0.7777777777777778,
             "#fb9f3a"
            ],
            [
             0.8888888888888888,
             "#fdca26"
            ],
            [
             1,
             "#f0f921"
            ]
           ],
           "sequentialminus": [
            [
             0,
             "#0d0887"
            ],
            [
             0.1111111111111111,
             "#46039f"
            ],
            [
             0.2222222222222222,
             "#7201a8"
            ],
            [
             0.3333333333333333,
             "#9c179e"
            ],
            [
             0.4444444444444444,
             "#bd3786"
            ],
            [
             0.5555555555555556,
             "#d8576b"
            ],
            [
             0.6666666666666666,
             "#ed7953"
            ],
            [
             0.7777777777777778,
             "#fb9f3a"
            ],
            [
             0.8888888888888888,
             "#fdca26"
            ],
            [
             1,
             "#f0f921"
            ]
           ]
          },
          "colorway": [
           "#636efa",
           "#EF553B",
           "#00cc96",
           "#ab63fa",
           "#FFA15A",
           "#19d3f3",
           "#FF6692",
           "#B6E880",
           "#FF97FF",
           "#FECB52"
          ],
          "font": {
           "color": "#2a3f5f"
          },
          "geo": {
           "bgcolor": "white",
           "lakecolor": "white",
           "landcolor": "#E5ECF6",
           "showlakes": true,
           "showland": true,
           "subunitcolor": "white"
          },
          "hoverlabel": {
           "align": "left"
          },
          "hovermode": "closest",
          "mapbox": {
           "style": "light"
          },
          "paper_bgcolor": "white",
          "plot_bgcolor": "#E5ECF6",
          "polar": {
           "angularaxis": {
            "gridcolor": "white",
            "linecolor": "white",
            "ticks": ""
           },
           "bgcolor": "#E5ECF6",
           "radialaxis": {
            "gridcolor": "white",
            "linecolor": "white",
            "ticks": ""
           }
          },
          "scene": {
           "xaxis": {
            "backgroundcolor": "#E5ECF6",
            "gridcolor": "white",
            "gridwidth": 2,
            "linecolor": "white",
            "showbackground": true,
            "ticks": "",
            "zerolinecolor": "white"
           },
           "yaxis": {
            "backgroundcolor": "#E5ECF6",
            "gridcolor": "white",
            "gridwidth": 2,
            "linecolor": "white",
            "showbackground": true,
            "ticks": "",
            "zerolinecolor": "white"
           },
           "zaxis": {
            "backgroundcolor": "#E5ECF6",
            "gridcolor": "white",
            "gridwidth": 2,
            "linecolor": "white",
            "showbackground": true,
            "ticks": "",
            "zerolinecolor": "white"
           }
          },
          "shapedefaults": {
           "line": {
            "color": "#2a3f5f"
           }
          },
          "ternary": {
           "aaxis": {
            "gridcolor": "white",
            "linecolor": "white",
            "ticks": ""
           },
           "baxis": {
            "gridcolor": "white",
            "linecolor": "white",
            "ticks": ""
           },
           "bgcolor": "#E5ECF6",
           "caxis": {
            "gridcolor": "white",
            "linecolor": "white",
            "ticks": ""
           }
          },
          "title": {
           "x": 0.05
          },
          "xaxis": {
           "automargin": true,
           "gridcolor": "white",
           "linecolor": "white",
           "ticks": "",
           "title": {
            "standoff": 15
           },
           "zerolinecolor": "white",
           "zerolinewidth": 2
          },
          "yaxis": {
           "automargin": true,
           "gridcolor": "white",
           "linecolor": "white",
           "ticks": "",
           "title": {
            "standoff": 15
           },
           "zerolinecolor": "white",
           "zerolinewidth": 2
          }
         }
        },
        "title": {
         "text": "Top 120 Count by Category"
        },
        "xaxis": {
         "anchor": "y",
         "domain": [
          0,
          1
         ],
         "title": {
          "text": "Category"
         }
        },
        "yaxis": {
         "anchor": "x",
         "domain": [
          0,
          1
         ],
         "title": {
          "text": "Count"
         }
        }
       }
      }
     },
     "metadata": {},
     "output_type": "display_data"
    }
   ],
   "source": [
    "result_grouped_cat = result_vis.groupby(by=['Category'], as_index=False).size()\n",
    "result_grouped_cat.columns = ['Category', 'Count']\n",
    "result_grouped_sort = result_grouped_cat.sort_values(by='Count', ascending=False) # type: ignore\n",
    "\n",
    "fig1 = px.bar(result_grouped_sort, x='Category', y='Count', title='Top 120 Count by Category')\n",
    "fig1.show()"
   ]
  },
  {
   "cell_type": "code",
   "execution_count": 16,
   "metadata": {},
   "outputs": [
    {
     "name": "stderr",
     "output_type": "stream",
     "text": [
      "c:\\Users\\mi_al\\AppData\\Local\\Programs\\Python\\Python39\\lib\\site-packages\\plotly\\express\\_core.py:1985: FutureWarning:\n",
      "\n",
      "When grouping with a length-1 list-like, you will need to pass a length-1 tuple to get_group in a future version of pandas. Pass `(name,)` instead of `name` to silence this warning.\n",
      "\n"
     ]
    },
    {
     "data": {
      "application/vnd.plotly.v1+json": {
       "config": {
        "plotlyServerURL": "https://plot.ly"
       },
       "data": [
        {
         "alignmentgroup": "True",
         "hovertemplate": "Category=Bathroom<br>Subcategory=%{x}<br>Count=%{y}<extra></extra>",
         "legendgroup": "Bathroom",
         "marker": {
          "color": "#636efa",
          "pattern": {
           "shape": ""
          }
         },
         "name": "Bathroom",
         "offsetgroup": "Bathroom",
         "orientation": "v",
         "showlegend": true,
         "textposition": "auto",
         "type": "bar",
         "x": [
          "Bathroom accessories",
          "Bathroom furniture",
          "Faucet",
          "Shower"
         ],
         "xaxis": "x",
         "y": [
          7,
          3,
          1,
          1
         ],
         "yaxis": "y"
        },
        {
         "alignmentgroup": "True",
         "hovertemplate": "Category=Decoration<br>Subcategory=%{x}<br>Count=%{y}<extra></extra>",
         "legendgroup": "Decoration",
         "marker": {
          "color": "#EF553B",
          "pattern": {
           "shape": ""
          }
         },
         "name": "Decoration",
         "offsetgroup": "Decoration",
         "orientation": "v",
         "showlegend": true,
         "textposition": "auto",
         "type": "bar",
         "x": [
          "Decorative set",
          "Carpets",
          "Curtain",
          "Clothes",
          "Other decorative objects"
         ],
         "xaxis": "x",
         "y": [
          7,
          6,
          6,
          4,
          3
         ],
         "yaxis": "y"
        },
        {
         "alignmentgroup": "True",
         "hovertemplate": "Category=Furniture<br>Subcategory=%{x}<br>Count=%{y}<extra></extra>",
         "legendgroup": "Furniture",
         "marker": {
          "color": "#00cc96",
          "pattern": {
           "shape": ""
          }
         },
         "name": "Furniture",
         "offsetgroup": "Furniture",
         "orientation": "v",
         "showlegend": true,
         "textposition": "auto",
         "type": "bar",
         "x": [
          "Wardrobe & Display cabinets",
          "Sofa",
          "Table",
          "Chair",
          "Table + Chair",
          "Arm chair",
          "Office furniture",
          "Other",
          "Rack",
          "Sideboard & Chest of drawer",
          "Bed",
          "Hallway",
          "TV Wall"
         ],
         "xaxis": "x",
         "y": [
          7,
          3,
          3,
          2,
          2,
          2,
          2,
          1,
          1,
          1,
          1,
          1,
          1
         ],
         "yaxis": "y"
        },
        {
         "alignmentgroup": "True",
         "hovertemplate": "Category=Other Models<br>Subcategory=%{x}<br>Count=%{y}<extra></extra>",
         "legendgroup": "Other Models",
         "marker": {
          "color": "#ab63fa",
          "pattern": {
           "shape": ""
          }
         },
         "name": "Other Models",
         "offsetgroup": "Other Models",
         "orientation": "v",
         "showlegend": true,
         "textposition": "auto",
         "type": "bar",
         "x": [
          "Miscellaneous",
          "Sports",
          "Restaurant",
          "Windows",
          "Shop",
          "Doors"
         ],
         "xaxis": "x",
         "y": [
          4,
          2,
          2,
          1,
          1,
          1
         ],
         "yaxis": "y"
        },
        {
         "alignmentgroup": "True",
         "hovertemplate": "Category=Textures<br>Subcategory=%{x}<br>Count=%{y}<extra></extra>",
         "legendgroup": "Textures",
         "marker": {
          "color": "#FFA15A",
          "pattern": {
           "shape": ""
          }
         },
         "name": "Textures",
         "offsetgroup": "Textures",
         "orientation": "v",
         "showlegend": true,
         "textposition": "auto",
         "type": "bar",
         "x": [
          "Tile",
          "Wood",
          "Wall covering",
          "Floor coverings"
         ],
         "xaxis": "x",
         "y": [
          3,
          2,
          1,
          1
         ],
         "yaxis": "y"
        },
        {
         "alignmentgroup": "True",
         "hovertemplate": "Category=Technology<br>Subcategory=%{x}<br>Count=%{y}<extra></extra>",
         "legendgroup": "Technology",
         "marker": {
          "color": "#19d3f3",
          "pattern": {
           "shape": ""
          }
         },
         "name": "Technology",
         "offsetgroup": "Technology",
         "orientation": "v",
         "showlegend": true,
         "textposition": "auto",
         "type": "bar",
         "x": [
          "PC & other electronics",
          "Miscellaneous",
          "Household appliance",
          "TV"
         ],
         "xaxis": "x",
         "y": [
          3,
          2,
          2,
          1
         ],
         "yaxis": "y"
        },
        {
         "alignmentgroup": "True",
         "hovertemplate": "Category=Plants<br>Subcategory=%{x}<br>Count=%{y}<extra></extra>",
         "legendgroup": "Plants",
         "marker": {
          "color": "#FF6692",
          "pattern": {
           "shape": ""
          }
         },
         "name": "Plants",
         "offsetgroup": "Plants",
         "orientation": "v",
         "showlegend": true,
         "textposition": "auto",
         "type": "bar",
         "x": [
          "Indoor",
          "Tree",
          "Outdoor",
          "Bouquet",
          "Grass"
         ],
         "xaxis": "x",
         "y": [
          3,
          1,
          1,
          1,
          1
         ],
         "yaxis": "y"
        },
        {
         "alignmentgroup": "True",
         "hovertemplate": "Category=Lighting<br>Subcategory=%{x}<br>Count=%{y}<extra></extra>",
         "legendgroup": "Lighting",
         "marker": {
          "color": "#B6E880",
          "pattern": {
           "shape": ""
          }
         },
         "name": "Lighting",
         "offsetgroup": "Lighting",
         "orientation": "v",
         "showlegend": true,
         "textposition": "auto",
         "type": "bar",
         "x": [
          "Pendant light"
         ],
         "xaxis": "x",
         "y": [
          3
         ],
         "yaxis": "y"
        },
        {
         "alignmentgroup": "True",
         "hovertemplate": "Category=Kitchen<br>Subcategory=%{x}<br>Count=%{y}<extra></extra>",
         "legendgroup": "Kitchen",
         "marker": {
          "color": "#FF97FF",
          "pattern": {
           "shape": ""
          }
         },
         "name": "Kitchen",
         "offsetgroup": "Kitchen",
         "orientation": "v",
         "showlegend": true,
         "textposition": "auto",
         "type": "bar",
         "x": [
          "Kitchen",
          "Food and drinks",
          "Tableware",
          "Kitchen appliance",
          "Sink"
         ],
         "xaxis": "x",
         "y": [
          3,
          2,
          2,
          1,
          1
         ],
         "yaxis": "y"
        },
        {
         "alignmentgroup": "True",
         "hovertemplate": "Category=Childroom<br>Subcategory=%{x}<br>Count=%{y}<extra></extra>",
         "legendgroup": "Childroom",
         "marker": {
          "color": "#FECB52",
          "pattern": {
           "shape": ""
          }
         },
         "name": "Childroom",
         "offsetgroup": "Childroom",
         "orientation": "v",
         "showlegend": true,
         "textposition": "auto",
         "type": "bar",
         "x": [
          "Miscellaneous",
          "Wardrobe",
          "Bed",
          "Toy"
         ],
         "xaxis": "x",
         "y": [
          2,
          1,
          1,
          1
         ],
         "yaxis": "y"
        },
        {
         "alignmentgroup": "True",
         "hovertemplate": "Category=Materials<br>Subcategory=%{x}<br>Count=%{y}<extra></extra>",
         "legendgroup": "Materials",
         "marker": {
          "color": "#636efa",
          "pattern": {
           "shape": ""
          }
         },
         "name": "Materials",
         "offsetgroup": "Materials",
         "orientation": "v",
         "showlegend": true,
         "textposition": "auto",
         "type": "bar",
         "x": [
          "Tile",
          "Miscellaneous"
         ],
         "xaxis": "x",
         "y": [
          2,
          2
         ],
         "yaxis": "y"
        },
        {
         "alignmentgroup": "True",
         "hovertemplate": "Category=Scripts<br>Subcategory=%{x}<br>Count=%{y}<extra></extra>",
         "legendgroup": "Scripts",
         "marker": {
          "color": "#EF553B",
          "pattern": {
           "shape": ""
          }
         },
         "name": "Scripts",
         "offsetgroup": "Scripts",
         "orientation": "v",
         "showlegend": true,
         "textposition": "auto",
         "type": "bar",
         "x": [
          "Scripts"
         ],
         "xaxis": "x",
         "y": [
          1
         ],
         "yaxis": "y"
        }
       ],
       "layout": {
        "barmode": "relative",
        "legend": {
         "title": {
          "text": "Category"
         },
         "tracegroupgap": 0
        },
        "template": {
         "data": {
          "bar": [
           {
            "error_x": {
             "color": "#2a3f5f"
            },
            "error_y": {
             "color": "#2a3f5f"
            },
            "marker": {
             "line": {
              "color": "#E5ECF6",
              "width": 0.5
             },
             "pattern": {
              "fillmode": "overlay",
              "size": 10,
              "solidity": 0.2
             }
            },
            "type": "bar"
           }
          ],
          "barpolar": [
           {
            "marker": {
             "line": {
              "color": "#E5ECF6",
              "width": 0.5
             },
             "pattern": {
              "fillmode": "overlay",
              "size": 10,
              "solidity": 0.2
             }
            },
            "type": "barpolar"
           }
          ],
          "carpet": [
           {
            "aaxis": {
             "endlinecolor": "#2a3f5f",
             "gridcolor": "white",
             "linecolor": "white",
             "minorgridcolor": "white",
             "startlinecolor": "#2a3f5f"
            },
            "baxis": {
             "endlinecolor": "#2a3f5f",
             "gridcolor": "white",
             "linecolor": "white",
             "minorgridcolor": "white",
             "startlinecolor": "#2a3f5f"
            },
            "type": "carpet"
           }
          ],
          "choropleth": [
           {
            "colorbar": {
             "outlinewidth": 0,
             "ticks": ""
            },
            "type": "choropleth"
           }
          ],
          "contour": [
           {
            "colorbar": {
             "outlinewidth": 0,
             "ticks": ""
            },
            "colorscale": [
             [
              0,
              "#0d0887"
             ],
             [
              0.1111111111111111,
              "#46039f"
             ],
             [
              0.2222222222222222,
              "#7201a8"
             ],
             [
              0.3333333333333333,
              "#9c179e"
             ],
             [
              0.4444444444444444,
              "#bd3786"
             ],
             [
              0.5555555555555556,
              "#d8576b"
             ],
             [
              0.6666666666666666,
              "#ed7953"
             ],
             [
              0.7777777777777778,
              "#fb9f3a"
             ],
             [
              0.8888888888888888,
              "#fdca26"
             ],
             [
              1,
              "#f0f921"
             ]
            ],
            "type": "contour"
           }
          ],
          "contourcarpet": [
           {
            "colorbar": {
             "outlinewidth": 0,
             "ticks": ""
            },
            "type": "contourcarpet"
           }
          ],
          "heatmap": [
           {
            "colorbar": {
             "outlinewidth": 0,
             "ticks": ""
            },
            "colorscale": [
             [
              0,
              "#0d0887"
             ],
             [
              0.1111111111111111,
              "#46039f"
             ],
             [
              0.2222222222222222,
              "#7201a8"
             ],
             [
              0.3333333333333333,
              "#9c179e"
             ],
             [
              0.4444444444444444,
              "#bd3786"
             ],
             [
              0.5555555555555556,
              "#d8576b"
             ],
             [
              0.6666666666666666,
              "#ed7953"
             ],
             [
              0.7777777777777778,
              "#fb9f3a"
             ],
             [
              0.8888888888888888,
              "#fdca26"
             ],
             [
              1,
              "#f0f921"
             ]
            ],
            "type": "heatmap"
           }
          ],
          "heatmapgl": [
           {
            "colorbar": {
             "outlinewidth": 0,
             "ticks": ""
            },
            "colorscale": [
             [
              0,
              "#0d0887"
             ],
             [
              0.1111111111111111,
              "#46039f"
             ],
             [
              0.2222222222222222,
              "#7201a8"
             ],
             [
              0.3333333333333333,
              "#9c179e"
             ],
             [
              0.4444444444444444,
              "#bd3786"
             ],
             [
              0.5555555555555556,
              "#d8576b"
             ],
             [
              0.6666666666666666,
              "#ed7953"
             ],
             [
              0.7777777777777778,
              "#fb9f3a"
             ],
             [
              0.8888888888888888,
              "#fdca26"
             ],
             [
              1,
              "#f0f921"
             ]
            ],
            "type": "heatmapgl"
           }
          ],
          "histogram": [
           {
            "marker": {
             "pattern": {
              "fillmode": "overlay",
              "size": 10,
              "solidity": 0.2
             }
            },
            "type": "histogram"
           }
          ],
          "histogram2d": [
           {
            "colorbar": {
             "outlinewidth": 0,
             "ticks": ""
            },
            "colorscale": [
             [
              0,
              "#0d0887"
             ],
             [
              0.1111111111111111,
              "#46039f"
             ],
             [
              0.2222222222222222,
              "#7201a8"
             ],
             [
              0.3333333333333333,
              "#9c179e"
             ],
             [
              0.4444444444444444,
              "#bd3786"
             ],
             [
              0.5555555555555556,
              "#d8576b"
             ],
             [
              0.6666666666666666,
              "#ed7953"
             ],
             [
              0.7777777777777778,
              "#fb9f3a"
             ],
             [
              0.8888888888888888,
              "#fdca26"
             ],
             [
              1,
              "#f0f921"
             ]
            ],
            "type": "histogram2d"
           }
          ],
          "histogram2dcontour": [
           {
            "colorbar": {
             "outlinewidth": 0,
             "ticks": ""
            },
            "colorscale": [
             [
              0,
              "#0d0887"
             ],
             [
              0.1111111111111111,
              "#46039f"
             ],
             [
              0.2222222222222222,
              "#7201a8"
             ],
             [
              0.3333333333333333,
              "#9c179e"
             ],
             [
              0.4444444444444444,
              "#bd3786"
             ],
             [
              0.5555555555555556,
              "#d8576b"
             ],
             [
              0.6666666666666666,
              "#ed7953"
             ],
             [
              0.7777777777777778,
              "#fb9f3a"
             ],
             [
              0.8888888888888888,
              "#fdca26"
             ],
             [
              1,
              "#f0f921"
             ]
            ],
            "type": "histogram2dcontour"
           }
          ],
          "mesh3d": [
           {
            "colorbar": {
             "outlinewidth": 0,
             "ticks": ""
            },
            "type": "mesh3d"
           }
          ],
          "parcoords": [
           {
            "line": {
             "colorbar": {
              "outlinewidth": 0,
              "ticks": ""
             }
            },
            "type": "parcoords"
           }
          ],
          "pie": [
           {
            "automargin": true,
            "type": "pie"
           }
          ],
          "scatter": [
           {
            "fillpattern": {
             "fillmode": "overlay",
             "size": 10,
             "solidity": 0.2
            },
            "type": "scatter"
           }
          ],
          "scatter3d": [
           {
            "line": {
             "colorbar": {
              "outlinewidth": 0,
              "ticks": ""
             }
            },
            "marker": {
             "colorbar": {
              "outlinewidth": 0,
              "ticks": ""
             }
            },
            "type": "scatter3d"
           }
          ],
          "scattercarpet": [
           {
            "marker": {
             "colorbar": {
              "outlinewidth": 0,
              "ticks": ""
             }
            },
            "type": "scattercarpet"
           }
          ],
          "scattergeo": [
           {
            "marker": {
             "colorbar": {
              "outlinewidth": 0,
              "ticks": ""
             }
            },
            "type": "scattergeo"
           }
          ],
          "scattergl": [
           {
            "marker": {
             "colorbar": {
              "outlinewidth": 0,
              "ticks": ""
             }
            },
            "type": "scattergl"
           }
          ],
          "scattermapbox": [
           {
            "marker": {
             "colorbar": {
              "outlinewidth": 0,
              "ticks": ""
             }
            },
            "type": "scattermapbox"
           }
          ],
          "scatterpolar": [
           {
            "marker": {
             "colorbar": {
              "outlinewidth": 0,
              "ticks": ""
             }
            },
            "type": "scatterpolar"
           }
          ],
          "scatterpolargl": [
           {
            "marker": {
             "colorbar": {
              "outlinewidth": 0,
              "ticks": ""
             }
            },
            "type": "scatterpolargl"
           }
          ],
          "scatterternary": [
           {
            "marker": {
             "colorbar": {
              "outlinewidth": 0,
              "ticks": ""
             }
            },
            "type": "scatterternary"
           }
          ],
          "surface": [
           {
            "colorbar": {
             "outlinewidth": 0,
             "ticks": ""
            },
            "colorscale": [
             [
              0,
              "#0d0887"
             ],
             [
              0.1111111111111111,
              "#46039f"
             ],
             [
              0.2222222222222222,
              "#7201a8"
             ],
             [
              0.3333333333333333,
              "#9c179e"
             ],
             [
              0.4444444444444444,
              "#bd3786"
             ],
             [
              0.5555555555555556,
              "#d8576b"
             ],
             [
              0.6666666666666666,
              "#ed7953"
             ],
             [
              0.7777777777777778,
              "#fb9f3a"
             ],
             [
              0.8888888888888888,
              "#fdca26"
             ],
             [
              1,
              "#f0f921"
             ]
            ],
            "type": "surface"
           }
          ],
          "table": [
           {
            "cells": {
             "fill": {
              "color": "#EBF0F8"
             },
             "line": {
              "color": "white"
             }
            },
            "header": {
             "fill": {
              "color": "#C8D4E3"
             },
             "line": {
              "color": "white"
             }
            },
            "type": "table"
           }
          ]
         },
         "layout": {
          "annotationdefaults": {
           "arrowcolor": "#2a3f5f",
           "arrowhead": 0,
           "arrowwidth": 1
          },
          "autotypenumbers": "strict",
          "coloraxis": {
           "colorbar": {
            "outlinewidth": 0,
            "ticks": ""
           }
          },
          "colorscale": {
           "diverging": [
            [
             0,
             "#8e0152"
            ],
            [
             0.1,
             "#c51b7d"
            ],
            [
             0.2,
             "#de77ae"
            ],
            [
             0.3,
             "#f1b6da"
            ],
            [
             0.4,
             "#fde0ef"
            ],
            [
             0.5,
             "#f7f7f7"
            ],
            [
             0.6,
             "#e6f5d0"
            ],
            [
             0.7,
             "#b8e186"
            ],
            [
             0.8,
             "#7fbc41"
            ],
            [
             0.9,
             "#4d9221"
            ],
            [
             1,
             "#276419"
            ]
           ],
           "sequential": [
            [
             0,
             "#0d0887"
            ],
            [
             0.1111111111111111,
             "#46039f"
            ],
            [
             0.2222222222222222,
             "#7201a8"
            ],
            [
             0.3333333333333333,
             "#9c179e"
            ],
            [
             0.4444444444444444,
             "#bd3786"
            ],
            [
             0.5555555555555556,
             "#d8576b"
            ],
            [
             0.6666666666666666,
             "#ed7953"
            ],
            [
             0.7777777777777778,
             "#fb9f3a"
            ],
            [
             0.8888888888888888,
             "#fdca26"
            ],
            [
             1,
             "#f0f921"
            ]
           ],
           "sequentialminus": [
            [
             0,
             "#0d0887"
            ],
            [
             0.1111111111111111,
             "#46039f"
            ],
            [
             0.2222222222222222,
             "#7201a8"
            ],
            [
             0.3333333333333333,
             "#9c179e"
            ],
            [
             0.4444444444444444,
             "#bd3786"
            ],
            [
             0.5555555555555556,
             "#d8576b"
            ],
            [
             0.6666666666666666,
             "#ed7953"
            ],
            [
             0.7777777777777778,
             "#fb9f3a"
            ],
            [
             0.8888888888888888,
             "#fdca26"
            ],
            [
             1,
             "#f0f921"
            ]
           ]
          },
          "colorway": [
           "#636efa",
           "#EF553B",
           "#00cc96",
           "#ab63fa",
           "#FFA15A",
           "#19d3f3",
           "#FF6692",
           "#B6E880",
           "#FF97FF",
           "#FECB52"
          ],
          "font": {
           "color": "#2a3f5f"
          },
          "geo": {
           "bgcolor": "white",
           "lakecolor": "white",
           "landcolor": "#E5ECF6",
           "showlakes": true,
           "showland": true,
           "subunitcolor": "white"
          },
          "hoverlabel": {
           "align": "left"
          },
          "hovermode": "closest",
          "mapbox": {
           "style": "light"
          },
          "paper_bgcolor": "white",
          "plot_bgcolor": "#E5ECF6",
          "polar": {
           "angularaxis": {
            "gridcolor": "white",
            "linecolor": "white",
            "ticks": ""
           },
           "bgcolor": "#E5ECF6",
           "radialaxis": {
            "gridcolor": "white",
            "linecolor": "white",
            "ticks": ""
           }
          },
          "scene": {
           "xaxis": {
            "backgroundcolor": "#E5ECF6",
            "gridcolor": "white",
            "gridwidth": 2,
            "linecolor": "white",
            "showbackground": true,
            "ticks": "",
            "zerolinecolor": "white"
           },
           "yaxis": {
            "backgroundcolor": "#E5ECF6",
            "gridcolor": "white",
            "gridwidth": 2,
            "linecolor": "white",
            "showbackground": true,
            "ticks": "",
            "zerolinecolor": "white"
           },
           "zaxis": {
            "backgroundcolor": "#E5ECF6",
            "gridcolor": "white",
            "gridwidth": 2,
            "linecolor": "white",
            "showbackground": true,
            "ticks": "",
            "zerolinecolor": "white"
           }
          },
          "shapedefaults": {
           "line": {
            "color": "#2a3f5f"
           }
          },
          "ternary": {
           "aaxis": {
            "gridcolor": "white",
            "linecolor": "white",
            "ticks": ""
           },
           "baxis": {
            "gridcolor": "white",
            "linecolor": "white",
            "ticks": ""
           },
           "bgcolor": "#E5ECF6",
           "caxis": {
            "gridcolor": "white",
            "linecolor": "white",
            "ticks": ""
           }
          },
          "title": {
           "x": 0.05
          },
          "xaxis": {
           "automargin": true,
           "gridcolor": "white",
           "linecolor": "white",
           "ticks": "",
           "title": {
            "standoff": 15
           },
           "zerolinecolor": "white",
           "zerolinewidth": 2
          },
          "yaxis": {
           "automargin": true,
           "gridcolor": "white",
           "linecolor": "white",
           "ticks": "",
           "title": {
            "standoff": 15
           },
           "zerolinecolor": "white",
           "zerolinewidth": 2
          }
         }
        },
        "title": {
         "text": "Top 120 Count by Subcategory"
        },
        "xaxis": {
         "anchor": "y",
         "domain": [
          0,
          1
         ],
         "title": {
          "text": "Subcategory"
         }
        },
        "yaxis": {
         "anchor": "x",
         "domain": [
          0,
          1
         ],
         "title": {
          "text": "Count"
         }
        }
       }
      }
     },
     "metadata": {},
     "output_type": "display_data"
    }
   ],
   "source": [
    "result_grouped_subcat = result_vis.groupby(by=['Category', 'Subcategory'], as_index=False).size()\n",
    "result_grouped_subcat.columns = ['Category', 'Subcategory', 'Count']\n",
    "result_grouped_subsort = result_grouped_subcat.sort_values(by='Count', ascending=False) # type: ignore\n",
    "\n",
    "fig2 = px.bar(result_grouped_subsort, x='Subcategory', y='Count', color = 'Category', title='Top 120 Count by Subcategory')\n",
    "fig2.show()"
   ]
  },
  {
   "cell_type": "code",
   "execution_count": 17,
   "metadata": {},
   "outputs": [
    {
     "data": {
      "application/vnd.plotly.v1+json": {
       "config": {
        "plotlyServerURL": "https://plot.ly"
       },
       "data": [
        {
         "customdata": [
          [
           "Benuta Leon Cream Wool Rug"
          ],
          [
           "A set of clothes and accessories to fill a wardrobe or store and showroom"
          ],
          [
           "Cairns pedestal Divan.ru"
          ],
          [
           "Boheme Uno collection"
          ],
          [
           "curtains with piping"
          ],
          [
           "Emmi Chair From MINOTTI Brand"
          ],
          [
           "Dressing room 28"
          ],
          [
           "Set of Epson projectors."
          ],
          [
           "coffee table decor set 005"
          ],
          [
           "Bathroom furniture 28 in neoclassical style"
          ],
          [
           "Basic wardrobe made of cabinet furniture with doors 2"
          ],
          [
           "Double shower curtain with hidden ceiling cornice"
          ],
          [
           "Decorative set NG27"
          ],
          [
           "Sockets and switches Donel series R98"
          ],
          [
           "Benuta Dave Rectangular Fur Rug (3 colors)"
          ],
          [
           "Bathroom furniture 27 modular in a modern style"
          ],
          [
           "Indoor Plant Set 89"
          ],
          [
           "Vibia Plus Minus"
          ],
          [
           "Graceful Dual Layer Curtains Velvet with Sheer Overlay"
          ],
          [
           "Bathroom Accessories 71"
          ],
          [
           "Decorative plaster 25"
          ],
          [
           "Anders Dusty Rose Pink Area Rug"
          ],
          [
           "Ventilation system."
          ],
          [
           "Set of ceilings Armstrong and Grilyato"
          ],
          [
           "Curtains with Roman blinds 2"
          ],
          [
           "Porcelain tiles Nolana Estima"
          ],
          [
           "Lindsay Laurie coffee table Divan.ru"
          ],
          [
           "Decorative Set-086 Shelf Accessories"
          ],
          [
           "Set of clothes for the wardrobe"
          ],
          [
           "Decorative set with a bouquet of lilacs in a glass vase"
          ],
          [
           "Decorative set with branch ch15"
          ],
          [
           "Houseplants 01"
          ],
          [
           "Connect Soft Modular Sofa 2"
          ],
          [
           "Table setting 45"
          ],
          [
           "FloorGen Tools 1.5.4"
          ],
          [
           "TV wall with Xiaomi laser projector"
          ],
          [
           "Office chair Ashley"
          ],
          [
           "Roman blinds"
          ],
          [
           "Garden Plants - Outdoor Flowers 654"
          ],
          [
           "Basic wardrobe made of cabinet furniture with doors"
          ],
          [
           "Childrens open wardrobe with desk, modular, modern, 25"
          ],
          [
           "MicroCement Vitra Porcelain Tiles"
          ],
          [
           "Pouf Loreen StoolGroup"
          ],
          [
           "Washing machine and dryer Samsung"
          ],
          [
           "Set of cabinet fronts. Furniture for the wardrobe. Wooden facades with rattan slats, milled or fabric."
          ],
          [
           "Cookware set NG5"
          ],
          [
           "Boucle Fabric"
          ],
          [
           "Clothes for wardrobe NG15"
          ],
          [
           "Yamaguchi Skyway Massage Chair"
          ],
          [
           "Jewelry organizer"
          ],
          [
           "Mogens table Divan.ru"
          ],
          [
           "Headboard 5"
          ],
          [
           "Minotti Horizonte Modular Sofa"
          ],
          [
           "Built-in ironing board Rocket"
          ],
          [
           "Round pendant chandelier made of ribbed glass 164FA-33126 Garda Decor"
          ],
          [
           "Clifford Thorvall table and chairs Divan.ru"
          ],
          [
           "Marlet Corner Sofa Set1"
          ],
          [
           "Teyo Belvedere Vanity"
          ],
          [
           "Luceplan Levante Pendant Lamps"
          ],
          [
           "Rack with clothes 03"
          ],
          [
           "Boen parquet board wood flooring"
          ],
          [
           "Padel"
          ],
          [
           "Italon STELLARIS Decor FullPack"
          ],
          [
           "PlayStation 5 Collection"
          ],
          [
           "Kiana chair Divan.ru"
          ],
          [
           "Wood Materials LuxLucia Casa - 7 Colors Set04W1"
          ],
          [
           "541 hallway zone 14 minimal modular wardeobe with seating niche"
          ],
          [
           "Grilles for ventilation and air conditioning Redvent"
          ],
          [
           "Canon printer set."
          ],
          [
           "Pinboard with childrens drawings"
          ],
          [
           "Furniture hinges / PBR textures"
          ],
          [
           "Shower 1"
          ],
          [
           "Kitchen 29"
          ],
          [
           "Decor set with water and pears stv005"
          ],
          [
           "Decorative set 099"
          ],
          [
           "Bathroom accessories 01"
          ],
          [
           "Decorative Set-089"
          ],
          [
           "Carpet Flow"
          ],
          [
           "EQUIPE BALI"
          ],
          [
           "Mateo Dining chair, Adrien Table"
          ],
          [
           "Bosch ovens and microwaves"
          ],
          [
           "Cafe Equipment Set 4"
          ],
          [
           "Poplar / Populus deltoides #9"
          ],
          [
           "Coffee Shop 6"
          ],
          [
           "Bathroom decor with a set of different cosmetic products"
          ],
          [
           "Realistic meadow grass"
          ],
          [
           "Showcase with glasses"
          ],
          [
           "Porcelanosa DURANGO"
          ],
          [
           "Indoor Plant 849 - Cinnamons Tree"
          ],
          [
           "Bathroom accessories Z45"
          ],
          [
           "Roman blind with tassels"
          ],
          [
           "Counter Stool Bar Stool Folsom"
          ],
          [
           "VOLUME Bed"
          ],
          [
           "Kids Room Decor 153"
          ],
          [
           "Furniture Composition 303"
          ],
          [
           "Washable Rug Pam Beige, Gray and Cream by Benuta"
          ],
          [
           "kitchen modern-071"
          ],
          [
           "Rimadesio Altair storage"
          ],
          [
           "Furniture Composition 313"
          ],
          [
           "Flower In Vase 77"
          ],
          [
           "LAUNDRY SET (Poliform FITTED + ASKO)"
          ],
          [
           "Tennis court"
          ],
          [
           "Laundry Room _ 0005"
          ],
          [
           "Sinks and faucets Omoikiri"
          ],
          [
           "TV Samsung QLED The Frame 4K LS03B"
          ],
          [
           "Emma Naomi Brenda tables Divan.ru"
          ],
          [
           "Water bottle and glass NG4"
          ],
          [
           "Prefabricated juniper panel"
          ],
          [
           "Robot vacuum cleaner Xiaomi Robot Vacuum Cleaner X20"
          ],
          [
           "SAFAVIEH Dina Coastal Jute Rug Round"
          ],
          [
           "Hidden doors Piu Design"
          ],
          [
           "Kitchen 8"
          ],
          [
           "Curtains with Roman blinds"
          ],
          [
           "Rubber Coating"
          ],
          [
           "Sockets and switches Systeme Electric ArtGallery series"
          ],
          [
           "Collection of 21 windows"
          ],
          [
           "Bar Cabinet"
          ],
          [
           "Children play area | Interactive"
          ],
          [
           "Wood planks 02"
          ],
          [
           "Bunk bed for kids 11"
          ]
         ],
         "hovertemplate": "Selected=%{x}<br>Followers=%{y}<br>Title=%{customdata[0]}<br>N=%{marker.color}<extra></extra>",
         "legendgroup": "",
         "marker": {
          "color": [
           1,
           2,
           3,
           4,
           5,
           6,
           7,
           8,
           9,
           10,
           11,
           12,
           13,
           14,
           15,
           16,
           17,
           18,
           19,
           20,
           21,
           22,
           23,
           24,
           25,
           26,
           27,
           28,
           29,
           30,
           31,
           32,
           33,
           34,
           35,
           36,
           37,
           38,
           39,
           40,
           41,
           42,
           43,
           44,
           45,
           46,
           47,
           48,
           49,
           50,
           51,
           52,
           53,
           54,
           55,
           56,
           57,
           58,
           59,
           60,
           61,
           62,
           63,
           64,
           65,
           66,
           67,
           68,
           69,
           70,
           71,
           72,
           73,
           74,
           75,
           76,
           77,
           78,
           79,
           80,
           81,
           82,
           83,
           84,
           85,
           86,
           87,
           88,
           89,
           90,
           91,
           92,
           93,
           94,
           95,
           96,
           97,
           98,
           99,
           100,
           101,
           102,
           103,
           104,
           105,
           106,
           107,
           108,
           109,
           110,
           111,
           112,
           113,
           114,
           115,
           116,
           117,
           118,
           119,
           120
          ],
          "coloraxis": "coloraxis",
          "symbol": "circle"
         },
         "mode": "markers",
         "name": "",
         "orientation": "v",
         "showlegend": false,
         "type": "scatter",
         "x": [
          443,
          234,
          181,
          36,
          111,
          117,
          233,
          131,
          506,
          71,
          156,
          111,
          211,
          119,
          637,
          80,
          132,
          63,
          67,
          88,
          91,
          62,
          216,
          863,
          345,
          247,
          109,
          153,
          173,
          57,
          392,
          151,
          101,
          89,
          817,
          1582,
          203,
          144,
          142,
          204,
          175,
          71,
          22,
          697,
          732,
          468,
          617,
          274,
          64,
          241,
          128,
          190,
          108,
          88,
          108,
          52,
          52,
          28,
          63,
          106,
          944,
          134,
          266,
          114,
          223,
          183,
          363,
          242,
          67,
          137,
          75,
          107,
          116,
          205,
          109,
          47,
          92,
          26,
          29,
          26,
          867,
          521,
          315,
          660,
          357,
          485,
          284,
          156,
          57,
          48,
          83,
          48,
          46,
          70,
          52,
          37,
          43,
          100,
          42,
          63,
          2245,
          505,
          974,
          540,
          291,
          440,
          318,
          null,
          159,
          322,
          323,
          387,
          261,
          236,
          76,
          150,
          380,
          302,
          83,
          134
         ],
         "xaxis": "x",
         "y": [
          352,
          843,
          811,
          3,
          21,
          186,
          336,
          26,
          207,
          177,
          843,
          9,
          811,
          36,
          352,
          177,
          221,
          42,
          289,
          403,
          8,
          47,
          26,
          448,
          132,
          20,
          811,
          262,
          317,
          251,
          121,
          8,
          257,
          191,
          41,
          2310,
          6,
          21,
          1620,
          843,
          177,
          20,
          16,
          537,
          114,
          811,
          163,
          811,
          22,
          16,
          811,
          134,
          257,
          276,
          5,
          811,
          257,
          9,
          759,
          299,
          332,
          23,
          168,
          2322,
          811,
          244,
          1554,
          36,
          26,
          36,
          1,
          134,
          100,
          28,
          93,
          170,
          262,
          39,
          115,
          16,
          54,
          79,
          385,
          323,
          843,
          1763,
          20,
          168,
          1620,
          37,
          9,
          73,
          58,
          523,
          197,
          843,
          25,
          46,
          197,
          94,
          229,
          138,
          326,
          134,
          1763,
          811,
          811,
          250,
          106,
          352,
          134,
          20,
          132,
          332,
          36,
          52,
          7,
          129,
          23,
          93
         ],
         "yaxis": "y"
        }
       ],
       "layout": {
        "coloraxis": {
         "colorbar": {
          "title": {
           "text": "N"
          }
         },
         "colorscale": [
          [
           0,
           "#0d0887"
          ],
          [
           0.1111111111111111,
           "#46039f"
          ],
          [
           0.2222222222222222,
           "#7201a8"
          ],
          [
           0.3333333333333333,
           "#9c179e"
          ],
          [
           0.4444444444444444,
           "#bd3786"
          ],
          [
           0.5555555555555556,
           "#d8576b"
          ],
          [
           0.6666666666666666,
           "#ed7953"
          ],
          [
           0.7777777777777778,
           "#fb9f3a"
          ],
          [
           0.8888888888888888,
           "#fdca26"
          ],
          [
           1,
           "#f0f921"
          ]
         ]
        },
        "legend": {
         "tracegroupgap": 0
        },
        "template": {
         "data": {
          "bar": [
           {
            "error_x": {
             "color": "#2a3f5f"
            },
            "error_y": {
             "color": "#2a3f5f"
            },
            "marker": {
             "line": {
              "color": "#E5ECF6",
              "width": 0.5
             },
             "pattern": {
              "fillmode": "overlay",
              "size": 10,
              "solidity": 0.2
             }
            },
            "type": "bar"
           }
          ],
          "barpolar": [
           {
            "marker": {
             "line": {
              "color": "#E5ECF6",
              "width": 0.5
             },
             "pattern": {
              "fillmode": "overlay",
              "size": 10,
              "solidity": 0.2
             }
            },
            "type": "barpolar"
           }
          ],
          "carpet": [
           {
            "aaxis": {
             "endlinecolor": "#2a3f5f",
             "gridcolor": "white",
             "linecolor": "white",
             "minorgridcolor": "white",
             "startlinecolor": "#2a3f5f"
            },
            "baxis": {
             "endlinecolor": "#2a3f5f",
             "gridcolor": "white",
             "linecolor": "white",
             "minorgridcolor": "white",
             "startlinecolor": "#2a3f5f"
            },
            "type": "carpet"
           }
          ],
          "choropleth": [
           {
            "colorbar": {
             "outlinewidth": 0,
             "ticks": ""
            },
            "type": "choropleth"
           }
          ],
          "contour": [
           {
            "colorbar": {
             "outlinewidth": 0,
             "ticks": ""
            },
            "colorscale": [
             [
              0,
              "#0d0887"
             ],
             [
              0.1111111111111111,
              "#46039f"
             ],
             [
              0.2222222222222222,
              "#7201a8"
             ],
             [
              0.3333333333333333,
              "#9c179e"
             ],
             [
              0.4444444444444444,
              "#bd3786"
             ],
             [
              0.5555555555555556,
              "#d8576b"
             ],
             [
              0.6666666666666666,
              "#ed7953"
             ],
             [
              0.7777777777777778,
              "#fb9f3a"
             ],
             [
              0.8888888888888888,
              "#fdca26"
             ],
             [
              1,
              "#f0f921"
             ]
            ],
            "type": "contour"
           }
          ],
          "contourcarpet": [
           {
            "colorbar": {
             "outlinewidth": 0,
             "ticks": ""
            },
            "type": "contourcarpet"
           }
          ],
          "heatmap": [
           {
            "colorbar": {
             "outlinewidth": 0,
             "ticks": ""
            },
            "colorscale": [
             [
              0,
              "#0d0887"
             ],
             [
              0.1111111111111111,
              "#46039f"
             ],
             [
              0.2222222222222222,
              "#7201a8"
             ],
             [
              0.3333333333333333,
              "#9c179e"
             ],
             [
              0.4444444444444444,
              "#bd3786"
             ],
             [
              0.5555555555555556,
              "#d8576b"
             ],
             [
              0.6666666666666666,
              "#ed7953"
             ],
             [
              0.7777777777777778,
              "#fb9f3a"
             ],
             [
              0.8888888888888888,
              "#fdca26"
             ],
             [
              1,
              "#f0f921"
             ]
            ],
            "type": "heatmap"
           }
          ],
          "heatmapgl": [
           {
            "colorbar": {
             "outlinewidth": 0,
             "ticks": ""
            },
            "colorscale": [
             [
              0,
              "#0d0887"
             ],
             [
              0.1111111111111111,
              "#46039f"
             ],
             [
              0.2222222222222222,
              "#7201a8"
             ],
             [
              0.3333333333333333,
              "#9c179e"
             ],
             [
              0.4444444444444444,
              "#bd3786"
             ],
             [
              0.5555555555555556,
              "#d8576b"
             ],
             [
              0.6666666666666666,
              "#ed7953"
             ],
             [
              0.7777777777777778,
              "#fb9f3a"
             ],
             [
              0.8888888888888888,
              "#fdca26"
             ],
             [
              1,
              "#f0f921"
             ]
            ],
            "type": "heatmapgl"
           }
          ],
          "histogram": [
           {
            "marker": {
             "pattern": {
              "fillmode": "overlay",
              "size": 10,
              "solidity": 0.2
             }
            },
            "type": "histogram"
           }
          ],
          "histogram2d": [
           {
            "colorbar": {
             "outlinewidth": 0,
             "ticks": ""
            },
            "colorscale": [
             [
              0,
              "#0d0887"
             ],
             [
              0.1111111111111111,
              "#46039f"
             ],
             [
              0.2222222222222222,
              "#7201a8"
             ],
             [
              0.3333333333333333,
              "#9c179e"
             ],
             [
              0.4444444444444444,
              "#bd3786"
             ],
             [
              0.5555555555555556,
              "#d8576b"
             ],
             [
              0.6666666666666666,
              "#ed7953"
             ],
             [
              0.7777777777777778,
              "#fb9f3a"
             ],
             [
              0.8888888888888888,
              "#fdca26"
             ],
             [
              1,
              "#f0f921"
             ]
            ],
            "type": "histogram2d"
           }
          ],
          "histogram2dcontour": [
           {
            "colorbar": {
             "outlinewidth": 0,
             "ticks": ""
            },
            "colorscale": [
             [
              0,
              "#0d0887"
             ],
             [
              0.1111111111111111,
              "#46039f"
             ],
             [
              0.2222222222222222,
              "#7201a8"
             ],
             [
              0.3333333333333333,
              "#9c179e"
             ],
             [
              0.4444444444444444,
              "#bd3786"
             ],
             [
              0.5555555555555556,
              "#d8576b"
             ],
             [
              0.6666666666666666,
              "#ed7953"
             ],
             [
              0.7777777777777778,
              "#fb9f3a"
             ],
             [
              0.8888888888888888,
              "#fdca26"
             ],
             [
              1,
              "#f0f921"
             ]
            ],
            "type": "histogram2dcontour"
           }
          ],
          "mesh3d": [
           {
            "colorbar": {
             "outlinewidth": 0,
             "ticks": ""
            },
            "type": "mesh3d"
           }
          ],
          "parcoords": [
           {
            "line": {
             "colorbar": {
              "outlinewidth": 0,
              "ticks": ""
             }
            },
            "type": "parcoords"
           }
          ],
          "pie": [
           {
            "automargin": true,
            "type": "pie"
           }
          ],
          "scatter": [
           {
            "fillpattern": {
             "fillmode": "overlay",
             "size": 10,
             "solidity": 0.2
            },
            "type": "scatter"
           }
          ],
          "scatter3d": [
           {
            "line": {
             "colorbar": {
              "outlinewidth": 0,
              "ticks": ""
             }
            },
            "marker": {
             "colorbar": {
              "outlinewidth": 0,
              "ticks": ""
             }
            },
            "type": "scatter3d"
           }
          ],
          "scattercarpet": [
           {
            "marker": {
             "colorbar": {
              "outlinewidth": 0,
              "ticks": ""
             }
            },
            "type": "scattercarpet"
           }
          ],
          "scattergeo": [
           {
            "marker": {
             "colorbar": {
              "outlinewidth": 0,
              "ticks": ""
             }
            },
            "type": "scattergeo"
           }
          ],
          "scattergl": [
           {
            "marker": {
             "colorbar": {
              "outlinewidth": 0,
              "ticks": ""
             }
            },
            "type": "scattergl"
           }
          ],
          "scattermapbox": [
           {
            "marker": {
             "colorbar": {
              "outlinewidth": 0,
              "ticks": ""
             }
            },
            "type": "scattermapbox"
           }
          ],
          "scatterpolar": [
           {
            "marker": {
             "colorbar": {
              "outlinewidth": 0,
              "ticks": ""
             }
            },
            "type": "scatterpolar"
           }
          ],
          "scatterpolargl": [
           {
            "marker": {
             "colorbar": {
              "outlinewidth": 0,
              "ticks": ""
             }
            },
            "type": "scatterpolargl"
           }
          ],
          "scatterternary": [
           {
            "marker": {
             "colorbar": {
              "outlinewidth": 0,
              "ticks": ""
             }
            },
            "type": "scatterternary"
           }
          ],
          "surface": [
           {
            "colorbar": {
             "outlinewidth": 0,
             "ticks": ""
            },
            "colorscale": [
             [
              0,
              "#0d0887"
             ],
             [
              0.1111111111111111,
              "#46039f"
             ],
             [
              0.2222222222222222,
              "#7201a8"
             ],
             [
              0.3333333333333333,
              "#9c179e"
             ],
             [
              0.4444444444444444,
              "#bd3786"
             ],
             [
              0.5555555555555556,
              "#d8576b"
             ],
             [
              0.6666666666666666,
              "#ed7953"
             ],
             [
              0.7777777777777778,
              "#fb9f3a"
             ],
             [
              0.8888888888888888,
              "#fdca26"
             ],
             [
              1,
              "#f0f921"
             ]
            ],
            "type": "surface"
           }
          ],
          "table": [
           {
            "cells": {
             "fill": {
              "color": "#EBF0F8"
             },
             "line": {
              "color": "white"
             }
            },
            "header": {
             "fill": {
              "color": "#C8D4E3"
             },
             "line": {
              "color": "white"
             }
            },
            "type": "table"
           }
          ]
         },
         "layout": {
          "annotationdefaults": {
           "arrowcolor": "#2a3f5f",
           "arrowhead": 0,
           "arrowwidth": 1
          },
          "autotypenumbers": "strict",
          "coloraxis": {
           "colorbar": {
            "outlinewidth": 0,
            "ticks": ""
           }
          },
          "colorscale": {
           "diverging": [
            [
             0,
             "#8e0152"
            ],
            [
             0.1,
             "#c51b7d"
            ],
            [
             0.2,
             "#de77ae"
            ],
            [
             0.3,
             "#f1b6da"
            ],
            [
             0.4,
             "#fde0ef"
            ],
            [
             0.5,
             "#f7f7f7"
            ],
            [
             0.6,
             "#e6f5d0"
            ],
            [
             0.7,
             "#b8e186"
            ],
            [
             0.8,
             "#7fbc41"
            ],
            [
             0.9,
             "#4d9221"
            ],
            [
             1,
             "#276419"
            ]
           ],
           "sequential": [
            [
             0,
             "#0d0887"
            ],
            [
             0.1111111111111111,
             "#46039f"
            ],
            [
             0.2222222222222222,
             "#7201a8"
            ],
            [
             0.3333333333333333,
             "#9c179e"
            ],
            [
             0.4444444444444444,
             "#bd3786"
            ],
            [
             0.5555555555555556,
             "#d8576b"
            ],
            [
             0.6666666666666666,
             "#ed7953"
            ],
            [
             0.7777777777777778,
             "#fb9f3a"
            ],
            [
             0.8888888888888888,
             "#fdca26"
            ],
            [
             1,
             "#f0f921"
            ]
           ],
           "sequentialminus": [
            [
             0,
             "#0d0887"
            ],
            [
             0.1111111111111111,
             "#46039f"
            ],
            [
             0.2222222222222222,
             "#7201a8"
            ],
            [
             0.3333333333333333,
             "#9c179e"
            ],
            [
             0.4444444444444444,
             "#bd3786"
            ],
            [
             0.5555555555555556,
             "#d8576b"
            ],
            [
             0.6666666666666666,
             "#ed7953"
            ],
            [
             0.7777777777777778,
             "#fb9f3a"
            ],
            [
             0.8888888888888888,
             "#fdca26"
            ],
            [
             1,
             "#f0f921"
            ]
           ]
          },
          "colorway": [
           "#636efa",
           "#EF553B",
           "#00cc96",
           "#ab63fa",
           "#FFA15A",
           "#19d3f3",
           "#FF6692",
           "#B6E880",
           "#FF97FF",
           "#FECB52"
          ],
          "font": {
           "color": "#2a3f5f"
          },
          "geo": {
           "bgcolor": "white",
           "lakecolor": "white",
           "landcolor": "#E5ECF6",
           "showlakes": true,
           "showland": true,
           "subunitcolor": "white"
          },
          "hoverlabel": {
           "align": "left"
          },
          "hovermode": "closest",
          "mapbox": {
           "style": "light"
          },
          "paper_bgcolor": "white",
          "plot_bgcolor": "#E5ECF6",
          "polar": {
           "angularaxis": {
            "gridcolor": "white",
            "linecolor": "white",
            "ticks": ""
           },
           "bgcolor": "#E5ECF6",
           "radialaxis": {
            "gridcolor": "white",
            "linecolor": "white",
            "ticks": ""
           }
          },
          "scene": {
           "xaxis": {
            "backgroundcolor": "#E5ECF6",
            "gridcolor": "white",
            "gridwidth": 2,
            "linecolor": "white",
            "showbackground": true,
            "ticks": "",
            "zerolinecolor": "white"
           },
           "yaxis": {
            "backgroundcolor": "#E5ECF6",
            "gridcolor": "white",
            "gridwidth": 2,
            "linecolor": "white",
            "showbackground": true,
            "ticks": "",
            "zerolinecolor": "white"
           },
           "zaxis": {
            "backgroundcolor": "#E5ECF6",
            "gridcolor": "white",
            "gridwidth": 2,
            "linecolor": "white",
            "showbackground": true,
            "ticks": "",
            "zerolinecolor": "white"
           }
          },
          "shapedefaults": {
           "line": {
            "color": "#2a3f5f"
           }
          },
          "ternary": {
           "aaxis": {
            "gridcolor": "white",
            "linecolor": "white",
            "ticks": ""
           },
           "baxis": {
            "gridcolor": "white",
            "linecolor": "white",
            "ticks": ""
           },
           "bgcolor": "#E5ECF6",
           "caxis": {
            "gridcolor": "white",
            "linecolor": "white",
            "ticks": ""
           }
          },
          "title": {
           "x": 0.05
          },
          "xaxis": {
           "automargin": true,
           "gridcolor": "white",
           "linecolor": "white",
           "ticks": "",
           "title": {
            "standoff": 15
           },
           "zerolinecolor": "white",
           "zerolinewidth": 2
          },
          "yaxis": {
           "automargin": true,
           "gridcolor": "white",
           "linecolor": "white",
           "ticks": "",
           "title": {
            "standoff": 15
           },
           "zerolinecolor": "white",
           "zerolinewidth": 2
          }
         }
        },
        "title": {
         "text": "Top 120 by Selected and Followers"
        },
        "xaxis": {
         "anchor": "y",
         "domain": [
          0,
          1
         ],
         "title": {
          "text": "Selected"
         },
         "type": "log"
        },
        "yaxis": {
         "anchor": "x",
         "domain": [
          0,
          1
         ],
         "title": {
          "text": "Followers"
         },
         "type": "log"
        }
       }
      }
     },
     "metadata": {},
     "output_type": "display_data"
    }
   ],
   "source": [
    "fig3 = px.scatter(result_vis, x='Selected', y='Followers', color='N', log_x=True, log_y=True, hover_data=['Title','Selected','Followers'], title='Top 120 by Selected and Followers')\n",
    "fig3.show()"
   ]
  },
  {
   "cell_type": "code",
   "execution_count": 19,
   "metadata": {},
   "outputs": [
    {
     "data": {
      "application/vnd.plotly.v1+json": {
       "config": {
        "plotlyServerURL": "https://plot.ly"
       },
       "data": [
        {
         "alignmentgroup": "True",
         "bingroup": "x",
         "hovertemplate": "Dur_Shrink=%{x}<br>count=%{y}<extra></extra>",
         "legendgroup": "",
         "marker": {
          "color": "#636efa",
          "pattern": {
           "shape": ""
          }
         },
         "name": "",
         "nbinsx": 50,
         "offsetgroup": "",
         "orientation": "v",
         "showlegend": false,
         "type": "histogram",
         "x": [
          89,
          69,
          87,
          24,
          17,
          22,
          78,
          68,
          77,
          20,
          66,
          64,
          37,
          45,
          218,
          47,
          276,
          111,
          36,
          15,
          44,
          35,
          160,
          500,
          158,
          139,
          87,
          75,
          21,
          21,
          112,
          113,
          56,
          24,
          500,
          419,
          110,
          121,
          122,
          80,
          79,
          83,
          79,
          500,
          259,
          116,
          96,
          80,
          151,
          112,
          94,
          69,
          56,
          57,
          50,
          64,
          26,
          43,
          10,
          9,
          390,
          455,
          303,
          253,
          346,
          166,
          148,
          96,
          129,
          109,
          134,
          48,
          54,
          39,
          40,
          34,
          20,
          26,
          25,
          15,
          500,
          500,
          476,
          326,
          205,
          148,
          176,
          149,
          46,
          52,
          45,
          44,
          56,
          23,
          28,
          26,
          20,
          16,
          17,
          11,
          500,
          500,
          500,
          474,
          462,
          317,
          415,
          400,
          245,
          437,
          334,
          219,
          168,
          171,
          205,
          364,
          104,
          88,
          144,
          171
         ],
         "xaxis": "x",
         "yaxis": "y"
        }
       ],
       "layout": {
        "barmode": "relative",
        "legend": {
         "tracegroupgap": 0
        },
        "template": {
         "data": {
          "bar": [
           {
            "error_x": {
             "color": "#2a3f5f"
            },
            "error_y": {
             "color": "#2a3f5f"
            },
            "marker": {
             "line": {
              "color": "#E5ECF6",
              "width": 0.5
             },
             "pattern": {
              "fillmode": "overlay",
              "size": 10,
              "solidity": 0.2
             }
            },
            "type": "bar"
           }
          ],
          "barpolar": [
           {
            "marker": {
             "line": {
              "color": "#E5ECF6",
              "width": 0.5
             },
             "pattern": {
              "fillmode": "overlay",
              "size": 10,
              "solidity": 0.2
             }
            },
            "type": "barpolar"
           }
          ],
          "carpet": [
           {
            "aaxis": {
             "endlinecolor": "#2a3f5f",
             "gridcolor": "white",
             "linecolor": "white",
             "minorgridcolor": "white",
             "startlinecolor": "#2a3f5f"
            },
            "baxis": {
             "endlinecolor": "#2a3f5f",
             "gridcolor": "white",
             "linecolor": "white",
             "minorgridcolor": "white",
             "startlinecolor": "#2a3f5f"
            },
            "type": "carpet"
           }
          ],
          "choropleth": [
           {
            "colorbar": {
             "outlinewidth": 0,
             "ticks": ""
            },
            "type": "choropleth"
           }
          ],
          "contour": [
           {
            "colorbar": {
             "outlinewidth": 0,
             "ticks": ""
            },
            "colorscale": [
             [
              0,
              "#0d0887"
             ],
             [
              0.1111111111111111,
              "#46039f"
             ],
             [
              0.2222222222222222,
              "#7201a8"
             ],
             [
              0.3333333333333333,
              "#9c179e"
             ],
             [
              0.4444444444444444,
              "#bd3786"
             ],
             [
              0.5555555555555556,
              "#d8576b"
             ],
             [
              0.6666666666666666,
              "#ed7953"
             ],
             [
              0.7777777777777778,
              "#fb9f3a"
             ],
             [
              0.8888888888888888,
              "#fdca26"
             ],
             [
              1,
              "#f0f921"
             ]
            ],
            "type": "contour"
           }
          ],
          "contourcarpet": [
           {
            "colorbar": {
             "outlinewidth": 0,
             "ticks": ""
            },
            "type": "contourcarpet"
           }
          ],
          "heatmap": [
           {
            "colorbar": {
             "outlinewidth": 0,
             "ticks": ""
            },
            "colorscale": [
             [
              0,
              "#0d0887"
             ],
             [
              0.1111111111111111,
              "#46039f"
             ],
             [
              0.2222222222222222,
              "#7201a8"
             ],
             [
              0.3333333333333333,
              "#9c179e"
             ],
             [
              0.4444444444444444,
              "#bd3786"
             ],
             [
              0.5555555555555556,
              "#d8576b"
             ],
             [
              0.6666666666666666,
              "#ed7953"
             ],
             [
              0.7777777777777778,
              "#fb9f3a"
             ],
             [
              0.8888888888888888,
              "#fdca26"
             ],
             [
              1,
              "#f0f921"
             ]
            ],
            "type": "heatmap"
           }
          ],
          "heatmapgl": [
           {
            "colorbar": {
             "outlinewidth": 0,
             "ticks": ""
            },
            "colorscale": [
             [
              0,
              "#0d0887"
             ],
             [
              0.1111111111111111,
              "#46039f"
             ],
             [
              0.2222222222222222,
              "#7201a8"
             ],
             [
              0.3333333333333333,
              "#9c179e"
             ],
             [
              0.4444444444444444,
              "#bd3786"
             ],
             [
              0.5555555555555556,
              "#d8576b"
             ],
             [
              0.6666666666666666,
              "#ed7953"
             ],
             [
              0.7777777777777778,
              "#fb9f3a"
             ],
             [
              0.8888888888888888,
              "#fdca26"
             ],
             [
              1,
              "#f0f921"
             ]
            ],
            "type": "heatmapgl"
           }
          ],
          "histogram": [
           {
            "marker": {
             "pattern": {
              "fillmode": "overlay",
              "size": 10,
              "solidity": 0.2
             }
            },
            "type": "histogram"
           }
          ],
          "histogram2d": [
           {
            "colorbar": {
             "outlinewidth": 0,
             "ticks": ""
            },
            "colorscale": [
             [
              0,
              "#0d0887"
             ],
             [
              0.1111111111111111,
              "#46039f"
             ],
             [
              0.2222222222222222,
              "#7201a8"
             ],
             [
              0.3333333333333333,
              "#9c179e"
             ],
             [
              0.4444444444444444,
              "#bd3786"
             ],
             [
              0.5555555555555556,
              "#d8576b"
             ],
             [
              0.6666666666666666,
              "#ed7953"
             ],
             [
              0.7777777777777778,
              "#fb9f3a"
             ],
             [
              0.8888888888888888,
              "#fdca26"
             ],
             [
              1,
              "#f0f921"
             ]
            ],
            "type": "histogram2d"
           }
          ],
          "histogram2dcontour": [
           {
            "colorbar": {
             "outlinewidth": 0,
             "ticks": ""
            },
            "colorscale": [
             [
              0,
              "#0d0887"
             ],
             [
              0.1111111111111111,
              "#46039f"
             ],
             [
              0.2222222222222222,
              "#7201a8"
             ],
             [
              0.3333333333333333,
              "#9c179e"
             ],
             [
              0.4444444444444444,
              "#bd3786"
             ],
             [
              0.5555555555555556,
              "#d8576b"
             ],
             [
              0.6666666666666666,
              "#ed7953"
             ],
             [
              0.7777777777777778,
              "#fb9f3a"
             ],
             [
              0.8888888888888888,
              "#fdca26"
             ],
             [
              1,
              "#f0f921"
             ]
            ],
            "type": "histogram2dcontour"
           }
          ],
          "mesh3d": [
           {
            "colorbar": {
             "outlinewidth": 0,
             "ticks": ""
            },
            "type": "mesh3d"
           }
          ],
          "parcoords": [
           {
            "line": {
             "colorbar": {
              "outlinewidth": 0,
              "ticks": ""
             }
            },
            "type": "parcoords"
           }
          ],
          "pie": [
           {
            "automargin": true,
            "type": "pie"
           }
          ],
          "scatter": [
           {
            "fillpattern": {
             "fillmode": "overlay",
             "size": 10,
             "solidity": 0.2
            },
            "type": "scatter"
           }
          ],
          "scatter3d": [
           {
            "line": {
             "colorbar": {
              "outlinewidth": 0,
              "ticks": ""
             }
            },
            "marker": {
             "colorbar": {
              "outlinewidth": 0,
              "ticks": ""
             }
            },
            "type": "scatter3d"
           }
          ],
          "scattercarpet": [
           {
            "marker": {
             "colorbar": {
              "outlinewidth": 0,
              "ticks": ""
             }
            },
            "type": "scattercarpet"
           }
          ],
          "scattergeo": [
           {
            "marker": {
             "colorbar": {
              "outlinewidth": 0,
              "ticks": ""
             }
            },
            "type": "scattergeo"
           }
          ],
          "scattergl": [
           {
            "marker": {
             "colorbar": {
              "outlinewidth": 0,
              "ticks": ""
             }
            },
            "type": "scattergl"
           }
          ],
          "scattermapbox": [
           {
            "marker": {
             "colorbar": {
              "outlinewidth": 0,
              "ticks": ""
             }
            },
            "type": "scattermapbox"
           }
          ],
          "scatterpolar": [
           {
            "marker": {
             "colorbar": {
              "outlinewidth": 0,
              "ticks": ""
             }
            },
            "type": "scatterpolar"
           }
          ],
          "scatterpolargl": [
           {
            "marker": {
             "colorbar": {
              "outlinewidth": 0,
              "ticks": ""
             }
            },
            "type": "scatterpolargl"
           }
          ],
          "scatterternary": [
           {
            "marker": {
             "colorbar": {
              "outlinewidth": 0,
              "ticks": ""
             }
            },
            "type": "scatterternary"
           }
          ],
          "surface": [
           {
            "colorbar": {
             "outlinewidth": 0,
             "ticks": ""
            },
            "colorscale": [
             [
              0,
              "#0d0887"
             ],
             [
              0.1111111111111111,
              "#46039f"
             ],
             [
              0.2222222222222222,
              "#7201a8"
             ],
             [
              0.3333333333333333,
              "#9c179e"
             ],
             [
              0.4444444444444444,
              "#bd3786"
             ],
             [
              0.5555555555555556,
              "#d8576b"
             ],
             [
              0.6666666666666666,
              "#ed7953"
             ],
             [
              0.7777777777777778,
              "#fb9f3a"
             ],
             [
              0.8888888888888888,
              "#fdca26"
             ],
             [
              1,
              "#f0f921"
             ]
            ],
            "type": "surface"
           }
          ],
          "table": [
           {
            "cells": {
             "fill": {
              "color": "#EBF0F8"
             },
             "line": {
              "color": "white"
             }
            },
            "header": {
             "fill": {
              "color": "#C8D4E3"
             },
             "line": {
              "color": "white"
             }
            },
            "type": "table"
           }
          ]
         },
         "layout": {
          "annotationdefaults": {
           "arrowcolor": "#2a3f5f",
           "arrowhead": 0,
           "arrowwidth": 1
          },
          "autotypenumbers": "strict",
          "coloraxis": {
           "colorbar": {
            "outlinewidth": 0,
            "ticks": ""
           }
          },
          "colorscale": {
           "diverging": [
            [
             0,
             "#8e0152"
            ],
            [
             0.1,
             "#c51b7d"
            ],
            [
             0.2,
             "#de77ae"
            ],
            [
             0.3,
             "#f1b6da"
            ],
            [
             0.4,
             "#fde0ef"
            ],
            [
             0.5,
             "#f7f7f7"
            ],
            [
             0.6,
             "#e6f5d0"
            ],
            [
             0.7,
             "#b8e186"
            ],
            [
             0.8,
             "#7fbc41"
            ],
            [
             0.9,
             "#4d9221"
            ],
            [
             1,
             "#276419"
            ]
           ],
           "sequential": [
            [
             0,
             "#0d0887"
            ],
            [
             0.1111111111111111,
             "#46039f"
            ],
            [
             0.2222222222222222,
             "#7201a8"
            ],
            [
             0.3333333333333333,
             "#9c179e"
            ],
            [
             0.4444444444444444,
             "#bd3786"
            ],
            [
             0.5555555555555556,
             "#d8576b"
            ],
            [
             0.6666666666666666,
             "#ed7953"
            ],
            [
             0.7777777777777778,
             "#fb9f3a"
            ],
            [
             0.8888888888888888,
             "#fdca26"
            ],
            [
             1,
             "#f0f921"
            ]
           ],
           "sequentialminus": [
            [
             0,
             "#0d0887"
            ],
            [
             0.1111111111111111,
             "#46039f"
            ],
            [
             0.2222222222222222,
             "#7201a8"
            ],
            [
             0.3333333333333333,
             "#9c179e"
            ],
            [
             0.4444444444444444,
             "#bd3786"
            ],
            [
             0.5555555555555556,
             "#d8576b"
            ],
            [
             0.6666666666666666,
             "#ed7953"
            ],
            [
             0.7777777777777778,
             "#fb9f3a"
            ],
            [
             0.8888888888888888,
             "#fdca26"
            ],
            [
             1,
             "#f0f921"
            ]
           ]
          },
          "colorway": [
           "#636efa",
           "#EF553B",
           "#00cc96",
           "#ab63fa",
           "#FFA15A",
           "#19d3f3",
           "#FF6692",
           "#B6E880",
           "#FF97FF",
           "#FECB52"
          ],
          "font": {
           "color": "#2a3f5f"
          },
          "geo": {
           "bgcolor": "white",
           "lakecolor": "white",
           "landcolor": "#E5ECF6",
           "showlakes": true,
           "showland": true,
           "subunitcolor": "white"
          },
          "hoverlabel": {
           "align": "left"
          },
          "hovermode": "closest",
          "mapbox": {
           "style": "light"
          },
          "paper_bgcolor": "white",
          "plot_bgcolor": "#E5ECF6",
          "polar": {
           "angularaxis": {
            "gridcolor": "white",
            "linecolor": "white",
            "ticks": ""
           },
           "bgcolor": "#E5ECF6",
           "radialaxis": {
            "gridcolor": "white",
            "linecolor": "white",
            "ticks": ""
           }
          },
          "scene": {
           "xaxis": {
            "backgroundcolor": "#E5ECF6",
            "gridcolor": "white",
            "gridwidth": 2,
            "linecolor": "white",
            "showbackground": true,
            "ticks": "",
            "zerolinecolor": "white"
           },
           "yaxis": {
            "backgroundcolor": "#E5ECF6",
            "gridcolor": "white",
            "gridwidth": 2,
            "linecolor": "white",
            "showbackground": true,
            "ticks": "",
            "zerolinecolor": "white"
           },
           "zaxis": {
            "backgroundcolor": "#E5ECF6",
            "gridcolor": "white",
            "gridwidth": 2,
            "linecolor": "white",
            "showbackground": true,
            "ticks": "",
            "zerolinecolor": "white"
           }
          },
          "shapedefaults": {
           "line": {
            "color": "#2a3f5f"
           }
          },
          "ternary": {
           "aaxis": {
            "gridcolor": "white",
            "linecolor": "white",
            "ticks": ""
           },
           "baxis": {
            "gridcolor": "white",
            "linecolor": "white",
            "ticks": ""
           },
           "bgcolor": "#E5ECF6",
           "caxis": {
            "gridcolor": "white",
            "linecolor": "white",
            "ticks": ""
           }
          },
          "title": {
           "x": 0.05
          },
          "xaxis": {
           "automargin": true,
           "gridcolor": "white",
           "linecolor": "white",
           "ticks": "",
           "title": {
            "standoff": 15
           },
           "zerolinecolor": "white",
           "zerolinewidth": 2
          },
          "yaxis": {
           "automargin": true,
           "gridcolor": "white",
           "linecolor": "white",
           "ticks": "",
           "title": {
            "standoff": 15
           },
           "zerolinecolor": "white",
           "zerolinewidth": 2
          }
         }
        },
        "title": {
         "text": "Top 120 Count by Duration"
        },
        "xaxis": {
         "anchor": "y",
         "domain": [
          0,
          1
         ],
         "title": {
          "text": "Dur_Shrink"
         }
        },
        "yaxis": {
         "anchor": "x",
         "domain": [
          0,
          1
         ],
         "title": {
          "text": "count"
         }
        }
       }
      }
     },
     "metadata": {},
     "output_type": "display_data"
    }
   ],
   "source": [
    "result_vis['Dur_Shrink'] = result_vis['Duration'].apply(lambda x: x if x<500 else 500)\n",
    "#display(result_vis)\n",
    "\n",
    "fig4 = px.histogram(result_vis, x='Dur_Shrink', nbins=50, title='Top 120 Count by Duration')\n",
    "fig4.show()"
   ]
  },
  {
   "cell_type": "code",
   "execution_count": 20,
   "metadata": {},
   "outputs": [
    {
     "data": {
      "application/vnd.plotly.v1+json": {
       "config": {
        "plotlyServerURL": "https://plot.ly"
       },
       "data": [
        {
         "alignmentgroup": "True",
         "hovertemplate": "Category=%{x}<br>Total_Ranking=%{y}<extra></extra>",
         "legendgroup": "",
         "marker": {
          "color": "#636efa",
          "pattern": {
           "shape": ""
          }
         },
         "name": "",
         "offsetgroup": "",
         "orientation": "v",
         "showlegend": false,
         "textposition": "auto",
         "type": "bar",
         "x": [
          "Decoration",
          "Furniture",
          "Bathroom",
          "Other Models",
          "Technology",
          "Plants",
          "Kitchen",
          "Textures",
          "Materials",
          "Lighting",
          "Childroom",
          "Scripts"
         ],
         "xaxis": "x",
         "y": [
          1921,
          1741,
          805,
          507,
          440,
          401,
          361,
          350,
          255,
          231,
          162,
          86
         ],
         "yaxis": "y"
        }
       ],
       "layout": {
        "barmode": "relative",
        "legend": {
         "tracegroupgap": 0
        },
        "template": {
         "data": {
          "bar": [
           {
            "error_x": {
             "color": "#2a3f5f"
            },
            "error_y": {
             "color": "#2a3f5f"
            },
            "marker": {
             "line": {
              "color": "#E5ECF6",
              "width": 0.5
             },
             "pattern": {
              "fillmode": "overlay",
              "size": 10,
              "solidity": 0.2
             }
            },
            "type": "bar"
           }
          ],
          "barpolar": [
           {
            "marker": {
             "line": {
              "color": "#E5ECF6",
              "width": 0.5
             },
             "pattern": {
              "fillmode": "overlay",
              "size": 10,
              "solidity": 0.2
             }
            },
            "type": "barpolar"
           }
          ],
          "carpet": [
           {
            "aaxis": {
             "endlinecolor": "#2a3f5f",
             "gridcolor": "white",
             "linecolor": "white",
             "minorgridcolor": "white",
             "startlinecolor": "#2a3f5f"
            },
            "baxis": {
             "endlinecolor": "#2a3f5f",
             "gridcolor": "white",
             "linecolor": "white",
             "minorgridcolor": "white",
             "startlinecolor": "#2a3f5f"
            },
            "type": "carpet"
           }
          ],
          "choropleth": [
           {
            "colorbar": {
             "outlinewidth": 0,
             "ticks": ""
            },
            "type": "choropleth"
           }
          ],
          "contour": [
           {
            "colorbar": {
             "outlinewidth": 0,
             "ticks": ""
            },
            "colorscale": [
             [
              0,
              "#0d0887"
             ],
             [
              0.1111111111111111,
              "#46039f"
             ],
             [
              0.2222222222222222,
              "#7201a8"
             ],
             [
              0.3333333333333333,
              "#9c179e"
             ],
             [
              0.4444444444444444,
              "#bd3786"
             ],
             [
              0.5555555555555556,
              "#d8576b"
             ],
             [
              0.6666666666666666,
              "#ed7953"
             ],
             [
              0.7777777777777778,
              "#fb9f3a"
             ],
             [
              0.8888888888888888,
              "#fdca26"
             ],
             [
              1,
              "#f0f921"
             ]
            ],
            "type": "contour"
           }
          ],
          "contourcarpet": [
           {
            "colorbar": {
             "outlinewidth": 0,
             "ticks": ""
            },
            "type": "contourcarpet"
           }
          ],
          "heatmap": [
           {
            "colorbar": {
             "outlinewidth": 0,
             "ticks": ""
            },
            "colorscale": [
             [
              0,
              "#0d0887"
             ],
             [
              0.1111111111111111,
              "#46039f"
             ],
             [
              0.2222222222222222,
              "#7201a8"
             ],
             [
              0.3333333333333333,
              "#9c179e"
             ],
             [
              0.4444444444444444,
              "#bd3786"
             ],
             [
              0.5555555555555556,
              "#d8576b"
             ],
             [
              0.6666666666666666,
              "#ed7953"
             ],
             [
              0.7777777777777778,
              "#fb9f3a"
             ],
             [
              0.8888888888888888,
              "#fdca26"
             ],
             [
              1,
              "#f0f921"
             ]
            ],
            "type": "heatmap"
           }
          ],
          "heatmapgl": [
           {
            "colorbar": {
             "outlinewidth": 0,
             "ticks": ""
            },
            "colorscale": [
             [
              0,
              "#0d0887"
             ],
             [
              0.1111111111111111,
              "#46039f"
             ],
             [
              0.2222222222222222,
              "#7201a8"
             ],
             [
              0.3333333333333333,
              "#9c179e"
             ],
             [
              0.4444444444444444,
              "#bd3786"
             ],
             [
              0.5555555555555556,
              "#d8576b"
             ],
             [
              0.6666666666666666,
              "#ed7953"
             ],
             [
              0.7777777777777778,
              "#fb9f3a"
             ],
             [
              0.8888888888888888,
              "#fdca26"
             ],
             [
              1,
              "#f0f921"
             ]
            ],
            "type": "heatmapgl"
           }
          ],
          "histogram": [
           {
            "marker": {
             "pattern": {
              "fillmode": "overlay",
              "size": 10,
              "solidity": 0.2
             }
            },
            "type": "histogram"
           }
          ],
          "histogram2d": [
           {
            "colorbar": {
             "outlinewidth": 0,
             "ticks": ""
            },
            "colorscale": [
             [
              0,
              "#0d0887"
             ],
             [
              0.1111111111111111,
              "#46039f"
             ],
             [
              0.2222222222222222,
              "#7201a8"
             ],
             [
              0.3333333333333333,
              "#9c179e"
             ],
             [
              0.4444444444444444,
              "#bd3786"
             ],
             [
              0.5555555555555556,
              "#d8576b"
             ],
             [
              0.6666666666666666,
              "#ed7953"
             ],
             [
              0.7777777777777778,
              "#fb9f3a"
             ],
             [
              0.8888888888888888,
              "#fdca26"
             ],
             [
              1,
              "#f0f921"
             ]
            ],
            "type": "histogram2d"
           }
          ],
          "histogram2dcontour": [
           {
            "colorbar": {
             "outlinewidth": 0,
             "ticks": ""
            },
            "colorscale": [
             [
              0,
              "#0d0887"
             ],
             [
              0.1111111111111111,
              "#46039f"
             ],
             [
              0.2222222222222222,
              "#7201a8"
             ],
             [
              0.3333333333333333,
              "#9c179e"
             ],
             [
              0.4444444444444444,
              "#bd3786"
             ],
             [
              0.5555555555555556,
              "#d8576b"
             ],
             [
              0.6666666666666666,
              "#ed7953"
             ],
             [
              0.7777777777777778,
              "#fb9f3a"
             ],
             [
              0.8888888888888888,
              "#fdca26"
             ],
             [
              1,
              "#f0f921"
             ]
            ],
            "type": "histogram2dcontour"
           }
          ],
          "mesh3d": [
           {
            "colorbar": {
             "outlinewidth": 0,
             "ticks": ""
            },
            "type": "mesh3d"
           }
          ],
          "parcoords": [
           {
            "line": {
             "colorbar": {
              "outlinewidth": 0,
              "ticks": ""
             }
            },
            "type": "parcoords"
           }
          ],
          "pie": [
           {
            "automargin": true,
            "type": "pie"
           }
          ],
          "scatter": [
           {
            "fillpattern": {
             "fillmode": "overlay",
             "size": 10,
             "solidity": 0.2
            },
            "type": "scatter"
           }
          ],
          "scatter3d": [
           {
            "line": {
             "colorbar": {
              "outlinewidth": 0,
              "ticks": ""
             }
            },
            "marker": {
             "colorbar": {
              "outlinewidth": 0,
              "ticks": ""
             }
            },
            "type": "scatter3d"
           }
          ],
          "scattercarpet": [
           {
            "marker": {
             "colorbar": {
              "outlinewidth": 0,
              "ticks": ""
             }
            },
            "type": "scattercarpet"
           }
          ],
          "scattergeo": [
           {
            "marker": {
             "colorbar": {
              "outlinewidth": 0,
              "ticks": ""
             }
            },
            "type": "scattergeo"
           }
          ],
          "scattergl": [
           {
            "marker": {
             "colorbar": {
              "outlinewidth": 0,
              "ticks": ""
             }
            },
            "type": "scattergl"
           }
          ],
          "scattermapbox": [
           {
            "marker": {
             "colorbar": {
              "outlinewidth": 0,
              "ticks": ""
             }
            },
            "type": "scattermapbox"
           }
          ],
          "scatterpolar": [
           {
            "marker": {
             "colorbar": {
              "outlinewidth": 0,
              "ticks": ""
             }
            },
            "type": "scatterpolar"
           }
          ],
          "scatterpolargl": [
           {
            "marker": {
             "colorbar": {
              "outlinewidth": 0,
              "ticks": ""
             }
            },
            "type": "scatterpolargl"
           }
          ],
          "scatterternary": [
           {
            "marker": {
             "colorbar": {
              "outlinewidth": 0,
              "ticks": ""
             }
            },
            "type": "scatterternary"
           }
          ],
          "surface": [
           {
            "colorbar": {
             "outlinewidth": 0,
             "ticks": ""
            },
            "colorscale": [
             [
              0,
              "#0d0887"
             ],
             [
              0.1111111111111111,
              "#46039f"
             ],
             [
              0.2222222222222222,
              "#7201a8"
             ],
             [
              0.3333333333333333,
              "#9c179e"
             ],
             [
              0.4444444444444444,
              "#bd3786"
             ],
             [
              0.5555555555555556,
              "#d8576b"
             ],
             [
              0.6666666666666666,
              "#ed7953"
             ],
             [
              0.7777777777777778,
              "#fb9f3a"
             ],
             [
              0.8888888888888888,
              "#fdca26"
             ],
             [
              1,
              "#f0f921"
             ]
            ],
            "type": "surface"
           }
          ],
          "table": [
           {
            "cells": {
             "fill": {
              "color": "#EBF0F8"
             },
             "line": {
              "color": "white"
             }
            },
            "header": {
             "fill": {
              "color": "#C8D4E3"
             },
             "line": {
              "color": "white"
             }
            },
            "type": "table"
           }
          ]
         },
         "layout": {
          "annotationdefaults": {
           "arrowcolor": "#2a3f5f",
           "arrowhead": 0,
           "arrowwidth": 1
          },
          "autotypenumbers": "strict",
          "coloraxis": {
           "colorbar": {
            "outlinewidth": 0,
            "ticks": ""
           }
          },
          "colorscale": {
           "diverging": [
            [
             0,
             "#8e0152"
            ],
            [
             0.1,
             "#c51b7d"
            ],
            [
             0.2,
             "#de77ae"
            ],
            [
             0.3,
             "#f1b6da"
            ],
            [
             0.4,
             "#fde0ef"
            ],
            [
             0.5,
             "#f7f7f7"
            ],
            [
             0.6,
             "#e6f5d0"
            ],
            [
             0.7,
             "#b8e186"
            ],
            [
             0.8,
             "#7fbc41"
            ],
            [
             0.9,
             "#4d9221"
            ],
            [
             1,
             "#276419"
            ]
           ],
           "sequential": [
            [
             0,
             "#0d0887"
            ],
            [
             0.1111111111111111,
             "#46039f"
            ],
            [
             0.2222222222222222,
             "#7201a8"
            ],
            [
             0.3333333333333333,
             "#9c179e"
            ],
            [
             0.4444444444444444,
             "#bd3786"
            ],
            [
             0.5555555555555556,
             "#d8576b"
            ],
            [
             0.6666666666666666,
             "#ed7953"
            ],
            [
             0.7777777777777778,
             "#fb9f3a"
            ],
            [
             0.8888888888888888,
             "#fdca26"
            ],
            [
             1,
             "#f0f921"
            ]
           ],
           "sequentialminus": [
            [
             0,
             "#0d0887"
            ],
            [
             0.1111111111111111,
             "#46039f"
            ],
            [
             0.2222222222222222,
             "#7201a8"
            ],
            [
             0.3333333333333333,
             "#9c179e"
            ],
            [
             0.4444444444444444,
             "#bd3786"
            ],
            [
             0.5555555555555556,
             "#d8576b"
            ],
            [
             0.6666666666666666,
             "#ed7953"
            ],
            [
             0.7777777777777778,
             "#fb9f3a"
            ],
            [
             0.8888888888888888,
             "#fdca26"
            ],
            [
             1,
             "#f0f921"
            ]
           ]
          },
          "colorway": [
           "#636efa",
           "#EF553B",
           "#00cc96",
           "#ab63fa",
           "#FFA15A",
           "#19d3f3",
           "#FF6692",
           "#B6E880",
           "#FF97FF",
           "#FECB52"
          ],
          "font": {
           "color": "#2a3f5f"
          },
          "geo": {
           "bgcolor": "white",
           "lakecolor": "white",
           "landcolor": "#E5ECF6",
           "showlakes": true,
           "showland": true,
           "subunitcolor": "white"
          },
          "hoverlabel": {
           "align": "left"
          },
          "hovermode": "closest",
          "mapbox": {
           "style": "light"
          },
          "paper_bgcolor": "white",
          "plot_bgcolor": "#E5ECF6",
          "polar": {
           "angularaxis": {
            "gridcolor": "white",
            "linecolor": "white",
            "ticks": ""
           },
           "bgcolor": "#E5ECF6",
           "radialaxis": {
            "gridcolor": "white",
            "linecolor": "white",
            "ticks": ""
           }
          },
          "scene": {
           "xaxis": {
            "backgroundcolor": "#E5ECF6",
            "gridcolor": "white",
            "gridwidth": 2,
            "linecolor": "white",
            "showbackground": true,
            "ticks": "",
            "zerolinecolor": "white"
           },
           "yaxis": {
            "backgroundcolor": "#E5ECF6",
            "gridcolor": "white",
            "gridwidth": 2,
            "linecolor": "white",
            "showbackground": true,
            "ticks": "",
            "zerolinecolor": "white"
           },
           "zaxis": {
            "backgroundcolor": "#E5ECF6",
            "gridcolor": "white",
            "gridwidth": 2,
            "linecolor": "white",
            "showbackground": true,
            "ticks": "",
            "zerolinecolor": "white"
           }
          },
          "shapedefaults": {
           "line": {
            "color": "#2a3f5f"
           }
          },
          "ternary": {
           "aaxis": {
            "gridcolor": "white",
            "linecolor": "white",
            "ticks": ""
           },
           "baxis": {
            "gridcolor": "white",
            "linecolor": "white",
            "ticks": ""
           },
           "bgcolor": "#E5ECF6",
           "caxis": {
            "gridcolor": "white",
            "linecolor": "white",
            "ticks": ""
           }
          },
          "title": {
           "x": 0.05
          },
          "xaxis": {
           "automargin": true,
           "gridcolor": "white",
           "linecolor": "white",
           "ticks": "",
           "title": {
            "standoff": 15
           },
           "zerolinecolor": "white",
           "zerolinewidth": 2
          },
          "yaxis": {
           "automargin": true,
           "gridcolor": "white",
           "linecolor": "white",
           "ticks": "",
           "title": {
            "standoff": 15
           },
           "zerolinecolor": "white",
           "zerolinewidth": 2
          }
         }
        },
        "title": {
         "text": "Top 120 total Rank by Category"
        },
        "xaxis": {
         "anchor": "y",
         "domain": [
          0,
          1
         ],
         "title": {
          "text": "Category"
         }
        },
        "yaxis": {
         "anchor": "x",
         "domain": [
          0,
          1
         ],
         "title": {
          "text": "Total_Ranking"
         }
        }
       }
      }
     },
     "metadata": {},
     "output_type": "display_data"
    }
   ],
   "source": [
    "result_vis['Ranking'] = 121 - result_vis['N']\n",
    "\n",
    "result_grouped_cat_ranking = result_vis.groupby(by=['Category'], as_index=False)['Ranking'].sum()\n",
    "result_grouped_cat_ranking.columns = ['Category', 'Total_Ranking']\n",
    "result_grouped_sort_ranking = result_grouped_cat_ranking.sort_values(by='Total_Ranking', ascending=False) # type: ignore\n",
    "\n",
    "fig5 = px.bar(result_grouped_sort_ranking, x='Category', y='Total_Ranking', title='Top 120 total Rank by Category')\n",
    "fig5.show()"
   ]
  },
  {
   "cell_type": "code",
   "execution_count": 21,
   "metadata": {},
   "outputs": [
    {
     "name": "stderr",
     "output_type": "stream",
     "text": [
      "c:\\Users\\mi_al\\AppData\\Local\\Programs\\Python\\Python39\\lib\\site-packages\\plotly\\express\\_core.py:1985: FutureWarning:\n",
      "\n",
      "When grouping with a length-1 list-like, you will need to pass a length-1 tuple to get_group in a future version of pandas. Pass `(name,)` instead of `name` to silence this warning.\n",
      "\n"
     ]
    },
    {
     "data": {
      "application/vnd.plotly.v1+json": {
       "config": {
        "plotlyServerURL": "https://plot.ly"
       },
       "data": [
        {
         "alignmentgroup": "True",
         "hovertemplate": "Category=%{x}<br>Ranking=%{y}<extra></extra>",
         "legendgroup": "Decoration",
         "marker": {
          "color": "#636efa"
         },
         "name": "Decoration",
         "notched": false,
         "offsetgroup": "Decoration",
         "orientation": "v",
         "showlegend": true,
         "type": "box",
         "x": [
          "Decoration",
          "Decoration",
          "Decoration",
          "Decoration",
          "Decoration",
          "Decoration",
          "Decoration",
          "Decoration",
          "Decoration",
          "Decoration",
          "Decoration",
          "Decoration",
          "Decoration",
          "Decoration",
          "Decoration",
          "Decoration",
          "Decoration",
          "Decoration",
          "Decoration",
          "Decoration",
          "Decoration",
          "Decoration",
          "Decoration",
          "Decoration",
          "Decoration",
          "Decoration"
         ],
         "x0": " ",
         "xaxis": "x",
         "y": [
          120,
          119,
          116,
          112,
          108,
          106,
          102,
          99,
          96,
          93,
          92,
          91,
          90,
          83,
          73,
          71,
          69,
          61,
          46,
          44,
          43,
          30,
          25,
          13,
          11,
          8
         ],
         "y0": " ",
         "yaxis": "y"
        },
        {
         "alignmentgroup": "True",
         "hovertemplate": "Category=%{x}<br>Ranking=%{y}<extra></extra>",
         "legendgroup": "Furniture",
         "marker": {
          "color": "#EF553B"
         },
         "name": "Furniture",
         "notched": false,
         "offsetgroup": "Furniture",
         "orientation": "v",
         "showlegend": true,
         "type": "box",
         "x": [
          "Furniture",
          "Furniture",
          "Furniture",
          "Furniture",
          "Furniture",
          "Furniture",
          "Furniture",
          "Furniture",
          "Furniture",
          "Furniture",
          "Furniture",
          "Furniture",
          "Furniture",
          "Furniture",
          "Furniture",
          "Furniture",
          "Furniture",
          "Furniture",
          "Furniture",
          "Furniture",
          "Furniture",
          "Furniture",
          "Furniture",
          "Furniture",
          "Furniture",
          "Furniture",
          "Furniture"
         ],
         "x0": " ",
         "xaxis": "x",
         "y": [
          118,
          115,
          114,
          110,
          94,
          88,
          85,
          84,
          81,
          78,
          76,
          72,
          70,
          68,
          65,
          64,
          56,
          54,
          50,
          41,
          34,
          29,
          28,
          26,
          22,
          15,
          4
         ],
         "y0": " ",
         "yaxis": "y"
        },
        {
         "alignmentgroup": "True",
         "hovertemplate": "Category=%{x}<br>Ranking=%{y}<extra></extra>",
         "legendgroup": "Bathroom",
         "marker": {
          "color": "#00cc96"
         },
         "name": "Bathroom",
         "notched": false,
         "offsetgroup": "Bathroom",
         "orientation": "v",
         "showlegend": true,
         "type": "box",
         "x": [
          "Bathroom",
          "Bathroom",
          "Bathroom",
          "Bathroom",
          "Bathroom",
          "Bathroom",
          "Bathroom",
          "Bathroom",
          "Bathroom",
          "Bathroom",
          "Bathroom",
          "Bathroom"
         ],
         "x0": " ",
         "xaxis": "x",
         "y": [
          117,
          111,
          109,
          105,
          101,
          63,
          49,
          45,
          36,
          31,
          20,
          18
         ],
         "y0": " ",
         "yaxis": "y"
        },
        {
         "alignmentgroup": "True",
         "hovertemplate": "Category=%{x}<br>Ranking=%{y}<extra></extra>",
         "legendgroup": "Technology",
         "marker": {
          "color": "#ab63fa"
         },
         "name": "Technology",
         "notched": false,
         "offsetgroup": "Technology",
         "orientation": "v",
         "showlegend": true,
         "type": "box",
         "x": [
          "Technology",
          "Technology",
          "Technology",
          "Technology",
          "Technology",
          "Technology",
          "Technology",
          "Technology"
         ],
         "x0": " ",
         "xaxis": "x",
         "y": [
          113,
          107,
          77,
          57,
          52,
          16,
          12,
          6
         ],
         "y0": " ",
         "yaxis": "y"
        },
        {
         "alignmentgroup": "True",
         "hovertemplate": "Category=%{x}<br>Ranking=%{y}<extra></extra>",
         "legendgroup": "Plants",
         "marker": {
          "color": "#FFA15A"
         },
         "name": "Plants",
         "notched": false,
         "offsetgroup": "Plants",
         "orientation": "v",
         "showlegend": true,
         "type": "box",
         "x": [
          "Plants",
          "Plants",
          "Plants",
          "Plants",
          "Plants",
          "Plants",
          "Plants"
         ],
         "x0": " ",
         "xaxis": "x",
         "y": [
          104,
          89,
          82,
          38,
          35,
          32,
          21
         ],
         "y0": " ",
         "yaxis": "y"
        },
        {
         "alignmentgroup": "True",
         "hovertemplate": "Category=%{x}<br>Ranking=%{y}<extra></extra>",
         "legendgroup": "Lighting",
         "marker": {
          "color": "#19d3f3"
         },
         "name": "Lighting",
         "notched": false,
         "offsetgroup": "Lighting",
         "orientation": "v",
         "showlegend": true,
         "type": "box",
         "x": [
          "Lighting",
          "Lighting",
          "Lighting"
         ],
         "x0": " ",
         "xaxis": "x",
         "y": [
          103,
          66,
          62
         ],
         "y0": " ",
         "yaxis": "y"
        },
        {
         "alignmentgroup": "True",
         "hovertemplate": "Category=%{x}<br>Ranking=%{y}<extra></extra>",
         "legendgroup": "Textures",
         "marker": {
          "color": "#FF6692"
         },
         "name": "Textures",
         "notched": false,
         "offsetgroup": "Textures",
         "orientation": "v",
         "showlegend": true,
         "type": "box",
         "x": [
          "Textures",
          "Textures",
          "Textures",
          "Textures",
          "Textures",
          "Textures",
          "Textures"
         ],
         "x0": " ",
         "xaxis": "x",
         "y": [
          100,
          60,
          58,
          55,
          42,
          33,
          2
         ],
         "y0": " ",
         "yaxis": "y"
        },
        {
         "alignmentgroup": "True",
         "hovertemplate": "Category=%{x}<br>Ranking=%{y}<extra></extra>",
         "legendgroup": "Other Models",
         "marker": {
          "color": "#B6E880"
         },
         "name": "Other Models",
         "notched": false,
         "offsetgroup": "Other Models",
         "orientation": "v",
         "showlegend": true,
         "type": "box",
         "x": [
          "Other Models",
          "Other Models",
          "Other Models",
          "Other Models",
          "Other Models",
          "Other Models",
          "Other Models",
          "Other Models",
          "Other Models",
          "Other Models",
          "Other Models"
         ],
         "x0": " ",
         "xaxis": "x",
         "y": [
          98,
          97,
          67,
          59,
          53,
          39,
          37,
          23,
          19,
          10,
          5
         ],
         "y0": " ",
         "yaxis": "y"
        },
        {
         "alignmentgroup": "True",
         "hovertemplate": "Category=%{x}<br>Ranking=%{y}<extra></extra>",
         "legendgroup": "Materials",
         "marker": {
          "color": "#FF97FF"
         },
         "name": "Materials",
         "notched": false,
         "offsetgroup": "Materials",
         "orientation": "v",
         "showlegend": true,
         "type": "box",
         "x": [
          "Materials",
          "Materials",
          "Materials",
          "Materials"
         ],
         "x0": " ",
         "xaxis": "x",
         "y": [
          95,
          79,
          74,
          7
         ],
         "y0": " ",
         "yaxis": "y"
        },
        {
         "alignmentgroup": "True",
         "hovertemplate": "Category=%{x}<br>Ranking=%{y}<extra></extra>",
         "legendgroup": "Kitchen",
         "marker": {
          "color": "#FECB52"
         },
         "name": "Kitchen",
         "notched": false,
         "offsetgroup": "Kitchen",
         "orientation": "v",
         "showlegend": true,
         "type": "box",
         "x": [
          "Kitchen",
          "Kitchen",
          "Kitchen",
          "Kitchen",
          "Kitchen",
          "Kitchen",
          "Kitchen",
          "Kitchen",
          "Kitchen"
         ],
         "x0": " ",
         "xaxis": "x",
         "y": [
          87,
          75,
          48,
          47,
          40,
          24,
          17,
          14,
          9
         ],
         "y0": " ",
         "yaxis": "y"
        },
        {
         "alignmentgroup": "True",
         "hovertemplate": "Category=%{x}<br>Ranking=%{y}<extra></extra>",
         "legendgroup": "Scripts",
         "marker": {
          "color": "#636efa"
         },
         "name": "Scripts",
         "notched": false,
         "offsetgroup": "Scripts",
         "orientation": "v",
         "showlegend": true,
         "type": "box",
         "x": [
          "Scripts"
         ],
         "x0": " ",
         "xaxis": "x",
         "y": [
          86
         ],
         "y0": " ",
         "yaxis": "y"
        },
        {
         "alignmentgroup": "True",
         "hovertemplate": "Category=%{x}<br>Ranking=%{y}<extra></extra>",
         "legendgroup": "Childroom",
         "marker": {
          "color": "#EF553B"
         },
         "name": "Childroom",
         "notched": false,
         "offsetgroup": "Childroom",
         "orientation": "v",
         "showlegend": true,
         "type": "box",
         "x": [
          "Childroom",
          "Childroom",
          "Childroom",
          "Childroom",
          "Childroom"
         ],
         "x0": " ",
         "xaxis": "x",
         "y": [
          80,
          51,
          27,
          3,
          1
         ],
         "y0": " ",
         "yaxis": "y"
        }
       ],
       "layout": {
        "boxmode": "overlay",
        "legend": {
         "title": {
          "text": "Category"
         },
         "tracegroupgap": 0
        },
        "template": {
         "data": {
          "bar": [
           {
            "error_x": {
             "color": "#2a3f5f"
            },
            "error_y": {
             "color": "#2a3f5f"
            },
            "marker": {
             "line": {
              "color": "#E5ECF6",
              "width": 0.5
             },
             "pattern": {
              "fillmode": "overlay",
              "size": 10,
              "solidity": 0.2
             }
            },
            "type": "bar"
           }
          ],
          "barpolar": [
           {
            "marker": {
             "line": {
              "color": "#E5ECF6",
              "width": 0.5
             },
             "pattern": {
              "fillmode": "overlay",
              "size": 10,
              "solidity": 0.2
             }
            },
            "type": "barpolar"
           }
          ],
          "carpet": [
           {
            "aaxis": {
             "endlinecolor": "#2a3f5f",
             "gridcolor": "white",
             "linecolor": "white",
             "minorgridcolor": "white",
             "startlinecolor": "#2a3f5f"
            },
            "baxis": {
             "endlinecolor": "#2a3f5f",
             "gridcolor": "white",
             "linecolor": "white",
             "minorgridcolor": "white",
             "startlinecolor": "#2a3f5f"
            },
            "type": "carpet"
           }
          ],
          "choropleth": [
           {
            "colorbar": {
             "outlinewidth": 0,
             "ticks": ""
            },
            "type": "choropleth"
           }
          ],
          "contour": [
           {
            "colorbar": {
             "outlinewidth": 0,
             "ticks": ""
            },
            "colorscale": [
             [
              0,
              "#0d0887"
             ],
             [
              0.1111111111111111,
              "#46039f"
             ],
             [
              0.2222222222222222,
              "#7201a8"
             ],
             [
              0.3333333333333333,
              "#9c179e"
             ],
             [
              0.4444444444444444,
              "#bd3786"
             ],
             [
              0.5555555555555556,
              "#d8576b"
             ],
             [
              0.6666666666666666,
              "#ed7953"
             ],
             [
              0.7777777777777778,
              "#fb9f3a"
             ],
             [
              0.8888888888888888,
              "#fdca26"
             ],
             [
              1,
              "#f0f921"
             ]
            ],
            "type": "contour"
           }
          ],
          "contourcarpet": [
           {
            "colorbar": {
             "outlinewidth": 0,
             "ticks": ""
            },
            "type": "contourcarpet"
           }
          ],
          "heatmap": [
           {
            "colorbar": {
             "outlinewidth": 0,
             "ticks": ""
            },
            "colorscale": [
             [
              0,
              "#0d0887"
             ],
             [
              0.1111111111111111,
              "#46039f"
             ],
             [
              0.2222222222222222,
              "#7201a8"
             ],
             [
              0.3333333333333333,
              "#9c179e"
             ],
             [
              0.4444444444444444,
              "#bd3786"
             ],
             [
              0.5555555555555556,
              "#d8576b"
             ],
             [
              0.6666666666666666,
              "#ed7953"
             ],
             [
              0.7777777777777778,
              "#fb9f3a"
             ],
             [
              0.8888888888888888,
              "#fdca26"
             ],
             [
              1,
              "#f0f921"
             ]
            ],
            "type": "heatmap"
           }
          ],
          "heatmapgl": [
           {
            "colorbar": {
             "outlinewidth": 0,
             "ticks": ""
            },
            "colorscale": [
             [
              0,
              "#0d0887"
             ],
             [
              0.1111111111111111,
              "#46039f"
             ],
             [
              0.2222222222222222,
              "#7201a8"
             ],
             [
              0.3333333333333333,
              "#9c179e"
             ],
             [
              0.4444444444444444,
              "#bd3786"
             ],
             [
              0.5555555555555556,
              "#d8576b"
             ],
             [
              0.6666666666666666,
              "#ed7953"
             ],
             [
              0.7777777777777778,
              "#fb9f3a"
             ],
             [
              0.8888888888888888,
              "#fdca26"
             ],
             [
              1,
              "#f0f921"
             ]
            ],
            "type": "heatmapgl"
           }
          ],
          "histogram": [
           {
            "marker": {
             "pattern": {
              "fillmode": "overlay",
              "size": 10,
              "solidity": 0.2
             }
            },
            "type": "histogram"
           }
          ],
          "histogram2d": [
           {
            "colorbar": {
             "outlinewidth": 0,
             "ticks": ""
            },
            "colorscale": [
             [
              0,
              "#0d0887"
             ],
             [
              0.1111111111111111,
              "#46039f"
             ],
             [
              0.2222222222222222,
              "#7201a8"
             ],
             [
              0.3333333333333333,
              "#9c179e"
             ],
             [
              0.4444444444444444,
              "#bd3786"
             ],
             [
              0.5555555555555556,
              "#d8576b"
             ],
             [
              0.6666666666666666,
              "#ed7953"
             ],
             [
              0.7777777777777778,
              "#fb9f3a"
             ],
             [
              0.8888888888888888,
              "#fdca26"
             ],
             [
              1,
              "#f0f921"
             ]
            ],
            "type": "histogram2d"
           }
          ],
          "histogram2dcontour": [
           {
            "colorbar": {
             "outlinewidth": 0,
             "ticks": ""
            },
            "colorscale": [
             [
              0,
              "#0d0887"
             ],
             [
              0.1111111111111111,
              "#46039f"
             ],
             [
              0.2222222222222222,
              "#7201a8"
             ],
             [
              0.3333333333333333,
              "#9c179e"
             ],
             [
              0.4444444444444444,
              "#bd3786"
             ],
             [
              0.5555555555555556,
              "#d8576b"
             ],
             [
              0.6666666666666666,
              "#ed7953"
             ],
             [
              0.7777777777777778,
              "#fb9f3a"
             ],
             [
              0.8888888888888888,
              "#fdca26"
             ],
             [
              1,
              "#f0f921"
             ]
            ],
            "type": "histogram2dcontour"
           }
          ],
          "mesh3d": [
           {
            "colorbar": {
             "outlinewidth": 0,
             "ticks": ""
            },
            "type": "mesh3d"
           }
          ],
          "parcoords": [
           {
            "line": {
             "colorbar": {
              "outlinewidth": 0,
              "ticks": ""
             }
            },
            "type": "parcoords"
           }
          ],
          "pie": [
           {
            "automargin": true,
            "type": "pie"
           }
          ],
          "scatter": [
           {
            "fillpattern": {
             "fillmode": "overlay",
             "size": 10,
             "solidity": 0.2
            },
            "type": "scatter"
           }
          ],
          "scatter3d": [
           {
            "line": {
             "colorbar": {
              "outlinewidth": 0,
              "ticks": ""
             }
            },
            "marker": {
             "colorbar": {
              "outlinewidth": 0,
              "ticks": ""
             }
            },
            "type": "scatter3d"
           }
          ],
          "scattercarpet": [
           {
            "marker": {
             "colorbar": {
              "outlinewidth": 0,
              "ticks": ""
             }
            },
            "type": "scattercarpet"
           }
          ],
          "scattergeo": [
           {
            "marker": {
             "colorbar": {
              "outlinewidth": 0,
              "ticks": ""
             }
            },
            "type": "scattergeo"
           }
          ],
          "scattergl": [
           {
            "marker": {
             "colorbar": {
              "outlinewidth": 0,
              "ticks": ""
             }
            },
            "type": "scattergl"
           }
          ],
          "scattermapbox": [
           {
            "marker": {
             "colorbar": {
              "outlinewidth": 0,
              "ticks": ""
             }
            },
            "type": "scattermapbox"
           }
          ],
          "scatterpolar": [
           {
            "marker": {
             "colorbar": {
              "outlinewidth": 0,
              "ticks": ""
             }
            },
            "type": "scatterpolar"
           }
          ],
          "scatterpolargl": [
           {
            "marker": {
             "colorbar": {
              "outlinewidth": 0,
              "ticks": ""
             }
            },
            "type": "scatterpolargl"
           }
          ],
          "scatterternary": [
           {
            "marker": {
             "colorbar": {
              "outlinewidth": 0,
              "ticks": ""
             }
            },
            "type": "scatterternary"
           }
          ],
          "surface": [
           {
            "colorbar": {
             "outlinewidth": 0,
             "ticks": ""
            },
            "colorscale": [
             [
              0,
              "#0d0887"
             ],
             [
              0.1111111111111111,
              "#46039f"
             ],
             [
              0.2222222222222222,
              "#7201a8"
             ],
             [
              0.3333333333333333,
              "#9c179e"
             ],
             [
              0.4444444444444444,
              "#bd3786"
             ],
             [
              0.5555555555555556,
              "#d8576b"
             ],
             [
              0.6666666666666666,
              "#ed7953"
             ],
             [
              0.7777777777777778,
              "#fb9f3a"
             ],
             [
              0.8888888888888888,
              "#fdca26"
             ],
             [
              1,
              "#f0f921"
             ]
            ],
            "type": "surface"
           }
          ],
          "table": [
           {
            "cells": {
             "fill": {
              "color": "#EBF0F8"
             },
             "line": {
              "color": "white"
             }
            },
            "header": {
             "fill": {
              "color": "#C8D4E3"
             },
             "line": {
              "color": "white"
             }
            },
            "type": "table"
           }
          ]
         },
         "layout": {
          "annotationdefaults": {
           "arrowcolor": "#2a3f5f",
           "arrowhead": 0,
           "arrowwidth": 1
          },
          "autotypenumbers": "strict",
          "coloraxis": {
           "colorbar": {
            "outlinewidth": 0,
            "ticks": ""
           }
          },
          "colorscale": {
           "diverging": [
            [
             0,
             "#8e0152"
            ],
            [
             0.1,
             "#c51b7d"
            ],
            [
             0.2,
             "#de77ae"
            ],
            [
             0.3,
             "#f1b6da"
            ],
            [
             0.4,
             "#fde0ef"
            ],
            [
             0.5,
             "#f7f7f7"
            ],
            [
             0.6,
             "#e6f5d0"
            ],
            [
             0.7,
             "#b8e186"
            ],
            [
             0.8,
             "#7fbc41"
            ],
            [
             0.9,
             "#4d9221"
            ],
            [
             1,
             "#276419"
            ]
           ],
           "sequential": [
            [
             0,
             "#0d0887"
            ],
            [
             0.1111111111111111,
             "#46039f"
            ],
            [
             0.2222222222222222,
             "#7201a8"
            ],
            [
             0.3333333333333333,
             "#9c179e"
            ],
            [
             0.4444444444444444,
             "#bd3786"
            ],
            [
             0.5555555555555556,
             "#d8576b"
            ],
            [
             0.6666666666666666,
             "#ed7953"
            ],
            [
             0.7777777777777778,
             "#fb9f3a"
            ],
            [
             0.8888888888888888,
             "#fdca26"
            ],
            [
             1,
             "#f0f921"
            ]
           ],
           "sequentialminus": [
            [
             0,
             "#0d0887"
            ],
            [
             0.1111111111111111,
             "#46039f"
            ],
            [
             0.2222222222222222,
             "#7201a8"
            ],
            [
             0.3333333333333333,
             "#9c179e"
            ],
            [
             0.4444444444444444,
             "#bd3786"
            ],
            [
             0.5555555555555556,
             "#d8576b"
            ],
            [
             0.6666666666666666,
             "#ed7953"
            ],
            [
             0.7777777777777778,
             "#fb9f3a"
            ],
            [
             0.8888888888888888,
             "#fdca26"
            ],
            [
             1,
             "#f0f921"
            ]
           ]
          },
          "colorway": [
           "#636efa",
           "#EF553B",
           "#00cc96",
           "#ab63fa",
           "#FFA15A",
           "#19d3f3",
           "#FF6692",
           "#B6E880",
           "#FF97FF",
           "#FECB52"
          ],
          "font": {
           "color": "#2a3f5f"
          },
          "geo": {
           "bgcolor": "white",
           "lakecolor": "white",
           "landcolor": "#E5ECF6",
           "showlakes": true,
           "showland": true,
           "subunitcolor": "white"
          },
          "hoverlabel": {
           "align": "left"
          },
          "hovermode": "closest",
          "mapbox": {
           "style": "light"
          },
          "paper_bgcolor": "white",
          "plot_bgcolor": "#E5ECF6",
          "polar": {
           "angularaxis": {
            "gridcolor": "white",
            "linecolor": "white",
            "ticks": ""
           },
           "bgcolor": "#E5ECF6",
           "radialaxis": {
            "gridcolor": "white",
            "linecolor": "white",
            "ticks": ""
           }
          },
          "scene": {
           "xaxis": {
            "backgroundcolor": "#E5ECF6",
            "gridcolor": "white",
            "gridwidth": 2,
            "linecolor": "white",
            "showbackground": true,
            "ticks": "",
            "zerolinecolor": "white"
           },
           "yaxis": {
            "backgroundcolor": "#E5ECF6",
            "gridcolor": "white",
            "gridwidth": 2,
            "linecolor": "white",
            "showbackground": true,
            "ticks": "",
            "zerolinecolor": "white"
           },
           "zaxis": {
            "backgroundcolor": "#E5ECF6",
            "gridcolor": "white",
            "gridwidth": 2,
            "linecolor": "white",
            "showbackground": true,
            "ticks": "",
            "zerolinecolor": "white"
           }
          },
          "shapedefaults": {
           "line": {
            "color": "#2a3f5f"
           }
          },
          "ternary": {
           "aaxis": {
            "gridcolor": "white",
            "linecolor": "white",
            "ticks": ""
           },
           "baxis": {
            "gridcolor": "white",
            "linecolor": "white",
            "ticks": ""
           },
           "bgcolor": "#E5ECF6",
           "caxis": {
            "gridcolor": "white",
            "linecolor": "white",
            "ticks": ""
           }
          },
          "title": {
           "x": 0.05
          },
          "xaxis": {
           "automargin": true,
           "gridcolor": "white",
           "linecolor": "white",
           "ticks": "",
           "title": {
            "standoff": 15
           },
           "zerolinecolor": "white",
           "zerolinewidth": 2
          },
          "yaxis": {
           "automargin": true,
           "gridcolor": "white",
           "linecolor": "white",
           "ticks": "",
           "title": {
            "standoff": 15
           },
           "zerolinecolor": "white",
           "zerolinewidth": 2
          }
         }
        },
        "title": {
         "text": "Top 120 Rank distribution by Category"
        },
        "xaxis": {
         "anchor": "y",
         "categoryarray": [
          "Decoration",
          "Furniture",
          "Bathroom",
          "Technology",
          "Plants",
          "Lighting",
          "Textures",
          "Other Models",
          "Materials",
          "Kitchen",
          "Scripts",
          "Childroom"
         ],
         "categoryorder": "array",
         "domain": [
          0,
          1
         ],
         "title": {
          "text": "Category"
         }
        },
        "yaxis": {
         "anchor": "x",
         "domain": [
          0,
          1
         ],
         "title": {
          "text": "Ranking"
         }
        }
       }
      }
     },
     "metadata": {},
     "output_type": "display_data"
    }
   ],
   "source": [
    "fig6 = px.box(result_vis, x='Category', y='Ranking', color='Category', title='Top 120 Rank distribution by Category')\n",
    "fig6.show()"
   ]
  },
  {
   "cell_type": "code",
   "execution_count": 22,
   "metadata": {},
   "outputs": [
    {
     "name": "stderr",
     "output_type": "stream",
     "text": [
      "c:\\Users\\mi_al\\AppData\\Local\\Programs\\Python\\Python39\\lib\\site-packages\\plotly\\express\\_core.py:1985: FutureWarning:\n",
      "\n",
      "When grouping with a length-1 list-like, you will need to pass a length-1 tuple to get_group in a future version of pandas. Pass `(name,)` instead of `name` to silence this warning.\n",
      "\n"
     ]
    },
    {
     "data": {
      "application/vnd.plotly.v1+json": {
       "config": {
        "plotlyServerURL": "https://plot.ly"
       },
       "data": [
        {
         "alignmentgroup": "True",
         "hovertemplate": "Category=%{x}<br>Dur_Shrink=%{y}<extra></extra>",
         "legendgroup": "Decoration",
         "marker": {
          "color": "#636efa"
         },
         "name": "Decoration",
         "notched": false,
         "offsetgroup": "Decoration",
         "orientation": "v",
         "showlegend": true,
         "type": "box",
         "x": [
          "Decoration",
          "Decoration",
          "Decoration",
          "Decoration",
          "Decoration",
          "Decoration",
          "Decoration",
          "Decoration",
          "Decoration",
          "Decoration",
          "Decoration",
          "Decoration",
          "Decoration",
          "Decoration",
          "Decoration",
          "Decoration",
          "Decoration",
          "Decoration",
          "Decoration",
          "Decoration",
          "Decoration",
          "Decoration",
          "Decoration",
          "Decoration",
          "Decoration",
          "Decoration"
         ],
         "x0": " ",
         "xaxis": "x",
         "y": [
          89,
          69,
          17,
          77,
          37,
          218,
          36,
          35,
          158,
          75,
          21,
          21,
          112,
          121,
          80,
          112,
          69,
          9,
          40,
          20,
          26,
          45,
          26,
          400,
          437,
          168
         ],
         "y0": " ",
         "yaxis": "y"
        },
        {
         "alignmentgroup": "True",
         "hovertemplate": "Category=%{x}<br>Dur_Shrink=%{y}<extra></extra>",
         "legendgroup": "Furniture",
         "marker": {
          "color": "#EF553B"
         },
         "name": "Furniture",
         "notched": false,
         "offsetgroup": "Furniture",
         "orientation": "v",
         "showlegend": true,
         "type": "box",
         "x": [
          "Furniture",
          "Furniture",
          "Furniture",
          "Furniture",
          "Furniture",
          "Furniture",
          "Furniture",
          "Furniture",
          "Furniture",
          "Furniture",
          "Furniture",
          "Furniture",
          "Furniture",
          "Furniture",
          "Furniture",
          "Furniture",
          "Furniture",
          "Furniture",
          "Furniture",
          "Furniture",
          "Furniture",
          "Furniture",
          "Furniture",
          "Furniture",
          "Furniture",
          "Furniture",
          "Furniture"
         ],
         "x0": " ",
         "xaxis": "x",
         "y": [
          87,
          22,
          78,
          66,
          87,
          56,
          419,
          110,
          80,
          79,
          259,
          151,
          94,
          56,
          64,
          26,
          346,
          148,
          134,
          15,
          176,
          44,
          56,
          28,
          17,
          317,
          104
         ],
         "y0": " ",
         "yaxis": "y"
        },
        {
         "alignmentgroup": "True",
         "hovertemplate": "Category=%{x}<br>Dur_Shrink=%{y}<extra></extra>",
         "legendgroup": "Bathroom",
         "marker": {
          "color": "#00cc96"
         },
         "name": "Bathroom",
         "notched": false,
         "offsetgroup": "Bathroom",
         "orientation": "v",
         "showlegend": true,
         "type": "box",
         "x": [
          "Bathroom",
          "Bathroom",
          "Bathroom",
          "Bathroom",
          "Bathroom",
          "Bathroom",
          "Bathroom",
          "Bathroom",
          "Bathroom",
          "Bathroom",
          "Bathroom",
          "Bathroom"
         ],
         "x0": " ",
         "xaxis": "x",
         "y": [
          24,
          20,
          64,
          47,
          15,
          43,
          48,
          34,
          205,
          52,
          500,
          500
         ],
         "y0": " ",
         "yaxis": "y"
        },
        {
         "alignmentgroup": "True",
         "hovertemplate": "Category=%{x}<br>Dur_Shrink=%{y}<extra></extra>",
         "legendgroup": "Technology",
         "marker": {
          "color": "#ab63fa"
         },
         "name": "Technology",
         "notched": false,
         "offsetgroup": "Technology",
         "orientation": "v",
         "showlegend": true,
         "type": "box",
         "x": [
          "Technology",
          "Technology",
          "Technology",
          "Technology",
          "Technology",
          "Technology",
          "Technology",
          "Technology"
         ],
         "x0": " ",
         "xaxis": "x",
         "y": [
          68,
          45,
          500,
          253,
          129,
          462,
          245,
          205
         ],
         "y0": " ",
         "yaxis": "y"
        },
        {
         "alignmentgroup": "True",
         "hovertemplate": "Category=%{x}<br>Dur_Shrink=%{y}<extra></extra>",
         "legendgroup": "Plants",
         "marker": {
          "color": "#FFA15A"
         },
         "name": "Plants",
         "notched": false,
         "offsetgroup": "Plants",
         "orientation": "v",
         "showlegend": true,
         "type": "box",
         "x": [
          "Plants",
          "Plants",
          "Plants",
          "Plants",
          "Plants",
          "Plants",
          "Plants"
         ],
         "x0": " ",
         "xaxis": "x",
         "y": [
          276,
          113,
          122,
          476,
          148,
          46,
          11
         ],
         "y0": " ",
         "yaxis": "y"
        },
        {
         "alignmentgroup": "True",
         "hovertemplate": "Category=%{x}<br>Dur_Shrink=%{y}<extra></extra>",
         "legendgroup": "Lighting",
         "marker": {
          "color": "#19d3f3"
         },
         "name": "Lighting",
         "notched": false,
         "offsetgroup": "Lighting",
         "orientation": "v",
         "showlegend": true,
         "type": "box",
         "x": [
          "Lighting",
          "Lighting",
          "Lighting"
         ],
         "x0": " ",
         "xaxis": "x",
         "y": [
          111,
          50,
          10
         ],
         "y0": " ",
         "yaxis": "y"
        },
        {
         "alignmentgroup": "True",
         "hovertemplate": "Category=%{x}<br>Dur_Shrink=%{y}<extra></extra>",
         "legendgroup": "Textures",
         "marker": {
          "color": "#FF6692"
         },
         "name": "Textures",
         "notched": false,
         "offsetgroup": "Textures",
         "orientation": "v",
         "showlegend": true,
         "type": "box",
         "x": [
          "Textures",
          "Textures",
          "Textures",
          "Textures",
          "Textures",
          "Textures",
          "Textures"
         ],
         "x0": " ",
         "xaxis": "x",
         "y": [
          44,
          390,
          303,
          166,
          25,
          149,
          144
         ],
         "y0": " ",
         "yaxis": "y"
        },
        {
         "alignmentgroup": "True",
         "hovertemplate": "Category=%{x}<br>Dur_Shrink=%{y}<extra></extra>",
         "legendgroup": "Other Models",
         "marker": {
          "color": "#B6E880"
         },
         "name": "Other Models",
         "notched": false,
         "offsetgroup": "Other Models",
         "orientation": "v",
         "showlegend": true,
         "type": "box",
         "x": [
          "Other Models",
          "Other Models",
          "Other Models",
          "Other Models",
          "Other Models",
          "Other Models",
          "Other Models",
          "Other Models",
          "Other Models",
          "Other Models",
          "Other Models"
         ],
         "x0": " ",
         "xaxis": "x",
         "y": [
          160,
          500,
          57,
          455,
          96,
          500,
          326,
          16,
          500,
          334,
          364
         ],
         "y0": " ",
         "yaxis": "y"
        },
        {
         "alignmentgroup": "True",
         "hovertemplate": "Category=%{x}<br>Dur_Shrink=%{y}<extra></extra>",
         "legendgroup": "Materials",
         "marker": {
          "color": "#FF97FF"
         },
         "name": "Materials",
         "notched": false,
         "offsetgroup": "Materials",
         "orientation": "v",
         "showlegend": true,
         "type": "box",
         "x": [
          "Materials",
          "Materials",
          "Materials",
          "Materials"
         ],
         "x0": " ",
         "xaxis": "x",
         "y": [
          139,
          83,
          96,
          171
         ],
         "y0": " ",
         "yaxis": "y"
        },
        {
         "alignmentgroup": "True",
         "hovertemplate": "Category=%{x}<br>Dur_Shrink=%{y}<extra></extra>",
         "legendgroup": "Kitchen",
         "marker": {
          "color": "#FECB52"
         },
         "name": "Kitchen",
         "notched": false,
         "offsetgroup": "Kitchen",
         "orientation": "v",
         "showlegend": true,
         "type": "box",
         "x": [
          "Kitchen",
          "Kitchen",
          "Kitchen",
          "Kitchen",
          "Kitchen",
          "Kitchen",
          "Kitchen",
          "Kitchen",
          "Kitchen"
         ],
         "x0": " ",
         "xaxis": "x",
         "y": [
          24,
          116,
          54,
          39,
          500,
          20,
          474,
          415,
          219
         ],
         "y0": " ",
         "yaxis": "y"
        },
        {
         "alignmentgroup": "True",
         "hovertemplate": "Category=%{x}<br>Dur_Shrink=%{y}<extra></extra>",
         "legendgroup": "Scripts",
         "marker": {
          "color": "#636efa"
         },
         "name": "Scripts",
         "notched": false,
         "offsetgroup": "Scripts",
         "orientation": "v",
         "showlegend": true,
         "type": "box",
         "x": [
          "Scripts"
         ],
         "x0": " ",
         "xaxis": "x",
         "y": [
          500
         ],
         "y0": " ",
         "yaxis": "y"
        },
        {
         "alignmentgroup": "True",
         "hovertemplate": "Category=%{x}<br>Dur_Shrink=%{y}<extra></extra>",
         "legendgroup": "Childroom",
         "marker": {
          "color": "#EF553B"
         },
         "name": "Childroom",
         "notched": false,
         "offsetgroup": "Childroom",
         "orientation": "v",
         "showlegend": true,
         "type": "box",
         "x": [
          "Childroom",
          "Childroom",
          "Childroom",
          "Childroom",
          "Childroom"
         ],
         "x0": " ",
         "xaxis": "x",
         "y": [
          79,
          109,
          23,
          88,
          171
         ],
         "y0": " ",
         "yaxis": "y"
        }
       ],
       "layout": {
        "boxmode": "overlay",
        "legend": {
         "title": {
          "text": "Category"
         },
         "tracegroupgap": 0
        },
        "template": {
         "data": {
          "bar": [
           {
            "error_x": {
             "color": "#2a3f5f"
            },
            "error_y": {
             "color": "#2a3f5f"
            },
            "marker": {
             "line": {
              "color": "#E5ECF6",
              "width": 0.5
             },
             "pattern": {
              "fillmode": "overlay",
              "size": 10,
              "solidity": 0.2
             }
            },
            "type": "bar"
           }
          ],
          "barpolar": [
           {
            "marker": {
             "line": {
              "color": "#E5ECF6",
              "width": 0.5
             },
             "pattern": {
              "fillmode": "overlay",
              "size": 10,
              "solidity": 0.2
             }
            },
            "type": "barpolar"
           }
          ],
          "carpet": [
           {
            "aaxis": {
             "endlinecolor": "#2a3f5f",
             "gridcolor": "white",
             "linecolor": "white",
             "minorgridcolor": "white",
             "startlinecolor": "#2a3f5f"
            },
            "baxis": {
             "endlinecolor": "#2a3f5f",
             "gridcolor": "white",
             "linecolor": "white",
             "minorgridcolor": "white",
             "startlinecolor": "#2a3f5f"
            },
            "type": "carpet"
           }
          ],
          "choropleth": [
           {
            "colorbar": {
             "outlinewidth": 0,
             "ticks": ""
            },
            "type": "choropleth"
           }
          ],
          "contour": [
           {
            "colorbar": {
             "outlinewidth": 0,
             "ticks": ""
            },
            "colorscale": [
             [
              0,
              "#0d0887"
             ],
             [
              0.1111111111111111,
              "#46039f"
             ],
             [
              0.2222222222222222,
              "#7201a8"
             ],
             [
              0.3333333333333333,
              "#9c179e"
             ],
             [
              0.4444444444444444,
              "#bd3786"
             ],
             [
              0.5555555555555556,
              "#d8576b"
             ],
             [
              0.6666666666666666,
              "#ed7953"
             ],
             [
              0.7777777777777778,
              "#fb9f3a"
             ],
             [
              0.8888888888888888,
              "#fdca26"
             ],
             [
              1,
              "#f0f921"
             ]
            ],
            "type": "contour"
           }
          ],
          "contourcarpet": [
           {
            "colorbar": {
             "outlinewidth": 0,
             "ticks": ""
            },
            "type": "contourcarpet"
           }
          ],
          "heatmap": [
           {
            "colorbar": {
             "outlinewidth": 0,
             "ticks": ""
            },
            "colorscale": [
             [
              0,
              "#0d0887"
             ],
             [
              0.1111111111111111,
              "#46039f"
             ],
             [
              0.2222222222222222,
              "#7201a8"
             ],
             [
              0.3333333333333333,
              "#9c179e"
             ],
             [
              0.4444444444444444,
              "#bd3786"
             ],
             [
              0.5555555555555556,
              "#d8576b"
             ],
             [
              0.6666666666666666,
              "#ed7953"
             ],
             [
              0.7777777777777778,
              "#fb9f3a"
             ],
             [
              0.8888888888888888,
              "#fdca26"
             ],
             [
              1,
              "#f0f921"
             ]
            ],
            "type": "heatmap"
           }
          ],
          "heatmapgl": [
           {
            "colorbar": {
             "outlinewidth": 0,
             "ticks": ""
            },
            "colorscale": [
             [
              0,
              "#0d0887"
             ],
             [
              0.1111111111111111,
              "#46039f"
             ],
             [
              0.2222222222222222,
              "#7201a8"
             ],
             [
              0.3333333333333333,
              "#9c179e"
             ],
             [
              0.4444444444444444,
              "#bd3786"
             ],
             [
              0.5555555555555556,
              "#d8576b"
             ],
             [
              0.6666666666666666,
              "#ed7953"
             ],
             [
              0.7777777777777778,
              "#fb9f3a"
             ],
             [
              0.8888888888888888,
              "#fdca26"
             ],
             [
              1,
              "#f0f921"
             ]
            ],
            "type": "heatmapgl"
           }
          ],
          "histogram": [
           {
            "marker": {
             "pattern": {
              "fillmode": "overlay",
              "size": 10,
              "solidity": 0.2
             }
            },
            "type": "histogram"
           }
          ],
          "histogram2d": [
           {
            "colorbar": {
             "outlinewidth": 0,
             "ticks": ""
            },
            "colorscale": [
             [
              0,
              "#0d0887"
             ],
             [
              0.1111111111111111,
              "#46039f"
             ],
             [
              0.2222222222222222,
              "#7201a8"
             ],
             [
              0.3333333333333333,
              "#9c179e"
             ],
             [
              0.4444444444444444,
              "#bd3786"
             ],
             [
              0.5555555555555556,
              "#d8576b"
             ],
             [
              0.6666666666666666,
              "#ed7953"
             ],
             [
              0.7777777777777778,
              "#fb9f3a"
             ],
             [
              0.8888888888888888,
              "#fdca26"
             ],
             [
              1,
              "#f0f921"
             ]
            ],
            "type": "histogram2d"
           }
          ],
          "histogram2dcontour": [
           {
            "colorbar": {
             "outlinewidth": 0,
             "ticks": ""
            },
            "colorscale": [
             [
              0,
              "#0d0887"
             ],
             [
              0.1111111111111111,
              "#46039f"
             ],
             [
              0.2222222222222222,
              "#7201a8"
             ],
             [
              0.3333333333333333,
              "#9c179e"
             ],
             [
              0.4444444444444444,
              "#bd3786"
             ],
             [
              0.5555555555555556,
              "#d8576b"
             ],
             [
              0.6666666666666666,
              "#ed7953"
             ],
             [
              0.7777777777777778,
              "#fb9f3a"
             ],
             [
              0.8888888888888888,
              "#fdca26"
             ],
             [
              1,
              "#f0f921"
             ]
            ],
            "type": "histogram2dcontour"
           }
          ],
          "mesh3d": [
           {
            "colorbar": {
             "outlinewidth": 0,
             "ticks": ""
            },
            "type": "mesh3d"
           }
          ],
          "parcoords": [
           {
            "line": {
             "colorbar": {
              "outlinewidth": 0,
              "ticks": ""
             }
            },
            "type": "parcoords"
           }
          ],
          "pie": [
           {
            "automargin": true,
            "type": "pie"
           }
          ],
          "scatter": [
           {
            "fillpattern": {
             "fillmode": "overlay",
             "size": 10,
             "solidity": 0.2
            },
            "type": "scatter"
           }
          ],
          "scatter3d": [
           {
            "line": {
             "colorbar": {
              "outlinewidth": 0,
              "ticks": ""
             }
            },
            "marker": {
             "colorbar": {
              "outlinewidth": 0,
              "ticks": ""
             }
            },
            "type": "scatter3d"
           }
          ],
          "scattercarpet": [
           {
            "marker": {
             "colorbar": {
              "outlinewidth": 0,
              "ticks": ""
             }
            },
            "type": "scattercarpet"
           }
          ],
          "scattergeo": [
           {
            "marker": {
             "colorbar": {
              "outlinewidth": 0,
              "ticks": ""
             }
            },
            "type": "scattergeo"
           }
          ],
          "scattergl": [
           {
            "marker": {
             "colorbar": {
              "outlinewidth": 0,
              "ticks": ""
             }
            },
            "type": "scattergl"
           }
          ],
          "scattermapbox": [
           {
            "marker": {
             "colorbar": {
              "outlinewidth": 0,
              "ticks": ""
             }
            },
            "type": "scattermapbox"
           }
          ],
          "scatterpolar": [
           {
            "marker": {
             "colorbar": {
              "outlinewidth": 0,
              "ticks": ""
             }
            },
            "type": "scatterpolar"
           }
          ],
          "scatterpolargl": [
           {
            "marker": {
             "colorbar": {
              "outlinewidth": 0,
              "ticks": ""
             }
            },
            "type": "scatterpolargl"
           }
          ],
          "scatterternary": [
           {
            "marker": {
             "colorbar": {
              "outlinewidth": 0,
              "ticks": ""
             }
            },
            "type": "scatterternary"
           }
          ],
          "surface": [
           {
            "colorbar": {
             "outlinewidth": 0,
             "ticks": ""
            },
            "colorscale": [
             [
              0,
              "#0d0887"
             ],
             [
              0.1111111111111111,
              "#46039f"
             ],
             [
              0.2222222222222222,
              "#7201a8"
             ],
             [
              0.3333333333333333,
              "#9c179e"
             ],
             [
              0.4444444444444444,
              "#bd3786"
             ],
             [
              0.5555555555555556,
              "#d8576b"
             ],
             [
              0.6666666666666666,
              "#ed7953"
             ],
             [
              0.7777777777777778,
              "#fb9f3a"
             ],
             [
              0.8888888888888888,
              "#fdca26"
             ],
             [
              1,
              "#f0f921"
             ]
            ],
            "type": "surface"
           }
          ],
          "table": [
           {
            "cells": {
             "fill": {
              "color": "#EBF0F8"
             },
             "line": {
              "color": "white"
             }
            },
            "header": {
             "fill": {
              "color": "#C8D4E3"
             },
             "line": {
              "color": "white"
             }
            },
            "type": "table"
           }
          ]
         },
         "layout": {
          "annotationdefaults": {
           "arrowcolor": "#2a3f5f",
           "arrowhead": 0,
           "arrowwidth": 1
          },
          "autotypenumbers": "strict",
          "coloraxis": {
           "colorbar": {
            "outlinewidth": 0,
            "ticks": ""
           }
          },
          "colorscale": {
           "diverging": [
            [
             0,
             "#8e0152"
            ],
            [
             0.1,
             "#c51b7d"
            ],
            [
             0.2,
             "#de77ae"
            ],
            [
             0.3,
             "#f1b6da"
            ],
            [
             0.4,
             "#fde0ef"
            ],
            [
             0.5,
             "#f7f7f7"
            ],
            [
             0.6,
             "#e6f5d0"
            ],
            [
             0.7,
             "#b8e186"
            ],
            [
             0.8,
             "#7fbc41"
            ],
            [
             0.9,
             "#4d9221"
            ],
            [
             1,
             "#276419"
            ]
           ],
           "sequential": [
            [
             0,
             "#0d0887"
            ],
            [
             0.1111111111111111,
             "#46039f"
            ],
            [
             0.2222222222222222,
             "#7201a8"
            ],
            [
             0.3333333333333333,
             "#9c179e"
            ],
            [
             0.4444444444444444,
             "#bd3786"
            ],
            [
             0.5555555555555556,
             "#d8576b"
            ],
            [
             0.6666666666666666,
             "#ed7953"
            ],
            [
             0.7777777777777778,
             "#fb9f3a"
            ],
            [
             0.8888888888888888,
             "#fdca26"
            ],
            [
             1,
             "#f0f921"
            ]
           ],
           "sequentialminus": [
            [
             0,
             "#0d0887"
            ],
            [
             0.1111111111111111,
             "#46039f"
            ],
            [
             0.2222222222222222,
             "#7201a8"
            ],
            [
             0.3333333333333333,
             "#9c179e"
            ],
            [
             0.4444444444444444,
             "#bd3786"
            ],
            [
             0.5555555555555556,
             "#d8576b"
            ],
            [
             0.6666666666666666,
             "#ed7953"
            ],
            [
             0.7777777777777778,
             "#fb9f3a"
            ],
            [
             0.8888888888888888,
             "#fdca26"
            ],
            [
             1,
             "#f0f921"
            ]
           ]
          },
          "colorway": [
           "#636efa",
           "#EF553B",
           "#00cc96",
           "#ab63fa",
           "#FFA15A",
           "#19d3f3",
           "#FF6692",
           "#B6E880",
           "#FF97FF",
           "#FECB52"
          ],
          "font": {
           "color": "#2a3f5f"
          },
          "geo": {
           "bgcolor": "white",
           "lakecolor": "white",
           "landcolor": "#E5ECF6",
           "showlakes": true,
           "showland": true,
           "subunitcolor": "white"
          },
          "hoverlabel": {
           "align": "left"
          },
          "hovermode": "closest",
          "mapbox": {
           "style": "light"
          },
          "paper_bgcolor": "white",
          "plot_bgcolor": "#E5ECF6",
          "polar": {
           "angularaxis": {
            "gridcolor": "white",
            "linecolor": "white",
            "ticks": ""
           },
           "bgcolor": "#E5ECF6",
           "radialaxis": {
            "gridcolor": "white",
            "linecolor": "white",
            "ticks": ""
           }
          },
          "scene": {
           "xaxis": {
            "backgroundcolor": "#E5ECF6",
            "gridcolor": "white",
            "gridwidth": 2,
            "linecolor": "white",
            "showbackground": true,
            "ticks": "",
            "zerolinecolor": "white"
           },
           "yaxis": {
            "backgroundcolor": "#E5ECF6",
            "gridcolor": "white",
            "gridwidth": 2,
            "linecolor": "white",
            "showbackground": true,
            "ticks": "",
            "zerolinecolor": "white"
           },
           "zaxis": {
            "backgroundcolor": "#E5ECF6",
            "gridcolor": "white",
            "gridwidth": 2,
            "linecolor": "white",
            "showbackground": true,
            "ticks": "",
            "zerolinecolor": "white"
           }
          },
          "shapedefaults": {
           "line": {
            "color": "#2a3f5f"
           }
          },
          "ternary": {
           "aaxis": {
            "gridcolor": "white",
            "linecolor": "white",
            "ticks": ""
           },
           "baxis": {
            "gridcolor": "white",
            "linecolor": "white",
            "ticks": ""
           },
           "bgcolor": "#E5ECF6",
           "caxis": {
            "gridcolor": "white",
            "linecolor": "white",
            "ticks": ""
           }
          },
          "title": {
           "x": 0.05
          },
          "xaxis": {
           "automargin": true,
           "gridcolor": "white",
           "linecolor": "white",
           "ticks": "",
           "title": {
            "standoff": 15
           },
           "zerolinecolor": "white",
           "zerolinewidth": 2
          },
          "yaxis": {
           "automargin": true,
           "gridcolor": "white",
           "linecolor": "white",
           "ticks": "",
           "title": {
            "standoff": 15
           },
           "zerolinecolor": "white",
           "zerolinewidth": 2
          }
         }
        },
        "title": {
         "text": "Top 120 Duration distribution by Category"
        },
        "xaxis": {
         "anchor": "y",
         "categoryarray": [
          "Decoration",
          "Furniture",
          "Bathroom",
          "Technology",
          "Plants",
          "Lighting",
          "Textures",
          "Other Models",
          "Materials",
          "Kitchen",
          "Scripts",
          "Childroom"
         ],
         "categoryorder": "array",
         "domain": [
          0,
          1
         ],
         "title": {
          "text": "Category"
         }
        },
        "yaxis": {
         "anchor": "x",
         "domain": [
          0,
          1
         ],
         "title": {
          "text": "Dur_Shrink"
         }
        }
       }
      }
     },
     "metadata": {},
     "output_type": "display_data"
    }
   ],
   "source": [
    "fig7 = px.box(result_vis, x='Category', y='Dur_Shrink', color='Category', title='Top 120 Duration distribution by Category')\n",
    "fig7.show()"
   ]
  },
  {
   "cell_type": "code",
   "execution_count": 23,
   "metadata": {},
   "outputs": [
    {
     "name": "stderr",
     "output_type": "stream",
     "text": [
      "c:\\Users\\mi_al\\AppData\\Local\\Programs\\Python\\Python39\\lib\\site-packages\\plotly\\express\\_core.py:1985: FutureWarning:\n",
      "\n",
      "When grouping with a length-1 list-like, you will need to pass a length-1 tuple to get_group in a future version of pandas. Pass `(name,)` instead of `name` to silence this warning.\n",
      "\n"
     ]
    },
    {
     "data": {
      "application/vnd.plotly.v1+json": {
       "config": {
        "plotlyServerURL": "https://plot.ly"
       },
       "data": [
        {
         "customdata": [
          [
           1,
           "Benuta Leon Cream Wool Rug",
           "3Dmitruk",
           352
          ],
          [
           2,
           "A set of clothes and accessories to fill a wardrobe or store and showroom",
           "sofiakholina",
           843
          ],
          [
           5,
           "curtains with piping",
           "бойко75",
           21
          ],
          [
           9,
           "coffee table decor set 005",
           "Mitya87",
           207
          ],
          [
           13,
           "Decorative set NG27",
           "niga2323",
           811
          ],
          [
           15,
           "Benuta Dave Rectangular Fur Rug (3 colors)",
           "3Dmitruk",
           352
          ],
          [
           19,
           "Graceful Dual Layer Curtains Velvet with Sheer Overlay",
           "bahar tanhaee",
           289
          ],
          [
           22,
           "Anders Dusty Rose Pink Area Rug",
           "leeooo",
           47
          ],
          [
           25,
           "Curtains with Roman blinds 2",
           "Rolan05",
           132
          ],
          [
           28,
           "Decorative Set-086 Shelf Accessories",
           "mhl.hnr",
           262
          ],
          [
           29,
           "Set of clothes for the wardrobe",
           "Klyuchko_project",
           317
          ],
          [
           30,
           "Decorative set with a bouquet of lilacs in a glass vase",
           "auralis",
           251
          ],
          [
           31,
           "Decorative set with branch ch15",
           "cheka_3dviz",
           121
          ],
          [
           38,
           "Roman blinds",
           "бойко75",
           21
          ],
          [
           48,
           "Clothes for wardrobe NG15",
           "niga2323",
           811
          ],
          [
           50,
           "Jewelry organizer",
           "NataLila",
           16
          ],
          [
           52,
           "Headboard 5",
           "oleksandroleksandr",
           134
          ],
          [
           60,
           "Rack with clothes 03",
           "tarankaa",
           299
          ],
          [
           75,
           "Decorative set 099",
           "Moriiiz",
           93
          ],
          [
           77,
           "Decorative Set-089",
           "mhl.hnr",
           262
          ],
          [
           78,
           "Carpet Flow",
           "Moonboy",
           39
          ],
          [
           91,
           "Roman blind with tassels",
           "kristi4487",
           9
          ],
          [
           96,
           "Washable Rug Pam Beige, Gray and Cream by Benuta",
           "sofiakholina",
           843
          ],
          [
           108,
           "Prefabricated juniper panel",
           "naty2009",
           250
          ],
          [
           110,
           "SAFAVIEH Dina Coastal Jute Rug Round",
           "3Dmitruk",
           352
          ],
          [
           113,
           "Curtains with Roman blinds",
           "Rolan05",
           132
          ]
         ],
         "hovertemplate": "Category=Decoration<br>Dur_Shrink=%{x}<br>Ranking=%{y}<br>Followers=%{customdata[3]}<br>N=%{customdata[0]}<br>Title=%{customdata[1]}<br>Username=%{customdata[2]}<extra></extra>",
         "legendgroup": "Decoration",
         "marker": {
          "color": "#636efa",
          "size": [
           352,
           843,
           21,
           207,
           811,
           352,
           289,
           47,
           132,
           262,
           317,
           251,
           121,
           21,
           811,
           16,
           134,
           299,
           93,
           262,
           39,
           9,
           843,
           250,
           352,
           132
          ],
          "sizemode": "area",
          "sizeref": 5.805,
          "symbol": "circle"
         },
         "mode": "markers",
         "name": "Decoration",
         "orientation": "v",
         "showlegend": true,
         "type": "scatter",
         "x": [
          89,
          69,
          17,
          77,
          37,
          218,
          36,
          35,
          158,
          75,
          21,
          21,
          112,
          121,
          80,
          112,
          69,
          9,
          40,
          20,
          26,
          45,
          26,
          400,
          437,
          168
         ],
         "xaxis": "x",
         "y": [
          120,
          119,
          116,
          112,
          108,
          106,
          102,
          99,
          96,
          93,
          92,
          91,
          90,
          83,
          73,
          71,
          69,
          61,
          46,
          44,
          43,
          30,
          25,
          13,
          11,
          8
         ],
         "yaxis": "y"
        },
        {
         "customdata": [
          [
           3,
           "Cairns pedestal Divan.ru",
           "niga2323",
           811
          ],
          [
           6,
           "Emmi Chair From MINOTTI Brand",
           "Graphicus",
           186
          ],
          [
           7,
           "Dressing room 28",
           "protektor",
           336
          ],
          [
           11,
           "Basic wardrobe made of cabinet furniture with doors 2",
           "sofiakholina",
           843
          ],
          [
           27,
           "Lindsay Laurie coffee table Divan.ru",
           "niga2323",
           811
          ],
          [
           33,
           "Connect Soft Modular Sofa 2",
           "Theorema3D",
           257
          ],
          [
           36,
           "TV wall with Xiaomi laser projector",
           "aoverina",
           2310
          ],
          [
           37,
           "Office chair Ashley",
           "illidan_",
           6
          ],
          [
           40,
           "Basic wardrobe made of cabinet furniture with doors",
           "sofiakholina",
           843
          ],
          [
           43,
           "Pouf Loreen StoolGroup",
           "Boburmirzo0007",
           16
          ],
          [
           45,
           "Set of cabinet fronts. Furniture for the wardrobe. Wooden facades with rattan slats, milled or fabric.",
           "maxim7191",
           114
          ],
          [
           49,
           "Yamaguchi Skyway Massage Chair",
           "nepotogen",
           22
          ],
          [
           51,
           "Mogens table Divan.ru",
           "niga2323",
           811
          ],
          [
           53,
           "Minotti Horizonte Modular Sofa",
           "Theorema3D",
           257
          ],
          [
           56,
           "Clifford Thorvall table and chairs Divan.ru",
           "niga2323",
           811
          ],
          [
           57,
           "Marlet Corner Sofa Set1",
           "Theorema3D",
           257
          ],
          [
           65,
           "Kiana chair Divan.ru",
           "niga2323",
           811
          ],
          [
           67,
           "541 hallway zone 14 minimal modular wardeobe with seating niche",
           "mazeeem",
           1554
          ],
          [
           71,
           "Furniture hinges / PBR textures",
           "Slater711",
           1
          ],
          [
           80,
           "Mateo Dining chair, Adrien Table",
           "scorpion3ddd",
           16
          ],
          [
           87,
           "Showcase with glasses",
           "бойко75",
           20
          ],
          [
           92,
           "Counter Stool Bar Stool Folsom",
           "zircon",
           73
          ],
          [
           93,
           "VOLUME Bed",
           "romina.1990",
           58
          ],
          [
           95,
           "Furniture Composition 303",
           "Stt.HuynOneShine",
           197
          ],
          [
           99,
           "Furniture Composition 313",
           "Stt.HuynOneShine",
           197
          ],
          [
           106,
           "Emma Naomi Brenda tables Divan.ru",
           "niga2323",
           811
          ],
          [
           117,
           "Bar Cabinet",
           "gulk",
           7
          ]
         ],
         "hovertemplate": "Category=Furniture<br>Dur_Shrink=%{x}<br>Ranking=%{y}<br>Followers=%{customdata[3]}<br>N=%{customdata[0]}<br>Title=%{customdata[1]}<br>Username=%{customdata[2]}<extra></extra>",
         "legendgroup": "Furniture",
         "marker": {
          "color": "#EF553B",
          "size": [
           811,
           186,
           336,
           843,
           811,
           257,
           2310,
           6,
           843,
           16,
           114,
           22,
           811,
           257,
           811,
           257,
           811,
           1554,
           1,
           16,
           20,
           73,
           58,
           197,
           197,
           811,
           7
          ],
          "sizemode": "area",
          "sizeref": 5.805,
          "symbol": "circle"
         },
         "mode": "markers",
         "name": "Furniture",
         "orientation": "v",
         "showlegend": true,
         "type": "scatter",
         "x": [
          87,
          22,
          78,
          66,
          87,
          56,
          419,
          110,
          80,
          79,
          259,
          151,
          94,
          56,
          64,
          26,
          346,
          148,
          134,
          15,
          176,
          44,
          56,
          28,
          17,
          317,
          104
         ],
         "xaxis": "x",
         "y": [
          118,
          115,
          114,
          110,
          94,
          88,
          85,
          84,
          81,
          78,
          76,
          72,
          70,
          68,
          65,
          64,
          56,
          54,
          50,
          41,
          34,
          29,
          28,
          26,
          22,
          15,
          4
         ],
         "yaxis": "y"
        },
        {
         "customdata": [
          [
           4,
           "Boheme Uno collection",
           "sarabale",
           3
          ],
          [
           10,
           "Bathroom furniture 28 in neoclassical style",
           "don2432",
           177
          ],
          [
           12,
           "Double shower curtain with hidden ceiling cornice",
           "kristi4487",
           9
          ],
          [
           16,
           "Bathroom furniture 27 modular in a modern style",
           "don2432",
           177
          ],
          [
           20,
           "Bathroom Accessories 71",
           "morteza20",
           403
          ],
          [
           58,
           "Teyo Belvedere Vanity",
           "Weareteyo",
           9
          ],
          [
           72,
           "Shower 1",
           "oleksandroleksandr",
           134
          ],
          [
           76,
           "Bathroom accessories 01",
           "3d_artistAhmadnejad",
           170
          ],
          [
           85,
           "Bathroom decor with a set of different cosmetic products",
           "sofiakholina",
           843
          ],
          [
           90,
           "Bathroom accessories Z45",
           "zyazdiyan",
           37
          ],
          [
           101,
           "LAUNDRY SET (Poliform FITTED + ASKO)",
           "vitaly_y_panov",
           229
          ],
          [
           103,
           "Laundry Room _ 0005",
           "grol69",
           326
          ]
         ],
         "hovertemplate": "Category=Bathroom<br>Dur_Shrink=%{x}<br>Ranking=%{y}<br>Followers=%{customdata[3]}<br>N=%{customdata[0]}<br>Title=%{customdata[1]}<br>Username=%{customdata[2]}<extra></extra>",
         "legendgroup": "Bathroom",
         "marker": {
          "color": "#00cc96",
          "size": [
           3,
           177,
           9,
           177,
           403,
           9,
           134,
           170,
           843,
           37,
           229,
           326
          ],
          "sizemode": "area",
          "sizeref": 5.805,
          "symbol": "circle"
         },
         "mode": "markers",
         "name": "Bathroom",
         "orientation": "v",
         "showlegend": true,
         "type": "scatter",
         "x": [
          24,
          20,
          64,
          47,
          15,
          43,
          48,
          34,
          205,
          52,
          500,
          500
         ],
         "xaxis": "x",
         "y": [
          117,
          111,
          109,
          105,
          101,
          63,
          49,
          45,
          36,
          31,
          20,
          18
         ],
         "yaxis": "y"
        },
        {
         "customdata": [
          [
           8,
           "Set of Epson projectors.",
           "slipknot1111",
           26
          ],
          [
           14,
           "Sockets and switches Donel series R98",
           "DashutaG",
           36
          ],
          [
           44,
           "Washing machine and dryer Samsung",
           "rakochi.design",
           537
          ],
          [
           64,
           "PlayStation 5 Collection",
           "Aviato",
           2322
          ],
          [
           69,
           "Canon printer set.",
           "slipknot1111",
           26
          ],
          [
           105,
           "TV Samsung QLED The Frame 4K LS03B",
           "AlexHappy",
           1763
          ],
          [
           109,
           "Robot vacuum cleaner Xiaomi Robot Vacuum Cleaner X20",
           "dilya_1",
           106
          ],
          [
           115,
           "Sockets and switches Systeme Electric ArtGallery series",
           "DashutaG",
           36
          ]
         ],
         "hovertemplate": "Category=Technology<br>Dur_Shrink=%{x}<br>Ranking=%{y}<br>Followers=%{customdata[3]}<br>N=%{customdata[0]}<br>Title=%{customdata[1]}<br>Username=%{customdata[2]}<extra></extra>",
         "legendgroup": "Technology",
         "marker": {
          "color": "#ab63fa",
          "size": [
           26,
           36,
           537,
           2322,
           26,
           1763,
           106,
           36
          ],
          "sizemode": "area",
          "sizeref": 5.805,
          "symbol": "circle"
         },
         "mode": "markers",
         "name": "Technology",
         "orientation": "v",
         "showlegend": true,
         "type": "scatter",
         "x": [
          68,
          45,
          500,
          253,
          129,
          462,
          245,
          205
         ],
         "xaxis": "x",
         "y": [
          113,
          107,
          77,
          57,
          52,
          16,
          12,
          6
         ],
         "yaxis": "y"
        },
        {
         "customdata": [
          [
           17,
           "Indoor Plant Set 89",
           "mh.designer",
           221
          ],
          [
           32,
           "Houseplants 01",
           "13halav",
           8
          ],
          [
           39,
           "Garden Plants - Outdoor Flowers 654",
           "3Design.FB",
           1620
          ],
          [
           83,
           "Poplar / Populus deltoides #9",
           "Magomed Mirzaev",
           385
          ],
          [
           86,
           "Realistic meadow grass",
           "AlexHappy",
           1763
          ],
          [
           89,
           "Indoor Plant 849 - Cinnamons Tree",
           "3Design.FB",
           1620
          ],
          [
           100,
           "Flower In Vase 77",
           "adib908",
           94
          ]
         ],
         "hovertemplate": "Category=Plants<br>Dur_Shrink=%{x}<br>Ranking=%{y}<br>Followers=%{customdata[3]}<br>N=%{customdata[0]}<br>Title=%{customdata[1]}<br>Username=%{customdata[2]}<extra></extra>",
         "legendgroup": "Plants",
         "marker": {
          "color": "#FFA15A",
          "size": [
           221,
           8,
           1620,
           385,
           1763,
           1620,
           94
          ],
          "sizemode": "area",
          "sizeref": 5.805,
          "symbol": "circle"
         },
         "mode": "markers",
         "name": "Plants",
         "orientation": "v",
         "showlegend": true,
         "type": "scatter",
         "x": [
          276,
          113,
          122,
          476,
          148,
          46,
          11
         ],
         "xaxis": "x",
         "y": [
          104,
          89,
          82,
          38,
          35,
          32,
          21
         ],
         "yaxis": "y"
        },
        {
         "customdata": [
          [
           18,
           "Vibia Plus Minus",
           "animexgroup",
           42
          ],
          [
           55,
           "Round pendant chandelier made of ribbed glass 164FA-33126 Garda Decor",
           "OlegNazarciuc",
           5
          ],
          [
           59,
           "Luceplan Levante Pendant Lamps",
           "horrortechnology",
           759
          ]
         ],
         "hovertemplate": "Category=Lighting<br>Dur_Shrink=%{x}<br>Ranking=%{y}<br>Followers=%{customdata[3]}<br>N=%{customdata[0]}<br>Title=%{customdata[1]}<br>Username=%{customdata[2]}<extra></extra>",
         "legendgroup": "Lighting",
         "marker": {
          "color": "#19d3f3",
          "size": [
           42,
           5,
           759
          ],
          "sizemode": "area",
          "sizeref": 5.805,
          "symbol": "circle"
         },
         "mode": "markers",
         "name": "Lighting",
         "orientation": "v",
         "showlegend": true,
         "type": "scatter",
         "x": [
          111,
          50,
          10
         ],
         "xaxis": "x",
         "y": [
          103,
          66,
          62
         ],
         "yaxis": "y"
        },
        {
         "customdata": [
          [
           21,
           "Decorative plaster 25",
           "fenomen1988",
           8
          ],
          [
           61,
           "Boen parquet board wood flooring",
           "dofen",
           332
          ],
          [
           63,
           "Italon STELLARIS Decor FullPack",
           "StanisLOVE.viz",
           168
          ],
          [
           66,
           "Wood Materials LuxLucia Casa - 7 Colors Set04W1",
           "Lux3DLucia",
           244
          ],
          [
           79,
           "EQUIPE BALI",
           "Sawamura",
           115
          ],
          [
           88,
           "Porcelanosa DURANGO",
           "StanisLOVE.viz",
           168
          ],
          [
           119,
           "Wood planks 02",
           "alexsm2014",
           23
          ]
         ],
         "hovertemplate": "Category=Textures<br>Dur_Shrink=%{x}<br>Ranking=%{y}<br>Followers=%{customdata[3]}<br>N=%{customdata[0]}<br>Title=%{customdata[1]}<br>Username=%{customdata[2]}<extra></extra>",
         "legendgroup": "Textures",
         "marker": {
          "color": "#FF6692",
          "size": [
           8,
           332,
           168,
           244,
           115,
           168,
           23
          ],
          "sizemode": "area",
          "sizeref": 5.805,
          "symbol": "circle"
         },
         "mode": "markers",
         "name": "Textures",
         "orientation": "v",
         "showlegend": true,
         "type": "scatter",
         "x": [
          44,
          390,
          303,
          166,
          25,
          149,
          144
         ],
         "xaxis": "x",
         "y": [
          100,
          60,
          58,
          55,
          42,
          33,
          2
         ],
         "yaxis": "y"
        },
        {
         "customdata": [
          [
           23,
           "Ventilation system.",
           "slipknot1111",
           26
          ],
          [
           24,
           "Set of ceilings Armstrong and Grilyato",
           "solomon5555",
           448
          ],
          [
           54,
           "Built-in ironing board Rocket",
           "ElenaSokha",
           276
          ],
          [
           62,
           "Padel",
           "alexsm2014",
           23
          ],
          [
           68,
           "Grilles for ventilation and air conditioning Redvent",
           "DashutaG",
           36
          ],
          [
           82,
           "Cafe Equipment Set 4",
           "Стаска",
           79
          ],
          [
           84,
           "Coffee Shop 6",
           "omnomn",
           323
          ],
          [
           98,
           "Rimadesio Altair storage",
           "Tutty_desu",
           46
          ],
          [
           102,
           "Tennis court",
           "lis-220",
           138
          ],
          [
           111,
           "Hidden doors Piu Design",
           "oleksandroleksandr",
           134
          ],
          [
           116,
           "Collection of 21 windows",
           "brass",
           52
          ]
         ],
         "hovertemplate": "Category=Other Models<br>Dur_Shrink=%{x}<br>Ranking=%{y}<br>Followers=%{customdata[3]}<br>N=%{customdata[0]}<br>Title=%{customdata[1]}<br>Username=%{customdata[2]}<extra></extra>",
         "legendgroup": "Other Models",
         "marker": {
          "color": "#B6E880",
          "size": [
           26,
           448,
           276,
           23,
           36,
           79,
           323,
           46,
           138,
           134,
           52
          ],
          "sizemode": "area",
          "sizeref": 5.805,
          "symbol": "circle"
         },
         "mode": "markers",
         "name": "Other Models",
         "orientation": "v",
         "showlegend": true,
         "type": "scatter",
         "x": [
          160,
          500,
          57,
          455,
          96,
          500,
          326,
          16,
          500,
          334,
          364
         ],
         "xaxis": "x",
         "y": [
          98,
          97,
          67,
          59,
          53,
          39,
          37,
          23,
          19,
          10,
          5
         ],
         "yaxis": "y"
        },
        {
         "customdata": [
          [
           26,
           "Porcelain tiles Nolana Estima",
           "RazorS95",
           20
          ],
          [
           42,
           "MicroCement Vitra Porcelain Tiles",
           "RazorS95",
           20
          ],
          [
           47,
           "Boucle Fabric",
           "marchik3d",
           163
          ],
          [
           114,
           "Rubber Coating",
           "maltsev_stepan",
           332
          ]
         ],
         "hovertemplate": "Category=Materials<br>Dur_Shrink=%{x}<br>Ranking=%{y}<br>Followers=%{customdata[3]}<br>N=%{customdata[0]}<br>Title=%{customdata[1]}<br>Username=%{customdata[2]}<extra></extra>",
         "legendgroup": "Materials",
         "marker": {
          "color": "#FF97FF",
          "size": [
           20,
           20,
           163,
           332
          ],
          "sizemode": "area",
          "sizeref": 5.805,
          "symbol": "circle"
         },
         "mode": "markers",
         "name": "Materials",
         "orientation": "v",
         "showlegend": true,
         "type": "scatter",
         "x": [
          139,
          83,
          96,
          171
         ],
         "xaxis": "x",
         "y": [
          95,
          79,
          74,
          7
         ],
         "yaxis": "y"
        },
        {
         "customdata": [
          [
           34,
           "Table setting 45",
           "Brast",
           191
          ],
          [
           46,
           "Cookware set NG5",
           "niga2323",
           811
          ],
          [
           73,
           "Kitchen 29",
           "Bensy",
           100
          ],
          [
           74,
           "Decor set with water and pears stv005",
           "GOSS",
           28
          ],
          [
           81,
           "Bosch ovens and microwaves",
           "semeniy",
           54
          ],
          [
           97,
           "kitchen modern-071",
           "moon_3dart296",
           25
          ],
          [
           104,
           "Sinks and faucets Omoikiri",
           "oleksandroleksandr",
           134
          ],
          [
           107,
           "Water bottle and glass NG4",
           "niga2323",
           811
          ],
          [
           112,
           "Kitchen 8",
           "RazorS95",
           20
          ]
         ],
         "hovertemplate": "Category=Kitchen<br>Dur_Shrink=%{x}<br>Ranking=%{y}<br>Followers=%{customdata[3]}<br>N=%{customdata[0]}<br>Title=%{customdata[1]}<br>Username=%{customdata[2]}<extra></extra>",
         "legendgroup": "Kitchen",
         "marker": {
          "color": "#FECB52",
          "size": [
           191,
           811,
           100,
           28,
           54,
           25,
           134,
           811,
           20
          ],
          "sizemode": "area",
          "sizeref": 5.805,
          "symbol": "circle"
         },
         "mode": "markers",
         "name": "Kitchen",
         "orientation": "v",
         "showlegend": true,
         "type": "scatter",
         "x": [
          24,
          116,
          54,
          39,
          500,
          20,
          474,
          415,
          219
         ],
         "xaxis": "x",
         "y": [
          87,
          75,
          48,
          47,
          40,
          24,
          17,
          14,
          9
         ],
         "yaxis": "y"
        },
        {
         "customdata": [
          [
           35,
           "FloorGen Tools 1.5.4",
           "-NiK-",
           41
          ]
         ],
         "hovertemplate": "Category=Scripts<br>Dur_Shrink=%{x}<br>Ranking=%{y}<br>Followers=%{customdata[3]}<br>N=%{customdata[0]}<br>Title=%{customdata[1]}<br>Username=%{customdata[2]}<extra></extra>",
         "legendgroup": "Scripts",
         "marker": {
          "color": "#636efa",
          "size": [
           41
          ],
          "sizemode": "area",
          "sizeref": 5.805,
          "symbol": "circle"
         },
         "mode": "markers",
         "name": "Scripts",
         "orientation": "v",
         "showlegend": true,
         "type": "scatter",
         "x": [
          500
         ],
         "xaxis": "x",
         "y": [
          86
         ],
         "yaxis": "y"
        },
        {
         "customdata": [
          [
           41,
           "Childrens open wardrobe with desk, modular, modern, 25",
           "don2432",
           177
          ],
          [
           70,
           "Pinboard with childrens drawings",
           "DashutaG",
           36
          ],
          [
           94,
           "Kids Room Decor 153",
           "remuhin",
           523
          ],
          [
           118,
           "Children play area | Interactive",
           "lzv_cg",
           129
          ],
          [
           120,
           "Bunk bed for kids 11",
           "Activist",
           93
          ]
         ],
         "hovertemplate": "Category=Childroom<br>Dur_Shrink=%{x}<br>Ranking=%{y}<br>Followers=%{customdata[3]}<br>N=%{customdata[0]}<br>Title=%{customdata[1]}<br>Username=%{customdata[2]}<extra></extra>",
         "legendgroup": "Childroom",
         "marker": {
          "color": "#EF553B",
          "size": [
           177,
           36,
           523,
           129,
           93
          ],
          "sizemode": "area",
          "sizeref": 5.805,
          "symbol": "circle"
         },
         "mode": "markers",
         "name": "Childroom",
         "orientation": "v",
         "showlegend": true,
         "type": "scatter",
         "x": [
          79,
          109,
          23,
          88,
          171
         ],
         "xaxis": "x",
         "y": [
          80,
          51,
          27,
          3,
          1
         ],
         "yaxis": "y"
        }
       ],
       "layout": {
        "legend": {
         "itemsizing": "constant",
         "title": {
          "text": "Category"
         },
         "tracegroupgap": 0
        },
        "template": {
         "data": {
          "bar": [
           {
            "error_x": {
             "color": "#2a3f5f"
            },
            "error_y": {
             "color": "#2a3f5f"
            },
            "marker": {
             "line": {
              "color": "#E5ECF6",
              "width": 0.5
             },
             "pattern": {
              "fillmode": "overlay",
              "size": 10,
              "solidity": 0.2
             }
            },
            "type": "bar"
           }
          ],
          "barpolar": [
           {
            "marker": {
             "line": {
              "color": "#E5ECF6",
              "width": 0.5
             },
             "pattern": {
              "fillmode": "overlay",
              "size": 10,
              "solidity": 0.2
             }
            },
            "type": "barpolar"
           }
          ],
          "carpet": [
           {
            "aaxis": {
             "endlinecolor": "#2a3f5f",
             "gridcolor": "white",
             "linecolor": "white",
             "minorgridcolor": "white",
             "startlinecolor": "#2a3f5f"
            },
            "baxis": {
             "endlinecolor": "#2a3f5f",
             "gridcolor": "white",
             "linecolor": "white",
             "minorgridcolor": "white",
             "startlinecolor": "#2a3f5f"
            },
            "type": "carpet"
           }
          ],
          "choropleth": [
           {
            "colorbar": {
             "outlinewidth": 0,
             "ticks": ""
            },
            "type": "choropleth"
           }
          ],
          "contour": [
           {
            "colorbar": {
             "outlinewidth": 0,
             "ticks": ""
            },
            "colorscale": [
             [
              0,
              "#0d0887"
             ],
             [
              0.1111111111111111,
              "#46039f"
             ],
             [
              0.2222222222222222,
              "#7201a8"
             ],
             [
              0.3333333333333333,
              "#9c179e"
             ],
             [
              0.4444444444444444,
              "#bd3786"
             ],
             [
              0.5555555555555556,
              "#d8576b"
             ],
             [
              0.6666666666666666,
              "#ed7953"
             ],
             [
              0.7777777777777778,
              "#fb9f3a"
             ],
             [
              0.8888888888888888,
              "#fdca26"
             ],
             [
              1,
              "#f0f921"
             ]
            ],
            "type": "contour"
           }
          ],
          "contourcarpet": [
           {
            "colorbar": {
             "outlinewidth": 0,
             "ticks": ""
            },
            "type": "contourcarpet"
           }
          ],
          "heatmap": [
           {
            "colorbar": {
             "outlinewidth": 0,
             "ticks": ""
            },
            "colorscale": [
             [
              0,
              "#0d0887"
             ],
             [
              0.1111111111111111,
              "#46039f"
             ],
             [
              0.2222222222222222,
              "#7201a8"
             ],
             [
              0.3333333333333333,
              "#9c179e"
             ],
             [
              0.4444444444444444,
              "#bd3786"
             ],
             [
              0.5555555555555556,
              "#d8576b"
             ],
             [
              0.6666666666666666,
              "#ed7953"
             ],
             [
              0.7777777777777778,
              "#fb9f3a"
             ],
             [
              0.8888888888888888,
              "#fdca26"
             ],
             [
              1,
              "#f0f921"
             ]
            ],
            "type": "heatmap"
           }
          ],
          "heatmapgl": [
           {
            "colorbar": {
             "outlinewidth": 0,
             "ticks": ""
            },
            "colorscale": [
             [
              0,
              "#0d0887"
             ],
             [
              0.1111111111111111,
              "#46039f"
             ],
             [
              0.2222222222222222,
              "#7201a8"
             ],
             [
              0.3333333333333333,
              "#9c179e"
             ],
             [
              0.4444444444444444,
              "#bd3786"
             ],
             [
              0.5555555555555556,
              "#d8576b"
             ],
             [
              0.6666666666666666,
              "#ed7953"
             ],
             [
              0.7777777777777778,
              "#fb9f3a"
             ],
             [
              0.8888888888888888,
              "#fdca26"
             ],
             [
              1,
              "#f0f921"
             ]
            ],
            "type": "heatmapgl"
           }
          ],
          "histogram": [
           {
            "marker": {
             "pattern": {
              "fillmode": "overlay",
              "size": 10,
              "solidity": 0.2
             }
            },
            "type": "histogram"
           }
          ],
          "histogram2d": [
           {
            "colorbar": {
             "outlinewidth": 0,
             "ticks": ""
            },
            "colorscale": [
             [
              0,
              "#0d0887"
             ],
             [
              0.1111111111111111,
              "#46039f"
             ],
             [
              0.2222222222222222,
              "#7201a8"
             ],
             [
              0.3333333333333333,
              "#9c179e"
             ],
             [
              0.4444444444444444,
              "#bd3786"
             ],
             [
              0.5555555555555556,
              "#d8576b"
             ],
             [
              0.6666666666666666,
              "#ed7953"
             ],
             [
              0.7777777777777778,
              "#fb9f3a"
             ],
             [
              0.8888888888888888,
              "#fdca26"
             ],
             [
              1,
              "#f0f921"
             ]
            ],
            "type": "histogram2d"
           }
          ],
          "histogram2dcontour": [
           {
            "colorbar": {
             "outlinewidth": 0,
             "ticks": ""
            },
            "colorscale": [
             [
              0,
              "#0d0887"
             ],
             [
              0.1111111111111111,
              "#46039f"
             ],
             [
              0.2222222222222222,
              "#7201a8"
             ],
             [
              0.3333333333333333,
              "#9c179e"
             ],
             [
              0.4444444444444444,
              "#bd3786"
             ],
             [
              0.5555555555555556,
              "#d8576b"
             ],
             [
              0.6666666666666666,
              "#ed7953"
             ],
             [
              0.7777777777777778,
              "#fb9f3a"
             ],
             [
              0.8888888888888888,
              "#fdca26"
             ],
             [
              1,
              "#f0f921"
             ]
            ],
            "type": "histogram2dcontour"
           }
          ],
          "mesh3d": [
           {
            "colorbar": {
             "outlinewidth": 0,
             "ticks": ""
            },
            "type": "mesh3d"
           }
          ],
          "parcoords": [
           {
            "line": {
             "colorbar": {
              "outlinewidth": 0,
              "ticks": ""
             }
            },
            "type": "parcoords"
           }
          ],
          "pie": [
           {
            "automargin": true,
            "type": "pie"
           }
          ],
          "scatter": [
           {
            "fillpattern": {
             "fillmode": "overlay",
             "size": 10,
             "solidity": 0.2
            },
            "type": "scatter"
           }
          ],
          "scatter3d": [
           {
            "line": {
             "colorbar": {
              "outlinewidth": 0,
              "ticks": ""
             }
            },
            "marker": {
             "colorbar": {
              "outlinewidth": 0,
              "ticks": ""
             }
            },
            "type": "scatter3d"
           }
          ],
          "scattercarpet": [
           {
            "marker": {
             "colorbar": {
              "outlinewidth": 0,
              "ticks": ""
             }
            },
            "type": "scattercarpet"
           }
          ],
          "scattergeo": [
           {
            "marker": {
             "colorbar": {
              "outlinewidth": 0,
              "ticks": ""
             }
            },
            "type": "scattergeo"
           }
          ],
          "scattergl": [
           {
            "marker": {
             "colorbar": {
              "outlinewidth": 0,
              "ticks": ""
             }
            },
            "type": "scattergl"
           }
          ],
          "scattermapbox": [
           {
            "marker": {
             "colorbar": {
              "outlinewidth": 0,
              "ticks": ""
             }
            },
            "type": "scattermapbox"
           }
          ],
          "scatterpolar": [
           {
            "marker": {
             "colorbar": {
              "outlinewidth": 0,
              "ticks": ""
             }
            },
            "type": "scatterpolar"
           }
          ],
          "scatterpolargl": [
           {
            "marker": {
             "colorbar": {
              "outlinewidth": 0,
              "ticks": ""
             }
            },
            "type": "scatterpolargl"
           }
          ],
          "scatterternary": [
           {
            "marker": {
             "colorbar": {
              "outlinewidth": 0,
              "ticks": ""
             }
            },
            "type": "scatterternary"
           }
          ],
          "surface": [
           {
            "colorbar": {
             "outlinewidth": 0,
             "ticks": ""
            },
            "colorscale": [
             [
              0,
              "#0d0887"
             ],
             [
              0.1111111111111111,
              "#46039f"
             ],
             [
              0.2222222222222222,
              "#7201a8"
             ],
             [
              0.3333333333333333,
              "#9c179e"
             ],
             [
              0.4444444444444444,
              "#bd3786"
             ],
             [
              0.5555555555555556,
              "#d8576b"
             ],
             [
              0.6666666666666666,
              "#ed7953"
             ],
             [
              0.7777777777777778,
              "#fb9f3a"
             ],
             [
              0.8888888888888888,
              "#fdca26"
             ],
             [
              1,
              "#f0f921"
             ]
            ],
            "type": "surface"
           }
          ],
          "table": [
           {
            "cells": {
             "fill": {
              "color": "#EBF0F8"
             },
             "line": {
              "color": "white"
             }
            },
            "header": {
             "fill": {
              "color": "#C8D4E3"
             },
             "line": {
              "color": "white"
             }
            },
            "type": "table"
           }
          ]
         },
         "layout": {
          "annotationdefaults": {
           "arrowcolor": "#2a3f5f",
           "arrowhead": 0,
           "arrowwidth": 1
          },
          "autotypenumbers": "strict",
          "coloraxis": {
           "colorbar": {
            "outlinewidth": 0,
            "ticks": ""
           }
          },
          "colorscale": {
           "diverging": [
            [
             0,
             "#8e0152"
            ],
            [
             0.1,
             "#c51b7d"
            ],
            [
             0.2,
             "#de77ae"
            ],
            [
             0.3,
             "#f1b6da"
            ],
            [
             0.4,
             "#fde0ef"
            ],
            [
             0.5,
             "#f7f7f7"
            ],
            [
             0.6,
             "#e6f5d0"
            ],
            [
             0.7,
             "#b8e186"
            ],
            [
             0.8,
             "#7fbc41"
            ],
            [
             0.9,
             "#4d9221"
            ],
            [
             1,
             "#276419"
            ]
           ],
           "sequential": [
            [
             0,
             "#0d0887"
            ],
            [
             0.1111111111111111,
             "#46039f"
            ],
            [
             0.2222222222222222,
             "#7201a8"
            ],
            [
             0.3333333333333333,
             "#9c179e"
            ],
            [
             0.4444444444444444,
             "#bd3786"
            ],
            [
             0.5555555555555556,
             "#d8576b"
            ],
            [
             0.6666666666666666,
             "#ed7953"
            ],
            [
             0.7777777777777778,
             "#fb9f3a"
            ],
            [
             0.8888888888888888,
             "#fdca26"
            ],
            [
             1,
             "#f0f921"
            ]
           ],
           "sequentialminus": [
            [
             0,
             "#0d0887"
            ],
            [
             0.1111111111111111,
             "#46039f"
            ],
            [
             0.2222222222222222,
             "#7201a8"
            ],
            [
             0.3333333333333333,
             "#9c179e"
            ],
            [
             0.4444444444444444,
             "#bd3786"
            ],
            [
             0.5555555555555556,
             "#d8576b"
            ],
            [
             0.6666666666666666,
             "#ed7953"
            ],
            [
             0.7777777777777778,
             "#fb9f3a"
            ],
            [
             0.8888888888888888,
             "#fdca26"
            ],
            [
             1,
             "#f0f921"
            ]
           ]
          },
          "colorway": [
           "#636efa",
           "#EF553B",
           "#00cc96",
           "#ab63fa",
           "#FFA15A",
           "#19d3f3",
           "#FF6692",
           "#B6E880",
           "#FF97FF",
           "#FECB52"
          ],
          "font": {
           "color": "#2a3f5f"
          },
          "geo": {
           "bgcolor": "white",
           "lakecolor": "white",
           "landcolor": "#E5ECF6",
           "showlakes": true,
           "showland": true,
           "subunitcolor": "white"
          },
          "hoverlabel": {
           "align": "left"
          },
          "hovermode": "closest",
          "mapbox": {
           "style": "light"
          },
          "paper_bgcolor": "white",
          "plot_bgcolor": "#E5ECF6",
          "polar": {
           "angularaxis": {
            "gridcolor": "white",
            "linecolor": "white",
            "ticks": ""
           },
           "bgcolor": "#E5ECF6",
           "radialaxis": {
            "gridcolor": "white",
            "linecolor": "white",
            "ticks": ""
           }
          },
          "scene": {
           "xaxis": {
            "backgroundcolor": "#E5ECF6",
            "gridcolor": "white",
            "gridwidth": 2,
            "linecolor": "white",
            "showbackground": true,
            "ticks": "",
            "zerolinecolor": "white"
           },
           "yaxis": {
            "backgroundcolor": "#E5ECF6",
            "gridcolor": "white",
            "gridwidth": 2,
            "linecolor": "white",
            "showbackground": true,
            "ticks": "",
            "zerolinecolor": "white"
           },
           "zaxis": {
            "backgroundcolor": "#E5ECF6",
            "gridcolor": "white",
            "gridwidth": 2,
            "linecolor": "white",
            "showbackground": true,
            "ticks": "",
            "zerolinecolor": "white"
           }
          },
          "shapedefaults": {
           "line": {
            "color": "#2a3f5f"
           }
          },
          "ternary": {
           "aaxis": {
            "gridcolor": "white",
            "linecolor": "white",
            "ticks": ""
           },
           "baxis": {
            "gridcolor": "white",
            "linecolor": "white",
            "ticks": ""
           },
           "bgcolor": "#E5ECF6",
           "caxis": {
            "gridcolor": "white",
            "linecolor": "white",
            "ticks": ""
           }
          },
          "title": {
           "x": 0.05
          },
          "xaxis": {
           "automargin": true,
           "gridcolor": "white",
           "linecolor": "white",
           "ticks": "",
           "title": {
            "standoff": 15
           },
           "zerolinecolor": "white",
           "zerolinewidth": 2
          },
          "yaxis": {
           "automargin": true,
           "gridcolor": "white",
           "linecolor": "white",
           "ticks": "",
           "title": {
            "standoff": 15
           },
           "zerolinecolor": "white",
           "zerolinewidth": 2
          }
         }
        },
        "title": {
         "text": "Top 120 by Duration and Ranking"
        },
        "xaxis": {
         "anchor": "y",
         "domain": [
          0,
          1
         ],
         "title": {
          "text": "Dur_Shrink"
         }
        },
        "yaxis": {
         "anchor": "x",
         "domain": [
          0,
          1
         ],
         "title": {
          "text": "Ranking"
         }
        }
       }
      }
     },
     "metadata": {},
     "output_type": "display_data"
    }
   ],
   "source": [
    "fig8 = px.scatter(result_vis, x='Dur_Shrink', y='Ranking', color='Category', size='Followers', hover_data=['N','Title','Username','Followers'], title='Top 120 by Duration and Ranking')\n",
    "fig8.show()"
   ]
  },
  {
   "cell_type": "code",
   "execution_count": 24,
   "metadata": {},
   "outputs": [],
   "source": [
    "fig1.write_html(\"Top 120 Count by Category.html\")\n",
    "fig2.write_html(\"Top 120 Count by Subcategory.html\")\n",
    "fig3.write_html(\"Top 120 by Selected and Followers.html\")\n",
    "fig4.write_html(\"Top 120 Count by Duration.html\")\n",
    "fig5.write_html(\"Top 120 total Rank by Category.html\")\n",
    "fig6.write_html(\"Top 120 Rank distribution by Category.html\")\n",
    "fig7.write_html(\"Top 120 Duration distribution by Category.html\")\n",
    "fig8.write_html(\"Top 120 by Duration and Ranking.html\")"
   ]
  },
  {
   "cell_type": "code",
   "execution_count": 25,
   "metadata": {},
   "outputs": [
    {
     "name": "stderr",
     "output_type": "stream",
     "text": [
      "c:\\Users\\mi_al\\AppData\\Local\\Programs\\Python\\Python39\\lib\\site-packages\\plotly\\express\\_core.py:1985: FutureWarning:\n",
      "\n",
      "When grouping with a length-1 list-like, you will need to pass a length-1 tuple to get_group in a future version of pandas. Pass `(name,)` instead of `name` to silence this warning.\n",
      "\n"
     ]
    },
    {
     "data": {
      "application/vnd.plotly.v1+json": {
       "config": {
        "plotlyServerURL": "https://plot.ly"
       },
       "data": [
        {
         "alignmentgroup": "True",
         "hovertemplate": "Subcategory=%{x}<br>Ranking=%{y}<extra></extra>",
         "legendgroup": "Carpets",
         "marker": {
          "color": "#636efa"
         },
         "name": "Carpets",
         "notched": false,
         "offsetgroup": "Carpets",
         "orientation": "v",
         "showlegend": true,
         "type": "box",
         "x": [
          "Carpets",
          "Carpets",
          "Carpets",
          "Carpets",
          "Carpets",
          "Carpets"
         ],
         "x0": " ",
         "xaxis": "x",
         "y": [
          120,
          106,
          99,
          43,
          25,
          11
         ],
         "y0": " ",
         "yaxis": "y"
        },
        {
         "alignmentgroup": "True",
         "hovertemplate": "Subcategory=%{x}<br>Ranking=%{y}<extra></extra>",
         "legendgroup": "Clothes",
         "marker": {
          "color": "#EF553B"
         },
         "name": "Clothes",
         "notched": false,
         "offsetgroup": "Clothes",
         "orientation": "v",
         "showlegend": true,
         "type": "box",
         "x": [
          "Clothes",
          "Clothes",
          "Clothes",
          "Clothes"
         ],
         "x0": " ",
         "xaxis": "x",
         "y": [
          119,
          92,
          73,
          61
         ],
         "y0": " ",
         "yaxis": "y"
        },
        {
         "alignmentgroup": "True",
         "hovertemplate": "Subcategory=%{x}<br>Ranking=%{y}<extra></extra>",
         "legendgroup": "Sideboard & Chest of drawer",
         "marker": {
          "color": "#00cc96"
         },
         "name": "Sideboard & Chest of drawer",
         "notched": false,
         "offsetgroup": "Sideboard & Chest of drawer",
         "orientation": "v",
         "showlegend": true,
         "type": "box",
         "x": [
          "Sideboard & Chest of drawer"
         ],
         "x0": " ",
         "xaxis": "x",
         "y": [
          118
         ],
         "y0": " ",
         "yaxis": "y"
        },
        {
         "alignmentgroup": "True",
         "hovertemplate": "Subcategory=%{x}<br>Ranking=%{y}<extra></extra>",
         "legendgroup": "Faucet",
         "marker": {
          "color": "#ab63fa"
         },
         "name": "Faucet",
         "notched": false,
         "offsetgroup": "Faucet",
         "orientation": "v",
         "showlegend": true,
         "type": "box",
         "x": [
          "Faucet"
         ],
         "x0": " ",
         "xaxis": "x",
         "y": [
          117
         ],
         "y0": " ",
         "yaxis": "y"
        },
        {
         "alignmentgroup": "True",
         "hovertemplate": "Subcategory=%{x}<br>Ranking=%{y}<extra></extra>",
         "legendgroup": "Curtain",
         "marker": {
          "color": "#FFA15A"
         },
         "name": "Curtain",
         "notched": false,
         "offsetgroup": "Curtain",
         "orientation": "v",
         "showlegend": true,
         "type": "box",
         "x": [
          "Curtain",
          "Curtain",
          "Curtain",
          "Curtain",
          "Curtain",
          "Curtain"
         ],
         "x0": " ",
         "xaxis": "x",
         "y": [
          116,
          102,
          96,
          83,
          30,
          8
         ],
         "y0": " ",
         "yaxis": "y"
        },
        {
         "alignmentgroup": "True",
         "hovertemplate": "Subcategory=%{x}<br>Ranking=%{y}<extra></extra>",
         "legendgroup": "Arm chair",
         "marker": {
          "color": "#19d3f3"
         },
         "name": "Arm chair",
         "notched": false,
         "offsetgroup": "Arm chair",
         "orientation": "v",
         "showlegend": true,
         "type": "box",
         "x": [
          "Arm chair",
          "Arm chair"
         ],
         "x0": " ",
         "xaxis": "x",
         "y": [
          115,
          72
         ],
         "y0": " ",
         "yaxis": "y"
        },
        {
         "alignmentgroup": "True",
         "hovertemplate": "Subcategory=%{x}<br>Ranking=%{y}<extra></extra>",
         "legendgroup": "Wardrobe & Display cabinets",
         "marker": {
          "color": "#FF6692"
         },
         "name": "Wardrobe & Display cabinets",
         "notched": false,
         "offsetgroup": "Wardrobe & Display cabinets",
         "orientation": "v",
         "showlegend": true,
         "type": "box",
         "x": [
          "Wardrobe & Display cabinets",
          "Wardrobe & Display cabinets",
          "Wardrobe & Display cabinets",
          "Wardrobe & Display cabinets",
          "Wardrobe & Display cabinets",
          "Wardrobe & Display cabinets",
          "Wardrobe & Display cabinets"
         ],
         "x0": " ",
         "xaxis": "x",
         "y": [
          114,
          110,
          81,
          76,
          34,
          26,
          22
         ],
         "y0": " ",
         "yaxis": "y"
        },
        {
         "alignmentgroup": "True",
         "hovertemplate": "Subcategory=%{x}<br>Ranking=%{y}<extra></extra>",
         "legendgroup": "PC & other electronics",
         "marker": {
          "color": "#B6E880"
         },
         "name": "PC & other electronics",
         "notched": false,
         "offsetgroup": "PC & other electronics",
         "orientation": "v",
         "showlegend": true,
         "type": "box",
         "x": [
          "PC & other electronics",
          "PC & other electronics",
          "PC & other electronics"
         ],
         "x0": " ",
         "xaxis": "x",
         "y": [
          113,
          57,
          52
         ],
         "y0": " ",
         "yaxis": "y"
        },
        {
         "alignmentgroup": "True",
         "hovertemplate": "Subcategory=%{x}<br>Ranking=%{y}<extra></extra>",
         "legendgroup": "Decorative set",
         "marker": {
          "color": "#FF97FF"
         },
         "name": "Decorative set",
         "notched": false,
         "offsetgroup": "Decorative set",
         "orientation": "v",
         "showlegend": true,
         "type": "box",
         "x": [
          "Decorative set",
          "Decorative set",
          "Decorative set",
          "Decorative set",
          "Decorative set",
          "Decorative set",
          "Decorative set"
         ],
         "x0": " ",
         "xaxis": "x",
         "y": [
          112,
          108,
          93,
          91,
          90,
          46,
          44
         ],
         "y0": " ",
         "yaxis": "y"
        },
        {
         "alignmentgroup": "True",
         "hovertemplate": "Subcategory=%{x}<br>Ranking=%{y}<extra></extra>",
         "legendgroup": "Bathroom furniture",
         "marker": {
          "color": "#FECB52"
         },
         "name": "Bathroom furniture",
         "notched": false,
         "offsetgroup": "Bathroom furniture",
         "orientation": "v",
         "showlegend": true,
         "type": "box",
         "x": [
          "Bathroom furniture",
          "Bathroom furniture",
          "Bathroom furniture"
         ],
         "x0": " ",
         "xaxis": "x",
         "y": [
          111,
          105,
          63
         ],
         "y0": " ",
         "yaxis": "y"
        },
        {
         "alignmentgroup": "True",
         "hovertemplate": "Subcategory=%{x}<br>Ranking=%{y}<extra></extra>",
         "legendgroup": "Bathroom accessories",
         "marker": {
          "color": "#636efa"
         },
         "name": "Bathroom accessories",
         "notched": false,
         "offsetgroup": "Bathroom accessories",
         "orientation": "v",
         "showlegend": true,
         "type": "box",
         "x": [
          "Bathroom accessories",
          "Bathroom accessories",
          "Bathroom accessories",
          "Bathroom accessories",
          "Bathroom accessories",
          "Bathroom accessories",
          "Bathroom accessories"
         ],
         "x0": " ",
         "xaxis": "x",
         "y": [
          109,
          101,
          45,
          36,
          31,
          20,
          18
         ],
         "y0": " ",
         "yaxis": "y"
        },
        {
         "alignmentgroup": "True",
         "hovertemplate": "Subcategory=%{x}<br>Ranking=%{y}<extra></extra>",
         "legendgroup": "Miscellaneous",
         "marker": {
          "color": "#EF553B"
         },
         "name": "Miscellaneous",
         "notched": false,
         "offsetgroup": "Miscellaneous",
         "orientation": "v",
         "showlegend": true,
         "type": "box",
         "x": [
          "Miscellaneous",
          "Miscellaneous",
          "Miscellaneous",
          "Miscellaneous",
          "Miscellaneous",
          "Miscellaneous",
          "Miscellaneous",
          "Miscellaneous",
          "Miscellaneous",
          "Miscellaneous"
         ],
         "x0": " ",
         "xaxis": "x",
         "y": [
          107,
          98,
          97,
          74,
          67,
          53,
          51,
          7,
          6,
          3
         ],
         "y0": " ",
         "yaxis": "y"
        },
        {
         "alignmentgroup": "True",
         "hovertemplate": "Subcategory=%{x}<br>Ranking=%{y}<extra></extra>",
         "legendgroup": "Indoor",
         "marker": {
          "color": "#00cc96"
         },
         "name": "Indoor",
         "notched": false,
         "offsetgroup": "Indoor",
         "orientation": "v",
         "showlegend": true,
         "type": "box",
         "x": [
          "Indoor",
          "Indoor",
          "Indoor"
         ],
         "x0": " ",
         "xaxis": "x",
         "y": [
          104,
          89,
          32
         ],
         "y0": " ",
         "yaxis": "y"
        },
        {
         "alignmentgroup": "True",
         "hovertemplate": "Subcategory=%{x}<br>Ranking=%{y}<extra></extra>",
         "legendgroup": "Pendant light",
         "marker": {
          "color": "#ab63fa"
         },
         "name": "Pendant light",
         "notched": false,
         "offsetgroup": "Pendant light",
         "orientation": "v",
         "showlegend": true,
         "type": "box",
         "x": [
          "Pendant light",
          "Pendant light",
          "Pendant light"
         ],
         "x0": " ",
         "xaxis": "x",
         "y": [
          103,
          66,
          62
         ],
         "y0": " ",
         "yaxis": "y"
        },
        {
         "alignmentgroup": "True",
         "hovertemplate": "Subcategory=%{x}<br>Ranking=%{y}<extra></extra>",
         "legendgroup": "Wall covering",
         "marker": {
          "color": "#FFA15A"
         },
         "name": "Wall covering",
         "notched": false,
         "offsetgroup": "Wall covering",
         "orientation": "v",
         "showlegend": true,
         "type": "box",
         "x": [
          "Wall covering"
         ],
         "x0": " ",
         "xaxis": "x",
         "y": [
          100
         ],
         "y0": " ",
         "yaxis": "y"
        },
        {
         "alignmentgroup": "True",
         "hovertemplate": "Subcategory=%{x}<br>Ranking=%{y}<extra></extra>",
         "legendgroup": "Tile",
         "marker": {
          "color": "#19d3f3"
         },
         "name": "Tile",
         "notched": false,
         "offsetgroup": "Tile",
         "orientation": "v",
         "showlegend": true,
         "type": "box",
         "x": [
          "Tile",
          "Tile",
          "Tile",
          "Tile",
          "Tile"
         ],
         "x0": " ",
         "xaxis": "x",
         "y": [
          95,
          79,
          58,
          42,
          33
         ],
         "y0": " ",
         "yaxis": "y"
        },
        {
         "alignmentgroup": "True",
         "hovertemplate": "Subcategory=%{x}<br>Ranking=%{y}<extra></extra>",
         "legendgroup": "Table",
         "marker": {
          "color": "#FF6692"
         },
         "name": "Table",
         "notched": false,
         "offsetgroup": "Table",
         "orientation": "v",
         "showlegend": true,
         "type": "box",
         "x": [
          "Table",
          "Table",
          "Table"
         ],
         "x0": " ",
         "xaxis": "x",
         "y": [
          94,
          70,
          15
         ],
         "y0": " ",
         "yaxis": "y"
        },
        {
         "alignmentgroup": "True",
         "hovertemplate": "Subcategory=%{x}<br>Ranking=%{y}<extra></extra>",
         "legendgroup": "Sofa",
         "marker": {
          "color": "#B6E880"
         },
         "name": "Sofa",
         "notched": false,
         "offsetgroup": "Sofa",
         "orientation": "v",
         "showlegend": true,
         "type": "box",
         "x": [
          "Sofa",
          "Sofa",
          "Sofa"
         ],
         "x0": " ",
         "xaxis": "x",
         "y": [
          88,
          68,
          64
         ],
         "y0": " ",
         "yaxis": "y"
        },
        {
         "alignmentgroup": "True",
         "hovertemplate": "Subcategory=%{x}<br>Ranking=%{y}<extra></extra>",
         "legendgroup": "Tableware",
         "marker": {
          "color": "#FF97FF"
         },
         "name": "Tableware",
         "notched": false,
         "offsetgroup": "Tableware",
         "orientation": "v",
         "showlegend": true,
         "type": "box",
         "x": [
          "Tableware",
          "Tableware"
         ],
         "x0": " ",
         "xaxis": "x",
         "y": [
          87,
          75
         ],
         "y0": " ",
         "yaxis": "y"
        },
        {
         "alignmentgroup": "True",
         "hovertemplate": "Subcategory=%{x}<br>Ranking=%{y}<extra></extra>",
         "legendgroup": "Scripts",
         "marker": {
          "color": "#FECB52"
         },
         "name": "Scripts",
         "notched": false,
         "offsetgroup": "Scripts",
         "orientation": "v",
         "showlegend": true,
         "type": "box",
         "x": [
          "Scripts"
         ],
         "x0": " ",
         "xaxis": "x",
         "y": [
          86
         ],
         "y0": " ",
         "yaxis": "y"
        },
        {
         "alignmentgroup": "True",
         "hovertemplate": "Subcategory=%{x}<br>Ranking=%{y}<extra></extra>",
         "legendgroup": "TV Wall",
         "marker": {
          "color": "#636efa"
         },
         "name": "TV Wall",
         "notched": false,
         "offsetgroup": "TV Wall",
         "orientation": "v",
         "showlegend": true,
         "type": "box",
         "x": [
          "TV Wall"
         ],
         "x0": " ",
         "xaxis": "x",
         "y": [
          85
         ],
         "y0": " ",
         "yaxis": "y"
        },
        {
         "alignmentgroup": "True",
         "hovertemplate": "Subcategory=%{x}<br>Ranking=%{y}<extra></extra>",
         "legendgroup": "Office furniture",
         "marker": {
          "color": "#EF553B"
         },
         "name": "Office furniture",
         "notched": false,
         "offsetgroup": "Office furniture",
         "orientation": "v",
         "showlegend": true,
         "type": "box",
         "x": [
          "Office furniture",
          "Office furniture"
         ],
         "x0": " ",
         "xaxis": "x",
         "y": [
          84,
          56
         ],
         "y0": " ",
         "yaxis": "y"
        },
        {
         "alignmentgroup": "True",
         "hovertemplate": "Subcategory=%{x}<br>Ranking=%{y}<extra></extra>",
         "legendgroup": "Outdoor",
         "marker": {
          "color": "#00cc96"
         },
         "name": "Outdoor",
         "notched": false,
         "offsetgroup": "Outdoor",
         "orientation": "v",
         "showlegend": true,
         "type": "box",
         "x": [
          "Outdoor"
         ],
         "x0": " ",
         "xaxis": "x",
         "y": [
          82
         ],
         "y0": " ",
         "yaxis": "y"
        },
        {
         "alignmentgroup": "True",
         "hovertemplate": "Subcategory=%{x}<br>Ranking=%{y}<extra></extra>",
         "legendgroup": "Wardrobe",
         "marker": {
          "color": "#ab63fa"
         },
         "name": "Wardrobe",
         "notched": false,
         "offsetgroup": "Wardrobe",
         "orientation": "v",
         "showlegend": true,
         "type": "box",
         "x": [
          "Wardrobe"
         ],
         "x0": " ",
         "xaxis": "x",
         "y": [
          80
         ],
         "y0": " ",
         "yaxis": "y"
        },
        {
         "alignmentgroup": "True",
         "hovertemplate": "Subcategory=%{x}<br>Ranking=%{y}<extra></extra>",
         "legendgroup": "Chair",
         "marker": {
          "color": "#FFA15A"
         },
         "name": "Chair",
         "notched": false,
         "offsetgroup": "Chair",
         "orientation": "v",
         "showlegend": true,
         "type": "box",
         "x": [
          "Chair",
          "Chair"
         ],
         "x0": " ",
         "xaxis": "x",
         "y": [
          78,
          29
         ],
         "y0": " ",
         "yaxis": "y"
        },
        {
         "alignmentgroup": "True",
         "hovertemplate": "Subcategory=%{x}<br>Ranking=%{y}<extra></extra>",
         "legendgroup": "Household appliance",
         "marker": {
          "color": "#19d3f3"
         },
         "name": "Household appliance",
         "notched": false,
         "offsetgroup": "Household appliance",
         "orientation": "v",
         "showlegend": true,
         "type": "box",
         "x": [
          "Household appliance",
          "Household appliance"
         ],
         "x0": " ",
         "xaxis": "x",
         "y": [
          77,
          12
         ],
         "y0": " ",
         "yaxis": "y"
        },
        {
         "alignmentgroup": "True",
         "hovertemplate": "Subcategory=%{x}<br>Ranking=%{y}<extra></extra>",
         "legendgroup": "Other decorative objects",
         "marker": {
          "color": "#FF6692"
         },
         "name": "Other decorative objects",
         "notched": false,
         "offsetgroup": "Other decorative objects",
         "orientation": "v",
         "showlegend": true,
         "type": "box",
         "x": [
          "Other decorative objects",
          "Other decorative objects",
          "Other decorative objects"
         ],
         "x0": " ",
         "xaxis": "x",
         "y": [
          71,
          69,
          13
         ],
         "y0": " ",
         "yaxis": "y"
        },
        {
         "alignmentgroup": "True",
         "hovertemplate": "Subcategory=%{x}<br>Ranking=%{y}<extra></extra>",
         "legendgroup": "Table + Chair",
         "marker": {
          "color": "#B6E880"
         },
         "name": "Table + Chair",
         "notched": false,
         "offsetgroup": "Table + Chair",
         "orientation": "v",
         "showlegend": true,
         "type": "box",
         "x": [
          "Table + Chair",
          "Table + Chair"
         ],
         "x0": " ",
         "xaxis": "x",
         "y": [
          65,
          41
         ],
         "y0": " ",
         "yaxis": "y"
        },
        {
         "alignmentgroup": "True",
         "hovertemplate": "Subcategory=%{x}<br>Ranking=%{y}<extra></extra>",
         "legendgroup": "Floor coverings",
         "marker": {
          "color": "#FF97FF"
         },
         "name": "Floor coverings",
         "notched": false,
         "offsetgroup": "Floor coverings",
         "orientation": "v",
         "showlegend": true,
         "type": "box",
         "x": [
          "Floor coverings"
         ],
         "x0": " ",
         "xaxis": "x",
         "y": [
          60
         ],
         "y0": " ",
         "yaxis": "y"
        },
        {
         "alignmentgroup": "True",
         "hovertemplate": "Subcategory=%{x}<br>Ranking=%{y}<extra></extra>",
         "legendgroup": "Sports",
         "marker": {
          "color": "#FECB52"
         },
         "name": "Sports",
         "notched": false,
         "offsetgroup": "Sports",
         "orientation": "v",
         "showlegend": true,
         "type": "box",
         "x": [
          "Sports",
          "Sports"
         ],
         "x0": " ",
         "xaxis": "x",
         "y": [
          59,
          19
         ],
         "y0": " ",
         "yaxis": "y"
        },
        {
         "alignmentgroup": "True",
         "hovertemplate": "Subcategory=%{x}<br>Ranking=%{y}<extra></extra>",
         "legendgroup": "Wood",
         "marker": {
          "color": "#636efa"
         },
         "name": "Wood",
         "notched": false,
         "offsetgroup": "Wood",
         "orientation": "v",
         "showlegend": true,
         "type": "box",
         "x": [
          "Wood",
          "Wood"
         ],
         "x0": " ",
         "xaxis": "x",
         "y": [
          55,
          2
         ],
         "y0": " ",
         "yaxis": "y"
        },
        {
         "alignmentgroup": "True",
         "hovertemplate": "Subcategory=%{x}<br>Ranking=%{y}<extra></extra>",
         "legendgroup": "Hallway",
         "marker": {
          "color": "#EF553B"
         },
         "name": "Hallway",
         "notched": false,
         "offsetgroup": "Hallway",
         "orientation": "v",
         "showlegend": true,
         "type": "box",
         "x": [
          "Hallway"
         ],
         "x0": " ",
         "xaxis": "x",
         "y": [
          54
         ],
         "y0": " ",
         "yaxis": "y"
        },
        {
         "alignmentgroup": "True",
         "hovertemplate": "Subcategory=%{x}<br>Ranking=%{y}<extra></extra>",
         "legendgroup": "Other",
         "marker": {
          "color": "#00cc96"
         },
         "name": "Other",
         "notched": false,
         "offsetgroup": "Other",
         "orientation": "v",
         "showlegend": true,
         "type": "box",
         "x": [
          "Other"
         ],
         "x0": " ",
         "xaxis": "x",
         "y": [
          50
         ],
         "y0": " ",
         "yaxis": "y"
        },
        {
         "alignmentgroup": "True",
         "hovertemplate": "Subcategory=%{x}<br>Ranking=%{y}<extra></extra>",
         "legendgroup": "Shower",
         "marker": {
          "color": "#ab63fa"
         },
         "name": "Shower",
         "notched": false,
         "offsetgroup": "Shower",
         "orientation": "v",
         "showlegend": true,
         "type": "box",
         "x": [
          "Shower"
         ],
         "x0": " ",
         "xaxis": "x",
         "y": [
          49
         ],
         "y0": " ",
         "yaxis": "y"
        },
        {
         "alignmentgroup": "True",
         "hovertemplate": "Subcategory=%{x}<br>Ranking=%{y}<extra></extra>",
         "legendgroup": "Kitchen",
         "marker": {
          "color": "#FFA15A"
         },
         "name": "Kitchen",
         "notched": false,
         "offsetgroup": "Kitchen",
         "orientation": "v",
         "showlegend": true,
         "type": "box",
         "x": [
          "Kitchen",
          "Kitchen",
          "Kitchen"
         ],
         "x0": " ",
         "xaxis": "x",
         "y": [
          48,
          24,
          9
         ],
         "y0": " ",
         "yaxis": "y"
        },
        {
         "alignmentgroup": "True",
         "hovertemplate": "Subcategory=%{x}<br>Ranking=%{y}<extra></extra>",
         "legendgroup": "Food and drinks",
         "marker": {
          "color": "#19d3f3"
         },
         "name": "Food and drinks",
         "notched": false,
         "offsetgroup": "Food and drinks",
         "orientation": "v",
         "showlegend": true,
         "type": "box",
         "x": [
          "Food and drinks",
          "Food and drinks"
         ],
         "x0": " ",
         "xaxis": "x",
         "y": [
          47,
          14
         ],
         "y0": " ",
         "yaxis": "y"
        },
        {
         "alignmentgroup": "True",
         "hovertemplate": "Subcategory=%{x}<br>Ranking=%{y}<extra></extra>",
         "legendgroup": "Kitchen appliance",
         "marker": {
          "color": "#FF6692"
         },
         "name": "Kitchen appliance",
         "notched": false,
         "offsetgroup": "Kitchen appliance",
         "orientation": "v",
         "showlegend": true,
         "type": "box",
         "x": [
          "Kitchen appliance"
         ],
         "x0": " ",
         "xaxis": "x",
         "y": [
          40
         ],
         "y0": " ",
         "yaxis": "y"
        },
        {
         "alignmentgroup": "True",
         "hovertemplate": "Subcategory=%{x}<br>Ranking=%{y}<extra></extra>",
         "legendgroup": "Restaurant",
         "marker": {
          "color": "#B6E880"
         },
         "name": "Restaurant",
         "notched": false,
         "offsetgroup": "Restaurant",
         "orientation": "v",
         "showlegend": true,
         "type": "box",
         "x": [
          "Restaurant",
          "Restaurant"
         ],
         "x0": " ",
         "xaxis": "x",
         "y": [
          39,
          37
         ],
         "y0": " ",
         "yaxis": "y"
        },
        {
         "alignmentgroup": "True",
         "hovertemplate": "Subcategory=%{x}<br>Ranking=%{y}<extra></extra>",
         "legendgroup": "Tree",
         "marker": {
          "color": "#FF97FF"
         },
         "name": "Tree",
         "notched": false,
         "offsetgroup": "Tree",
         "orientation": "v",
         "showlegend": true,
         "type": "box",
         "x": [
          "Tree"
         ],
         "x0": " ",
         "xaxis": "x",
         "y": [
          38
         ],
         "y0": " ",
         "yaxis": "y"
        },
        {
         "alignmentgroup": "True",
         "hovertemplate": "Subcategory=%{x}<br>Ranking=%{y}<extra></extra>",
         "legendgroup": "Grass",
         "marker": {
          "color": "#FECB52"
         },
         "name": "Grass",
         "notched": false,
         "offsetgroup": "Grass",
         "orientation": "v",
         "showlegend": true,
         "type": "box",
         "x": [
          "Grass"
         ],
         "x0": " ",
         "xaxis": "x",
         "y": [
          35
         ],
         "y0": " ",
         "yaxis": "y"
        },
        {
         "alignmentgroup": "True",
         "hovertemplate": "Subcategory=%{x}<br>Ranking=%{y}<extra></extra>",
         "legendgroup": "Bed",
         "marker": {
          "color": "#636efa"
         },
         "name": "Bed",
         "notched": false,
         "offsetgroup": "Bed",
         "orientation": "v",
         "showlegend": true,
         "type": "box",
         "x": [
          "Bed",
          "Bed"
         ],
         "x0": " ",
         "xaxis": "x",
         "y": [
          28,
          1
         ],
         "y0": " ",
         "yaxis": "y"
        },
        {
         "alignmentgroup": "True",
         "hovertemplate": "Subcategory=%{x}<br>Ranking=%{y}<extra></extra>",
         "legendgroup": "Toy",
         "marker": {
          "color": "#EF553B"
         },
         "name": "Toy",
         "notched": false,
         "offsetgroup": "Toy",
         "orientation": "v",
         "showlegend": true,
         "type": "box",
         "x": [
          "Toy"
         ],
         "x0": " ",
         "xaxis": "x",
         "y": [
          27
         ],
         "y0": " ",
         "yaxis": "y"
        },
        {
         "alignmentgroup": "True",
         "hovertemplate": "Subcategory=%{x}<br>Ranking=%{y}<extra></extra>",
         "legendgroup": "Shop",
         "marker": {
          "color": "#00cc96"
         },
         "name": "Shop",
         "notched": false,
         "offsetgroup": "Shop",
         "orientation": "v",
         "showlegend": true,
         "type": "box",
         "x": [
          "Shop"
         ],
         "x0": " ",
         "xaxis": "x",
         "y": [
          23
         ],
         "y0": " ",
         "yaxis": "y"
        },
        {
         "alignmentgroup": "True",
         "hovertemplate": "Subcategory=%{x}<br>Ranking=%{y}<extra></extra>",
         "legendgroup": "Bouquet",
         "marker": {
          "color": "#ab63fa"
         },
         "name": "Bouquet",
         "notched": false,
         "offsetgroup": "Bouquet",
         "orientation": "v",
         "showlegend": true,
         "type": "box",
         "x": [
          "Bouquet"
         ],
         "x0": " ",
         "xaxis": "x",
         "y": [
          21
         ],
         "y0": " ",
         "yaxis": "y"
        },
        {
         "alignmentgroup": "True",
         "hovertemplate": "Subcategory=%{x}<br>Ranking=%{y}<extra></extra>",
         "legendgroup": "Sink",
         "marker": {
          "color": "#FFA15A"
         },
         "name": "Sink",
         "notched": false,
         "offsetgroup": "Sink",
         "orientation": "v",
         "showlegend": true,
         "type": "box",
         "x": [
          "Sink"
         ],
         "x0": " ",
         "xaxis": "x",
         "y": [
          17
         ],
         "y0": " ",
         "yaxis": "y"
        },
        {
         "alignmentgroup": "True",
         "hovertemplate": "Subcategory=%{x}<br>Ranking=%{y}<extra></extra>",
         "legendgroup": "TV",
         "marker": {
          "color": "#19d3f3"
         },
         "name": "TV",
         "notched": false,
         "offsetgroup": "TV",
         "orientation": "v",
         "showlegend": true,
         "type": "box",
         "x": [
          "TV"
         ],
         "x0": " ",
         "xaxis": "x",
         "y": [
          16
         ],
         "y0": " ",
         "yaxis": "y"
        },
        {
         "alignmentgroup": "True",
         "hovertemplate": "Subcategory=%{x}<br>Ranking=%{y}<extra></extra>",
         "legendgroup": "Doors",
         "marker": {
          "color": "#FF6692"
         },
         "name": "Doors",
         "notched": false,
         "offsetgroup": "Doors",
         "orientation": "v",
         "showlegend": true,
         "type": "box",
         "x": [
          "Doors"
         ],
         "x0": " ",
         "xaxis": "x",
         "y": [
          10
         ],
         "y0": " ",
         "yaxis": "y"
        },
        {
         "alignmentgroup": "True",
         "hovertemplate": "Subcategory=%{x}<br>Ranking=%{y}<extra></extra>",
         "legendgroup": "Windows",
         "marker": {
          "color": "#B6E880"
         },
         "name": "Windows",
         "notched": false,
         "offsetgroup": "Windows",
         "orientation": "v",
         "showlegend": true,
         "type": "box",
         "x": [
          "Windows"
         ],
         "x0": " ",
         "xaxis": "x",
         "y": [
          5
         ],
         "y0": " ",
         "yaxis": "y"
        },
        {
         "alignmentgroup": "True",
         "hovertemplate": "Subcategory=%{x}<br>Ranking=%{y}<extra></extra>",
         "legendgroup": "Rack",
         "marker": {
          "color": "#FF97FF"
         },
         "name": "Rack",
         "notched": false,
         "offsetgroup": "Rack",
         "orientation": "v",
         "showlegend": true,
         "type": "box",
         "x": [
          "Rack"
         ],
         "x0": " ",
         "xaxis": "x",
         "y": [
          4
         ],
         "y0": " ",
         "yaxis": "y"
        }
       ],
       "layout": {
        "boxmode": "overlay",
        "legend": {
         "title": {
          "text": "Subcategory"
         },
         "tracegroupgap": 0
        },
        "template": {
         "data": {
          "bar": [
           {
            "error_x": {
             "color": "#2a3f5f"
            },
            "error_y": {
             "color": "#2a3f5f"
            },
            "marker": {
             "line": {
              "color": "#E5ECF6",
              "width": 0.5
             },
             "pattern": {
              "fillmode": "overlay",
              "size": 10,
              "solidity": 0.2
             }
            },
            "type": "bar"
           }
          ],
          "barpolar": [
           {
            "marker": {
             "line": {
              "color": "#E5ECF6",
              "width": 0.5
             },
             "pattern": {
              "fillmode": "overlay",
              "size": 10,
              "solidity": 0.2
             }
            },
            "type": "barpolar"
           }
          ],
          "carpet": [
           {
            "aaxis": {
             "endlinecolor": "#2a3f5f",
             "gridcolor": "white",
             "linecolor": "white",
             "minorgridcolor": "white",
             "startlinecolor": "#2a3f5f"
            },
            "baxis": {
             "endlinecolor": "#2a3f5f",
             "gridcolor": "white",
             "linecolor": "white",
             "minorgridcolor": "white",
             "startlinecolor": "#2a3f5f"
            },
            "type": "carpet"
           }
          ],
          "choropleth": [
           {
            "colorbar": {
             "outlinewidth": 0,
             "ticks": ""
            },
            "type": "choropleth"
           }
          ],
          "contour": [
           {
            "colorbar": {
             "outlinewidth": 0,
             "ticks": ""
            },
            "colorscale": [
             [
              0,
              "#0d0887"
             ],
             [
              0.1111111111111111,
              "#46039f"
             ],
             [
              0.2222222222222222,
              "#7201a8"
             ],
             [
              0.3333333333333333,
              "#9c179e"
             ],
             [
              0.4444444444444444,
              "#bd3786"
             ],
             [
              0.5555555555555556,
              "#d8576b"
             ],
             [
              0.6666666666666666,
              "#ed7953"
             ],
             [
              0.7777777777777778,
              "#fb9f3a"
             ],
             [
              0.8888888888888888,
              "#fdca26"
             ],
             [
              1,
              "#f0f921"
             ]
            ],
            "type": "contour"
           }
          ],
          "contourcarpet": [
           {
            "colorbar": {
             "outlinewidth": 0,
             "ticks": ""
            },
            "type": "contourcarpet"
           }
          ],
          "heatmap": [
           {
            "colorbar": {
             "outlinewidth": 0,
             "ticks": ""
            },
            "colorscale": [
             [
              0,
              "#0d0887"
             ],
             [
              0.1111111111111111,
              "#46039f"
             ],
             [
              0.2222222222222222,
              "#7201a8"
             ],
             [
              0.3333333333333333,
              "#9c179e"
             ],
             [
              0.4444444444444444,
              "#bd3786"
             ],
             [
              0.5555555555555556,
              "#d8576b"
             ],
             [
              0.6666666666666666,
              "#ed7953"
             ],
             [
              0.7777777777777778,
              "#fb9f3a"
             ],
             [
              0.8888888888888888,
              "#fdca26"
             ],
             [
              1,
              "#f0f921"
             ]
            ],
            "type": "heatmap"
           }
          ],
          "heatmapgl": [
           {
            "colorbar": {
             "outlinewidth": 0,
             "ticks": ""
            },
            "colorscale": [
             [
              0,
              "#0d0887"
             ],
             [
              0.1111111111111111,
              "#46039f"
             ],
             [
              0.2222222222222222,
              "#7201a8"
             ],
             [
              0.3333333333333333,
              "#9c179e"
             ],
             [
              0.4444444444444444,
              "#bd3786"
             ],
             [
              0.5555555555555556,
              "#d8576b"
             ],
             [
              0.6666666666666666,
              "#ed7953"
             ],
             [
              0.7777777777777778,
              "#fb9f3a"
             ],
             [
              0.8888888888888888,
              "#fdca26"
             ],
             [
              1,
              "#f0f921"
             ]
            ],
            "type": "heatmapgl"
           }
          ],
          "histogram": [
           {
            "marker": {
             "pattern": {
              "fillmode": "overlay",
              "size": 10,
              "solidity": 0.2
             }
            },
            "type": "histogram"
           }
          ],
          "histogram2d": [
           {
            "colorbar": {
             "outlinewidth": 0,
             "ticks": ""
            },
            "colorscale": [
             [
              0,
              "#0d0887"
             ],
             [
              0.1111111111111111,
              "#46039f"
             ],
             [
              0.2222222222222222,
              "#7201a8"
             ],
             [
              0.3333333333333333,
              "#9c179e"
             ],
             [
              0.4444444444444444,
              "#bd3786"
             ],
             [
              0.5555555555555556,
              "#d8576b"
             ],
             [
              0.6666666666666666,
              "#ed7953"
             ],
             [
              0.7777777777777778,
              "#fb9f3a"
             ],
             [
              0.8888888888888888,
              "#fdca26"
             ],
             [
              1,
              "#f0f921"
             ]
            ],
            "type": "histogram2d"
           }
          ],
          "histogram2dcontour": [
           {
            "colorbar": {
             "outlinewidth": 0,
             "ticks": ""
            },
            "colorscale": [
             [
              0,
              "#0d0887"
             ],
             [
              0.1111111111111111,
              "#46039f"
             ],
             [
              0.2222222222222222,
              "#7201a8"
             ],
             [
              0.3333333333333333,
              "#9c179e"
             ],
             [
              0.4444444444444444,
              "#bd3786"
             ],
             [
              0.5555555555555556,
              "#d8576b"
             ],
             [
              0.6666666666666666,
              "#ed7953"
             ],
             [
              0.7777777777777778,
              "#fb9f3a"
             ],
             [
              0.8888888888888888,
              "#fdca26"
             ],
             [
              1,
              "#f0f921"
             ]
            ],
            "type": "histogram2dcontour"
           }
          ],
          "mesh3d": [
           {
            "colorbar": {
             "outlinewidth": 0,
             "ticks": ""
            },
            "type": "mesh3d"
           }
          ],
          "parcoords": [
           {
            "line": {
             "colorbar": {
              "outlinewidth": 0,
              "ticks": ""
             }
            },
            "type": "parcoords"
           }
          ],
          "pie": [
           {
            "automargin": true,
            "type": "pie"
           }
          ],
          "scatter": [
           {
            "fillpattern": {
             "fillmode": "overlay",
             "size": 10,
             "solidity": 0.2
            },
            "type": "scatter"
           }
          ],
          "scatter3d": [
           {
            "line": {
             "colorbar": {
              "outlinewidth": 0,
              "ticks": ""
             }
            },
            "marker": {
             "colorbar": {
              "outlinewidth": 0,
              "ticks": ""
             }
            },
            "type": "scatter3d"
           }
          ],
          "scattercarpet": [
           {
            "marker": {
             "colorbar": {
              "outlinewidth": 0,
              "ticks": ""
             }
            },
            "type": "scattercarpet"
           }
          ],
          "scattergeo": [
           {
            "marker": {
             "colorbar": {
              "outlinewidth": 0,
              "ticks": ""
             }
            },
            "type": "scattergeo"
           }
          ],
          "scattergl": [
           {
            "marker": {
             "colorbar": {
              "outlinewidth": 0,
              "ticks": ""
             }
            },
            "type": "scattergl"
           }
          ],
          "scattermapbox": [
           {
            "marker": {
             "colorbar": {
              "outlinewidth": 0,
              "ticks": ""
             }
            },
            "type": "scattermapbox"
           }
          ],
          "scatterpolar": [
           {
            "marker": {
             "colorbar": {
              "outlinewidth": 0,
              "ticks": ""
             }
            },
            "type": "scatterpolar"
           }
          ],
          "scatterpolargl": [
           {
            "marker": {
             "colorbar": {
              "outlinewidth": 0,
              "ticks": ""
             }
            },
            "type": "scatterpolargl"
           }
          ],
          "scatterternary": [
           {
            "marker": {
             "colorbar": {
              "outlinewidth": 0,
              "ticks": ""
             }
            },
            "type": "scatterternary"
           }
          ],
          "surface": [
           {
            "colorbar": {
             "outlinewidth": 0,
             "ticks": ""
            },
            "colorscale": [
             [
              0,
              "#0d0887"
             ],
             [
              0.1111111111111111,
              "#46039f"
             ],
             [
              0.2222222222222222,
              "#7201a8"
             ],
             [
              0.3333333333333333,
              "#9c179e"
             ],
             [
              0.4444444444444444,
              "#bd3786"
             ],
             [
              0.5555555555555556,
              "#d8576b"
             ],
             [
              0.6666666666666666,
              "#ed7953"
             ],
             [
              0.7777777777777778,
              "#fb9f3a"
             ],
             [
              0.8888888888888888,
              "#fdca26"
             ],
             [
              1,
              "#f0f921"
             ]
            ],
            "type": "surface"
           }
          ],
          "table": [
           {
            "cells": {
             "fill": {
              "color": "#EBF0F8"
             },
             "line": {
              "color": "white"
             }
            },
            "header": {
             "fill": {
              "color": "#C8D4E3"
             },
             "line": {
              "color": "white"
             }
            },
            "type": "table"
           }
          ]
         },
         "layout": {
          "annotationdefaults": {
           "arrowcolor": "#2a3f5f",
           "arrowhead": 0,
           "arrowwidth": 1
          },
          "autotypenumbers": "strict",
          "coloraxis": {
           "colorbar": {
            "outlinewidth": 0,
            "ticks": ""
           }
          },
          "colorscale": {
           "diverging": [
            [
             0,
             "#8e0152"
            ],
            [
             0.1,
             "#c51b7d"
            ],
            [
             0.2,
             "#de77ae"
            ],
            [
             0.3,
             "#f1b6da"
            ],
            [
             0.4,
             "#fde0ef"
            ],
            [
             0.5,
             "#f7f7f7"
            ],
            [
             0.6,
             "#e6f5d0"
            ],
            [
             0.7,
             "#b8e186"
            ],
            [
             0.8,
             "#7fbc41"
            ],
            [
             0.9,
             "#4d9221"
            ],
            [
             1,
             "#276419"
            ]
           ],
           "sequential": [
            [
             0,
             "#0d0887"
            ],
            [
             0.1111111111111111,
             "#46039f"
            ],
            [
             0.2222222222222222,
             "#7201a8"
            ],
            [
             0.3333333333333333,
             "#9c179e"
            ],
            [
             0.4444444444444444,
             "#bd3786"
            ],
            [
             0.5555555555555556,
             "#d8576b"
            ],
            [
             0.6666666666666666,
             "#ed7953"
            ],
            [
             0.7777777777777778,
             "#fb9f3a"
            ],
            [
             0.8888888888888888,
             "#fdca26"
            ],
            [
             1,
             "#f0f921"
            ]
           ],
           "sequentialminus": [
            [
             0,
             "#0d0887"
            ],
            [
             0.1111111111111111,
             "#46039f"
            ],
            [
             0.2222222222222222,
             "#7201a8"
            ],
            [
             0.3333333333333333,
             "#9c179e"
            ],
            [
             0.4444444444444444,
             "#bd3786"
            ],
            [
             0.5555555555555556,
             "#d8576b"
            ],
            [
             0.6666666666666666,
             "#ed7953"
            ],
            [
             0.7777777777777778,
             "#fb9f3a"
            ],
            [
             0.8888888888888888,
             "#fdca26"
            ],
            [
             1,
             "#f0f921"
            ]
           ]
          },
          "colorway": [
           "#636efa",
           "#EF553B",
           "#00cc96",
           "#ab63fa",
           "#FFA15A",
           "#19d3f3",
           "#FF6692",
           "#B6E880",
           "#FF97FF",
           "#FECB52"
          ],
          "font": {
           "color": "#2a3f5f"
          },
          "geo": {
           "bgcolor": "white",
           "lakecolor": "white",
           "landcolor": "#E5ECF6",
           "showlakes": true,
           "showland": true,
           "subunitcolor": "white"
          },
          "hoverlabel": {
           "align": "left"
          },
          "hovermode": "closest",
          "mapbox": {
           "style": "light"
          },
          "paper_bgcolor": "white",
          "plot_bgcolor": "#E5ECF6",
          "polar": {
           "angularaxis": {
            "gridcolor": "white",
            "linecolor": "white",
            "ticks": ""
           },
           "bgcolor": "#E5ECF6",
           "radialaxis": {
            "gridcolor": "white",
            "linecolor": "white",
            "ticks": ""
           }
          },
          "scene": {
           "xaxis": {
            "backgroundcolor": "#E5ECF6",
            "gridcolor": "white",
            "gridwidth": 2,
            "linecolor": "white",
            "showbackground": true,
            "ticks": "",
            "zerolinecolor": "white"
           },
           "yaxis": {
            "backgroundcolor": "#E5ECF6",
            "gridcolor": "white",
            "gridwidth": 2,
            "linecolor": "white",
            "showbackground": true,
            "ticks": "",
            "zerolinecolor": "white"
           },
           "zaxis": {
            "backgroundcolor": "#E5ECF6",
            "gridcolor": "white",
            "gridwidth": 2,
            "linecolor": "white",
            "showbackground": true,
            "ticks": "",
            "zerolinecolor": "white"
           }
          },
          "shapedefaults": {
           "line": {
            "color": "#2a3f5f"
           }
          },
          "ternary": {
           "aaxis": {
            "gridcolor": "white",
            "linecolor": "white",
            "ticks": ""
           },
           "baxis": {
            "gridcolor": "white",
            "linecolor": "white",
            "ticks": ""
           },
           "bgcolor": "#E5ECF6",
           "caxis": {
            "gridcolor": "white",
            "linecolor": "white",
            "ticks": ""
           }
          },
          "title": {
           "x": 0.05
          },
          "xaxis": {
           "automargin": true,
           "gridcolor": "white",
           "linecolor": "white",
           "ticks": "",
           "title": {
            "standoff": 15
           },
           "zerolinecolor": "white",
           "zerolinewidth": 2
          },
          "yaxis": {
           "automargin": true,
           "gridcolor": "white",
           "linecolor": "white",
           "ticks": "",
           "title": {
            "standoff": 15
           },
           "zerolinecolor": "white",
           "zerolinewidth": 2
          }
         }
        },
        "title": {
         "text": "Top 120 Rank distribution by Subcategory"
        },
        "xaxis": {
         "anchor": "y",
         "categoryarray": [
          "Carpets",
          "Clothes",
          "Sideboard & Chest of drawer",
          "Faucet",
          "Curtain",
          "Arm chair",
          "Wardrobe & Display cabinets",
          "PC & other electronics",
          "Decorative set",
          "Bathroom furniture",
          "Bathroom accessories",
          "Miscellaneous",
          "Indoor",
          "Pendant light",
          "Wall covering",
          "Tile",
          "Table",
          "Sofa",
          "Tableware",
          "Scripts",
          "TV Wall",
          "Office furniture",
          "Outdoor",
          "Wardrobe",
          "Chair",
          "Household appliance",
          "Other decorative objects",
          "Table + Chair",
          "Floor coverings",
          "Sports",
          "Wood",
          "Hallway",
          "Other",
          "Shower",
          "Kitchen",
          "Food and drinks",
          "Kitchen appliance",
          "Restaurant",
          "Tree",
          "Grass",
          "Bed",
          "Toy",
          "Shop",
          "Bouquet",
          "Sink",
          "TV",
          "Doors",
          "Windows",
          "Rack"
         ],
         "categoryorder": "array",
         "domain": [
          0,
          1
         ],
         "title": {
          "text": "Subcategory"
         }
        },
        "yaxis": {
         "anchor": "x",
         "domain": [
          0,
          1
         ],
         "title": {
          "text": "Ranking"
         }
        }
       }
      }
     },
     "metadata": {},
     "output_type": "display_data"
    }
   ],
   "source": [
    "fig9 = px.box(result_vis, x='Subcategory', y='Ranking', color='Subcategory', title='Top 120 Rank distribution by Subcategory')\n",
    "fig9.show()"
   ]
  },
  {
   "cell_type": "code",
   "execution_count": 27,
   "metadata": {},
   "outputs": [
    {
     "name": "stderr",
     "output_type": "stream",
     "text": [
      "c:\\Users\\mi_al\\AppData\\Local\\Programs\\Python\\Python39\\lib\\site-packages\\plotly\\express\\_core.py:1985: FutureWarning:\n",
      "\n",
      "When grouping with a length-1 list-like, you will need to pass a length-1 tuple to get_group in a future version of pandas. Pass `(name,)` instead of `name` to silence this warning.\n",
      "\n"
     ]
    },
    {
     "data": {
      "application/vnd.plotly.v1+json": {
       "config": {
        "plotlyServerURL": "https://plot.ly"
       },
       "data": [
        {
         "alignmentgroup": "True",
         "hovertemplate": "Subcategory=%{x}<br>Dur_Shrink=%{y}<extra></extra>",
         "legendgroup": "Carpets",
         "marker": {
          "color": "#636efa"
         },
         "name": "Carpets",
         "notched": false,
         "offsetgroup": "Carpets",
         "orientation": "v",
         "showlegend": true,
         "type": "box",
         "x": [
          "Carpets",
          "Carpets",
          "Carpets",
          "Carpets",
          "Carpets",
          "Carpets"
         ],
         "x0": " ",
         "xaxis": "x",
         "y": [
          89,
          218,
          35,
          26,
          26,
          437
         ],
         "y0": " ",
         "yaxis": "y"
        },
        {
         "alignmentgroup": "True",
         "hovertemplate": "Subcategory=%{x}<br>Dur_Shrink=%{y}<extra></extra>",
         "legendgroup": "Clothes",
         "marker": {
          "color": "#EF553B"
         },
         "name": "Clothes",
         "notched": false,
         "offsetgroup": "Clothes",
         "orientation": "v",
         "showlegend": true,
         "type": "box",
         "x": [
          "Clothes",
          "Clothes",
          "Clothes",
          "Clothes"
         ],
         "x0": " ",
         "xaxis": "x",
         "y": [
          69,
          21,
          80,
          9
         ],
         "y0": " ",
         "yaxis": "y"
        },
        {
         "alignmentgroup": "True",
         "hovertemplate": "Subcategory=%{x}<br>Dur_Shrink=%{y}<extra></extra>",
         "legendgroup": "Sideboard & Chest of drawer",
         "marker": {
          "color": "#00cc96"
         },
         "name": "Sideboard & Chest of drawer",
         "notched": false,
         "offsetgroup": "Sideboard & Chest of drawer",
         "orientation": "v",
         "showlegend": true,
         "type": "box",
         "x": [
          "Sideboard & Chest of drawer"
         ],
         "x0": " ",
         "xaxis": "x",
         "y": [
          87
         ],
         "y0": " ",
         "yaxis": "y"
        },
        {
         "alignmentgroup": "True",
         "hovertemplate": "Subcategory=%{x}<br>Dur_Shrink=%{y}<extra></extra>",
         "legendgroup": "Faucet",
         "marker": {
          "color": "#ab63fa"
         },
         "name": "Faucet",
         "notched": false,
         "offsetgroup": "Faucet",
         "orientation": "v",
         "showlegend": true,
         "type": "box",
         "x": [
          "Faucet"
         ],
         "x0": " ",
         "xaxis": "x",
         "y": [
          24
         ],
         "y0": " ",
         "yaxis": "y"
        },
        {
         "alignmentgroup": "True",
         "hovertemplate": "Subcategory=%{x}<br>Dur_Shrink=%{y}<extra></extra>",
         "legendgroup": "Curtain",
         "marker": {
          "color": "#FFA15A"
         },
         "name": "Curtain",
         "notched": false,
         "offsetgroup": "Curtain",
         "orientation": "v",
         "showlegend": true,
         "type": "box",
         "x": [
          "Curtain",
          "Curtain",
          "Curtain",
          "Curtain",
          "Curtain",
          "Curtain"
         ],
         "x0": " ",
         "xaxis": "x",
         "y": [
          17,
          36,
          158,
          121,
          45,
          168
         ],
         "y0": " ",
         "yaxis": "y"
        },
        {
         "alignmentgroup": "True",
         "hovertemplate": "Subcategory=%{x}<br>Dur_Shrink=%{y}<extra></extra>",
         "legendgroup": "Arm chair",
         "marker": {
          "color": "#19d3f3"
         },
         "name": "Arm chair",
         "notched": false,
         "offsetgroup": "Arm chair",
         "orientation": "v",
         "showlegend": true,
         "type": "box",
         "x": [
          "Arm chair",
          "Arm chair"
         ],
         "x0": " ",
         "xaxis": "x",
         "y": [
          22,
          151
         ],
         "y0": " ",
         "yaxis": "y"
        },
        {
         "alignmentgroup": "True",
         "hovertemplate": "Subcategory=%{x}<br>Dur_Shrink=%{y}<extra></extra>",
         "legendgroup": "Wardrobe & Display cabinets",
         "marker": {
          "color": "#FF6692"
         },
         "name": "Wardrobe & Display cabinets",
         "notched": false,
         "offsetgroup": "Wardrobe & Display cabinets",
         "orientation": "v",
         "showlegend": true,
         "type": "box",
         "x": [
          "Wardrobe & Display cabinets",
          "Wardrobe & Display cabinets",
          "Wardrobe & Display cabinets",
          "Wardrobe & Display cabinets",
          "Wardrobe & Display cabinets",
          "Wardrobe & Display cabinets",
          "Wardrobe & Display cabinets"
         ],
         "x0": " ",
         "xaxis": "x",
         "y": [
          78,
          66,
          80,
          259,
          176,
          28,
          17
         ],
         "y0": " ",
         "yaxis": "y"
        },
        {
         "alignmentgroup": "True",
         "hovertemplate": "Subcategory=%{x}<br>Dur_Shrink=%{y}<extra></extra>",
         "legendgroup": "PC & other electronics",
         "marker": {
          "color": "#B6E880"
         },
         "name": "PC & other electronics",
         "notched": false,
         "offsetgroup": "PC & other electronics",
         "orientation": "v",
         "showlegend": true,
         "type": "box",
         "x": [
          "PC & other electronics",
          "PC & other electronics",
          "PC & other electronics"
         ],
         "x0": " ",
         "xaxis": "x",
         "y": [
          68,
          253,
          129
         ],
         "y0": " ",
         "yaxis": "y"
        },
        {
         "alignmentgroup": "True",
         "hovertemplate": "Subcategory=%{x}<br>Dur_Shrink=%{y}<extra></extra>",
         "legendgroup": "Decorative set",
         "marker": {
          "color": "#FF97FF"
         },
         "name": "Decorative set",
         "notched": false,
         "offsetgroup": "Decorative set",
         "orientation": "v",
         "showlegend": true,
         "type": "box",
         "x": [
          "Decorative set",
          "Decorative set",
          "Decorative set",
          "Decorative set",
          "Decorative set",
          "Decorative set",
          "Decorative set"
         ],
         "x0": " ",
         "xaxis": "x",
         "y": [
          77,
          37,
          75,
          21,
          112,
          40,
          20
         ],
         "y0": " ",
         "yaxis": "y"
        },
        {
         "alignmentgroup": "True",
         "hovertemplate": "Subcategory=%{x}<br>Dur_Shrink=%{y}<extra></extra>",
         "legendgroup": "Bathroom furniture",
         "marker": {
          "color": "#FECB52"
         },
         "name": "Bathroom furniture",
         "notched": false,
         "offsetgroup": "Bathroom furniture",
         "orientation": "v",
         "showlegend": true,
         "type": "box",
         "x": [
          "Bathroom furniture",
          "Bathroom furniture",
          "Bathroom furniture"
         ],
         "x0": " ",
         "xaxis": "x",
         "y": [
          20,
          47,
          43
         ],
         "y0": " ",
         "yaxis": "y"
        },
        {
         "alignmentgroup": "True",
         "hovertemplate": "Subcategory=%{x}<br>Dur_Shrink=%{y}<extra></extra>",
         "legendgroup": "Bathroom accessories",
         "marker": {
          "color": "#636efa"
         },
         "name": "Bathroom accessories",
         "notched": false,
         "offsetgroup": "Bathroom accessories",
         "orientation": "v",
         "showlegend": true,
         "type": "box",
         "x": [
          "Bathroom accessories",
          "Bathroom accessories",
          "Bathroom accessories",
          "Bathroom accessories",
          "Bathroom accessories",
          "Bathroom accessories",
          "Bathroom accessories"
         ],
         "x0": " ",
         "xaxis": "x",
         "y": [
          64,
          15,
          34,
          205,
          52,
          500,
          500
         ],
         "y0": " ",
         "yaxis": "y"
        },
        {
         "alignmentgroup": "True",
         "hovertemplate": "Subcategory=%{x}<br>Dur_Shrink=%{y}<extra></extra>",
         "legendgroup": "Miscellaneous",
         "marker": {
          "color": "#EF553B"
         },
         "name": "Miscellaneous",
         "notched": false,
         "offsetgroup": "Miscellaneous",
         "orientation": "v",
         "showlegend": true,
         "type": "box",
         "x": [
          "Miscellaneous",
          "Miscellaneous",
          "Miscellaneous",
          "Miscellaneous",
          "Miscellaneous",
          "Miscellaneous",
          "Miscellaneous",
          "Miscellaneous",
          "Miscellaneous",
          "Miscellaneous"
         ],
         "x0": " ",
         "xaxis": "x",
         "y": [
          45,
          160,
          500,
          96,
          57,
          96,
          109,
          171,
          205,
          88
         ],
         "y0": " ",
         "yaxis": "y"
        },
        {
         "alignmentgroup": "True",
         "hovertemplate": "Subcategory=%{x}<br>Dur_Shrink=%{y}<extra></extra>",
         "legendgroup": "Indoor",
         "marker": {
          "color": "#00cc96"
         },
         "name": "Indoor",
         "notched": false,
         "offsetgroup": "Indoor",
         "orientation": "v",
         "showlegend": true,
         "type": "box",
         "x": [
          "Indoor",
          "Indoor",
          "Indoor"
         ],
         "x0": " ",
         "xaxis": "x",
         "y": [
          276,
          113,
          46
         ],
         "y0": " ",
         "yaxis": "y"
        },
        {
         "alignmentgroup": "True",
         "hovertemplate": "Subcategory=%{x}<br>Dur_Shrink=%{y}<extra></extra>",
         "legendgroup": "Pendant light",
         "marker": {
          "color": "#ab63fa"
         },
         "name": "Pendant light",
         "notched": false,
         "offsetgroup": "Pendant light",
         "orientation": "v",
         "showlegend": true,
         "type": "box",
         "x": [
          "Pendant light",
          "Pendant light",
          "Pendant light"
         ],
         "x0": " ",
         "xaxis": "x",
         "y": [
          111,
          50,
          10
         ],
         "y0": " ",
         "yaxis": "y"
        },
        {
         "alignmentgroup": "True",
         "hovertemplate": "Subcategory=%{x}<br>Dur_Shrink=%{y}<extra></extra>",
         "legendgroup": "Wall covering",
         "marker": {
          "color": "#FFA15A"
         },
         "name": "Wall covering",
         "notched": false,
         "offsetgroup": "Wall covering",
         "orientation": "v",
         "showlegend": true,
         "type": "box",
         "x": [
          "Wall covering"
         ],
         "x0": " ",
         "xaxis": "x",
         "y": [
          44
         ],
         "y0": " ",
         "yaxis": "y"
        },
        {
         "alignmentgroup": "True",
         "hovertemplate": "Subcategory=%{x}<br>Dur_Shrink=%{y}<extra></extra>",
         "legendgroup": "Tile",
         "marker": {
          "color": "#19d3f3"
         },
         "name": "Tile",
         "notched": false,
         "offsetgroup": "Tile",
         "orientation": "v",
         "showlegend": true,
         "type": "box",
         "x": [
          "Tile",
          "Tile",
          "Tile",
          "Tile",
          "Tile"
         ],
         "x0": " ",
         "xaxis": "x",
         "y": [
          139,
          83,
          303,
          25,
          149
         ],
         "y0": " ",
         "yaxis": "y"
        },
        {
         "alignmentgroup": "True",
         "hovertemplate": "Subcategory=%{x}<br>Dur_Shrink=%{y}<extra></extra>",
         "legendgroup": "Table",
         "marker": {
          "color": "#FF6692"
         },
         "name": "Table",
         "notched": false,
         "offsetgroup": "Table",
         "orientation": "v",
         "showlegend": true,
         "type": "box",
         "x": [
          "Table",
          "Table",
          "Table"
         ],
         "x0": " ",
         "xaxis": "x",
         "y": [
          87,
          94,
          317
         ],
         "y0": " ",
         "yaxis": "y"
        },
        {
         "alignmentgroup": "True",
         "hovertemplate": "Subcategory=%{x}<br>Dur_Shrink=%{y}<extra></extra>",
         "legendgroup": "Sofa",
         "marker": {
          "color": "#B6E880"
         },
         "name": "Sofa",
         "notched": false,
         "offsetgroup": "Sofa",
         "orientation": "v",
         "showlegend": true,
         "type": "box",
         "x": [
          "Sofa",
          "Sofa",
          "Sofa"
         ],
         "x0": " ",
         "xaxis": "x",
         "y": [
          56,
          56,
          26
         ],
         "y0": " ",
         "yaxis": "y"
        },
        {
         "alignmentgroup": "True",
         "hovertemplate": "Subcategory=%{x}<br>Dur_Shrink=%{y}<extra></extra>",
         "legendgroup": "Tableware",
         "marker": {
          "color": "#FF97FF"
         },
         "name": "Tableware",
         "notched": false,
         "offsetgroup": "Tableware",
         "orientation": "v",
         "showlegend": true,
         "type": "box",
         "x": [
          "Tableware",
          "Tableware"
         ],
         "x0": " ",
         "xaxis": "x",
         "y": [
          24,
          116
         ],
         "y0": " ",
         "yaxis": "y"
        },
        {
         "alignmentgroup": "True",
         "hovertemplate": "Subcategory=%{x}<br>Dur_Shrink=%{y}<extra></extra>",
         "legendgroup": "Scripts",
         "marker": {
          "color": "#FECB52"
         },
         "name": "Scripts",
         "notched": false,
         "offsetgroup": "Scripts",
         "orientation": "v",
         "showlegend": true,
         "type": "box",
         "x": [
          "Scripts"
         ],
         "x0": " ",
         "xaxis": "x",
         "y": [
          500
         ],
         "y0": " ",
         "yaxis": "y"
        },
        {
         "alignmentgroup": "True",
         "hovertemplate": "Subcategory=%{x}<br>Dur_Shrink=%{y}<extra></extra>",
         "legendgroup": "TV Wall",
         "marker": {
          "color": "#636efa"
         },
         "name": "TV Wall",
         "notched": false,
         "offsetgroup": "TV Wall",
         "orientation": "v",
         "showlegend": true,
         "type": "box",
         "x": [
          "TV Wall"
         ],
         "x0": " ",
         "xaxis": "x",
         "y": [
          419
         ],
         "y0": " ",
         "yaxis": "y"
        },
        {
         "alignmentgroup": "True",
         "hovertemplate": "Subcategory=%{x}<br>Dur_Shrink=%{y}<extra></extra>",
         "legendgroup": "Office furniture",
         "marker": {
          "color": "#EF553B"
         },
         "name": "Office furniture",
         "notched": false,
         "offsetgroup": "Office furniture",
         "orientation": "v",
         "showlegend": true,
         "type": "box",
         "x": [
          "Office furniture",
          "Office furniture"
         ],
         "x0": " ",
         "xaxis": "x",
         "y": [
          110,
          346
         ],
         "y0": " ",
         "yaxis": "y"
        },
        {
         "alignmentgroup": "True",
         "hovertemplate": "Subcategory=%{x}<br>Dur_Shrink=%{y}<extra></extra>",
         "legendgroup": "Outdoor",
         "marker": {
          "color": "#00cc96"
         },
         "name": "Outdoor",
         "notched": false,
         "offsetgroup": "Outdoor",
         "orientation": "v",
         "showlegend": true,
         "type": "box",
         "x": [
          "Outdoor"
         ],
         "x0": " ",
         "xaxis": "x",
         "y": [
          122
         ],
         "y0": " ",
         "yaxis": "y"
        },
        {
         "alignmentgroup": "True",
         "hovertemplate": "Subcategory=%{x}<br>Dur_Shrink=%{y}<extra></extra>",
         "legendgroup": "Wardrobe",
         "marker": {
          "color": "#ab63fa"
         },
         "name": "Wardrobe",
         "notched": false,
         "offsetgroup": "Wardrobe",
         "orientation": "v",
         "showlegend": true,
         "type": "box",
         "x": [
          "Wardrobe"
         ],
         "x0": " ",
         "xaxis": "x",
         "y": [
          79
         ],
         "y0": " ",
         "yaxis": "y"
        },
        {
         "alignmentgroup": "True",
         "hovertemplate": "Subcategory=%{x}<br>Dur_Shrink=%{y}<extra></extra>",
         "legendgroup": "Chair",
         "marker": {
          "color": "#FFA15A"
         },
         "name": "Chair",
         "notched": false,
         "offsetgroup": "Chair",
         "orientation": "v",
         "showlegend": true,
         "type": "box",
         "x": [
          "Chair",
          "Chair"
         ],
         "x0": " ",
         "xaxis": "x",
         "y": [
          79,
          44
         ],
         "y0": " ",
         "yaxis": "y"
        },
        {
         "alignmentgroup": "True",
         "hovertemplate": "Subcategory=%{x}<br>Dur_Shrink=%{y}<extra></extra>",
         "legendgroup": "Household appliance",
         "marker": {
          "color": "#19d3f3"
         },
         "name": "Household appliance",
         "notched": false,
         "offsetgroup": "Household appliance",
         "orientation": "v",
         "showlegend": true,
         "type": "box",
         "x": [
          "Household appliance",
          "Household appliance"
         ],
         "x0": " ",
         "xaxis": "x",
         "y": [
          500,
          245
         ],
         "y0": " ",
         "yaxis": "y"
        },
        {
         "alignmentgroup": "True",
         "hovertemplate": "Subcategory=%{x}<br>Dur_Shrink=%{y}<extra></extra>",
         "legendgroup": "Other decorative objects",
         "marker": {
          "color": "#FF6692"
         },
         "name": "Other decorative objects",
         "notched": false,
         "offsetgroup": "Other decorative objects",
         "orientation": "v",
         "showlegend": true,
         "type": "box",
         "x": [
          "Other decorative objects",
          "Other decorative objects",
          "Other decorative objects"
         ],
         "x0": " ",
         "xaxis": "x",
         "y": [
          112,
          69,
          400
         ],
         "y0": " ",
         "yaxis": "y"
        },
        {
         "alignmentgroup": "True",
         "hovertemplate": "Subcategory=%{x}<br>Dur_Shrink=%{y}<extra></extra>",
         "legendgroup": "Table + Chair",
         "marker": {
          "color": "#B6E880"
         },
         "name": "Table + Chair",
         "notched": false,
         "offsetgroup": "Table + Chair",
         "orientation": "v",
         "showlegend": true,
         "type": "box",
         "x": [
          "Table + Chair",
          "Table + Chair"
         ],
         "x0": " ",
         "xaxis": "x",
         "y": [
          64,
          15
         ],
         "y0": " ",
         "yaxis": "y"
        },
        {
         "alignmentgroup": "True",
         "hovertemplate": "Subcategory=%{x}<br>Dur_Shrink=%{y}<extra></extra>",
         "legendgroup": "Floor coverings",
         "marker": {
          "color": "#FF97FF"
         },
         "name": "Floor coverings",
         "notched": false,
         "offsetgroup": "Floor coverings",
         "orientation": "v",
         "showlegend": true,
         "type": "box",
         "x": [
          "Floor coverings"
         ],
         "x0": " ",
         "xaxis": "x",
         "y": [
          390
         ],
         "y0": " ",
         "yaxis": "y"
        },
        {
         "alignmentgroup": "True",
         "hovertemplate": "Subcategory=%{x}<br>Dur_Shrink=%{y}<extra></extra>",
         "legendgroup": "Sports",
         "marker": {
          "color": "#FECB52"
         },
         "name": "Sports",
         "notched": false,
         "offsetgroup": "Sports",
         "orientation": "v",
         "showlegend": true,
         "type": "box",
         "x": [
          "Sports",
          "Sports"
         ],
         "x0": " ",
         "xaxis": "x",
         "y": [
          455,
          500
         ],
         "y0": " ",
         "yaxis": "y"
        },
        {
         "alignmentgroup": "True",
         "hovertemplate": "Subcategory=%{x}<br>Dur_Shrink=%{y}<extra></extra>",
         "legendgroup": "Wood",
         "marker": {
          "color": "#636efa"
         },
         "name": "Wood",
         "notched": false,
         "offsetgroup": "Wood",
         "orientation": "v",
         "showlegend": true,
         "type": "box",
         "x": [
          "Wood",
          "Wood"
         ],
         "x0": " ",
         "xaxis": "x",
         "y": [
          166,
          144
         ],
         "y0": " ",
         "yaxis": "y"
        },
        {
         "alignmentgroup": "True",
         "hovertemplate": "Subcategory=%{x}<br>Dur_Shrink=%{y}<extra></extra>",
         "legendgroup": "Hallway",
         "marker": {
          "color": "#EF553B"
         },
         "name": "Hallway",
         "notched": false,
         "offsetgroup": "Hallway",
         "orientation": "v",
         "showlegend": true,
         "type": "box",
         "x": [
          "Hallway"
         ],
         "x0": " ",
         "xaxis": "x",
         "y": [
          148
         ],
         "y0": " ",
         "yaxis": "y"
        },
        {
         "alignmentgroup": "True",
         "hovertemplate": "Subcategory=%{x}<br>Dur_Shrink=%{y}<extra></extra>",
         "legendgroup": "Other",
         "marker": {
          "color": "#00cc96"
         },
         "name": "Other",
         "notched": false,
         "offsetgroup": "Other",
         "orientation": "v",
         "showlegend": true,
         "type": "box",
         "x": [
          "Other"
         ],
         "x0": " ",
         "xaxis": "x",
         "y": [
          134
         ],
         "y0": " ",
         "yaxis": "y"
        },
        {
         "alignmentgroup": "True",
         "hovertemplate": "Subcategory=%{x}<br>Dur_Shrink=%{y}<extra></extra>",
         "legendgroup": "Shower",
         "marker": {
          "color": "#ab63fa"
         },
         "name": "Shower",
         "notched": false,
         "offsetgroup": "Shower",
         "orientation": "v",
         "showlegend": true,
         "type": "box",
         "x": [
          "Shower"
         ],
         "x0": " ",
         "xaxis": "x",
         "y": [
          48
         ],
         "y0": " ",
         "yaxis": "y"
        },
        {
         "alignmentgroup": "True",
         "hovertemplate": "Subcategory=%{x}<br>Dur_Shrink=%{y}<extra></extra>",
         "legendgroup": "Kitchen",
         "marker": {
          "color": "#FFA15A"
         },
         "name": "Kitchen",
         "notched": false,
         "offsetgroup": "Kitchen",
         "orientation": "v",
         "showlegend": true,
         "type": "box",
         "x": [
          "Kitchen",
          "Kitchen",
          "Kitchen"
         ],
         "x0": " ",
         "xaxis": "x",
         "y": [
          54,
          20,
          219
         ],
         "y0": " ",
         "yaxis": "y"
        },
        {
         "alignmentgroup": "True",
         "hovertemplate": "Subcategory=%{x}<br>Dur_Shrink=%{y}<extra></extra>",
         "legendgroup": "Food and drinks",
         "marker": {
          "color": "#19d3f3"
         },
         "name": "Food and drinks",
         "notched": false,
         "offsetgroup": "Food and drinks",
         "orientation": "v",
         "showlegend": true,
         "type": "box",
         "x": [
          "Food and drinks",
          "Food and drinks"
         ],
         "x0": " ",
         "xaxis": "x",
         "y": [
          39,
          415
         ],
         "y0": " ",
         "yaxis": "y"
        },
        {
         "alignmentgroup": "True",
         "hovertemplate": "Subcategory=%{x}<br>Dur_Shrink=%{y}<extra></extra>",
         "legendgroup": "Kitchen appliance",
         "marker": {
          "color": "#FF6692"
         },
         "name": "Kitchen appliance",
         "notched": false,
         "offsetgroup": "Kitchen appliance",
         "orientation": "v",
         "showlegend": true,
         "type": "box",
         "x": [
          "Kitchen appliance"
         ],
         "x0": " ",
         "xaxis": "x",
         "y": [
          500
         ],
         "y0": " ",
         "yaxis": "y"
        },
        {
         "alignmentgroup": "True",
         "hovertemplate": "Subcategory=%{x}<br>Dur_Shrink=%{y}<extra></extra>",
         "legendgroup": "Restaurant",
         "marker": {
          "color": "#B6E880"
         },
         "name": "Restaurant",
         "notched": false,
         "offsetgroup": "Restaurant",
         "orientation": "v",
         "showlegend": true,
         "type": "box",
         "x": [
          "Restaurant",
          "Restaurant"
         ],
         "x0": " ",
         "xaxis": "x",
         "y": [
          500,
          326
         ],
         "y0": " ",
         "yaxis": "y"
        },
        {
         "alignmentgroup": "True",
         "hovertemplate": "Subcategory=%{x}<br>Dur_Shrink=%{y}<extra></extra>",
         "legendgroup": "Tree",
         "marker": {
          "color": "#FF97FF"
         },
         "name": "Tree",
         "notched": false,
         "offsetgroup": "Tree",
         "orientation": "v",
         "showlegend": true,
         "type": "box",
         "x": [
          "Tree"
         ],
         "x0": " ",
         "xaxis": "x",
         "y": [
          476
         ],
         "y0": " ",
         "yaxis": "y"
        },
        {
         "alignmentgroup": "True",
         "hovertemplate": "Subcategory=%{x}<br>Dur_Shrink=%{y}<extra></extra>",
         "legendgroup": "Grass",
         "marker": {
          "color": "#FECB52"
         },
         "name": "Grass",
         "notched": false,
         "offsetgroup": "Grass",
         "orientation": "v",
         "showlegend": true,
         "type": "box",
         "x": [
          "Grass"
         ],
         "x0": " ",
         "xaxis": "x",
         "y": [
          148
         ],
         "y0": " ",
         "yaxis": "y"
        },
        {
         "alignmentgroup": "True",
         "hovertemplate": "Subcategory=%{x}<br>Dur_Shrink=%{y}<extra></extra>",
         "legendgroup": "Bed",
         "marker": {
          "color": "#636efa"
         },
         "name": "Bed",
         "notched": false,
         "offsetgroup": "Bed",
         "orientation": "v",
         "showlegend": true,
         "type": "box",
         "x": [
          "Bed",
          "Bed"
         ],
         "x0": " ",
         "xaxis": "x",
         "y": [
          56,
          171
         ],
         "y0": " ",
         "yaxis": "y"
        },
        {
         "alignmentgroup": "True",
         "hovertemplate": "Subcategory=%{x}<br>Dur_Shrink=%{y}<extra></extra>",
         "legendgroup": "Toy",
         "marker": {
          "color": "#EF553B"
         },
         "name": "Toy",
         "notched": false,
         "offsetgroup": "Toy",
         "orientation": "v",
         "showlegend": true,
         "type": "box",
         "x": [
          "Toy"
         ],
         "x0": " ",
         "xaxis": "x",
         "y": [
          23
         ],
         "y0": " ",
         "yaxis": "y"
        },
        {
         "alignmentgroup": "True",
         "hovertemplate": "Subcategory=%{x}<br>Dur_Shrink=%{y}<extra></extra>",
         "legendgroup": "Shop",
         "marker": {
          "color": "#00cc96"
         },
         "name": "Shop",
         "notched": false,
         "offsetgroup": "Shop",
         "orientation": "v",
         "showlegend": true,
         "type": "box",
         "x": [
          "Shop"
         ],
         "x0": " ",
         "xaxis": "x",
         "y": [
          16
         ],
         "y0": " ",
         "yaxis": "y"
        },
        {
         "alignmentgroup": "True",
         "hovertemplate": "Subcategory=%{x}<br>Dur_Shrink=%{y}<extra></extra>",
         "legendgroup": "Bouquet",
         "marker": {
          "color": "#ab63fa"
         },
         "name": "Bouquet",
         "notched": false,
         "offsetgroup": "Bouquet",
         "orientation": "v",
         "showlegend": true,
         "type": "box",
         "x": [
          "Bouquet"
         ],
         "x0": " ",
         "xaxis": "x",
         "y": [
          11
         ],
         "y0": " ",
         "yaxis": "y"
        },
        {
         "alignmentgroup": "True",
         "hovertemplate": "Subcategory=%{x}<br>Dur_Shrink=%{y}<extra></extra>",
         "legendgroup": "Sink",
         "marker": {
          "color": "#FFA15A"
         },
         "name": "Sink",
         "notched": false,
         "offsetgroup": "Sink",
         "orientation": "v",
         "showlegend": true,
         "type": "box",
         "x": [
          "Sink"
         ],
         "x0": " ",
         "xaxis": "x",
         "y": [
          474
         ],
         "y0": " ",
         "yaxis": "y"
        },
        {
         "alignmentgroup": "True",
         "hovertemplate": "Subcategory=%{x}<br>Dur_Shrink=%{y}<extra></extra>",
         "legendgroup": "TV",
         "marker": {
          "color": "#19d3f3"
         },
         "name": "TV",
         "notched": false,
         "offsetgroup": "TV",
         "orientation": "v",
         "showlegend": true,
         "type": "box",
         "x": [
          "TV"
         ],
         "x0": " ",
         "xaxis": "x",
         "y": [
          462
         ],
         "y0": " ",
         "yaxis": "y"
        },
        {
         "alignmentgroup": "True",
         "hovertemplate": "Subcategory=%{x}<br>Dur_Shrink=%{y}<extra></extra>",
         "legendgroup": "Doors",
         "marker": {
          "color": "#FF6692"
         },
         "name": "Doors",
         "notched": false,
         "offsetgroup": "Doors",
         "orientation": "v",
         "showlegend": true,
         "type": "box",
         "x": [
          "Doors"
         ],
         "x0": " ",
         "xaxis": "x",
         "y": [
          334
         ],
         "y0": " ",
         "yaxis": "y"
        },
        {
         "alignmentgroup": "True",
         "hovertemplate": "Subcategory=%{x}<br>Dur_Shrink=%{y}<extra></extra>",
         "legendgroup": "Windows",
         "marker": {
          "color": "#B6E880"
         },
         "name": "Windows",
         "notched": false,
         "offsetgroup": "Windows",
         "orientation": "v",
         "showlegend": true,
         "type": "box",
         "x": [
          "Windows"
         ],
         "x0": " ",
         "xaxis": "x",
         "y": [
          364
         ],
         "y0": " ",
         "yaxis": "y"
        },
        {
         "alignmentgroup": "True",
         "hovertemplate": "Subcategory=%{x}<br>Dur_Shrink=%{y}<extra></extra>",
         "legendgroup": "Rack",
         "marker": {
          "color": "#FF97FF"
         },
         "name": "Rack",
         "notched": false,
         "offsetgroup": "Rack",
         "orientation": "v",
         "showlegend": true,
         "type": "box",
         "x": [
          "Rack"
         ],
         "x0": " ",
         "xaxis": "x",
         "y": [
          104
         ],
         "y0": " ",
         "yaxis": "y"
        }
       ],
       "layout": {
        "boxmode": "overlay",
        "legend": {
         "title": {
          "text": "Subcategory"
         },
         "tracegroupgap": 0
        },
        "template": {
         "data": {
          "bar": [
           {
            "error_x": {
             "color": "#2a3f5f"
            },
            "error_y": {
             "color": "#2a3f5f"
            },
            "marker": {
             "line": {
              "color": "#E5ECF6",
              "width": 0.5
             },
             "pattern": {
              "fillmode": "overlay",
              "size": 10,
              "solidity": 0.2
             }
            },
            "type": "bar"
           }
          ],
          "barpolar": [
           {
            "marker": {
             "line": {
              "color": "#E5ECF6",
              "width": 0.5
             },
             "pattern": {
              "fillmode": "overlay",
              "size": 10,
              "solidity": 0.2
             }
            },
            "type": "barpolar"
           }
          ],
          "carpet": [
           {
            "aaxis": {
             "endlinecolor": "#2a3f5f",
             "gridcolor": "white",
             "linecolor": "white",
             "minorgridcolor": "white",
             "startlinecolor": "#2a3f5f"
            },
            "baxis": {
             "endlinecolor": "#2a3f5f",
             "gridcolor": "white",
             "linecolor": "white",
             "minorgridcolor": "white",
             "startlinecolor": "#2a3f5f"
            },
            "type": "carpet"
           }
          ],
          "choropleth": [
           {
            "colorbar": {
             "outlinewidth": 0,
             "ticks": ""
            },
            "type": "choropleth"
           }
          ],
          "contour": [
           {
            "colorbar": {
             "outlinewidth": 0,
             "ticks": ""
            },
            "colorscale": [
             [
              0,
              "#0d0887"
             ],
             [
              0.1111111111111111,
              "#46039f"
             ],
             [
              0.2222222222222222,
              "#7201a8"
             ],
             [
              0.3333333333333333,
              "#9c179e"
             ],
             [
              0.4444444444444444,
              "#bd3786"
             ],
             [
              0.5555555555555556,
              "#d8576b"
             ],
             [
              0.6666666666666666,
              "#ed7953"
             ],
             [
              0.7777777777777778,
              "#fb9f3a"
             ],
             [
              0.8888888888888888,
              "#fdca26"
             ],
             [
              1,
              "#f0f921"
             ]
            ],
            "type": "contour"
           }
          ],
          "contourcarpet": [
           {
            "colorbar": {
             "outlinewidth": 0,
             "ticks": ""
            },
            "type": "contourcarpet"
           }
          ],
          "heatmap": [
           {
            "colorbar": {
             "outlinewidth": 0,
             "ticks": ""
            },
            "colorscale": [
             [
              0,
              "#0d0887"
             ],
             [
              0.1111111111111111,
              "#46039f"
             ],
             [
              0.2222222222222222,
              "#7201a8"
             ],
             [
              0.3333333333333333,
              "#9c179e"
             ],
             [
              0.4444444444444444,
              "#bd3786"
             ],
             [
              0.5555555555555556,
              "#d8576b"
             ],
             [
              0.6666666666666666,
              "#ed7953"
             ],
             [
              0.7777777777777778,
              "#fb9f3a"
             ],
             [
              0.8888888888888888,
              "#fdca26"
             ],
             [
              1,
              "#f0f921"
             ]
            ],
            "type": "heatmap"
           }
          ],
          "heatmapgl": [
           {
            "colorbar": {
             "outlinewidth": 0,
             "ticks": ""
            },
            "colorscale": [
             [
              0,
              "#0d0887"
             ],
             [
              0.1111111111111111,
              "#46039f"
             ],
             [
              0.2222222222222222,
              "#7201a8"
             ],
             [
              0.3333333333333333,
              "#9c179e"
             ],
             [
              0.4444444444444444,
              "#bd3786"
             ],
             [
              0.5555555555555556,
              "#d8576b"
             ],
             [
              0.6666666666666666,
              "#ed7953"
             ],
             [
              0.7777777777777778,
              "#fb9f3a"
             ],
             [
              0.8888888888888888,
              "#fdca26"
             ],
             [
              1,
              "#f0f921"
             ]
            ],
            "type": "heatmapgl"
           }
          ],
          "histogram": [
           {
            "marker": {
             "pattern": {
              "fillmode": "overlay",
              "size": 10,
              "solidity": 0.2
             }
            },
            "type": "histogram"
           }
          ],
          "histogram2d": [
           {
            "colorbar": {
             "outlinewidth": 0,
             "ticks": ""
            },
            "colorscale": [
             [
              0,
              "#0d0887"
             ],
             [
              0.1111111111111111,
              "#46039f"
             ],
             [
              0.2222222222222222,
              "#7201a8"
             ],
             [
              0.3333333333333333,
              "#9c179e"
             ],
             [
              0.4444444444444444,
              "#bd3786"
             ],
             [
              0.5555555555555556,
              "#d8576b"
             ],
             [
              0.6666666666666666,
              "#ed7953"
             ],
             [
              0.7777777777777778,
              "#fb9f3a"
             ],
             [
              0.8888888888888888,
              "#fdca26"
             ],
             [
              1,
              "#f0f921"
             ]
            ],
            "type": "histogram2d"
           }
          ],
          "histogram2dcontour": [
           {
            "colorbar": {
             "outlinewidth": 0,
             "ticks": ""
            },
            "colorscale": [
             [
              0,
              "#0d0887"
             ],
             [
              0.1111111111111111,
              "#46039f"
             ],
             [
              0.2222222222222222,
              "#7201a8"
             ],
             [
              0.3333333333333333,
              "#9c179e"
             ],
             [
              0.4444444444444444,
              "#bd3786"
             ],
             [
              0.5555555555555556,
              "#d8576b"
             ],
             [
              0.6666666666666666,
              "#ed7953"
             ],
             [
              0.7777777777777778,
              "#fb9f3a"
             ],
             [
              0.8888888888888888,
              "#fdca26"
             ],
             [
              1,
              "#f0f921"
             ]
            ],
            "type": "histogram2dcontour"
           }
          ],
          "mesh3d": [
           {
            "colorbar": {
             "outlinewidth": 0,
             "ticks": ""
            },
            "type": "mesh3d"
           }
          ],
          "parcoords": [
           {
            "line": {
             "colorbar": {
              "outlinewidth": 0,
              "ticks": ""
             }
            },
            "type": "parcoords"
           }
          ],
          "pie": [
           {
            "automargin": true,
            "type": "pie"
           }
          ],
          "scatter": [
           {
            "fillpattern": {
             "fillmode": "overlay",
             "size": 10,
             "solidity": 0.2
            },
            "type": "scatter"
           }
          ],
          "scatter3d": [
           {
            "line": {
             "colorbar": {
              "outlinewidth": 0,
              "ticks": ""
             }
            },
            "marker": {
             "colorbar": {
              "outlinewidth": 0,
              "ticks": ""
             }
            },
            "type": "scatter3d"
           }
          ],
          "scattercarpet": [
           {
            "marker": {
             "colorbar": {
              "outlinewidth": 0,
              "ticks": ""
             }
            },
            "type": "scattercarpet"
           }
          ],
          "scattergeo": [
           {
            "marker": {
             "colorbar": {
              "outlinewidth": 0,
              "ticks": ""
             }
            },
            "type": "scattergeo"
           }
          ],
          "scattergl": [
           {
            "marker": {
             "colorbar": {
              "outlinewidth": 0,
              "ticks": ""
             }
            },
            "type": "scattergl"
           }
          ],
          "scattermapbox": [
           {
            "marker": {
             "colorbar": {
              "outlinewidth": 0,
              "ticks": ""
             }
            },
            "type": "scattermapbox"
           }
          ],
          "scatterpolar": [
           {
            "marker": {
             "colorbar": {
              "outlinewidth": 0,
              "ticks": ""
             }
            },
            "type": "scatterpolar"
           }
          ],
          "scatterpolargl": [
           {
            "marker": {
             "colorbar": {
              "outlinewidth": 0,
              "ticks": ""
             }
            },
            "type": "scatterpolargl"
           }
          ],
          "scatterternary": [
           {
            "marker": {
             "colorbar": {
              "outlinewidth": 0,
              "ticks": ""
             }
            },
            "type": "scatterternary"
           }
          ],
          "surface": [
           {
            "colorbar": {
             "outlinewidth": 0,
             "ticks": ""
            },
            "colorscale": [
             [
              0,
              "#0d0887"
             ],
             [
              0.1111111111111111,
              "#46039f"
             ],
             [
              0.2222222222222222,
              "#7201a8"
             ],
             [
              0.3333333333333333,
              "#9c179e"
             ],
             [
              0.4444444444444444,
              "#bd3786"
             ],
             [
              0.5555555555555556,
              "#d8576b"
             ],
             [
              0.6666666666666666,
              "#ed7953"
             ],
             [
              0.7777777777777778,
              "#fb9f3a"
             ],
             [
              0.8888888888888888,
              "#fdca26"
             ],
             [
              1,
              "#f0f921"
             ]
            ],
            "type": "surface"
           }
          ],
          "table": [
           {
            "cells": {
             "fill": {
              "color": "#EBF0F8"
             },
             "line": {
              "color": "white"
             }
            },
            "header": {
             "fill": {
              "color": "#C8D4E3"
             },
             "line": {
              "color": "white"
             }
            },
            "type": "table"
           }
          ]
         },
         "layout": {
          "annotationdefaults": {
           "arrowcolor": "#2a3f5f",
           "arrowhead": 0,
           "arrowwidth": 1
          },
          "autotypenumbers": "strict",
          "coloraxis": {
           "colorbar": {
            "outlinewidth": 0,
            "ticks": ""
           }
          },
          "colorscale": {
           "diverging": [
            [
             0,
             "#8e0152"
            ],
            [
             0.1,
             "#c51b7d"
            ],
            [
             0.2,
             "#de77ae"
            ],
            [
             0.3,
             "#f1b6da"
            ],
            [
             0.4,
             "#fde0ef"
            ],
            [
             0.5,
             "#f7f7f7"
            ],
            [
             0.6,
             "#e6f5d0"
            ],
            [
             0.7,
             "#b8e186"
            ],
            [
             0.8,
             "#7fbc41"
            ],
            [
             0.9,
             "#4d9221"
            ],
            [
             1,
             "#276419"
            ]
           ],
           "sequential": [
            [
             0,
             "#0d0887"
            ],
            [
             0.1111111111111111,
             "#46039f"
            ],
            [
             0.2222222222222222,
             "#7201a8"
            ],
            [
             0.3333333333333333,
             "#9c179e"
            ],
            [
             0.4444444444444444,
             "#bd3786"
            ],
            [
             0.5555555555555556,
             "#d8576b"
            ],
            [
             0.6666666666666666,
             "#ed7953"
            ],
            [
             0.7777777777777778,
             "#fb9f3a"
            ],
            [
             0.8888888888888888,
             "#fdca26"
            ],
            [
             1,
             "#f0f921"
            ]
           ],
           "sequentialminus": [
            [
             0,
             "#0d0887"
            ],
            [
             0.1111111111111111,
             "#46039f"
            ],
            [
             0.2222222222222222,
             "#7201a8"
            ],
            [
             0.3333333333333333,
             "#9c179e"
            ],
            [
             0.4444444444444444,
             "#bd3786"
            ],
            [
             0.5555555555555556,
             "#d8576b"
            ],
            [
             0.6666666666666666,
             "#ed7953"
            ],
            [
             0.7777777777777778,
             "#fb9f3a"
            ],
            [
             0.8888888888888888,
             "#fdca26"
            ],
            [
             1,
             "#f0f921"
            ]
           ]
          },
          "colorway": [
           "#636efa",
           "#EF553B",
           "#00cc96",
           "#ab63fa",
           "#FFA15A",
           "#19d3f3",
           "#FF6692",
           "#B6E880",
           "#FF97FF",
           "#FECB52"
          ],
          "font": {
           "color": "#2a3f5f"
          },
          "geo": {
           "bgcolor": "white",
           "lakecolor": "white",
           "landcolor": "#E5ECF6",
           "showlakes": true,
           "showland": true,
           "subunitcolor": "white"
          },
          "hoverlabel": {
           "align": "left"
          },
          "hovermode": "closest",
          "mapbox": {
           "style": "light"
          },
          "paper_bgcolor": "white",
          "plot_bgcolor": "#E5ECF6",
          "polar": {
           "angularaxis": {
            "gridcolor": "white",
            "linecolor": "white",
            "ticks": ""
           },
           "bgcolor": "#E5ECF6",
           "radialaxis": {
            "gridcolor": "white",
            "linecolor": "white",
            "ticks": ""
           }
          },
          "scene": {
           "xaxis": {
            "backgroundcolor": "#E5ECF6",
            "gridcolor": "white",
            "gridwidth": 2,
            "linecolor": "white",
            "showbackground": true,
            "ticks": "",
            "zerolinecolor": "white"
           },
           "yaxis": {
            "backgroundcolor": "#E5ECF6",
            "gridcolor": "white",
            "gridwidth": 2,
            "linecolor": "white",
            "showbackground": true,
            "ticks": "",
            "zerolinecolor": "white"
           },
           "zaxis": {
            "backgroundcolor": "#E5ECF6",
            "gridcolor": "white",
            "gridwidth": 2,
            "linecolor": "white",
            "showbackground": true,
            "ticks": "",
            "zerolinecolor": "white"
           }
          },
          "shapedefaults": {
           "line": {
            "color": "#2a3f5f"
           }
          },
          "ternary": {
           "aaxis": {
            "gridcolor": "white",
            "linecolor": "white",
            "ticks": ""
           },
           "baxis": {
            "gridcolor": "white",
            "linecolor": "white",
            "ticks": ""
           },
           "bgcolor": "#E5ECF6",
           "caxis": {
            "gridcolor": "white",
            "linecolor": "white",
            "ticks": ""
           }
          },
          "title": {
           "x": 0.05
          },
          "xaxis": {
           "automargin": true,
           "gridcolor": "white",
           "linecolor": "white",
           "ticks": "",
           "title": {
            "standoff": 15
           },
           "zerolinecolor": "white",
           "zerolinewidth": 2
          },
          "yaxis": {
           "automargin": true,
           "gridcolor": "white",
           "linecolor": "white",
           "ticks": "",
           "title": {
            "standoff": 15
           },
           "zerolinecolor": "white",
           "zerolinewidth": 2
          }
         }
        },
        "title": {
         "text": "Top 120 Duration distribution by Subcategory"
        },
        "xaxis": {
         "anchor": "y",
         "categoryarray": [
          "Carpets",
          "Clothes",
          "Sideboard & Chest of drawer",
          "Faucet",
          "Curtain",
          "Arm chair",
          "Wardrobe & Display cabinets",
          "PC & other electronics",
          "Decorative set",
          "Bathroom furniture",
          "Bathroom accessories",
          "Miscellaneous",
          "Indoor",
          "Pendant light",
          "Wall covering",
          "Tile",
          "Table",
          "Sofa",
          "Tableware",
          "Scripts",
          "TV Wall",
          "Office furniture",
          "Outdoor",
          "Wardrobe",
          "Chair",
          "Household appliance",
          "Other decorative objects",
          "Table + Chair",
          "Floor coverings",
          "Sports",
          "Wood",
          "Hallway",
          "Other",
          "Shower",
          "Kitchen",
          "Food and drinks",
          "Kitchen appliance",
          "Restaurant",
          "Tree",
          "Grass",
          "Bed",
          "Toy",
          "Shop",
          "Bouquet",
          "Sink",
          "TV",
          "Doors",
          "Windows",
          "Rack"
         ],
         "categoryorder": "array",
         "domain": [
          0,
          1
         ],
         "title": {
          "text": "Subcategory"
         }
        },
        "yaxis": {
         "anchor": "x",
         "domain": [
          0,
          1
         ],
         "title": {
          "text": "Dur_Shrink"
         }
        }
       }
      }
     },
     "metadata": {},
     "output_type": "display_data"
    }
   ],
   "source": [
    "fig10 = px.box(result_vis, x='Subcategory', y='Dur_Shrink', color='Subcategory', title='Top 120 Duration distribution by Subcategory')\n",
    "fig10.show()"
   ]
  },
  {
   "cell_type": "code",
   "execution_count": 45,
   "metadata": {},
   "outputs": [
    {
     "data": {
      "text/html": [
       "<div>\n",
       "<style scoped>\n",
       "    .dataframe tbody tr th:only-of-type {\n",
       "        vertical-align: middle;\n",
       "    }\n",
       "\n",
       "    .dataframe tbody tr th {\n",
       "        vertical-align: top;\n",
       "    }\n",
       "\n",
       "    .dataframe thead th {\n",
       "        text-align: right;\n",
       "    }\n",
       "</style>\n",
       "<table border=\"1\" class=\"dataframe\">\n",
       "  <thead>\n",
       "    <tr style=\"text-align: right;\">\n",
       "      <th></th>\n",
       "      <th>Link</th>\n",
       "      <th>Duration</th>\n",
       "    </tr>\n",
       "  </thead>\n",
       "  <tbody>\n",
       "    <tr>\n",
       "      <th>0</th>\n",
       "      <td>https://3dsky.org/3dmodels/show/floorgen_tools_1_5_4</td>\n",
       "      <td>2119</td>\n",
       "    </tr>\n",
       "    <tr>\n",
       "      <th>1</th>\n",
       "      <td>https://3dsky.org/3dmodels/show/laundry_set_poliform_fitted_asko</td>\n",
       "      <td>1987</td>\n",
       "    </tr>\n",
       "    <tr>\n",
       "      <th>2</th>\n",
       "      <td>https://3dsky.org/3dmodels/show/dukhovki_i_mikrovolnovki_bosch</td>\n",
       "      <td>1642</td>\n",
       "    </tr>\n",
       "    <tr>\n",
       "      <th>3</th>\n",
       "      <td>https://3dsky.org/3dmodels/show/tennisnyi_kort_2</td>\n",
       "      <td>1456</td>\n",
       "    </tr>\n",
       "    <tr>\n",
       "      <th>4</th>\n",
       "      <td>https://3dsky.org/3dmodels/show/laundry_room_0005</td>\n",
       "      <td>1227</td>\n",
       "    </tr>\n",
       "    <tr>\n",
       "      <th>5</th>\n",
       "      <td>https://3dsky.org/3dmodels/show/washing_machine_and_dryer_samsung</td>\n",
       "      <td>967</td>\n",
       "    </tr>\n",
       "    <tr>\n",
       "      <th>6</th>\n",
       "      <td>https://3dsky.org/3dmodels/show/nabor_potolkov_armstrong_i_griliato_1</td>\n",
       "      <td>897</td>\n",
       "    </tr>\n",
       "    <tr>\n",
       "      <th>7</th>\n",
       "      <td>https://3dsky.org/3dmodels/show/oborudovanie_dlia_kafe_set_4_1</td>\n",
       "      <td>695</td>\n",
       "    </tr>\n",
       "    <tr>\n",
       "      <th>8</th>\n",
       "      <td>https://3dsky.org/3dmodels/show/topol_deltovidnyi_poplar_populus_deltoides_9</td>\n",
       "      <td>476</td>\n",
       "    </tr>\n",
       "    <tr>\n",
       "      <th>9</th>\n",
       "      <td>https://3dsky.org/3dmodels/show/moiki_i_smesiteli_omoikiri</td>\n",
       "      <td>474</td>\n",
       "    </tr>\n",
       "  </tbody>\n",
       "</table>\n",
       "</div>"
      ],
      "text/plain": [
       "                                                                           Link  Duration\n",
       "0                          https://3dsky.org/3dmodels/show/floorgen_tools_1_5_4      2119\n",
       "1              https://3dsky.org/3dmodels/show/laundry_set_poliform_fitted_asko      1987\n",
       "2                https://3dsky.org/3dmodels/show/dukhovki_i_mikrovolnovki_bosch      1642\n",
       "3                              https://3dsky.org/3dmodels/show/tennisnyi_kort_2      1456\n",
       "4                             https://3dsky.org/3dmodels/show/laundry_room_0005      1227\n",
       "5             https://3dsky.org/3dmodels/show/washing_machine_and_dryer_samsung       967\n",
       "6         https://3dsky.org/3dmodels/show/nabor_potolkov_armstrong_i_griliato_1       897\n",
       "7                https://3dsky.org/3dmodels/show/oborudovanie_dlia_kafe_set_4_1       695\n",
       "8  https://3dsky.org/3dmodels/show/topol_deltovidnyi_poplar_populus_deltoides_9       476\n",
       "9                    https://3dsky.org/3dmodels/show/moiki_i_smesiteli_omoikiri       474"
      ]
     },
     "metadata": {},
     "output_type": "display_data"
    }
   ],
   "source": [
    "pd.set_option('display.max_colwidth', None)\n",
    "\n",
    "result_duration = result_vis.sort_values(by='Duration', ascending=False) # type: ignore\n",
    "display(result_duration[['Link', 'Duration']].reset_index(drop=True).head(10))\n",
    "\n"
   ]
  }
 ],
 "metadata": {
  "kernelspec": {
   "display_name": "Python 3",
   "language": "python",
   "name": "python3"
  },
  "language_info": {
   "codemirror_mode": {
    "name": "ipython",
    "version": 3
   },
   "file_extension": ".py",
   "mimetype": "text/x-python",
   "name": "python",
   "nbconvert_exporter": "python",
   "pygments_lexer": "ipython3",
   "version": "3.9.13"
  }
 },
 "nbformat": 4,
 "nbformat_minor": 2
}
