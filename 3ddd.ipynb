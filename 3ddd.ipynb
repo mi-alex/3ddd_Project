{
 "cells": [
  {
   "cell_type": "markdown",
   "metadata": {},
   "source": [
    "## Парсинг данных сайта 3dsky.org\n",
    "\n",
    "### Получение данных с сайта\n",
    "Получение данных выполняется в два прохода. Сначала мы берём первые страницы топа и формируем список моделей с основными данными: номер по порядку, дата парсинга, наименование, ссылка. На втором этапе мы проходим по этому списку, заходя на страницу каждой модели, и получаем детализированную информацию о ней. В связи с тем, что иногда случаются ошибки получения данных (из-за неустойчивости сети), для каждой модели предпринимаются несколько попыток парсинга."
   ]
  },
  {
   "cell_type": "code",
   "execution_count": 28,
   "metadata": {},
   "outputs": [
    {
     "name": "stdout",
     "output_type": "stream",
     "text": [
      "Success: [1, '2024-12-14', 'Spruce', 'https://3dsky.org/3dmodels/show/spruce_6', 'Plants', 'Tree', '3dsMax 2013 + fbx', 'Corona', 'V-Ray', 'None', '2018-05-31', 'Istwood15', 883, 271], attempt: 1\n",
      "Success: [2, '2024-12-14', 'AVE Vintage French Window', 'https://3dsky.org/3dmodels/show/ave_vintage_french_window', 'Other Models', 'Windows', '3dsMax 2017 + fbx', 'Corona', 'V-Ray', 'None', '2021-03-09', 'khetaggoldenboy', 35, 627], attempt: 1\n",
      "Success: [3, '2024-12-14', 'Bantams', 'https://3dsky.org/3dmodels/show/banty', 'Decoration', 'Other decorative objects', '3dsMax 2011 + fbx', 'Corona', 'V-Ray', 'None', '2018-01-09', 'Max_Man', 78, 130], attempt: 1\n",
      "Success: [4, '2024-12-14', 'Curtains', 'https://3dsky.org/3dmodels/show/shtory_1018', 'Decoration', 'Curtain', '3dsMax 2012 + fbx', 'Corona', 'V-Ray', 'None', '2024-09-15', 'ru1945ru', 135, 82], attempt: 1\n",
      "Success: [5, '2024-12-14', 'Soho Home - Ferguson Table Lamp', 'https://3dsky.org/3dmodels/show/soho_home_ferguson_table_lamp', 'Lighting', 'Table lamp', '3dsMax 2021 + fbx', 'Corona', 'None', 'None', '2024-10-12', 'iana2ponomareva', 15, 112], attempt: 1\n",
      "Success: [6, '2024-12-14', 'Mendas + Orsetto', 'https://3dsky.org/3dmodels/show/mendas_orsetto', 'Furniture', 'Dressing table', '3dsMax 2015 + fbx', 'Corona', 'V-Ray', 'None', '2023-12-04', 'aoverina', 2248, 119], attempt: 1\n",
      "Success: [7, '2024-12-14', 'Christmas tree with fireplace 5', 'https://3dsky.org/3dmodels/show/novogodniaia_elka_s_kaminom_5', 'Decoration', 'Other decorative objects', '3dsMax 2016 + obj', 'Corona', 'None', 'None', '2024-11-11', 'dofen', 319, 266], attempt: 1\n",
      "Success: [8, '2024-12-14', 'French Wood Side Table by Charles Dudouyt', 'https://3dsky.org/3dmodels/show/french_wood_side_table_by_charles_dudouyt', 'Furniture', 'Table', '3dsMax 2021 + fbx', 'Corona', 'None', 'None', '2024-11-19', 'gagar92', 17, 87], attempt: 1\n",
      "Success: [9, '2024-12-14', 'Urban Outfitters Sanna Floor Lamp', 'https://3dsky.org/3dmodels/show/urban_outfitters_sanna_floor_lamp', 'Lighting', 'Floor lamp', '3dsMax 2013 + obj', 'Corona', 'V-Ray', 'None', '2023-08-09', 'horrortechnology', 733, 126], attempt: 1\n",
      "Success: [10, '2024-12-14', 'Decorative set with branch ch15', 'https://3dsky.org/3dmodels/show/decorative_set_with_branch_ch15', 'Decoration', 'Decorative set', '3dsMax 2016 + fbx', 'Corona', 'None', 'None', '2024-10-11', 'cheka_3dviz', 111, 286], attempt: 1\n",
      "Success: [11, '2024-12-14', 'Laundry baskets', 'https://3dsky.org/3dmodels/show/korziny_dlia_belia', 'Bathroom', 'Bathroom accessories', '3dsMax 2018 + obj', 'Corona', 'None', 'None', '2024-02-29', 'alpatowa.anuta@yandex.ru', 133, 193], attempt: 1\n",
      "Success: [12, '2024-12-14', 'Wall shelf for mugs and cups', 'https://3dsky.org/3dmodels/show/nastennaia_polka_dlia_kruzhek_i_chashek', 'Kitchen', 'Tableware', '3dsMax 2019 + fbx', 'Corona', 'None', 'None', '2024-10-11', 'toya_vicky', 30, 230], attempt: 1\n",
      "Success: [13, '2024-12-14', 'Chemex', 'https://3dsky.org/3dmodels/show/chemex', 'Kitchen', 'Food and drinks', '3dsMax 2013 + fbx', 'Corona', 'None', 'None', '2022-04-23', 'kiryxak', 115, 182], attempt: 1\n",
      "Success: [14, '2024-12-14', 'Flexform Asolo Sofa', 'https://3dsky.org/3dmodels/show/flexform_asolo_sofa_1', 'Furniture', 'Sofa', '3dsMax 2014 + obj', 'Corona', 'V-Ray', 'None', '2021-01-12', 'taxi3d', 32, 241], attempt: 1\n",
      "Success: [15, '2024-12-14', 'Dressing room 28', 'https://3dsky.org/3dmodels/show/garderobnaia_28', 'Furniture', 'Wardrobe & Display cabinets', '3dsMax 2017 + fbx', 'Corona', 'None', 'None', '2024-11-14', 'protektor', 327, 106], attempt: 1\n",
      "Success: [16, '2024-12-14', 'Oleandro Chair Wood by Calligaris', 'https://3dsky.org/3dmodels/show/oleandro_chair_wood_by_calligaris', 'Furniture', 'Chair', '3dsMax 2015 + obj', 'Corona', 'None', 'None', '2021-11-03', 'amarchitect', 79, 536], attempt: 1\n",
      "Success: [17, '2024-12-14', 'coffee table decor set 005', 'https://3dsky.org/3dmodels/show/coffee_table_decor_set_005', 'Decoration', 'Decorative set', '3dsMax 2015 + fbx', 'Corona', 'V-Ray', 'None', '2024-11-15', 'Mitya87', 193, 259], attempt: 1\n",
      "Success: [18, '2024-12-14', 'Clothes for wardrobe NG15', 'https://3dsky.org/3dmodels/show/odezhda_dlia_garderoba_ng15', 'Decoration', 'Clothes', '3dsMax 2016 + obj', 'Corona', 'V-Ray', 'None', '2024-11-12', 'niga2323', 764, 158], attempt: 1\n",
      "Success: [19, '2024-12-14', 'Macbook Pro', 'https://3dsky.org/3dmodels/show/macbook_pro_5', 'Technology', 'PC & other electronics', '3dsMax 2015 + obj', 'Corona', 'V-Ray', 'None', '2023-01-25', '3Design.FB', 1577, 84], attempt: 1\n",
      "Success: [20, '2024-12-14', 'Wonderful Christmas Tree', 'https://3dsky.org/3dmodels/show/elochka_1', 'Decoration', 'Other decorative objects', '3dsMax 2015 + fbx', 'Corona', 'V-Ray', 'None', '2024-11-16', 'fffaaa12', 1220, 127], attempt: 1\n",
      "Success: [21, '2024-12-14', 'Kitchen 10', 'https://3dsky.org/3dmodels/show/kukhnia_10_6', 'Kitchen', 'Kitchen', '3dsMax 2015 + obj', 'Corona', 'None', 'None', '2024-06-29', 'RazorS95', 13, 129], attempt: 1\n",
      "Success: [22, '2024-12-14', 'Office chair Ashley', 'https://3dsky.org/3dmodels/show/ofisnoe_kreslo_eshli', 'Furniture', 'Office furniture', '3dsMax 2015 + obj', 'Corona', 'None', 'None', '2024-10-13', 'illidan_', 6, 160], attempt: 1\n",
      "Success: [23, '2024-12-14', 'Cairns pedestal Divan.ru', 'https://3dsky.org/3dmodels/show/kerns_tumba_divan_ru', 'Furniture', 'Sideboard & Chest of drawer', '3dsMax 2016 + obj', 'Corona', 'V-Ray', 'None', '2024-11-05', 'niga2323', 764, 97], attempt: 1\n",
      "Success: [24, '2024-12-14', 'Pinch Pleat Linen Curtain with Roller Blind', 'https://3dsky.org/3dmodels/show/pinch_pleat_linen_curtain_with_roller_blind', 'Decoration', 'Curtain', '3dsMax 2013 + fbx', 'Corona', 'V-Ray', 'None', '2024-11-20', 'kapusta', 129, 111], attempt: 1\n",
      "Success: [25, '2024-12-14', 'Calder Lander Build table Divan.ru', 'https://3dsky.org/3dmodels/show/kolder_lander_bild_stolik_divan_ru', 'Furniture', 'Table', '3dsMax 2016 + obj', 'Corona', 'V-Ray', 'None', '2024-10-23', 'niga2323', 764, 92], attempt: 1\n",
      "Success: [26, '2024-12-14', 'Benuta Dave Rectangular Fur Rug (3 colors)', 'https://3dsky.org/3dmodels/show/benuta_dave_rectangular_fur_rug_3_colors', 'Decoration', 'Carpets', '3dsMax 2015 + obj', 'Corona', 'None', 'None', '2024-06-27', '3Dmitruk', 337, 567], attempt: 1\n",
      "Success: [27, '2024-12-14', 'Benuta Leon Cream Wool Rug', 'https://3dsky.org/3dmodels/show/benuta_leon_cream_wool_rug', 'Decoration', 'Carpets', '3dsMax 2015 + obj', 'Corona', 'None', 'None', '2024-11-03', '3Dmitruk', 337, 281], attempt: 1\n",
      "Success: [28, '2024-12-14', 'Decorative Set 089', 'https://3dsky.org/3dmodels/show/decorative_set_089_4', 'Decoration', 'Decorative set', '3dsMax 2016 + fbx', 'Corona', 'V-Ray', 'None', '2024-10-27', 'Moriiiz', 91, 271], attempt: 1\n",
      "Success: [29, '2024-12-14', 'Christmas table setting 3', 'https://3dsky.org/3dmodels/show/novogodniaia_servirovka_3_2', 'Kitchen', 'Tableware', '3dsMax 2016 + obj', 'Corona', 'V-Ray', 'None', '2023-12-10', 'dofen', 319, 230], attempt: 1\n",
      "Success: [30, '2024-12-14', 'Edano Pendant Light - Lucande', 'https://3dsky.org/3dmodels/show/edano_pendant_light_lucande_1', 'Lighting', 'Pendant light', '3dsMax 2014 + obj', 'Corona', 'V-Ray', 'None', '2024-12-02', 'Karloo', 99, 67], attempt: 1\n",
      "Success: [31, '2024-12-14', 'Decorative Set-086 Shelf Accessories', 'https://3dsky.org/3dmodels/show/decorative_set_086_4', 'Decoration', 'Decorative set', '3dsMax 2015 + obj', 'Corona', 'V-Ray', 'None', '2024-11-17', 'mhl.hnr', 257, 83], attempt: 1\n",
      "Success: [32, '2024-12-14', 'New Year tree with bow and garlands | AV 087', 'https://3dsky.org/3dmodels/show/novogodniaia_elka_c_bantom_i_girliandami_av_087', 'Decoration', 'Other decorative objects', '3dsMax 2015 + fbx', 'Corona', 'V-Ray', 'None', '2024-11-06', 'verba_cg', 17, 108], attempt: 1\n",
      "Success: [33, '2024-12-14', 'Headboard 5', 'https://3dsky.org/3dmodels/show/izgolove_krovati_5_12', 'Decoration', 'Other decorative objects', '3dsMax 2017 + fbx', 'Corona', 'None', 'None', '2024-11-23', 'oleksandroleksandr', 129, 71], attempt: 1\n",
      "Success: [34, '2024-12-14', 'Cookware set NG5', 'https://3dsky.org/3dmodels/show/nabor_posudy_ng5', 'Kitchen', 'Tableware', '3dsMax 2016 + obj', 'Corona', 'V-Ray', 'None', '2024-10-07', 'niga2323', 764, 369], attempt: 1\n",
      "Success: [35, '2024-12-14', 'Set of Epson projectors.', 'https://3dsky.org/3dmodels/show/nabor_proektorov_epson_1', 'Technology', 'PC & other electronics', '3dsMax 2015 + fbx', 'Corona', 'V-Ray', 'None', '2024-11-24', 'slipknot1111', 20, 50], attempt: 1\n",
      "Success: [36, '2024-12-14', 'Indoor Plant Set 89', 'https://3dsky.org/3dmodels/show/indoor_plant_set_89_23', 'Plants', 'Indoor', '3dsMax 2015 + obj', 'Corona', 'V-Ray', 'None', '2024-04-30', 'mh.designer', 212, 76], attempt: 1\n",
      "Success: [37, '2024-12-14', 'Boucle Fabric', 'https://3dsky.org/3dmodels/show/boucle_fabric', 'Materials', 'Miscellaneous', '3dsMax 2019 + obj', 'Corona', 'None', 'None', '2024-10-27', 'marchik3d', 155, 499], attempt: 1\n",
      "Success: [38, '2024-12-14', 'Decorative Set 088', 'https://3dsky.org/3dmodels/show/decorative_set_088_2', 'Decoration', 'Decorative set', '3dsMax 2016 + fbx', 'Corona', 'V-Ray', 'None', '2024-10-13', 'Moriiiz', 91, 237], attempt: 1\n",
      "Success: [39, '2024-12-14', 'Roman blinds', 'https://3dsky.org/3dmodels/show/shtory_rimskie', 'Decoration', 'Curtain', '3dsMax 2018 + fbx', 'Corona', 'None', 'None', '2024-10-02', 'бойко75', 18, 110], attempt: 1\n",
      "Success: [40, '2024-12-14', 'Curtains with Roman blinds 2', 'https://3dsky.org/3dmodels/show/shtory_s_rimskimi_shtorami_2', 'Decoration', 'Curtain', '3dsMax 2014 + obj', 'Corona', 'None', 'None', '2024-08-26', 'Rolan05', 130, 274], attempt: 1\n",
      "Success: [41, '2024-12-14', 'Christmas tree with fireplace 4', 'https://3dsky.org/3dmodels/show/novogodniaia_elka_s_kaminom_4', 'Decoration', 'Other decorative objects', '3dsMax 2016 + obj', 'Corona', 'None', 'None', '2023-12-22', 'dofen', 319, 393], attempt: 1\n",
      "Success: [42, '2024-12-14', 'Bar Cabinet', 'https://3dsky.org/3dmodels/show/bar_cabinet_24', 'Furniture', 'Rack', '3dsMax 2019 + fbx', 'Corona', 'None', 'None', '2024-10-19', 'gulk', 2, 244], attempt: 1\n",
      "Success: [43, '2024-12-14', 'A set of clothes and accessories to fill a wardrobe or store and showroom', 'https://3dsky.org/3dmodels/show/a_set_of_clothes_and_accessories_to_fill_a_wardrobe_or_store_and_showroom', 'Decoration', 'Clothes', '3dsMax 2015 + fbx', 'Corona', 'V-Ray', 'None', '2024-11-23', 'sofiakholina', 790, 88], attempt: 1\n",
      "Success: [44, '2024-12-14', 'Faucets and showers Boheme uno set 2', 'https://3dsky.org/3dmodels/show/faucets_and_showers_boheme_uno_set_2', 'Bathroom', 'Faucet', '3dsMax 2017 + fbx', 'Corona', 'V-Ray', 'None', '2024-09-13', 'Ashlesha', 24, 73], attempt: 1\n",
      "Success: [45, '2024-12-14', 'Glass Block Wall 08', 'https://3dsky.org/3dmodels/show/glass_block_wall_08', 'Decoration', 'Other decorative objects', '3dsMax 2014 + fbx', 'Corona', 'V-Ray', 'None', '2022-05-26', 'NK3D', 131, 823], attempt: 1\n",
      "Success: [46, '2024-12-14', '41zero42 SPECTRE', 'https://3dsky.org/3dmodels/show/41zero42_spectre', 'Textures', 'Tile', '3dsMax 2016 + obj', 'Corona', 'V-Ray', 'None', '2024-09-20', 'StanisLOVE.viz', 164, 107], attempt: 1\n",
      "Success: [47, '2024-12-14', 'Grilles for ventilation and air conditioning Redvent', 'https://3dsky.org/3dmodels/show/reshetki_dlia_ventiliatsii_i_konditsionirovaniia_redvent', 'Other Models', 'Miscellaneous', '3dsMax 2017 + obj', 'Corona', 'V-Ray', 'None', '2024-10-27', 'DashutaG', 32, 128], attempt: 1\n",
      "Success: [48, '2024-12-14', 'Roman curtains 21', 'https://3dsky.org/3dmodels/show/roman_curtains_21', 'Decoration', 'Curtain', '3dsMax 2019 + obj', 'Corona', 'V-Ray', 'None', '2024-10-26', 'MountainLavender', 76, 53], attempt: 1\n",
      "Success: [49, '2024-12-14', 'Snow', 'https://3dsky.org/3dmodels/show/sneg_4', 'Materials', 'Miscellaneous', '3dsMax 2013 + obj', 'Corona', 'None', 'None', '2024-11-09', 'maltsev_stepan', 312, 89], attempt: 1\n",
      "Success: [50, '2024-12-14', 'Dressing room 16', 'https://3dsky.org/3dmodels/show/garderobnaia_16_1', 'Furniture', 'Wardrobe & Display cabinets', '3dsMax 2017 + fbx', 'Corona', 'None', 'None', '2024-05-06', 'protektor', 327, 409], attempt: 1\n",
      "Success: [51, '2024-12-14', 'Oval island for dressing room NG14', 'https://3dsky.org/3dmodels/show/ovalnyi_ostrov_dlia_garderobnoi_ng14', 'Furniture', 'Other', '3dsMax 2016 + obj', 'Corona', 'V-Ray', 'None', '2024-07-09', 'niga2323', 764, 464], attempt: 1\n",
      "Success: [52, '2024-12-14', 'Branches with leaves in an old clay vase', 'https://3dsky.org/3dmodels/show/vetki_s_listiami_v_staroi_glinianoi_vaze', 'Plants', 'Bouquet', '3dsMax 2012 + obj', 'Corona', 'V-Ray', 'None', '2024-06-27', 'auralis', 232, 269], attempt: 1\n",
      "Success: [53, '2024-12-14', 'Mogens table Divan.ru', 'https://3dsky.org/3dmodels/show/mogens_stolik_divan_ru', 'Furniture', 'Table', '3dsMax 2016 + obj', 'Corona', 'V-Ray', 'None', '2024-10-29', 'niga2323', 764, 80], attempt: 1\n",
      "Success: [54, '2024-12-14', 'Children play area | Interactive', 'https://3dsky.org/3dmodels/show/children_play_area_interactive', 'Childroom', 'Miscellaneous', '3dsMax 2016 + fbx', 'Corona', 'V-Ray', 'None', '2024-11-04', 'lzv_cg', 87, 197], attempt: 1\n",
      "Success: [55, '2024-12-14', 'Carpet texture 003', 'https://3dsky.org/3dmodels/show/tekstura_kovrolina_003', 'Textures', 'Fabric', '3dsMax 2017 + obj', 'Corona', 'None', 'None', '2024-10-29', 'danon312', 185, 79], attempt: 1\n",
      "Success: [56, '2024-12-14', 'Christmas Tree and Decoration 77', 'https://3dsky.org/3dmodels/show/christmas_tree_and_decoration_77', 'Decoration', 'Other decorative objects', '3dsMax 2015 + obj', 'Corona', 'V-Ray', 'None', '2024-11-06', '3Design.FB', 1577, 121], attempt: 1\n",
      "Success: [57, '2024-12-14', 'Curtain #118', 'https://3dsky.org/3dmodels/show/curtain_118_3', 'Decoration', 'Curtain', '3dsMax 2012 + obj', 'Corona', 'V-Ray', 'None', '2024-10-20', 'deez', 86, 38], attempt: 1\n",
      "Success: [58, '2024-12-14', 'Thorvall chair Divan.ru', 'https://3dsky.org/3dmodels/show/torvall_stul_divan_ru_1', 'Furniture', 'Chair', '3dsMax 2016 + obj', 'Corona', 'V-Ray', 'None', '2024-11-26', 'niga2323', 764, 27], attempt: 1\n",
      "Success: [59, '2024-12-14', 'Double shower curtain with hidden ceiling cornice', 'https://3dsky.org/3dmodels/show/shtora_dlia_vannoi_dvoinaia_so_skrytym_potolochnym_karnizom', 'Bathroom', 'Bathroom accessories', '3dsMax 2019 + obj', 'Corona', 'None', 'None', '2024-11-28', 'kristi4487', 7, 37], attempt: 1\n",
      "Success: [60, '2024-12-14', 'Christmas tree 5', 'https://3dsky.org/3dmodels/show/novogodniaia_elka_5_1', 'Decoration', 'Other decorative objects', '3dsMax 2015 + fbx', 'Corona', 'V-Ray', 'None', '2022-12-10', 'fffaaa12', 1220, 621], attempt: 1\n",
      "Success: [61, '2024-12-14', 'Christmas tree with fireplace 3', 'https://3dsky.org/3dmodels/show/novogodniaia_elka_s_kaminom_3', 'Decoration', 'Other decorative objects', '3dsMax 2016 + obj', 'Corona', 'None', 'None', '2023-12-06', 'dofen', 319, 294], attempt: 1\n",
      "Success: [62, '2024-12-14', 'Rubber Coating', 'https://3dsky.org/3dmodels/show/rezinovoe_pokrytie_1', 'Materials', 'Miscellaneous', '3dsMax 2011 + obj', 'Corona', 'None', 'None', '2024-08-13', 'maltsev_stepan', 312, 201], attempt: 1\n",
      "Success: [63, '2024-12-14', 'Sockets and switches Systeme Electric ArtGallery series', 'https://3dsky.org/3dmodels/show/rozetki_i_vykliuchateli_systeme_electric_ceriia_artgallery', 'Technology', 'Miscellaneous', '3dsMax 2017 + obj', 'Corona', 'V-Ray', 'None', '2024-07-10', 'DashutaG', 32, 25], attempt: 1\n",
      "Success: [64, '2024-12-14', 'Office chair Sergio La Redoute', 'https://3dsky.org/3dmodels/show/kreslo_ofisnoe_sergio_la_redoute', 'Furniture', 'Office furniture', '3dsMax 2013 + obj', 'Corona', 'V-Ray', 'None', '2024-10-13', 'Артур56', 247, 101], attempt: 1\n",
      "Success: [65, '2024-12-14', 'Parquet board 4', 'https://3dsky.org/3dmodels/show/parketnaia_doska_4_1', 'Textures', 'Floor coverings', '3dsMax 2016 + obj', 'Corona', 'V-Ray', 'None', '2024-10-21', 'dofen', 319, 106], attempt: 1\n",
      "Success: [66, '2024-12-14', 'EWRIKA Penelope electric heated towel rail', 'https://3dsky.org/3dmodels/show/ewrika_penelopa_polotentsesushitel_elektricheskii', 'Bathroom', 'Towel rail', '3dsMax 2016 + obj', 'Corona', 'V-Ray', 'None', '2024-10-21', 'niga2323', 764, 66], attempt: 1\n",
      "Success: [67, '2024-12-14', 'Rooftop HVAC Systems', 'https://3dsky.org/3dmodels/show/rooftop_hvac_systems_obekty_kryshi_zdanii', 'Architecture', 'Facade element', '3dsMax 2014 + fbx', 'Corona', 'V-Ray', 'None', '2024-10-20', 'labzin', 73, 69], attempt: 1\n",
      "Success: [68, '2024-12-14', 'Equipe MASSIMO', 'https://3dsky.org/3dmodels/show/equipe_massimo', 'Textures', 'Tile', '3dsMax 2016 + obj', 'Corona', 'V-Ray', 'None', '2024-09-25', 'StanisLOVE.viz', 164, 79], attempt: 1\n",
      "Success: [69, '2024-12-14', 'Wall Decor 05', 'https://3dsky.org/3dmodels/show/wall_decor_05_5', 'Decoration', 'Frame', '3dsMax 2014 + fbx', 'Corona', 'V-Ray', 'None', '2024-10-25', 'remuhin', 517, 65], attempt: 1\n",
      "Success: [70, '2024-12-14', 'Corner Sofa Space-2, Space-2 Sofa', 'https://3dsky.org/3dmodels/show/corner_sofa_space_2_speis_2_divan', 'Furniture', 'Sofa', '3dsMax 2015 + obj', 'Corona', 'None', 'None', '2024-10-30', 'Neeo', 421, 62], attempt: 1\n",
      "Success: [71, '2024-12-14', 'Bed Amalia 90 / Amalia Kids Bed by Divan.ru', 'https://3dsky.org/3dmodels/show/krovat_amaliia_90_amalia_kids_bed_by_divan_ru_1', 'Childroom', 'Bed', '3dsMax 2015 + obj', 'Corona', 'None', 'None', '2024-11-27', 'Leader_3D', 42, 35], attempt: 1\n",
      "Success: [72, '2024-12-14', \"Pine branches in a clay vase. New Year's bouquet\", 'https://3dsky.org/3dmodels/show/vetki_sosny_v_glinianoi_vaze_novogodnii_buket', 'Plants', 'Bouquet', '3dsMax 2012 + obj', 'Corona', 'V-Ray', 'None', '2024-11-24', 'auralis', 232, 52], attempt: 1\n",
      "Success: [73, '2024-12-14', 'Basic wardrobe made of cabinet furniture with doors 2', 'https://3dsky.org/3dmodels/show/basic_wardrobe_made_of_cabinet_furniture_with_doors_2', 'Furniture', 'Wardrobe & Display cabinets', '3dsMax 2015 + fbx', 'Corona', 'V-Ray', 'None', '2024-11-26', 'sofiakholina', 790, 50], attempt: 1\n",
      "Success: [74, '2024-12-14', 'TV wall with Xiaomi laser projector', 'https://3dsky.org/3dmodels/show/tv_stena_s_lazernym_proektorom_xiaomi', 'Furniture', 'TV Wall', '3dsMax 2015 + fbx', 'Corona', 'V-Ray', 'None', '2023-12-09', 'aoverina', 2248, 1508], attempt: 1\n",
      "Success: [75, '2024-12-14', 'Bathroom decor with a set of different cosmetic products', 'https://3dsky.org/3dmodels/show/bathroom_decor_with_a_set_of_different_cosmetic_products', 'Bathroom', 'Bathroom accessories', '3dsMax 2015 + fbx', 'Corona', 'V-Ray', 'None', '2024-07-10', 'sofiakholina', 790, 299], attempt: 1\n",
      "Success: [76, '2024-12-14', 'West Elm Curved Modern Upholstered Bed', 'https://3dsky.org/3dmodels/show/west_elm_curved_modern_upholstered_bed_9', 'Furniture', 'Bed', '3dsMax 2016 + obj', 'Corona', 'V-Ray', 'None', '2024-11-06', 'Ney', 614, 108], attempt: 1\n",
      "Success: [77, '2024-12-14', 'Lindsay Laurie coffee table Divan.ru', 'https://3dsky.org/3dmodels/show/lindsi_lori_zhurnalnyi_stolik_divan_ru', 'Furniture', 'Table', '3dsMax 2016 + obj', 'Corona', 'V-Ray', 'None', '2024-11-05', 'niga2323', 764, 52], attempt: 1\n",
      "Success: [78, '2024-12-14', 'Christmas table setting 4', 'https://3dsky.org/3dmodels/show/novogodniaia_servirovka_4_1', 'Kitchen', 'Tableware', '3dsMax 2016 + obj', 'Corona', 'V-Ray', 'None', '2024-11-28', 'dofen', 319, 48], attempt: 1\n",
      "Success: [79, '2024-12-14', 'Good Christmas Tree 2', 'https://3dsky.org/3dmodels/show/khoroshaia_elochka_2', 'Decoration', 'Other decorative objects', '3dsMax 2019 + fbx', 'Corona', 'None', 'None', '2024-12-03', 'fffaaa12', 1220, 66], attempt: 1\n",
      "Success: [80, '2024-12-14', 'Facade with 20 residential and public low-poly interiors', 'https://3dsky.org/3dmodels/show/fasad_c_20_low_poly_intererami', 'Architecture', 'Building', '3dsMax 2015 + obj', 'Corona', 'None', 'None', '2020-12-07', 'Buyan11111', 51, 1858], attempt: 1\n",
      "Success: [81, '2024-12-14', 'modern windows', 'https://3dsky.org/3dmodels/show/sovremennye_okna', 'Other Models', 'Windows', '3dsMax 2015 + fbx', 'Corona', 'V-Ray', 'None', '2022-07-06', 'fffaaa12', 1220, 1977], attempt: 1\n",
      "Success: [82, '2024-12-14', 'Christmas Tree Street', 'https://3dsky.org/3dmodels/show/ulichnaia_novogodniaia_elka', 'Architecture', 'Urban environment', '3dsMax 2016 + fbx', 'Corona', 'None', 'None', '2021-11-27', 'Al-make', 52, 292], attempt: 1\n",
      "Success: [83, '2024-12-14', 'Decorative set with a small beige bag', 'https://3dsky.org/3dmodels/show/dekorativnyi_nabor_s_malenkoi_sumkoi_bezh', 'Decoration', 'Decorative set', '3dsMax 2017 + obj', 'Corona', 'V-Ray', 'None', '2024-05-19', 'Lana3D', 30, 61], attempt: 1\n",
      "Success: [84, '2024-12-14', 'Garland on the window', 'https://3dsky.org/3dmodels/show/girlianda_na_okno_1', 'Lighting', 'Technical lighting', '3dsMax 2015 + fbx', 'Corona', 'V-Ray', 'None', '2022-11-24', 'ArtistNo6', 62, 331], attempt: 1\n",
      "Success: [85, '2024-12-14', 'Faucets and showers Boheme uno set 1', 'https://3dsky.org/3dmodels/show/faucets_and_showers_boheme_uno_set_1', 'Bathroom', 'Bathtub', '3dsMax 2017 + fbx', 'Corona', 'V-Ray', 'None', '2024-09-10', 'Ashlesha', 24, 52], attempt: 1\n",
      "Success: [86, '2024-12-14', 'Cafe Equipment Set 8', 'https://3dsky.org/3dmodels/show/oborudovanie_dlia_kafe_set_8', 'Other Models', 'Restaurant', '3dsMax 2017 + fbx', 'Corona', 'V-Ray', 'None', '2024-08-30', 'Стаска', 74, 184], attempt: 1\n",
      "Success: [87, '2024-12-14', 'Flat Metal Material', 'https://3dsky.org/3dmodels/show/flat_metal_material', 'Materials', 'Metal', '3dsMax 2015 + fbx', 'Corona', 'V-Ray', 'None', '2024-09-30', 'jy893dsky', 54, 246], attempt: 1\n",
      "Success: [88, '2024-12-14', 'A bouquet of lilacs in a glass vase', 'https://3dsky.org/3dmodels/show/buket_sireni_v_stekliannoi_vaze_1', 'Plants', 'Bouquet', '3dsMax 2012 + obj', 'Corona', 'V-Ray', 'None', '2024-10-22', 'auralis', 232, 237], attempt: 1\n",
      "Success: [89, '2024-12-14', 'Cecily Nara bedside table Cosmo', 'https://3dsky.org/3dmodels/show/cecily_nara_prikrovatnaia_tumba_cosmo', 'Furniture', 'Sideboard & Chest of drawer', '3dsMax 2016 + obj', 'Corona', 'V-Ray', 'None', '2024-10-21', 'niga2323', 764, 95], attempt: 1\n",
      "Success: [90, '2024-12-14', 'Furniture Composition | 006', 'https://3dsky.org/3dmodels/show/furniture_composition_006', 'Furniture', 'Rack', '3dsMax 2014 + fbx', 'Corona', 'V-Ray', 'None', '2024-09-20', 'caolamds', 42, 136], attempt: 1\n",
      "Success: [91, '2024-12-14', 'Decorative set NG25', 'https://3dsky.org/3dmodels/show/dekorativnyi_nabor_ng25', 'Decoration', 'Decorative set', '3dsMax 2016 + obj', 'Corona', 'V-Ray', 'None', '2024-10-28', 'niga2323', 764, 103], attempt: 1\n",
      "Success: [92, '2024-12-14', 'Dreame X40 Ultra Robot Vacuum Cleaner White', 'https://3dsky.org/3dmodels/show/dreame_x40_ultra_robot_vacuum_cleaner_white', 'Technology', 'Household appliance', '3dsMax 2014 + fbx', 'Corona', 'V-Ray', 'None', '2024-10-17', 'Mitya87', 193, 36], attempt: 1\n",
      "Success: [93, '2024-12-14', 'Henge Vibe Wall Lamps', 'https://3dsky.org/3dmodels/show/henge_vibe_wall_lamps', 'Lighting', 'Wall light', '3dsMax 2013 + obj', 'Corona', 'V-Ray', 'None', '2024-11-03', 'horrortechnology', 733, 35], attempt: 1\n",
      "Success: [94, '2024-12-14', 'TV Wall 14', 'https://3dsky.org/3dmodels/show/tv_wall_14_21', 'Furniture', 'TV Wall', '3dsMax 2015 + obj', 'Corona', 'V-Ray', 'None', '2024-11-21', 'mh.designer', 212, 73], attempt: 1\n",
      "Success: [95, '2024-12-14', 'Pixel sofa Saba Italia', 'https://3dsky.org/3dmodels/show/pixel_sofa_saba_italia_1', 'Furniture', 'Sofa', '3dsMax 2016 + obj', 'Corona', 'None', 'None', '2024-11-18', 'Neeo', 421, 41], attempt: 1\n",
      "Success: [96, '2024-12-14', 'Volume Bed by One&Home', 'https://3dsky.org/3dmodels/show/voluem_bed_by_one_home', 'Furniture', 'Bed', '3dsMax 2018 + obj', 'Corona', 'None', 'None', '2024-11-22', 'UltraDron', 132, 31], attempt: 1\n",
      "Success: [97, '2024-12-14', 'Siena Kids Bed By Como', 'https://3dsky.org/3dmodels/show/siena_kids_bed_by_como_11', 'Childroom', 'Bed', '3dsMax 2016 + obj', 'Corona', 'None', 'None', '2024-11-21', 'ZikKoo', 430, 41], attempt: 1\n",
      "Success: [98, '2024-12-14', 'Bedside tables Tammi ellipsefurniture', 'https://3dsky.org/3dmodels/show/tumby_prikrovatnye_tammi_ellipsefurniture', 'Furniture', 'Sideboard & Chest of drawer', '3dsMax 2020 + obj', 'Corona', 'None', 'None', '2024-11-25', 'Beliy', 23, 25], attempt: 1\n",
      "Success: [99, '2024-12-14', 'Dwarf White Pine', 'https://3dsky.org/3dmodels/show/dwarf_white_pine_1', 'Plants', 'Bush', '3dsMax 2018 + obj', 'Corona', 'V-Ray', 'None', '2024-11-27', 'Ehsan Soleymani', 630, 62], attempt: 1\n",
      "Success: [100, '2024-12-14', 'Sienna Swivel Armchair', 'https://3dsky.org/3dmodels/show/sienna_swivel_armchair', 'Furniture', 'Arm chair', '3dsMax 2015 + obj', 'Corona', 'None', 'None', '2024-11-29', 'Moonlight_97', 31, 33], attempt: 1\n",
      "Success: [101, '2024-12-14', 'Photo Studio Kit', 'https://3dsky.org/3dmodels/show/photo_studio_kit', 'Other Models', 'Miscellaneous', '3dsMax 2014 + obj', 'Corona', 'V-Ray', 'None', '2021-01-15', 'quantum_4141', 99, 664], attempt: 1\n",
      "Success: [102, '2024-12-14', 'Laundry set', 'https://3dsky.org/3dmodels/show/prachechnaia_postirochnaia_laundry', 'Bathroom', 'Bathroom accessories', '3dsMax 2012 + obj', 'Corona', 'V-Ray', 'None', '2022-01-27', 'vitaly_y_panov', 224, 895], attempt: 1\n",
      "Success: [103, '2024-12-14', 'Nice Christmas tree', 'https://3dsky.org/3dmodels/show/khoroshaia_elochka', 'Decoration', 'Other decorative objects', '3dsMax 2015 + fbx', 'Corona', 'None', 'None', '2023-11-23', 'fffaaa12', 1220, 1420], attempt: 1\n",
      "Success: [104, '2024-12-14', 'Set of multi-story buildings', 'https://3dsky.org/3dmodels/show/nabor_mnogoetazhnykh_domov_3', 'Architecture', 'Building', '3dsMax 2013 + obj', 'Corona', 'V-Ray', 'None', '2023-08-31', 'EVGIGN', 100, 396], attempt: 1\n",
      "Success: [105, '2024-12-14', 'Padel', 'https://3dsky.org/3dmodels/show/padel_padel', 'Other Models', 'Sports', '3dsMax 2017 + obj', 'Corona', 'V-Ray', 'None', '2023-11-03', 'alexsm2014', 23, 122], attempt: 1\n",
      "Success: [106, '2024-12-14', 'Wardrobe system Rimadesio Dress Bold', 'https://3dsky.org/3dmodels/show/garderobnaia_sistema_rimadesio_dress_bold', 'Furniture', 'Wardrobe & Display cabinets', '3dsMax 2013 + obj', 'Corona', 'V-Ray', 'None', '2024-06-20', 'restereo', 101, 528], attempt: 1\n",
      "Success: [107, '2024-12-14', 'Realistic meadow grass', 'https://3dsky.org/3dmodels/show/realistichnaia_lugovaia_trava', 'Plants', 'Grass', '3dsMax 2020 + obj', 'Corona', 'None', 'None', '2024-09-05', 'AlexHappy', 1703, 454], attempt: 1\n",
      "Success: [108, '2024-12-14', 'Curtains with Roman blinds', 'https://3dsky.org/3dmodels/show/shtory_s_rimskimi_shtorami', 'Decoration', 'Curtain', '3dsMax 2014 + obj', 'Corona', 'None', 'None', '2024-08-16', 'Rolan05', 130, 210], attempt: 1\n",
      "Success: [109, '2024-12-14', 'Kitchen decor 03', 'https://3dsky.org/3dmodels/show/kitchen_decor_03_1', 'Kitchen', 'Other kitchen accessories', '3dsMax 2014 + fbx', 'Corona', 'V-Ray', 'None', '2024-09-22', 'tarankaa', 284, 259], attempt: 1\n",
      "Success: [110, '2024-12-14', 'Esse volhovec doors - interior door 253', 'https://3dsky.org/3dmodels/show/esse_volhovec_doors_interior_door_253_3', 'Other Models', 'Doors', '3dsMax 2015 + fbx', 'Corona', 'V-Ray', 'None', '2024-08-18', 'Hokmabadi', 70, 50], attempt: 1\n",
      "Success: [111, '2024-12-14', 'HousePlants Mission Kalamata Leccino Arbequina Wilsonii Chemlali Olive Set53', 'https://3dsky.org/3dmodels/show/houseplants_mission_kalamata_leccino_arbequina_wilsonii_chemlali_olive_set53', 'Plants', 'Indoor', '3dsMax 2015 + fbx', 'Corona', 'V-Ray', 'None', '2024-10-19', 'аватар', 228, 50], attempt: 1\n",
      "Success: [112, '2024-12-14', 'Rajah carpet, La Redoute', 'https://3dsky.org/3dmodels/show/kovior_rajah_la_redoute', 'Decoration', 'Carpets', '3dsMax 2014 + fbx', 'Corona', 'None', 'None', '2024-11-05', 'sonarrr', 83, 49], attempt: 1\n",
      "Success: [113, '2024-12-14', 'Childrens open wardrobe with desk, modular, modern, 25', 'https://3dsky.org/3dmodels/show/shkaf_otkrytyi_detskii_s_pismennym_stolom_modulnyi_sovremennyi_25', 'Childroom', 'Wardrobe', '3dsMax 2013 + obj', 'Corona', 'None', 'None', '2024-11-13', 'don2432', 171, 77], attempt: 1\n",
      "Success: [114, '2024-12-14', 'Fluted Glass Set 1', 'https://3dsky.org/3dmodels/show/ribbed_glass_set_1_riflenoe_steklo', 'Materials', 'Glass', '3dsMax 2014 + fbx', 'Corona', 'V-Ray', 'None', '2024-11-16', 'labzin', 73, 53], attempt: 1\n",
      "Success: [115, '2024-12-14', 'Bathroom accessories Z44', 'https://3dsky.org/3dmodels/show/bathroom_accessories_z44_2', 'Bathroom', 'Bathroom accessories', '3dsMax 2016 + obj', 'Corona', 'V-Ray', 'None', '2024-11-26', 'zyazdiyan', 36, 24], attempt: 1\n",
      "Success: [116, '2024-12-14', 'Cosmopolita Armchair MUR ART by BO ART', 'https://3dsky.org/3dmodels/show/kreslo_cosmopolita_mur_art_by_bo_art', 'Furniture', 'Arm chair', '3dsMax 2017 + obj', 'Corona', 'V-Ray', 'None', '2024-11-21', 'khodja', 86, 60], attempt: 1\n",
      "Success: [117, '2024-12-14', 'Bolia Lomi Sofa', 'https://3dsky.org/3dmodels/show/bolia_lomi_sofa_1', 'Furniture', 'Sofa', '3dsMax 2016 + obj', 'Corona', 'V-Ray', 'None', '2024-11-27', 'Ney', 614, 35], attempt: 1\n",
      "Success: [118, '2024-12-14', 'Set of ceilings Armstrong and Grilyato', 'https://3dsky.org/3dmodels/show/nabor_potolkov_armstrong_i_griliato_1', 'Other Models', 'Miscellaneous', '3dsMax 2013 + fbx', 'Corona', 'V-Ray', 'None', '2022-08-18', 'solomon5555', 434, 839], attempt: 1\n",
      "Success: [119, '2024-12-14', 'TV LED Samsung 70 \"', 'https://3dsky.org/3dmodels/show/televizor_led_samsung_70', 'Technology', 'TV', '3dsMax 2016 + obj', 'Corona', 'V-Ray', 'None', '2021-11-22', '3dominator', 39, 304], attempt: 1\n",
      "Success: [120, '2024-12-14', 'Wet asphalt with leaves. Autumn. Editable', 'https://3dsky.org/3dmodels/show/mokryi_asfalt_s_listiami_osen_redaktiruemyi', 'Architecture', 'Urban environment', '3dsMax 2020 + fbx', 'Corona', 'V-Ray', 'None', '2023-10-24', 'paz', 139, 477], attempt: 1\n"
     ]
    }
   ],
   "source": [
    "# Парсинг топа продаж 3dsky\n",
    "from selenium import webdriver\n",
    "from selenium.webdriver.common.by import By\n",
    "from selenium.webdriver.chrome.service import Service\n",
    "from selenium.webdriver.common.keys import Keys\n",
    "from selenium.webdriver.chrome.options import Options\n",
    "from datetime import datetime\n",
    "import time\n",
    "\n",
    "# Настройка Selenium\n",
    "chrome_options = Options()\n",
    "chrome_options.add_argument(\"--headless\")  # Запуск без интерфейса (опционально)\n",
    "chrome_options.add_argument(\"--disable-gpu\")\n",
    "chrome_options.add_argument(\"--window-size=1920,1080\")\n",
    "chrome_service = Service(\"C:\\\\Users\\\\mi_al\\\\Desktop\\\\chromedriver-win64\\\\chromedriver.exe\")  # Замените на путь к вашему ChromeDriver\n",
    "\n",
    "# Инициализация констант и переменных\n",
    "result = []                                                         # итоговый список\n",
    "maxpage = 2                                                         # сколько страниц топа грузим\n",
    "basic_url = \"https://3dsky.org/3dmodels?order=sell_rating&page=\"    # адрес (без номера страницы)\n",
    "pause_time = 5                                                      # время задержки на загрузку в сек\n",
    "page_size = 60                                                      # число моделей на странице\n",
    "attempts = 3                                                        # число попыток парсинга каждой модели\n",
    "basic_width = 4                                                     # количество параметров модели из топа\n",
    "full_width = 14                                                     # полное число параметров модели\n",
    "url_position = 3                                                    # на каком месте находится параметр url\n",
    "\n",
    "# Формируем список моделей\n",
    "for page in range(maxpage):\n",
    "    # Инициализация браузера\n",
    "    driver = webdriver.Chrome(service=chrome_service, options=chrome_options)\n",
    "    \n",
    "    url = basic_url + str(page + 1)\n",
    "    driver.get(url)\n",
    "\n",
    "    # Небольшая пауза для загрузки контента\n",
    "    time.sleep(pause_time)\n",
    "\n",
    "    # Парсинг данных\n",
    "    try:\n",
    "        # Получаем список моделей с заданной страницы топа\n",
    "        models = driver.find_elements(By.CSS_SELECTOR, \"div.model-title\")\n",
    "\n",
    "        for n, model in enumerate(models, 1):\n",
    "            # Извлечение данных\n",
    "            curdate = str(datetime.now().date())\n",
    "            title = model.find_element(By.TAG_NAME, \"a\").get_attribute(\"title\") if model.find_elements(By.TAG_NAME, \"a\") else \"No title\"\n",
    "            link = model.find_element(By.TAG_NAME, \"a\").get_attribute(\"href\") if model.find_elements(By.TAG_NAME, \"a\") else \"No link\"\n",
    "            #print(f\"Название: {title}, Ссылка: {link}\")\n",
    "            \n",
    "            # Формируем заготовку строки: номер строки, текущая дата, название модели, ссылка              \n",
    "            line_num = page*page_size + n\n",
    "            result.append([line_num, curdate, title, link])\n",
    "\n",
    "    finally:\n",
    "        # Закрытие браузера\n",
    "        driver.quit()\n",
    "\n",
    "#result = [result[i] for i in [1,2,4,8,11,32,33,45,47,48,59,67,82,83,84,85,91,113,114]]\n",
    "\n",
    "# В цикле по списку получаем подробную информацию по каждой модели\n",
    "for model in result:\n",
    "    for attempt in range(attempts):\n",
    "    \n",
    "        # Инициализация браузера\n",
    "        driver = webdriver.Chrome(service=chrome_service, options=chrome_options)\n",
    "        \n",
    "        # Открытие страницы конкретной модели\n",
    "        url = model[url_position]\n",
    "        driver.get(url)\n",
    "        \n",
    "        # Небольшая пауза для загрузки контента\n",
    "        time.sleep(pause_time)\n",
    "        \n",
    "        # Парсинг данных\n",
    "        try:\n",
    "            category = driver.find_elements(By.CSS_SELECTOR, \"body > app-root > app-model > app-base-wide > main > section.container.main-base-container > div.row.white-background > div.col-md-12.model-page-top.ng-tns-c55-0 > div.favourite-and-category.ng-tns-c55-0.ng-star-inserted > div:nth-child(1) > div.category.ng-tns-c55-0 > a > span\")\n",
    "            subcategory = driver.find_elements(By.CSS_SELECTOR, \"body > app-root > app-model > app-base-wide > main > section.container.main-base-container > div.row.white-background > div.col-md-12.model-page-top.ng-tns-c55-0 > div.favourite-and-category.ng-tns-c55-0.ng-star-inserted > div:nth-child(1) > div.subcategory.ng-tns-c55-0 > a > span\")\n",
    "            platform = driver.find_elements(By.CSS_SELECTOR, \"#info-desktop > div.model-info-block.ng-tns-c55-0 > table > tbody > tr:nth-child(1) > td:nth-child(2)\")\n",
    "            renders = driver.find_elements(By.CSS_SELECTOR, \"#info-desktop > div.model-info-block.ng-tns-c55-0 > table > tbody > tr:nth-child(2) > td:nth-child(2) > div\")\n",
    "            published = driver.find_elements(By.CSS_SELECTOR, \"#info-desktop > div.model-info-block.ng-tns-c55-0 > div.publication-date.ng-tns-c55-0.ng-star-inserted\")\n",
    "            username = driver.find_elements(By.CSS_SELECTOR, \"#info-desktop > div:nth-child(1) > div > div > a > div > div > div.model-user-name.ng-tns-c55-0\")\n",
    "            followers = driver.find_elements(By.CSS_SELECTOR, \"#info-desktop > div:nth-child(1) > div > div > a > div > div > div.model-subscribe-count.ng-tns-c55-0.ng-star-inserted\")\n",
    "            selected = driver.find_elements(By.CSS_SELECTOR, \"#info-desktop > div:nth-child(1) > div > div > div:nth-child(3) > div.price-block.ng-tns-c55-0.ng-star-inserted > div.bookmarks-block-wrapper-mobile.ng-tns-c55-0.ng-star-inserted > div > div\")\n",
    "            \n",
    "            # Добавляем полученные данные в строку: категория, подкатегория, платформа, рендер\n",
    "            if category:\n",
    "                model.append(category[0].text)\n",
    "            if subcategory:\n",
    "                model.append(subcategory[0].text)\n",
    "            if platform:\n",
    "                model.append(platform[0].text)\n",
    "            \n",
    "            if renders:\n",
    "                render_text = renders[0].text\n",
    "            if ('Corona' in render_text) and ('V-Ray' in render_text):\n",
    "                model.extend(['Corona','V-Ray','None'])\n",
    "            elif ('Corona' in render_text):\n",
    "                model.extend(['Corona','None','None'])\n",
    "            elif ('V-Ray' in render_text):\n",
    "                model.extend(['None','V-Ray','None'])\n",
    "            elif ('Standard' in render_text):\n",
    "                model.extend(['None','None','Standard'])\n",
    "            else:\n",
    "                model.extend(['None','None','None'])\n",
    "            \n",
    "            if published:\n",
    "                pub_date = \" \".join(str(published[0].text).split(\" \")[1:])\n",
    "                date_object = datetime.strptime(pub_date, \"%d %B %Y\")\n",
    "                formatted_date = date_object.strftime(\"%Y-%m-%d\")\n",
    "                model.append(formatted_date)\n",
    "            if username:\n",
    "                model.append(username[0].text)\n",
    "            if followers:\n",
    "                model.append(int(followers[0].text.split(\" \")[0]))\n",
    "            if selected:\n",
    "                selected_text = driver.execute_script(\"return arguments[0].innerText;\", selected[0])\n",
    "                model.append(int(selected_text.strip()))\n",
    "\n",
    "        finally:\n",
    "            # Закрытие браузера\n",
    "            driver.quit()\n",
    "            \n",
    "        # Проверяем, все ли параметры считались, и если нет, то пробуем ещё несколько раз\n",
    "        if len(model) == full_width:\n",
    "            print(f'Success: {model}, attempt: {attempt+1}')\n",
    "            break\n",
    "        else:\n",
    "            if attempt+1 == attempts:\n",
    "                print(f'Failed: {model}, attempt: {attempt+1}')\n",
    "            else:\n",
    "                print(f'Pending: {model}, attempt: {attempt+1}')\n",
    "                model = model[:basic_width]\n",
    "\n",
    "# Выводим результат для контроля\n",
    "# print(result)"
   ]
  },
  {
   "cell_type": "markdown",
   "metadata": {},
   "source": [
    "### Запись результатов парсинга в файл"
   ]
  },
  {
   "cell_type": "code",
   "execution_count": 29,
   "metadata": {},
   "outputs": [
    {
     "name": "stdout",
     "output_type": "stream",
     "text": [
      "Данные успешно сохранены в output.xlsx\n"
     ]
    }
   ],
   "source": [
    "# Добавляем результат в конец файла\n",
    "import pandas as pd\n",
    "file_path = \"output.xlsx\"\n",
    "\n",
    "# Чтение данных\n",
    "existing_data = pd.read_excel(file_path)\n",
    "\n",
    "# Преобразование текущих данных DataFrame\n",
    "new_data_df = pd.DataFrame(result[0:], columns=['N','Curdate','Title','Link','Category','Subcategory','Platform','Corona','V-Ray','Standard','Pubdate','Username','Followers','Selected'])\n",
    "\n",
    "# Конкатенация и запись результата в Excel\n",
    "updated_data = pd.concat([existing_data, new_data_df], ignore_index=True)\n",
    "updated_data.to_excel(file_path, index=False)\n",
    "\n",
    "# Выводим результат для контроля\n",
    "print(f\"Данные успешно сохранены в {file_path}\")\n"
   ]
  },
  {
   "cell_type": "code",
   "execution_count": 98,
   "metadata": {},
   "outputs": [
    {
     "name": "stdout",
     "output_type": "stream",
     "text": [
      "Corona\n"
     ]
    }
   ],
   "source": [
    "# Песочница для апробации парсинга конкретного элемента\n",
    "# Настройка Selenium\n",
    "chrome_options = Options()\n",
    "chrome_options.add_argument(\"--headless\")  # Запуск без интерфейса (опционально)\n",
    "chrome_options.add_argument(\"--disable-gpu\")\n",
    "chrome_options.add_argument(\"--window-size=1920,1080\")\n",
    "chrome_service = Service(\"C:\\\\Users\\\\mi_al\\\\Desktop\\\\chromedriver-win64\\\\chromedriver.exe\")  # Замените на путь к вашему ChromeDriver\n",
    "\n",
    "# Инициализация браузера\n",
    "driver = webdriver.Chrome(service=chrome_service, options=chrome_options)\n",
    "\n",
    "# Открытие сайта\n",
    "url = \"https://3dsky.org/3dmodels/show/kerns_tumba_divan_ru\"\n",
    "driver.get(url)\n",
    "\n",
    "# Небольшая пауза для загрузки контента\n",
    "time.sleep(5)  # Настройте задержку в зависимости от скорости интернета\n",
    "\n",
    "# Парсинг данных\n",
    "try:\n",
    "    # Пример: Найти все элементы с моделями (настройте селектор под сайт)\n",
    "    models = driver.find_elements(By.CSS_SELECTOR, \"#info-desktop > div.model-info-block.ng-tns-c55-0 > table > tbody > tr:nth-child(2) > td:nth-child(2) > div > div\")\n",
    "    print(models[1].text)\n",
    "    \n",
    "\n",
    "   \n",
    "    #published = str(models[0].text)\n",
    "\n",
    "finally:\n",
    "    # Закрытие браузера\n",
    "    driver.quit()"
   ]
  },
  {
   "cell_type": "markdown",
   "metadata": {},
   "source": [
    "## Анализ текущего топа\n",
    "В этом разделе анализируется только топ одного дня, без чтения данных из файла. Для анализа всего топа — см. 3ddd_analysis.ipynb."
   ]
  },
  {
   "cell_type": "code",
   "execution_count": null,
   "metadata": {},
   "outputs": [
    {
     "data": {
      "text/html": [
       "<div>\n",
       "<style scoped>\n",
       "    .dataframe tbody tr th:only-of-type {\n",
       "        vertical-align: middle;\n",
       "    }\n",
       "\n",
       "    .dataframe tbody tr th {\n",
       "        vertical-align: top;\n",
       "    }\n",
       "\n",
       "    .dataframe thead th {\n",
       "        text-align: right;\n",
       "    }\n",
       "</style>\n",
       "<table border=\"1\" class=\"dataframe\">\n",
       "  <thead>\n",
       "    <tr style=\"text-align: right;\">\n",
       "      <th></th>\n",
       "      <th>N</th>\n",
       "      <th>Curdate</th>\n",
       "      <th>Title</th>\n",
       "      <th>Link</th>\n",
       "      <th>Category</th>\n",
       "      <th>Subcategory</th>\n",
       "      <th>Platform</th>\n",
       "      <th>Corona</th>\n",
       "      <th>V-Ray</th>\n",
       "      <th>Standard</th>\n",
       "      <th>Pubdate</th>\n",
       "      <th>Username</th>\n",
       "      <th>Followers</th>\n",
       "      <th>Selected</th>\n",
       "      <th>Duration</th>\n",
       "    </tr>\n",
       "  </thead>\n",
       "  <tbody>\n",
       "    <tr>\n",
       "      <th>0</th>\n",
       "      <td>1</td>\n",
       "      <td>2024-12-11</td>\n",
       "      <td>Spruce</td>\n",
       "      <td>https://3dsky.org/3dmodels/show/spruce_6</td>\n",
       "      <td>Plants</td>\n",
       "      <td>Tree</td>\n",
       "      <td>3dsMax 2013 + fbx</td>\n",
       "      <td>Corona</td>\n",
       "      <td>V-Ray</td>\n",
       "      <td>None</td>\n",
       "      <td>2018-05-31</td>\n",
       "      <td>Istwood15</td>\n",
       "      <td>879.0</td>\n",
       "      <td>247.0</td>\n",
       "      <td>2386.0</td>\n",
       "    </tr>\n",
       "    <tr>\n",
       "      <th>1</th>\n",
       "      <td>2</td>\n",
       "      <td>2024-12-11</td>\n",
       "      <td>Christmas tree with fireplace 5</td>\n",
       "      <td>https://3dsky.org/3dmodels/show/novogodniaia_e...</td>\n",
       "      <td>Decoration</td>\n",
       "      <td>Other decorative objects</td>\n",
       "      <td>3dsMax 2016 + obj</td>\n",
       "      <td>Corona</td>\n",
       "      <td>None</td>\n",
       "      <td>None</td>\n",
       "      <td>2024-11-11</td>\n",
       "      <td>dofen</td>\n",
       "      <td>318.0</td>\n",
       "      <td>240.0</td>\n",
       "      <td>30.0</td>\n",
       "    </tr>\n",
       "    <tr>\n",
       "      <th>2</th>\n",
       "      <td>3</td>\n",
       "      <td>2024-12-11</td>\n",
       "      <td>Soho Home - Ferguson Table Lamp</td>\n",
       "      <td>https://3dsky.org/3dmodels/show/soho_home_ferg...</td>\n",
       "      <td>None</td>\n",
       "      <td>None</td>\n",
       "      <td>None</td>\n",
       "      <td>None</td>\n",
       "      <td>None</td>\n",
       "      <td>None</td>\n",
       "      <td>NaT</td>\n",
       "      <td>None</td>\n",
       "      <td>NaN</td>\n",
       "      <td>NaN</td>\n",
       "      <td>NaN</td>\n",
       "    </tr>\n",
       "    <tr>\n",
       "      <th>3</th>\n",
       "      <td>4</td>\n",
       "      <td>2024-12-11</td>\n",
       "      <td>AVE Vintage French Window</td>\n",
       "      <td>https://3dsky.org/3dmodels/show/ave_vintage_fr...</td>\n",
       "      <td>None</td>\n",
       "      <td>None</td>\n",
       "      <td>None</td>\n",
       "      <td>None</td>\n",
       "      <td>None</td>\n",
       "      <td>None</td>\n",
       "      <td>NaT</td>\n",
       "      <td>None</td>\n",
       "      <td>NaN</td>\n",
       "      <td>NaN</td>\n",
       "      <td>NaN</td>\n",
       "    </tr>\n",
       "    <tr>\n",
       "      <th>4</th>\n",
       "      <td>5</td>\n",
       "      <td>2024-12-11</td>\n",
       "      <td>Bantams</td>\n",
       "      <td>https://3dsky.org/3dmodels/show/banty</td>\n",
       "      <td>None</td>\n",
       "      <td>None</td>\n",
       "      <td>None</td>\n",
       "      <td>None</td>\n",
       "      <td>None</td>\n",
       "      <td>None</td>\n",
       "      <td>NaT</td>\n",
       "      <td>None</td>\n",
       "      <td>NaN</td>\n",
       "      <td>NaN</td>\n",
       "      <td>NaN</td>\n",
       "    </tr>\n",
       "    <tr>\n",
       "      <th>...</th>\n",
       "      <td>...</td>\n",
       "      <td>...</td>\n",
       "      <td>...</td>\n",
       "      <td>...</td>\n",
       "      <td>...</td>\n",
       "      <td>...</td>\n",
       "      <td>...</td>\n",
       "      <td>...</td>\n",
       "      <td>...</td>\n",
       "      <td>...</td>\n",
       "      <td>...</td>\n",
       "      <td>...</td>\n",
       "      <td>...</td>\n",
       "      <td>...</td>\n",
       "      <td>...</td>\n",
       "    </tr>\n",
       "    <tr>\n",
       "      <th>115</th>\n",
       "      <td>116</td>\n",
       "      <td>2024-12-11</td>\n",
       "      <td>Sofa Therm</td>\n",
       "      <td>https://3dsky.org/3dmodels/show/divan_term</td>\n",
       "      <td>None</td>\n",
       "      <td>None</td>\n",
       "      <td>None</td>\n",
       "      <td>None</td>\n",
       "      <td>None</td>\n",
       "      <td>None</td>\n",
       "      <td>NaT</td>\n",
       "      <td>None</td>\n",
       "      <td>NaN</td>\n",
       "      <td>NaN</td>\n",
       "      <td>NaN</td>\n",
       "    </tr>\n",
       "    <tr>\n",
       "      <th>116</th>\n",
       "      <td>117</td>\n",
       "      <td>2024-12-11</td>\n",
       "      <td>Volume Bed by One&amp;Home</td>\n",
       "      <td>https://3dsky.org/3dmodels/show/voluem_bed_by_...</td>\n",
       "      <td>None</td>\n",
       "      <td>None</td>\n",
       "      <td>None</td>\n",
       "      <td>None</td>\n",
       "      <td>None</td>\n",
       "      <td>None</td>\n",
       "      <td>NaT</td>\n",
       "      <td>None</td>\n",
       "      <td>NaN</td>\n",
       "      <td>NaN</td>\n",
       "      <td>NaN</td>\n",
       "    </tr>\n",
       "    <tr>\n",
       "      <th>117</th>\n",
       "      <td>118</td>\n",
       "      <td>2024-12-11</td>\n",
       "      <td>Green wooden snake on a branch</td>\n",
       "      <td>https://3dsky.org/3dmodels/show/zelionaia_dere...</td>\n",
       "      <td>None</td>\n",
       "      <td>None</td>\n",
       "      <td>None</td>\n",
       "      <td>None</td>\n",
       "      <td>None</td>\n",
       "      <td>None</td>\n",
       "      <td>NaT</td>\n",
       "      <td>None</td>\n",
       "      <td>NaN</td>\n",
       "      <td>NaN</td>\n",
       "      <td>NaN</td>\n",
       "    </tr>\n",
       "    <tr>\n",
       "      <th>118</th>\n",
       "      <td>119</td>\n",
       "      <td>2024-12-11</td>\n",
       "      <td>Set of low poly cars 2</td>\n",
       "      <td>https://3dsky.org/3dmodels/show/nabor_nizkopol...</td>\n",
       "      <td>None</td>\n",
       "      <td>None</td>\n",
       "      <td>None</td>\n",
       "      <td>None</td>\n",
       "      <td>None</td>\n",
       "      <td>None</td>\n",
       "      <td>NaT</td>\n",
       "      <td>None</td>\n",
       "      <td>NaN</td>\n",
       "      <td>NaN</td>\n",
       "      <td>NaN</td>\n",
       "    </tr>\n",
       "    <tr>\n",
       "      <th>119</th>\n",
       "      <td>120</td>\n",
       "      <td>2024-12-11</td>\n",
       "      <td>Photo Studio Kit</td>\n",
       "      <td>https://3dsky.org/3dmodels/show/photo_studio_kit</td>\n",
       "      <td>None</td>\n",
       "      <td>None</td>\n",
       "      <td>None</td>\n",
       "      <td>None</td>\n",
       "      <td>None</td>\n",
       "      <td>None</td>\n",
       "      <td>NaT</td>\n",
       "      <td>None</td>\n",
       "      <td>NaN</td>\n",
       "      <td>NaN</td>\n",
       "      <td>NaN</td>\n",
       "    </tr>\n",
       "  </tbody>\n",
       "</table>\n",
       "<p>120 rows × 15 columns</p>\n",
       "</div>"
      ],
      "text/plain": [
       "       N     Curdate                            Title  \\\n",
       "0      1  2024-12-11                           Spruce   \n",
       "1      2  2024-12-11  Christmas tree with fireplace 5   \n",
       "2      3  2024-12-11  Soho Home - Ferguson Table Lamp   \n",
       "3      4  2024-12-11        AVE Vintage French Window   \n",
       "4      5  2024-12-11                          Bantams   \n",
       "..   ...         ...                              ...   \n",
       "115  116  2024-12-11                       Sofa Therm   \n",
       "116  117  2024-12-11           Volume Bed by One&Home   \n",
       "117  118  2024-12-11   Green wooden snake on a branch   \n",
       "118  119  2024-12-11           Set of low poly cars 2   \n",
       "119  120  2024-12-11                 Photo Studio Kit   \n",
       "\n",
       "                                                  Link    Category  \\\n",
       "0             https://3dsky.org/3dmodels/show/spruce_6      Plants   \n",
       "1    https://3dsky.org/3dmodels/show/novogodniaia_e...  Decoration   \n",
       "2    https://3dsky.org/3dmodels/show/soho_home_ferg...        None   \n",
       "3    https://3dsky.org/3dmodels/show/ave_vintage_fr...        None   \n",
       "4                https://3dsky.org/3dmodels/show/banty        None   \n",
       "..                                                 ...         ...   \n",
       "115         https://3dsky.org/3dmodels/show/divan_term        None   \n",
       "116  https://3dsky.org/3dmodels/show/voluem_bed_by_...        None   \n",
       "117  https://3dsky.org/3dmodels/show/zelionaia_dere...        None   \n",
       "118  https://3dsky.org/3dmodels/show/nabor_nizkopol...        None   \n",
       "119   https://3dsky.org/3dmodels/show/photo_studio_kit        None   \n",
       "\n",
       "                  Subcategory           Platform  Corona  V-Ray Standard  \\\n",
       "0                        Tree  3dsMax 2013 + fbx  Corona  V-Ray     None   \n",
       "1    Other decorative objects  3dsMax 2016 + obj  Corona   None     None   \n",
       "2                        None               None    None   None     None   \n",
       "3                        None               None    None   None     None   \n",
       "4                        None               None    None   None     None   \n",
       "..                        ...                ...     ...    ...      ...   \n",
       "115                      None               None    None   None     None   \n",
       "116                      None               None    None   None     None   \n",
       "117                      None               None    None   None     None   \n",
       "118                      None               None    None   None     None   \n",
       "119                      None               None    None   None     None   \n",
       "\n",
       "       Pubdate   Username  Followers  Selected  Duration  \n",
       "0   2018-05-31  Istwood15      879.0     247.0    2386.0  \n",
       "1   2024-11-11      dofen      318.0     240.0      30.0  \n",
       "2          NaT       None        NaN       NaN       NaN  \n",
       "3          NaT       None        NaN       NaN       NaN  \n",
       "4          NaT       None        NaN       NaN       NaN  \n",
       "..         ...        ...        ...       ...       ...  \n",
       "115        NaT       None        NaN       NaN       NaN  \n",
       "116        NaT       None        NaN       NaN       NaN  \n",
       "117        NaT       None        NaN       NaN       NaN  \n",
       "118        NaT       None        NaN       NaN       NaN  \n",
       "119        NaT       None        NaN       NaN       NaN  \n",
       "\n",
       "[120 rows x 15 columns]"
      ]
     },
     "metadata": {},
     "output_type": "display_data"
    }
   ],
   "source": [
    "# Анализ текущего топа (без чтения из файла)\n",
    "import pandas as pd\n",
    "import plotly.express as px\n",
    "\n",
    "result_vis = pd.DataFrame(result, columns=['N','Curdate','Title','Link','Category','Subcategory','Platform','Corona','V-Ray','Standard','Pubdate','Username','Followers','Selected'])\n",
    "result_vis['Pubdate'] = pd.to_datetime(result_vis['Pubdate'])\n",
    "#result_vis.drop('N', axis=1, inplace=True)\n",
    "\n",
    "current_date = datetime.now()\n",
    "result_vis['Duration'] = (current_date - result_vis['Pubdate']).dt.days\n",
    "\n",
    "display(result_vis.head())"
   ]
  },
  {
   "cell_type": "code",
   "execution_count": 231,
   "metadata": {},
   "outputs": [
    {
     "data": {
      "application/vnd.plotly.v1+json": {
       "config": {
        "plotlyServerURL": "https://plot.ly"
       },
       "data": [
        {
         "alignmentgroup": "True",
         "hovertemplate": "Category=%{x}<br>Count=%{y}<extra></extra>",
         "legendgroup": "",
         "marker": {
          "color": "#636efa",
          "pattern": {
           "shape": ""
          }
         },
         "name": "",
         "offsetgroup": "",
         "orientation": "v",
         "showlegend": false,
         "textposition": "auto",
         "type": "bar",
         "x": [
          "Decoration",
          "Furniture",
          "Bathroom",
          "Other Models",
          "Kitchen",
          "Childroom",
          "Materials",
          "Plants",
          "Textures",
          "Lighting",
          "Architecture",
          "Technology",
          "Scripts"
         ],
         "xaxis": "x",
         "y": [
          27,
          26,
          15,
          12,
          9,
          6,
          6,
          6,
          5,
          3,
          2,
          2,
          1
         ],
         "yaxis": "y"
        }
       ],
       "layout": {
        "barmode": "relative",
        "legend": {
         "tracegroupgap": 0
        },
        "template": {
         "data": {
          "bar": [
           {
            "error_x": {
             "color": "#2a3f5f"
            },
            "error_y": {
             "color": "#2a3f5f"
            },
            "marker": {
             "line": {
              "color": "#E5ECF6",
              "width": 0.5
             },
             "pattern": {
              "fillmode": "overlay",
              "size": 10,
              "solidity": 0.2
             }
            },
            "type": "bar"
           }
          ],
          "barpolar": [
           {
            "marker": {
             "line": {
              "color": "#E5ECF6",
              "width": 0.5
             },
             "pattern": {
              "fillmode": "overlay",
              "size": 10,
              "solidity": 0.2
             }
            },
            "type": "barpolar"
           }
          ],
          "carpet": [
           {
            "aaxis": {
             "endlinecolor": "#2a3f5f",
             "gridcolor": "white",
             "linecolor": "white",
             "minorgridcolor": "white",
             "startlinecolor": "#2a3f5f"
            },
            "baxis": {
             "endlinecolor": "#2a3f5f",
             "gridcolor": "white",
             "linecolor": "white",
             "minorgridcolor": "white",
             "startlinecolor": "#2a3f5f"
            },
            "type": "carpet"
           }
          ],
          "choropleth": [
           {
            "colorbar": {
             "outlinewidth": 0,
             "ticks": ""
            },
            "type": "choropleth"
           }
          ],
          "contour": [
           {
            "colorbar": {
             "outlinewidth": 0,
             "ticks": ""
            },
            "colorscale": [
             [
              0,
              "#0d0887"
             ],
             [
              0.1111111111111111,
              "#46039f"
             ],
             [
              0.2222222222222222,
              "#7201a8"
             ],
             [
              0.3333333333333333,
              "#9c179e"
             ],
             [
              0.4444444444444444,
              "#bd3786"
             ],
             [
              0.5555555555555556,
              "#d8576b"
             ],
             [
              0.6666666666666666,
              "#ed7953"
             ],
             [
              0.7777777777777778,
              "#fb9f3a"
             ],
             [
              0.8888888888888888,
              "#fdca26"
             ],
             [
              1,
              "#f0f921"
             ]
            ],
            "type": "contour"
           }
          ],
          "contourcarpet": [
           {
            "colorbar": {
             "outlinewidth": 0,
             "ticks": ""
            },
            "type": "contourcarpet"
           }
          ],
          "heatmap": [
           {
            "colorbar": {
             "outlinewidth": 0,
             "ticks": ""
            },
            "colorscale": [
             [
              0,
              "#0d0887"
             ],
             [
              0.1111111111111111,
              "#46039f"
             ],
             [
              0.2222222222222222,
              "#7201a8"
             ],
             [
              0.3333333333333333,
              "#9c179e"
             ],
             [
              0.4444444444444444,
              "#bd3786"
             ],
             [
              0.5555555555555556,
              "#d8576b"
             ],
             [
              0.6666666666666666,
              "#ed7953"
             ],
             [
              0.7777777777777778,
              "#fb9f3a"
             ],
             [
              0.8888888888888888,
              "#fdca26"
             ],
             [
              1,
              "#f0f921"
             ]
            ],
            "type": "heatmap"
           }
          ],
          "heatmapgl": [
           {
            "colorbar": {
             "outlinewidth": 0,
             "ticks": ""
            },
            "colorscale": [
             [
              0,
              "#0d0887"
             ],
             [
              0.1111111111111111,
              "#46039f"
             ],
             [
              0.2222222222222222,
              "#7201a8"
             ],
             [
              0.3333333333333333,
              "#9c179e"
             ],
             [
              0.4444444444444444,
              "#bd3786"
             ],
             [
              0.5555555555555556,
              "#d8576b"
             ],
             [
              0.6666666666666666,
              "#ed7953"
             ],
             [
              0.7777777777777778,
              "#fb9f3a"
             ],
             [
              0.8888888888888888,
              "#fdca26"
             ],
             [
              1,
              "#f0f921"
             ]
            ],
            "type": "heatmapgl"
           }
          ],
          "histogram": [
           {
            "marker": {
             "pattern": {
              "fillmode": "overlay",
              "size": 10,
              "solidity": 0.2
             }
            },
            "type": "histogram"
           }
          ],
          "histogram2d": [
           {
            "colorbar": {
             "outlinewidth": 0,
             "ticks": ""
            },
            "colorscale": [
             [
              0,
              "#0d0887"
             ],
             [
              0.1111111111111111,
              "#46039f"
             ],
             [
              0.2222222222222222,
              "#7201a8"
             ],
             [
              0.3333333333333333,
              "#9c179e"
             ],
             [
              0.4444444444444444,
              "#bd3786"
             ],
             [
              0.5555555555555556,
              "#d8576b"
             ],
             [
              0.6666666666666666,
              "#ed7953"
             ],
             [
              0.7777777777777778,
              "#fb9f3a"
             ],
             [
              0.8888888888888888,
              "#fdca26"
             ],
             [
              1,
              "#f0f921"
             ]
            ],
            "type": "histogram2d"
           }
          ],
          "histogram2dcontour": [
           {
            "colorbar": {
             "outlinewidth": 0,
             "ticks": ""
            },
            "colorscale": [
             [
              0,
              "#0d0887"
             ],
             [
              0.1111111111111111,
              "#46039f"
             ],
             [
              0.2222222222222222,
              "#7201a8"
             ],
             [
              0.3333333333333333,
              "#9c179e"
             ],
             [
              0.4444444444444444,
              "#bd3786"
             ],
             [
              0.5555555555555556,
              "#d8576b"
             ],
             [
              0.6666666666666666,
              "#ed7953"
             ],
             [
              0.7777777777777778,
              "#fb9f3a"
             ],
             [
              0.8888888888888888,
              "#fdca26"
             ],
             [
              1,
              "#f0f921"
             ]
            ],
            "type": "histogram2dcontour"
           }
          ],
          "mesh3d": [
           {
            "colorbar": {
             "outlinewidth": 0,
             "ticks": ""
            },
            "type": "mesh3d"
           }
          ],
          "parcoords": [
           {
            "line": {
             "colorbar": {
              "outlinewidth": 0,
              "ticks": ""
             }
            },
            "type": "parcoords"
           }
          ],
          "pie": [
           {
            "automargin": true,
            "type": "pie"
           }
          ],
          "scatter": [
           {
            "fillpattern": {
             "fillmode": "overlay",
             "size": 10,
             "solidity": 0.2
            },
            "type": "scatter"
           }
          ],
          "scatter3d": [
           {
            "line": {
             "colorbar": {
              "outlinewidth": 0,
              "ticks": ""
             }
            },
            "marker": {
             "colorbar": {
              "outlinewidth": 0,
              "ticks": ""
             }
            },
            "type": "scatter3d"
           }
          ],
          "scattercarpet": [
           {
            "marker": {
             "colorbar": {
              "outlinewidth": 0,
              "ticks": ""
             }
            },
            "type": "scattercarpet"
           }
          ],
          "scattergeo": [
           {
            "marker": {
             "colorbar": {
              "outlinewidth": 0,
              "ticks": ""
             }
            },
            "type": "scattergeo"
           }
          ],
          "scattergl": [
           {
            "marker": {
             "colorbar": {
              "outlinewidth": 0,
              "ticks": ""
             }
            },
            "type": "scattergl"
           }
          ],
          "scattermapbox": [
           {
            "marker": {
             "colorbar": {
              "outlinewidth": 0,
              "ticks": ""
             }
            },
            "type": "scattermapbox"
           }
          ],
          "scatterpolar": [
           {
            "marker": {
             "colorbar": {
              "outlinewidth": 0,
              "ticks": ""
             }
            },
            "type": "scatterpolar"
           }
          ],
          "scatterpolargl": [
           {
            "marker": {
             "colorbar": {
              "outlinewidth": 0,
              "ticks": ""
             }
            },
            "type": "scatterpolargl"
           }
          ],
          "scatterternary": [
           {
            "marker": {
             "colorbar": {
              "outlinewidth": 0,
              "ticks": ""
             }
            },
            "type": "scatterternary"
           }
          ],
          "surface": [
           {
            "colorbar": {
             "outlinewidth": 0,
             "ticks": ""
            },
            "colorscale": [
             [
              0,
              "#0d0887"
             ],
             [
              0.1111111111111111,
              "#46039f"
             ],
             [
              0.2222222222222222,
              "#7201a8"
             ],
             [
              0.3333333333333333,
              "#9c179e"
             ],
             [
              0.4444444444444444,
              "#bd3786"
             ],
             [
              0.5555555555555556,
              "#d8576b"
             ],
             [
              0.6666666666666666,
              "#ed7953"
             ],
             [
              0.7777777777777778,
              "#fb9f3a"
             ],
             [
              0.8888888888888888,
              "#fdca26"
             ],
             [
              1,
              "#f0f921"
             ]
            ],
            "type": "surface"
           }
          ],
          "table": [
           {
            "cells": {
             "fill": {
              "color": "#EBF0F8"
             },
             "line": {
              "color": "white"
             }
            },
            "header": {
             "fill": {
              "color": "#C8D4E3"
             },
             "line": {
              "color": "white"
             }
            },
            "type": "table"
           }
          ]
         },
         "layout": {
          "annotationdefaults": {
           "arrowcolor": "#2a3f5f",
           "arrowhead": 0,
           "arrowwidth": 1
          },
          "autotypenumbers": "strict",
          "coloraxis": {
           "colorbar": {
            "outlinewidth": 0,
            "ticks": ""
           }
          },
          "colorscale": {
           "diverging": [
            [
             0,
             "#8e0152"
            ],
            [
             0.1,
             "#c51b7d"
            ],
            [
             0.2,
             "#de77ae"
            ],
            [
             0.3,
             "#f1b6da"
            ],
            [
             0.4,
             "#fde0ef"
            ],
            [
             0.5,
             "#f7f7f7"
            ],
            [
             0.6,
             "#e6f5d0"
            ],
            [
             0.7,
             "#b8e186"
            ],
            [
             0.8,
             "#7fbc41"
            ],
            [
             0.9,
             "#4d9221"
            ],
            [
             1,
             "#276419"
            ]
           ],
           "sequential": [
            [
             0,
             "#0d0887"
            ],
            [
             0.1111111111111111,
             "#46039f"
            ],
            [
             0.2222222222222222,
             "#7201a8"
            ],
            [
             0.3333333333333333,
             "#9c179e"
            ],
            [
             0.4444444444444444,
             "#bd3786"
            ],
            [
             0.5555555555555556,
             "#d8576b"
            ],
            [
             0.6666666666666666,
             "#ed7953"
            ],
            [
             0.7777777777777778,
             "#fb9f3a"
            ],
            [
             0.8888888888888888,
             "#fdca26"
            ],
            [
             1,
             "#f0f921"
            ]
           ],
           "sequentialminus": [
            [
             0,
             "#0d0887"
            ],
            [
             0.1111111111111111,
             "#46039f"
            ],
            [
             0.2222222222222222,
             "#7201a8"
            ],
            [
             0.3333333333333333,
             "#9c179e"
            ],
            [
             0.4444444444444444,
             "#bd3786"
            ],
            [
             0.5555555555555556,
             "#d8576b"
            ],
            [
             0.6666666666666666,
             "#ed7953"
            ],
            [
             0.7777777777777778,
             "#fb9f3a"
            ],
            [
             0.8888888888888888,
             "#fdca26"
            ],
            [
             1,
             "#f0f921"
            ]
           ]
          },
          "colorway": [
           "#636efa",
           "#EF553B",
           "#00cc96",
           "#ab63fa",
           "#FFA15A",
           "#19d3f3",
           "#FF6692",
           "#B6E880",
           "#FF97FF",
           "#FECB52"
          ],
          "font": {
           "color": "#2a3f5f"
          },
          "geo": {
           "bgcolor": "white",
           "lakecolor": "white",
           "landcolor": "#E5ECF6",
           "showlakes": true,
           "showland": true,
           "subunitcolor": "white"
          },
          "hoverlabel": {
           "align": "left"
          },
          "hovermode": "closest",
          "mapbox": {
           "style": "light"
          },
          "paper_bgcolor": "white",
          "plot_bgcolor": "#E5ECF6",
          "polar": {
           "angularaxis": {
            "gridcolor": "white",
            "linecolor": "white",
            "ticks": ""
           },
           "bgcolor": "#E5ECF6",
           "radialaxis": {
            "gridcolor": "white",
            "linecolor": "white",
            "ticks": ""
           }
          },
          "scene": {
           "xaxis": {
            "backgroundcolor": "#E5ECF6",
            "gridcolor": "white",
            "gridwidth": 2,
            "linecolor": "white",
            "showbackground": true,
            "ticks": "",
            "zerolinecolor": "white"
           },
           "yaxis": {
            "backgroundcolor": "#E5ECF6",
            "gridcolor": "white",
            "gridwidth": 2,
            "linecolor": "white",
            "showbackground": true,
            "ticks": "",
            "zerolinecolor": "white"
           },
           "zaxis": {
            "backgroundcolor": "#E5ECF6",
            "gridcolor": "white",
            "gridwidth": 2,
            "linecolor": "white",
            "showbackground": true,
            "ticks": "",
            "zerolinecolor": "white"
           }
          },
          "shapedefaults": {
           "line": {
            "color": "#2a3f5f"
           }
          },
          "ternary": {
           "aaxis": {
            "gridcolor": "white",
            "linecolor": "white",
            "ticks": ""
           },
           "baxis": {
            "gridcolor": "white",
            "linecolor": "white",
            "ticks": ""
           },
           "bgcolor": "#E5ECF6",
           "caxis": {
            "gridcolor": "white",
            "linecolor": "white",
            "ticks": ""
           }
          },
          "title": {
           "x": 0.05
          },
          "xaxis": {
           "automargin": true,
           "gridcolor": "white",
           "linecolor": "white",
           "ticks": "",
           "title": {
            "standoff": 15
           },
           "zerolinecolor": "white",
           "zerolinewidth": 2
          },
          "yaxis": {
           "automargin": true,
           "gridcolor": "white",
           "linecolor": "white",
           "ticks": "",
           "title": {
            "standoff": 15
           },
           "zerolinecolor": "white",
           "zerolinewidth": 2
          }
         }
        },
        "title": {
         "text": "Top 120 Count by Category"
        },
        "xaxis": {
         "anchor": "y",
         "domain": [
          0,
          1
         ],
         "title": {
          "text": "Category"
         }
        },
        "yaxis": {
         "anchor": "x",
         "domain": [
          0,
          1
         ],
         "title": {
          "text": "Count"
         }
        }
       }
      }
     },
     "metadata": {},
     "output_type": "display_data"
    }
   ],
   "source": [
    "result_grouped_cat = result_vis.groupby(by=['Category'], as_index=False).size()\n",
    "result_grouped_cat.columns = ['Category', 'Count']\n",
    "result_grouped_sort = result_grouped_cat.sort_values(by='Count', ascending=False) # type: ignore\n",
    "\n",
    "fig1 = px.bar(result_grouped_sort, x='Category', y='Count', title='Top 120 Count by Category')\n",
    "fig1.show()"
   ]
  },
  {
   "cell_type": "code",
   "execution_count": 232,
   "metadata": {},
   "outputs": [
    {
     "data": {
      "application/vnd.plotly.v1+json": {
       "config": {
        "plotlyServerURL": "https://plot.ly"
       },
       "data": [
        {
         "alignmentgroup": "True",
         "hovertemplate": "Category=Decoration<br>Subcategory=%{x}<br>Count=%{y}<extra></extra>",
         "legendgroup": "Decoration",
         "marker": {
          "color": "#636efa",
          "pattern": {
           "shape": ""
          }
         },
         "name": "Decoration",
         "offsetgroup": "Decoration",
         "orientation": "v",
         "showlegend": true,
         "textposition": "auto",
         "type": "bar",
         "x": [
          "Other decorative objects",
          "Decorative set",
          "Curtain",
          "Carpets",
          "Clothes",
          "Frame",
          "Sculpture",
          "Vase"
         ],
         "xaxis": "x",
         "y": [
          7,
          6,
          5,
          4,
          2,
          1,
          1,
          1
         ],
         "yaxis": "y"
        },
        {
         "alignmentgroup": "True",
         "hovertemplate": "Category=Bathroom<br>Subcategory=%{x}<br>Count=%{y}<extra></extra>",
         "legendgroup": "Bathroom",
         "marker": {
          "color": "#EF553B",
          "pattern": {
           "shape": ""
          }
         },
         "name": "Bathroom",
         "offsetgroup": "Bathroom",
         "orientation": "v",
         "showlegend": true,
         "textposition": "auto",
         "type": "bar",
         "x": [
          "Bathroom accessories",
          "Faucet",
          "Bathroom furniture",
          "Towel rail",
          "Toilet and Bidet",
          "Bathtub"
         ],
         "xaxis": "x",
         "y": [
          6,
          4,
          2,
          1,
          1,
          1
         ],
         "yaxis": "y"
        },
        {
         "alignmentgroup": "True",
         "hovertemplate": "Category=Furniture<br>Subcategory=%{x}<br>Count=%{y}<extra></extra>",
         "legendgroup": "Furniture",
         "marker": {
          "color": "#00cc96",
          "pattern": {
           "shape": ""
          }
         },
         "name": "Furniture",
         "offsetgroup": "Furniture",
         "orientation": "v",
         "showlegend": true,
         "textposition": "auto",
         "type": "bar",
         "x": [
          "Wardrobe & Display cabinets",
          "Office furniture",
          "Sideboard & Chest of drawer",
          "Rack",
          "TV Wall",
          "Table",
          "Bed",
          "Other",
          "Arm chair",
          "Other soft seating",
          "Table + Chair",
          "Chair"
         ],
         "xaxis": "x",
         "y": [
          5,
          3,
          3,
          2,
          2,
          2,
          2,
          2,
          2,
          1,
          1,
          1
         ],
         "yaxis": "y"
        },
        {
         "alignmentgroup": "True",
         "hovertemplate": "Category=Kitchen<br>Subcategory=%{x}<br>Count=%{y}<extra></extra>",
         "legendgroup": "Kitchen",
         "marker": {
          "color": "#ab63fa",
          "pattern": {
           "shape": ""
          }
         },
         "name": "Kitchen",
         "offsetgroup": "Kitchen",
         "orientation": "v",
         "showlegend": true,
         "textposition": "auto",
         "type": "bar",
         "x": [
          "Kitchen",
          "Tableware",
          "Sink",
          "Food and drinks"
         ],
         "xaxis": "x",
         "y": [
          5,
          2,
          1,
          1
         ],
         "yaxis": "y"
        },
        {
         "alignmentgroup": "True",
         "hovertemplate": "Category=Materials<br>Subcategory=%{x}<br>Count=%{y}<extra></extra>",
         "legendgroup": "Materials",
         "marker": {
          "color": "#FFA15A",
          "pattern": {
           "shape": ""
          }
         },
         "name": "Materials",
         "offsetgroup": "Materials",
         "orientation": "v",
         "showlegend": true,
         "textposition": "auto",
         "type": "bar",
         "x": [
          "Miscellaneous",
          "Tile",
          "Metal"
         ],
         "xaxis": "x",
         "y": [
          4,
          1,
          1
         ],
         "yaxis": "y"
        },
        {
         "alignmentgroup": "True",
         "hovertemplate": "Category=Childroom<br>Subcategory=%{x}<br>Count=%{y}<extra></extra>",
         "legendgroup": "Childroom",
         "marker": {
          "color": "#19d3f3",
          "pattern": {
           "shape": ""
          }
         },
         "name": "Childroom",
         "offsetgroup": "Childroom",
         "orientation": "v",
         "showlegend": true,
         "textposition": "auto",
         "type": "bar",
         "x": [
          "Miscellaneous",
          "Bed",
          "Wardrobe"
         ],
         "xaxis": "x",
         "y": [
          4,
          1,
          1
         ],
         "yaxis": "y"
        },
        {
         "alignmentgroup": "True",
         "hovertemplate": "Category=Other Models<br>Subcategory=%{x}<br>Count=%{y}<extra></extra>",
         "legendgroup": "Other Models",
         "marker": {
          "color": "#FF6692",
          "pattern": {
           "shape": ""
          }
         },
         "name": "Other Models",
         "offsetgroup": "Other Models",
         "orientation": "v",
         "showlegend": true,
         "textposition": "auto",
         "type": "bar",
         "x": [
          "Miscellaneous",
          "Restaurant",
          "Sports",
          "Transport",
          "Musical instrument",
          "Doors"
         ],
         "xaxis": "x",
         "y": [
          3,
          3,
          3,
          1,
          1,
          1
         ],
         "yaxis": "y"
        },
        {
         "alignmentgroup": "True",
         "hovertemplate": "Category=Textures<br>Subcategory=%{x}<br>Count=%{y}<extra></extra>",
         "legendgroup": "Textures",
         "marker": {
          "color": "#B6E880",
          "pattern": {
           "shape": ""
          }
         },
         "name": "Textures",
         "offsetgroup": "Textures",
         "orientation": "v",
         "showlegend": true,
         "textposition": "auto",
         "type": "bar",
         "x": [
          "Floor coverings",
          "Tile"
         ],
         "xaxis": "x",
         "y": [
          3,
          2
         ],
         "yaxis": "y"
        },
        {
         "alignmentgroup": "True",
         "hovertemplate": "Category=Lighting<br>Subcategory=%{x}<br>Count=%{y}<extra></extra>",
         "legendgroup": "Lighting",
         "marker": {
          "color": "#FF97FF",
          "pattern": {
           "shape": ""
          }
         },
         "name": "Lighting",
         "offsetgroup": "Lighting",
         "orientation": "v",
         "showlegend": true,
         "textposition": "auto",
         "type": "bar",
         "x": [
          "Pendant light",
          "Technical lighting"
         ],
         "xaxis": "x",
         "y": [
          2,
          1
         ],
         "yaxis": "y"
        },
        {
         "alignmentgroup": "True",
         "hovertemplate": "Category=Plants<br>Subcategory=%{x}<br>Count=%{y}<extra></extra>",
         "legendgroup": "Plants",
         "marker": {
          "color": "#FECB52",
          "pattern": {
           "shape": ""
          }
         },
         "name": "Plants",
         "offsetgroup": "Plants",
         "orientation": "v",
         "showlegend": true,
         "textposition": "auto",
         "type": "bar",
         "x": [
          "Bouquet",
          "Indoor",
          "Grass",
          "Tree"
         ],
         "xaxis": "x",
         "y": [
          2,
          2,
          1,
          1
         ],
         "yaxis": "y"
        },
        {
         "alignmentgroup": "True",
         "hovertemplate": "Category=Architecture<br>Subcategory=%{x}<br>Count=%{y}<extra></extra>",
         "legendgroup": "Architecture",
         "marker": {
          "color": "#636efa",
          "pattern": {
           "shape": ""
          }
         },
         "name": "Architecture",
         "offsetgroup": "Architecture",
         "orientation": "v",
         "showlegend": true,
         "textposition": "auto",
         "type": "bar",
         "x": [
          "Urban environment"
         ],
         "xaxis": "x",
         "y": [
          2
         ],
         "yaxis": "y"
        },
        {
         "alignmentgroup": "True",
         "hovertemplate": "Category=Scripts<br>Subcategory=%{x}<br>Count=%{y}<extra></extra>",
         "legendgroup": "Scripts",
         "marker": {
          "color": "#EF553B",
          "pattern": {
           "shape": ""
          }
         },
         "name": "Scripts",
         "offsetgroup": "Scripts",
         "orientation": "v",
         "showlegend": true,
         "textposition": "auto",
         "type": "bar",
         "x": [
          "Scripts"
         ],
         "xaxis": "x",
         "y": [
          1
         ],
         "yaxis": "y"
        },
        {
         "alignmentgroup": "True",
         "hovertemplate": "Category=Technology<br>Subcategory=%{x}<br>Count=%{y}<extra></extra>",
         "legendgroup": "Technology",
         "marker": {
          "color": "#00cc96",
          "pattern": {
           "shape": ""
          }
         },
         "name": "Technology",
         "offsetgroup": "Technology",
         "orientation": "v",
         "showlegend": true,
         "textposition": "auto",
         "type": "bar",
         "x": [
          "Household appliance",
          "PC & other electronics"
         ],
         "xaxis": "x",
         "y": [
          1,
          1
         ],
         "yaxis": "y"
        }
       ],
       "layout": {
        "barmode": "relative",
        "legend": {
         "title": {
          "text": "Category"
         },
         "tracegroupgap": 0
        },
        "template": {
         "data": {
          "bar": [
           {
            "error_x": {
             "color": "#2a3f5f"
            },
            "error_y": {
             "color": "#2a3f5f"
            },
            "marker": {
             "line": {
              "color": "#E5ECF6",
              "width": 0.5
             },
             "pattern": {
              "fillmode": "overlay",
              "size": 10,
              "solidity": 0.2
             }
            },
            "type": "bar"
           }
          ],
          "barpolar": [
           {
            "marker": {
             "line": {
              "color": "#E5ECF6",
              "width": 0.5
             },
             "pattern": {
              "fillmode": "overlay",
              "size": 10,
              "solidity": 0.2
             }
            },
            "type": "barpolar"
           }
          ],
          "carpet": [
           {
            "aaxis": {
             "endlinecolor": "#2a3f5f",
             "gridcolor": "white",
             "linecolor": "white",
             "minorgridcolor": "white",
             "startlinecolor": "#2a3f5f"
            },
            "baxis": {
             "endlinecolor": "#2a3f5f",
             "gridcolor": "white",
             "linecolor": "white",
             "minorgridcolor": "white",
             "startlinecolor": "#2a3f5f"
            },
            "type": "carpet"
           }
          ],
          "choropleth": [
           {
            "colorbar": {
             "outlinewidth": 0,
             "ticks": ""
            },
            "type": "choropleth"
           }
          ],
          "contour": [
           {
            "colorbar": {
             "outlinewidth": 0,
             "ticks": ""
            },
            "colorscale": [
             [
              0,
              "#0d0887"
             ],
             [
              0.1111111111111111,
              "#46039f"
             ],
             [
              0.2222222222222222,
              "#7201a8"
             ],
             [
              0.3333333333333333,
              "#9c179e"
             ],
             [
              0.4444444444444444,
              "#bd3786"
             ],
             [
              0.5555555555555556,
              "#d8576b"
             ],
             [
              0.6666666666666666,
              "#ed7953"
             ],
             [
              0.7777777777777778,
              "#fb9f3a"
             ],
             [
              0.8888888888888888,
              "#fdca26"
             ],
             [
              1,
              "#f0f921"
             ]
            ],
            "type": "contour"
           }
          ],
          "contourcarpet": [
           {
            "colorbar": {
             "outlinewidth": 0,
             "ticks": ""
            },
            "type": "contourcarpet"
           }
          ],
          "heatmap": [
           {
            "colorbar": {
             "outlinewidth": 0,
             "ticks": ""
            },
            "colorscale": [
             [
              0,
              "#0d0887"
             ],
             [
              0.1111111111111111,
              "#46039f"
             ],
             [
              0.2222222222222222,
              "#7201a8"
             ],
             [
              0.3333333333333333,
              "#9c179e"
             ],
             [
              0.4444444444444444,
              "#bd3786"
             ],
             [
              0.5555555555555556,
              "#d8576b"
             ],
             [
              0.6666666666666666,
              "#ed7953"
             ],
             [
              0.7777777777777778,
              "#fb9f3a"
             ],
             [
              0.8888888888888888,
              "#fdca26"
             ],
             [
              1,
              "#f0f921"
             ]
            ],
            "type": "heatmap"
           }
          ],
          "heatmapgl": [
           {
            "colorbar": {
             "outlinewidth": 0,
             "ticks": ""
            },
            "colorscale": [
             [
              0,
              "#0d0887"
             ],
             [
              0.1111111111111111,
              "#46039f"
             ],
             [
              0.2222222222222222,
              "#7201a8"
             ],
             [
              0.3333333333333333,
              "#9c179e"
             ],
             [
              0.4444444444444444,
              "#bd3786"
             ],
             [
              0.5555555555555556,
              "#d8576b"
             ],
             [
              0.6666666666666666,
              "#ed7953"
             ],
             [
              0.7777777777777778,
              "#fb9f3a"
             ],
             [
              0.8888888888888888,
              "#fdca26"
             ],
             [
              1,
              "#f0f921"
             ]
            ],
            "type": "heatmapgl"
           }
          ],
          "histogram": [
           {
            "marker": {
             "pattern": {
              "fillmode": "overlay",
              "size": 10,
              "solidity": 0.2
             }
            },
            "type": "histogram"
           }
          ],
          "histogram2d": [
           {
            "colorbar": {
             "outlinewidth": 0,
             "ticks": ""
            },
            "colorscale": [
             [
              0,
              "#0d0887"
             ],
             [
              0.1111111111111111,
              "#46039f"
             ],
             [
              0.2222222222222222,
              "#7201a8"
             ],
             [
              0.3333333333333333,
              "#9c179e"
             ],
             [
              0.4444444444444444,
              "#bd3786"
             ],
             [
              0.5555555555555556,
              "#d8576b"
             ],
             [
              0.6666666666666666,
              "#ed7953"
             ],
             [
              0.7777777777777778,
              "#fb9f3a"
             ],
             [
              0.8888888888888888,
              "#fdca26"
             ],
             [
              1,
              "#f0f921"
             ]
            ],
            "type": "histogram2d"
           }
          ],
          "histogram2dcontour": [
           {
            "colorbar": {
             "outlinewidth": 0,
             "ticks": ""
            },
            "colorscale": [
             [
              0,
              "#0d0887"
             ],
             [
              0.1111111111111111,
              "#46039f"
             ],
             [
              0.2222222222222222,
              "#7201a8"
             ],
             [
              0.3333333333333333,
              "#9c179e"
             ],
             [
              0.4444444444444444,
              "#bd3786"
             ],
             [
              0.5555555555555556,
              "#d8576b"
             ],
             [
              0.6666666666666666,
              "#ed7953"
             ],
             [
              0.7777777777777778,
              "#fb9f3a"
             ],
             [
              0.8888888888888888,
              "#fdca26"
             ],
             [
              1,
              "#f0f921"
             ]
            ],
            "type": "histogram2dcontour"
           }
          ],
          "mesh3d": [
           {
            "colorbar": {
             "outlinewidth": 0,
             "ticks": ""
            },
            "type": "mesh3d"
           }
          ],
          "parcoords": [
           {
            "line": {
             "colorbar": {
              "outlinewidth": 0,
              "ticks": ""
             }
            },
            "type": "parcoords"
           }
          ],
          "pie": [
           {
            "automargin": true,
            "type": "pie"
           }
          ],
          "scatter": [
           {
            "fillpattern": {
             "fillmode": "overlay",
             "size": 10,
             "solidity": 0.2
            },
            "type": "scatter"
           }
          ],
          "scatter3d": [
           {
            "line": {
             "colorbar": {
              "outlinewidth": 0,
              "ticks": ""
             }
            },
            "marker": {
             "colorbar": {
              "outlinewidth": 0,
              "ticks": ""
             }
            },
            "type": "scatter3d"
           }
          ],
          "scattercarpet": [
           {
            "marker": {
             "colorbar": {
              "outlinewidth": 0,
              "ticks": ""
             }
            },
            "type": "scattercarpet"
           }
          ],
          "scattergeo": [
           {
            "marker": {
             "colorbar": {
              "outlinewidth": 0,
              "ticks": ""
             }
            },
            "type": "scattergeo"
           }
          ],
          "scattergl": [
           {
            "marker": {
             "colorbar": {
              "outlinewidth": 0,
              "ticks": ""
             }
            },
            "type": "scattergl"
           }
          ],
          "scattermapbox": [
           {
            "marker": {
             "colorbar": {
              "outlinewidth": 0,
              "ticks": ""
             }
            },
            "type": "scattermapbox"
           }
          ],
          "scatterpolar": [
           {
            "marker": {
             "colorbar": {
              "outlinewidth": 0,
              "ticks": ""
             }
            },
            "type": "scatterpolar"
           }
          ],
          "scatterpolargl": [
           {
            "marker": {
             "colorbar": {
              "outlinewidth": 0,
              "ticks": ""
             }
            },
            "type": "scatterpolargl"
           }
          ],
          "scatterternary": [
           {
            "marker": {
             "colorbar": {
              "outlinewidth": 0,
              "ticks": ""
             }
            },
            "type": "scatterternary"
           }
          ],
          "surface": [
           {
            "colorbar": {
             "outlinewidth": 0,
             "ticks": ""
            },
            "colorscale": [
             [
              0,
              "#0d0887"
             ],
             [
              0.1111111111111111,
              "#46039f"
             ],
             [
              0.2222222222222222,
              "#7201a8"
             ],
             [
              0.3333333333333333,
              "#9c179e"
             ],
             [
              0.4444444444444444,
              "#bd3786"
             ],
             [
              0.5555555555555556,
              "#d8576b"
             ],
             [
              0.6666666666666666,
              "#ed7953"
             ],
             [
              0.7777777777777778,
              "#fb9f3a"
             ],
             [
              0.8888888888888888,
              "#fdca26"
             ],
             [
              1,
              "#f0f921"
             ]
            ],
            "type": "surface"
           }
          ],
          "table": [
           {
            "cells": {
             "fill": {
              "color": "#EBF0F8"
             },
             "line": {
              "color": "white"
             }
            },
            "header": {
             "fill": {
              "color": "#C8D4E3"
             },
             "line": {
              "color": "white"
             }
            },
            "type": "table"
           }
          ]
         },
         "layout": {
          "annotationdefaults": {
           "arrowcolor": "#2a3f5f",
           "arrowhead": 0,
           "arrowwidth": 1
          },
          "autotypenumbers": "strict",
          "coloraxis": {
           "colorbar": {
            "outlinewidth": 0,
            "ticks": ""
           }
          },
          "colorscale": {
           "diverging": [
            [
             0,
             "#8e0152"
            ],
            [
             0.1,
             "#c51b7d"
            ],
            [
             0.2,
             "#de77ae"
            ],
            [
             0.3,
             "#f1b6da"
            ],
            [
             0.4,
             "#fde0ef"
            ],
            [
             0.5,
             "#f7f7f7"
            ],
            [
             0.6,
             "#e6f5d0"
            ],
            [
             0.7,
             "#b8e186"
            ],
            [
             0.8,
             "#7fbc41"
            ],
            [
             0.9,
             "#4d9221"
            ],
            [
             1,
             "#276419"
            ]
           ],
           "sequential": [
            [
             0,
             "#0d0887"
            ],
            [
             0.1111111111111111,
             "#46039f"
            ],
            [
             0.2222222222222222,
             "#7201a8"
            ],
            [
             0.3333333333333333,
             "#9c179e"
            ],
            [
             0.4444444444444444,
             "#bd3786"
            ],
            [
             0.5555555555555556,
             "#d8576b"
            ],
            [
             0.6666666666666666,
             "#ed7953"
            ],
            [
             0.7777777777777778,
             "#fb9f3a"
            ],
            [
             0.8888888888888888,
             "#fdca26"
            ],
            [
             1,
             "#f0f921"
            ]
           ],
           "sequentialminus": [
            [
             0,
             "#0d0887"
            ],
            [
             0.1111111111111111,
             "#46039f"
            ],
            [
             0.2222222222222222,
             "#7201a8"
            ],
            [
             0.3333333333333333,
             "#9c179e"
            ],
            [
             0.4444444444444444,
             "#bd3786"
            ],
            [
             0.5555555555555556,
             "#d8576b"
            ],
            [
             0.6666666666666666,
             "#ed7953"
            ],
            [
             0.7777777777777778,
             "#fb9f3a"
            ],
            [
             0.8888888888888888,
             "#fdca26"
            ],
            [
             1,
             "#f0f921"
            ]
           ]
          },
          "colorway": [
           "#636efa",
           "#EF553B",
           "#00cc96",
           "#ab63fa",
           "#FFA15A",
           "#19d3f3",
           "#FF6692",
           "#B6E880",
           "#FF97FF",
           "#FECB52"
          ],
          "font": {
           "color": "#2a3f5f"
          },
          "geo": {
           "bgcolor": "white",
           "lakecolor": "white",
           "landcolor": "#E5ECF6",
           "showlakes": true,
           "showland": true,
           "subunitcolor": "white"
          },
          "hoverlabel": {
           "align": "left"
          },
          "hovermode": "closest",
          "mapbox": {
           "style": "light"
          },
          "paper_bgcolor": "white",
          "plot_bgcolor": "#E5ECF6",
          "polar": {
           "angularaxis": {
            "gridcolor": "white",
            "linecolor": "white",
            "ticks": ""
           },
           "bgcolor": "#E5ECF6",
           "radialaxis": {
            "gridcolor": "white",
            "linecolor": "white",
            "ticks": ""
           }
          },
          "scene": {
           "xaxis": {
            "backgroundcolor": "#E5ECF6",
            "gridcolor": "white",
            "gridwidth": 2,
            "linecolor": "white",
            "showbackground": true,
            "ticks": "",
            "zerolinecolor": "white"
           },
           "yaxis": {
            "backgroundcolor": "#E5ECF6",
            "gridcolor": "white",
            "gridwidth": 2,
            "linecolor": "white",
            "showbackground": true,
            "ticks": "",
            "zerolinecolor": "white"
           },
           "zaxis": {
            "backgroundcolor": "#E5ECF6",
            "gridcolor": "white",
            "gridwidth": 2,
            "linecolor": "white",
            "showbackground": true,
            "ticks": "",
            "zerolinecolor": "white"
           }
          },
          "shapedefaults": {
           "line": {
            "color": "#2a3f5f"
           }
          },
          "ternary": {
           "aaxis": {
            "gridcolor": "white",
            "linecolor": "white",
            "ticks": ""
           },
           "baxis": {
            "gridcolor": "white",
            "linecolor": "white",
            "ticks": ""
           },
           "bgcolor": "#E5ECF6",
           "caxis": {
            "gridcolor": "white",
            "linecolor": "white",
            "ticks": ""
           }
          },
          "title": {
           "x": 0.05
          },
          "xaxis": {
           "automargin": true,
           "gridcolor": "white",
           "linecolor": "white",
           "ticks": "",
           "title": {
            "standoff": 15
           },
           "zerolinecolor": "white",
           "zerolinewidth": 2
          },
          "yaxis": {
           "automargin": true,
           "gridcolor": "white",
           "linecolor": "white",
           "ticks": "",
           "title": {
            "standoff": 15
           },
           "zerolinecolor": "white",
           "zerolinewidth": 2
          }
         }
        },
        "title": {
         "text": "Top 120 Count by Subcategory"
        },
        "xaxis": {
         "anchor": "y",
         "domain": [
          0,
          1
         ],
         "title": {
          "text": "Subcategory"
         }
        },
        "yaxis": {
         "anchor": "x",
         "domain": [
          0,
          1
         ],
         "title": {
          "text": "Count"
         }
        }
       }
      }
     },
     "metadata": {},
     "output_type": "display_data"
    }
   ],
   "source": [
    "result_grouped_subcat = result_vis.groupby(by=['Category', 'Subcategory'], as_index=False).size()\n",
    "result_grouped_subcat.columns = ['Category', 'Subcategory', 'Count']\n",
    "result_grouped_subsort = result_grouped_subcat.sort_values(by='Count', ascending=False) # type: ignore\n",
    "\n",
    "fig2 = px.bar(result_grouped_subsort, x='Subcategory', y='Count', color = 'Category', title='Top 120 Count by Subcategory')\n",
    "fig2.show()"
   ]
  },
  {
   "cell_type": "code",
   "execution_count": 233,
   "metadata": {},
   "outputs": [
    {
     "data": {
      "application/vnd.plotly.v1+json": {
       "config": {
        "plotlyServerURL": "https://plot.ly"
       },
       "data": [
        {
         "customdata": [
          [
           "Christmas tree with fireplace 5"
          ],
          [
           "Benuta Leon Cream Wool Rug"
          ],
          [
           "Office chair Ashley"
          ],
          [
           "Indoor Plant Set 89"
          ],
          [
           "Clothes for wardrobe NG15"
          ],
          [
           "Boucle Fabric"
          ],
          [
           "Benuta Dave Rectangular Fur Rug (3 colors)"
          ],
          [
           "Curtains with Roman blinds 2"
          ],
          [
           "Kitchen 10"
          ],
          [
           "Decorative Set 089"
          ],
          [
           "Carpeting. Seamless carpet"
          ],
          [
           "Dressing room 28"
          ],
          [
           "Bathroom decor with a set of different cosmetic products"
          ],
          [
           "Cairns pedestal Divan.ru"
          ],
          [
           "Decorative Set 088"
          ],
          [
           "coffee table decor set 005"
          ],
          [
           "Faucets and showers Boheme uno set 2"
          ],
          [
           "Grilles for ventilation and air conditioning Redvent"
          ],
          [
           "Snow"
          ],
          [
           "TV wall with Xiaomi laser projector"
          ],
          [
           "Dressing room 16"
          ],
          [
           "Equipe BALI"
          ],
          [
           "Bathroom decor set P06"
          ],
          [
           "A set of clothes in bright colors for a wardrobe or showroom and a store"
          ],
          [
           "Roman blinds, Roman blinds"
          ],
          [
           "Lindsay Laurie coffee table Divan.ru"
          ],
          [
           "Omnires mixers"
          ],
          [
           "HOMARY island for dressing room NG16"
          ],
          [
           "Siena Kids Bed By Como"
          ],
          [
           "Padel"
          ],
          [
           "Porcelain tiles Nolana Estima"
          ],
          [
           "Milam chair Divan.ru"
          ],
          [
           "Moooi Drape Lights"
          ],
          [
           "Basic wardrobe made of cabinet furniture with doors"
          ],
          [
           "Track system centersvet Infinity"
          ],
          [
           "Glass Block Wall 08"
          ],
          [
           "Robot vacuum cleaner Xiaomi Robot Vacuum Cleaner X20"
          ],
          [
           "Cookware set NG5"
          ],
          [
           "Faucets and showers Boheme uno set 1"
          ],
          [
           "Parquet board 4"
          ],
          [
           "Cecily Nara bedside table Cosmo"
          ],
          [
           "TV Wall 52"
          ],
          [
           "Bathroom accessories Z42"
          ],
          [
           "Nice Christmas tree"
          ],
          [
           "Sinks and faucets Omoikiri"
          ],
          [
           "Realistic meadow grass"
          ],
          [
           "Bathroom furniture 21"
          ],
          [
           "3DArt Relief NG41"
          ],
          [
           "Pila Vessels en gold / Jug"
          ],
          [
           "West Elm Curved Modern Upholstered Bed"
          ],
          [
           "Children play area | Interactive"
          ],
          [
           "Pinch Pleat Linen Curtain with Roller Blind"
          ],
          [
           "Herringbone parquet chevron s8"
          ],
          [
           "Volhovec Rift Doors"
          ],
          [
           "Wine with chocolate set/1"
          ],
          [
           "Faucets and showers Boheme Specter set"
          ],
          [
           "Office chair Sergio La Redoute"
          ],
          [
           "A bouquet of lilacs in a glass vase"
          ],
          [
           "Pinboard with childrens drawings"
          ],
          [
           "kitchen 0252"
          ],
          [
           "Minotti Pilots Bench"
          ],
          [
           "Bouquet 06"
          ],
          [
           "Childrens open wardrobe with desk, modular, modern, 25"
          ],
          [
           "FloorGen Tools 1.5.4"
          ],
          [
           "Guitar. Guitar set for stage. Musical instrument. Microphone"
          ],
          [
           "Set of ceilings Armstrong and Grilyato"
          ],
          [
           "Boen parquet board wood flooring"
          ],
          [
           "Wet asphalt with leaves. Autumn. Editable"
          ],
          [
           "Decorative set with a small beige bag"
          ],
          [
           "Timo Saona"
          ],
          [
           "Panel with waves"
          ],
          [
           "Khmara by Makhno Rough Plaster Pendant Lamps"
          ],
          [
           "Indoor Plant 702 - Olive Plant"
          ],
          [
           "Emmi Armchair by Minotti"
          ],
          [
           "Gianna Natural Walnut Wood King Bed Frame"
          ],
          [
           "Soft seat by the window in the children's room"
          ],
          [
           "Christmas tree with fireplace 4"
          ],
          [
           "garage tools set 23"
          ],
          [
           "Kitchen Appliance Bosch Kitchen 81"
          ],
          [
           "Decorative Set 270"
          ],
          [
           "Bedside table Tammi"
          ],
          [
           "Furniture Composition 271"
          ],
          [
           "Dinning Set 162"
          ],
          [
           "Kitchen 27"
          ],
          [
           "Wonderful Christmas Tree"
          ],
          [
           "Laundry Room _ 0005"
          ],
          [
           "Christmas tree 5"
          ],
          [
           "Yoga & Meditation Set"
          ],
          [
           "Equipe Hopp"
          ],
          [
           "Serving NG3"
          ],
          [
           "Wardrobe system Rimadesio Dress Bold"
          ],
          [
           "Oval island for dressing room NG14"
          ],
          [
           "A wall with a rack for gym equipment 2"
          ],
          [
           "Hotel Bathroom Accessories LE LABO"
          ],
          [
           "Rubber Coating"
          ],
          [
           "Travis shelving Divan.ru"
          ],
          [
           "Ventilation system."
          ],
          [
           "Interactive panel for children room"
          ],
          [
           "Round carpet"
          ],
          [
           "Pattie Armchair by Minotti"
          ],
          [
           "Flat Metal Material"
          ],
          [
           "Canon printer set."
          ],
          [
           "Curtains 9"
          ],
          [
           "Office Furniture | 4 | Workplace"
          ],
          [
           "Calder Lander Build table Divan.ru"
          ],
          [
           "EWRIKA Penelope electric heated towel rail"
          ],
          [
           "kitchen modern-067"
          ],
          [
           "Curtain #121"
          ],
          [
           "Christmas Tree and Decoration 78"
          ],
          [
           "Decorative Set-086 Shelf Accessories"
          ],
          [
           "LAUNDRY SET (Poliform FITTED + ASKO)"
          ],
          [
           "LAUNDRY SET 2 (L'ORIGINE Aeterna + ASKO)"
          ],
          [
           "Bakery Equipment"
          ],
          [
           "Acer Ginnala"
          ],
          [
           "CAT Forklift, Manual Loader and Warehouse Carts Kit"
          ],
          [
           "Christmas Tree Street"
          ],
          [
           "Coffee Shop 6"
          ],
          [
           "Benuta Dave Round Fur Rug (3 colors)"
          ],
          [
           "Cezares Stylus + Boheme Uno + AlcaPlast Thin"
          ],
          [
           "Cafe Equipment Set 8"
          ]
         ],
         "hovertemplate": "Selected=%{x}<br>Followers=%{y}<br>Title=%{customdata[0]}<br>N=%{marker.color}<extra></extra>",
         "legendgroup": "",
         "marker": {
          "color": [
           1,
           2,
           3,
           4,
           5,
           6,
           7,
           8,
           9,
           10,
           11,
           12,
           13,
           14,
           15,
           16,
           17,
           18,
           19,
           20,
           21,
           22,
           23,
           24,
           25,
           26,
           27,
           28,
           29,
           30,
           31,
           32,
           33,
           34,
           35,
           36,
           37,
           38,
           39,
           40,
           41,
           42,
           43,
           44,
           45,
           46,
           47,
           48,
           49,
           50,
           51,
           52,
           53,
           54,
           55,
           56,
           57,
           58,
           59,
           60,
           61,
           62,
           63,
           64,
           65,
           66,
           67,
           68,
           69,
           70,
           71,
           72,
           73,
           74,
           75,
           76,
           77,
           78,
           79,
           80,
           81,
           82,
           83,
           84,
           85,
           86,
           87,
           88,
           89,
           90,
           91,
           92,
           93,
           94,
           95,
           96,
           97,
           98,
           99,
           100,
           101,
           102,
           103,
           104,
           105,
           106,
           107,
           108,
           109,
           110,
           111,
           112,
           113,
           114,
           115,
           116,
           117,
           118,
           119,
           120
          ],
          "coloraxis": "coloraxis",
          "symbol": "circle"
         },
         "mode": "markers",
         "name": "",
         "orientation": "v",
         "showlegend": false,
         "type": "scatter",
         "x": [
          159,
          212,
          131,
          49,
          95,
          410,
          538,
          243,
          86,
          225,
          142,
          65,
          266,
          70,
          200,
          130,
          60,
          90,
          64,
          1486,
          386,
          99,
          94,
          191,
          83,
          33,
          71,
          244,
          771,
          117,
          169,
          93,
          101,
          108,
          28,
          812,
          128,
          323,
          39,
          84,
          76,
          60,
          27,
          1410,
          502,
          439,
          202,
          89,
          227,
          89,
          153,
          53,
          215,
          197,
          261,
          26,
          80,
          192,
          89,
          58,
          69,
          115,
          50,
          801,
          477,
          826,
          878,
          472,
          31,
          185,
          487,
          308,
          254,
          297,
          306,
          335,
          347,
          73,
          224,
          40,
          42,
          79,
          34,
          25,
          81,
          933,
          610,
          501,
          237,
          457,
          504,
          442,
          278,
          412,
          187,
          130,
          146,
          340,
          206,
          171,
          216,
          41,
          66,
          103,
          69,
          50,
          58,
          22,
          123,
          41,
          2213,
          2700,
          1260,
          471,
          541,
          288,
          600,
          323,
          171,
          153
         ],
         "xaxis": "x",
         "y": [
          314,
          335,
          6,
          211,
          744,
          150,
          335,
          128,
          11,
          87,
          772,
          322,
          772,
          744,
          87,
          190,
          22,
          31,
          310,
          2224,
          322,
          162,
          8,
          772,
          417,
          744,
          1217,
          744,
          417,
          22,
          11,
          744,
          100,
          772,
          22,
          128,
          99,
          744,
          22,
          314,
          744,
          231,
          34,
          1217,
          125,
          1671,
          170,
          744,
          8,
          610,
          85,
          128,
          162,
          66,
          73,
          22,
          245,
          228,
          31,
          97,
          717,
          10,
          170,
          40,
          89,
          430,
          314,
          130,
          28,
          78,
          69,
          29,
          1563,
          192,
          417,
          85,
          314,
          9,
          135,
          566,
          5,
          178,
          76,
          91,
          1217,
          311,
          1217,
          192,
          162,
          744,
          98,
          744,
          772,
          85,
          310,
          744,
          20,
          85,
          18,
          55,
          51,
          20,
          1217,
          381,
          744,
          744,
          24,
          86,
          1563,
          256,
          223,
          223,
          72,
          871,
          99,
          50,
          310,
          335,
          7,
          72
         ],
         "yaxis": "y"
        }
       ],
       "layout": {
        "coloraxis": {
         "colorbar": {
          "title": {
           "text": "N"
          }
         },
         "colorscale": [
          [
           0,
           "#0d0887"
          ],
          [
           0.1111111111111111,
           "#46039f"
          ],
          [
           0.2222222222222222,
           "#7201a8"
          ],
          [
           0.3333333333333333,
           "#9c179e"
          ],
          [
           0.4444444444444444,
           "#bd3786"
          ],
          [
           0.5555555555555556,
           "#d8576b"
          ],
          [
           0.6666666666666666,
           "#ed7953"
          ],
          [
           0.7777777777777778,
           "#fb9f3a"
          ],
          [
           0.8888888888888888,
           "#fdca26"
          ],
          [
           1,
           "#f0f921"
          ]
         ]
        },
        "legend": {
         "tracegroupgap": 0
        },
        "template": {
         "data": {
          "bar": [
           {
            "error_x": {
             "color": "#2a3f5f"
            },
            "error_y": {
             "color": "#2a3f5f"
            },
            "marker": {
             "line": {
              "color": "#E5ECF6",
              "width": 0.5
             },
             "pattern": {
              "fillmode": "overlay",
              "size": 10,
              "solidity": 0.2
             }
            },
            "type": "bar"
           }
          ],
          "barpolar": [
           {
            "marker": {
             "line": {
              "color": "#E5ECF6",
              "width": 0.5
             },
             "pattern": {
              "fillmode": "overlay",
              "size": 10,
              "solidity": 0.2
             }
            },
            "type": "barpolar"
           }
          ],
          "carpet": [
           {
            "aaxis": {
             "endlinecolor": "#2a3f5f",
             "gridcolor": "white",
             "linecolor": "white",
             "minorgridcolor": "white",
             "startlinecolor": "#2a3f5f"
            },
            "baxis": {
             "endlinecolor": "#2a3f5f",
             "gridcolor": "white",
             "linecolor": "white",
             "minorgridcolor": "white",
             "startlinecolor": "#2a3f5f"
            },
            "type": "carpet"
           }
          ],
          "choropleth": [
           {
            "colorbar": {
             "outlinewidth": 0,
             "ticks": ""
            },
            "type": "choropleth"
           }
          ],
          "contour": [
           {
            "colorbar": {
             "outlinewidth": 0,
             "ticks": ""
            },
            "colorscale": [
             [
              0,
              "#0d0887"
             ],
             [
              0.1111111111111111,
              "#46039f"
             ],
             [
              0.2222222222222222,
              "#7201a8"
             ],
             [
              0.3333333333333333,
              "#9c179e"
             ],
             [
              0.4444444444444444,
              "#bd3786"
             ],
             [
              0.5555555555555556,
              "#d8576b"
             ],
             [
              0.6666666666666666,
              "#ed7953"
             ],
             [
              0.7777777777777778,
              "#fb9f3a"
             ],
             [
              0.8888888888888888,
              "#fdca26"
             ],
             [
              1,
              "#f0f921"
             ]
            ],
            "type": "contour"
           }
          ],
          "contourcarpet": [
           {
            "colorbar": {
             "outlinewidth": 0,
             "ticks": ""
            },
            "type": "contourcarpet"
           }
          ],
          "heatmap": [
           {
            "colorbar": {
             "outlinewidth": 0,
             "ticks": ""
            },
            "colorscale": [
             [
              0,
              "#0d0887"
             ],
             [
              0.1111111111111111,
              "#46039f"
             ],
             [
              0.2222222222222222,
              "#7201a8"
             ],
             [
              0.3333333333333333,
              "#9c179e"
             ],
             [
              0.4444444444444444,
              "#bd3786"
             ],
             [
              0.5555555555555556,
              "#d8576b"
             ],
             [
              0.6666666666666666,
              "#ed7953"
             ],
             [
              0.7777777777777778,
              "#fb9f3a"
             ],
             [
              0.8888888888888888,
              "#fdca26"
             ],
             [
              1,
              "#f0f921"
             ]
            ],
            "type": "heatmap"
           }
          ],
          "heatmapgl": [
           {
            "colorbar": {
             "outlinewidth": 0,
             "ticks": ""
            },
            "colorscale": [
             [
              0,
              "#0d0887"
             ],
             [
              0.1111111111111111,
              "#46039f"
             ],
             [
              0.2222222222222222,
              "#7201a8"
             ],
             [
              0.3333333333333333,
              "#9c179e"
             ],
             [
              0.4444444444444444,
              "#bd3786"
             ],
             [
              0.5555555555555556,
              "#d8576b"
             ],
             [
              0.6666666666666666,
              "#ed7953"
             ],
             [
              0.7777777777777778,
              "#fb9f3a"
             ],
             [
              0.8888888888888888,
              "#fdca26"
             ],
             [
              1,
              "#f0f921"
             ]
            ],
            "type": "heatmapgl"
           }
          ],
          "histogram": [
           {
            "marker": {
             "pattern": {
              "fillmode": "overlay",
              "size": 10,
              "solidity": 0.2
             }
            },
            "type": "histogram"
           }
          ],
          "histogram2d": [
           {
            "colorbar": {
             "outlinewidth": 0,
             "ticks": ""
            },
            "colorscale": [
             [
              0,
              "#0d0887"
             ],
             [
              0.1111111111111111,
              "#46039f"
             ],
             [
              0.2222222222222222,
              "#7201a8"
             ],
             [
              0.3333333333333333,
              "#9c179e"
             ],
             [
              0.4444444444444444,
              "#bd3786"
             ],
             [
              0.5555555555555556,
              "#d8576b"
             ],
             [
              0.6666666666666666,
              "#ed7953"
             ],
             [
              0.7777777777777778,
              "#fb9f3a"
             ],
             [
              0.8888888888888888,
              "#fdca26"
             ],
             [
              1,
              "#f0f921"
             ]
            ],
            "type": "histogram2d"
           }
          ],
          "histogram2dcontour": [
           {
            "colorbar": {
             "outlinewidth": 0,
             "ticks": ""
            },
            "colorscale": [
             [
              0,
              "#0d0887"
             ],
             [
              0.1111111111111111,
              "#46039f"
             ],
             [
              0.2222222222222222,
              "#7201a8"
             ],
             [
              0.3333333333333333,
              "#9c179e"
             ],
             [
              0.4444444444444444,
              "#bd3786"
             ],
             [
              0.5555555555555556,
              "#d8576b"
             ],
             [
              0.6666666666666666,
              "#ed7953"
             ],
             [
              0.7777777777777778,
              "#fb9f3a"
             ],
             [
              0.8888888888888888,
              "#fdca26"
             ],
             [
              1,
              "#f0f921"
             ]
            ],
            "type": "histogram2dcontour"
           }
          ],
          "mesh3d": [
           {
            "colorbar": {
             "outlinewidth": 0,
             "ticks": ""
            },
            "type": "mesh3d"
           }
          ],
          "parcoords": [
           {
            "line": {
             "colorbar": {
              "outlinewidth": 0,
              "ticks": ""
             }
            },
            "type": "parcoords"
           }
          ],
          "pie": [
           {
            "automargin": true,
            "type": "pie"
           }
          ],
          "scatter": [
           {
            "fillpattern": {
             "fillmode": "overlay",
             "size": 10,
             "solidity": 0.2
            },
            "type": "scatter"
           }
          ],
          "scatter3d": [
           {
            "line": {
             "colorbar": {
              "outlinewidth": 0,
              "ticks": ""
             }
            },
            "marker": {
             "colorbar": {
              "outlinewidth": 0,
              "ticks": ""
             }
            },
            "type": "scatter3d"
           }
          ],
          "scattercarpet": [
           {
            "marker": {
             "colorbar": {
              "outlinewidth": 0,
              "ticks": ""
             }
            },
            "type": "scattercarpet"
           }
          ],
          "scattergeo": [
           {
            "marker": {
             "colorbar": {
              "outlinewidth": 0,
              "ticks": ""
             }
            },
            "type": "scattergeo"
           }
          ],
          "scattergl": [
           {
            "marker": {
             "colorbar": {
              "outlinewidth": 0,
              "ticks": ""
             }
            },
            "type": "scattergl"
           }
          ],
          "scattermapbox": [
           {
            "marker": {
             "colorbar": {
              "outlinewidth": 0,
              "ticks": ""
             }
            },
            "type": "scattermapbox"
           }
          ],
          "scatterpolar": [
           {
            "marker": {
             "colorbar": {
              "outlinewidth": 0,
              "ticks": ""
             }
            },
            "type": "scatterpolar"
           }
          ],
          "scatterpolargl": [
           {
            "marker": {
             "colorbar": {
              "outlinewidth": 0,
              "ticks": ""
             }
            },
            "type": "scatterpolargl"
           }
          ],
          "scatterternary": [
           {
            "marker": {
             "colorbar": {
              "outlinewidth": 0,
              "ticks": ""
             }
            },
            "type": "scatterternary"
           }
          ],
          "surface": [
           {
            "colorbar": {
             "outlinewidth": 0,
             "ticks": ""
            },
            "colorscale": [
             [
              0,
              "#0d0887"
             ],
             [
              0.1111111111111111,
              "#46039f"
             ],
             [
              0.2222222222222222,
              "#7201a8"
             ],
             [
              0.3333333333333333,
              "#9c179e"
             ],
             [
              0.4444444444444444,
              "#bd3786"
             ],
             [
              0.5555555555555556,
              "#d8576b"
             ],
             [
              0.6666666666666666,
              "#ed7953"
             ],
             [
              0.7777777777777778,
              "#fb9f3a"
             ],
             [
              0.8888888888888888,
              "#fdca26"
             ],
             [
              1,
              "#f0f921"
             ]
            ],
            "type": "surface"
           }
          ],
          "table": [
           {
            "cells": {
             "fill": {
              "color": "#EBF0F8"
             },
             "line": {
              "color": "white"
             }
            },
            "header": {
             "fill": {
              "color": "#C8D4E3"
             },
             "line": {
              "color": "white"
             }
            },
            "type": "table"
           }
          ]
         },
         "layout": {
          "annotationdefaults": {
           "arrowcolor": "#2a3f5f",
           "arrowhead": 0,
           "arrowwidth": 1
          },
          "autotypenumbers": "strict",
          "coloraxis": {
           "colorbar": {
            "outlinewidth": 0,
            "ticks": ""
           }
          },
          "colorscale": {
           "diverging": [
            [
             0,
             "#8e0152"
            ],
            [
             0.1,
             "#c51b7d"
            ],
            [
             0.2,
             "#de77ae"
            ],
            [
             0.3,
             "#f1b6da"
            ],
            [
             0.4,
             "#fde0ef"
            ],
            [
             0.5,
             "#f7f7f7"
            ],
            [
             0.6,
             "#e6f5d0"
            ],
            [
             0.7,
             "#b8e186"
            ],
            [
             0.8,
             "#7fbc41"
            ],
            [
             0.9,
             "#4d9221"
            ],
            [
             1,
             "#276419"
            ]
           ],
           "sequential": [
            [
             0,
             "#0d0887"
            ],
            [
             0.1111111111111111,
             "#46039f"
            ],
            [
             0.2222222222222222,
             "#7201a8"
            ],
            [
             0.3333333333333333,
             "#9c179e"
            ],
            [
             0.4444444444444444,
             "#bd3786"
            ],
            [
             0.5555555555555556,
             "#d8576b"
            ],
            [
             0.6666666666666666,
             "#ed7953"
            ],
            [
             0.7777777777777778,
             "#fb9f3a"
            ],
            [
             0.8888888888888888,
             "#fdca26"
            ],
            [
             1,
             "#f0f921"
            ]
           ],
           "sequentialminus": [
            [
             0,
             "#0d0887"
            ],
            [
             0.1111111111111111,
             "#46039f"
            ],
            [
             0.2222222222222222,
             "#7201a8"
            ],
            [
             0.3333333333333333,
             "#9c179e"
            ],
            [
             0.4444444444444444,
             "#bd3786"
            ],
            [
             0.5555555555555556,
             "#d8576b"
            ],
            [
             0.6666666666666666,
             "#ed7953"
            ],
            [
             0.7777777777777778,
             "#fb9f3a"
            ],
            [
             0.8888888888888888,
             "#fdca26"
            ],
            [
             1,
             "#f0f921"
            ]
           ]
          },
          "colorway": [
           "#636efa",
           "#EF553B",
           "#00cc96",
           "#ab63fa",
           "#FFA15A",
           "#19d3f3",
           "#FF6692",
           "#B6E880",
           "#FF97FF",
           "#FECB52"
          ],
          "font": {
           "color": "#2a3f5f"
          },
          "geo": {
           "bgcolor": "white",
           "lakecolor": "white",
           "landcolor": "#E5ECF6",
           "showlakes": true,
           "showland": true,
           "subunitcolor": "white"
          },
          "hoverlabel": {
           "align": "left"
          },
          "hovermode": "closest",
          "mapbox": {
           "style": "light"
          },
          "paper_bgcolor": "white",
          "plot_bgcolor": "#E5ECF6",
          "polar": {
           "angularaxis": {
            "gridcolor": "white",
            "linecolor": "white",
            "ticks": ""
           },
           "bgcolor": "#E5ECF6",
           "radialaxis": {
            "gridcolor": "white",
            "linecolor": "white",
            "ticks": ""
           }
          },
          "scene": {
           "xaxis": {
            "backgroundcolor": "#E5ECF6",
            "gridcolor": "white",
            "gridwidth": 2,
            "linecolor": "white",
            "showbackground": true,
            "ticks": "",
            "zerolinecolor": "white"
           },
           "yaxis": {
            "backgroundcolor": "#E5ECF6",
            "gridcolor": "white",
            "gridwidth": 2,
            "linecolor": "white",
            "showbackground": true,
            "ticks": "",
            "zerolinecolor": "white"
           },
           "zaxis": {
            "backgroundcolor": "#E5ECF6",
            "gridcolor": "white",
            "gridwidth": 2,
            "linecolor": "white",
            "showbackground": true,
            "ticks": "",
            "zerolinecolor": "white"
           }
          },
          "shapedefaults": {
           "line": {
            "color": "#2a3f5f"
           }
          },
          "ternary": {
           "aaxis": {
            "gridcolor": "white",
            "linecolor": "white",
            "ticks": ""
           },
           "baxis": {
            "gridcolor": "white",
            "linecolor": "white",
            "ticks": ""
           },
           "bgcolor": "#E5ECF6",
           "caxis": {
            "gridcolor": "white",
            "linecolor": "white",
            "ticks": ""
           }
          },
          "title": {
           "x": 0.05
          },
          "xaxis": {
           "automargin": true,
           "gridcolor": "white",
           "linecolor": "white",
           "ticks": "",
           "title": {
            "standoff": 15
           },
           "zerolinecolor": "white",
           "zerolinewidth": 2
          },
          "yaxis": {
           "automargin": true,
           "gridcolor": "white",
           "linecolor": "white",
           "ticks": "",
           "title": {
            "standoff": 15
           },
           "zerolinecolor": "white",
           "zerolinewidth": 2
          }
         }
        },
        "title": {
         "text": "Top 120 by Selected and Followers"
        },
        "xaxis": {
         "anchor": "y",
         "domain": [
          0,
          1
         ],
         "title": {
          "text": "Selected"
         },
         "type": "log"
        },
        "yaxis": {
         "anchor": "x",
         "domain": [
          0,
          1
         ],
         "title": {
          "text": "Followers"
         },
         "type": "log"
        }
       }
      }
     },
     "metadata": {},
     "output_type": "display_data"
    }
   ],
   "source": [
    "fig3 = px.scatter(result_vis, x='Selected', y='Followers', color='N', log_x=True, log_y=True, hover_data=['Title','Selected','Followers'], title='Top 120 by Selected and Followers')\n",
    "fig3.show()"
   ]
  },
  {
   "cell_type": "code",
   "execution_count": 234,
   "metadata": {},
   "outputs": [
    {
     "data": {
      "application/vnd.plotly.v1+json": {
       "config": {
        "plotlyServerURL": "https://plot.ly"
       },
       "data": [
        {
         "alignmentgroup": "True",
         "bingroup": "x",
         "hovertemplate": "Dur_Shrink=%{x}<br>count=%{y}<extra></extra>",
         "legendgroup": "",
         "marker": {
          "color": "#636efa",
          "pattern": {
           "shape": ""
          }
         },
         "name": "",
         "nbinsx": 50,
         "offsetgroup": "",
         "orientation": "v",
         "showlegend": false,
         "type": "histogram",
         "x": [
          19,
          27,
          48,
          214,
          18,
          34,
          156,
          96,
          154,
          34,
          81,
          16,
          143,
          25,
          48,
          15,
          78,
          34,
          21,
          357,
          208,
          66,
          116,
          35,
          18,
          25,
          49,
          12,
          286,
          393,
          77,
          53,
          33,
          18,
          31,
          500,
          183,
          54,
          81,
          40,
          40,
          34,
          17,
          373,
          412,
          86,
          125,
          39,
          27,
          24,
          26,
          10,
          190,
          150,
          120,
          57,
          48,
          39,
          47,
          25,
          29,
          22,
          17,
          500,
          500,
          500,
          328,
          403,
          195,
          186,
          216,
          263,
          257,
          127,
          112,
          128,
          344,
          103,
          74,
          33,
          48,
          42,
          28,
          16,
          14,
          500,
          500,
          437,
          276,
          466,
          163,
          144,
          171,
          219,
          109,
          228,
          98,
          107,
          106,
          140,
          61,
          67,
          77,
          86,
          38,
          40,
          39,
          40,
          18,
          13,
          500,
          500,
          500,
          500,
          500,
          500,
          264,
          160,
          183,
          92
         ],
         "xaxis": "x",
         "yaxis": "y"
        }
       ],
       "layout": {
        "barmode": "relative",
        "legend": {
         "tracegroupgap": 0
        },
        "template": {
         "data": {
          "bar": [
           {
            "error_x": {
             "color": "#2a3f5f"
            },
            "error_y": {
             "color": "#2a3f5f"
            },
            "marker": {
             "line": {
              "color": "#E5ECF6",
              "width": 0.5
             },
             "pattern": {
              "fillmode": "overlay",
              "size": 10,
              "solidity": 0.2
             }
            },
            "type": "bar"
           }
          ],
          "barpolar": [
           {
            "marker": {
             "line": {
              "color": "#E5ECF6",
              "width": 0.5
             },
             "pattern": {
              "fillmode": "overlay",
              "size": 10,
              "solidity": 0.2
             }
            },
            "type": "barpolar"
           }
          ],
          "carpet": [
           {
            "aaxis": {
             "endlinecolor": "#2a3f5f",
             "gridcolor": "white",
             "linecolor": "white",
             "minorgridcolor": "white",
             "startlinecolor": "#2a3f5f"
            },
            "baxis": {
             "endlinecolor": "#2a3f5f",
             "gridcolor": "white",
             "linecolor": "white",
             "minorgridcolor": "white",
             "startlinecolor": "#2a3f5f"
            },
            "type": "carpet"
           }
          ],
          "choropleth": [
           {
            "colorbar": {
             "outlinewidth": 0,
             "ticks": ""
            },
            "type": "choropleth"
           }
          ],
          "contour": [
           {
            "colorbar": {
             "outlinewidth": 0,
             "ticks": ""
            },
            "colorscale": [
             [
              0,
              "#0d0887"
             ],
             [
              0.1111111111111111,
              "#46039f"
             ],
             [
              0.2222222222222222,
              "#7201a8"
             ],
             [
              0.3333333333333333,
              "#9c179e"
             ],
             [
              0.4444444444444444,
              "#bd3786"
             ],
             [
              0.5555555555555556,
              "#d8576b"
             ],
             [
              0.6666666666666666,
              "#ed7953"
             ],
             [
              0.7777777777777778,
              "#fb9f3a"
             ],
             [
              0.8888888888888888,
              "#fdca26"
             ],
             [
              1,
              "#f0f921"
             ]
            ],
            "type": "contour"
           }
          ],
          "contourcarpet": [
           {
            "colorbar": {
             "outlinewidth": 0,
             "ticks": ""
            },
            "type": "contourcarpet"
           }
          ],
          "heatmap": [
           {
            "colorbar": {
             "outlinewidth": 0,
             "ticks": ""
            },
            "colorscale": [
             [
              0,
              "#0d0887"
             ],
             [
              0.1111111111111111,
              "#46039f"
             ],
             [
              0.2222222222222222,
              "#7201a8"
             ],
             [
              0.3333333333333333,
              "#9c179e"
             ],
             [
              0.4444444444444444,
              "#bd3786"
             ],
             [
              0.5555555555555556,
              "#d8576b"
             ],
             [
              0.6666666666666666,
              "#ed7953"
             ],
             [
              0.7777777777777778,
              "#fb9f3a"
             ],
             [
              0.8888888888888888,
              "#fdca26"
             ],
             [
              1,
              "#f0f921"
             ]
            ],
            "type": "heatmap"
           }
          ],
          "heatmapgl": [
           {
            "colorbar": {
             "outlinewidth": 0,
             "ticks": ""
            },
            "colorscale": [
             [
              0,
              "#0d0887"
             ],
             [
              0.1111111111111111,
              "#46039f"
             ],
             [
              0.2222222222222222,
              "#7201a8"
             ],
             [
              0.3333333333333333,
              "#9c179e"
             ],
             [
              0.4444444444444444,
              "#bd3786"
             ],
             [
              0.5555555555555556,
              "#d8576b"
             ],
             [
              0.6666666666666666,
              "#ed7953"
             ],
             [
              0.7777777777777778,
              "#fb9f3a"
             ],
             [
              0.8888888888888888,
              "#fdca26"
             ],
             [
              1,
              "#f0f921"
             ]
            ],
            "type": "heatmapgl"
           }
          ],
          "histogram": [
           {
            "marker": {
             "pattern": {
              "fillmode": "overlay",
              "size": 10,
              "solidity": 0.2
             }
            },
            "type": "histogram"
           }
          ],
          "histogram2d": [
           {
            "colorbar": {
             "outlinewidth": 0,
             "ticks": ""
            },
            "colorscale": [
             [
              0,
              "#0d0887"
             ],
             [
              0.1111111111111111,
              "#46039f"
             ],
             [
              0.2222222222222222,
              "#7201a8"
             ],
             [
              0.3333333333333333,
              "#9c179e"
             ],
             [
              0.4444444444444444,
              "#bd3786"
             ],
             [
              0.5555555555555556,
              "#d8576b"
             ],
             [
              0.6666666666666666,
              "#ed7953"
             ],
             [
              0.7777777777777778,
              "#fb9f3a"
             ],
             [
              0.8888888888888888,
              "#fdca26"
             ],
             [
              1,
              "#f0f921"
             ]
            ],
            "type": "histogram2d"
           }
          ],
          "histogram2dcontour": [
           {
            "colorbar": {
             "outlinewidth": 0,
             "ticks": ""
            },
            "colorscale": [
             [
              0,
              "#0d0887"
             ],
             [
              0.1111111111111111,
              "#46039f"
             ],
             [
              0.2222222222222222,
              "#7201a8"
             ],
             [
              0.3333333333333333,
              "#9c179e"
             ],
             [
              0.4444444444444444,
              "#bd3786"
             ],
             [
              0.5555555555555556,
              "#d8576b"
             ],
             [
              0.6666666666666666,
              "#ed7953"
             ],
             [
              0.7777777777777778,
              "#fb9f3a"
             ],
             [
              0.8888888888888888,
              "#fdca26"
             ],
             [
              1,
              "#f0f921"
             ]
            ],
            "type": "histogram2dcontour"
           }
          ],
          "mesh3d": [
           {
            "colorbar": {
             "outlinewidth": 0,
             "ticks": ""
            },
            "type": "mesh3d"
           }
          ],
          "parcoords": [
           {
            "line": {
             "colorbar": {
              "outlinewidth": 0,
              "ticks": ""
             }
            },
            "type": "parcoords"
           }
          ],
          "pie": [
           {
            "automargin": true,
            "type": "pie"
           }
          ],
          "scatter": [
           {
            "fillpattern": {
             "fillmode": "overlay",
             "size": 10,
             "solidity": 0.2
            },
            "type": "scatter"
           }
          ],
          "scatter3d": [
           {
            "line": {
             "colorbar": {
              "outlinewidth": 0,
              "ticks": ""
             }
            },
            "marker": {
             "colorbar": {
              "outlinewidth": 0,
              "ticks": ""
             }
            },
            "type": "scatter3d"
           }
          ],
          "scattercarpet": [
           {
            "marker": {
             "colorbar": {
              "outlinewidth": 0,
              "ticks": ""
             }
            },
            "type": "scattercarpet"
           }
          ],
          "scattergeo": [
           {
            "marker": {
             "colorbar": {
              "outlinewidth": 0,
              "ticks": ""
             }
            },
            "type": "scattergeo"
           }
          ],
          "scattergl": [
           {
            "marker": {
             "colorbar": {
              "outlinewidth": 0,
              "ticks": ""
             }
            },
            "type": "scattergl"
           }
          ],
          "scattermapbox": [
           {
            "marker": {
             "colorbar": {
              "outlinewidth": 0,
              "ticks": ""
             }
            },
            "type": "scattermapbox"
           }
          ],
          "scatterpolar": [
           {
            "marker": {
             "colorbar": {
              "outlinewidth": 0,
              "ticks": ""
             }
            },
            "type": "scatterpolar"
           }
          ],
          "scatterpolargl": [
           {
            "marker": {
             "colorbar": {
              "outlinewidth": 0,
              "ticks": ""
             }
            },
            "type": "scatterpolargl"
           }
          ],
          "scatterternary": [
           {
            "marker": {
             "colorbar": {
              "outlinewidth": 0,
              "ticks": ""
             }
            },
            "type": "scatterternary"
           }
          ],
          "surface": [
           {
            "colorbar": {
             "outlinewidth": 0,
             "ticks": ""
            },
            "colorscale": [
             [
              0,
              "#0d0887"
             ],
             [
              0.1111111111111111,
              "#46039f"
             ],
             [
              0.2222222222222222,
              "#7201a8"
             ],
             [
              0.3333333333333333,
              "#9c179e"
             ],
             [
              0.4444444444444444,
              "#bd3786"
             ],
             [
              0.5555555555555556,
              "#d8576b"
             ],
             [
              0.6666666666666666,
              "#ed7953"
             ],
             [
              0.7777777777777778,
              "#fb9f3a"
             ],
             [
              0.8888888888888888,
              "#fdca26"
             ],
             [
              1,
              "#f0f921"
             ]
            ],
            "type": "surface"
           }
          ],
          "table": [
           {
            "cells": {
             "fill": {
              "color": "#EBF0F8"
             },
             "line": {
              "color": "white"
             }
            },
            "header": {
             "fill": {
              "color": "#C8D4E3"
             },
             "line": {
              "color": "white"
             }
            },
            "type": "table"
           }
          ]
         },
         "layout": {
          "annotationdefaults": {
           "arrowcolor": "#2a3f5f",
           "arrowhead": 0,
           "arrowwidth": 1
          },
          "autotypenumbers": "strict",
          "coloraxis": {
           "colorbar": {
            "outlinewidth": 0,
            "ticks": ""
           }
          },
          "colorscale": {
           "diverging": [
            [
             0,
             "#8e0152"
            ],
            [
             0.1,
             "#c51b7d"
            ],
            [
             0.2,
             "#de77ae"
            ],
            [
             0.3,
             "#f1b6da"
            ],
            [
             0.4,
             "#fde0ef"
            ],
            [
             0.5,
             "#f7f7f7"
            ],
            [
             0.6,
             "#e6f5d0"
            ],
            [
             0.7,
             "#b8e186"
            ],
            [
             0.8,
             "#7fbc41"
            ],
            [
             0.9,
             "#4d9221"
            ],
            [
             1,
             "#276419"
            ]
           ],
           "sequential": [
            [
             0,
             "#0d0887"
            ],
            [
             0.1111111111111111,
             "#46039f"
            ],
            [
             0.2222222222222222,
             "#7201a8"
            ],
            [
             0.3333333333333333,
             "#9c179e"
            ],
            [
             0.4444444444444444,
             "#bd3786"
            ],
            [
             0.5555555555555556,
             "#d8576b"
            ],
            [
             0.6666666666666666,
             "#ed7953"
            ],
            [
             0.7777777777777778,
             "#fb9f3a"
            ],
            [
             0.8888888888888888,
             "#fdca26"
            ],
            [
             1,
             "#f0f921"
            ]
           ],
           "sequentialminus": [
            [
             0,
             "#0d0887"
            ],
            [
             0.1111111111111111,
             "#46039f"
            ],
            [
             0.2222222222222222,
             "#7201a8"
            ],
            [
             0.3333333333333333,
             "#9c179e"
            ],
            [
             0.4444444444444444,
             "#bd3786"
            ],
            [
             0.5555555555555556,
             "#d8576b"
            ],
            [
             0.6666666666666666,
             "#ed7953"
            ],
            [
             0.7777777777777778,
             "#fb9f3a"
            ],
            [
             0.8888888888888888,
             "#fdca26"
            ],
            [
             1,
             "#f0f921"
            ]
           ]
          },
          "colorway": [
           "#636efa",
           "#EF553B",
           "#00cc96",
           "#ab63fa",
           "#FFA15A",
           "#19d3f3",
           "#FF6692",
           "#B6E880",
           "#FF97FF",
           "#FECB52"
          ],
          "font": {
           "color": "#2a3f5f"
          },
          "geo": {
           "bgcolor": "white",
           "lakecolor": "white",
           "landcolor": "#E5ECF6",
           "showlakes": true,
           "showland": true,
           "subunitcolor": "white"
          },
          "hoverlabel": {
           "align": "left"
          },
          "hovermode": "closest",
          "mapbox": {
           "style": "light"
          },
          "paper_bgcolor": "white",
          "plot_bgcolor": "#E5ECF6",
          "polar": {
           "angularaxis": {
            "gridcolor": "white",
            "linecolor": "white",
            "ticks": ""
           },
           "bgcolor": "#E5ECF6",
           "radialaxis": {
            "gridcolor": "white",
            "linecolor": "white",
            "ticks": ""
           }
          },
          "scene": {
           "xaxis": {
            "backgroundcolor": "#E5ECF6",
            "gridcolor": "white",
            "gridwidth": 2,
            "linecolor": "white",
            "showbackground": true,
            "ticks": "",
            "zerolinecolor": "white"
           },
           "yaxis": {
            "backgroundcolor": "#E5ECF6",
            "gridcolor": "white",
            "gridwidth": 2,
            "linecolor": "white",
            "showbackground": true,
            "ticks": "",
            "zerolinecolor": "white"
           },
           "zaxis": {
            "backgroundcolor": "#E5ECF6",
            "gridcolor": "white",
            "gridwidth": 2,
            "linecolor": "white",
            "showbackground": true,
            "ticks": "",
            "zerolinecolor": "white"
           }
          },
          "shapedefaults": {
           "line": {
            "color": "#2a3f5f"
           }
          },
          "ternary": {
           "aaxis": {
            "gridcolor": "white",
            "linecolor": "white",
            "ticks": ""
           },
           "baxis": {
            "gridcolor": "white",
            "linecolor": "white",
            "ticks": ""
           },
           "bgcolor": "#E5ECF6",
           "caxis": {
            "gridcolor": "white",
            "linecolor": "white",
            "ticks": ""
           }
          },
          "title": {
           "x": 0.05
          },
          "xaxis": {
           "automargin": true,
           "gridcolor": "white",
           "linecolor": "white",
           "ticks": "",
           "title": {
            "standoff": 15
           },
           "zerolinecolor": "white",
           "zerolinewidth": 2
          },
          "yaxis": {
           "automargin": true,
           "gridcolor": "white",
           "linecolor": "white",
           "ticks": "",
           "title": {
            "standoff": 15
           },
           "zerolinecolor": "white",
           "zerolinewidth": 2
          }
         }
        },
        "title": {
         "text": "Top 120 Count by Duration"
        },
        "xaxis": {
         "anchor": "y",
         "domain": [
          0,
          1
         ],
         "title": {
          "text": "Dur_Shrink"
         }
        },
        "yaxis": {
         "anchor": "x",
         "domain": [
          0,
          1
         ],
         "title": {
          "text": "count"
         }
        }
       }
      }
     },
     "metadata": {},
     "output_type": "display_data"
    }
   ],
   "source": [
    "result_vis['Dur_Shrink'] = result_vis['Duration'].apply(lambda x: x if x<500 else 500)\n",
    "#display(result_vis)\n",
    "\n",
    "fig4 = px.histogram(result_vis, x='Dur_Shrink', nbins=50, title='Top 120 Count by Duration')\n",
    "fig4.show()"
   ]
  },
  {
   "cell_type": "code",
   "execution_count": 235,
   "metadata": {},
   "outputs": [
    {
     "data": {
      "application/vnd.plotly.v1+json": {
       "config": {
        "plotlyServerURL": "https://plot.ly"
       },
       "data": [
        {
         "alignmentgroup": "True",
         "hovertemplate": "Category=%{x}<br>Total_Ranking=%{y}<extra></extra>",
         "legendgroup": "",
         "marker": {
          "color": "#636efa",
          "pattern": {
           "shape": ""
          }
         },
         "name": "",
         "offsetgroup": "",
         "orientation": "v",
         "showlegend": false,
         "textposition": "auto",
         "type": "bar",
         "x": [
          "Decoration",
          "Furniture",
          "Bathroom",
          "Kitchen",
          "Other Models",
          "Materials",
          "Plants",
          "Childroom",
          "Textures",
          "Lighting",
          "Technology",
          "Architecture",
          "Scripts"
         ],
         "xaxis": "x",
         "y": [
          1809,
          1644,
          852,
          522,
          476,
          463,
          369,
          350,
          334,
          223,
          103,
          58,
          57
         ],
         "yaxis": "y"
        }
       ],
       "layout": {
        "barmode": "relative",
        "legend": {
         "tracegroupgap": 0
        },
        "template": {
         "data": {
          "bar": [
           {
            "error_x": {
             "color": "#2a3f5f"
            },
            "error_y": {
             "color": "#2a3f5f"
            },
            "marker": {
             "line": {
              "color": "#E5ECF6",
              "width": 0.5
             },
             "pattern": {
              "fillmode": "overlay",
              "size": 10,
              "solidity": 0.2
             }
            },
            "type": "bar"
           }
          ],
          "barpolar": [
           {
            "marker": {
             "line": {
              "color": "#E5ECF6",
              "width": 0.5
             },
             "pattern": {
              "fillmode": "overlay",
              "size": 10,
              "solidity": 0.2
             }
            },
            "type": "barpolar"
           }
          ],
          "carpet": [
           {
            "aaxis": {
             "endlinecolor": "#2a3f5f",
             "gridcolor": "white",
             "linecolor": "white",
             "minorgridcolor": "white",
             "startlinecolor": "#2a3f5f"
            },
            "baxis": {
             "endlinecolor": "#2a3f5f",
             "gridcolor": "white",
             "linecolor": "white",
             "minorgridcolor": "white",
             "startlinecolor": "#2a3f5f"
            },
            "type": "carpet"
           }
          ],
          "choropleth": [
           {
            "colorbar": {
             "outlinewidth": 0,
             "ticks": ""
            },
            "type": "choropleth"
           }
          ],
          "contour": [
           {
            "colorbar": {
             "outlinewidth": 0,
             "ticks": ""
            },
            "colorscale": [
             [
              0,
              "#0d0887"
             ],
             [
              0.1111111111111111,
              "#46039f"
             ],
             [
              0.2222222222222222,
              "#7201a8"
             ],
             [
              0.3333333333333333,
              "#9c179e"
             ],
             [
              0.4444444444444444,
              "#bd3786"
             ],
             [
              0.5555555555555556,
              "#d8576b"
             ],
             [
              0.6666666666666666,
              "#ed7953"
             ],
             [
              0.7777777777777778,
              "#fb9f3a"
             ],
             [
              0.8888888888888888,
              "#fdca26"
             ],
             [
              1,
              "#f0f921"
             ]
            ],
            "type": "contour"
           }
          ],
          "contourcarpet": [
           {
            "colorbar": {
             "outlinewidth": 0,
             "ticks": ""
            },
            "type": "contourcarpet"
           }
          ],
          "heatmap": [
           {
            "colorbar": {
             "outlinewidth": 0,
             "ticks": ""
            },
            "colorscale": [
             [
              0,
              "#0d0887"
             ],
             [
              0.1111111111111111,
              "#46039f"
             ],
             [
              0.2222222222222222,
              "#7201a8"
             ],
             [
              0.3333333333333333,
              "#9c179e"
             ],
             [
              0.4444444444444444,
              "#bd3786"
             ],
             [
              0.5555555555555556,
              "#d8576b"
             ],
             [
              0.6666666666666666,
              "#ed7953"
             ],
             [
              0.7777777777777778,
              "#fb9f3a"
             ],
             [
              0.8888888888888888,
              "#fdca26"
             ],
             [
              1,
              "#f0f921"
             ]
            ],
            "type": "heatmap"
           }
          ],
          "heatmapgl": [
           {
            "colorbar": {
             "outlinewidth": 0,
             "ticks": ""
            },
            "colorscale": [
             [
              0,
              "#0d0887"
             ],
             [
              0.1111111111111111,
              "#46039f"
             ],
             [
              0.2222222222222222,
              "#7201a8"
             ],
             [
              0.3333333333333333,
              "#9c179e"
             ],
             [
              0.4444444444444444,
              "#bd3786"
             ],
             [
              0.5555555555555556,
              "#d8576b"
             ],
             [
              0.6666666666666666,
              "#ed7953"
             ],
             [
              0.7777777777777778,
              "#fb9f3a"
             ],
             [
              0.8888888888888888,
              "#fdca26"
             ],
             [
              1,
              "#f0f921"
             ]
            ],
            "type": "heatmapgl"
           }
          ],
          "histogram": [
           {
            "marker": {
             "pattern": {
              "fillmode": "overlay",
              "size": 10,
              "solidity": 0.2
             }
            },
            "type": "histogram"
           }
          ],
          "histogram2d": [
           {
            "colorbar": {
             "outlinewidth": 0,
             "ticks": ""
            },
            "colorscale": [
             [
              0,
              "#0d0887"
             ],
             [
              0.1111111111111111,
              "#46039f"
             ],
             [
              0.2222222222222222,
              "#7201a8"
             ],
             [
              0.3333333333333333,
              "#9c179e"
             ],
             [
              0.4444444444444444,
              "#bd3786"
             ],
             [
              0.5555555555555556,
              "#d8576b"
             ],
             [
              0.6666666666666666,
              "#ed7953"
             ],
             [
              0.7777777777777778,
              "#fb9f3a"
             ],
             [
              0.8888888888888888,
              "#fdca26"
             ],
             [
              1,
              "#f0f921"
             ]
            ],
            "type": "histogram2d"
           }
          ],
          "histogram2dcontour": [
           {
            "colorbar": {
             "outlinewidth": 0,
             "ticks": ""
            },
            "colorscale": [
             [
              0,
              "#0d0887"
             ],
             [
              0.1111111111111111,
              "#46039f"
             ],
             [
              0.2222222222222222,
              "#7201a8"
             ],
             [
              0.3333333333333333,
              "#9c179e"
             ],
             [
              0.4444444444444444,
              "#bd3786"
             ],
             [
              0.5555555555555556,
              "#d8576b"
             ],
             [
              0.6666666666666666,
              "#ed7953"
             ],
             [
              0.7777777777777778,
              "#fb9f3a"
             ],
             [
              0.8888888888888888,
              "#fdca26"
             ],
             [
              1,
              "#f0f921"
             ]
            ],
            "type": "histogram2dcontour"
           }
          ],
          "mesh3d": [
           {
            "colorbar": {
             "outlinewidth": 0,
             "ticks": ""
            },
            "type": "mesh3d"
           }
          ],
          "parcoords": [
           {
            "line": {
             "colorbar": {
              "outlinewidth": 0,
              "ticks": ""
             }
            },
            "type": "parcoords"
           }
          ],
          "pie": [
           {
            "automargin": true,
            "type": "pie"
           }
          ],
          "scatter": [
           {
            "fillpattern": {
             "fillmode": "overlay",
             "size": 10,
             "solidity": 0.2
            },
            "type": "scatter"
           }
          ],
          "scatter3d": [
           {
            "line": {
             "colorbar": {
              "outlinewidth": 0,
              "ticks": ""
             }
            },
            "marker": {
             "colorbar": {
              "outlinewidth": 0,
              "ticks": ""
             }
            },
            "type": "scatter3d"
           }
          ],
          "scattercarpet": [
           {
            "marker": {
             "colorbar": {
              "outlinewidth": 0,
              "ticks": ""
             }
            },
            "type": "scattercarpet"
           }
          ],
          "scattergeo": [
           {
            "marker": {
             "colorbar": {
              "outlinewidth": 0,
              "ticks": ""
             }
            },
            "type": "scattergeo"
           }
          ],
          "scattergl": [
           {
            "marker": {
             "colorbar": {
              "outlinewidth": 0,
              "ticks": ""
             }
            },
            "type": "scattergl"
           }
          ],
          "scattermapbox": [
           {
            "marker": {
             "colorbar": {
              "outlinewidth": 0,
              "ticks": ""
             }
            },
            "type": "scattermapbox"
           }
          ],
          "scatterpolar": [
           {
            "marker": {
             "colorbar": {
              "outlinewidth": 0,
              "ticks": ""
             }
            },
            "type": "scatterpolar"
           }
          ],
          "scatterpolargl": [
           {
            "marker": {
             "colorbar": {
              "outlinewidth": 0,
              "ticks": ""
             }
            },
            "type": "scatterpolargl"
           }
          ],
          "scatterternary": [
           {
            "marker": {
             "colorbar": {
              "outlinewidth": 0,
              "ticks": ""
             }
            },
            "type": "scatterternary"
           }
          ],
          "surface": [
           {
            "colorbar": {
             "outlinewidth": 0,
             "ticks": ""
            },
            "colorscale": [
             [
              0,
              "#0d0887"
             ],
             [
              0.1111111111111111,
              "#46039f"
             ],
             [
              0.2222222222222222,
              "#7201a8"
             ],
             [
              0.3333333333333333,
              "#9c179e"
             ],
             [
              0.4444444444444444,
              "#bd3786"
             ],
             [
              0.5555555555555556,
              "#d8576b"
             ],
             [
              0.6666666666666666,
              "#ed7953"
             ],
             [
              0.7777777777777778,
              "#fb9f3a"
             ],
             [
              0.8888888888888888,
              "#fdca26"
             ],
             [
              1,
              "#f0f921"
             ]
            ],
            "type": "surface"
           }
          ],
          "table": [
           {
            "cells": {
             "fill": {
              "color": "#EBF0F8"
             },
             "line": {
              "color": "white"
             }
            },
            "header": {
             "fill": {
              "color": "#C8D4E3"
             },
             "line": {
              "color": "white"
             }
            },
            "type": "table"
           }
          ]
         },
         "layout": {
          "annotationdefaults": {
           "arrowcolor": "#2a3f5f",
           "arrowhead": 0,
           "arrowwidth": 1
          },
          "autotypenumbers": "strict",
          "coloraxis": {
           "colorbar": {
            "outlinewidth": 0,
            "ticks": ""
           }
          },
          "colorscale": {
           "diverging": [
            [
             0,
             "#8e0152"
            ],
            [
             0.1,
             "#c51b7d"
            ],
            [
             0.2,
             "#de77ae"
            ],
            [
             0.3,
             "#f1b6da"
            ],
            [
             0.4,
             "#fde0ef"
            ],
            [
             0.5,
             "#f7f7f7"
            ],
            [
             0.6,
             "#e6f5d0"
            ],
            [
             0.7,
             "#b8e186"
            ],
            [
             0.8,
             "#7fbc41"
            ],
            [
             0.9,
             "#4d9221"
            ],
            [
             1,
             "#276419"
            ]
           ],
           "sequential": [
            [
             0,
             "#0d0887"
            ],
            [
             0.1111111111111111,
             "#46039f"
            ],
            [
             0.2222222222222222,
             "#7201a8"
            ],
            [
             0.3333333333333333,
             "#9c179e"
            ],
            [
             0.4444444444444444,
             "#bd3786"
            ],
            [
             0.5555555555555556,
             "#d8576b"
            ],
            [
             0.6666666666666666,
             "#ed7953"
            ],
            [
             0.7777777777777778,
             "#fb9f3a"
            ],
            [
             0.8888888888888888,
             "#fdca26"
            ],
            [
             1,
             "#f0f921"
            ]
           ],
           "sequentialminus": [
            [
             0,
             "#0d0887"
            ],
            [
             0.1111111111111111,
             "#46039f"
            ],
            [
             0.2222222222222222,
             "#7201a8"
            ],
            [
             0.3333333333333333,
             "#9c179e"
            ],
            [
             0.4444444444444444,
             "#bd3786"
            ],
            [
             0.5555555555555556,
             "#d8576b"
            ],
            [
             0.6666666666666666,
             "#ed7953"
            ],
            [
             0.7777777777777778,
             "#fb9f3a"
            ],
            [
             0.8888888888888888,
             "#fdca26"
            ],
            [
             1,
             "#f0f921"
            ]
           ]
          },
          "colorway": [
           "#636efa",
           "#EF553B",
           "#00cc96",
           "#ab63fa",
           "#FFA15A",
           "#19d3f3",
           "#FF6692",
           "#B6E880",
           "#FF97FF",
           "#FECB52"
          ],
          "font": {
           "color": "#2a3f5f"
          },
          "geo": {
           "bgcolor": "white",
           "lakecolor": "white",
           "landcolor": "#E5ECF6",
           "showlakes": true,
           "showland": true,
           "subunitcolor": "white"
          },
          "hoverlabel": {
           "align": "left"
          },
          "hovermode": "closest",
          "mapbox": {
           "style": "light"
          },
          "paper_bgcolor": "white",
          "plot_bgcolor": "#E5ECF6",
          "polar": {
           "angularaxis": {
            "gridcolor": "white",
            "linecolor": "white",
            "ticks": ""
           },
           "bgcolor": "#E5ECF6",
           "radialaxis": {
            "gridcolor": "white",
            "linecolor": "white",
            "ticks": ""
           }
          },
          "scene": {
           "xaxis": {
            "backgroundcolor": "#E5ECF6",
            "gridcolor": "white",
            "gridwidth": 2,
            "linecolor": "white",
            "showbackground": true,
            "ticks": "",
            "zerolinecolor": "white"
           },
           "yaxis": {
            "backgroundcolor": "#E5ECF6",
            "gridcolor": "white",
            "gridwidth": 2,
            "linecolor": "white",
            "showbackground": true,
            "ticks": "",
            "zerolinecolor": "white"
           },
           "zaxis": {
            "backgroundcolor": "#E5ECF6",
            "gridcolor": "white",
            "gridwidth": 2,
            "linecolor": "white",
            "showbackground": true,
            "ticks": "",
            "zerolinecolor": "white"
           }
          },
          "shapedefaults": {
           "line": {
            "color": "#2a3f5f"
           }
          },
          "ternary": {
           "aaxis": {
            "gridcolor": "white",
            "linecolor": "white",
            "ticks": ""
           },
           "baxis": {
            "gridcolor": "white",
            "linecolor": "white",
            "ticks": ""
           },
           "bgcolor": "#E5ECF6",
           "caxis": {
            "gridcolor": "white",
            "linecolor": "white",
            "ticks": ""
           }
          },
          "title": {
           "x": 0.05
          },
          "xaxis": {
           "automargin": true,
           "gridcolor": "white",
           "linecolor": "white",
           "ticks": "",
           "title": {
            "standoff": 15
           },
           "zerolinecolor": "white",
           "zerolinewidth": 2
          },
          "yaxis": {
           "automargin": true,
           "gridcolor": "white",
           "linecolor": "white",
           "ticks": "",
           "title": {
            "standoff": 15
           },
           "zerolinecolor": "white",
           "zerolinewidth": 2
          }
         }
        },
        "title": {
         "text": "Top 120 total Rank by Category"
        },
        "xaxis": {
         "anchor": "y",
         "domain": [
          0,
          1
         ],
         "title": {
          "text": "Category"
         }
        },
        "yaxis": {
         "anchor": "x",
         "domain": [
          0,
          1
         ],
         "title": {
          "text": "Total_Ranking"
         }
        }
       }
      }
     },
     "metadata": {},
     "output_type": "display_data"
    }
   ],
   "source": [
    "result_vis['Ranking'] = 121 - result_vis['N']\n",
    "\n",
    "result_grouped_cat_ranking = result_vis.groupby(by=['Category'], as_index=False)['Ranking'].sum()\n",
    "result_grouped_cat_ranking.columns = ['Category', 'Total_Ranking']\n",
    "result_grouped_sort_ranking = result_grouped_cat_ranking.sort_values(by='Total_Ranking', ascending=False) # type: ignore\n",
    "\n",
    "fig5 = px.bar(result_grouped_sort_ranking, x='Category', y='Total_Ranking', title='Top 120 total Rank by Category')\n",
    "fig5.show()"
   ]
  },
  {
   "cell_type": "code",
   "execution_count": 236,
   "metadata": {},
   "outputs": [
    {
     "data": {
      "application/vnd.plotly.v1+json": {
       "config": {
        "plotlyServerURL": "https://plot.ly"
       },
       "data": [
        {
         "alignmentgroup": "True",
         "hovertemplate": "Category=%{x}<br>Ranking=%{y}<extra></extra>",
         "legendgroup": "Decoration",
         "marker": {
          "color": "#636efa"
         },
         "name": "Decoration",
         "notched": false,
         "offsetgroup": "Decoration",
         "orientation": "v",
         "showlegend": true,
         "type": "box",
         "x": [
          "Decoration",
          "Decoration",
          "Decoration",
          "Decoration",
          "Decoration",
          "Decoration",
          "Decoration",
          "Decoration",
          "Decoration",
          "Decoration",
          "Decoration",
          "Decoration",
          "Decoration",
          "Decoration",
          "Decoration",
          "Decoration",
          "Decoration",
          "Decoration",
          "Decoration",
          "Decoration",
          "Decoration",
          "Decoration",
          "Decoration",
          "Decoration",
          "Decoration",
          "Decoration",
          "Decoration"
         ],
         "x0": " ",
         "xaxis": "x",
         "y": [
          120,
          119,
          116,
          114,
          113,
          111,
          106,
          105,
          97,
          96,
          85,
          77,
          73,
          72,
          69,
          52,
          50,
          44,
          41,
          36,
          34,
          22,
          18,
          13,
          12,
          11,
          3
         ],
         "y0": " ",
         "yaxis": "y"
        },
        {
         "alignmentgroup": "True",
         "hovertemplate": "Category=%{x}<br>Ranking=%{y}<extra></extra>",
         "legendgroup": "Furniture",
         "marker": {
          "color": "#EF553B"
         },
         "name": "Furniture",
         "notched": false,
         "offsetgroup": "Furniture",
         "orientation": "v",
         "showlegend": true,
         "type": "box",
         "x": [
          "Furniture",
          "Furniture",
          "Furniture",
          "Furniture",
          "Furniture",
          "Furniture",
          "Furniture",
          "Furniture",
          "Furniture",
          "Furniture",
          "Furniture",
          "Furniture",
          "Furniture",
          "Furniture",
          "Furniture",
          "Furniture",
          "Furniture",
          "Furniture",
          "Furniture",
          "Furniture",
          "Furniture",
          "Furniture",
          "Furniture",
          "Furniture",
          "Furniture",
          "Furniture"
         ],
         "x0": " ",
         "xaxis": "x",
         "y": [
          118,
          109,
          107,
          101,
          100,
          95,
          93,
          89,
          87,
          80,
          79,
          71,
          64,
          60,
          47,
          46,
          43,
          40,
          39,
          38,
          30,
          29,
          25,
          21,
          17,
          16
         ],
         "y0": " ",
         "yaxis": "y"
        },
        {
         "alignmentgroup": "True",
         "hovertemplate": "Category=%{x}<br>Ranking=%{y}<extra></extra>",
         "legendgroup": "Plants",
         "marker": {
          "color": "#00cc96"
         },
         "name": "Plants",
         "notched": false,
         "offsetgroup": "Plants",
         "orientation": "v",
         "showlegend": true,
         "type": "box",
         "x": [
          "Plants",
          "Plants",
          "Plants",
          "Plants",
          "Plants",
          "Plants"
         ],
         "x0": " ",
         "xaxis": "x",
         "y": [
          117,
          75,
          63,
          59,
          48,
          7
         ],
         "y0": " ",
         "yaxis": "y"
        },
        {
         "alignmentgroup": "True",
         "hovertemplate": "Category=%{x}<br>Ranking=%{y}<extra></extra>",
         "legendgroup": "Materials",
         "marker": {
          "color": "#ab63fa"
         },
         "name": "Materials",
         "notched": false,
         "offsetgroup": "Materials",
         "orientation": "v",
         "showlegend": true,
         "type": "box",
         "x": [
          "Materials",
          "Materials",
          "Materials",
          "Materials",
          "Materials",
          "Materials"
         ],
         "x0": " ",
         "xaxis": "x",
         "y": [
          115,
          110,
          102,
          90,
          26,
          20
         ],
         "y0": " ",
         "yaxis": "y"
        },
        {
         "alignmentgroup": "True",
         "hovertemplate": "Category=%{x}<br>Ranking=%{y}<extra></extra>",
         "legendgroup": "Kitchen",
         "marker": {
          "color": "#FFA15A"
         },
         "name": "Kitchen",
         "notched": false,
         "offsetgroup": "Kitchen",
         "orientation": "v",
         "showlegend": true,
         "type": "box",
         "x": [
          "Kitchen",
          "Kitchen",
          "Kitchen",
          "Kitchen",
          "Kitchen",
          "Kitchen",
          "Kitchen",
          "Kitchen",
          "Kitchen"
         ],
         "x0": " ",
         "xaxis": "x",
         "y": [
          112,
          83,
          76,
          66,
          61,
          42,
          37,
          31,
          14
         ],
         "y0": " ",
         "yaxis": "y"
        },
        {
         "alignmentgroup": "True",
         "hovertemplate": "Category=%{x}<br>Ranking=%{y}<extra></extra>",
         "legendgroup": "Bathroom",
         "marker": {
          "color": "#19d3f3"
         },
         "name": "Bathroom",
         "notched": false,
         "offsetgroup": "Bathroom",
         "orientation": "v",
         "showlegend": true,
         "type": "box",
         "x": [
          "Bathroom",
          "Bathroom",
          "Bathroom",
          "Bathroom",
          "Bathroom",
          "Bathroom",
          "Bathroom",
          "Bathroom",
          "Bathroom",
          "Bathroom",
          "Bathroom",
          "Bathroom",
          "Bathroom",
          "Bathroom",
          "Bathroom"
         ],
         "x0": " ",
         "xaxis": "x",
         "y": [
          108,
          104,
          98,
          94,
          82,
          78,
          74,
          65,
          51,
          35,
          27,
          15,
          10,
          9,
          2
         ],
         "y0": " ",
         "yaxis": "y"
        },
        {
         "alignmentgroup": "True",
         "hovertemplate": "Category=%{x}<br>Ranking=%{y}<extra></extra>",
         "legendgroup": "Other Models",
         "marker": {
          "color": "#FF6692"
         },
         "name": "Other Models",
         "notched": false,
         "offsetgroup": "Other Models",
         "orientation": "v",
         "showlegend": true,
         "type": "box",
         "x": [
          "Other Models",
          "Other Models",
          "Other Models",
          "Other Models",
          "Other Models",
          "Other Models",
          "Other Models",
          "Other Models",
          "Other Models",
          "Other Models",
          "Other Models",
          "Other Models"
         ],
         "x0": " ",
         "xaxis": "x",
         "y": [
          103,
          91,
          67,
          56,
          55,
          33,
          28,
          24,
          8,
          6,
          4,
          1
         ],
         "y0": " ",
         "yaxis": "y"
        },
        {
         "alignmentgroup": "True",
         "hovertemplate": "Category=%{x}<br>Ranking=%{y}<extra></extra>",
         "legendgroup": "Textures",
         "marker": {
          "color": "#B6E880"
         },
         "name": "Textures",
         "notched": false,
         "offsetgroup": "Textures",
         "orientation": "v",
         "showlegend": true,
         "type": "box",
         "x": [
          "Textures",
          "Textures",
          "Textures",
          "Textures",
          "Textures"
         ],
         "x0": " ",
         "xaxis": "x",
         "y": [
          99,
          81,
          68,
          54,
          32
         ],
         "y0": " ",
         "yaxis": "y"
        },
        {
         "alignmentgroup": "True",
         "hovertemplate": "Category=%{x}<br>Ranking=%{y}<extra></extra>",
         "legendgroup": "Childroom",
         "marker": {
          "color": "#FF97FF"
         },
         "name": "Childroom",
         "notched": false,
         "offsetgroup": "Childroom",
         "orientation": "v",
         "showlegend": true,
         "type": "box",
         "x": [
          "Childroom",
          "Childroom",
          "Childroom",
          "Childroom",
          "Childroom",
          "Childroom"
         ],
         "x0": " ",
         "xaxis": "x",
         "y": [
          92,
          70,
          62,
          58,
          45,
          23
         ],
         "y0": " ",
         "yaxis": "y"
        },
        {
         "alignmentgroup": "True",
         "hovertemplate": "Category=%{x}<br>Ranking=%{y}<extra></extra>",
         "legendgroup": "Lighting",
         "marker": {
          "color": "#FECB52"
         },
         "name": "Lighting",
         "notched": false,
         "offsetgroup": "Lighting",
         "orientation": "v",
         "showlegend": true,
         "type": "box",
         "x": [
          "Lighting",
          "Lighting",
          "Lighting"
         ],
         "x0": " ",
         "xaxis": "x",
         "y": [
          88,
          86,
          49
         ],
         "y0": " ",
         "yaxis": "y"
        },
        {
         "alignmentgroup": "True",
         "hovertemplate": "Category=%{x}<br>Ranking=%{y}<extra></extra>",
         "legendgroup": "Technology",
         "marker": {
          "color": "#636efa"
         },
         "name": "Technology",
         "notched": false,
         "offsetgroup": "Technology",
         "orientation": "v",
         "showlegend": true,
         "type": "box",
         "x": [
          "Technology",
          "Technology"
         ],
         "x0": " ",
         "xaxis": "x",
         "y": [
          84,
          19
         ],
         "y0": " ",
         "yaxis": "y"
        },
        {
         "alignmentgroup": "True",
         "hovertemplate": "Category=%{x}<br>Ranking=%{y}<extra></extra>",
         "legendgroup": "Scripts",
         "marker": {
          "color": "#EF553B"
         },
         "name": "Scripts",
         "notched": false,
         "offsetgroup": "Scripts",
         "orientation": "v",
         "showlegend": true,
         "type": "box",
         "x": [
          "Scripts"
         ],
         "x0": " ",
         "xaxis": "x",
         "y": [
          57
         ],
         "y0": " ",
         "yaxis": "y"
        },
        {
         "alignmentgroup": "True",
         "hovertemplate": "Category=%{x}<br>Ranking=%{y}<extra></extra>",
         "legendgroup": "Architecture",
         "marker": {
          "color": "#00cc96"
         },
         "name": "Architecture",
         "notched": false,
         "offsetgroup": "Architecture",
         "orientation": "v",
         "showlegend": true,
         "type": "box",
         "x": [
          "Architecture",
          "Architecture"
         ],
         "x0": " ",
         "xaxis": "x",
         "y": [
          53,
          5
         ],
         "y0": " ",
         "yaxis": "y"
        }
       ],
       "layout": {
        "boxmode": "overlay",
        "legend": {
         "title": {
          "text": "Category"
         },
         "tracegroupgap": 0
        },
        "template": {
         "data": {
          "bar": [
           {
            "error_x": {
             "color": "#2a3f5f"
            },
            "error_y": {
             "color": "#2a3f5f"
            },
            "marker": {
             "line": {
              "color": "#E5ECF6",
              "width": 0.5
             },
             "pattern": {
              "fillmode": "overlay",
              "size": 10,
              "solidity": 0.2
             }
            },
            "type": "bar"
           }
          ],
          "barpolar": [
           {
            "marker": {
             "line": {
              "color": "#E5ECF6",
              "width": 0.5
             },
             "pattern": {
              "fillmode": "overlay",
              "size": 10,
              "solidity": 0.2
             }
            },
            "type": "barpolar"
           }
          ],
          "carpet": [
           {
            "aaxis": {
             "endlinecolor": "#2a3f5f",
             "gridcolor": "white",
             "linecolor": "white",
             "minorgridcolor": "white",
             "startlinecolor": "#2a3f5f"
            },
            "baxis": {
             "endlinecolor": "#2a3f5f",
             "gridcolor": "white",
             "linecolor": "white",
             "minorgridcolor": "white",
             "startlinecolor": "#2a3f5f"
            },
            "type": "carpet"
           }
          ],
          "choropleth": [
           {
            "colorbar": {
             "outlinewidth": 0,
             "ticks": ""
            },
            "type": "choropleth"
           }
          ],
          "contour": [
           {
            "colorbar": {
             "outlinewidth": 0,
             "ticks": ""
            },
            "colorscale": [
             [
              0,
              "#0d0887"
             ],
             [
              0.1111111111111111,
              "#46039f"
             ],
             [
              0.2222222222222222,
              "#7201a8"
             ],
             [
              0.3333333333333333,
              "#9c179e"
             ],
             [
              0.4444444444444444,
              "#bd3786"
             ],
             [
              0.5555555555555556,
              "#d8576b"
             ],
             [
              0.6666666666666666,
              "#ed7953"
             ],
             [
              0.7777777777777778,
              "#fb9f3a"
             ],
             [
              0.8888888888888888,
              "#fdca26"
             ],
             [
              1,
              "#f0f921"
             ]
            ],
            "type": "contour"
           }
          ],
          "contourcarpet": [
           {
            "colorbar": {
             "outlinewidth": 0,
             "ticks": ""
            },
            "type": "contourcarpet"
           }
          ],
          "heatmap": [
           {
            "colorbar": {
             "outlinewidth": 0,
             "ticks": ""
            },
            "colorscale": [
             [
              0,
              "#0d0887"
             ],
             [
              0.1111111111111111,
              "#46039f"
             ],
             [
              0.2222222222222222,
              "#7201a8"
             ],
             [
              0.3333333333333333,
              "#9c179e"
             ],
             [
              0.4444444444444444,
              "#bd3786"
             ],
             [
              0.5555555555555556,
              "#d8576b"
             ],
             [
              0.6666666666666666,
              "#ed7953"
             ],
             [
              0.7777777777777778,
              "#fb9f3a"
             ],
             [
              0.8888888888888888,
              "#fdca26"
             ],
             [
              1,
              "#f0f921"
             ]
            ],
            "type": "heatmap"
           }
          ],
          "heatmapgl": [
           {
            "colorbar": {
             "outlinewidth": 0,
             "ticks": ""
            },
            "colorscale": [
             [
              0,
              "#0d0887"
             ],
             [
              0.1111111111111111,
              "#46039f"
             ],
             [
              0.2222222222222222,
              "#7201a8"
             ],
             [
              0.3333333333333333,
              "#9c179e"
             ],
             [
              0.4444444444444444,
              "#bd3786"
             ],
             [
              0.5555555555555556,
              "#d8576b"
             ],
             [
              0.6666666666666666,
              "#ed7953"
             ],
             [
              0.7777777777777778,
              "#fb9f3a"
             ],
             [
              0.8888888888888888,
              "#fdca26"
             ],
             [
              1,
              "#f0f921"
             ]
            ],
            "type": "heatmapgl"
           }
          ],
          "histogram": [
           {
            "marker": {
             "pattern": {
              "fillmode": "overlay",
              "size": 10,
              "solidity": 0.2
             }
            },
            "type": "histogram"
           }
          ],
          "histogram2d": [
           {
            "colorbar": {
             "outlinewidth": 0,
             "ticks": ""
            },
            "colorscale": [
             [
              0,
              "#0d0887"
             ],
             [
              0.1111111111111111,
              "#46039f"
             ],
             [
              0.2222222222222222,
              "#7201a8"
             ],
             [
              0.3333333333333333,
              "#9c179e"
             ],
             [
              0.4444444444444444,
              "#bd3786"
             ],
             [
              0.5555555555555556,
              "#d8576b"
             ],
             [
              0.6666666666666666,
              "#ed7953"
             ],
             [
              0.7777777777777778,
              "#fb9f3a"
             ],
             [
              0.8888888888888888,
              "#fdca26"
             ],
             [
              1,
              "#f0f921"
             ]
            ],
            "type": "histogram2d"
           }
          ],
          "histogram2dcontour": [
           {
            "colorbar": {
             "outlinewidth": 0,
             "ticks": ""
            },
            "colorscale": [
             [
              0,
              "#0d0887"
             ],
             [
              0.1111111111111111,
              "#46039f"
             ],
             [
              0.2222222222222222,
              "#7201a8"
             ],
             [
              0.3333333333333333,
              "#9c179e"
             ],
             [
              0.4444444444444444,
              "#bd3786"
             ],
             [
              0.5555555555555556,
              "#d8576b"
             ],
             [
              0.6666666666666666,
              "#ed7953"
             ],
             [
              0.7777777777777778,
              "#fb9f3a"
             ],
             [
              0.8888888888888888,
              "#fdca26"
             ],
             [
              1,
              "#f0f921"
             ]
            ],
            "type": "histogram2dcontour"
           }
          ],
          "mesh3d": [
           {
            "colorbar": {
             "outlinewidth": 0,
             "ticks": ""
            },
            "type": "mesh3d"
           }
          ],
          "parcoords": [
           {
            "line": {
             "colorbar": {
              "outlinewidth": 0,
              "ticks": ""
             }
            },
            "type": "parcoords"
           }
          ],
          "pie": [
           {
            "automargin": true,
            "type": "pie"
           }
          ],
          "scatter": [
           {
            "fillpattern": {
             "fillmode": "overlay",
             "size": 10,
             "solidity": 0.2
            },
            "type": "scatter"
           }
          ],
          "scatter3d": [
           {
            "line": {
             "colorbar": {
              "outlinewidth": 0,
              "ticks": ""
             }
            },
            "marker": {
             "colorbar": {
              "outlinewidth": 0,
              "ticks": ""
             }
            },
            "type": "scatter3d"
           }
          ],
          "scattercarpet": [
           {
            "marker": {
             "colorbar": {
              "outlinewidth": 0,
              "ticks": ""
             }
            },
            "type": "scattercarpet"
           }
          ],
          "scattergeo": [
           {
            "marker": {
             "colorbar": {
              "outlinewidth": 0,
              "ticks": ""
             }
            },
            "type": "scattergeo"
           }
          ],
          "scattergl": [
           {
            "marker": {
             "colorbar": {
              "outlinewidth": 0,
              "ticks": ""
             }
            },
            "type": "scattergl"
           }
          ],
          "scattermapbox": [
           {
            "marker": {
             "colorbar": {
              "outlinewidth": 0,
              "ticks": ""
             }
            },
            "type": "scattermapbox"
           }
          ],
          "scatterpolar": [
           {
            "marker": {
             "colorbar": {
              "outlinewidth": 0,
              "ticks": ""
             }
            },
            "type": "scatterpolar"
           }
          ],
          "scatterpolargl": [
           {
            "marker": {
             "colorbar": {
              "outlinewidth": 0,
              "ticks": ""
             }
            },
            "type": "scatterpolargl"
           }
          ],
          "scatterternary": [
           {
            "marker": {
             "colorbar": {
              "outlinewidth": 0,
              "ticks": ""
             }
            },
            "type": "scatterternary"
           }
          ],
          "surface": [
           {
            "colorbar": {
             "outlinewidth": 0,
             "ticks": ""
            },
            "colorscale": [
             [
              0,
              "#0d0887"
             ],
             [
              0.1111111111111111,
              "#46039f"
             ],
             [
              0.2222222222222222,
              "#7201a8"
             ],
             [
              0.3333333333333333,
              "#9c179e"
             ],
             [
              0.4444444444444444,
              "#bd3786"
             ],
             [
              0.5555555555555556,
              "#d8576b"
             ],
             [
              0.6666666666666666,
              "#ed7953"
             ],
             [
              0.7777777777777778,
              "#fb9f3a"
             ],
             [
              0.8888888888888888,
              "#fdca26"
             ],
             [
              1,
              "#f0f921"
             ]
            ],
            "type": "surface"
           }
          ],
          "table": [
           {
            "cells": {
             "fill": {
              "color": "#EBF0F8"
             },
             "line": {
              "color": "white"
             }
            },
            "header": {
             "fill": {
              "color": "#C8D4E3"
             },
             "line": {
              "color": "white"
             }
            },
            "type": "table"
           }
          ]
         },
         "layout": {
          "annotationdefaults": {
           "arrowcolor": "#2a3f5f",
           "arrowhead": 0,
           "arrowwidth": 1
          },
          "autotypenumbers": "strict",
          "coloraxis": {
           "colorbar": {
            "outlinewidth": 0,
            "ticks": ""
           }
          },
          "colorscale": {
           "diverging": [
            [
             0,
             "#8e0152"
            ],
            [
             0.1,
             "#c51b7d"
            ],
            [
             0.2,
             "#de77ae"
            ],
            [
             0.3,
             "#f1b6da"
            ],
            [
             0.4,
             "#fde0ef"
            ],
            [
             0.5,
             "#f7f7f7"
            ],
            [
             0.6,
             "#e6f5d0"
            ],
            [
             0.7,
             "#b8e186"
            ],
            [
             0.8,
             "#7fbc41"
            ],
            [
             0.9,
             "#4d9221"
            ],
            [
             1,
             "#276419"
            ]
           ],
           "sequential": [
            [
             0,
             "#0d0887"
            ],
            [
             0.1111111111111111,
             "#46039f"
            ],
            [
             0.2222222222222222,
             "#7201a8"
            ],
            [
             0.3333333333333333,
             "#9c179e"
            ],
            [
             0.4444444444444444,
             "#bd3786"
            ],
            [
             0.5555555555555556,
             "#d8576b"
            ],
            [
             0.6666666666666666,
             "#ed7953"
            ],
            [
             0.7777777777777778,
             "#fb9f3a"
            ],
            [
             0.8888888888888888,
             "#fdca26"
            ],
            [
             1,
             "#f0f921"
            ]
           ],
           "sequentialminus": [
            [
             0,
             "#0d0887"
            ],
            [
             0.1111111111111111,
             "#46039f"
            ],
            [
             0.2222222222222222,
             "#7201a8"
            ],
            [
             0.3333333333333333,
             "#9c179e"
            ],
            [
             0.4444444444444444,
             "#bd3786"
            ],
            [
             0.5555555555555556,
             "#d8576b"
            ],
            [
             0.6666666666666666,
             "#ed7953"
            ],
            [
             0.7777777777777778,
             "#fb9f3a"
            ],
            [
             0.8888888888888888,
             "#fdca26"
            ],
            [
             1,
             "#f0f921"
            ]
           ]
          },
          "colorway": [
           "#636efa",
           "#EF553B",
           "#00cc96",
           "#ab63fa",
           "#FFA15A",
           "#19d3f3",
           "#FF6692",
           "#B6E880",
           "#FF97FF",
           "#FECB52"
          ],
          "font": {
           "color": "#2a3f5f"
          },
          "geo": {
           "bgcolor": "white",
           "lakecolor": "white",
           "landcolor": "#E5ECF6",
           "showlakes": true,
           "showland": true,
           "subunitcolor": "white"
          },
          "hoverlabel": {
           "align": "left"
          },
          "hovermode": "closest",
          "mapbox": {
           "style": "light"
          },
          "paper_bgcolor": "white",
          "plot_bgcolor": "#E5ECF6",
          "polar": {
           "angularaxis": {
            "gridcolor": "white",
            "linecolor": "white",
            "ticks": ""
           },
           "bgcolor": "#E5ECF6",
           "radialaxis": {
            "gridcolor": "white",
            "linecolor": "white",
            "ticks": ""
           }
          },
          "scene": {
           "xaxis": {
            "backgroundcolor": "#E5ECF6",
            "gridcolor": "white",
            "gridwidth": 2,
            "linecolor": "white",
            "showbackground": true,
            "ticks": "",
            "zerolinecolor": "white"
           },
           "yaxis": {
            "backgroundcolor": "#E5ECF6",
            "gridcolor": "white",
            "gridwidth": 2,
            "linecolor": "white",
            "showbackground": true,
            "ticks": "",
            "zerolinecolor": "white"
           },
           "zaxis": {
            "backgroundcolor": "#E5ECF6",
            "gridcolor": "white",
            "gridwidth": 2,
            "linecolor": "white",
            "showbackground": true,
            "ticks": "",
            "zerolinecolor": "white"
           }
          },
          "shapedefaults": {
           "line": {
            "color": "#2a3f5f"
           }
          },
          "ternary": {
           "aaxis": {
            "gridcolor": "white",
            "linecolor": "white",
            "ticks": ""
           },
           "baxis": {
            "gridcolor": "white",
            "linecolor": "white",
            "ticks": ""
           },
           "bgcolor": "#E5ECF6",
           "caxis": {
            "gridcolor": "white",
            "linecolor": "white",
            "ticks": ""
           }
          },
          "title": {
           "x": 0.05
          },
          "xaxis": {
           "automargin": true,
           "gridcolor": "white",
           "linecolor": "white",
           "ticks": "",
           "title": {
            "standoff": 15
           },
           "zerolinecolor": "white",
           "zerolinewidth": 2
          },
          "yaxis": {
           "automargin": true,
           "gridcolor": "white",
           "linecolor": "white",
           "ticks": "",
           "title": {
            "standoff": 15
           },
           "zerolinecolor": "white",
           "zerolinewidth": 2
          }
         }
        },
        "title": {
         "text": "Top 120 Rank distribution by Category"
        },
        "xaxis": {
         "anchor": "y",
         "categoryarray": [
          "Decoration",
          "Furniture",
          "Plants",
          "Materials",
          "Kitchen",
          "Bathroom",
          "Other Models",
          "Textures",
          "Childroom",
          "Lighting",
          "Technology",
          "Scripts",
          "Architecture"
         ],
         "categoryorder": "array",
         "domain": [
          0,
          1
         ],
         "title": {
          "text": "Category"
         }
        },
        "yaxis": {
         "anchor": "x",
         "domain": [
          0,
          1
         ],
         "title": {
          "text": "Ranking"
         }
        }
       }
      }
     },
     "metadata": {},
     "output_type": "display_data"
    }
   ],
   "source": [
    "fig6 = px.box(result_vis, x='Category', y='Ranking', color='Category', title='Top 120 Rank distribution by Category')\n",
    "fig6.show()"
   ]
  },
  {
   "cell_type": "code",
   "execution_count": 237,
   "metadata": {},
   "outputs": [
    {
     "data": {
      "application/vnd.plotly.v1+json": {
       "config": {
        "plotlyServerURL": "https://plot.ly"
       },
       "data": [
        {
         "alignmentgroup": "True",
         "hovertemplate": "Category=%{x}<br>Dur_Shrink=%{y}<extra></extra>",
         "legendgroup": "Decoration",
         "marker": {
          "color": "#636efa"
         },
         "name": "Decoration",
         "notched": false,
         "offsetgroup": "Decoration",
         "orientation": "v",
         "showlegend": true,
         "type": "box",
         "x": [
          "Decoration",
          "Decoration",
          "Decoration",
          "Decoration",
          "Decoration",
          "Decoration",
          "Decoration",
          "Decoration",
          "Decoration",
          "Decoration",
          "Decoration",
          "Decoration",
          "Decoration",
          "Decoration",
          "Decoration",
          "Decoration",
          "Decoration",
          "Decoration",
          "Decoration",
          "Decoration",
          "Decoration",
          "Decoration",
          "Decoration",
          "Decoration",
          "Decoration",
          "Decoration",
          "Decoration"
         ],
         "x0": " ",
         "xaxis": "x",
         "y": [
          19,
          27,
          18,
          156,
          96,
          34,
          48,
          15,
          35,
          18,
          500,
          373,
          39,
          27,
          10,
          195,
          216,
          344,
          33,
          14,
          500,
          106,
          77,
          40,
          18,
          13,
          160
         ],
         "y0": " ",
         "yaxis": "y"
        },
        {
         "alignmentgroup": "True",
         "hovertemplate": "Category=%{x}<br>Dur_Shrink=%{y}<extra></extra>",
         "legendgroup": "Furniture",
         "marker": {
          "color": "#EF553B"
         },
         "name": "Furniture",
         "notched": false,
         "offsetgroup": "Furniture",
         "orientation": "v",
         "showlegend": true,
         "type": "box",
         "x": [
          "Furniture",
          "Furniture",
          "Furniture",
          "Furniture",
          "Furniture",
          "Furniture",
          "Furniture",
          "Furniture",
          "Furniture",
          "Furniture",
          "Furniture",
          "Furniture",
          "Furniture",
          "Furniture",
          "Furniture",
          "Furniture",
          "Furniture",
          "Furniture",
          "Furniture",
          "Furniture",
          "Furniture",
          "Furniture",
          "Furniture",
          "Furniture",
          "Furniture",
          "Furniture"
         ],
         "x0": " ",
         "xaxis": "x",
         "y": [
          48,
          16,
          25,
          357,
          208,
          25,
          12,
          53,
          18,
          40,
          34,
          24,
          48,
          29,
          127,
          112,
          103,
          48,
          42,
          28,
          163,
          144,
          228,
          140,
          86,
          38
         ],
         "y0": " ",
         "yaxis": "y"
        },
        {
         "alignmentgroup": "True",
         "hovertemplate": "Category=%{x}<br>Dur_Shrink=%{y}<extra></extra>",
         "legendgroup": "Plants",
         "marker": {
          "color": "#00cc96"
         },
         "name": "Plants",
         "notched": false,
         "offsetgroup": "Plants",
         "orientation": "v",
         "showlegend": true,
         "type": "box",
         "x": [
          "Plants",
          "Plants",
          "Plants",
          "Plants",
          "Plants",
          "Plants"
         ],
         "x0": " ",
         "xaxis": "x",
         "y": [
          214,
          86,
          39,
          22,
          257,
          500
         ],
         "y0": " ",
         "yaxis": "y"
        },
        {
         "alignmentgroup": "True",
         "hovertemplate": "Category=%{x}<br>Dur_Shrink=%{y}<extra></extra>",
         "legendgroup": "Materials",
         "marker": {
          "color": "#ab63fa"
         },
         "name": "Materials",
         "notched": false,
         "offsetgroup": "Materials",
         "orientation": "v",
         "showlegend": true,
         "type": "box",
         "x": [
          "Materials",
          "Materials",
          "Materials",
          "Materials",
          "Materials",
          "Materials"
         ],
         "x0": " ",
         "xaxis": "x",
         "y": [
          34,
          81,
          21,
          77,
          109,
          61
         ],
         "y0": " ",
         "yaxis": "y"
        },
        {
         "alignmentgroup": "True",
         "hovertemplate": "Category=%{x}<br>Dur_Shrink=%{y}<extra></extra>",
         "legendgroup": "Kitchen",
         "marker": {
          "color": "#FFA15A"
         },
         "name": "Kitchen",
         "notched": false,
         "offsetgroup": "Kitchen",
         "orientation": "v",
         "showlegend": true,
         "type": "box",
         "x": [
          "Kitchen",
          "Kitchen",
          "Kitchen",
          "Kitchen",
          "Kitchen",
          "Kitchen",
          "Kitchen",
          "Kitchen",
          "Kitchen"
         ],
         "x0": " ",
         "xaxis": "x",
         "y": [
          154,
          54,
          412,
          120,
          25,
          74,
          16,
          466,
          39
         ],
         "y0": " ",
         "yaxis": "y"
        },
        {
         "alignmentgroup": "True",
         "hovertemplate": "Category=%{x}<br>Dur_Shrink=%{y}<extra></extra>",
         "legendgroup": "Bathroom",
         "marker": {
          "color": "#19d3f3"
         },
         "name": "Bathroom",
         "notched": false,
         "offsetgroup": "Bathroom",
         "orientation": "v",
         "showlegend": true,
         "type": "box",
         "x": [
          "Bathroom",
          "Bathroom",
          "Bathroom",
          "Bathroom",
          "Bathroom",
          "Bathroom",
          "Bathroom",
          "Bathroom",
          "Bathroom",
          "Bathroom",
          "Bathroom",
          "Bathroom",
          "Bathroom",
          "Bathroom",
          "Bathroom"
         ],
         "x0": " ",
         "xaxis": "x",
         "y": [
          143,
          78,
          116,
          49,
          81,
          17,
          125,
          57,
          186,
          500,
          219,
          40,
          500,
          500,
          183
         ],
         "y0": " ",
         "yaxis": "y"
        },
        {
         "alignmentgroup": "True",
         "hovertemplate": "Category=%{x}<br>Dur_Shrink=%{y}<extra></extra>",
         "legendgroup": "Other Models",
         "marker": {
          "color": "#FF6692"
         },
         "name": "Other Models",
         "notched": false,
         "offsetgroup": "Other Models",
         "orientation": "v",
         "showlegend": true,
         "type": "box",
         "x": [
          "Other Models",
          "Other Models",
          "Other Models",
          "Other Models",
          "Other Models",
          "Other Models",
          "Other Models",
          "Other Models",
          "Other Models",
          "Other Models",
          "Other Models",
          "Other Models"
         ],
         "x0": " ",
         "xaxis": "x",
         "y": [
          34,
          393,
          150,
          500,
          500,
          437,
          171,
          98,
          500,
          500,
          264,
          92
         ],
         "y0": " ",
         "yaxis": "y"
        },
        {
         "alignmentgroup": "True",
         "hovertemplate": "Category=%{x}<br>Dur_Shrink=%{y}<extra></extra>",
         "legendgroup": "Textures",
         "marker": {
          "color": "#B6E880"
         },
         "name": "Textures",
         "notched": false,
         "offsetgroup": "Textures",
         "orientation": "v",
         "showlegend": true,
         "type": "box",
         "x": [
          "Textures",
          "Textures",
          "Textures",
          "Textures",
          "Textures"
         ],
         "x0": " ",
         "xaxis": "x",
         "y": [
          66,
          40,
          190,
          328,
          276
         ],
         "y0": " ",
         "yaxis": "y"
        },
        {
         "alignmentgroup": "True",
         "hovertemplate": "Category=%{x}<br>Dur_Shrink=%{y}<extra></extra>",
         "legendgroup": "Childroom",
         "marker": {
          "color": "#FF97FF"
         },
         "name": "Childroom",
         "notched": false,
         "offsetgroup": "Childroom",
         "orientation": "v",
         "showlegend": true,
         "type": "box",
         "x": [
          "Childroom",
          "Childroom",
          "Childroom",
          "Childroom",
          "Childroom",
          "Childroom"
         ],
         "x0": " ",
         "xaxis": "x",
         "y": [
          286,
          26,
          47,
          17,
          128,
          107
         ],
         "y0": " ",
         "yaxis": "y"
        },
        {
         "alignmentgroup": "True",
         "hovertemplate": "Category=%{x}<br>Dur_Shrink=%{y}<extra></extra>",
         "legendgroup": "Lighting",
         "marker": {
          "color": "#FECB52"
         },
         "name": "Lighting",
         "notched": false,
         "offsetgroup": "Lighting",
         "orientation": "v",
         "showlegend": true,
         "type": "box",
         "x": [
          "Lighting",
          "Lighting",
          "Lighting"
         ],
         "x0": " ",
         "xaxis": "x",
         "y": [
          33,
          31,
          263
         ],
         "y0": " ",
         "yaxis": "y"
        },
        {
         "alignmentgroup": "True",
         "hovertemplate": "Category=%{x}<br>Dur_Shrink=%{y}<extra></extra>",
         "legendgroup": "Technology",
         "marker": {
          "color": "#636efa"
         },
         "name": "Technology",
         "notched": false,
         "offsetgroup": "Technology",
         "orientation": "v",
         "showlegend": true,
         "type": "box",
         "x": [
          "Technology",
          "Technology"
         ],
         "x0": " ",
         "xaxis": "x",
         "y": [
          183,
          67
         ],
         "y0": " ",
         "yaxis": "y"
        },
        {
         "alignmentgroup": "True",
         "hovertemplate": "Category=%{x}<br>Dur_Shrink=%{y}<extra></extra>",
         "legendgroup": "Scripts",
         "marker": {
          "color": "#EF553B"
         },
         "name": "Scripts",
         "notched": false,
         "offsetgroup": "Scripts",
         "orientation": "v",
         "showlegend": true,
         "type": "box",
         "x": [
          "Scripts"
         ],
         "x0": " ",
         "xaxis": "x",
         "y": [
          500
         ],
         "y0": " ",
         "yaxis": "y"
        },
        {
         "alignmentgroup": "True",
         "hovertemplate": "Category=%{x}<br>Dur_Shrink=%{y}<extra></extra>",
         "legendgroup": "Architecture",
         "marker": {
          "color": "#00cc96"
         },
         "name": "Architecture",
         "notched": false,
         "offsetgroup": "Architecture",
         "orientation": "v",
         "showlegend": true,
         "type": "box",
         "x": [
          "Architecture",
          "Architecture"
         ],
         "x0": " ",
         "xaxis": "x",
         "y": [
          403,
          500
         ],
         "y0": " ",
         "yaxis": "y"
        }
       ],
       "layout": {
        "boxmode": "overlay",
        "legend": {
         "title": {
          "text": "Category"
         },
         "tracegroupgap": 0
        },
        "template": {
         "data": {
          "bar": [
           {
            "error_x": {
             "color": "#2a3f5f"
            },
            "error_y": {
             "color": "#2a3f5f"
            },
            "marker": {
             "line": {
              "color": "#E5ECF6",
              "width": 0.5
             },
             "pattern": {
              "fillmode": "overlay",
              "size": 10,
              "solidity": 0.2
             }
            },
            "type": "bar"
           }
          ],
          "barpolar": [
           {
            "marker": {
             "line": {
              "color": "#E5ECF6",
              "width": 0.5
             },
             "pattern": {
              "fillmode": "overlay",
              "size": 10,
              "solidity": 0.2
             }
            },
            "type": "barpolar"
           }
          ],
          "carpet": [
           {
            "aaxis": {
             "endlinecolor": "#2a3f5f",
             "gridcolor": "white",
             "linecolor": "white",
             "minorgridcolor": "white",
             "startlinecolor": "#2a3f5f"
            },
            "baxis": {
             "endlinecolor": "#2a3f5f",
             "gridcolor": "white",
             "linecolor": "white",
             "minorgridcolor": "white",
             "startlinecolor": "#2a3f5f"
            },
            "type": "carpet"
           }
          ],
          "choropleth": [
           {
            "colorbar": {
             "outlinewidth": 0,
             "ticks": ""
            },
            "type": "choropleth"
           }
          ],
          "contour": [
           {
            "colorbar": {
             "outlinewidth": 0,
             "ticks": ""
            },
            "colorscale": [
             [
              0,
              "#0d0887"
             ],
             [
              0.1111111111111111,
              "#46039f"
             ],
             [
              0.2222222222222222,
              "#7201a8"
             ],
             [
              0.3333333333333333,
              "#9c179e"
             ],
             [
              0.4444444444444444,
              "#bd3786"
             ],
             [
              0.5555555555555556,
              "#d8576b"
             ],
             [
              0.6666666666666666,
              "#ed7953"
             ],
             [
              0.7777777777777778,
              "#fb9f3a"
             ],
             [
              0.8888888888888888,
              "#fdca26"
             ],
             [
              1,
              "#f0f921"
             ]
            ],
            "type": "contour"
           }
          ],
          "contourcarpet": [
           {
            "colorbar": {
             "outlinewidth": 0,
             "ticks": ""
            },
            "type": "contourcarpet"
           }
          ],
          "heatmap": [
           {
            "colorbar": {
             "outlinewidth": 0,
             "ticks": ""
            },
            "colorscale": [
             [
              0,
              "#0d0887"
             ],
             [
              0.1111111111111111,
              "#46039f"
             ],
             [
              0.2222222222222222,
              "#7201a8"
             ],
             [
              0.3333333333333333,
              "#9c179e"
             ],
             [
              0.4444444444444444,
              "#bd3786"
             ],
             [
              0.5555555555555556,
              "#d8576b"
             ],
             [
              0.6666666666666666,
              "#ed7953"
             ],
             [
              0.7777777777777778,
              "#fb9f3a"
             ],
             [
              0.8888888888888888,
              "#fdca26"
             ],
             [
              1,
              "#f0f921"
             ]
            ],
            "type": "heatmap"
           }
          ],
          "heatmapgl": [
           {
            "colorbar": {
             "outlinewidth": 0,
             "ticks": ""
            },
            "colorscale": [
             [
              0,
              "#0d0887"
             ],
             [
              0.1111111111111111,
              "#46039f"
             ],
             [
              0.2222222222222222,
              "#7201a8"
             ],
             [
              0.3333333333333333,
              "#9c179e"
             ],
             [
              0.4444444444444444,
              "#bd3786"
             ],
             [
              0.5555555555555556,
              "#d8576b"
             ],
             [
              0.6666666666666666,
              "#ed7953"
             ],
             [
              0.7777777777777778,
              "#fb9f3a"
             ],
             [
              0.8888888888888888,
              "#fdca26"
             ],
             [
              1,
              "#f0f921"
             ]
            ],
            "type": "heatmapgl"
           }
          ],
          "histogram": [
           {
            "marker": {
             "pattern": {
              "fillmode": "overlay",
              "size": 10,
              "solidity": 0.2
             }
            },
            "type": "histogram"
           }
          ],
          "histogram2d": [
           {
            "colorbar": {
             "outlinewidth": 0,
             "ticks": ""
            },
            "colorscale": [
             [
              0,
              "#0d0887"
             ],
             [
              0.1111111111111111,
              "#46039f"
             ],
             [
              0.2222222222222222,
              "#7201a8"
             ],
             [
              0.3333333333333333,
              "#9c179e"
             ],
             [
              0.4444444444444444,
              "#bd3786"
             ],
             [
              0.5555555555555556,
              "#d8576b"
             ],
             [
              0.6666666666666666,
              "#ed7953"
             ],
             [
              0.7777777777777778,
              "#fb9f3a"
             ],
             [
              0.8888888888888888,
              "#fdca26"
             ],
             [
              1,
              "#f0f921"
             ]
            ],
            "type": "histogram2d"
           }
          ],
          "histogram2dcontour": [
           {
            "colorbar": {
             "outlinewidth": 0,
             "ticks": ""
            },
            "colorscale": [
             [
              0,
              "#0d0887"
             ],
             [
              0.1111111111111111,
              "#46039f"
             ],
             [
              0.2222222222222222,
              "#7201a8"
             ],
             [
              0.3333333333333333,
              "#9c179e"
             ],
             [
              0.4444444444444444,
              "#bd3786"
             ],
             [
              0.5555555555555556,
              "#d8576b"
             ],
             [
              0.6666666666666666,
              "#ed7953"
             ],
             [
              0.7777777777777778,
              "#fb9f3a"
             ],
             [
              0.8888888888888888,
              "#fdca26"
             ],
             [
              1,
              "#f0f921"
             ]
            ],
            "type": "histogram2dcontour"
           }
          ],
          "mesh3d": [
           {
            "colorbar": {
             "outlinewidth": 0,
             "ticks": ""
            },
            "type": "mesh3d"
           }
          ],
          "parcoords": [
           {
            "line": {
             "colorbar": {
              "outlinewidth": 0,
              "ticks": ""
             }
            },
            "type": "parcoords"
           }
          ],
          "pie": [
           {
            "automargin": true,
            "type": "pie"
           }
          ],
          "scatter": [
           {
            "fillpattern": {
             "fillmode": "overlay",
             "size": 10,
             "solidity": 0.2
            },
            "type": "scatter"
           }
          ],
          "scatter3d": [
           {
            "line": {
             "colorbar": {
              "outlinewidth": 0,
              "ticks": ""
             }
            },
            "marker": {
             "colorbar": {
              "outlinewidth": 0,
              "ticks": ""
             }
            },
            "type": "scatter3d"
           }
          ],
          "scattercarpet": [
           {
            "marker": {
             "colorbar": {
              "outlinewidth": 0,
              "ticks": ""
             }
            },
            "type": "scattercarpet"
           }
          ],
          "scattergeo": [
           {
            "marker": {
             "colorbar": {
              "outlinewidth": 0,
              "ticks": ""
             }
            },
            "type": "scattergeo"
           }
          ],
          "scattergl": [
           {
            "marker": {
             "colorbar": {
              "outlinewidth": 0,
              "ticks": ""
             }
            },
            "type": "scattergl"
           }
          ],
          "scattermapbox": [
           {
            "marker": {
             "colorbar": {
              "outlinewidth": 0,
              "ticks": ""
             }
            },
            "type": "scattermapbox"
           }
          ],
          "scatterpolar": [
           {
            "marker": {
             "colorbar": {
              "outlinewidth": 0,
              "ticks": ""
             }
            },
            "type": "scatterpolar"
           }
          ],
          "scatterpolargl": [
           {
            "marker": {
             "colorbar": {
              "outlinewidth": 0,
              "ticks": ""
             }
            },
            "type": "scatterpolargl"
           }
          ],
          "scatterternary": [
           {
            "marker": {
             "colorbar": {
              "outlinewidth": 0,
              "ticks": ""
             }
            },
            "type": "scatterternary"
           }
          ],
          "surface": [
           {
            "colorbar": {
             "outlinewidth": 0,
             "ticks": ""
            },
            "colorscale": [
             [
              0,
              "#0d0887"
             ],
             [
              0.1111111111111111,
              "#46039f"
             ],
             [
              0.2222222222222222,
              "#7201a8"
             ],
             [
              0.3333333333333333,
              "#9c179e"
             ],
             [
              0.4444444444444444,
              "#bd3786"
             ],
             [
              0.5555555555555556,
              "#d8576b"
             ],
             [
              0.6666666666666666,
              "#ed7953"
             ],
             [
              0.7777777777777778,
              "#fb9f3a"
             ],
             [
              0.8888888888888888,
              "#fdca26"
             ],
             [
              1,
              "#f0f921"
             ]
            ],
            "type": "surface"
           }
          ],
          "table": [
           {
            "cells": {
             "fill": {
              "color": "#EBF0F8"
             },
             "line": {
              "color": "white"
             }
            },
            "header": {
             "fill": {
              "color": "#C8D4E3"
             },
             "line": {
              "color": "white"
             }
            },
            "type": "table"
           }
          ]
         },
         "layout": {
          "annotationdefaults": {
           "arrowcolor": "#2a3f5f",
           "arrowhead": 0,
           "arrowwidth": 1
          },
          "autotypenumbers": "strict",
          "coloraxis": {
           "colorbar": {
            "outlinewidth": 0,
            "ticks": ""
           }
          },
          "colorscale": {
           "diverging": [
            [
             0,
             "#8e0152"
            ],
            [
             0.1,
             "#c51b7d"
            ],
            [
             0.2,
             "#de77ae"
            ],
            [
             0.3,
             "#f1b6da"
            ],
            [
             0.4,
             "#fde0ef"
            ],
            [
             0.5,
             "#f7f7f7"
            ],
            [
             0.6,
             "#e6f5d0"
            ],
            [
             0.7,
             "#b8e186"
            ],
            [
             0.8,
             "#7fbc41"
            ],
            [
             0.9,
             "#4d9221"
            ],
            [
             1,
             "#276419"
            ]
           ],
           "sequential": [
            [
             0,
             "#0d0887"
            ],
            [
             0.1111111111111111,
             "#46039f"
            ],
            [
             0.2222222222222222,
             "#7201a8"
            ],
            [
             0.3333333333333333,
             "#9c179e"
            ],
            [
             0.4444444444444444,
             "#bd3786"
            ],
            [
             0.5555555555555556,
             "#d8576b"
            ],
            [
             0.6666666666666666,
             "#ed7953"
            ],
            [
             0.7777777777777778,
             "#fb9f3a"
            ],
            [
             0.8888888888888888,
             "#fdca26"
            ],
            [
             1,
             "#f0f921"
            ]
           ],
           "sequentialminus": [
            [
             0,
             "#0d0887"
            ],
            [
             0.1111111111111111,
             "#46039f"
            ],
            [
             0.2222222222222222,
             "#7201a8"
            ],
            [
             0.3333333333333333,
             "#9c179e"
            ],
            [
             0.4444444444444444,
             "#bd3786"
            ],
            [
             0.5555555555555556,
             "#d8576b"
            ],
            [
             0.6666666666666666,
             "#ed7953"
            ],
            [
             0.7777777777777778,
             "#fb9f3a"
            ],
            [
             0.8888888888888888,
             "#fdca26"
            ],
            [
             1,
             "#f0f921"
            ]
           ]
          },
          "colorway": [
           "#636efa",
           "#EF553B",
           "#00cc96",
           "#ab63fa",
           "#FFA15A",
           "#19d3f3",
           "#FF6692",
           "#B6E880",
           "#FF97FF",
           "#FECB52"
          ],
          "font": {
           "color": "#2a3f5f"
          },
          "geo": {
           "bgcolor": "white",
           "lakecolor": "white",
           "landcolor": "#E5ECF6",
           "showlakes": true,
           "showland": true,
           "subunitcolor": "white"
          },
          "hoverlabel": {
           "align": "left"
          },
          "hovermode": "closest",
          "mapbox": {
           "style": "light"
          },
          "paper_bgcolor": "white",
          "plot_bgcolor": "#E5ECF6",
          "polar": {
           "angularaxis": {
            "gridcolor": "white",
            "linecolor": "white",
            "ticks": ""
           },
           "bgcolor": "#E5ECF6",
           "radialaxis": {
            "gridcolor": "white",
            "linecolor": "white",
            "ticks": ""
           }
          },
          "scene": {
           "xaxis": {
            "backgroundcolor": "#E5ECF6",
            "gridcolor": "white",
            "gridwidth": 2,
            "linecolor": "white",
            "showbackground": true,
            "ticks": "",
            "zerolinecolor": "white"
           },
           "yaxis": {
            "backgroundcolor": "#E5ECF6",
            "gridcolor": "white",
            "gridwidth": 2,
            "linecolor": "white",
            "showbackground": true,
            "ticks": "",
            "zerolinecolor": "white"
           },
           "zaxis": {
            "backgroundcolor": "#E5ECF6",
            "gridcolor": "white",
            "gridwidth": 2,
            "linecolor": "white",
            "showbackground": true,
            "ticks": "",
            "zerolinecolor": "white"
           }
          },
          "shapedefaults": {
           "line": {
            "color": "#2a3f5f"
           }
          },
          "ternary": {
           "aaxis": {
            "gridcolor": "white",
            "linecolor": "white",
            "ticks": ""
           },
           "baxis": {
            "gridcolor": "white",
            "linecolor": "white",
            "ticks": ""
           },
           "bgcolor": "#E5ECF6",
           "caxis": {
            "gridcolor": "white",
            "linecolor": "white",
            "ticks": ""
           }
          },
          "title": {
           "x": 0.05
          },
          "xaxis": {
           "automargin": true,
           "gridcolor": "white",
           "linecolor": "white",
           "ticks": "",
           "title": {
            "standoff": 15
           },
           "zerolinecolor": "white",
           "zerolinewidth": 2
          },
          "yaxis": {
           "automargin": true,
           "gridcolor": "white",
           "linecolor": "white",
           "ticks": "",
           "title": {
            "standoff": 15
           },
           "zerolinecolor": "white",
           "zerolinewidth": 2
          }
         }
        },
        "title": {
         "text": "Top 120 Duration distribution by Category"
        },
        "xaxis": {
         "anchor": "y",
         "categoryarray": [
          "Decoration",
          "Furniture",
          "Plants",
          "Materials",
          "Kitchen",
          "Bathroom",
          "Other Models",
          "Textures",
          "Childroom",
          "Lighting",
          "Technology",
          "Scripts",
          "Architecture"
         ],
         "categoryorder": "array",
         "domain": [
          0,
          1
         ],
         "title": {
          "text": "Category"
         }
        },
        "yaxis": {
         "anchor": "x",
         "domain": [
          0,
          1
         ],
         "title": {
          "text": "Dur_Shrink"
         }
        }
       }
      }
     },
     "metadata": {},
     "output_type": "display_data"
    }
   ],
   "source": [
    "fig7 = px.box(result_vis, x='Category', y='Dur_Shrink', color='Category', title='Top 120 Duration distribution by Category')\n",
    "fig7.show()"
   ]
  },
  {
   "cell_type": "code",
   "execution_count": 238,
   "metadata": {},
   "outputs": [
    {
     "data": {
      "application/vnd.plotly.v1+json": {
       "config": {
        "plotlyServerURL": "https://plot.ly"
       },
       "data": [
        {
         "customdata": [
          [
           1,
           "Christmas tree with fireplace 5",
           "dofen",
           314
          ],
          [
           2,
           "Benuta Leon Cream Wool Rug",
           "3Dmitruk",
           335
          ],
          [
           5,
           "Clothes for wardrobe NG15",
           "niga2323",
           744
          ],
          [
           7,
           "Benuta Dave Rectangular Fur Rug (3 colors)",
           "3Dmitruk",
           335
          ],
          [
           8,
           "Curtains with Roman blinds 2",
           "Rolan05",
           128
          ],
          [
           10,
           "Decorative Set 089",
           "Moriiiz",
           87
          ],
          [
           15,
           "Decorative Set 088",
           "Moriiiz",
           87
          ],
          [
           16,
           "coffee table decor set 005",
           "Mitya87",
           190
          ],
          [
           24,
           "A set of clothes in bright colors for a wardrobe or showroom and a store",
           "sofiakholina",
           772
          ],
          [
           25,
           "Roman blinds, Roman blinds",
           "Neeo",
           417
          ],
          [
           36,
           "Glass Block Wall 08",
           "NK3D",
           128
          ],
          [
           44,
           "Nice Christmas tree",
           "fffaaa12",
           1217
          ],
          [
           48,
           "3DArt Relief NG41",
           "niga2323",
           744
          ],
          [
           49,
           "Pila Vessels en gold / Jug",
           "picture.cg",
           8
          ],
          [
           52,
           "Pinch Pleat Linen Curtain with Roller Blind",
           "kapusta",
           128
          ],
          [
           69,
           "Decorative set with a small beige bag",
           "Lana3D",
           28
          ],
          [
           71,
           "Panel with waves",
           "Manax",
           69
          ],
          [
           77,
           "Christmas tree with fireplace 4",
           "dofen",
           314
          ],
          [
           80,
           "Decorative Set 270",
           "☆☆Roohollah.3DArtist☆☆",
           566
          ],
          [
           85,
           "Wonderful Christmas Tree",
           "fffaaa12",
           1217
          ],
          [
           87,
           "Christmas tree 5",
           "fffaaa12",
           1217
          ],
          [
           99,
           "Round carpet",
           "miklob",
           18
          ],
          [
           103,
           "Curtains 9",
           "fffaaa12",
           1217
          ],
          [
           108,
           "Curtain #121",
           "deez",
           86
          ],
          [
           109,
           "Christmas Tree and Decoration 78",
           "3Design.FB",
           1563
          ],
          [
           110,
           "Decorative Set-086 Shelf Accessories",
           "mhl.hnr",
           256
          ],
          [
           118,
           "Benuta Dave Round Fur Rug (3 colors)",
           "3Dmitruk",
           335
          ]
         ],
         "hovertemplate": "Category=Decoration<br>Dur_Shrink=%{x}<br>Ranking=%{y}<br>Followers=%{customdata[3]}<br>N=%{customdata[0]}<br>Title=%{customdata[1]}<br>Username=%{customdata[2]}<extra></extra>",
         "legendgroup": "Decoration",
         "marker": {
          "color": "#636efa",
          "size": [
           314,
           335,
           744,
           335,
           128,
           87,
           87,
           190,
           772,
           417,
           128,
           1217,
           744,
           8,
           128,
           28,
           69,
           314,
           566,
           1217,
           1217,
           18,
           1217,
           86,
           1563,
           256,
           335
          ],
          "sizemode": "area",
          "sizeref": 5.56,
          "symbol": "circle"
         },
         "mode": "markers",
         "name": "Decoration",
         "orientation": "v",
         "showlegend": true,
         "type": "scatter",
         "x": [
          19,
          27,
          18,
          156,
          96,
          34,
          48,
          15,
          35,
          18,
          500,
          373,
          39,
          27,
          10,
          195,
          216,
          344,
          33,
          14,
          500,
          106,
          77,
          40,
          18,
          13,
          160
         ],
         "xaxis": "x",
         "y": [
          120,
          119,
          116,
          114,
          113,
          111,
          106,
          105,
          97,
          96,
          85,
          77,
          73,
          72,
          69,
          52,
          50,
          44,
          41,
          36,
          34,
          22,
          18,
          13,
          12,
          11,
          3
         ],
         "yaxis": "y"
        },
        {
         "customdata": [
          [
           3,
           "Office chair Ashley",
           "illidan_",
           6
          ],
          [
           12,
           "Dressing room 28",
           "protektor",
           322
          ],
          [
           14,
           "Cairns pedestal Divan.ru",
           "niga2323",
           744
          ],
          [
           20,
           "TV wall with Xiaomi laser projector",
           "aoverina",
           2224
          ],
          [
           21,
           "Dressing room 16",
           "protektor",
           322
          ],
          [
           26,
           "Lindsay Laurie coffee table Divan.ru",
           "niga2323",
           744
          ],
          [
           28,
           "HOMARY island for dressing room NG16",
           "niga2323",
           744
          ],
          [
           32,
           "Milam chair Divan.ru",
           "niga2323",
           744
          ],
          [
           34,
           "Basic wardrobe made of cabinet furniture with doors",
           "sofiakholina",
           772
          ],
          [
           41,
           "Cecily Nara bedside table Cosmo",
           "niga2323",
           744
          ],
          [
           42,
           "TV Wall 52",
           "sirous21",
           231
          ],
          [
           50,
           "West Elm Curved Modern Upholstered Bed",
           "Ney",
           610
          ],
          [
           57,
           "Office chair Sergio La Redoute",
           "Артур56",
           245
          ],
          [
           61,
           "Minotti Pilots Bench",
           "horrortechnology",
           717
          ],
          [
           74,
           "Emmi Armchair by Minotti",
           "wesftgyhnj",
           192
          ],
          [
           75,
           "Gianna Natural Walnut Wood King Bed Frame",
           "ZikKoo",
           417
          ],
          [
           78,
           "garage tools set 23",
           "pluse44",
           9
          ],
          [
           81,
           "Bedside table Tammi",
           "evgeni77712",
           5
          ],
          [
           82,
           "Furniture Composition 271",
           "Stt.HuynOneShine",
           178
          ],
          [
           83,
           "Dinning Set 162",
           "лааппп",
           76
          ],
          [
           91,
           "Wardrobe system Rimadesio Dress Bold",
           "restereo",
           98
          ],
          [
           92,
           "Oval island for dressing room NG14",
           "niga2323",
           744
          ],
          [
           96,
           "Travis shelving Divan.ru",
           "niga2323",
           744
          ],
          [
           100,
           "Pattie Armchair by Minotti",
           "QrisTina",
           55
          ],
          [
           104,
           "Office Furniture | 4 | Workplace",
           "spurt",
           381
          ],
          [
           105,
           "Calder Lander Build table Divan.ru",
           "niga2323",
           744
          ]
         ],
         "hovertemplate": "Category=Furniture<br>Dur_Shrink=%{x}<br>Ranking=%{y}<br>Followers=%{customdata[3]}<br>N=%{customdata[0]}<br>Title=%{customdata[1]}<br>Username=%{customdata[2]}<extra></extra>",
         "legendgroup": "Furniture",
         "marker": {
          "color": "#EF553B",
          "size": [
           6,
           322,
           744,
           2224,
           322,
           744,
           744,
           744,
           772,
           744,
           231,
           610,
           245,
           717,
           192,
           417,
           9,
           5,
           178,
           76,
           98,
           744,
           744,
           55,
           381,
           744
          ],
          "sizemode": "area",
          "sizeref": 5.56,
          "symbol": "circle"
         },
         "mode": "markers",
         "name": "Furniture",
         "orientation": "v",
         "showlegend": true,
         "type": "scatter",
         "x": [
          48,
          16,
          25,
          357,
          208,
          25,
          12,
          53,
          18,
          40,
          34,
          24,
          48,
          29,
          127,
          112,
          103,
          48,
          42,
          28,
          163,
          144,
          228,
          140,
          86,
          38
         ],
         "xaxis": "x",
         "y": [
          118,
          109,
          107,
          101,
          100,
          95,
          93,
          89,
          87,
          80,
          79,
          71,
          64,
          60,
          47,
          46,
          43,
          40,
          39,
          38,
          30,
          29,
          25,
          21,
          17,
          16
         ],
         "yaxis": "y"
        },
        {
         "customdata": [
          [
           4,
           "Indoor Plant Set 89",
           "mh.designer",
           211
          ],
          [
           46,
           "Realistic meadow grass",
           "AlexHappy",
           1671
          ],
          [
           58,
           "A bouquet of lilacs in a glass vase",
           "auralis",
           228
          ],
          [
           62,
           "Bouquet 06",
           "Mahikoo",
           10
          ],
          [
           73,
           "Indoor Plant 702 - Olive Plant",
           "3Design.FB",
           1563
          ],
          [
           114,
           "Acer Ginnala",
           "Istwood15",
           871
          ]
         ],
         "hovertemplate": "Category=Plants<br>Dur_Shrink=%{x}<br>Ranking=%{y}<br>Followers=%{customdata[3]}<br>N=%{customdata[0]}<br>Title=%{customdata[1]}<br>Username=%{customdata[2]}<extra></extra>",
         "legendgroup": "Plants",
         "marker": {
          "color": "#00cc96",
          "size": [
           211,
           1671,
           228,
           10,
           1563,
           871
          ],
          "sizemode": "area",
          "sizeref": 5.56,
          "symbol": "circle"
         },
         "mode": "markers",
         "name": "Plants",
         "orientation": "v",
         "showlegend": true,
         "type": "scatter",
         "x": [
          214,
          86,
          39,
          22,
          257,
          500
         ],
         "xaxis": "x",
         "y": [
          117,
          75,
          63,
          59,
          48,
          7
         ],
         "yaxis": "y"
        },
        {
         "customdata": [
          [
           6,
           "Boucle Fabric",
           "marchik3d",
           150
          ],
          [
           11,
           "Carpeting. Seamless carpet",
           "sofiakholina",
           772
          ],
          [
           19,
           "Snow",
           "maltsev_stepan",
           310
          ],
          [
           31,
           "Porcelain tiles Nolana Estima",
           "RazorS95",
           11
          ],
          [
           95,
           "Rubber Coating",
           "maltsev_stepan",
           310
          ],
          [
           101,
           "Flat Metal Material",
           "jy893dsky",
           51
          ]
         ],
         "hovertemplate": "Category=Materials<br>Dur_Shrink=%{x}<br>Ranking=%{y}<br>Followers=%{customdata[3]}<br>N=%{customdata[0]}<br>Title=%{customdata[1]}<br>Username=%{customdata[2]}<extra></extra>",
         "legendgroup": "Materials",
         "marker": {
          "color": "#ab63fa",
          "size": [
           150,
           772,
           310,
           11,
           310,
           51
          ],
          "sizemode": "area",
          "sizeref": 5.56,
          "symbol": "circle"
         },
         "mode": "markers",
         "name": "Materials",
         "orientation": "v",
         "showlegend": true,
         "type": "scatter",
         "x": [
          34,
          81,
          21,
          77,
          109,
          61
         ],
         "xaxis": "x",
         "y": [
          115,
          110,
          102,
          90,
          26,
          20
         ],
         "yaxis": "y"
        },
        {
         "customdata": [
          [
           9,
           "Kitchen 10",
           "RazorS95",
           11
          ],
          [
           38,
           "Cookware set NG5",
           "niga2323",
           744
          ],
          [
           45,
           "Sinks and faucets Omoikiri",
           "oleksandroleksandr",
           125
          ],
          [
           55,
           "Wine with chocolate set/1",
           "unrepeatable",
           73
          ],
          [
           60,
           "kitchen 0252",
           "Hasan3596",
           97
          ],
          [
           79,
           "Kitchen Appliance Bosch Kitchen 81",
           "freesection",
           135
          ],
          [
           84,
           "Kitchen 27",
           "Bensy",
           91
          ],
          [
           90,
           "Serving NG3",
           "niga2323",
           744
          ],
          [
           107,
           "kitchen modern-067",
           "moon_3dart296",
           24
          ]
         ],
         "hovertemplate": "Category=Kitchen<br>Dur_Shrink=%{x}<br>Ranking=%{y}<br>Followers=%{customdata[3]}<br>N=%{customdata[0]}<br>Title=%{customdata[1]}<br>Username=%{customdata[2]}<extra></extra>",
         "legendgroup": "Kitchen",
         "marker": {
          "color": "#FFA15A",
          "size": [
           11,
           744,
           125,
           73,
           97,
           135,
           91,
           744,
           24
          ],
          "sizemode": "area",
          "sizeref": 5.56,
          "symbol": "circle"
         },
         "mode": "markers",
         "name": "Kitchen",
         "orientation": "v",
         "showlegend": true,
         "type": "scatter",
         "x": [
          154,
          54,
          412,
          120,
          25,
          74,
          16,
          466,
          39
         ],
         "xaxis": "x",
         "y": [
          112,
          83,
          76,
          66,
          61,
          42,
          37,
          31,
          14
         ],
         "yaxis": "y"
        },
        {
         "customdata": [
          [
           13,
           "Bathroom decor with a set of different cosmetic products",
           "sofiakholina",
           772
          ],
          [
           17,
           "Faucets and showers Boheme uno set 2",
           "Ashlesha",
           22
          ],
          [
           23,
           "Bathroom decor set P06",
           "picture.cg",
           8
          ],
          [
           27,
           "Omnires mixers",
           "fffaaa12",
           1217
          ],
          [
           39,
           "Faucets and showers Boheme uno set 1",
           "Ashlesha",
           22
          ],
          [
           43,
           "Bathroom accessories Z42",
           "zyazdiyan",
           34
          ],
          [
           47,
           "Bathroom furniture 21",
           "don2432",
           170
          ],
          [
           56,
           "Faucets and showers Boheme Specter set",
           "Ashlesha",
           22
          ],
          [
           70,
           "Timo Saona",
           "tokyokyoto",
           78
          ],
          [
           86,
           "Laundry Room _ 0005",
           "grol69",
           311
          ],
          [
           94,
           "Hotel Bathroom Accessories LE LABO",
           "lzv_cg",
           85
          ],
          [
           106,
           "EWRIKA Penelope electric heated towel rail",
           "niga2323",
           744
          ],
          [
           111,
           "LAUNDRY SET (Poliform FITTED + ASKO)",
           "vitaly_y_panov",
           223
          ],
          [
           112,
           "LAUNDRY SET 2 (L'ORIGINE Aeterna + ASKO)",
           "vitaly_y_panov",
           223
          ],
          [
           119,
           "Cezares Stylus + Boheme Uno + AlcaPlast Thin",
           "star_vera",
           7
          ]
         ],
         "hovertemplate": "Category=Bathroom<br>Dur_Shrink=%{x}<br>Ranking=%{y}<br>Followers=%{customdata[3]}<br>N=%{customdata[0]}<br>Title=%{customdata[1]}<br>Username=%{customdata[2]}<extra></extra>",
         "legendgroup": "Bathroom",
         "marker": {
          "color": "#19d3f3",
          "size": [
           772,
           22,
           8,
           1217,
           22,
           34,
           170,
           22,
           78,
           311,
           85,
           744,
           223,
           223,
           7
          ],
          "sizemode": "area",
          "sizeref": 5.56,
          "symbol": "circle"
         },
         "mode": "markers",
         "name": "Bathroom",
         "orientation": "v",
         "showlegend": true,
         "type": "scatter",
         "x": [
          143,
          78,
          116,
          49,
          81,
          17,
          125,
          57,
          186,
          500,
          219,
          40,
          500,
          500,
          183
         ],
         "xaxis": "x",
         "y": [
          108,
          104,
          98,
          94,
          82,
          78,
          74,
          65,
          51,
          35,
          27,
          15,
          10,
          9,
          2
         ],
         "yaxis": "y"
        },
        {
         "customdata": [
          [
           18,
           "Grilles for ventilation and air conditioning Redvent",
           "DashutaG",
           31
          ],
          [
           30,
           "Padel",
           "alexsm2014",
           22
          ],
          [
           54,
           "Volhovec Rift Doors",
           "Игорь1969",
           66
          ],
          [
           65,
           "Guitar. Guitar set for stage. Musical instrument. Microphone",
           "paradize",
           89
          ],
          [
           66,
           "Set of ceilings Armstrong and Grilyato",
           "solomon5555",
           430
          ],
          [
           88,
           "Yoga & Meditation Set",
           "wesftgyhnj",
           192
          ],
          [
           93,
           "A wall with a rack for gym equipment 2",
           "sofiakholina",
           772
          ],
          [
           97,
           "Ventilation system.",
           "slipknot1111",
           20
          ],
          [
           113,
           "Bakery Equipment",
           "Стаска",
           72
          ],
          [
           115,
           "CAT Forklift, Manual Loader and Warehouse Carts Kit",
           "quantum_4141",
           99
          ],
          [
           117,
           "Coffee Shop 6",
           "omnomn",
           310
          ],
          [
           120,
           "Cafe Equipment Set 8",
           "Стаска",
           72
          ]
         ],
         "hovertemplate": "Category=Other Models<br>Dur_Shrink=%{x}<br>Ranking=%{y}<br>Followers=%{customdata[3]}<br>N=%{customdata[0]}<br>Title=%{customdata[1]}<br>Username=%{customdata[2]}<extra></extra>",
         "legendgroup": "Other Models",
         "marker": {
          "color": "#FF6692",
          "size": [
           31,
           22,
           66,
           89,
           430,
           192,
           772,
           20,
           72,
           99,
           310,
           72
          ],
          "sizemode": "area",
          "sizeref": 5.56,
          "symbol": "circle"
         },
         "mode": "markers",
         "name": "Other Models",
         "orientation": "v",
         "showlegend": true,
         "type": "scatter",
         "x": [
          34,
          393,
          150,
          500,
          500,
          437,
          171,
          98,
          500,
          500,
          264,
          92
         ],
         "xaxis": "x",
         "y": [
          103,
          91,
          67,
          56,
          55,
          33,
          28,
          24,
          8,
          6,
          4,
          1
         ],
         "yaxis": "y"
        },
        {
         "customdata": [
          [
           22,
           "Equipe BALI",
           "StanisLOVE.viz",
           162
          ],
          [
           40,
           "Parquet board 4",
           "dofen",
           314
          ],
          [
           53,
           "Herringbone parquet chevron s8",
           "StanisLOVE.viz",
           162
          ],
          [
           67,
           "Boen parquet board wood flooring",
           "dofen",
           314
          ],
          [
           89,
           "Equipe Hopp",
           "StanisLOVE.viz",
           162
          ]
         ],
         "hovertemplate": "Category=Textures<br>Dur_Shrink=%{x}<br>Ranking=%{y}<br>Followers=%{customdata[3]}<br>N=%{customdata[0]}<br>Title=%{customdata[1]}<br>Username=%{customdata[2]}<extra></extra>",
         "legendgroup": "Textures",
         "marker": {
          "color": "#B6E880",
          "size": [
           162,
           314,
           162,
           314,
           162
          ],
          "sizemode": "area",
          "sizeref": 5.56,
          "symbol": "circle"
         },
         "mode": "markers",
         "name": "Textures",
         "orientation": "v",
         "showlegend": true,
         "type": "scatter",
         "x": [
          66,
          40,
          190,
          328,
          276
         ],
         "xaxis": "x",
         "y": [
          99,
          81,
          68,
          54,
          32
         ],
         "yaxis": "y"
        },
        {
         "customdata": [
          [
           29,
           "Siena Kids Bed By Como",
           "ZikKoo",
           417
          ],
          [
           51,
           "Children play area | Interactive",
           "lzv_cg",
           85
          ],
          [
           59,
           "Pinboard with childrens drawings",
           "DashutaG",
           31
          ],
          [
           63,
           "Childrens open wardrobe with desk, modular, modern, 25",
           "don2432",
           170
          ],
          [
           76,
           "Soft seat by the window in the children's room",
           "lzv_cg",
           85
          ],
          [
           98,
           "Interactive panel for children room",
           "lzv_cg",
           85
          ]
         ],
         "hovertemplate": "Category=Childroom<br>Dur_Shrink=%{x}<br>Ranking=%{y}<br>Followers=%{customdata[3]}<br>N=%{customdata[0]}<br>Title=%{customdata[1]}<br>Username=%{customdata[2]}<extra></extra>",
         "legendgroup": "Childroom",
         "marker": {
          "color": "#FF97FF",
          "size": [
           417,
           85,
           31,
           170,
           85,
           85
          ],
          "sizemode": "area",
          "sizeref": 5.56,
          "symbol": "circle"
         },
         "mode": "markers",
         "name": "Childroom",
         "orientation": "v",
         "showlegend": true,
         "type": "scatter",
         "x": [
          286,
          26,
          47,
          17,
          128,
          107
         ],
         "xaxis": "x",
         "y": [
          92,
          70,
          62,
          58,
          45,
          23
         ],
         "yaxis": "y"
        },
        {
         "customdata": [
          [
           33,
           "Moooi Drape Lights",
           "Karloo",
           100
          ],
          [
           35,
           "Track system centersvet Infinity",
           "Beliy",
           22
          ],
          [
           72,
           "Khmara by Makhno Rough Plaster Pendant Lamps",
           "CG__Aryan",
           29
          ]
         ],
         "hovertemplate": "Category=Lighting<br>Dur_Shrink=%{x}<br>Ranking=%{y}<br>Followers=%{customdata[3]}<br>N=%{customdata[0]}<br>Title=%{customdata[1]}<br>Username=%{customdata[2]}<extra></extra>",
         "legendgroup": "Lighting",
         "marker": {
          "color": "#FECB52",
          "size": [
           100,
           22,
           29
          ],
          "sizemode": "area",
          "sizeref": 5.56,
          "symbol": "circle"
         },
         "mode": "markers",
         "name": "Lighting",
         "orientation": "v",
         "showlegend": true,
         "type": "scatter",
         "x": [
          33,
          31,
          263
         ],
         "xaxis": "x",
         "y": [
          88,
          86,
          49
         ],
         "yaxis": "y"
        },
        {
         "customdata": [
          [
           37,
           "Robot vacuum cleaner Xiaomi Robot Vacuum Cleaner X20",
           "dilya_1",
           99
          ],
          [
           102,
           "Canon printer set.",
           "slipknot1111",
           20
          ]
         ],
         "hovertemplate": "Category=Technology<br>Dur_Shrink=%{x}<br>Ranking=%{y}<br>Followers=%{customdata[3]}<br>N=%{customdata[0]}<br>Title=%{customdata[1]}<br>Username=%{customdata[2]}<extra></extra>",
         "legendgroup": "Technology",
         "marker": {
          "color": "#636efa",
          "size": [
           99,
           20
          ],
          "sizemode": "area",
          "sizeref": 5.56,
          "symbol": "circle"
         },
         "mode": "markers",
         "name": "Technology",
         "orientation": "v",
         "showlegend": true,
         "type": "scatter",
         "x": [
          183,
          67
         ],
         "xaxis": "x",
         "y": [
          84,
          19
         ],
         "yaxis": "y"
        },
        {
         "customdata": [
          [
           64,
           "FloorGen Tools 1.5.4",
           "-NiK-",
           40
          ]
         ],
         "hovertemplate": "Category=Scripts<br>Dur_Shrink=%{x}<br>Ranking=%{y}<br>Followers=%{customdata[3]}<br>N=%{customdata[0]}<br>Title=%{customdata[1]}<br>Username=%{customdata[2]}<extra></extra>",
         "legendgroup": "Scripts",
         "marker": {
          "color": "#EF553B",
          "size": [
           40
          ],
          "sizemode": "area",
          "sizeref": 5.56,
          "symbol": "circle"
         },
         "mode": "markers",
         "name": "Scripts",
         "orientation": "v",
         "showlegend": true,
         "type": "scatter",
         "x": [
          500
         ],
         "xaxis": "x",
         "y": [
          57
         ],
         "yaxis": "y"
        },
        {
         "customdata": [
          [
           68,
           "Wet asphalt with leaves. Autumn. Editable",
           "paz",
           130
          ],
          [
           116,
           "Christmas Tree Street",
           "Al-make",
           50
          ]
         ],
         "hovertemplate": "Category=Architecture<br>Dur_Shrink=%{x}<br>Ranking=%{y}<br>Followers=%{customdata[3]}<br>N=%{customdata[0]}<br>Title=%{customdata[1]}<br>Username=%{customdata[2]}<extra></extra>",
         "legendgroup": "Architecture",
         "marker": {
          "color": "#00cc96",
          "size": [
           130,
           50
          ],
          "sizemode": "area",
          "sizeref": 5.56,
          "symbol": "circle"
         },
         "mode": "markers",
         "name": "Architecture",
         "orientation": "v",
         "showlegend": true,
         "type": "scatter",
         "x": [
          403,
          500
         ],
         "xaxis": "x",
         "y": [
          53,
          5
         ],
         "yaxis": "y"
        }
       ],
       "layout": {
        "legend": {
         "itemsizing": "constant",
         "title": {
          "text": "Category"
         },
         "tracegroupgap": 0
        },
        "template": {
         "data": {
          "bar": [
           {
            "error_x": {
             "color": "#2a3f5f"
            },
            "error_y": {
             "color": "#2a3f5f"
            },
            "marker": {
             "line": {
              "color": "#E5ECF6",
              "width": 0.5
             },
             "pattern": {
              "fillmode": "overlay",
              "size": 10,
              "solidity": 0.2
             }
            },
            "type": "bar"
           }
          ],
          "barpolar": [
           {
            "marker": {
             "line": {
              "color": "#E5ECF6",
              "width": 0.5
             },
             "pattern": {
              "fillmode": "overlay",
              "size": 10,
              "solidity": 0.2
             }
            },
            "type": "barpolar"
           }
          ],
          "carpet": [
           {
            "aaxis": {
             "endlinecolor": "#2a3f5f",
             "gridcolor": "white",
             "linecolor": "white",
             "minorgridcolor": "white",
             "startlinecolor": "#2a3f5f"
            },
            "baxis": {
             "endlinecolor": "#2a3f5f",
             "gridcolor": "white",
             "linecolor": "white",
             "minorgridcolor": "white",
             "startlinecolor": "#2a3f5f"
            },
            "type": "carpet"
           }
          ],
          "choropleth": [
           {
            "colorbar": {
             "outlinewidth": 0,
             "ticks": ""
            },
            "type": "choropleth"
           }
          ],
          "contour": [
           {
            "colorbar": {
             "outlinewidth": 0,
             "ticks": ""
            },
            "colorscale": [
             [
              0,
              "#0d0887"
             ],
             [
              0.1111111111111111,
              "#46039f"
             ],
             [
              0.2222222222222222,
              "#7201a8"
             ],
             [
              0.3333333333333333,
              "#9c179e"
             ],
             [
              0.4444444444444444,
              "#bd3786"
             ],
             [
              0.5555555555555556,
              "#d8576b"
             ],
             [
              0.6666666666666666,
              "#ed7953"
             ],
             [
              0.7777777777777778,
              "#fb9f3a"
             ],
             [
              0.8888888888888888,
              "#fdca26"
             ],
             [
              1,
              "#f0f921"
             ]
            ],
            "type": "contour"
           }
          ],
          "contourcarpet": [
           {
            "colorbar": {
             "outlinewidth": 0,
             "ticks": ""
            },
            "type": "contourcarpet"
           }
          ],
          "heatmap": [
           {
            "colorbar": {
             "outlinewidth": 0,
             "ticks": ""
            },
            "colorscale": [
             [
              0,
              "#0d0887"
             ],
             [
              0.1111111111111111,
              "#46039f"
             ],
             [
              0.2222222222222222,
              "#7201a8"
             ],
             [
              0.3333333333333333,
              "#9c179e"
             ],
             [
              0.4444444444444444,
              "#bd3786"
             ],
             [
              0.5555555555555556,
              "#d8576b"
             ],
             [
              0.6666666666666666,
              "#ed7953"
             ],
             [
              0.7777777777777778,
              "#fb9f3a"
             ],
             [
              0.8888888888888888,
              "#fdca26"
             ],
             [
              1,
              "#f0f921"
             ]
            ],
            "type": "heatmap"
           }
          ],
          "heatmapgl": [
           {
            "colorbar": {
             "outlinewidth": 0,
             "ticks": ""
            },
            "colorscale": [
             [
              0,
              "#0d0887"
             ],
             [
              0.1111111111111111,
              "#46039f"
             ],
             [
              0.2222222222222222,
              "#7201a8"
             ],
             [
              0.3333333333333333,
              "#9c179e"
             ],
             [
              0.4444444444444444,
              "#bd3786"
             ],
             [
              0.5555555555555556,
              "#d8576b"
             ],
             [
              0.6666666666666666,
              "#ed7953"
             ],
             [
              0.7777777777777778,
              "#fb9f3a"
             ],
             [
              0.8888888888888888,
              "#fdca26"
             ],
             [
              1,
              "#f0f921"
             ]
            ],
            "type": "heatmapgl"
           }
          ],
          "histogram": [
           {
            "marker": {
             "pattern": {
              "fillmode": "overlay",
              "size": 10,
              "solidity": 0.2
             }
            },
            "type": "histogram"
           }
          ],
          "histogram2d": [
           {
            "colorbar": {
             "outlinewidth": 0,
             "ticks": ""
            },
            "colorscale": [
             [
              0,
              "#0d0887"
             ],
             [
              0.1111111111111111,
              "#46039f"
             ],
             [
              0.2222222222222222,
              "#7201a8"
             ],
             [
              0.3333333333333333,
              "#9c179e"
             ],
             [
              0.4444444444444444,
              "#bd3786"
             ],
             [
              0.5555555555555556,
              "#d8576b"
             ],
             [
              0.6666666666666666,
              "#ed7953"
             ],
             [
              0.7777777777777778,
              "#fb9f3a"
             ],
             [
              0.8888888888888888,
              "#fdca26"
             ],
             [
              1,
              "#f0f921"
             ]
            ],
            "type": "histogram2d"
           }
          ],
          "histogram2dcontour": [
           {
            "colorbar": {
             "outlinewidth": 0,
             "ticks": ""
            },
            "colorscale": [
             [
              0,
              "#0d0887"
             ],
             [
              0.1111111111111111,
              "#46039f"
             ],
             [
              0.2222222222222222,
              "#7201a8"
             ],
             [
              0.3333333333333333,
              "#9c179e"
             ],
             [
              0.4444444444444444,
              "#bd3786"
             ],
             [
              0.5555555555555556,
              "#d8576b"
             ],
             [
              0.6666666666666666,
              "#ed7953"
             ],
             [
              0.7777777777777778,
              "#fb9f3a"
             ],
             [
              0.8888888888888888,
              "#fdca26"
             ],
             [
              1,
              "#f0f921"
             ]
            ],
            "type": "histogram2dcontour"
           }
          ],
          "mesh3d": [
           {
            "colorbar": {
             "outlinewidth": 0,
             "ticks": ""
            },
            "type": "mesh3d"
           }
          ],
          "parcoords": [
           {
            "line": {
             "colorbar": {
              "outlinewidth": 0,
              "ticks": ""
             }
            },
            "type": "parcoords"
           }
          ],
          "pie": [
           {
            "automargin": true,
            "type": "pie"
           }
          ],
          "scatter": [
           {
            "fillpattern": {
             "fillmode": "overlay",
             "size": 10,
             "solidity": 0.2
            },
            "type": "scatter"
           }
          ],
          "scatter3d": [
           {
            "line": {
             "colorbar": {
              "outlinewidth": 0,
              "ticks": ""
             }
            },
            "marker": {
             "colorbar": {
              "outlinewidth": 0,
              "ticks": ""
             }
            },
            "type": "scatter3d"
           }
          ],
          "scattercarpet": [
           {
            "marker": {
             "colorbar": {
              "outlinewidth": 0,
              "ticks": ""
             }
            },
            "type": "scattercarpet"
           }
          ],
          "scattergeo": [
           {
            "marker": {
             "colorbar": {
              "outlinewidth": 0,
              "ticks": ""
             }
            },
            "type": "scattergeo"
           }
          ],
          "scattergl": [
           {
            "marker": {
             "colorbar": {
              "outlinewidth": 0,
              "ticks": ""
             }
            },
            "type": "scattergl"
           }
          ],
          "scattermapbox": [
           {
            "marker": {
             "colorbar": {
              "outlinewidth": 0,
              "ticks": ""
             }
            },
            "type": "scattermapbox"
           }
          ],
          "scatterpolar": [
           {
            "marker": {
             "colorbar": {
              "outlinewidth": 0,
              "ticks": ""
             }
            },
            "type": "scatterpolar"
           }
          ],
          "scatterpolargl": [
           {
            "marker": {
             "colorbar": {
              "outlinewidth": 0,
              "ticks": ""
             }
            },
            "type": "scatterpolargl"
           }
          ],
          "scatterternary": [
           {
            "marker": {
             "colorbar": {
              "outlinewidth": 0,
              "ticks": ""
             }
            },
            "type": "scatterternary"
           }
          ],
          "surface": [
           {
            "colorbar": {
             "outlinewidth": 0,
             "ticks": ""
            },
            "colorscale": [
             [
              0,
              "#0d0887"
             ],
             [
              0.1111111111111111,
              "#46039f"
             ],
             [
              0.2222222222222222,
              "#7201a8"
             ],
             [
              0.3333333333333333,
              "#9c179e"
             ],
             [
              0.4444444444444444,
              "#bd3786"
             ],
             [
              0.5555555555555556,
              "#d8576b"
             ],
             [
              0.6666666666666666,
              "#ed7953"
             ],
             [
              0.7777777777777778,
              "#fb9f3a"
             ],
             [
              0.8888888888888888,
              "#fdca26"
             ],
             [
              1,
              "#f0f921"
             ]
            ],
            "type": "surface"
           }
          ],
          "table": [
           {
            "cells": {
             "fill": {
              "color": "#EBF0F8"
             },
             "line": {
              "color": "white"
             }
            },
            "header": {
             "fill": {
              "color": "#C8D4E3"
             },
             "line": {
              "color": "white"
             }
            },
            "type": "table"
           }
          ]
         },
         "layout": {
          "annotationdefaults": {
           "arrowcolor": "#2a3f5f",
           "arrowhead": 0,
           "arrowwidth": 1
          },
          "autotypenumbers": "strict",
          "coloraxis": {
           "colorbar": {
            "outlinewidth": 0,
            "ticks": ""
           }
          },
          "colorscale": {
           "diverging": [
            [
             0,
             "#8e0152"
            ],
            [
             0.1,
             "#c51b7d"
            ],
            [
             0.2,
             "#de77ae"
            ],
            [
             0.3,
             "#f1b6da"
            ],
            [
             0.4,
             "#fde0ef"
            ],
            [
             0.5,
             "#f7f7f7"
            ],
            [
             0.6,
             "#e6f5d0"
            ],
            [
             0.7,
             "#b8e186"
            ],
            [
             0.8,
             "#7fbc41"
            ],
            [
             0.9,
             "#4d9221"
            ],
            [
             1,
             "#276419"
            ]
           ],
           "sequential": [
            [
             0,
             "#0d0887"
            ],
            [
             0.1111111111111111,
             "#46039f"
            ],
            [
             0.2222222222222222,
             "#7201a8"
            ],
            [
             0.3333333333333333,
             "#9c179e"
            ],
            [
             0.4444444444444444,
             "#bd3786"
            ],
            [
             0.5555555555555556,
             "#d8576b"
            ],
            [
             0.6666666666666666,
             "#ed7953"
            ],
            [
             0.7777777777777778,
             "#fb9f3a"
            ],
            [
             0.8888888888888888,
             "#fdca26"
            ],
            [
             1,
             "#f0f921"
            ]
           ],
           "sequentialminus": [
            [
             0,
             "#0d0887"
            ],
            [
             0.1111111111111111,
             "#46039f"
            ],
            [
             0.2222222222222222,
             "#7201a8"
            ],
            [
             0.3333333333333333,
             "#9c179e"
            ],
            [
             0.4444444444444444,
             "#bd3786"
            ],
            [
             0.5555555555555556,
             "#d8576b"
            ],
            [
             0.6666666666666666,
             "#ed7953"
            ],
            [
             0.7777777777777778,
             "#fb9f3a"
            ],
            [
             0.8888888888888888,
             "#fdca26"
            ],
            [
             1,
             "#f0f921"
            ]
           ]
          },
          "colorway": [
           "#636efa",
           "#EF553B",
           "#00cc96",
           "#ab63fa",
           "#FFA15A",
           "#19d3f3",
           "#FF6692",
           "#B6E880",
           "#FF97FF",
           "#FECB52"
          ],
          "font": {
           "color": "#2a3f5f"
          },
          "geo": {
           "bgcolor": "white",
           "lakecolor": "white",
           "landcolor": "#E5ECF6",
           "showlakes": true,
           "showland": true,
           "subunitcolor": "white"
          },
          "hoverlabel": {
           "align": "left"
          },
          "hovermode": "closest",
          "mapbox": {
           "style": "light"
          },
          "paper_bgcolor": "white",
          "plot_bgcolor": "#E5ECF6",
          "polar": {
           "angularaxis": {
            "gridcolor": "white",
            "linecolor": "white",
            "ticks": ""
           },
           "bgcolor": "#E5ECF6",
           "radialaxis": {
            "gridcolor": "white",
            "linecolor": "white",
            "ticks": ""
           }
          },
          "scene": {
           "xaxis": {
            "backgroundcolor": "#E5ECF6",
            "gridcolor": "white",
            "gridwidth": 2,
            "linecolor": "white",
            "showbackground": true,
            "ticks": "",
            "zerolinecolor": "white"
           },
           "yaxis": {
            "backgroundcolor": "#E5ECF6",
            "gridcolor": "white",
            "gridwidth": 2,
            "linecolor": "white",
            "showbackground": true,
            "ticks": "",
            "zerolinecolor": "white"
           },
           "zaxis": {
            "backgroundcolor": "#E5ECF6",
            "gridcolor": "white",
            "gridwidth": 2,
            "linecolor": "white",
            "showbackground": true,
            "ticks": "",
            "zerolinecolor": "white"
           }
          },
          "shapedefaults": {
           "line": {
            "color": "#2a3f5f"
           }
          },
          "ternary": {
           "aaxis": {
            "gridcolor": "white",
            "linecolor": "white",
            "ticks": ""
           },
           "baxis": {
            "gridcolor": "white",
            "linecolor": "white",
            "ticks": ""
           },
           "bgcolor": "#E5ECF6",
           "caxis": {
            "gridcolor": "white",
            "linecolor": "white",
            "ticks": ""
           }
          },
          "title": {
           "x": 0.05
          },
          "xaxis": {
           "automargin": true,
           "gridcolor": "white",
           "linecolor": "white",
           "ticks": "",
           "title": {
            "standoff": 15
           },
           "zerolinecolor": "white",
           "zerolinewidth": 2
          },
          "yaxis": {
           "automargin": true,
           "gridcolor": "white",
           "linecolor": "white",
           "ticks": "",
           "title": {
            "standoff": 15
           },
           "zerolinecolor": "white",
           "zerolinewidth": 2
          }
         }
        },
        "title": {
         "text": "Top 120 by Duration and Ranking"
        },
        "xaxis": {
         "anchor": "y",
         "domain": [
          0,
          1
         ],
         "title": {
          "text": "Dur_Shrink"
         }
        },
        "yaxis": {
         "anchor": "x",
         "domain": [
          0,
          1
         ],
         "title": {
          "text": "Ranking"
         }
        }
       }
      }
     },
     "metadata": {},
     "output_type": "display_data"
    }
   ],
   "source": [
    "fig8 = px.scatter(result_vis, x='Dur_Shrink', y='Ranking', color='Category', size='Followers', hover_data=['N','Title','Username','Followers'], title='Top 120 by Duration and Ranking')\n",
    "fig8.show()"
   ]
  },
  {
   "cell_type": "code",
   "execution_count": null,
   "metadata": {},
   "outputs": [],
   "source": [
    "fig1.write_html(\"Top 120 Count by Category.html\")\n",
    "fig2.write_html(\"Top 120 Count by Subcategory.html\")\n",
    "fig3.write_html(\"Top 120 by Selected and Followers.html\")\n",
    "fig4.write_html(\"Top 120 Count by Duration.html\")\n",
    "fig5.write_html(\"Top 120 total Rank by Category.html\")\n",
    "fig6.write_html(\"Top 120 Rank distribution by Category.html\")\n",
    "fig7.write_html(\"Top 120 Duration distribution by Category.html\")\n",
    "fig8.write_html(\"Top 120 by Duration and Ranking.html\")"
   ]
  }
 ],
 "metadata": {
  "kernelspec": {
   "display_name": "Python 3",
   "language": "python",
   "name": "python3"
  },
  "language_info": {
   "codemirror_mode": {
    "name": "ipython",
    "version": 3
   },
   "file_extension": ".py",
   "mimetype": "text/x-python",
   "name": "python",
   "nbconvert_exporter": "python",
   "pygments_lexer": "ipython3",
   "version": "3.9.13"
  }
 },
 "nbformat": 4,
 "nbformat_minor": 2
}
