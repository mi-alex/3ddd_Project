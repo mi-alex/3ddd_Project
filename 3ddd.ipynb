{
 "cells": [
  {
   "cell_type": "markdown",
   "metadata": {},
   "source": [
    "## Парсинг данных сайта 3dsky.org\n",
    "\n",
    "### Получение данных с сайта\n",
    "Получение данных выполняется в два прохода. Сначала мы берём первые страницы топа и формируем список моделей с основными данными: номер по порядку, дата парсинга, наименование, ссылка. На втором этапе мы проходим по этому списку, заходя на страницу каждой модели, и получаем детализированную информацию о ней. В связи с тем, что иногда случаются ошибки получения данных (из-за неустойчивости сети), для каждой модели предпринимаются несколько попыток парсинга."
   ]
  },
  {
   "cell_type": "code",
   "execution_count": 13,
   "metadata": {},
   "outputs": [
    {
     "name": "stdout",
     "output_type": "stream",
     "text": [
      "Success: [1, '2025-01-11', 'Dressing room 28', 'https://3dsky.org/3dmodels/show/garderobnaia_28', 'Furniture', 'Wardrobe & Display cabinets', '3dsMax 2017 + fbx', 'Corona', 'None', 'None', '2024-11-14', 'protektor', 335, 161], attempt: 1\n",
      "Success: [2, '2025-01-11', 'Christmas tree with fireplace 5', 'https://3dsky.org/3dmodels/show/novogodniaia_elka_s_kaminom_5', 'Decoration', 'Other decorative objects', '3dsMax 2016 + obj', 'Corona', 'None', 'None', '2024-11-11', 'dofen', 328, 366], attempt: 1\n",
      "Success: [3, '2025-01-11', 'Decorative set NG27', 'https://3dsky.org/3dmodels/show/dekorativnyi_nabor_ng27', 'Decoration', 'Decorative set', '3dsMax 2016 + obj', 'Corona', 'V-Ray', 'None', '2024-12-25', 'niga2323', 794, 110], attempt: 1\n",
      "Success: [4, '2025-01-11', 'Benuta Dave Rectangular Fur Rug (3 colors)', 'https://3dsky.org/3dmodels/show/benuta_dave_rectangular_fur_rug_3_colors', 'Decoration', 'Carpets', '3dsMax 2015 + obj', 'Corona', 'None', 'None', '2024-06-27', '3Dmitruk', 346, 605], attempt: 1\n",
      "Success: [5, '2025-01-11', 'Clothes for wardrobe NG15', 'https://3dsky.org/3dmodels/show/odezhda_dlia_garderoba_ng15', 'Decoration', 'Clothes', '3dsMax 2016 + obj', 'Corona', 'V-Ray', 'None', '2024-11-12', 'niga2323', 794, 216], attempt: 1\n",
      "Success: [6, '2025-01-11', 'Benuta Leon Cream Wool Rug', 'https://3dsky.org/3dmodels/show/benuta_leon_cream_wool_rug', 'Decoration', 'Carpets', '3dsMax 2015 + obj', 'Corona', 'None', 'None', '2024-11-03', '3Dmitruk', 346, 365], attempt: 1\n",
      "Success: [7, '2025-01-11', 'Decorative plaster 25', 'https://3dsky.org/3dmodels/show/dekorativnaia_shtukaturka_25_3', 'Textures', 'Wall covering', '3dsMax 2020 + obj', 'Corona', 'None', 'None', '2024-12-18', 'fenomen1988', 7, 29], attempt: 1\n",
      "Success: [8, '2025-01-11', 'Altostratus by L&G Studio', 'https://3dsky.org/3dmodels/show/altostratus_by_l_g_studio', 'Lighting', 'Pendant light', '3dsMax 2015 + fbx', 'Corona', 'None', 'None', '2025-01-03', 'karaputkautka', 643, 46], attempt: 1\n",
      "Success: [9, '2025-01-11', 'Bathroom furniture 27 modular in a modern style', 'https://3dsky.org/3dmodels/show/mebel_dlia_vannoi_komnaty_27_modulnaia_v_sovremennom_stile', 'Bathroom', 'Bathroom furniture', '3dsMax 2013 + obj', 'Corona', 'None', 'None', '2024-12-15', 'don2432', 174, 19], attempt: 1\n",
      "Success: [10, '2025-01-11', 'Decor set with water and pears stv005', 'https://3dsky.org/3dmodels/show/dekor_nabor_s_vodoi_i_grushami_stv005', 'Kitchen', 'Food and drinks', '3dsMax 2015 + obj', 'Corona', 'None', 'None', '2024-12-23', 'GOSS', 22, 133], attempt: 1\n",
      "Success: [11, '2025-01-11', 'Cookware set NG5', 'https://3dsky.org/3dmodels/show/nabor_posudy_ng5', 'Kitchen', 'Tableware', '3dsMax 2016 + obj', 'Corona', 'V-Ray', 'None', '2024-10-07', 'niga2323', 794, 427], attempt: 1\n",
      "Success: [12, '2025-01-11', 'West Elm Curved Modern Upholstered Bed', 'https://3dsky.org/3dmodels/show/west_elm_curved_modern_upholstered_bed_9', 'Furniture', 'Bed', '3dsMax 2016 + obj', 'Corona', 'V-Ray', 'None', '2024-11-06', 'Ney', 625, 145], attempt: 1\n",
      "Success: [13, '2025-01-11', 'Decorative set with branch ch15', 'https://3dsky.org/3dmodels/show/decorative_set_with_branch_ch15', 'Decoration', 'Decorative set', '3dsMax 2016 + fbx', 'Corona', 'None', 'None', '2024-10-11', 'cheka_3dviz', 117, 354], attempt: 1\n",
      "Success: [14, '2025-01-11', 'Christmas tree with bows 8', 'https://3dsky.org/3dmodels/show/novogodniaia_elka_s_bantami_8', 'Decoration', 'Other decorative objects', '3dsMax 2016 + obj', 'Corona', 'V-Ray', 'None', '2024-12-23', 'dofen', 328, 62], attempt: 1\n",
      "Success: [15, '2025-01-11', 'coffee table decor set 005', 'https://3dsky.org/3dmodels/show/coffee_table_decor_set_005', 'Decoration', 'Decorative set', '3dsMax 2015 + fbx', 'Corona', 'V-Ray', 'None', '2024-11-15', 'Mitya87', 199, 420], attempt: 1\n",
      "Success: [16, '2025-01-11', 'Houseplants 01', 'https://3dsky.org/3dmodels/show/komnatnye_rasteniia_01', 'Plants', 'Indoor', '3dsMax 2019 + obj', 'Corona', 'None', 'None', '2024-10-10', '13halav', 8, 126], attempt: 1\n",
      "Success: [17, '2025-01-11', 'A set of clothes and accessories to fill a wardrobe or store and showroom', 'https://3dsky.org/3dmodels/show/a_set_of_clothes_and_accessories_to_fill_a_wardrobe_or_store_and_showroom', 'Decoration', 'Clothes', '3dsMax 2015 + fbx', 'Corona', 'V-Ray', 'None', '2024-11-23', 'sofiakholina', 810, 151], attempt: 1\n",
      "Success: [18, '2025-01-11', 'HOMARY island for dressing room NG16', 'https://3dsky.org/3dmodels/show/homary_ostrov_dlia_garderobnoi_ng16', 'Furniture', 'Other', '3dsMax 2016 + obj', 'Corona', 'V-Ray', 'None', '2024-11-18', 'niga2323', 794, 347], attempt: 1\n",
      "Success: [19, '2025-01-11', 'Sockets and switches Donel series R98', 'https://3dsky.org/3dmodels/show/rozetki_i_vykliuchateli_donel_ceriia_r98_1', 'Technology', 'Miscellaneous', '3dsMax 2017 + obj', 'Corona', 'V-Ray', 'None', '2024-12-17', 'DashutaG', 34, 68], attempt: 1\n",
      "Success: [20, '2025-01-11', 'Narvik Soft Sectional Sofa', 'https://3dsky.org/3dmodels/show/narvik_soft_sectional_sofa', 'Furniture', 'Sofa', '3dsMax 2017 + obj', 'Corona', 'V-Ray', 'None', '2024-12-24', 'Theorema3D', 250, 29], attempt: 1\n",
      "Success: [21, '2025-01-11', 'Wood Floor Set 12', 'https://3dsky.org/3dmodels/show/wood_floor_set_12', 'Textures', 'Floor coverings', '3dsMax 2014 + obj', 'Corona', 'V-Ray', 'None', '2021-08-19', 'rakochi.design', 535, 1097], attempt: 1\n",
      "Success: [22, '2025-01-11', 'Tesla Optimus Gen 2', 'https://3dsky.org/3dmodels/show/tesla_optimus_gen_2', 'Technology', 'Miscellaneous', '3dsMax 2021 + fbx', 'Corona', 'None', 'None', '2024-01-18', 'hunterx2', 118, 83], attempt: 1\n",
      "Success: [23, '2025-01-11', 'Grilles for ventilation and air conditioning Redvent', 'https://3dsky.org/3dmodels/show/reshetki_dlia_ventiliatsii_i_konditsionirovaniia_redvent', 'Other Models', 'Miscellaneous', '3dsMax 2017 + obj', 'Corona', 'V-Ray', 'None', '2024-10-27', 'DashutaG', 34, 191], attempt: 1\n",
      "Success: [24, '2025-01-11', 'Ladder Stairs 21', 'https://3dsky.org/3dmodels/show/sovremennaia_lestnitsa_21', 'Other Models', 'Staircase', '3dsMax 2016 + obj', 'Corona', 'V-Ray', 'None', '2024-05-17', 'CG.GMB', 32, 167], attempt: 1\n",
      "Success: [25, '2025-01-11', 'Christmas tree 6', 'https://3dsky.org/3dmodels/show/novogodniaia_elka_6_1', 'Decoration', 'Other decorative objects', '3dsMax 2016 + obj', 'Corona', 'None', 'None', '2024-12-12', 'dofen', 328, 146], attempt: 1\n",
      "Success: [26, '2025-01-11', 'Connect Soft Modular Sofa 2', 'https://3dsky.org/3dmodels/show/connect_soft_modular_sofa_2_1', 'Furniture', 'Sofa', '3dsMax 2014 + obj', 'Corona', 'V-Ray', 'None', '2024-12-06', 'Theorema3D', 250, 65], attempt: 1\n",
      "Success: [27, '2025-01-11', 'Indoor Plant Set 89', 'https://3dsky.org/3dmodels/show/indoor_plant_set_89_23', 'Plants', 'Indoor', '3dsMax 2015 + obj', 'Corona', 'V-Ray', 'None', '2024-04-30', 'mh.designer', 216, 102], attempt: 1\n",
      "Success: [28, '2025-01-11', 'Benuta Dave Round Fur Rug (3 colors)', 'https://3dsky.org/3dmodels/show/benuta_dave_round_fur_rug_3_colors', 'Decoration', 'Carpets', '3dsMax 2015 + obj', 'Corona', 'None', 'None', '2024-06-23', '3Dmitruk', 346, 357], attempt: 1\n",
      "Success: [29, '2025-01-11', 'MACRAME Pendant Light 01', 'https://3dsky.org/3dmodels/show/macrame_pendant_light_01_1', 'Lighting', 'Pendant light', '3dsMax 2020 + fbx', 'Corona', 'None', 'None', '2024-08-06', 'Lytvinchov', 9, 471], attempt: 1\n",
      "Success: [30, '2025-01-11', 'Canon printer set.', 'https://3dsky.org/3dmodels/show/nabor_printerov_canon_1', 'Technology', 'PC & other electronics', '3dsMax 2015 + fbx', 'Corona', 'V-Ray', 'None', '2024-09-24', 'slipknot1111', 21, 53], attempt: 1\n",
      "Success: [31, '2025-01-11', 'Cairns pedestal Divan.ru', 'https://3dsky.org/3dmodels/show/kerns_tumba_divan_ru', 'Furniture', 'Sideboard & Chest of drawer', '3dsMax 2016 + obj', 'Corona', 'V-Ray', 'None', '2024-11-05', 'niga2323', 794, 136], attempt: 1\n",
      "Success: [32, '2025-01-11', 'MicroCement Vitra Porcelain Tiles', 'https://3dsky.org/3dmodels/show/keramogranit_microcement_vitra', 'Materials', 'Tile', '3dsMax 2015 + obj', 'Corona', 'None', 'None', '2024-11-09', 'RazorS95', 18, 48], attempt: 1\n",
      "Success: [33, '2025-01-11', 'Kitchen in a modern style 78', 'https://3dsky.org/3dmodels/show/kukhnia_v_sovremennom_stile_78', 'Kitchen', 'Kitchen', '3dsMax 2018 + obj', 'Corona', 'None', 'None', '2024-12-09', 'Sofi_', 86, 74], attempt: 1\n",
      "Success: [34, '2025-01-11', 'Fitness equipment for the gym', 'https://3dsky.org/3dmodels/show/fitnes_oborudovanie_dlia_trenazhernogo_zala', 'Other Models', 'Sports', '3dsMax 2019 + obj', 'Corona', 'None', 'None', '2024-12-12', 'kristi4487', 8, 46], attempt: 1\n",
      "Success: [35, '2025-01-11', 'minimalist floor lamp Christmas tree Chrismy by Teresa Sapey', 'https://3dsky.org/3dmodels/show/minimalistichnyi_torsher_iolka_chrismy_by_teresa_sapey', 'Lighting', 'Floor lamp', '3dsMax 2018 + fbx', 'Corona', 'None', 'None', '2023-12-05', 'zuzik azarov', 47, 60], attempt: 1\n",
      "Success: [36, '2025-01-11', 'Graceful Dual Layer Curtains Velvet with Sheer Overlay', 'https://3dsky.org/3dmodels/show/graceful_dual_layer_curtains_velvet_with_sheer_overlay', 'Decoration', 'Curtain', '3dsMax 2016 + obj', 'Corona', 'V-Ray', 'None', '2024-12-26', 'bahar tanhaee', 276, 34], attempt: 1\n",
      "Success: [37, '2025-01-11', 'Double Layer Beige Curtains with Sheer Inner Layer', 'https://3dsky.org/3dmodels/show/double_layer_beige_curtains_with_sheer_inner_layer', 'Decoration', 'Curtain', '3dsMax 2016 + obj', 'Corona', 'V-Ray', 'None', '2024-12-23', 'bahar tanhaee', 276, 32], attempt: 1\n",
      "Success: [38, '2025-01-11', 'FloorGen Tools 1.5.4', 'https://3dsky.org/3dmodels/show/floorgen_tools_1_5_4', 'Scripts', 'Scripts', 'Script', 'Corona', 'V-Ray', 'None', '2019-04-14', '-NiK-', 42, 810], attempt: 1\n",
      "Success: [39, '2025-01-11', 'TV wall with Xiaomi laser projector', 'https://3dsky.org/3dmodels/show/tv_stena_s_lazernym_proektorom_xiaomi', 'Furniture', 'TV Wall', '3dsMax 2015 + fbx', 'Corona', 'V-Ray', 'None', '2023-12-09', 'aoverina', 2283, 1553], attempt: 1\n",
      "Success: [40, '2025-01-11', 'Yacht. Boat. bayliner', 'https://3dsky.org/3dmodels/show/iakhta_lodka_bayliner', 'Other Models', 'Transport', '3dsMax 2016 + fbx', 'Corona', 'V-Ray', 'None', '2022-06-16', 'paradize', 98, 346], attempt: 1\n",
      "Success: [41, '2025-01-11', 'Oval island for dressing room NG14', 'https://3dsky.org/3dmodels/show/ovalnyi_ostrov_dlia_garderobnoi_ng14', 'Furniture', 'Other', '3dsMax 2016 + obj', 'Corona', 'V-Ray', 'None', '2024-07-09', 'niga2323', 794, 502], attempt: 1\n",
      "Success: [42, '2025-01-11', 'Carpeting. Seamless carpet', 'https://3dsky.org/3dmodels/show/carpeting_seamless_carpet', 'Materials', 'Miscellaneous', '3dsMax 2015 + fbx', 'Corona', 'V-Ray', 'None', '2024-09-10', 'sofiakholina', 810, 186], attempt: 1\n",
      "Success: [43, '2025-01-11', 'Hallway 5', 'https://3dsky.org/3dmodels/show/prikhozhaia_5_10', 'Furniture', 'Hallway', '3dsMax 2018 + fbx', 'Corona', 'None', 'None', '2024-08-01', 'alpatowa.anuta@yandex.ru', 143, 295], attempt: 1\n",
      "Success: [44, '2025-01-11', 'Disco balls', 'https://3dsky.org/3dmodels/show/disco_balls_1', 'Decoration', 'Other decorative objects', '3dsMax 2016 + obj', 'Corona', 'None', 'None', '2024-09-16', 'UglyRaccoon', 144, 100], attempt: 1\n",
      "Success: [45, '2025-01-11', 'Children play area | Interactive', 'https://3dsky.org/3dmodels/show/children_play_area_interactive', 'Childroom', 'Miscellaneous', '3dsMax 2016 + fbx', 'Corona', 'V-Ray', 'None', '2024-11-04', 'lzv_cg', 104, 259], attempt: 1\n",
      "Success: [46, '2025-01-11', 'Furniture Composition | 006', 'https://3dsky.org/3dmodels/show/furniture_composition_006', 'Furniture', 'Rack', '3dsMax 2014 + fbx', 'Corona', 'V-Ray', 'None', '2024-09-20', 'caolamds', 45, 162], attempt: 1\n",
      "Success: [47, '2025-01-11', 'Headboard 5', 'https://3dsky.org/3dmodels/show/izgolove_krovati_5_12', 'Decoration', 'Other decorative objects', '3dsMax 2017 + fbx', 'Corona', 'None', 'None', '2024-11-23', 'oleksandroleksandr', 130, 139], attempt: 1\n",
      "Success: [48, '2025-01-11', \"Pine branches in a clay vase. New Year's bouquet\", 'https://3dsky.org/3dmodels/show/vetki_sosny_v_glinianoi_vaze_novogodnii_buket', 'Plants', 'Bouquet', '3dsMax 2012 + obj', 'Corona', 'V-Ray', 'None', '2024-11-24', 'auralis', 247, 116], attempt: 1\n",
      "Success: [49, '2025-01-11', 'River Rigs coffee table Divan.ru', 'https://3dsky.org/3dmodels/show/river_rigs_zhurnalnyi_stolik_divan_ru', 'Furniture', 'Table', '3dsMax 2016 + obj', 'Corona', 'V-Ray', 'None', '2024-11-27', 'niga2323', 794, 40], attempt: 1\n",
      "Success: [50, '2025-01-11', 'Bathroom accessories Z45', 'https://3dsky.org/3dmodels/show/bathroom_accessories_z45_2', 'Bathroom', 'Bathroom accessories', '3dsMax 2016 + obj', 'Corona', 'V-Ray', 'None', '2024-12-10', 'zyazdiyan', 37, 27], attempt: 1\n",
      "Success: [51, '2025-01-11', 'Roman blind with tassels', 'https://3dsky.org/3dmodels/show/shtora_rimskaia_s_kistochkami', 'Decoration', 'Curtain', '3dsMax 2019 + obj', 'Corona', 'None', 'None', '2024-12-17', 'kristi4487', 8, 39], attempt: 1\n",
      "Success: [52, '2025-01-11', 'Decorative set with a bouquet of lilacs', 'https://3dsky.org/3dmodels/show/dekorativnyi_nabor_s_buketom_sireni', 'Decoration', 'Decorative set', '3dsMax 2012 + obj', 'Corona', 'V-Ray', 'None', '2025-01-03', 'auralis', 247, 46], attempt: 1\n",
      "Success: [53, '2025-01-11', 'Isak', 'https://3dsky.org/3dmodels/show/isak', 'Furniture', 'Arm chair', '3dsMax 2016 + obj', 'Corona', 'None', 'None', '2025-01-02', 'Creoo', 65, 16], attempt: 1\n",
      "Success: [54, '2025-01-11', 'Sofa FOSTER By Calia Italia', 'https://3dsky.org/3dmodels/show/sofa_foster_by_calia_italia_2', 'Furniture', 'Sofa', '3dsMax 2020 + fbx', 'Corona', 'V-Ray', 'None', '2025-01-01', 'StepinR', 19, 7], attempt: 1\n",
      "Success: [55, '2025-01-11', 'Plastic Window | Balcony door', 'https://3dsky.org/3dmodels/show/plastikovoie_okno_balkonnaia_dvier_1', 'Other Models', 'Windows', '3dsMax 2011 + fbx', 'Corona', 'V-Ray', 'None', '2016-03-30', 'AlexHappy', 1733, 2171], attempt: 1\n",
      "Success: [56, '2025-01-11', 'Washing machine and dryer Samsung', 'https://3dsky.org/3dmodels/show/washing_machine_and_dryer_samsung', 'Technology', 'Household appliance', '3dsMax 2016 + obj', 'Corona', 'V-Ray', 'None', '2022-06-09', 'rakochi.design', 535, 684], attempt: 1\n",
      "Success: [57, '2025-01-11', 'Moodboard Stickers Set 1', 'https://3dsky.org/3dmodels/show/moodboard_stickers_set_1', 'Decoration', 'Decorative set', '3dsMax 2014 + fbx', 'Corona', 'V-Ray', 'None', '2022-05-10', 'labzin', 74, 1159], attempt: 1\n",
      "Success: [58, '2025-01-11', 'Lint-free carpet Wool Line', 'https://3dsky.org/3dmodels/show/bezvorsovyi_kover_wool_line', 'Decoration', 'Carpets', '3dsMax 2018 + obj', 'Corona', 'V-Ray', 'None', '2023-12-05', 'cheshuin', 6, 811], attempt: 1\n",
      "Success: [59, '2025-01-11', 'Playground', 'https://3dsky.org/3dmodels/show/detskaia_ploshchadka_21', 'Architecture', 'Playground', '3dsMax 2013 + obj', 'Corona', 'V-Ray', 'None', '2022-10-06', 'EVGIGN', 100, 396], attempt: 1\n",
      "Success: [60, '2025-01-11', 'Yoga & Meditation Set', 'https://3dsky.org/3dmodels/show/yoga_meditation_set', 'Other Models', 'Sports', '3dsMax 2014 + obj', 'Corona', 'V-Ray', 'None', '2023-09-20', 'wesftgyhnj', 194, 520], attempt: 1\n",
      "Success: [61, '2025-01-11', 'Home sauna', 'https://3dsky.org/3dmodels/show/domashniaia_sauna_5', 'Other Models', 'Miscellaneous', '3dsMax 2012 + fbx', 'Corona', 'V-Ray', 'None', '2023-10-05', 'Noobsabot', 88, 595], attempt: 1\n",
      "Success: [62, '2025-01-11', 'shower curtain', 'https://3dsky.org/3dmodels/show/shtora_dlia_vannoi_5', 'Bathroom', 'Bathroom accessories', '3dsMax 2019 + obj', 'Corona', 'None', 'None', '2024-02-24', 'kristi4487', 8, 383], attempt: 1\n",
      "Success: [63, '2025-01-11', 'Ventilation 2', 'https://3dsky.org/3dmodels/show/ventiliatsiia_2', 'Other Models', 'Miscellaneous', '3dsMax 2013 + fbx', 'Corona', 'V-Ray', 'None', '2023-09-09', 'solomon5555', 443, 330], attempt: 1\n",
      "Success: [64, '2025-01-11', 'Nicolette Upholstered Headboard Bed', 'https://3dsky.org/3dmodels/show/nicolette_upholstered_headboard_bed', 'Furniture', 'Bed', '3dsMax 2015 + fbx', 'None', 'V-Ray', 'None', '2024-03-25', 'D_art_S', 231, 345], attempt: 1\n",
      "Success: [65, '2025-01-11', 'Curtains with Roman blinds 2', 'https://3dsky.org/3dmodels/show/shtory_s_rimskimi_shtorami_2', 'Decoration', 'Curtain', '3dsMax 2014 + obj', 'Corona', 'None', 'None', '2024-08-26', 'Rolan05', 131, 303], attempt: 1\n",
      "Success: [66, '2025-01-11', 'Wardrobe system Rimadesio Dress Bold', 'https://3dsky.org/3dmodels/show/garderobnaia_sistema_rimadesio_dress_bold', 'Furniture', 'Wardrobe & Display cabinets', '3dsMax 2013 + obj', 'Corona', 'V-Ray', 'None', '2024-06-20', 'restereo', 102, 554], attempt: 1\n",
      "Success: [67, '2025-01-11', 'Hidden doors Piu Design', 'https://3dsky.org/3dmodels/show/dveri_skrytogo_montazha_piu_design_2', 'Other Models', 'Doors', '3dsMax 2017 + fbx', 'Corona', 'None', 'None', '2024-03-03', 'oleksandroleksandr', 130, 307], attempt: 1\n",
      "Success: [68, '2025-01-11', 'Yandex Station', 'https://3dsky.org/3dmodels/show/iandeks_stantsiia_5', 'Technology', 'Audio tech', '3dsMax 2014 + fbx', 'Corona', 'V-Ray', 'None', '2024-05-31', 'GoodGeometry', 93, 213], attempt: 1\n",
      "Success: [69, '2025-01-11', 'Curtains with Roman blinds', 'https://3dsky.org/3dmodels/show/shtory_s_rimskimi_shtorami', 'Decoration', 'Curtain', '3dsMax 2014 + obj', 'Corona', 'None', 'None', '2024-08-16', 'Rolan05', 131, 235], attempt: 1\n",
      "Success: [70, '2025-01-11', 'Equipe BALI', 'https://3dsky.org/3dmodels/show/equipe_bali_2', 'Textures', 'Tile', '3dsMax 2016 + obj', 'Corona', 'V-Ray', 'None', '2024-09-25', 'StanisLOVE.viz', 165, 145], attempt: 1\n",
      "Success: [71, '2025-01-11', 'kitchen 38', 'https://3dsky.org/3dmodels/show/kitchen_38_12', 'Kitchen', 'Kitchen', '3dsMax 2015 + obj', 'Corona', 'V-Ray', 'None', '2024-08-24', 'mh.designer', 216, 259], attempt: 1\n",
      "Success: [72, '2025-01-11', 'Acrylic stone for countertops', 'https://3dsky.org/3dmodels/show/akrilovyi_kamen_dlia_stoleshnits', 'Textures', 'Stone', 'Texture', 'Corona', 'V-Ray', 'None', '2024-08-04', 'marabito', 7, 107], attempt: 1\n",
      "Success: [73, '2025-01-11', 'Joybird Jaxon Leather Sofa', 'https://3dsky.org/3dmodels/show/joybird_jaxon_leather_sofa', 'Furniture', 'Sofa', '3dsMax 2015 + obj', 'None', 'V-Ray', 'None', '2024-05-01', '3Dmitruk', 346, 169], attempt: 1\n",
      "Success: [74, '2025-01-11', 'Boss Desk - Office Furniture 630', 'https://3dsky.org/3dmodels/show/boss_desk_office_furniture_630', 'Furniture', 'Office furniture', '3dsMax 2015 + obj', 'Corona', 'V-Ray', 'None', '2024-05-14', '3Design.FB', 1592, 192], attempt: 1\n",
      "Success: [75, '2025-01-11', 'Faucets and showers Boheme Specter set', 'https://3dsky.org/3dmodels/show/faucets_and_showers_boheme_spectre_set', 'Bathroom', 'Faucet', '3dsMax 2017 + fbx', 'Corona', 'V-Ray', 'None', '2024-10-04', 'Ashlesha', 26, 49], attempt: 1\n",
      "Success: [76, '2025-01-11', 'Snow', 'https://3dsky.org/3dmodels/show/sneg_4', 'Materials', 'Miscellaneous', '3dsMax 2013 + obj', 'Corona', 'None', 'None', '2024-11-09', 'maltsev_stepan', 320, 119], attempt: 1\n",
      "Success: [77, '2025-01-11', 'Poliform Leopold chair Adrien table', 'https://3dsky.org/3dmodels/show/poliform_leopold_chair_adrien_table_2', 'Furniture', 'Table + Chair', '3dsMax 2015 + fbx', 'Corona', 'None', 'None', '2024-09-18', 'Borisus', 70, 98], attempt: 1\n",
      "Success: [78, '2025-01-11', 'Pinboard with childrens drawings', 'https://3dsky.org/3dmodels/show/pinbord_doska_s_detskimi_risunkami', 'Childroom', 'Miscellaneous', '3dsMax 2017 + obj', 'Corona', 'V-Ray', 'None', '2024-10-14', 'DashutaG', 34, 92], attempt: 1\n",
      "Success: [79, '2025-01-11', 'Wine cabinet display case with dishes and glasses. Set 27', 'https://3dsky.org/3dmodels/show/shkaf_vitrina_s_posudoi_i_bokalami_nabor_27', 'Furniture', 'Wardrobe & Display cabinets', '3dsMax 2017 + fbx', 'Corona', 'V-Ray', 'None', '2024-09-29', 'CG/ARTEMY', 45, 78], attempt: 1\n",
      "Success: [80, '2025-01-11', 'Fluted Glass Set 1', 'https://3dsky.org/3dmodels/show/ribbed_glass_set_1_riflenoe_steklo', 'Materials', 'Glass', '3dsMax 2014 + fbx', 'Corona', 'V-Ray', 'None', '2024-11-16', 'labzin', 74, 84], attempt: 1\n",
      "Success: [81, '2025-01-11', 'Basic wardrobe made of cabinet furniture with doors 2', 'https://3dsky.org/3dmodels/show/basic_wardrobe_made_of_cabinet_furniture_with_doors_2', 'Furniture', 'Wardrobe & Display cabinets', '3dsMax 2015 + fbx', 'Corona', 'V-Ray', 'None', '2024-11-26', 'sofiakholina', 810, 111], attempt: 1\n",
      "Success: [82, '2025-01-11', 'Set of Epson projectors.', 'https://3dsky.org/3dmodels/show/nabor_proektorov_epson_1', 'Technology', 'PC & other electronics', '3dsMax 2015 + fbx', 'Corona', 'V-Ray', 'None', '2024-11-24', 'slipknot1111', 21, 64], attempt: 1\n",
      "Success: [83, '2025-01-11', 'Bathroom furniture 126', 'https://3dsky.org/3dmodels/show/bathroom_furniture_126_2', 'Bathroom', 'Bathroom furniture', '3dsMax 2017 + fbx', 'Corona', 'None', 'None', '2024-10-23', 'AndreyMansurov', 89, 121], attempt: 1\n",
      "Success: [84, '2025-01-11', 'Corner sofa Liga Modern Long', 'https://3dsky.org/3dmodels/show/corner_sofa_liga_modern_long', 'Furniture', 'Sofa', '3dsMax 2014 + obj', 'Corona', 'None', 'None', '2024-11-15', 'Theorema3D', 250, 58], attempt: 1\n",
      "Success: [85, '2025-01-11', 'loewe bathroom decor set', 'https://3dsky.org/3dmodels/show/loewe_bathroom_decor_set', 'Bathroom', 'Bathroom accessories', '3dsMax 2017 + fbx', 'Corona', 'None', 'None', '2024-11-29', 'arinazamorina', 5, 187], attempt: 1\n",
      "Success: [86, '2025-01-11', 'Bathroom accessories Z44', 'https://3dsky.org/3dmodels/show/bathroom_accessories_z44_2', 'Bathroom', 'Bathroom accessories', '3dsMax 2016 + obj', 'Corona', 'V-Ray', 'None', '2024-11-26', 'zyazdiyan', 37, 50], attempt: 1\n",
      "Success: [87, '2025-01-11', 'Bedside tables Tammi ellipsefurniture', 'https://3dsky.org/3dmodels/show/tumby_prikrovatnye_tammi_ellipsefurniture', 'Furniture', 'Sideboard & Chest of drawer', '3dsMax 2020 + obj', 'Corona', 'None', 'None', '2024-11-25', 'Beliy', 24, 52], attempt: 1\n",
      "Success: [88, '2025-01-11', 'Classic TV Wall Set 205', 'https://3dsky.org/3dmodels/show/classic_tv_wall_set_205', 'Furniture', 'TV Wall', '3dsMax 2015 + obj', 'Corona', 'V-Ray', 'None', '2024-12-03', '3Design.FB', 1592, 77], attempt: 1\n",
      "Success: [89, '2025-01-11', 'Kitchen in neoclassical style 79', 'https://3dsky.org/3dmodels/show/kukhnia_v_stile_neoklassika_79', 'Kitchen', 'Kitchen', '3dsMax 2018 + obj', 'Corona', 'None', 'None', '2024-12-11', 'Sofi_', 86, 89], attempt: 1\n",
      "Success: [90, '2025-01-11', 'UNO heated towel rail by Boheme', 'https://3dsky.org/3dmodels/show/polotentsesushiteli_uno_by_boheme', 'Bathroom', 'Towel rail', '3dsMax 2015 + fbx', 'Corona', 'V-Ray', 'None', '2024-12-04', 'iriyarmak', 59, 16], attempt: 1\n",
      "Success: [91, '2025-01-11', 'Melvin by Benuta', 'https://3dsky.org/3dmodels/show/melvin_ot_benuta_1', 'Decoration', 'Carpets', '3dsMax 2014 + obj', 'Corona', 'V-Ray', 'None', '2024-11-21', 'ishomyakov', 4, 33], attempt: 1\n",
      "Success: [92, '2025-01-11', 'Balloons with gifts', 'https://3dsky.org/3dmodels/show/vozdushnye_shary_s_podarkami_1', 'Decoration', 'Decorative set', '3dsMax 2020 + obj', 'Corona', 'V-Ray', 'None', '2024-11-04', 'finntt', 4, 34], attempt: 1\n",
      "Success: [93, '2025-01-11', 'Beacon Bed By Workshop', 'https://3dsky.org/3dmodels/show/beacon_bed_by_workshop_1', 'Furniture', 'Bed', '3dsMax 2015 + obj', 'Corona', 'None', 'None', '2024-12-09', 'Activist', 89, 48], attempt: 1\n",
      "Success: [94, '2025-01-11', 'Poliform Trace Rectangular Rug (2 colors)', 'https://3dsky.org/3dmodels/show/poliform_trace_rectangular_rug_2_colors', 'Decoration', 'Carpets', '3dsMax 2015 + obj', 'None', 'V-Ray', 'None', '2024-12-09', '3Dmitruk', 346, 61], attempt: 1\n",
      "Success: [95, '2025-01-11', 'Shower 1', 'https://3dsky.org/3dmodels/show/dushevaia_1_1', 'Bathroom', 'Shower', '3dsMax 2017 + fbx', 'Corona', 'None', 'None', '2024-12-14', 'oleksandroleksandr', 130, 54], attempt: 1\n",
      "Success: [96, '2025-01-11', 'Wall Panel \"Pomegranates\"', 'https://3dsky.org/3dmodels/show/wall_panel_pomegranates_1', 'Decoration', 'Decorative plaster', '3dsMax 2017 + fbx', 'Corona', 'None', 'None', '2024-11-07', 'Katarina1308', 21, 37], attempt: 1\n",
      "Success: [97, '2025-01-11', 'Living Divani NeoWall Bed', 'https://3dsky.org/3dmodels/show/living_divani_neowall_bed_39', 'Furniture', 'Bed', '3dsMax 2016 + obj', 'Corona', 'V-Ray', 'None', '2024-12-20', 'Ney', 625, 28], attempt: 1\n",
      "Success: [98, '2025-01-11', 'Lizhko Dakota Bed', 'https://3dsky.org/3dmodels/show/lizhko_dakota_bed_1', 'Furniture', 'Bed', '3dsMax 2017 + obj', 'Corona', 'None', 'None', '2024-12-23', 'neselma3d', 40, 17], attempt: 1\n",
      "Success: [99, '2025-01-11', 'Carpe Armchair By Noaliving', 'https://3dsky.org/3dmodels/show/carpe_armchair_by_noaliving', 'Furniture', 'Arm chair', '3dsMax 2017 + obj', 'Corona', 'V-Ray', 'None', '2024-12-24', 'Diorart', 65, 31], attempt: 1\n",
      "Success: [100, '2025-01-11', 'Orren Ellis Tonisa armchair', 'https://3dsky.org/3dmodels/show/orren_ellis_tonisa_armchair_1', 'Furniture', 'Arm chair', '3dsMax 2017 + obj', 'Corona', 'None', 'None', '2025-01-01', 'Izzatilla3D', 204, 53], attempt: 1\n",
      "Success: [101, '2025-01-11', 'Laundry Room _ 0005', 'https://3dsky.org/3dmodels/show/laundry_room_0005', 'Bathroom', 'Bathroom accessories', '3dsMax 2013 + fbx', 'Corona', 'V-Ray', 'None', '2021-09-22', 'grol69', 322, 954], attempt: 1\n",
      "Success: [102, '2025-01-11', 'Glass Block Wall 08', 'https://3dsky.org/3dmodels/show/glass_block_wall_08', 'Decoration', 'Other decorative objects', '3dsMax 2014 + fbx', 'Corona', 'V-Ray', 'None', '2022-05-26', 'NK3D', 133, 834], attempt: 1\n",
      "Success: [103, '2025-01-11', 'Boen parquet board wood flooring', 'https://3dsky.org/3dmodels/show/parketnaia_doska_boen', 'Textures', 'Floor coverings', '3dsMax 2016 + obj', 'Corona', 'V-Ray', 'None', '2024-01-07', 'dofen', 328, 923], attempt: 1\n",
      "Success: [104, '2025-01-11', 'Pioneer DJ Music Set', 'https://3dsky.org/3dmodels/show/pioneer_dj_music_set', 'Technology', 'Audio tech', '3dsMax 2014 + obj', 'Corona', 'V-Ray', 'None', '2021-04-07', 'quantum_4141', 101, 302], attempt: 1\n",
      "Success: [105, '2025-01-11', 'TV LED Samsung 70 \"', 'https://3dsky.org/3dmodels/show/televizor_led_samsung_70', 'Technology', 'TV', '3dsMax 2016 + obj', 'Corona', 'V-Ray', 'None', '2021-11-22', '3dominator', 39, 311], attempt: 1\n",
      "Success: [106, '2025-01-11', 'Headboard with wall moldings', 'https://3dsky.org/3dmodels/show/izgolove_so_stenoi_iz_moldingov', 'Decoration', 'Other decorative objects', '3dsMax 2015 + fbx', 'Corona', 'V-Ray', 'None', '2024-01-30', 'aoverina', 2283, 906], attempt: 1\n",
      "Success: [107, '2025-01-11', 'Headboard 3d Wall Panel 33', 'https://3dsky.org/3dmodels/show/headboard_3d_wall_panel_33', 'Decoration', '3D panel', '3dsMax 2015 + obj', 'Corona', 'V-Ray', 'None', '2023-12-16', 'Quality Pro', 263, 512], attempt: 1\n",
      "Success: [108, '2025-01-11', 'Roses in glass vases', 'https://3dsky.org/3dmodels/show/rozy_v_stekliannykh_vazakh', 'Plants', 'Bouquet', '3dsMax 2015 + obj', 'Corona', 'V-Ray', 'None', '2023-11-02', 'auralis', 247, 381], attempt: 1\n",
      "Success: [109, '2025-01-11', 'Italon STELLARIS Decor FullPack', 'https://3dsky.org/3dmodels/show/italon_stellaris_decor_fullpack', 'Textures', 'Tile', '3dsMax 2016 + obj', 'Corona', 'V-Ray', 'None', '2024-04-03', 'StanisLOVE.viz', 165, 244], attempt: 1\n",
      "Success: [110, '2025-01-11', 'Bathroom decor with a set of different cosmetic products', 'https://3dsky.org/3dmodels/show/bathroom_decor_with_a_set_of_different_cosmetic_products', 'Bathroom', 'Bathroom accessories', '3dsMax 2015 + fbx', 'Corona', 'V-Ray', 'None', '2024-07-10', 'sofiakholina', 810, 337], attempt: 1\n",
      "Success: [111, '2025-01-11', 'PlayStation 5 Collection', 'https://3dsky.org/3dmodels/show/playstation_5_collection', 'Technology', 'PC & other electronics', '3dsMax 2014 + fbx', 'Corona', 'V-Ray', 'None', '2024-05-23', 'Aviato', 2303, 106], attempt: 1\n",
      "Success: [112, '2025-01-11', 'Paris Volhovec - Interior door 205', 'https://3dsky.org/3dmodels/show/interior_door_205_paris_volhovec_2', 'Other Models', 'Doors', '3dsMax 2015 + fbx', 'Corona', 'V-Ray', 'None', '2023-12-04', 'Hokmabadi', 70, 176], attempt: 1\n",
      "Success: [113, '2025-01-11', 'Alex chair Divan.ru', 'https://3dsky.org/3dmodels/show/aleks_stul_divan_ru', 'Furniture', 'Chair', '3dsMax 2016 + obj', 'Corona', 'V-Ray', 'None', '2024-02-26', 'niga2323', 794, 206], attempt: 1\n",
      "Success: [114, '2025-01-11', 'Aero yoga hammock', 'https://3dsky.org/3dmodels/show/gamak_dlia_aero_iogi_1', 'Other Models', 'Sports', '3dsMax 2018 + fbx', 'Corona', 'None', 'None', '2024-04-26', 'MurMur222', 69, 285], attempt: 1\n",
      "Success: [115, '2025-01-11', 'Boucle Fabric', 'https://3dsky.org/3dmodels/show/boucle_fabric', 'Materials', 'Miscellaneous', '3dsMax 2019 + obj', 'Corona', 'None', 'None', '2024-10-27', 'marchik3d', 158, 565], attempt: 1\n",
      "Success: [116, '2025-01-11', 'Faucets and showers Boheme uno set 2', 'https://3dsky.org/3dmodels/show/faucets_and_showers_boheme_uno_set_2', 'Bathroom', 'Faucet', '3dsMax 2017 + fbx', 'Corona', 'V-Ray', 'None', '2024-09-13', 'Ashlesha', 26, 90], attempt: 1\n",
      "Success: [117, '2025-01-11', 'Deerland', 'https://3dsky.org/3dmodels/show/deerland', 'Decoration', 'Other decorative objects', '3dsMax 2014 + fbx', 'Corona', 'V-Ray', 'None', '2022-11-21', 'Aviato', 2303, 278], attempt: 1\n",
      "Success: [118, '2025-01-11', 'Tulip Rupert table and chairs Divan.ru', 'https://3dsky.org/3dmodels/show/tiulip_rupert_stol_i_stulia_divan_ru', 'Furniture', 'Table + Chair', '3dsMax 2016 + obj', 'Corona', 'V-Ray', 'None', '2024-04-17', 'niga2323', 794, 180], attempt: 1\n",
      "Success: [119, '2025-01-11', 'Wood Floor Set 26', 'https://3dsky.org/3dmodels/show/wood_floor_set_26', 'Textures', 'Floor coverings', '3dsMax 2020 + obj', 'Corona', 'V-Ray', 'None', '2024-07-27', 'rakochi.design', 535, 242], attempt: 1\n",
      "Success: [120, '2025-01-11', 'Decorative Set 089', 'https://3dsky.org/3dmodels/show/decorative_set_089_4', 'Decoration', 'Decorative set', '3dsMax 2016 + fbx', 'Corona', 'V-Ray', 'None', '2024-10-27', 'Moriiiz', 93, 298], attempt: 1\n"
     ]
    }
   ],
   "source": [
    "# Парсинг топа продаж 3dsky\n",
    "from selenium import webdriver\n",
    "from selenium.webdriver.common.by import By\n",
    "from selenium.webdriver.chrome.service import Service\n",
    "from selenium.webdriver.common.keys import Keys\n",
    "from selenium.webdriver.chrome.options import Options\n",
    "from datetime import datetime\n",
    "import time\n",
    "\n",
    "# Настройка Selenium\n",
    "chrome_options = Options()\n",
    "chrome_options.add_argument(\"--headless\")  # Запуск без интерфейса (опционально)\n",
    "chrome_options.add_argument(\"--disable-gpu\")\n",
    "chrome_options.add_argument(\"--window-size=1920,1080\")\n",
    "chrome_service = Service(\"C:\\\\Users\\\\mi_al\\\\Desktop\\\\chromedriver-win64\\\\chromedriver.exe\")  # Замените на путь к вашему ChromeDriver\n",
    "\n",
    "# Инициализация констант и переменных\n",
    "result = []                                                         # итоговый список\n",
    "maxpage = 2                                                         # сколько страниц топа грузим\n",
    "basic_url = \"https://3dsky.org/3dmodels?order=sell_rating&page=\"    # адрес (без номера страницы)\n",
    "pause_time = 5                                                      # время задержки на загрузку в сек\n",
    "page_size = 60                                                      # число моделей на странице\n",
    "attempts = 3                                                        # число попыток парсинга каждой модели\n",
    "basic_width = 4                                                     # количество параметров модели из топа\n",
    "full_width = 14                                                     # полное число параметров модели\n",
    "url_position = 3                                                    # на каком месте находится параметр url\n",
    "\n",
    "# Формируем список моделей\n",
    "for page in range(maxpage):\n",
    "    # Инициализация браузера\n",
    "    driver = webdriver.Chrome(service=chrome_service, options=chrome_options)\n",
    "    \n",
    "    url = basic_url + str(page + 1)\n",
    "    driver.get(url)\n",
    "\n",
    "    # Небольшая пауза для загрузки контента\n",
    "    time.sleep(pause_time)\n",
    "\n",
    "    # Парсинг данных\n",
    "    try:\n",
    "        # Получаем список моделей с заданной страницы топа\n",
    "        models = driver.find_elements(By.CSS_SELECTOR, \"div.model-title\")\n",
    "\n",
    "        for n, model in enumerate(models, 1):\n",
    "            # Извлечение данных\n",
    "            curdate = str(datetime.now().date())\n",
    "            title = model.find_element(By.TAG_NAME, \"a\").get_attribute(\"title\") if model.find_elements(By.TAG_NAME, \"a\") else \"No title\"\n",
    "            link = model.find_element(By.TAG_NAME, \"a\").get_attribute(\"href\") if model.find_elements(By.TAG_NAME, \"a\") else \"No link\"\n",
    "            #print(f\"Название: {title}, Ссылка: {link}\")\n",
    "            \n",
    "            # Формируем заготовку строки: номер строки, текущая дата, название модели, ссылка              \n",
    "            line_num = page*page_size + n\n",
    "            result.append([line_num, curdate, title, link])\n",
    "\n",
    "    finally:\n",
    "        # Закрытие браузера\n",
    "        driver.quit()\n",
    "\n",
    "# В цикле по списку получаем подробную информацию по каждой модели\n",
    "for model in result:\n",
    "    for attempt in range(attempts):\n",
    "    \n",
    "        # Инициализация браузера\n",
    "        driver = webdriver.Chrome(service=chrome_service, options=chrome_options)\n",
    "        \n",
    "        # Открытие страницы конкретной модели\n",
    "        url = model[url_position]\n",
    "        driver.get(url)\n",
    "        \n",
    "        # Небольшая пауза для загрузки контента\n",
    "        time.sleep(pause_time)\n",
    "        \n",
    "        # Парсинг данных\n",
    "        try:\n",
    "            category = driver.find_elements(By.CSS_SELECTOR, \"body > app-root > app-model > app-base-wide > main > section.container.main-base-container > div.row.white-background > div.col-md-12.model-page-top.ng-tns-c55-0 > div.favourite-and-category.ng-tns-c55-0.ng-star-inserted > div:nth-child(1) > div.category.ng-tns-c55-0 > a > span\")\n",
    "            subcategory = driver.find_elements(By.CSS_SELECTOR, \"body > app-root > app-model > app-base-wide > main > section.container.main-base-container > div.row.white-background > div.col-md-12.model-page-top.ng-tns-c55-0 > div.favourite-and-category.ng-tns-c55-0.ng-star-inserted > div:nth-child(1) > div.subcategory.ng-tns-c55-0 > a > span\")\n",
    "            platform = driver.find_elements(By.CSS_SELECTOR, \"#info-desktop > div.model-info-block.ng-tns-c55-0 > table > tbody > tr:nth-child(1) > td:nth-child(2)\")\n",
    "            renders = driver.find_elements(By.CSS_SELECTOR, \"#info-desktop > div.model-info-block.ng-tns-c55-0 > table > tbody > tr:nth-child(2) > td:nth-child(2) > div\")\n",
    "            published = driver.find_elements(By.CSS_SELECTOR, \"#info-desktop > div.model-info-block.ng-tns-c55-0 > div.publication-date.ng-tns-c55-0.ng-star-inserted\")\n",
    "            username = driver.find_elements(By.CSS_SELECTOR, \"#info-desktop > div:nth-child(1) > div > div > a > div > div > div.model-user-name.ng-tns-c55-0\")\n",
    "            followers = driver.find_elements(By.CSS_SELECTOR, \"#info-desktop > div:nth-child(1) > div > div > a > div > div > div.model-subscribe-count.ng-tns-c55-0.ng-star-inserted\")\n",
    "            selected = driver.find_elements(By.CSS_SELECTOR, \"#info-desktop > div:nth-child(1) > div > div > div:nth-child(3) > div.price-block.ng-tns-c55-0.ng-star-inserted > div.bookmarks-block-wrapper-mobile.ng-tns-c55-0.ng-star-inserted > div > div\")\n",
    "            \n",
    "            # Добавляем полученные данные в строку: категория, подкатегория, платформа, рендер\n",
    "            if category:\n",
    "                model.append(category[0].text)\n",
    "            if subcategory:\n",
    "                model.append(subcategory[0].text)\n",
    "            if platform:\n",
    "                model.append(platform[0].text)\n",
    "            \n",
    "            if renders:\n",
    "                render_text = renders[0].text\n",
    "            if ('Corona' in render_text) and ('V-Ray' in render_text):\n",
    "                model.extend(['Corona','V-Ray','None'])\n",
    "            elif ('Corona' in render_text):\n",
    "                model.extend(['Corona','None','None'])\n",
    "            elif ('V-Ray' in render_text):\n",
    "                model.extend(['None','V-Ray','None'])\n",
    "            elif ('Standard' in render_text):\n",
    "                model.extend(['None','None','Standard'])\n",
    "            else:\n",
    "                model.extend(['None','None','None'])\n",
    "            \n",
    "            if published:\n",
    "                pub_date = \" \".join(str(published[0].text).split(\" \")[1:])\n",
    "                date_object = datetime.strptime(pub_date, \"%d %B %Y\")\n",
    "                formatted_date = date_object.strftime(\"%Y-%m-%d\")\n",
    "                model.append(formatted_date)\n",
    "            if username:\n",
    "                model.append(username[0].text)\n",
    "            if followers:\n",
    "                model.append(int(followers[0].text.split(\" \")[0]))\n",
    "            if selected:\n",
    "                selected_text = driver.execute_script(\"return arguments[0].innerText;\", selected[0])\n",
    "                model.append(int(selected_text.strip()))\n",
    "\n",
    "        finally:\n",
    "            # Закрытие браузера\n",
    "            driver.quit()\n",
    "            \n",
    "        # Проверяем, все ли параметры считались, и если нет, то пробуем ещё несколько раз\n",
    "        if len(model) == full_width:\n",
    "            print(f'Success: {model}, attempt: {attempt+1}')\n",
    "            break\n",
    "        else:\n",
    "            if attempt+1 == attempts:\n",
    "                print(f'Failed: {model}, attempt: {attempt+1}')\n",
    "            else:\n",
    "                print(f'Pending: {model}, attempt: {attempt+1}')\n",
    "                if len(model) > basic_width:\n",
    "                    del model[basic_width:]\n"
   ]
  },
  {
   "cell_type": "markdown",
   "metadata": {},
   "source": [
    "### Запись результатов парсинга в файл"
   ]
  },
  {
   "cell_type": "code",
   "execution_count": 14,
   "metadata": {},
   "outputs": [
    {
     "name": "stdout",
     "output_type": "stream",
     "text": [
      "Данные успешно сохранены в output.xlsx\n"
     ]
    }
   ],
   "source": [
    "# Добавляем результат в конец файла\n",
    "import pandas as pd\n",
    "file_path = \"output.xlsx\"\n",
    "\n",
    "# Чтение данных\n",
    "existing_data = pd.read_excel(file_path)\n",
    "\n",
    "# Преобразование текущих данных DataFrame\n",
    "new_data_df = pd.DataFrame(result[0:], columns=['N','Curdate','Title','Link','Category','Subcategory','Platform','Corona','V-Ray','Standard','Pubdate','Username','Followers','Selected'])\n",
    "\n",
    "# Конкатенация и запись результата в Excel\n",
    "updated_data = pd.concat([existing_data, new_data_df], ignore_index=True)\n",
    "updated_data.to_excel(file_path, index=False)\n",
    "\n",
    "# Выводим результат для контроля\n",
    "print(f\"Данные успешно сохранены в {file_path}\")\n"
   ]
  },
  {
   "cell_type": "code",
   "execution_count": 98,
   "metadata": {},
   "outputs": [
    {
     "name": "stdout",
     "output_type": "stream",
     "text": [
      "Corona\n"
     ]
    }
   ],
   "source": [
    "# Песочница для апробации парсинга конкретного элемента\n",
    "# Настройка Selenium\n",
    "chrome_options = Options()\n",
    "chrome_options.add_argument(\"--headless\")  # Запуск без интерфейса (опционально)\n",
    "chrome_options.add_argument(\"--disable-gpu\")\n",
    "chrome_options.add_argument(\"--window-size=1920,1080\")\n",
    "chrome_service = Service(\"C:\\\\Users\\\\mi_al\\\\Desktop\\\\chromedriver-win64\\\\chromedriver.exe\")  # Замените на путь к вашему ChromeDriver\n",
    "\n",
    "# Инициализация браузера\n",
    "driver = webdriver.Chrome(service=chrome_service, options=chrome_options)\n",
    "\n",
    "# Открытие сайта\n",
    "url = \"https://3dsky.org/3dmodels/show/kerns_tumba_divan_ru\"\n",
    "driver.get(url)\n",
    "\n",
    "# Небольшая пауза для загрузки контента\n",
    "time.sleep(5)  # Настройте задержку в зависимости от скорости интернета\n",
    "\n",
    "# Парсинг данных\n",
    "try:\n",
    "    # Пример: Найти все элементы с моделями (настройте селектор под сайт)\n",
    "    models = driver.find_elements(By.CSS_SELECTOR, \"#info-desktop > div.model-info-block.ng-tns-c55-0 > table > tbody > tr:nth-child(2) > td:nth-child(2) > div > div\")\n",
    "    print(models[1].text)\n",
    "    \n",
    "\n",
    "   \n",
    "    #published = str(models[0].text)\n",
    "\n",
    "finally:\n",
    "    # Закрытие браузера\n",
    "    driver.quit()"
   ]
  },
  {
   "cell_type": "markdown",
   "metadata": {},
   "source": [
    "## Анализ текущего топа\n",
    "В этом разделе анализируется только топ одного дня, без чтения данных из файла. Для анализа всего топа — см. 3ddd_analysis.ipynb."
   ]
  },
  {
   "cell_type": "code",
   "execution_count": null,
   "metadata": {},
   "outputs": [
    {
     "data": {
      "text/html": [
       "<div>\n",
       "<style scoped>\n",
       "    .dataframe tbody tr th:only-of-type {\n",
       "        vertical-align: middle;\n",
       "    }\n",
       "\n",
       "    .dataframe tbody tr th {\n",
       "        vertical-align: top;\n",
       "    }\n",
       "\n",
       "    .dataframe thead th {\n",
       "        text-align: right;\n",
       "    }\n",
       "</style>\n",
       "<table border=\"1\" class=\"dataframe\">\n",
       "  <thead>\n",
       "    <tr style=\"text-align: right;\">\n",
       "      <th></th>\n",
       "      <th>N</th>\n",
       "      <th>Curdate</th>\n",
       "      <th>Title</th>\n",
       "      <th>Link</th>\n",
       "      <th>Category</th>\n",
       "      <th>Subcategory</th>\n",
       "      <th>Platform</th>\n",
       "      <th>Corona</th>\n",
       "      <th>V-Ray</th>\n",
       "      <th>Standard</th>\n",
       "      <th>Pubdate</th>\n",
       "      <th>Username</th>\n",
       "      <th>Followers</th>\n",
       "      <th>Selected</th>\n",
       "      <th>Duration</th>\n",
       "    </tr>\n",
       "  </thead>\n",
       "  <tbody>\n",
       "    <tr>\n",
       "      <th>0</th>\n",
       "      <td>1</td>\n",
       "      <td>2024-12-11</td>\n",
       "      <td>Spruce</td>\n",
       "      <td>https://3dsky.org/3dmodels/show/spruce_6</td>\n",
       "      <td>Plants</td>\n",
       "      <td>Tree</td>\n",
       "      <td>3dsMax 2013 + fbx</td>\n",
       "      <td>Corona</td>\n",
       "      <td>V-Ray</td>\n",
       "      <td>None</td>\n",
       "      <td>2018-05-31</td>\n",
       "      <td>Istwood15</td>\n",
       "      <td>879.0</td>\n",
       "      <td>247.0</td>\n",
       "      <td>2386.0</td>\n",
       "    </tr>\n",
       "    <tr>\n",
       "      <th>1</th>\n",
       "      <td>2</td>\n",
       "      <td>2024-12-11</td>\n",
       "      <td>Christmas tree with fireplace 5</td>\n",
       "      <td>https://3dsky.org/3dmodels/show/novogodniaia_e...</td>\n",
       "      <td>Decoration</td>\n",
       "      <td>Other decorative objects</td>\n",
       "      <td>3dsMax 2016 + obj</td>\n",
       "      <td>Corona</td>\n",
       "      <td>None</td>\n",
       "      <td>None</td>\n",
       "      <td>2024-11-11</td>\n",
       "      <td>dofen</td>\n",
       "      <td>318.0</td>\n",
       "      <td>240.0</td>\n",
       "      <td>30.0</td>\n",
       "    </tr>\n",
       "    <tr>\n",
       "      <th>2</th>\n",
       "      <td>3</td>\n",
       "      <td>2024-12-11</td>\n",
       "      <td>Soho Home - Ferguson Table Lamp</td>\n",
       "      <td>https://3dsky.org/3dmodels/show/soho_home_ferg...</td>\n",
       "      <td>None</td>\n",
       "      <td>None</td>\n",
       "      <td>None</td>\n",
       "      <td>None</td>\n",
       "      <td>None</td>\n",
       "      <td>None</td>\n",
       "      <td>NaT</td>\n",
       "      <td>None</td>\n",
       "      <td>NaN</td>\n",
       "      <td>NaN</td>\n",
       "      <td>NaN</td>\n",
       "    </tr>\n",
       "    <tr>\n",
       "      <th>3</th>\n",
       "      <td>4</td>\n",
       "      <td>2024-12-11</td>\n",
       "      <td>AVE Vintage French Window</td>\n",
       "      <td>https://3dsky.org/3dmodels/show/ave_vintage_fr...</td>\n",
       "      <td>None</td>\n",
       "      <td>None</td>\n",
       "      <td>None</td>\n",
       "      <td>None</td>\n",
       "      <td>None</td>\n",
       "      <td>None</td>\n",
       "      <td>NaT</td>\n",
       "      <td>None</td>\n",
       "      <td>NaN</td>\n",
       "      <td>NaN</td>\n",
       "      <td>NaN</td>\n",
       "    </tr>\n",
       "    <tr>\n",
       "      <th>4</th>\n",
       "      <td>5</td>\n",
       "      <td>2024-12-11</td>\n",
       "      <td>Bantams</td>\n",
       "      <td>https://3dsky.org/3dmodels/show/banty</td>\n",
       "      <td>None</td>\n",
       "      <td>None</td>\n",
       "      <td>None</td>\n",
       "      <td>None</td>\n",
       "      <td>None</td>\n",
       "      <td>None</td>\n",
       "      <td>NaT</td>\n",
       "      <td>None</td>\n",
       "      <td>NaN</td>\n",
       "      <td>NaN</td>\n",
       "      <td>NaN</td>\n",
       "    </tr>\n",
       "    <tr>\n",
       "      <th>...</th>\n",
       "      <td>...</td>\n",
       "      <td>...</td>\n",
       "      <td>...</td>\n",
       "      <td>...</td>\n",
       "      <td>...</td>\n",
       "      <td>...</td>\n",
       "      <td>...</td>\n",
       "      <td>...</td>\n",
       "      <td>...</td>\n",
       "      <td>...</td>\n",
       "      <td>...</td>\n",
       "      <td>...</td>\n",
       "      <td>...</td>\n",
       "      <td>...</td>\n",
       "      <td>...</td>\n",
       "    </tr>\n",
       "    <tr>\n",
       "      <th>115</th>\n",
       "      <td>116</td>\n",
       "      <td>2024-12-11</td>\n",
       "      <td>Sofa Therm</td>\n",
       "      <td>https://3dsky.org/3dmodels/show/divan_term</td>\n",
       "      <td>None</td>\n",
       "      <td>None</td>\n",
       "      <td>None</td>\n",
       "      <td>None</td>\n",
       "      <td>None</td>\n",
       "      <td>None</td>\n",
       "      <td>NaT</td>\n",
       "      <td>None</td>\n",
       "      <td>NaN</td>\n",
       "      <td>NaN</td>\n",
       "      <td>NaN</td>\n",
       "    </tr>\n",
       "    <tr>\n",
       "      <th>116</th>\n",
       "      <td>117</td>\n",
       "      <td>2024-12-11</td>\n",
       "      <td>Volume Bed by One&amp;Home</td>\n",
       "      <td>https://3dsky.org/3dmodels/show/voluem_bed_by_...</td>\n",
       "      <td>None</td>\n",
       "      <td>None</td>\n",
       "      <td>None</td>\n",
       "      <td>None</td>\n",
       "      <td>None</td>\n",
       "      <td>None</td>\n",
       "      <td>NaT</td>\n",
       "      <td>None</td>\n",
       "      <td>NaN</td>\n",
       "      <td>NaN</td>\n",
       "      <td>NaN</td>\n",
       "    </tr>\n",
       "    <tr>\n",
       "      <th>117</th>\n",
       "      <td>118</td>\n",
       "      <td>2024-12-11</td>\n",
       "      <td>Green wooden snake on a branch</td>\n",
       "      <td>https://3dsky.org/3dmodels/show/zelionaia_dere...</td>\n",
       "      <td>None</td>\n",
       "      <td>None</td>\n",
       "      <td>None</td>\n",
       "      <td>None</td>\n",
       "      <td>None</td>\n",
       "      <td>None</td>\n",
       "      <td>NaT</td>\n",
       "      <td>None</td>\n",
       "      <td>NaN</td>\n",
       "      <td>NaN</td>\n",
       "      <td>NaN</td>\n",
       "    </tr>\n",
       "    <tr>\n",
       "      <th>118</th>\n",
       "      <td>119</td>\n",
       "      <td>2024-12-11</td>\n",
       "      <td>Set of low poly cars 2</td>\n",
       "      <td>https://3dsky.org/3dmodels/show/nabor_nizkopol...</td>\n",
       "      <td>None</td>\n",
       "      <td>None</td>\n",
       "      <td>None</td>\n",
       "      <td>None</td>\n",
       "      <td>None</td>\n",
       "      <td>None</td>\n",
       "      <td>NaT</td>\n",
       "      <td>None</td>\n",
       "      <td>NaN</td>\n",
       "      <td>NaN</td>\n",
       "      <td>NaN</td>\n",
       "    </tr>\n",
       "    <tr>\n",
       "      <th>119</th>\n",
       "      <td>120</td>\n",
       "      <td>2024-12-11</td>\n",
       "      <td>Photo Studio Kit</td>\n",
       "      <td>https://3dsky.org/3dmodels/show/photo_studio_kit</td>\n",
       "      <td>None</td>\n",
       "      <td>None</td>\n",
       "      <td>None</td>\n",
       "      <td>None</td>\n",
       "      <td>None</td>\n",
       "      <td>None</td>\n",
       "      <td>NaT</td>\n",
       "      <td>None</td>\n",
       "      <td>NaN</td>\n",
       "      <td>NaN</td>\n",
       "      <td>NaN</td>\n",
       "    </tr>\n",
       "  </tbody>\n",
       "</table>\n",
       "<p>120 rows × 15 columns</p>\n",
       "</div>"
      ],
      "text/plain": [
       "       N     Curdate                            Title  \\\n",
       "0      1  2024-12-11                           Spruce   \n",
       "1      2  2024-12-11  Christmas tree with fireplace 5   \n",
       "2      3  2024-12-11  Soho Home - Ferguson Table Lamp   \n",
       "3      4  2024-12-11        AVE Vintage French Window   \n",
       "4      5  2024-12-11                          Bantams   \n",
       "..   ...         ...                              ...   \n",
       "115  116  2024-12-11                       Sofa Therm   \n",
       "116  117  2024-12-11           Volume Bed by One&Home   \n",
       "117  118  2024-12-11   Green wooden snake on a branch   \n",
       "118  119  2024-12-11           Set of low poly cars 2   \n",
       "119  120  2024-12-11                 Photo Studio Kit   \n",
       "\n",
       "                                                  Link    Category  \\\n",
       "0             https://3dsky.org/3dmodels/show/spruce_6      Plants   \n",
       "1    https://3dsky.org/3dmodels/show/novogodniaia_e...  Decoration   \n",
       "2    https://3dsky.org/3dmodels/show/soho_home_ferg...        None   \n",
       "3    https://3dsky.org/3dmodels/show/ave_vintage_fr...        None   \n",
       "4                https://3dsky.org/3dmodels/show/banty        None   \n",
       "..                                                 ...         ...   \n",
       "115         https://3dsky.org/3dmodels/show/divan_term        None   \n",
       "116  https://3dsky.org/3dmodels/show/voluem_bed_by_...        None   \n",
       "117  https://3dsky.org/3dmodels/show/zelionaia_dere...        None   \n",
       "118  https://3dsky.org/3dmodels/show/nabor_nizkopol...        None   \n",
       "119   https://3dsky.org/3dmodels/show/photo_studio_kit        None   \n",
       "\n",
       "                  Subcategory           Platform  Corona  V-Ray Standard  \\\n",
       "0                        Tree  3dsMax 2013 + fbx  Corona  V-Ray     None   \n",
       "1    Other decorative objects  3dsMax 2016 + obj  Corona   None     None   \n",
       "2                        None               None    None   None     None   \n",
       "3                        None               None    None   None     None   \n",
       "4                        None               None    None   None     None   \n",
       "..                        ...                ...     ...    ...      ...   \n",
       "115                      None               None    None   None     None   \n",
       "116                      None               None    None   None     None   \n",
       "117                      None               None    None   None     None   \n",
       "118                      None               None    None   None     None   \n",
       "119                      None               None    None   None     None   \n",
       "\n",
       "       Pubdate   Username  Followers  Selected  Duration  \n",
       "0   2018-05-31  Istwood15      879.0     247.0    2386.0  \n",
       "1   2024-11-11      dofen      318.0     240.0      30.0  \n",
       "2          NaT       None        NaN       NaN       NaN  \n",
       "3          NaT       None        NaN       NaN       NaN  \n",
       "4          NaT       None        NaN       NaN       NaN  \n",
       "..         ...        ...        ...       ...       ...  \n",
       "115        NaT       None        NaN       NaN       NaN  \n",
       "116        NaT       None        NaN       NaN       NaN  \n",
       "117        NaT       None        NaN       NaN       NaN  \n",
       "118        NaT       None        NaN       NaN       NaN  \n",
       "119        NaT       None        NaN       NaN       NaN  \n",
       "\n",
       "[120 rows x 15 columns]"
      ]
     },
     "metadata": {},
     "output_type": "display_data"
    }
   ],
   "source": [
    "# Анализ текущего топа (без чтения из файла)\n",
    "import pandas as pd\n",
    "import plotly.express as px\n",
    "\n",
    "result_vis = pd.DataFrame(result, columns=['N','Curdate','Title','Link','Category','Subcategory','Platform','Corona','V-Ray','Standard','Pubdate','Username','Followers','Selected'])\n",
    "result_vis['Pubdate'] = pd.to_datetime(result_vis['Pubdate'])\n",
    "#result_vis.drop('N', axis=1, inplace=True)\n",
    "\n",
    "current_date = datetime.now()\n",
    "result_vis['Duration'] = (current_date - result_vis['Pubdate']).dt.days\n",
    "\n",
    "display(result_vis.head())"
   ]
  },
  {
   "cell_type": "code",
   "execution_count": 231,
   "metadata": {},
   "outputs": [
    {
     "data": {
      "application/vnd.plotly.v1+json": {
       "config": {
        "plotlyServerURL": "https://plot.ly"
       },
       "data": [
        {
         "alignmentgroup": "True",
         "hovertemplate": "Category=%{x}<br>Count=%{y}<extra></extra>",
         "legendgroup": "",
         "marker": {
          "color": "#636efa",
          "pattern": {
           "shape": ""
          }
         },
         "name": "",
         "offsetgroup": "",
         "orientation": "v",
         "showlegend": false,
         "textposition": "auto",
         "type": "bar",
         "x": [
          "Decoration",
          "Furniture",
          "Bathroom",
          "Other Models",
          "Kitchen",
          "Childroom",
          "Materials",
          "Plants",
          "Textures",
          "Lighting",
          "Architecture",
          "Technology",
          "Scripts"
         ],
         "xaxis": "x",
         "y": [
          27,
          26,
          15,
          12,
          9,
          6,
          6,
          6,
          5,
          3,
          2,
          2,
          1
         ],
         "yaxis": "y"
        }
       ],
       "layout": {
        "barmode": "relative",
        "legend": {
         "tracegroupgap": 0
        },
        "template": {
         "data": {
          "bar": [
           {
            "error_x": {
             "color": "#2a3f5f"
            },
            "error_y": {
             "color": "#2a3f5f"
            },
            "marker": {
             "line": {
              "color": "#E5ECF6",
              "width": 0.5
             },
             "pattern": {
              "fillmode": "overlay",
              "size": 10,
              "solidity": 0.2
             }
            },
            "type": "bar"
           }
          ],
          "barpolar": [
           {
            "marker": {
             "line": {
              "color": "#E5ECF6",
              "width": 0.5
             },
             "pattern": {
              "fillmode": "overlay",
              "size": 10,
              "solidity": 0.2
             }
            },
            "type": "barpolar"
           }
          ],
          "carpet": [
           {
            "aaxis": {
             "endlinecolor": "#2a3f5f",
             "gridcolor": "white",
             "linecolor": "white",
             "minorgridcolor": "white",
             "startlinecolor": "#2a3f5f"
            },
            "baxis": {
             "endlinecolor": "#2a3f5f",
             "gridcolor": "white",
             "linecolor": "white",
             "minorgridcolor": "white",
             "startlinecolor": "#2a3f5f"
            },
            "type": "carpet"
           }
          ],
          "choropleth": [
           {
            "colorbar": {
             "outlinewidth": 0,
             "ticks": ""
            },
            "type": "choropleth"
           }
          ],
          "contour": [
           {
            "colorbar": {
             "outlinewidth": 0,
             "ticks": ""
            },
            "colorscale": [
             [
              0,
              "#0d0887"
             ],
             [
              0.1111111111111111,
              "#46039f"
             ],
             [
              0.2222222222222222,
              "#7201a8"
             ],
             [
              0.3333333333333333,
              "#9c179e"
             ],
             [
              0.4444444444444444,
              "#bd3786"
             ],
             [
              0.5555555555555556,
              "#d8576b"
             ],
             [
              0.6666666666666666,
              "#ed7953"
             ],
             [
              0.7777777777777778,
              "#fb9f3a"
             ],
             [
              0.8888888888888888,
              "#fdca26"
             ],
             [
              1,
              "#f0f921"
             ]
            ],
            "type": "contour"
           }
          ],
          "contourcarpet": [
           {
            "colorbar": {
             "outlinewidth": 0,
             "ticks": ""
            },
            "type": "contourcarpet"
           }
          ],
          "heatmap": [
           {
            "colorbar": {
             "outlinewidth": 0,
             "ticks": ""
            },
            "colorscale": [
             [
              0,
              "#0d0887"
             ],
             [
              0.1111111111111111,
              "#46039f"
             ],
             [
              0.2222222222222222,
              "#7201a8"
             ],
             [
              0.3333333333333333,
              "#9c179e"
             ],
             [
              0.4444444444444444,
              "#bd3786"
             ],
             [
              0.5555555555555556,
              "#d8576b"
             ],
             [
              0.6666666666666666,
              "#ed7953"
             ],
             [
              0.7777777777777778,
              "#fb9f3a"
             ],
             [
              0.8888888888888888,
              "#fdca26"
             ],
             [
              1,
              "#f0f921"
             ]
            ],
            "type": "heatmap"
           }
          ],
          "heatmapgl": [
           {
            "colorbar": {
             "outlinewidth": 0,
             "ticks": ""
            },
            "colorscale": [
             [
              0,
              "#0d0887"
             ],
             [
              0.1111111111111111,
              "#46039f"
             ],
             [
              0.2222222222222222,
              "#7201a8"
             ],
             [
              0.3333333333333333,
              "#9c179e"
             ],
             [
              0.4444444444444444,
              "#bd3786"
             ],
             [
              0.5555555555555556,
              "#d8576b"
             ],
             [
              0.6666666666666666,
              "#ed7953"
             ],
             [
              0.7777777777777778,
              "#fb9f3a"
             ],
             [
              0.8888888888888888,
              "#fdca26"
             ],
             [
              1,
              "#f0f921"
             ]
            ],
            "type": "heatmapgl"
           }
          ],
          "histogram": [
           {
            "marker": {
             "pattern": {
              "fillmode": "overlay",
              "size": 10,
              "solidity": 0.2
             }
            },
            "type": "histogram"
           }
          ],
          "histogram2d": [
           {
            "colorbar": {
             "outlinewidth": 0,
             "ticks": ""
            },
            "colorscale": [
             [
              0,
              "#0d0887"
             ],
             [
              0.1111111111111111,
              "#46039f"
             ],
             [
              0.2222222222222222,
              "#7201a8"
             ],
             [
              0.3333333333333333,
              "#9c179e"
             ],
             [
              0.4444444444444444,
              "#bd3786"
             ],
             [
              0.5555555555555556,
              "#d8576b"
             ],
             [
              0.6666666666666666,
              "#ed7953"
             ],
             [
              0.7777777777777778,
              "#fb9f3a"
             ],
             [
              0.8888888888888888,
              "#fdca26"
             ],
             [
              1,
              "#f0f921"
             ]
            ],
            "type": "histogram2d"
           }
          ],
          "histogram2dcontour": [
           {
            "colorbar": {
             "outlinewidth": 0,
             "ticks": ""
            },
            "colorscale": [
             [
              0,
              "#0d0887"
             ],
             [
              0.1111111111111111,
              "#46039f"
             ],
             [
              0.2222222222222222,
              "#7201a8"
             ],
             [
              0.3333333333333333,
              "#9c179e"
             ],
             [
              0.4444444444444444,
              "#bd3786"
             ],
             [
              0.5555555555555556,
              "#d8576b"
             ],
             [
              0.6666666666666666,
              "#ed7953"
             ],
             [
              0.7777777777777778,
              "#fb9f3a"
             ],
             [
              0.8888888888888888,
              "#fdca26"
             ],
             [
              1,
              "#f0f921"
             ]
            ],
            "type": "histogram2dcontour"
           }
          ],
          "mesh3d": [
           {
            "colorbar": {
             "outlinewidth": 0,
             "ticks": ""
            },
            "type": "mesh3d"
           }
          ],
          "parcoords": [
           {
            "line": {
             "colorbar": {
              "outlinewidth": 0,
              "ticks": ""
             }
            },
            "type": "parcoords"
           }
          ],
          "pie": [
           {
            "automargin": true,
            "type": "pie"
           }
          ],
          "scatter": [
           {
            "fillpattern": {
             "fillmode": "overlay",
             "size": 10,
             "solidity": 0.2
            },
            "type": "scatter"
           }
          ],
          "scatter3d": [
           {
            "line": {
             "colorbar": {
              "outlinewidth": 0,
              "ticks": ""
             }
            },
            "marker": {
             "colorbar": {
              "outlinewidth": 0,
              "ticks": ""
             }
            },
            "type": "scatter3d"
           }
          ],
          "scattercarpet": [
           {
            "marker": {
             "colorbar": {
              "outlinewidth": 0,
              "ticks": ""
             }
            },
            "type": "scattercarpet"
           }
          ],
          "scattergeo": [
           {
            "marker": {
             "colorbar": {
              "outlinewidth": 0,
              "ticks": ""
             }
            },
            "type": "scattergeo"
           }
          ],
          "scattergl": [
           {
            "marker": {
             "colorbar": {
              "outlinewidth": 0,
              "ticks": ""
             }
            },
            "type": "scattergl"
           }
          ],
          "scattermapbox": [
           {
            "marker": {
             "colorbar": {
              "outlinewidth": 0,
              "ticks": ""
             }
            },
            "type": "scattermapbox"
           }
          ],
          "scatterpolar": [
           {
            "marker": {
             "colorbar": {
              "outlinewidth": 0,
              "ticks": ""
             }
            },
            "type": "scatterpolar"
           }
          ],
          "scatterpolargl": [
           {
            "marker": {
             "colorbar": {
              "outlinewidth": 0,
              "ticks": ""
             }
            },
            "type": "scatterpolargl"
           }
          ],
          "scatterternary": [
           {
            "marker": {
             "colorbar": {
              "outlinewidth": 0,
              "ticks": ""
             }
            },
            "type": "scatterternary"
           }
          ],
          "surface": [
           {
            "colorbar": {
             "outlinewidth": 0,
             "ticks": ""
            },
            "colorscale": [
             [
              0,
              "#0d0887"
             ],
             [
              0.1111111111111111,
              "#46039f"
             ],
             [
              0.2222222222222222,
              "#7201a8"
             ],
             [
              0.3333333333333333,
              "#9c179e"
             ],
             [
              0.4444444444444444,
              "#bd3786"
             ],
             [
              0.5555555555555556,
              "#d8576b"
             ],
             [
              0.6666666666666666,
              "#ed7953"
             ],
             [
              0.7777777777777778,
              "#fb9f3a"
             ],
             [
              0.8888888888888888,
              "#fdca26"
             ],
             [
              1,
              "#f0f921"
             ]
            ],
            "type": "surface"
           }
          ],
          "table": [
           {
            "cells": {
             "fill": {
              "color": "#EBF0F8"
             },
             "line": {
              "color": "white"
             }
            },
            "header": {
             "fill": {
              "color": "#C8D4E3"
             },
             "line": {
              "color": "white"
             }
            },
            "type": "table"
           }
          ]
         },
         "layout": {
          "annotationdefaults": {
           "arrowcolor": "#2a3f5f",
           "arrowhead": 0,
           "arrowwidth": 1
          },
          "autotypenumbers": "strict",
          "coloraxis": {
           "colorbar": {
            "outlinewidth": 0,
            "ticks": ""
           }
          },
          "colorscale": {
           "diverging": [
            [
             0,
             "#8e0152"
            ],
            [
             0.1,
             "#c51b7d"
            ],
            [
             0.2,
             "#de77ae"
            ],
            [
             0.3,
             "#f1b6da"
            ],
            [
             0.4,
             "#fde0ef"
            ],
            [
             0.5,
             "#f7f7f7"
            ],
            [
             0.6,
             "#e6f5d0"
            ],
            [
             0.7,
             "#b8e186"
            ],
            [
             0.8,
             "#7fbc41"
            ],
            [
             0.9,
             "#4d9221"
            ],
            [
             1,
             "#276419"
            ]
           ],
           "sequential": [
            [
             0,
             "#0d0887"
            ],
            [
             0.1111111111111111,
             "#46039f"
            ],
            [
             0.2222222222222222,
             "#7201a8"
            ],
            [
             0.3333333333333333,
             "#9c179e"
            ],
            [
             0.4444444444444444,
             "#bd3786"
            ],
            [
             0.5555555555555556,
             "#d8576b"
            ],
            [
             0.6666666666666666,
             "#ed7953"
            ],
            [
             0.7777777777777778,
             "#fb9f3a"
            ],
            [
             0.8888888888888888,
             "#fdca26"
            ],
            [
             1,
             "#f0f921"
            ]
           ],
           "sequentialminus": [
            [
             0,
             "#0d0887"
            ],
            [
             0.1111111111111111,
             "#46039f"
            ],
            [
             0.2222222222222222,
             "#7201a8"
            ],
            [
             0.3333333333333333,
             "#9c179e"
            ],
            [
             0.4444444444444444,
             "#bd3786"
            ],
            [
             0.5555555555555556,
             "#d8576b"
            ],
            [
             0.6666666666666666,
             "#ed7953"
            ],
            [
             0.7777777777777778,
             "#fb9f3a"
            ],
            [
             0.8888888888888888,
             "#fdca26"
            ],
            [
             1,
             "#f0f921"
            ]
           ]
          },
          "colorway": [
           "#636efa",
           "#EF553B",
           "#00cc96",
           "#ab63fa",
           "#FFA15A",
           "#19d3f3",
           "#FF6692",
           "#B6E880",
           "#FF97FF",
           "#FECB52"
          ],
          "font": {
           "color": "#2a3f5f"
          },
          "geo": {
           "bgcolor": "white",
           "lakecolor": "white",
           "landcolor": "#E5ECF6",
           "showlakes": true,
           "showland": true,
           "subunitcolor": "white"
          },
          "hoverlabel": {
           "align": "left"
          },
          "hovermode": "closest",
          "mapbox": {
           "style": "light"
          },
          "paper_bgcolor": "white",
          "plot_bgcolor": "#E5ECF6",
          "polar": {
           "angularaxis": {
            "gridcolor": "white",
            "linecolor": "white",
            "ticks": ""
           },
           "bgcolor": "#E5ECF6",
           "radialaxis": {
            "gridcolor": "white",
            "linecolor": "white",
            "ticks": ""
           }
          },
          "scene": {
           "xaxis": {
            "backgroundcolor": "#E5ECF6",
            "gridcolor": "white",
            "gridwidth": 2,
            "linecolor": "white",
            "showbackground": true,
            "ticks": "",
            "zerolinecolor": "white"
           },
           "yaxis": {
            "backgroundcolor": "#E5ECF6",
            "gridcolor": "white",
            "gridwidth": 2,
            "linecolor": "white",
            "showbackground": true,
            "ticks": "",
            "zerolinecolor": "white"
           },
           "zaxis": {
            "backgroundcolor": "#E5ECF6",
            "gridcolor": "white",
            "gridwidth": 2,
            "linecolor": "white",
            "showbackground": true,
            "ticks": "",
            "zerolinecolor": "white"
           }
          },
          "shapedefaults": {
           "line": {
            "color": "#2a3f5f"
           }
          },
          "ternary": {
           "aaxis": {
            "gridcolor": "white",
            "linecolor": "white",
            "ticks": ""
           },
           "baxis": {
            "gridcolor": "white",
            "linecolor": "white",
            "ticks": ""
           },
           "bgcolor": "#E5ECF6",
           "caxis": {
            "gridcolor": "white",
            "linecolor": "white",
            "ticks": ""
           }
          },
          "title": {
           "x": 0.05
          },
          "xaxis": {
           "automargin": true,
           "gridcolor": "white",
           "linecolor": "white",
           "ticks": "",
           "title": {
            "standoff": 15
           },
           "zerolinecolor": "white",
           "zerolinewidth": 2
          },
          "yaxis": {
           "automargin": true,
           "gridcolor": "white",
           "linecolor": "white",
           "ticks": "",
           "title": {
            "standoff": 15
           },
           "zerolinecolor": "white",
           "zerolinewidth": 2
          }
         }
        },
        "title": {
         "text": "Top 120 Count by Category"
        },
        "xaxis": {
         "anchor": "y",
         "domain": [
          0,
          1
         ],
         "title": {
          "text": "Category"
         }
        },
        "yaxis": {
         "anchor": "x",
         "domain": [
          0,
          1
         ],
         "title": {
          "text": "Count"
         }
        }
       }
      }
     },
     "metadata": {},
     "output_type": "display_data"
    }
   ],
   "source": [
    "result_grouped_cat = result_vis.groupby(by=['Category'], as_index=False).size()\n",
    "result_grouped_cat.columns = ['Category', 'Count']\n",
    "result_grouped_sort = result_grouped_cat.sort_values(by='Count', ascending=False) # type: ignore\n",
    "\n",
    "fig1 = px.bar(result_grouped_sort, x='Category', y='Count', title='Top 120 Count by Category')\n",
    "fig1.show()"
   ]
  },
  {
   "cell_type": "code",
   "execution_count": 232,
   "metadata": {},
   "outputs": [
    {
     "data": {
      "application/vnd.plotly.v1+json": {
       "config": {
        "plotlyServerURL": "https://plot.ly"
       },
       "data": [
        {
         "alignmentgroup": "True",
         "hovertemplate": "Category=Decoration<br>Subcategory=%{x}<br>Count=%{y}<extra></extra>",
         "legendgroup": "Decoration",
         "marker": {
          "color": "#636efa",
          "pattern": {
           "shape": ""
          }
         },
         "name": "Decoration",
         "offsetgroup": "Decoration",
         "orientation": "v",
         "showlegend": true,
         "textposition": "auto",
         "type": "bar",
         "x": [
          "Other decorative objects",
          "Decorative set",
          "Curtain",
          "Carpets",
          "Clothes",
          "Frame",
          "Sculpture",
          "Vase"
         ],
         "xaxis": "x",
         "y": [
          7,
          6,
          5,
          4,
          2,
          1,
          1,
          1
         ],
         "yaxis": "y"
        },
        {
         "alignmentgroup": "True",
         "hovertemplate": "Category=Bathroom<br>Subcategory=%{x}<br>Count=%{y}<extra></extra>",
         "legendgroup": "Bathroom",
         "marker": {
          "color": "#EF553B",
          "pattern": {
           "shape": ""
          }
         },
         "name": "Bathroom",
         "offsetgroup": "Bathroom",
         "orientation": "v",
         "showlegend": true,
         "textposition": "auto",
         "type": "bar",
         "x": [
          "Bathroom accessories",
          "Faucet",
          "Bathroom furniture",
          "Towel rail",
          "Toilet and Bidet",
          "Bathtub"
         ],
         "xaxis": "x",
         "y": [
          6,
          4,
          2,
          1,
          1,
          1
         ],
         "yaxis": "y"
        },
        {
         "alignmentgroup": "True",
         "hovertemplate": "Category=Furniture<br>Subcategory=%{x}<br>Count=%{y}<extra></extra>",
         "legendgroup": "Furniture",
         "marker": {
          "color": "#00cc96",
          "pattern": {
           "shape": ""
          }
         },
         "name": "Furniture",
         "offsetgroup": "Furniture",
         "orientation": "v",
         "showlegend": true,
         "textposition": "auto",
         "type": "bar",
         "x": [
          "Wardrobe & Display cabinets",
          "Office furniture",
          "Sideboard & Chest of drawer",
          "Rack",
          "TV Wall",
          "Table",
          "Bed",
          "Other",
          "Arm chair",
          "Other soft seating",
          "Table + Chair",
          "Chair"
         ],
         "xaxis": "x",
         "y": [
          5,
          3,
          3,
          2,
          2,
          2,
          2,
          2,
          2,
          1,
          1,
          1
         ],
         "yaxis": "y"
        },
        {
         "alignmentgroup": "True",
         "hovertemplate": "Category=Kitchen<br>Subcategory=%{x}<br>Count=%{y}<extra></extra>",
         "legendgroup": "Kitchen",
         "marker": {
          "color": "#ab63fa",
          "pattern": {
           "shape": ""
          }
         },
         "name": "Kitchen",
         "offsetgroup": "Kitchen",
         "orientation": "v",
         "showlegend": true,
         "textposition": "auto",
         "type": "bar",
         "x": [
          "Kitchen",
          "Tableware",
          "Sink",
          "Food and drinks"
         ],
         "xaxis": "x",
         "y": [
          5,
          2,
          1,
          1
         ],
         "yaxis": "y"
        },
        {
         "alignmentgroup": "True",
         "hovertemplate": "Category=Materials<br>Subcategory=%{x}<br>Count=%{y}<extra></extra>",
         "legendgroup": "Materials",
         "marker": {
          "color": "#FFA15A",
          "pattern": {
           "shape": ""
          }
         },
         "name": "Materials",
         "offsetgroup": "Materials",
         "orientation": "v",
         "showlegend": true,
         "textposition": "auto",
         "type": "bar",
         "x": [
          "Miscellaneous",
          "Tile",
          "Metal"
         ],
         "xaxis": "x",
         "y": [
          4,
          1,
          1
         ],
         "yaxis": "y"
        },
        {
         "alignmentgroup": "True",
         "hovertemplate": "Category=Childroom<br>Subcategory=%{x}<br>Count=%{y}<extra></extra>",
         "legendgroup": "Childroom",
         "marker": {
          "color": "#19d3f3",
          "pattern": {
           "shape": ""
          }
         },
         "name": "Childroom",
         "offsetgroup": "Childroom",
         "orientation": "v",
         "showlegend": true,
         "textposition": "auto",
         "type": "bar",
         "x": [
          "Miscellaneous",
          "Bed",
          "Wardrobe"
         ],
         "xaxis": "x",
         "y": [
          4,
          1,
          1
         ],
         "yaxis": "y"
        },
        {
         "alignmentgroup": "True",
         "hovertemplate": "Category=Other Models<br>Subcategory=%{x}<br>Count=%{y}<extra></extra>",
         "legendgroup": "Other Models",
         "marker": {
          "color": "#FF6692",
          "pattern": {
           "shape": ""
          }
         },
         "name": "Other Models",
         "offsetgroup": "Other Models",
         "orientation": "v",
         "showlegend": true,
         "textposition": "auto",
         "type": "bar",
         "x": [
          "Miscellaneous",
          "Restaurant",
          "Sports",
          "Transport",
          "Musical instrument",
          "Doors"
         ],
         "xaxis": "x",
         "y": [
          3,
          3,
          3,
          1,
          1,
          1
         ],
         "yaxis": "y"
        },
        {
         "alignmentgroup": "True",
         "hovertemplate": "Category=Textures<br>Subcategory=%{x}<br>Count=%{y}<extra></extra>",
         "legendgroup": "Textures",
         "marker": {
          "color": "#B6E880",
          "pattern": {
           "shape": ""
          }
         },
         "name": "Textures",
         "offsetgroup": "Textures",
         "orientation": "v",
         "showlegend": true,
         "textposition": "auto",
         "type": "bar",
         "x": [
          "Floor coverings",
          "Tile"
         ],
         "xaxis": "x",
         "y": [
          3,
          2
         ],
         "yaxis": "y"
        },
        {
         "alignmentgroup": "True",
         "hovertemplate": "Category=Lighting<br>Subcategory=%{x}<br>Count=%{y}<extra></extra>",
         "legendgroup": "Lighting",
         "marker": {
          "color": "#FF97FF",
          "pattern": {
           "shape": ""
          }
         },
         "name": "Lighting",
         "offsetgroup": "Lighting",
         "orientation": "v",
         "showlegend": true,
         "textposition": "auto",
         "type": "bar",
         "x": [
          "Pendant light",
          "Technical lighting"
         ],
         "xaxis": "x",
         "y": [
          2,
          1
         ],
         "yaxis": "y"
        },
        {
         "alignmentgroup": "True",
         "hovertemplate": "Category=Plants<br>Subcategory=%{x}<br>Count=%{y}<extra></extra>",
         "legendgroup": "Plants",
         "marker": {
          "color": "#FECB52",
          "pattern": {
           "shape": ""
          }
         },
         "name": "Plants",
         "offsetgroup": "Plants",
         "orientation": "v",
         "showlegend": true,
         "textposition": "auto",
         "type": "bar",
         "x": [
          "Bouquet",
          "Indoor",
          "Grass",
          "Tree"
         ],
         "xaxis": "x",
         "y": [
          2,
          2,
          1,
          1
         ],
         "yaxis": "y"
        },
        {
         "alignmentgroup": "True",
         "hovertemplate": "Category=Architecture<br>Subcategory=%{x}<br>Count=%{y}<extra></extra>",
         "legendgroup": "Architecture",
         "marker": {
          "color": "#636efa",
          "pattern": {
           "shape": ""
          }
         },
         "name": "Architecture",
         "offsetgroup": "Architecture",
         "orientation": "v",
         "showlegend": true,
         "textposition": "auto",
         "type": "bar",
         "x": [
          "Urban environment"
         ],
         "xaxis": "x",
         "y": [
          2
         ],
         "yaxis": "y"
        },
        {
         "alignmentgroup": "True",
         "hovertemplate": "Category=Scripts<br>Subcategory=%{x}<br>Count=%{y}<extra></extra>",
         "legendgroup": "Scripts",
         "marker": {
          "color": "#EF553B",
          "pattern": {
           "shape": ""
          }
         },
         "name": "Scripts",
         "offsetgroup": "Scripts",
         "orientation": "v",
         "showlegend": true,
         "textposition": "auto",
         "type": "bar",
         "x": [
          "Scripts"
         ],
         "xaxis": "x",
         "y": [
          1
         ],
         "yaxis": "y"
        },
        {
         "alignmentgroup": "True",
         "hovertemplate": "Category=Technology<br>Subcategory=%{x}<br>Count=%{y}<extra></extra>",
         "legendgroup": "Technology",
         "marker": {
          "color": "#00cc96",
          "pattern": {
           "shape": ""
          }
         },
         "name": "Technology",
         "offsetgroup": "Technology",
         "orientation": "v",
         "showlegend": true,
         "textposition": "auto",
         "type": "bar",
         "x": [
          "Household appliance",
          "PC & other electronics"
         ],
         "xaxis": "x",
         "y": [
          1,
          1
         ],
         "yaxis": "y"
        }
       ],
       "layout": {
        "barmode": "relative",
        "legend": {
         "title": {
          "text": "Category"
         },
         "tracegroupgap": 0
        },
        "template": {
         "data": {
          "bar": [
           {
            "error_x": {
             "color": "#2a3f5f"
            },
            "error_y": {
             "color": "#2a3f5f"
            },
            "marker": {
             "line": {
              "color": "#E5ECF6",
              "width": 0.5
             },
             "pattern": {
              "fillmode": "overlay",
              "size": 10,
              "solidity": 0.2
             }
            },
            "type": "bar"
           }
          ],
          "barpolar": [
           {
            "marker": {
             "line": {
              "color": "#E5ECF6",
              "width": 0.5
             },
             "pattern": {
              "fillmode": "overlay",
              "size": 10,
              "solidity": 0.2
             }
            },
            "type": "barpolar"
           }
          ],
          "carpet": [
           {
            "aaxis": {
             "endlinecolor": "#2a3f5f",
             "gridcolor": "white",
             "linecolor": "white",
             "minorgridcolor": "white",
             "startlinecolor": "#2a3f5f"
            },
            "baxis": {
             "endlinecolor": "#2a3f5f",
             "gridcolor": "white",
             "linecolor": "white",
             "minorgridcolor": "white",
             "startlinecolor": "#2a3f5f"
            },
            "type": "carpet"
           }
          ],
          "choropleth": [
           {
            "colorbar": {
             "outlinewidth": 0,
             "ticks": ""
            },
            "type": "choropleth"
           }
          ],
          "contour": [
           {
            "colorbar": {
             "outlinewidth": 0,
             "ticks": ""
            },
            "colorscale": [
             [
              0,
              "#0d0887"
             ],
             [
              0.1111111111111111,
              "#46039f"
             ],
             [
              0.2222222222222222,
              "#7201a8"
             ],
             [
              0.3333333333333333,
              "#9c179e"
             ],
             [
              0.4444444444444444,
              "#bd3786"
             ],
             [
              0.5555555555555556,
              "#d8576b"
             ],
             [
              0.6666666666666666,
              "#ed7953"
             ],
             [
              0.7777777777777778,
              "#fb9f3a"
             ],
             [
              0.8888888888888888,
              "#fdca26"
             ],
             [
              1,
              "#f0f921"
             ]
            ],
            "type": "contour"
           }
          ],
          "contourcarpet": [
           {
            "colorbar": {
             "outlinewidth": 0,
             "ticks": ""
            },
            "type": "contourcarpet"
           }
          ],
          "heatmap": [
           {
            "colorbar": {
             "outlinewidth": 0,
             "ticks": ""
            },
            "colorscale": [
             [
              0,
              "#0d0887"
             ],
             [
              0.1111111111111111,
              "#46039f"
             ],
             [
              0.2222222222222222,
              "#7201a8"
             ],
             [
              0.3333333333333333,
              "#9c179e"
             ],
             [
              0.4444444444444444,
              "#bd3786"
             ],
             [
              0.5555555555555556,
              "#d8576b"
             ],
             [
              0.6666666666666666,
              "#ed7953"
             ],
             [
              0.7777777777777778,
              "#fb9f3a"
             ],
             [
              0.8888888888888888,
              "#fdca26"
             ],
             [
              1,
              "#f0f921"
             ]
            ],
            "type": "heatmap"
           }
          ],
          "heatmapgl": [
           {
            "colorbar": {
             "outlinewidth": 0,
             "ticks": ""
            },
            "colorscale": [
             [
              0,
              "#0d0887"
             ],
             [
              0.1111111111111111,
              "#46039f"
             ],
             [
              0.2222222222222222,
              "#7201a8"
             ],
             [
              0.3333333333333333,
              "#9c179e"
             ],
             [
              0.4444444444444444,
              "#bd3786"
             ],
             [
              0.5555555555555556,
              "#d8576b"
             ],
             [
              0.6666666666666666,
              "#ed7953"
             ],
             [
              0.7777777777777778,
              "#fb9f3a"
             ],
             [
              0.8888888888888888,
              "#fdca26"
             ],
             [
              1,
              "#f0f921"
             ]
            ],
            "type": "heatmapgl"
           }
          ],
          "histogram": [
           {
            "marker": {
             "pattern": {
              "fillmode": "overlay",
              "size": 10,
              "solidity": 0.2
             }
            },
            "type": "histogram"
           }
          ],
          "histogram2d": [
           {
            "colorbar": {
             "outlinewidth": 0,
             "ticks": ""
            },
            "colorscale": [
             [
              0,
              "#0d0887"
             ],
             [
              0.1111111111111111,
              "#46039f"
             ],
             [
              0.2222222222222222,
              "#7201a8"
             ],
             [
              0.3333333333333333,
              "#9c179e"
             ],
             [
              0.4444444444444444,
              "#bd3786"
             ],
             [
              0.5555555555555556,
              "#d8576b"
             ],
             [
              0.6666666666666666,
              "#ed7953"
             ],
             [
              0.7777777777777778,
              "#fb9f3a"
             ],
             [
              0.8888888888888888,
              "#fdca26"
             ],
             [
              1,
              "#f0f921"
             ]
            ],
            "type": "histogram2d"
           }
          ],
          "histogram2dcontour": [
           {
            "colorbar": {
             "outlinewidth": 0,
             "ticks": ""
            },
            "colorscale": [
             [
              0,
              "#0d0887"
             ],
             [
              0.1111111111111111,
              "#46039f"
             ],
             [
              0.2222222222222222,
              "#7201a8"
             ],
             [
              0.3333333333333333,
              "#9c179e"
             ],
             [
              0.4444444444444444,
              "#bd3786"
             ],
             [
              0.5555555555555556,
              "#d8576b"
             ],
             [
              0.6666666666666666,
              "#ed7953"
             ],
             [
              0.7777777777777778,
              "#fb9f3a"
             ],
             [
              0.8888888888888888,
              "#fdca26"
             ],
             [
              1,
              "#f0f921"
             ]
            ],
            "type": "histogram2dcontour"
           }
          ],
          "mesh3d": [
           {
            "colorbar": {
             "outlinewidth": 0,
             "ticks": ""
            },
            "type": "mesh3d"
           }
          ],
          "parcoords": [
           {
            "line": {
             "colorbar": {
              "outlinewidth": 0,
              "ticks": ""
             }
            },
            "type": "parcoords"
           }
          ],
          "pie": [
           {
            "automargin": true,
            "type": "pie"
           }
          ],
          "scatter": [
           {
            "fillpattern": {
             "fillmode": "overlay",
             "size": 10,
             "solidity": 0.2
            },
            "type": "scatter"
           }
          ],
          "scatter3d": [
           {
            "line": {
             "colorbar": {
              "outlinewidth": 0,
              "ticks": ""
             }
            },
            "marker": {
             "colorbar": {
              "outlinewidth": 0,
              "ticks": ""
             }
            },
            "type": "scatter3d"
           }
          ],
          "scattercarpet": [
           {
            "marker": {
             "colorbar": {
              "outlinewidth": 0,
              "ticks": ""
             }
            },
            "type": "scattercarpet"
           }
          ],
          "scattergeo": [
           {
            "marker": {
             "colorbar": {
              "outlinewidth": 0,
              "ticks": ""
             }
            },
            "type": "scattergeo"
           }
          ],
          "scattergl": [
           {
            "marker": {
             "colorbar": {
              "outlinewidth": 0,
              "ticks": ""
             }
            },
            "type": "scattergl"
           }
          ],
          "scattermapbox": [
           {
            "marker": {
             "colorbar": {
              "outlinewidth": 0,
              "ticks": ""
             }
            },
            "type": "scattermapbox"
           }
          ],
          "scatterpolar": [
           {
            "marker": {
             "colorbar": {
              "outlinewidth": 0,
              "ticks": ""
             }
            },
            "type": "scatterpolar"
           }
          ],
          "scatterpolargl": [
           {
            "marker": {
             "colorbar": {
              "outlinewidth": 0,
              "ticks": ""
             }
            },
            "type": "scatterpolargl"
           }
          ],
          "scatterternary": [
           {
            "marker": {
             "colorbar": {
              "outlinewidth": 0,
              "ticks": ""
             }
            },
            "type": "scatterternary"
           }
          ],
          "surface": [
           {
            "colorbar": {
             "outlinewidth": 0,
             "ticks": ""
            },
            "colorscale": [
             [
              0,
              "#0d0887"
             ],
             [
              0.1111111111111111,
              "#46039f"
             ],
             [
              0.2222222222222222,
              "#7201a8"
             ],
             [
              0.3333333333333333,
              "#9c179e"
             ],
             [
              0.4444444444444444,
              "#bd3786"
             ],
             [
              0.5555555555555556,
              "#d8576b"
             ],
             [
              0.6666666666666666,
              "#ed7953"
             ],
             [
              0.7777777777777778,
              "#fb9f3a"
             ],
             [
              0.8888888888888888,
              "#fdca26"
             ],
             [
              1,
              "#f0f921"
             ]
            ],
            "type": "surface"
           }
          ],
          "table": [
           {
            "cells": {
             "fill": {
              "color": "#EBF0F8"
             },
             "line": {
              "color": "white"
             }
            },
            "header": {
             "fill": {
              "color": "#C8D4E3"
             },
             "line": {
              "color": "white"
             }
            },
            "type": "table"
           }
          ]
         },
         "layout": {
          "annotationdefaults": {
           "arrowcolor": "#2a3f5f",
           "arrowhead": 0,
           "arrowwidth": 1
          },
          "autotypenumbers": "strict",
          "coloraxis": {
           "colorbar": {
            "outlinewidth": 0,
            "ticks": ""
           }
          },
          "colorscale": {
           "diverging": [
            [
             0,
             "#8e0152"
            ],
            [
             0.1,
             "#c51b7d"
            ],
            [
             0.2,
             "#de77ae"
            ],
            [
             0.3,
             "#f1b6da"
            ],
            [
             0.4,
             "#fde0ef"
            ],
            [
             0.5,
             "#f7f7f7"
            ],
            [
             0.6,
             "#e6f5d0"
            ],
            [
             0.7,
             "#b8e186"
            ],
            [
             0.8,
             "#7fbc41"
            ],
            [
             0.9,
             "#4d9221"
            ],
            [
             1,
             "#276419"
            ]
           ],
           "sequential": [
            [
             0,
             "#0d0887"
            ],
            [
             0.1111111111111111,
             "#46039f"
            ],
            [
             0.2222222222222222,
             "#7201a8"
            ],
            [
             0.3333333333333333,
             "#9c179e"
            ],
            [
             0.4444444444444444,
             "#bd3786"
            ],
            [
             0.5555555555555556,
             "#d8576b"
            ],
            [
             0.6666666666666666,
             "#ed7953"
            ],
            [
             0.7777777777777778,
             "#fb9f3a"
            ],
            [
             0.8888888888888888,
             "#fdca26"
            ],
            [
             1,
             "#f0f921"
            ]
           ],
           "sequentialminus": [
            [
             0,
             "#0d0887"
            ],
            [
             0.1111111111111111,
             "#46039f"
            ],
            [
             0.2222222222222222,
             "#7201a8"
            ],
            [
             0.3333333333333333,
             "#9c179e"
            ],
            [
             0.4444444444444444,
             "#bd3786"
            ],
            [
             0.5555555555555556,
             "#d8576b"
            ],
            [
             0.6666666666666666,
             "#ed7953"
            ],
            [
             0.7777777777777778,
             "#fb9f3a"
            ],
            [
             0.8888888888888888,
             "#fdca26"
            ],
            [
             1,
             "#f0f921"
            ]
           ]
          },
          "colorway": [
           "#636efa",
           "#EF553B",
           "#00cc96",
           "#ab63fa",
           "#FFA15A",
           "#19d3f3",
           "#FF6692",
           "#B6E880",
           "#FF97FF",
           "#FECB52"
          ],
          "font": {
           "color": "#2a3f5f"
          },
          "geo": {
           "bgcolor": "white",
           "lakecolor": "white",
           "landcolor": "#E5ECF6",
           "showlakes": true,
           "showland": true,
           "subunitcolor": "white"
          },
          "hoverlabel": {
           "align": "left"
          },
          "hovermode": "closest",
          "mapbox": {
           "style": "light"
          },
          "paper_bgcolor": "white",
          "plot_bgcolor": "#E5ECF6",
          "polar": {
           "angularaxis": {
            "gridcolor": "white",
            "linecolor": "white",
            "ticks": ""
           },
           "bgcolor": "#E5ECF6",
           "radialaxis": {
            "gridcolor": "white",
            "linecolor": "white",
            "ticks": ""
           }
          },
          "scene": {
           "xaxis": {
            "backgroundcolor": "#E5ECF6",
            "gridcolor": "white",
            "gridwidth": 2,
            "linecolor": "white",
            "showbackground": true,
            "ticks": "",
            "zerolinecolor": "white"
           },
           "yaxis": {
            "backgroundcolor": "#E5ECF6",
            "gridcolor": "white",
            "gridwidth": 2,
            "linecolor": "white",
            "showbackground": true,
            "ticks": "",
            "zerolinecolor": "white"
           },
           "zaxis": {
            "backgroundcolor": "#E5ECF6",
            "gridcolor": "white",
            "gridwidth": 2,
            "linecolor": "white",
            "showbackground": true,
            "ticks": "",
            "zerolinecolor": "white"
           }
          },
          "shapedefaults": {
           "line": {
            "color": "#2a3f5f"
           }
          },
          "ternary": {
           "aaxis": {
            "gridcolor": "white",
            "linecolor": "white",
            "ticks": ""
           },
           "baxis": {
            "gridcolor": "white",
            "linecolor": "white",
            "ticks": ""
           },
           "bgcolor": "#E5ECF6",
           "caxis": {
            "gridcolor": "white",
            "linecolor": "white",
            "ticks": ""
           }
          },
          "title": {
           "x": 0.05
          },
          "xaxis": {
           "automargin": true,
           "gridcolor": "white",
           "linecolor": "white",
           "ticks": "",
           "title": {
            "standoff": 15
           },
           "zerolinecolor": "white",
           "zerolinewidth": 2
          },
          "yaxis": {
           "automargin": true,
           "gridcolor": "white",
           "linecolor": "white",
           "ticks": "",
           "title": {
            "standoff": 15
           },
           "zerolinecolor": "white",
           "zerolinewidth": 2
          }
         }
        },
        "title": {
         "text": "Top 120 Count by Subcategory"
        },
        "xaxis": {
         "anchor": "y",
         "domain": [
          0,
          1
         ],
         "title": {
          "text": "Subcategory"
         }
        },
        "yaxis": {
         "anchor": "x",
         "domain": [
          0,
          1
         ],
         "title": {
          "text": "Count"
         }
        }
       }
      }
     },
     "metadata": {},
     "output_type": "display_data"
    }
   ],
   "source": [
    "result_grouped_subcat = result_vis.groupby(by=['Category', 'Subcategory'], as_index=False).size()\n",
    "result_grouped_subcat.columns = ['Category', 'Subcategory', 'Count']\n",
    "result_grouped_subsort = result_grouped_subcat.sort_values(by='Count', ascending=False) # type: ignore\n",
    "\n",
    "fig2 = px.bar(result_grouped_subsort, x='Subcategory', y='Count', color = 'Category', title='Top 120 Count by Subcategory')\n",
    "fig2.show()"
   ]
  },
  {
   "cell_type": "code",
   "execution_count": 233,
   "metadata": {},
   "outputs": [
    {
     "data": {
      "application/vnd.plotly.v1+json": {
       "config": {
        "plotlyServerURL": "https://plot.ly"
       },
       "data": [
        {
         "customdata": [
          [
           "Christmas tree with fireplace 5"
          ],
          [
           "Benuta Leon Cream Wool Rug"
          ],
          [
           "Office chair Ashley"
          ],
          [
           "Indoor Plant Set 89"
          ],
          [
           "Clothes for wardrobe NG15"
          ],
          [
           "Boucle Fabric"
          ],
          [
           "Benuta Dave Rectangular Fur Rug (3 colors)"
          ],
          [
           "Curtains with Roman blinds 2"
          ],
          [
           "Kitchen 10"
          ],
          [
           "Decorative Set 089"
          ],
          [
           "Carpeting. Seamless carpet"
          ],
          [
           "Dressing room 28"
          ],
          [
           "Bathroom decor with a set of different cosmetic products"
          ],
          [
           "Cairns pedestal Divan.ru"
          ],
          [
           "Decorative Set 088"
          ],
          [
           "coffee table decor set 005"
          ],
          [
           "Faucets and showers Boheme uno set 2"
          ],
          [
           "Grilles for ventilation and air conditioning Redvent"
          ],
          [
           "Snow"
          ],
          [
           "TV wall with Xiaomi laser projector"
          ],
          [
           "Dressing room 16"
          ],
          [
           "Equipe BALI"
          ],
          [
           "Bathroom decor set P06"
          ],
          [
           "A set of clothes in bright colors for a wardrobe or showroom and a store"
          ],
          [
           "Roman blinds, Roman blinds"
          ],
          [
           "Lindsay Laurie coffee table Divan.ru"
          ],
          [
           "Omnires mixers"
          ],
          [
           "HOMARY island for dressing room NG16"
          ],
          [
           "Siena Kids Bed By Como"
          ],
          [
           "Padel"
          ],
          [
           "Porcelain tiles Nolana Estima"
          ],
          [
           "Milam chair Divan.ru"
          ],
          [
           "Moooi Drape Lights"
          ],
          [
           "Basic wardrobe made of cabinet furniture with doors"
          ],
          [
           "Track system centersvet Infinity"
          ],
          [
           "Glass Block Wall 08"
          ],
          [
           "Robot vacuum cleaner Xiaomi Robot Vacuum Cleaner X20"
          ],
          [
           "Cookware set NG5"
          ],
          [
           "Faucets and showers Boheme uno set 1"
          ],
          [
           "Parquet board 4"
          ],
          [
           "Cecily Nara bedside table Cosmo"
          ],
          [
           "TV Wall 52"
          ],
          [
           "Bathroom accessories Z42"
          ],
          [
           "Nice Christmas tree"
          ],
          [
           "Sinks and faucets Omoikiri"
          ],
          [
           "Realistic meadow grass"
          ],
          [
           "Bathroom furniture 21"
          ],
          [
           "3DArt Relief NG41"
          ],
          [
           "Pila Vessels en gold / Jug"
          ],
          [
           "West Elm Curved Modern Upholstered Bed"
          ],
          [
           "Children play area | Interactive"
          ],
          [
           "Pinch Pleat Linen Curtain with Roller Blind"
          ],
          [
           "Herringbone parquet chevron s8"
          ],
          [
           "Volhovec Rift Doors"
          ],
          [
           "Wine with chocolate set/1"
          ],
          [
           "Faucets and showers Boheme Specter set"
          ],
          [
           "Office chair Sergio La Redoute"
          ],
          [
           "A bouquet of lilacs in a glass vase"
          ],
          [
           "Pinboard with childrens drawings"
          ],
          [
           "kitchen 0252"
          ],
          [
           "Minotti Pilots Bench"
          ],
          [
           "Bouquet 06"
          ],
          [
           "Childrens open wardrobe with desk, modular, modern, 25"
          ],
          [
           "FloorGen Tools 1.5.4"
          ],
          [
           "Guitar. Guitar set for stage. Musical instrument. Microphone"
          ],
          [
           "Set of ceilings Armstrong and Grilyato"
          ],
          [
           "Boen parquet board wood flooring"
          ],
          [
           "Wet asphalt with leaves. Autumn. Editable"
          ],
          [
           "Decorative set with a small beige bag"
          ],
          [
           "Timo Saona"
          ],
          [
           "Panel with waves"
          ],
          [
           "Khmara by Makhno Rough Plaster Pendant Lamps"
          ],
          [
           "Indoor Plant 702 - Olive Plant"
          ],
          [
           "Emmi Armchair by Minotti"
          ],
          [
           "Gianna Natural Walnut Wood King Bed Frame"
          ],
          [
           "Soft seat by the window in the children's room"
          ],
          [
           "Christmas tree with fireplace 4"
          ],
          [
           "garage tools set 23"
          ],
          [
           "Kitchen Appliance Bosch Kitchen 81"
          ],
          [
           "Decorative Set 270"
          ],
          [
           "Bedside table Tammi"
          ],
          [
           "Furniture Composition 271"
          ],
          [
           "Dinning Set 162"
          ],
          [
           "Kitchen 27"
          ],
          [
           "Wonderful Christmas Tree"
          ],
          [
           "Laundry Room _ 0005"
          ],
          [
           "Christmas tree 5"
          ],
          [
           "Yoga & Meditation Set"
          ],
          [
           "Equipe Hopp"
          ],
          [
           "Serving NG3"
          ],
          [
           "Wardrobe system Rimadesio Dress Bold"
          ],
          [
           "Oval island for dressing room NG14"
          ],
          [
           "A wall with a rack for gym equipment 2"
          ],
          [
           "Hotel Bathroom Accessories LE LABO"
          ],
          [
           "Rubber Coating"
          ],
          [
           "Travis shelving Divan.ru"
          ],
          [
           "Ventilation system."
          ],
          [
           "Interactive panel for children room"
          ],
          [
           "Round carpet"
          ],
          [
           "Pattie Armchair by Minotti"
          ],
          [
           "Flat Metal Material"
          ],
          [
           "Canon printer set."
          ],
          [
           "Curtains 9"
          ],
          [
           "Office Furniture | 4 | Workplace"
          ],
          [
           "Calder Lander Build table Divan.ru"
          ],
          [
           "EWRIKA Penelope electric heated towel rail"
          ],
          [
           "kitchen modern-067"
          ],
          [
           "Curtain #121"
          ],
          [
           "Christmas Tree and Decoration 78"
          ],
          [
           "Decorative Set-086 Shelf Accessories"
          ],
          [
           "LAUNDRY SET (Poliform FITTED + ASKO)"
          ],
          [
           "LAUNDRY SET 2 (L'ORIGINE Aeterna + ASKO)"
          ],
          [
           "Bakery Equipment"
          ],
          [
           "Acer Ginnala"
          ],
          [
           "CAT Forklift, Manual Loader and Warehouse Carts Kit"
          ],
          [
           "Christmas Tree Street"
          ],
          [
           "Coffee Shop 6"
          ],
          [
           "Benuta Dave Round Fur Rug (3 colors)"
          ],
          [
           "Cezares Stylus + Boheme Uno + AlcaPlast Thin"
          ],
          [
           "Cafe Equipment Set 8"
          ]
         ],
         "hovertemplate": "Selected=%{x}<br>Followers=%{y}<br>Title=%{customdata[0]}<br>N=%{marker.color}<extra></extra>",
         "legendgroup": "",
         "marker": {
          "color": [
           1,
           2,
           3,
           4,
           5,
           6,
           7,
           8,
           9,
           10,
           11,
           12,
           13,
           14,
           15,
           16,
           17,
           18,
           19,
           20,
           21,
           22,
           23,
           24,
           25,
           26,
           27,
           28,
           29,
           30,
           31,
           32,
           33,
           34,
           35,
           36,
           37,
           38,
           39,
           40,
           41,
           42,
           43,
           44,
           45,
           46,
           47,
           48,
           49,
           50,
           51,
           52,
           53,
           54,
           55,
           56,
           57,
           58,
           59,
           60,
           61,
           62,
           63,
           64,
           65,
           66,
           67,
           68,
           69,
           70,
           71,
           72,
           73,
           74,
           75,
           76,
           77,
           78,
           79,
           80,
           81,
           82,
           83,
           84,
           85,
           86,
           87,
           88,
           89,
           90,
           91,
           92,
           93,
           94,
           95,
           96,
           97,
           98,
           99,
           100,
           101,
           102,
           103,
           104,
           105,
           106,
           107,
           108,
           109,
           110,
           111,
           112,
           113,
           114,
           115,
           116,
           117,
           118,
           119,
           120
          ],
          "coloraxis": "coloraxis",
          "symbol": "circle"
         },
         "mode": "markers",
         "name": "",
         "orientation": "v",
         "showlegend": false,
         "type": "scatter",
         "x": [
          159,
          212,
          131,
          49,
          95,
          410,
          538,
          243,
          86,
          225,
          142,
          65,
          266,
          70,
          200,
          130,
          60,
          90,
          64,
          1486,
          386,
          99,
          94,
          191,
          83,
          33,
          71,
          244,
          771,
          117,
          169,
          93,
          101,
          108,
          28,
          812,
          128,
          323,
          39,
          84,
          76,
          60,
          27,
          1410,
          502,
          439,
          202,
          89,
          227,
          89,
          153,
          53,
          215,
          197,
          261,
          26,
          80,
          192,
          89,
          58,
          69,
          115,
          50,
          801,
          477,
          826,
          878,
          472,
          31,
          185,
          487,
          308,
          254,
          297,
          306,
          335,
          347,
          73,
          224,
          40,
          42,
          79,
          34,
          25,
          81,
          933,
          610,
          501,
          237,
          457,
          504,
          442,
          278,
          412,
          187,
          130,
          146,
          340,
          206,
          171,
          216,
          41,
          66,
          103,
          69,
          50,
          58,
          22,
          123,
          41,
          2213,
          2700,
          1260,
          471,
          541,
          288,
          600,
          323,
          171,
          153
         ],
         "xaxis": "x",
         "y": [
          314,
          335,
          6,
          211,
          744,
          150,
          335,
          128,
          11,
          87,
          772,
          322,
          772,
          744,
          87,
          190,
          22,
          31,
          310,
          2224,
          322,
          162,
          8,
          772,
          417,
          744,
          1217,
          744,
          417,
          22,
          11,
          744,
          100,
          772,
          22,
          128,
          99,
          744,
          22,
          314,
          744,
          231,
          34,
          1217,
          125,
          1671,
          170,
          744,
          8,
          610,
          85,
          128,
          162,
          66,
          73,
          22,
          245,
          228,
          31,
          97,
          717,
          10,
          170,
          40,
          89,
          430,
          314,
          130,
          28,
          78,
          69,
          29,
          1563,
          192,
          417,
          85,
          314,
          9,
          135,
          566,
          5,
          178,
          76,
          91,
          1217,
          311,
          1217,
          192,
          162,
          744,
          98,
          744,
          772,
          85,
          310,
          744,
          20,
          85,
          18,
          55,
          51,
          20,
          1217,
          381,
          744,
          744,
          24,
          86,
          1563,
          256,
          223,
          223,
          72,
          871,
          99,
          50,
          310,
          335,
          7,
          72
         ],
         "yaxis": "y"
        }
       ],
       "layout": {
        "coloraxis": {
         "colorbar": {
          "title": {
           "text": "N"
          }
         },
         "colorscale": [
          [
           0,
           "#0d0887"
          ],
          [
           0.1111111111111111,
           "#46039f"
          ],
          [
           0.2222222222222222,
           "#7201a8"
          ],
          [
           0.3333333333333333,
           "#9c179e"
          ],
          [
           0.4444444444444444,
           "#bd3786"
          ],
          [
           0.5555555555555556,
           "#d8576b"
          ],
          [
           0.6666666666666666,
           "#ed7953"
          ],
          [
           0.7777777777777778,
           "#fb9f3a"
          ],
          [
           0.8888888888888888,
           "#fdca26"
          ],
          [
           1,
           "#f0f921"
          ]
         ]
        },
        "legend": {
         "tracegroupgap": 0
        },
        "template": {
         "data": {
          "bar": [
           {
            "error_x": {
             "color": "#2a3f5f"
            },
            "error_y": {
             "color": "#2a3f5f"
            },
            "marker": {
             "line": {
              "color": "#E5ECF6",
              "width": 0.5
             },
             "pattern": {
              "fillmode": "overlay",
              "size": 10,
              "solidity": 0.2
             }
            },
            "type": "bar"
           }
          ],
          "barpolar": [
           {
            "marker": {
             "line": {
              "color": "#E5ECF6",
              "width": 0.5
             },
             "pattern": {
              "fillmode": "overlay",
              "size": 10,
              "solidity": 0.2
             }
            },
            "type": "barpolar"
           }
          ],
          "carpet": [
           {
            "aaxis": {
             "endlinecolor": "#2a3f5f",
             "gridcolor": "white",
             "linecolor": "white",
             "minorgridcolor": "white",
             "startlinecolor": "#2a3f5f"
            },
            "baxis": {
             "endlinecolor": "#2a3f5f",
             "gridcolor": "white",
             "linecolor": "white",
             "minorgridcolor": "white",
             "startlinecolor": "#2a3f5f"
            },
            "type": "carpet"
           }
          ],
          "choropleth": [
           {
            "colorbar": {
             "outlinewidth": 0,
             "ticks": ""
            },
            "type": "choropleth"
           }
          ],
          "contour": [
           {
            "colorbar": {
             "outlinewidth": 0,
             "ticks": ""
            },
            "colorscale": [
             [
              0,
              "#0d0887"
             ],
             [
              0.1111111111111111,
              "#46039f"
             ],
             [
              0.2222222222222222,
              "#7201a8"
             ],
             [
              0.3333333333333333,
              "#9c179e"
             ],
             [
              0.4444444444444444,
              "#bd3786"
             ],
             [
              0.5555555555555556,
              "#d8576b"
             ],
             [
              0.6666666666666666,
              "#ed7953"
             ],
             [
              0.7777777777777778,
              "#fb9f3a"
             ],
             [
              0.8888888888888888,
              "#fdca26"
             ],
             [
              1,
              "#f0f921"
             ]
            ],
            "type": "contour"
           }
          ],
          "contourcarpet": [
           {
            "colorbar": {
             "outlinewidth": 0,
             "ticks": ""
            },
            "type": "contourcarpet"
           }
          ],
          "heatmap": [
           {
            "colorbar": {
             "outlinewidth": 0,
             "ticks": ""
            },
            "colorscale": [
             [
              0,
              "#0d0887"
             ],
             [
              0.1111111111111111,
              "#46039f"
             ],
             [
              0.2222222222222222,
              "#7201a8"
             ],
             [
              0.3333333333333333,
              "#9c179e"
             ],
             [
              0.4444444444444444,
              "#bd3786"
             ],
             [
              0.5555555555555556,
              "#d8576b"
             ],
             [
              0.6666666666666666,
              "#ed7953"
             ],
             [
              0.7777777777777778,
              "#fb9f3a"
             ],
             [
              0.8888888888888888,
              "#fdca26"
             ],
             [
              1,
              "#f0f921"
             ]
            ],
            "type": "heatmap"
           }
          ],
          "heatmapgl": [
           {
            "colorbar": {
             "outlinewidth": 0,
             "ticks": ""
            },
            "colorscale": [
             [
              0,
              "#0d0887"
             ],
             [
              0.1111111111111111,
              "#46039f"
             ],
             [
              0.2222222222222222,
              "#7201a8"
             ],
             [
              0.3333333333333333,
              "#9c179e"
             ],
             [
              0.4444444444444444,
              "#bd3786"
             ],
             [
              0.5555555555555556,
              "#d8576b"
             ],
             [
              0.6666666666666666,
              "#ed7953"
             ],
             [
              0.7777777777777778,
              "#fb9f3a"
             ],
             [
              0.8888888888888888,
              "#fdca26"
             ],
             [
              1,
              "#f0f921"
             ]
            ],
            "type": "heatmapgl"
           }
          ],
          "histogram": [
           {
            "marker": {
             "pattern": {
              "fillmode": "overlay",
              "size": 10,
              "solidity": 0.2
             }
            },
            "type": "histogram"
           }
          ],
          "histogram2d": [
           {
            "colorbar": {
             "outlinewidth": 0,
             "ticks": ""
            },
            "colorscale": [
             [
              0,
              "#0d0887"
             ],
             [
              0.1111111111111111,
              "#46039f"
             ],
             [
              0.2222222222222222,
              "#7201a8"
             ],
             [
              0.3333333333333333,
              "#9c179e"
             ],
             [
              0.4444444444444444,
              "#bd3786"
             ],
             [
              0.5555555555555556,
              "#d8576b"
             ],
             [
              0.6666666666666666,
              "#ed7953"
             ],
             [
              0.7777777777777778,
              "#fb9f3a"
             ],
             [
              0.8888888888888888,
              "#fdca26"
             ],
             [
              1,
              "#f0f921"
             ]
            ],
            "type": "histogram2d"
           }
          ],
          "histogram2dcontour": [
           {
            "colorbar": {
             "outlinewidth": 0,
             "ticks": ""
            },
            "colorscale": [
             [
              0,
              "#0d0887"
             ],
             [
              0.1111111111111111,
              "#46039f"
             ],
             [
              0.2222222222222222,
              "#7201a8"
             ],
             [
              0.3333333333333333,
              "#9c179e"
             ],
             [
              0.4444444444444444,
              "#bd3786"
             ],
             [
              0.5555555555555556,
              "#d8576b"
             ],
             [
              0.6666666666666666,
              "#ed7953"
             ],
             [
              0.7777777777777778,
              "#fb9f3a"
             ],
             [
              0.8888888888888888,
              "#fdca26"
             ],
             [
              1,
              "#f0f921"
             ]
            ],
            "type": "histogram2dcontour"
           }
          ],
          "mesh3d": [
           {
            "colorbar": {
             "outlinewidth": 0,
             "ticks": ""
            },
            "type": "mesh3d"
           }
          ],
          "parcoords": [
           {
            "line": {
             "colorbar": {
              "outlinewidth": 0,
              "ticks": ""
             }
            },
            "type": "parcoords"
           }
          ],
          "pie": [
           {
            "automargin": true,
            "type": "pie"
           }
          ],
          "scatter": [
           {
            "fillpattern": {
             "fillmode": "overlay",
             "size": 10,
             "solidity": 0.2
            },
            "type": "scatter"
           }
          ],
          "scatter3d": [
           {
            "line": {
             "colorbar": {
              "outlinewidth": 0,
              "ticks": ""
             }
            },
            "marker": {
             "colorbar": {
              "outlinewidth": 0,
              "ticks": ""
             }
            },
            "type": "scatter3d"
           }
          ],
          "scattercarpet": [
           {
            "marker": {
             "colorbar": {
              "outlinewidth": 0,
              "ticks": ""
             }
            },
            "type": "scattercarpet"
           }
          ],
          "scattergeo": [
           {
            "marker": {
             "colorbar": {
              "outlinewidth": 0,
              "ticks": ""
             }
            },
            "type": "scattergeo"
           }
          ],
          "scattergl": [
           {
            "marker": {
             "colorbar": {
              "outlinewidth": 0,
              "ticks": ""
             }
            },
            "type": "scattergl"
           }
          ],
          "scattermapbox": [
           {
            "marker": {
             "colorbar": {
              "outlinewidth": 0,
              "ticks": ""
             }
            },
            "type": "scattermapbox"
           }
          ],
          "scatterpolar": [
           {
            "marker": {
             "colorbar": {
              "outlinewidth": 0,
              "ticks": ""
             }
            },
            "type": "scatterpolar"
           }
          ],
          "scatterpolargl": [
           {
            "marker": {
             "colorbar": {
              "outlinewidth": 0,
              "ticks": ""
             }
            },
            "type": "scatterpolargl"
           }
          ],
          "scatterternary": [
           {
            "marker": {
             "colorbar": {
              "outlinewidth": 0,
              "ticks": ""
             }
            },
            "type": "scatterternary"
           }
          ],
          "surface": [
           {
            "colorbar": {
             "outlinewidth": 0,
             "ticks": ""
            },
            "colorscale": [
             [
              0,
              "#0d0887"
             ],
             [
              0.1111111111111111,
              "#46039f"
             ],
             [
              0.2222222222222222,
              "#7201a8"
             ],
             [
              0.3333333333333333,
              "#9c179e"
             ],
             [
              0.4444444444444444,
              "#bd3786"
             ],
             [
              0.5555555555555556,
              "#d8576b"
             ],
             [
              0.6666666666666666,
              "#ed7953"
             ],
             [
              0.7777777777777778,
              "#fb9f3a"
             ],
             [
              0.8888888888888888,
              "#fdca26"
             ],
             [
              1,
              "#f0f921"
             ]
            ],
            "type": "surface"
           }
          ],
          "table": [
           {
            "cells": {
             "fill": {
              "color": "#EBF0F8"
             },
             "line": {
              "color": "white"
             }
            },
            "header": {
             "fill": {
              "color": "#C8D4E3"
             },
             "line": {
              "color": "white"
             }
            },
            "type": "table"
           }
          ]
         },
         "layout": {
          "annotationdefaults": {
           "arrowcolor": "#2a3f5f",
           "arrowhead": 0,
           "arrowwidth": 1
          },
          "autotypenumbers": "strict",
          "coloraxis": {
           "colorbar": {
            "outlinewidth": 0,
            "ticks": ""
           }
          },
          "colorscale": {
           "diverging": [
            [
             0,
             "#8e0152"
            ],
            [
             0.1,
             "#c51b7d"
            ],
            [
             0.2,
             "#de77ae"
            ],
            [
             0.3,
             "#f1b6da"
            ],
            [
             0.4,
             "#fde0ef"
            ],
            [
             0.5,
             "#f7f7f7"
            ],
            [
             0.6,
             "#e6f5d0"
            ],
            [
             0.7,
             "#b8e186"
            ],
            [
             0.8,
             "#7fbc41"
            ],
            [
             0.9,
             "#4d9221"
            ],
            [
             1,
             "#276419"
            ]
           ],
           "sequential": [
            [
             0,
             "#0d0887"
            ],
            [
             0.1111111111111111,
             "#46039f"
            ],
            [
             0.2222222222222222,
             "#7201a8"
            ],
            [
             0.3333333333333333,
             "#9c179e"
            ],
            [
             0.4444444444444444,
             "#bd3786"
            ],
            [
             0.5555555555555556,
             "#d8576b"
            ],
            [
             0.6666666666666666,
             "#ed7953"
            ],
            [
             0.7777777777777778,
             "#fb9f3a"
            ],
            [
             0.8888888888888888,
             "#fdca26"
            ],
            [
             1,
             "#f0f921"
            ]
           ],
           "sequentialminus": [
            [
             0,
             "#0d0887"
            ],
            [
             0.1111111111111111,
             "#46039f"
            ],
            [
             0.2222222222222222,
             "#7201a8"
            ],
            [
             0.3333333333333333,
             "#9c179e"
            ],
            [
             0.4444444444444444,
             "#bd3786"
            ],
            [
             0.5555555555555556,
             "#d8576b"
            ],
            [
             0.6666666666666666,
             "#ed7953"
            ],
            [
             0.7777777777777778,
             "#fb9f3a"
            ],
            [
             0.8888888888888888,
             "#fdca26"
            ],
            [
             1,
             "#f0f921"
            ]
           ]
          },
          "colorway": [
           "#636efa",
           "#EF553B",
           "#00cc96",
           "#ab63fa",
           "#FFA15A",
           "#19d3f3",
           "#FF6692",
           "#B6E880",
           "#FF97FF",
           "#FECB52"
          ],
          "font": {
           "color": "#2a3f5f"
          },
          "geo": {
           "bgcolor": "white",
           "lakecolor": "white",
           "landcolor": "#E5ECF6",
           "showlakes": true,
           "showland": true,
           "subunitcolor": "white"
          },
          "hoverlabel": {
           "align": "left"
          },
          "hovermode": "closest",
          "mapbox": {
           "style": "light"
          },
          "paper_bgcolor": "white",
          "plot_bgcolor": "#E5ECF6",
          "polar": {
           "angularaxis": {
            "gridcolor": "white",
            "linecolor": "white",
            "ticks": ""
           },
           "bgcolor": "#E5ECF6",
           "radialaxis": {
            "gridcolor": "white",
            "linecolor": "white",
            "ticks": ""
           }
          },
          "scene": {
           "xaxis": {
            "backgroundcolor": "#E5ECF6",
            "gridcolor": "white",
            "gridwidth": 2,
            "linecolor": "white",
            "showbackground": true,
            "ticks": "",
            "zerolinecolor": "white"
           },
           "yaxis": {
            "backgroundcolor": "#E5ECF6",
            "gridcolor": "white",
            "gridwidth": 2,
            "linecolor": "white",
            "showbackground": true,
            "ticks": "",
            "zerolinecolor": "white"
           },
           "zaxis": {
            "backgroundcolor": "#E5ECF6",
            "gridcolor": "white",
            "gridwidth": 2,
            "linecolor": "white",
            "showbackground": true,
            "ticks": "",
            "zerolinecolor": "white"
           }
          },
          "shapedefaults": {
           "line": {
            "color": "#2a3f5f"
           }
          },
          "ternary": {
           "aaxis": {
            "gridcolor": "white",
            "linecolor": "white",
            "ticks": ""
           },
           "baxis": {
            "gridcolor": "white",
            "linecolor": "white",
            "ticks": ""
           },
           "bgcolor": "#E5ECF6",
           "caxis": {
            "gridcolor": "white",
            "linecolor": "white",
            "ticks": ""
           }
          },
          "title": {
           "x": 0.05
          },
          "xaxis": {
           "automargin": true,
           "gridcolor": "white",
           "linecolor": "white",
           "ticks": "",
           "title": {
            "standoff": 15
           },
           "zerolinecolor": "white",
           "zerolinewidth": 2
          },
          "yaxis": {
           "automargin": true,
           "gridcolor": "white",
           "linecolor": "white",
           "ticks": "",
           "title": {
            "standoff": 15
           },
           "zerolinecolor": "white",
           "zerolinewidth": 2
          }
         }
        },
        "title": {
         "text": "Top 120 by Selected and Followers"
        },
        "xaxis": {
         "anchor": "y",
         "domain": [
          0,
          1
         ],
         "title": {
          "text": "Selected"
         },
         "type": "log"
        },
        "yaxis": {
         "anchor": "x",
         "domain": [
          0,
          1
         ],
         "title": {
          "text": "Followers"
         },
         "type": "log"
        }
       }
      }
     },
     "metadata": {},
     "output_type": "display_data"
    }
   ],
   "source": [
    "fig3 = px.scatter(result_vis, x='Selected', y='Followers', color='N', log_x=True, log_y=True, hover_data=['Title','Selected','Followers'], title='Top 120 by Selected and Followers')\n",
    "fig3.show()"
   ]
  },
  {
   "cell_type": "code",
   "execution_count": 234,
   "metadata": {},
   "outputs": [
    {
     "data": {
      "application/vnd.plotly.v1+json": {
       "config": {
        "plotlyServerURL": "https://plot.ly"
       },
       "data": [
        {
         "alignmentgroup": "True",
         "bingroup": "x",
         "hovertemplate": "Dur_Shrink=%{x}<br>count=%{y}<extra></extra>",
         "legendgroup": "",
         "marker": {
          "color": "#636efa",
          "pattern": {
           "shape": ""
          }
         },
         "name": "",
         "nbinsx": 50,
         "offsetgroup": "",
         "orientation": "v",
         "showlegend": false,
         "type": "histogram",
         "x": [
          19,
          27,
          48,
          214,
          18,
          34,
          156,
          96,
          154,
          34,
          81,
          16,
          143,
          25,
          48,
          15,
          78,
          34,
          21,
          357,
          208,
          66,
          116,
          35,
          18,
          25,
          49,
          12,
          286,
          393,
          77,
          53,
          33,
          18,
          31,
          500,
          183,
          54,
          81,
          40,
          40,
          34,
          17,
          373,
          412,
          86,
          125,
          39,
          27,
          24,
          26,
          10,
          190,
          150,
          120,
          57,
          48,
          39,
          47,
          25,
          29,
          22,
          17,
          500,
          500,
          500,
          328,
          403,
          195,
          186,
          216,
          263,
          257,
          127,
          112,
          128,
          344,
          103,
          74,
          33,
          48,
          42,
          28,
          16,
          14,
          500,
          500,
          437,
          276,
          466,
          163,
          144,
          171,
          219,
          109,
          228,
          98,
          107,
          106,
          140,
          61,
          67,
          77,
          86,
          38,
          40,
          39,
          40,
          18,
          13,
          500,
          500,
          500,
          500,
          500,
          500,
          264,
          160,
          183,
          92
         ],
         "xaxis": "x",
         "yaxis": "y"
        }
       ],
       "layout": {
        "barmode": "relative",
        "legend": {
         "tracegroupgap": 0
        },
        "template": {
         "data": {
          "bar": [
           {
            "error_x": {
             "color": "#2a3f5f"
            },
            "error_y": {
             "color": "#2a3f5f"
            },
            "marker": {
             "line": {
              "color": "#E5ECF6",
              "width": 0.5
             },
             "pattern": {
              "fillmode": "overlay",
              "size": 10,
              "solidity": 0.2
             }
            },
            "type": "bar"
           }
          ],
          "barpolar": [
           {
            "marker": {
             "line": {
              "color": "#E5ECF6",
              "width": 0.5
             },
             "pattern": {
              "fillmode": "overlay",
              "size": 10,
              "solidity": 0.2
             }
            },
            "type": "barpolar"
           }
          ],
          "carpet": [
           {
            "aaxis": {
             "endlinecolor": "#2a3f5f",
             "gridcolor": "white",
             "linecolor": "white",
             "minorgridcolor": "white",
             "startlinecolor": "#2a3f5f"
            },
            "baxis": {
             "endlinecolor": "#2a3f5f",
             "gridcolor": "white",
             "linecolor": "white",
             "minorgridcolor": "white",
             "startlinecolor": "#2a3f5f"
            },
            "type": "carpet"
           }
          ],
          "choropleth": [
           {
            "colorbar": {
             "outlinewidth": 0,
             "ticks": ""
            },
            "type": "choropleth"
           }
          ],
          "contour": [
           {
            "colorbar": {
             "outlinewidth": 0,
             "ticks": ""
            },
            "colorscale": [
             [
              0,
              "#0d0887"
             ],
             [
              0.1111111111111111,
              "#46039f"
             ],
             [
              0.2222222222222222,
              "#7201a8"
             ],
             [
              0.3333333333333333,
              "#9c179e"
             ],
             [
              0.4444444444444444,
              "#bd3786"
             ],
             [
              0.5555555555555556,
              "#d8576b"
             ],
             [
              0.6666666666666666,
              "#ed7953"
             ],
             [
              0.7777777777777778,
              "#fb9f3a"
             ],
             [
              0.8888888888888888,
              "#fdca26"
             ],
             [
              1,
              "#f0f921"
             ]
            ],
            "type": "contour"
           }
          ],
          "contourcarpet": [
           {
            "colorbar": {
             "outlinewidth": 0,
             "ticks": ""
            },
            "type": "contourcarpet"
           }
          ],
          "heatmap": [
           {
            "colorbar": {
             "outlinewidth": 0,
             "ticks": ""
            },
            "colorscale": [
             [
              0,
              "#0d0887"
             ],
             [
              0.1111111111111111,
              "#46039f"
             ],
             [
              0.2222222222222222,
              "#7201a8"
             ],
             [
              0.3333333333333333,
              "#9c179e"
             ],
             [
              0.4444444444444444,
              "#bd3786"
             ],
             [
              0.5555555555555556,
              "#d8576b"
             ],
             [
              0.6666666666666666,
              "#ed7953"
             ],
             [
              0.7777777777777778,
              "#fb9f3a"
             ],
             [
              0.8888888888888888,
              "#fdca26"
             ],
             [
              1,
              "#f0f921"
             ]
            ],
            "type": "heatmap"
           }
          ],
          "heatmapgl": [
           {
            "colorbar": {
             "outlinewidth": 0,
             "ticks": ""
            },
            "colorscale": [
             [
              0,
              "#0d0887"
             ],
             [
              0.1111111111111111,
              "#46039f"
             ],
             [
              0.2222222222222222,
              "#7201a8"
             ],
             [
              0.3333333333333333,
              "#9c179e"
             ],
             [
              0.4444444444444444,
              "#bd3786"
             ],
             [
              0.5555555555555556,
              "#d8576b"
             ],
             [
              0.6666666666666666,
              "#ed7953"
             ],
             [
              0.7777777777777778,
              "#fb9f3a"
             ],
             [
              0.8888888888888888,
              "#fdca26"
             ],
             [
              1,
              "#f0f921"
             ]
            ],
            "type": "heatmapgl"
           }
          ],
          "histogram": [
           {
            "marker": {
             "pattern": {
              "fillmode": "overlay",
              "size": 10,
              "solidity": 0.2
             }
            },
            "type": "histogram"
           }
          ],
          "histogram2d": [
           {
            "colorbar": {
             "outlinewidth": 0,
             "ticks": ""
            },
            "colorscale": [
             [
              0,
              "#0d0887"
             ],
             [
              0.1111111111111111,
              "#46039f"
             ],
             [
              0.2222222222222222,
              "#7201a8"
             ],
             [
              0.3333333333333333,
              "#9c179e"
             ],
             [
              0.4444444444444444,
              "#bd3786"
             ],
             [
              0.5555555555555556,
              "#d8576b"
             ],
             [
              0.6666666666666666,
              "#ed7953"
             ],
             [
              0.7777777777777778,
              "#fb9f3a"
             ],
             [
              0.8888888888888888,
              "#fdca26"
             ],
             [
              1,
              "#f0f921"
             ]
            ],
            "type": "histogram2d"
           }
          ],
          "histogram2dcontour": [
           {
            "colorbar": {
             "outlinewidth": 0,
             "ticks": ""
            },
            "colorscale": [
             [
              0,
              "#0d0887"
             ],
             [
              0.1111111111111111,
              "#46039f"
             ],
             [
              0.2222222222222222,
              "#7201a8"
             ],
             [
              0.3333333333333333,
              "#9c179e"
             ],
             [
              0.4444444444444444,
              "#bd3786"
             ],
             [
              0.5555555555555556,
              "#d8576b"
             ],
             [
              0.6666666666666666,
              "#ed7953"
             ],
             [
              0.7777777777777778,
              "#fb9f3a"
             ],
             [
              0.8888888888888888,
              "#fdca26"
             ],
             [
              1,
              "#f0f921"
             ]
            ],
            "type": "histogram2dcontour"
           }
          ],
          "mesh3d": [
           {
            "colorbar": {
             "outlinewidth": 0,
             "ticks": ""
            },
            "type": "mesh3d"
           }
          ],
          "parcoords": [
           {
            "line": {
             "colorbar": {
              "outlinewidth": 0,
              "ticks": ""
             }
            },
            "type": "parcoords"
           }
          ],
          "pie": [
           {
            "automargin": true,
            "type": "pie"
           }
          ],
          "scatter": [
           {
            "fillpattern": {
             "fillmode": "overlay",
             "size": 10,
             "solidity": 0.2
            },
            "type": "scatter"
           }
          ],
          "scatter3d": [
           {
            "line": {
             "colorbar": {
              "outlinewidth": 0,
              "ticks": ""
             }
            },
            "marker": {
             "colorbar": {
              "outlinewidth": 0,
              "ticks": ""
             }
            },
            "type": "scatter3d"
           }
          ],
          "scattercarpet": [
           {
            "marker": {
             "colorbar": {
              "outlinewidth": 0,
              "ticks": ""
             }
            },
            "type": "scattercarpet"
           }
          ],
          "scattergeo": [
           {
            "marker": {
             "colorbar": {
              "outlinewidth": 0,
              "ticks": ""
             }
            },
            "type": "scattergeo"
           }
          ],
          "scattergl": [
           {
            "marker": {
             "colorbar": {
              "outlinewidth": 0,
              "ticks": ""
             }
            },
            "type": "scattergl"
           }
          ],
          "scattermapbox": [
           {
            "marker": {
             "colorbar": {
              "outlinewidth": 0,
              "ticks": ""
             }
            },
            "type": "scattermapbox"
           }
          ],
          "scatterpolar": [
           {
            "marker": {
             "colorbar": {
              "outlinewidth": 0,
              "ticks": ""
             }
            },
            "type": "scatterpolar"
           }
          ],
          "scatterpolargl": [
           {
            "marker": {
             "colorbar": {
              "outlinewidth": 0,
              "ticks": ""
             }
            },
            "type": "scatterpolargl"
           }
          ],
          "scatterternary": [
           {
            "marker": {
             "colorbar": {
              "outlinewidth": 0,
              "ticks": ""
             }
            },
            "type": "scatterternary"
           }
          ],
          "surface": [
           {
            "colorbar": {
             "outlinewidth": 0,
             "ticks": ""
            },
            "colorscale": [
             [
              0,
              "#0d0887"
             ],
             [
              0.1111111111111111,
              "#46039f"
             ],
             [
              0.2222222222222222,
              "#7201a8"
             ],
             [
              0.3333333333333333,
              "#9c179e"
             ],
             [
              0.4444444444444444,
              "#bd3786"
             ],
             [
              0.5555555555555556,
              "#d8576b"
             ],
             [
              0.6666666666666666,
              "#ed7953"
             ],
             [
              0.7777777777777778,
              "#fb9f3a"
             ],
             [
              0.8888888888888888,
              "#fdca26"
             ],
             [
              1,
              "#f0f921"
             ]
            ],
            "type": "surface"
           }
          ],
          "table": [
           {
            "cells": {
             "fill": {
              "color": "#EBF0F8"
             },
             "line": {
              "color": "white"
             }
            },
            "header": {
             "fill": {
              "color": "#C8D4E3"
             },
             "line": {
              "color": "white"
             }
            },
            "type": "table"
           }
          ]
         },
         "layout": {
          "annotationdefaults": {
           "arrowcolor": "#2a3f5f",
           "arrowhead": 0,
           "arrowwidth": 1
          },
          "autotypenumbers": "strict",
          "coloraxis": {
           "colorbar": {
            "outlinewidth": 0,
            "ticks": ""
           }
          },
          "colorscale": {
           "diverging": [
            [
             0,
             "#8e0152"
            ],
            [
             0.1,
             "#c51b7d"
            ],
            [
             0.2,
             "#de77ae"
            ],
            [
             0.3,
             "#f1b6da"
            ],
            [
             0.4,
             "#fde0ef"
            ],
            [
             0.5,
             "#f7f7f7"
            ],
            [
             0.6,
             "#e6f5d0"
            ],
            [
             0.7,
             "#b8e186"
            ],
            [
             0.8,
             "#7fbc41"
            ],
            [
             0.9,
             "#4d9221"
            ],
            [
             1,
             "#276419"
            ]
           ],
           "sequential": [
            [
             0,
             "#0d0887"
            ],
            [
             0.1111111111111111,
             "#46039f"
            ],
            [
             0.2222222222222222,
             "#7201a8"
            ],
            [
             0.3333333333333333,
             "#9c179e"
            ],
            [
             0.4444444444444444,
             "#bd3786"
            ],
            [
             0.5555555555555556,
             "#d8576b"
            ],
            [
             0.6666666666666666,
             "#ed7953"
            ],
            [
             0.7777777777777778,
             "#fb9f3a"
            ],
            [
             0.8888888888888888,
             "#fdca26"
            ],
            [
             1,
             "#f0f921"
            ]
           ],
           "sequentialminus": [
            [
             0,
             "#0d0887"
            ],
            [
             0.1111111111111111,
             "#46039f"
            ],
            [
             0.2222222222222222,
             "#7201a8"
            ],
            [
             0.3333333333333333,
             "#9c179e"
            ],
            [
             0.4444444444444444,
             "#bd3786"
            ],
            [
             0.5555555555555556,
             "#d8576b"
            ],
            [
             0.6666666666666666,
             "#ed7953"
            ],
            [
             0.7777777777777778,
             "#fb9f3a"
            ],
            [
             0.8888888888888888,
             "#fdca26"
            ],
            [
             1,
             "#f0f921"
            ]
           ]
          },
          "colorway": [
           "#636efa",
           "#EF553B",
           "#00cc96",
           "#ab63fa",
           "#FFA15A",
           "#19d3f3",
           "#FF6692",
           "#B6E880",
           "#FF97FF",
           "#FECB52"
          ],
          "font": {
           "color": "#2a3f5f"
          },
          "geo": {
           "bgcolor": "white",
           "lakecolor": "white",
           "landcolor": "#E5ECF6",
           "showlakes": true,
           "showland": true,
           "subunitcolor": "white"
          },
          "hoverlabel": {
           "align": "left"
          },
          "hovermode": "closest",
          "mapbox": {
           "style": "light"
          },
          "paper_bgcolor": "white",
          "plot_bgcolor": "#E5ECF6",
          "polar": {
           "angularaxis": {
            "gridcolor": "white",
            "linecolor": "white",
            "ticks": ""
           },
           "bgcolor": "#E5ECF6",
           "radialaxis": {
            "gridcolor": "white",
            "linecolor": "white",
            "ticks": ""
           }
          },
          "scene": {
           "xaxis": {
            "backgroundcolor": "#E5ECF6",
            "gridcolor": "white",
            "gridwidth": 2,
            "linecolor": "white",
            "showbackground": true,
            "ticks": "",
            "zerolinecolor": "white"
           },
           "yaxis": {
            "backgroundcolor": "#E5ECF6",
            "gridcolor": "white",
            "gridwidth": 2,
            "linecolor": "white",
            "showbackground": true,
            "ticks": "",
            "zerolinecolor": "white"
           },
           "zaxis": {
            "backgroundcolor": "#E5ECF6",
            "gridcolor": "white",
            "gridwidth": 2,
            "linecolor": "white",
            "showbackground": true,
            "ticks": "",
            "zerolinecolor": "white"
           }
          },
          "shapedefaults": {
           "line": {
            "color": "#2a3f5f"
           }
          },
          "ternary": {
           "aaxis": {
            "gridcolor": "white",
            "linecolor": "white",
            "ticks": ""
           },
           "baxis": {
            "gridcolor": "white",
            "linecolor": "white",
            "ticks": ""
           },
           "bgcolor": "#E5ECF6",
           "caxis": {
            "gridcolor": "white",
            "linecolor": "white",
            "ticks": ""
           }
          },
          "title": {
           "x": 0.05
          },
          "xaxis": {
           "automargin": true,
           "gridcolor": "white",
           "linecolor": "white",
           "ticks": "",
           "title": {
            "standoff": 15
           },
           "zerolinecolor": "white",
           "zerolinewidth": 2
          },
          "yaxis": {
           "automargin": true,
           "gridcolor": "white",
           "linecolor": "white",
           "ticks": "",
           "title": {
            "standoff": 15
           },
           "zerolinecolor": "white",
           "zerolinewidth": 2
          }
         }
        },
        "title": {
         "text": "Top 120 Count by Duration"
        },
        "xaxis": {
         "anchor": "y",
         "domain": [
          0,
          1
         ],
         "title": {
          "text": "Dur_Shrink"
         }
        },
        "yaxis": {
         "anchor": "x",
         "domain": [
          0,
          1
         ],
         "title": {
          "text": "count"
         }
        }
       }
      }
     },
     "metadata": {},
     "output_type": "display_data"
    }
   ],
   "source": [
    "result_vis['Dur_Shrink'] = result_vis['Duration'].apply(lambda x: x if x<500 else 500)\n",
    "#display(result_vis)\n",
    "\n",
    "fig4 = px.histogram(result_vis, x='Dur_Shrink', nbins=50, title='Top 120 Count by Duration')\n",
    "fig4.show()"
   ]
  },
  {
   "cell_type": "code",
   "execution_count": 235,
   "metadata": {},
   "outputs": [
    {
     "data": {
      "application/vnd.plotly.v1+json": {
       "config": {
        "plotlyServerURL": "https://plot.ly"
       },
       "data": [
        {
         "alignmentgroup": "True",
         "hovertemplate": "Category=%{x}<br>Total_Ranking=%{y}<extra></extra>",
         "legendgroup": "",
         "marker": {
          "color": "#636efa",
          "pattern": {
           "shape": ""
          }
         },
         "name": "",
         "offsetgroup": "",
         "orientation": "v",
         "showlegend": false,
         "textposition": "auto",
         "type": "bar",
         "x": [
          "Decoration",
          "Furniture",
          "Bathroom",
          "Kitchen",
          "Other Models",
          "Materials",
          "Plants",
          "Childroom",
          "Textures",
          "Lighting",
          "Technology",
          "Architecture",
          "Scripts"
         ],
         "xaxis": "x",
         "y": [
          1809,
          1644,
          852,
          522,
          476,
          463,
          369,
          350,
          334,
          223,
          103,
          58,
          57
         ],
         "yaxis": "y"
        }
       ],
       "layout": {
        "barmode": "relative",
        "legend": {
         "tracegroupgap": 0
        },
        "template": {
         "data": {
          "bar": [
           {
            "error_x": {
             "color": "#2a3f5f"
            },
            "error_y": {
             "color": "#2a3f5f"
            },
            "marker": {
             "line": {
              "color": "#E5ECF6",
              "width": 0.5
             },
             "pattern": {
              "fillmode": "overlay",
              "size": 10,
              "solidity": 0.2
             }
            },
            "type": "bar"
           }
          ],
          "barpolar": [
           {
            "marker": {
             "line": {
              "color": "#E5ECF6",
              "width": 0.5
             },
             "pattern": {
              "fillmode": "overlay",
              "size": 10,
              "solidity": 0.2
             }
            },
            "type": "barpolar"
           }
          ],
          "carpet": [
           {
            "aaxis": {
             "endlinecolor": "#2a3f5f",
             "gridcolor": "white",
             "linecolor": "white",
             "minorgridcolor": "white",
             "startlinecolor": "#2a3f5f"
            },
            "baxis": {
             "endlinecolor": "#2a3f5f",
             "gridcolor": "white",
             "linecolor": "white",
             "minorgridcolor": "white",
             "startlinecolor": "#2a3f5f"
            },
            "type": "carpet"
           }
          ],
          "choropleth": [
           {
            "colorbar": {
             "outlinewidth": 0,
             "ticks": ""
            },
            "type": "choropleth"
           }
          ],
          "contour": [
           {
            "colorbar": {
             "outlinewidth": 0,
             "ticks": ""
            },
            "colorscale": [
             [
              0,
              "#0d0887"
             ],
             [
              0.1111111111111111,
              "#46039f"
             ],
             [
              0.2222222222222222,
              "#7201a8"
             ],
             [
              0.3333333333333333,
              "#9c179e"
             ],
             [
              0.4444444444444444,
              "#bd3786"
             ],
             [
              0.5555555555555556,
              "#d8576b"
             ],
             [
              0.6666666666666666,
              "#ed7953"
             ],
             [
              0.7777777777777778,
              "#fb9f3a"
             ],
             [
              0.8888888888888888,
              "#fdca26"
             ],
             [
              1,
              "#f0f921"
             ]
            ],
            "type": "contour"
           }
          ],
          "contourcarpet": [
           {
            "colorbar": {
             "outlinewidth": 0,
             "ticks": ""
            },
            "type": "contourcarpet"
           }
          ],
          "heatmap": [
           {
            "colorbar": {
             "outlinewidth": 0,
             "ticks": ""
            },
            "colorscale": [
             [
              0,
              "#0d0887"
             ],
             [
              0.1111111111111111,
              "#46039f"
             ],
             [
              0.2222222222222222,
              "#7201a8"
             ],
             [
              0.3333333333333333,
              "#9c179e"
             ],
             [
              0.4444444444444444,
              "#bd3786"
             ],
             [
              0.5555555555555556,
              "#d8576b"
             ],
             [
              0.6666666666666666,
              "#ed7953"
             ],
             [
              0.7777777777777778,
              "#fb9f3a"
             ],
             [
              0.8888888888888888,
              "#fdca26"
             ],
             [
              1,
              "#f0f921"
             ]
            ],
            "type": "heatmap"
           }
          ],
          "heatmapgl": [
           {
            "colorbar": {
             "outlinewidth": 0,
             "ticks": ""
            },
            "colorscale": [
             [
              0,
              "#0d0887"
             ],
             [
              0.1111111111111111,
              "#46039f"
             ],
             [
              0.2222222222222222,
              "#7201a8"
             ],
             [
              0.3333333333333333,
              "#9c179e"
             ],
             [
              0.4444444444444444,
              "#bd3786"
             ],
             [
              0.5555555555555556,
              "#d8576b"
             ],
             [
              0.6666666666666666,
              "#ed7953"
             ],
             [
              0.7777777777777778,
              "#fb9f3a"
             ],
             [
              0.8888888888888888,
              "#fdca26"
             ],
             [
              1,
              "#f0f921"
             ]
            ],
            "type": "heatmapgl"
           }
          ],
          "histogram": [
           {
            "marker": {
             "pattern": {
              "fillmode": "overlay",
              "size": 10,
              "solidity": 0.2
             }
            },
            "type": "histogram"
           }
          ],
          "histogram2d": [
           {
            "colorbar": {
             "outlinewidth": 0,
             "ticks": ""
            },
            "colorscale": [
             [
              0,
              "#0d0887"
             ],
             [
              0.1111111111111111,
              "#46039f"
             ],
             [
              0.2222222222222222,
              "#7201a8"
             ],
             [
              0.3333333333333333,
              "#9c179e"
             ],
             [
              0.4444444444444444,
              "#bd3786"
             ],
             [
              0.5555555555555556,
              "#d8576b"
             ],
             [
              0.6666666666666666,
              "#ed7953"
             ],
             [
              0.7777777777777778,
              "#fb9f3a"
             ],
             [
              0.8888888888888888,
              "#fdca26"
             ],
             [
              1,
              "#f0f921"
             ]
            ],
            "type": "histogram2d"
           }
          ],
          "histogram2dcontour": [
           {
            "colorbar": {
             "outlinewidth": 0,
             "ticks": ""
            },
            "colorscale": [
             [
              0,
              "#0d0887"
             ],
             [
              0.1111111111111111,
              "#46039f"
             ],
             [
              0.2222222222222222,
              "#7201a8"
             ],
             [
              0.3333333333333333,
              "#9c179e"
             ],
             [
              0.4444444444444444,
              "#bd3786"
             ],
             [
              0.5555555555555556,
              "#d8576b"
             ],
             [
              0.6666666666666666,
              "#ed7953"
             ],
             [
              0.7777777777777778,
              "#fb9f3a"
             ],
             [
              0.8888888888888888,
              "#fdca26"
             ],
             [
              1,
              "#f0f921"
             ]
            ],
            "type": "histogram2dcontour"
           }
          ],
          "mesh3d": [
           {
            "colorbar": {
             "outlinewidth": 0,
             "ticks": ""
            },
            "type": "mesh3d"
           }
          ],
          "parcoords": [
           {
            "line": {
             "colorbar": {
              "outlinewidth": 0,
              "ticks": ""
             }
            },
            "type": "parcoords"
           }
          ],
          "pie": [
           {
            "automargin": true,
            "type": "pie"
           }
          ],
          "scatter": [
           {
            "fillpattern": {
             "fillmode": "overlay",
             "size": 10,
             "solidity": 0.2
            },
            "type": "scatter"
           }
          ],
          "scatter3d": [
           {
            "line": {
             "colorbar": {
              "outlinewidth": 0,
              "ticks": ""
             }
            },
            "marker": {
             "colorbar": {
              "outlinewidth": 0,
              "ticks": ""
             }
            },
            "type": "scatter3d"
           }
          ],
          "scattercarpet": [
           {
            "marker": {
             "colorbar": {
              "outlinewidth": 0,
              "ticks": ""
             }
            },
            "type": "scattercarpet"
           }
          ],
          "scattergeo": [
           {
            "marker": {
             "colorbar": {
              "outlinewidth": 0,
              "ticks": ""
             }
            },
            "type": "scattergeo"
           }
          ],
          "scattergl": [
           {
            "marker": {
             "colorbar": {
              "outlinewidth": 0,
              "ticks": ""
             }
            },
            "type": "scattergl"
           }
          ],
          "scattermapbox": [
           {
            "marker": {
             "colorbar": {
              "outlinewidth": 0,
              "ticks": ""
             }
            },
            "type": "scattermapbox"
           }
          ],
          "scatterpolar": [
           {
            "marker": {
             "colorbar": {
              "outlinewidth": 0,
              "ticks": ""
             }
            },
            "type": "scatterpolar"
           }
          ],
          "scatterpolargl": [
           {
            "marker": {
             "colorbar": {
              "outlinewidth": 0,
              "ticks": ""
             }
            },
            "type": "scatterpolargl"
           }
          ],
          "scatterternary": [
           {
            "marker": {
             "colorbar": {
              "outlinewidth": 0,
              "ticks": ""
             }
            },
            "type": "scatterternary"
           }
          ],
          "surface": [
           {
            "colorbar": {
             "outlinewidth": 0,
             "ticks": ""
            },
            "colorscale": [
             [
              0,
              "#0d0887"
             ],
             [
              0.1111111111111111,
              "#46039f"
             ],
             [
              0.2222222222222222,
              "#7201a8"
             ],
             [
              0.3333333333333333,
              "#9c179e"
             ],
             [
              0.4444444444444444,
              "#bd3786"
             ],
             [
              0.5555555555555556,
              "#d8576b"
             ],
             [
              0.6666666666666666,
              "#ed7953"
             ],
             [
              0.7777777777777778,
              "#fb9f3a"
             ],
             [
              0.8888888888888888,
              "#fdca26"
             ],
             [
              1,
              "#f0f921"
             ]
            ],
            "type": "surface"
           }
          ],
          "table": [
           {
            "cells": {
             "fill": {
              "color": "#EBF0F8"
             },
             "line": {
              "color": "white"
             }
            },
            "header": {
             "fill": {
              "color": "#C8D4E3"
             },
             "line": {
              "color": "white"
             }
            },
            "type": "table"
           }
          ]
         },
         "layout": {
          "annotationdefaults": {
           "arrowcolor": "#2a3f5f",
           "arrowhead": 0,
           "arrowwidth": 1
          },
          "autotypenumbers": "strict",
          "coloraxis": {
           "colorbar": {
            "outlinewidth": 0,
            "ticks": ""
           }
          },
          "colorscale": {
           "diverging": [
            [
             0,
             "#8e0152"
            ],
            [
             0.1,
             "#c51b7d"
            ],
            [
             0.2,
             "#de77ae"
            ],
            [
             0.3,
             "#f1b6da"
            ],
            [
             0.4,
             "#fde0ef"
            ],
            [
             0.5,
             "#f7f7f7"
            ],
            [
             0.6,
             "#e6f5d0"
            ],
            [
             0.7,
             "#b8e186"
            ],
            [
             0.8,
             "#7fbc41"
            ],
            [
             0.9,
             "#4d9221"
            ],
            [
             1,
             "#276419"
            ]
           ],
           "sequential": [
            [
             0,
             "#0d0887"
            ],
            [
             0.1111111111111111,
             "#46039f"
            ],
            [
             0.2222222222222222,
             "#7201a8"
            ],
            [
             0.3333333333333333,
             "#9c179e"
            ],
            [
             0.4444444444444444,
             "#bd3786"
            ],
            [
             0.5555555555555556,
             "#d8576b"
            ],
            [
             0.6666666666666666,
             "#ed7953"
            ],
            [
             0.7777777777777778,
             "#fb9f3a"
            ],
            [
             0.8888888888888888,
             "#fdca26"
            ],
            [
             1,
             "#f0f921"
            ]
           ],
           "sequentialminus": [
            [
             0,
             "#0d0887"
            ],
            [
             0.1111111111111111,
             "#46039f"
            ],
            [
             0.2222222222222222,
             "#7201a8"
            ],
            [
             0.3333333333333333,
             "#9c179e"
            ],
            [
             0.4444444444444444,
             "#bd3786"
            ],
            [
             0.5555555555555556,
             "#d8576b"
            ],
            [
             0.6666666666666666,
             "#ed7953"
            ],
            [
             0.7777777777777778,
             "#fb9f3a"
            ],
            [
             0.8888888888888888,
             "#fdca26"
            ],
            [
             1,
             "#f0f921"
            ]
           ]
          },
          "colorway": [
           "#636efa",
           "#EF553B",
           "#00cc96",
           "#ab63fa",
           "#FFA15A",
           "#19d3f3",
           "#FF6692",
           "#B6E880",
           "#FF97FF",
           "#FECB52"
          ],
          "font": {
           "color": "#2a3f5f"
          },
          "geo": {
           "bgcolor": "white",
           "lakecolor": "white",
           "landcolor": "#E5ECF6",
           "showlakes": true,
           "showland": true,
           "subunitcolor": "white"
          },
          "hoverlabel": {
           "align": "left"
          },
          "hovermode": "closest",
          "mapbox": {
           "style": "light"
          },
          "paper_bgcolor": "white",
          "plot_bgcolor": "#E5ECF6",
          "polar": {
           "angularaxis": {
            "gridcolor": "white",
            "linecolor": "white",
            "ticks": ""
           },
           "bgcolor": "#E5ECF6",
           "radialaxis": {
            "gridcolor": "white",
            "linecolor": "white",
            "ticks": ""
           }
          },
          "scene": {
           "xaxis": {
            "backgroundcolor": "#E5ECF6",
            "gridcolor": "white",
            "gridwidth": 2,
            "linecolor": "white",
            "showbackground": true,
            "ticks": "",
            "zerolinecolor": "white"
           },
           "yaxis": {
            "backgroundcolor": "#E5ECF6",
            "gridcolor": "white",
            "gridwidth": 2,
            "linecolor": "white",
            "showbackground": true,
            "ticks": "",
            "zerolinecolor": "white"
           },
           "zaxis": {
            "backgroundcolor": "#E5ECF6",
            "gridcolor": "white",
            "gridwidth": 2,
            "linecolor": "white",
            "showbackground": true,
            "ticks": "",
            "zerolinecolor": "white"
           }
          },
          "shapedefaults": {
           "line": {
            "color": "#2a3f5f"
           }
          },
          "ternary": {
           "aaxis": {
            "gridcolor": "white",
            "linecolor": "white",
            "ticks": ""
           },
           "baxis": {
            "gridcolor": "white",
            "linecolor": "white",
            "ticks": ""
           },
           "bgcolor": "#E5ECF6",
           "caxis": {
            "gridcolor": "white",
            "linecolor": "white",
            "ticks": ""
           }
          },
          "title": {
           "x": 0.05
          },
          "xaxis": {
           "automargin": true,
           "gridcolor": "white",
           "linecolor": "white",
           "ticks": "",
           "title": {
            "standoff": 15
           },
           "zerolinecolor": "white",
           "zerolinewidth": 2
          },
          "yaxis": {
           "automargin": true,
           "gridcolor": "white",
           "linecolor": "white",
           "ticks": "",
           "title": {
            "standoff": 15
           },
           "zerolinecolor": "white",
           "zerolinewidth": 2
          }
         }
        },
        "title": {
         "text": "Top 120 total Rank by Category"
        },
        "xaxis": {
         "anchor": "y",
         "domain": [
          0,
          1
         ],
         "title": {
          "text": "Category"
         }
        },
        "yaxis": {
         "anchor": "x",
         "domain": [
          0,
          1
         ],
         "title": {
          "text": "Total_Ranking"
         }
        }
       }
      }
     },
     "metadata": {},
     "output_type": "display_data"
    }
   ],
   "source": [
    "result_vis['Ranking'] = 121 - result_vis['N']\n",
    "\n",
    "result_grouped_cat_ranking = result_vis.groupby(by=['Category'], as_index=False)['Ranking'].sum()\n",
    "result_grouped_cat_ranking.columns = ['Category', 'Total_Ranking']\n",
    "result_grouped_sort_ranking = result_grouped_cat_ranking.sort_values(by='Total_Ranking', ascending=False) # type: ignore\n",
    "\n",
    "fig5 = px.bar(result_grouped_sort_ranking, x='Category', y='Total_Ranking', title='Top 120 total Rank by Category')\n",
    "fig5.show()"
   ]
  },
  {
   "cell_type": "code",
   "execution_count": 236,
   "metadata": {},
   "outputs": [
    {
     "data": {
      "application/vnd.plotly.v1+json": {
       "config": {
        "plotlyServerURL": "https://plot.ly"
       },
       "data": [
        {
         "alignmentgroup": "True",
         "hovertemplate": "Category=%{x}<br>Ranking=%{y}<extra></extra>",
         "legendgroup": "Decoration",
         "marker": {
          "color": "#636efa"
         },
         "name": "Decoration",
         "notched": false,
         "offsetgroup": "Decoration",
         "orientation": "v",
         "showlegend": true,
         "type": "box",
         "x": [
          "Decoration",
          "Decoration",
          "Decoration",
          "Decoration",
          "Decoration",
          "Decoration",
          "Decoration",
          "Decoration",
          "Decoration",
          "Decoration",
          "Decoration",
          "Decoration",
          "Decoration",
          "Decoration",
          "Decoration",
          "Decoration",
          "Decoration",
          "Decoration",
          "Decoration",
          "Decoration",
          "Decoration",
          "Decoration",
          "Decoration",
          "Decoration",
          "Decoration",
          "Decoration",
          "Decoration"
         ],
         "x0": " ",
         "xaxis": "x",
         "y": [
          120,
          119,
          116,
          114,
          113,
          111,
          106,
          105,
          97,
          96,
          85,
          77,
          73,
          72,
          69,
          52,
          50,
          44,
          41,
          36,
          34,
          22,
          18,
          13,
          12,
          11,
          3
         ],
         "y0": " ",
         "yaxis": "y"
        },
        {
         "alignmentgroup": "True",
         "hovertemplate": "Category=%{x}<br>Ranking=%{y}<extra></extra>",
         "legendgroup": "Furniture",
         "marker": {
          "color": "#EF553B"
         },
         "name": "Furniture",
         "notched": false,
         "offsetgroup": "Furniture",
         "orientation": "v",
         "showlegend": true,
         "type": "box",
         "x": [
          "Furniture",
          "Furniture",
          "Furniture",
          "Furniture",
          "Furniture",
          "Furniture",
          "Furniture",
          "Furniture",
          "Furniture",
          "Furniture",
          "Furniture",
          "Furniture",
          "Furniture",
          "Furniture",
          "Furniture",
          "Furniture",
          "Furniture",
          "Furniture",
          "Furniture",
          "Furniture",
          "Furniture",
          "Furniture",
          "Furniture",
          "Furniture",
          "Furniture",
          "Furniture"
         ],
         "x0": " ",
         "xaxis": "x",
         "y": [
          118,
          109,
          107,
          101,
          100,
          95,
          93,
          89,
          87,
          80,
          79,
          71,
          64,
          60,
          47,
          46,
          43,
          40,
          39,
          38,
          30,
          29,
          25,
          21,
          17,
          16
         ],
         "y0": " ",
         "yaxis": "y"
        },
        {
         "alignmentgroup": "True",
         "hovertemplate": "Category=%{x}<br>Ranking=%{y}<extra></extra>",
         "legendgroup": "Plants",
         "marker": {
          "color": "#00cc96"
         },
         "name": "Plants",
         "notched": false,
         "offsetgroup": "Plants",
         "orientation": "v",
         "showlegend": true,
         "type": "box",
         "x": [
          "Plants",
          "Plants",
          "Plants",
          "Plants",
          "Plants",
          "Plants"
         ],
         "x0": " ",
         "xaxis": "x",
         "y": [
          117,
          75,
          63,
          59,
          48,
          7
         ],
         "y0": " ",
         "yaxis": "y"
        },
        {
         "alignmentgroup": "True",
         "hovertemplate": "Category=%{x}<br>Ranking=%{y}<extra></extra>",
         "legendgroup": "Materials",
         "marker": {
          "color": "#ab63fa"
         },
         "name": "Materials",
         "notched": false,
         "offsetgroup": "Materials",
         "orientation": "v",
         "showlegend": true,
         "type": "box",
         "x": [
          "Materials",
          "Materials",
          "Materials",
          "Materials",
          "Materials",
          "Materials"
         ],
         "x0": " ",
         "xaxis": "x",
         "y": [
          115,
          110,
          102,
          90,
          26,
          20
         ],
         "y0": " ",
         "yaxis": "y"
        },
        {
         "alignmentgroup": "True",
         "hovertemplate": "Category=%{x}<br>Ranking=%{y}<extra></extra>",
         "legendgroup": "Kitchen",
         "marker": {
          "color": "#FFA15A"
         },
         "name": "Kitchen",
         "notched": false,
         "offsetgroup": "Kitchen",
         "orientation": "v",
         "showlegend": true,
         "type": "box",
         "x": [
          "Kitchen",
          "Kitchen",
          "Kitchen",
          "Kitchen",
          "Kitchen",
          "Kitchen",
          "Kitchen",
          "Kitchen",
          "Kitchen"
         ],
         "x0": " ",
         "xaxis": "x",
         "y": [
          112,
          83,
          76,
          66,
          61,
          42,
          37,
          31,
          14
         ],
         "y0": " ",
         "yaxis": "y"
        },
        {
         "alignmentgroup": "True",
         "hovertemplate": "Category=%{x}<br>Ranking=%{y}<extra></extra>",
         "legendgroup": "Bathroom",
         "marker": {
          "color": "#19d3f3"
         },
         "name": "Bathroom",
         "notched": false,
         "offsetgroup": "Bathroom",
         "orientation": "v",
         "showlegend": true,
         "type": "box",
         "x": [
          "Bathroom",
          "Bathroom",
          "Bathroom",
          "Bathroom",
          "Bathroom",
          "Bathroom",
          "Bathroom",
          "Bathroom",
          "Bathroom",
          "Bathroom",
          "Bathroom",
          "Bathroom",
          "Bathroom",
          "Bathroom",
          "Bathroom"
         ],
         "x0": " ",
         "xaxis": "x",
         "y": [
          108,
          104,
          98,
          94,
          82,
          78,
          74,
          65,
          51,
          35,
          27,
          15,
          10,
          9,
          2
         ],
         "y0": " ",
         "yaxis": "y"
        },
        {
         "alignmentgroup": "True",
         "hovertemplate": "Category=%{x}<br>Ranking=%{y}<extra></extra>",
         "legendgroup": "Other Models",
         "marker": {
          "color": "#FF6692"
         },
         "name": "Other Models",
         "notched": false,
         "offsetgroup": "Other Models",
         "orientation": "v",
         "showlegend": true,
         "type": "box",
         "x": [
          "Other Models",
          "Other Models",
          "Other Models",
          "Other Models",
          "Other Models",
          "Other Models",
          "Other Models",
          "Other Models",
          "Other Models",
          "Other Models",
          "Other Models",
          "Other Models"
         ],
         "x0": " ",
         "xaxis": "x",
         "y": [
          103,
          91,
          67,
          56,
          55,
          33,
          28,
          24,
          8,
          6,
          4,
          1
         ],
         "y0": " ",
         "yaxis": "y"
        },
        {
         "alignmentgroup": "True",
         "hovertemplate": "Category=%{x}<br>Ranking=%{y}<extra></extra>",
         "legendgroup": "Textures",
         "marker": {
          "color": "#B6E880"
         },
         "name": "Textures",
         "notched": false,
         "offsetgroup": "Textures",
         "orientation": "v",
         "showlegend": true,
         "type": "box",
         "x": [
          "Textures",
          "Textures",
          "Textures",
          "Textures",
          "Textures"
         ],
         "x0": " ",
         "xaxis": "x",
         "y": [
          99,
          81,
          68,
          54,
          32
         ],
         "y0": " ",
         "yaxis": "y"
        },
        {
         "alignmentgroup": "True",
         "hovertemplate": "Category=%{x}<br>Ranking=%{y}<extra></extra>",
         "legendgroup": "Childroom",
         "marker": {
          "color": "#FF97FF"
         },
         "name": "Childroom",
         "notched": false,
         "offsetgroup": "Childroom",
         "orientation": "v",
         "showlegend": true,
         "type": "box",
         "x": [
          "Childroom",
          "Childroom",
          "Childroom",
          "Childroom",
          "Childroom",
          "Childroom"
         ],
         "x0": " ",
         "xaxis": "x",
         "y": [
          92,
          70,
          62,
          58,
          45,
          23
         ],
         "y0": " ",
         "yaxis": "y"
        },
        {
         "alignmentgroup": "True",
         "hovertemplate": "Category=%{x}<br>Ranking=%{y}<extra></extra>",
         "legendgroup": "Lighting",
         "marker": {
          "color": "#FECB52"
         },
         "name": "Lighting",
         "notched": false,
         "offsetgroup": "Lighting",
         "orientation": "v",
         "showlegend": true,
         "type": "box",
         "x": [
          "Lighting",
          "Lighting",
          "Lighting"
         ],
         "x0": " ",
         "xaxis": "x",
         "y": [
          88,
          86,
          49
         ],
         "y0": " ",
         "yaxis": "y"
        },
        {
         "alignmentgroup": "True",
         "hovertemplate": "Category=%{x}<br>Ranking=%{y}<extra></extra>",
         "legendgroup": "Technology",
         "marker": {
          "color": "#636efa"
         },
         "name": "Technology",
         "notched": false,
         "offsetgroup": "Technology",
         "orientation": "v",
         "showlegend": true,
         "type": "box",
         "x": [
          "Technology",
          "Technology"
         ],
         "x0": " ",
         "xaxis": "x",
         "y": [
          84,
          19
         ],
         "y0": " ",
         "yaxis": "y"
        },
        {
         "alignmentgroup": "True",
         "hovertemplate": "Category=%{x}<br>Ranking=%{y}<extra></extra>",
         "legendgroup": "Scripts",
         "marker": {
          "color": "#EF553B"
         },
         "name": "Scripts",
         "notched": false,
         "offsetgroup": "Scripts",
         "orientation": "v",
         "showlegend": true,
         "type": "box",
         "x": [
          "Scripts"
         ],
         "x0": " ",
         "xaxis": "x",
         "y": [
          57
         ],
         "y0": " ",
         "yaxis": "y"
        },
        {
         "alignmentgroup": "True",
         "hovertemplate": "Category=%{x}<br>Ranking=%{y}<extra></extra>",
         "legendgroup": "Architecture",
         "marker": {
          "color": "#00cc96"
         },
         "name": "Architecture",
         "notched": false,
         "offsetgroup": "Architecture",
         "orientation": "v",
         "showlegend": true,
         "type": "box",
         "x": [
          "Architecture",
          "Architecture"
         ],
         "x0": " ",
         "xaxis": "x",
         "y": [
          53,
          5
         ],
         "y0": " ",
         "yaxis": "y"
        }
       ],
       "layout": {
        "boxmode": "overlay",
        "legend": {
         "title": {
          "text": "Category"
         },
         "tracegroupgap": 0
        },
        "template": {
         "data": {
          "bar": [
           {
            "error_x": {
             "color": "#2a3f5f"
            },
            "error_y": {
             "color": "#2a3f5f"
            },
            "marker": {
             "line": {
              "color": "#E5ECF6",
              "width": 0.5
             },
             "pattern": {
              "fillmode": "overlay",
              "size": 10,
              "solidity": 0.2
             }
            },
            "type": "bar"
           }
          ],
          "barpolar": [
           {
            "marker": {
             "line": {
              "color": "#E5ECF6",
              "width": 0.5
             },
             "pattern": {
              "fillmode": "overlay",
              "size": 10,
              "solidity": 0.2
             }
            },
            "type": "barpolar"
           }
          ],
          "carpet": [
           {
            "aaxis": {
             "endlinecolor": "#2a3f5f",
             "gridcolor": "white",
             "linecolor": "white",
             "minorgridcolor": "white",
             "startlinecolor": "#2a3f5f"
            },
            "baxis": {
             "endlinecolor": "#2a3f5f",
             "gridcolor": "white",
             "linecolor": "white",
             "minorgridcolor": "white",
             "startlinecolor": "#2a3f5f"
            },
            "type": "carpet"
           }
          ],
          "choropleth": [
           {
            "colorbar": {
             "outlinewidth": 0,
             "ticks": ""
            },
            "type": "choropleth"
           }
          ],
          "contour": [
           {
            "colorbar": {
             "outlinewidth": 0,
             "ticks": ""
            },
            "colorscale": [
             [
              0,
              "#0d0887"
             ],
             [
              0.1111111111111111,
              "#46039f"
             ],
             [
              0.2222222222222222,
              "#7201a8"
             ],
             [
              0.3333333333333333,
              "#9c179e"
             ],
             [
              0.4444444444444444,
              "#bd3786"
             ],
             [
              0.5555555555555556,
              "#d8576b"
             ],
             [
              0.6666666666666666,
              "#ed7953"
             ],
             [
              0.7777777777777778,
              "#fb9f3a"
             ],
             [
              0.8888888888888888,
              "#fdca26"
             ],
             [
              1,
              "#f0f921"
             ]
            ],
            "type": "contour"
           }
          ],
          "contourcarpet": [
           {
            "colorbar": {
             "outlinewidth": 0,
             "ticks": ""
            },
            "type": "contourcarpet"
           }
          ],
          "heatmap": [
           {
            "colorbar": {
             "outlinewidth": 0,
             "ticks": ""
            },
            "colorscale": [
             [
              0,
              "#0d0887"
             ],
             [
              0.1111111111111111,
              "#46039f"
             ],
             [
              0.2222222222222222,
              "#7201a8"
             ],
             [
              0.3333333333333333,
              "#9c179e"
             ],
             [
              0.4444444444444444,
              "#bd3786"
             ],
             [
              0.5555555555555556,
              "#d8576b"
             ],
             [
              0.6666666666666666,
              "#ed7953"
             ],
             [
              0.7777777777777778,
              "#fb9f3a"
             ],
             [
              0.8888888888888888,
              "#fdca26"
             ],
             [
              1,
              "#f0f921"
             ]
            ],
            "type": "heatmap"
           }
          ],
          "heatmapgl": [
           {
            "colorbar": {
             "outlinewidth": 0,
             "ticks": ""
            },
            "colorscale": [
             [
              0,
              "#0d0887"
             ],
             [
              0.1111111111111111,
              "#46039f"
             ],
             [
              0.2222222222222222,
              "#7201a8"
             ],
             [
              0.3333333333333333,
              "#9c179e"
             ],
             [
              0.4444444444444444,
              "#bd3786"
             ],
             [
              0.5555555555555556,
              "#d8576b"
             ],
             [
              0.6666666666666666,
              "#ed7953"
             ],
             [
              0.7777777777777778,
              "#fb9f3a"
             ],
             [
              0.8888888888888888,
              "#fdca26"
             ],
             [
              1,
              "#f0f921"
             ]
            ],
            "type": "heatmapgl"
           }
          ],
          "histogram": [
           {
            "marker": {
             "pattern": {
              "fillmode": "overlay",
              "size": 10,
              "solidity": 0.2
             }
            },
            "type": "histogram"
           }
          ],
          "histogram2d": [
           {
            "colorbar": {
             "outlinewidth": 0,
             "ticks": ""
            },
            "colorscale": [
             [
              0,
              "#0d0887"
             ],
             [
              0.1111111111111111,
              "#46039f"
             ],
             [
              0.2222222222222222,
              "#7201a8"
             ],
             [
              0.3333333333333333,
              "#9c179e"
             ],
             [
              0.4444444444444444,
              "#bd3786"
             ],
             [
              0.5555555555555556,
              "#d8576b"
             ],
             [
              0.6666666666666666,
              "#ed7953"
             ],
             [
              0.7777777777777778,
              "#fb9f3a"
             ],
             [
              0.8888888888888888,
              "#fdca26"
             ],
             [
              1,
              "#f0f921"
             ]
            ],
            "type": "histogram2d"
           }
          ],
          "histogram2dcontour": [
           {
            "colorbar": {
             "outlinewidth": 0,
             "ticks": ""
            },
            "colorscale": [
             [
              0,
              "#0d0887"
             ],
             [
              0.1111111111111111,
              "#46039f"
             ],
             [
              0.2222222222222222,
              "#7201a8"
             ],
             [
              0.3333333333333333,
              "#9c179e"
             ],
             [
              0.4444444444444444,
              "#bd3786"
             ],
             [
              0.5555555555555556,
              "#d8576b"
             ],
             [
              0.6666666666666666,
              "#ed7953"
             ],
             [
              0.7777777777777778,
              "#fb9f3a"
             ],
             [
              0.8888888888888888,
              "#fdca26"
             ],
             [
              1,
              "#f0f921"
             ]
            ],
            "type": "histogram2dcontour"
           }
          ],
          "mesh3d": [
           {
            "colorbar": {
             "outlinewidth": 0,
             "ticks": ""
            },
            "type": "mesh3d"
           }
          ],
          "parcoords": [
           {
            "line": {
             "colorbar": {
              "outlinewidth": 0,
              "ticks": ""
             }
            },
            "type": "parcoords"
           }
          ],
          "pie": [
           {
            "automargin": true,
            "type": "pie"
           }
          ],
          "scatter": [
           {
            "fillpattern": {
             "fillmode": "overlay",
             "size": 10,
             "solidity": 0.2
            },
            "type": "scatter"
           }
          ],
          "scatter3d": [
           {
            "line": {
             "colorbar": {
              "outlinewidth": 0,
              "ticks": ""
             }
            },
            "marker": {
             "colorbar": {
              "outlinewidth": 0,
              "ticks": ""
             }
            },
            "type": "scatter3d"
           }
          ],
          "scattercarpet": [
           {
            "marker": {
             "colorbar": {
              "outlinewidth": 0,
              "ticks": ""
             }
            },
            "type": "scattercarpet"
           }
          ],
          "scattergeo": [
           {
            "marker": {
             "colorbar": {
              "outlinewidth": 0,
              "ticks": ""
             }
            },
            "type": "scattergeo"
           }
          ],
          "scattergl": [
           {
            "marker": {
             "colorbar": {
              "outlinewidth": 0,
              "ticks": ""
             }
            },
            "type": "scattergl"
           }
          ],
          "scattermapbox": [
           {
            "marker": {
             "colorbar": {
              "outlinewidth": 0,
              "ticks": ""
             }
            },
            "type": "scattermapbox"
           }
          ],
          "scatterpolar": [
           {
            "marker": {
             "colorbar": {
              "outlinewidth": 0,
              "ticks": ""
             }
            },
            "type": "scatterpolar"
           }
          ],
          "scatterpolargl": [
           {
            "marker": {
             "colorbar": {
              "outlinewidth": 0,
              "ticks": ""
             }
            },
            "type": "scatterpolargl"
           }
          ],
          "scatterternary": [
           {
            "marker": {
             "colorbar": {
              "outlinewidth": 0,
              "ticks": ""
             }
            },
            "type": "scatterternary"
           }
          ],
          "surface": [
           {
            "colorbar": {
             "outlinewidth": 0,
             "ticks": ""
            },
            "colorscale": [
             [
              0,
              "#0d0887"
             ],
             [
              0.1111111111111111,
              "#46039f"
             ],
             [
              0.2222222222222222,
              "#7201a8"
             ],
             [
              0.3333333333333333,
              "#9c179e"
             ],
             [
              0.4444444444444444,
              "#bd3786"
             ],
             [
              0.5555555555555556,
              "#d8576b"
             ],
             [
              0.6666666666666666,
              "#ed7953"
             ],
             [
              0.7777777777777778,
              "#fb9f3a"
             ],
             [
              0.8888888888888888,
              "#fdca26"
             ],
             [
              1,
              "#f0f921"
             ]
            ],
            "type": "surface"
           }
          ],
          "table": [
           {
            "cells": {
             "fill": {
              "color": "#EBF0F8"
             },
             "line": {
              "color": "white"
             }
            },
            "header": {
             "fill": {
              "color": "#C8D4E3"
             },
             "line": {
              "color": "white"
             }
            },
            "type": "table"
           }
          ]
         },
         "layout": {
          "annotationdefaults": {
           "arrowcolor": "#2a3f5f",
           "arrowhead": 0,
           "arrowwidth": 1
          },
          "autotypenumbers": "strict",
          "coloraxis": {
           "colorbar": {
            "outlinewidth": 0,
            "ticks": ""
           }
          },
          "colorscale": {
           "diverging": [
            [
             0,
             "#8e0152"
            ],
            [
             0.1,
             "#c51b7d"
            ],
            [
             0.2,
             "#de77ae"
            ],
            [
             0.3,
             "#f1b6da"
            ],
            [
             0.4,
             "#fde0ef"
            ],
            [
             0.5,
             "#f7f7f7"
            ],
            [
             0.6,
             "#e6f5d0"
            ],
            [
             0.7,
             "#b8e186"
            ],
            [
             0.8,
             "#7fbc41"
            ],
            [
             0.9,
             "#4d9221"
            ],
            [
             1,
             "#276419"
            ]
           ],
           "sequential": [
            [
             0,
             "#0d0887"
            ],
            [
             0.1111111111111111,
             "#46039f"
            ],
            [
             0.2222222222222222,
             "#7201a8"
            ],
            [
             0.3333333333333333,
             "#9c179e"
            ],
            [
             0.4444444444444444,
             "#bd3786"
            ],
            [
             0.5555555555555556,
             "#d8576b"
            ],
            [
             0.6666666666666666,
             "#ed7953"
            ],
            [
             0.7777777777777778,
             "#fb9f3a"
            ],
            [
             0.8888888888888888,
             "#fdca26"
            ],
            [
             1,
             "#f0f921"
            ]
           ],
           "sequentialminus": [
            [
             0,
             "#0d0887"
            ],
            [
             0.1111111111111111,
             "#46039f"
            ],
            [
             0.2222222222222222,
             "#7201a8"
            ],
            [
             0.3333333333333333,
             "#9c179e"
            ],
            [
             0.4444444444444444,
             "#bd3786"
            ],
            [
             0.5555555555555556,
             "#d8576b"
            ],
            [
             0.6666666666666666,
             "#ed7953"
            ],
            [
             0.7777777777777778,
             "#fb9f3a"
            ],
            [
             0.8888888888888888,
             "#fdca26"
            ],
            [
             1,
             "#f0f921"
            ]
           ]
          },
          "colorway": [
           "#636efa",
           "#EF553B",
           "#00cc96",
           "#ab63fa",
           "#FFA15A",
           "#19d3f3",
           "#FF6692",
           "#B6E880",
           "#FF97FF",
           "#FECB52"
          ],
          "font": {
           "color": "#2a3f5f"
          },
          "geo": {
           "bgcolor": "white",
           "lakecolor": "white",
           "landcolor": "#E5ECF6",
           "showlakes": true,
           "showland": true,
           "subunitcolor": "white"
          },
          "hoverlabel": {
           "align": "left"
          },
          "hovermode": "closest",
          "mapbox": {
           "style": "light"
          },
          "paper_bgcolor": "white",
          "plot_bgcolor": "#E5ECF6",
          "polar": {
           "angularaxis": {
            "gridcolor": "white",
            "linecolor": "white",
            "ticks": ""
           },
           "bgcolor": "#E5ECF6",
           "radialaxis": {
            "gridcolor": "white",
            "linecolor": "white",
            "ticks": ""
           }
          },
          "scene": {
           "xaxis": {
            "backgroundcolor": "#E5ECF6",
            "gridcolor": "white",
            "gridwidth": 2,
            "linecolor": "white",
            "showbackground": true,
            "ticks": "",
            "zerolinecolor": "white"
           },
           "yaxis": {
            "backgroundcolor": "#E5ECF6",
            "gridcolor": "white",
            "gridwidth": 2,
            "linecolor": "white",
            "showbackground": true,
            "ticks": "",
            "zerolinecolor": "white"
           },
           "zaxis": {
            "backgroundcolor": "#E5ECF6",
            "gridcolor": "white",
            "gridwidth": 2,
            "linecolor": "white",
            "showbackground": true,
            "ticks": "",
            "zerolinecolor": "white"
           }
          },
          "shapedefaults": {
           "line": {
            "color": "#2a3f5f"
           }
          },
          "ternary": {
           "aaxis": {
            "gridcolor": "white",
            "linecolor": "white",
            "ticks": ""
           },
           "baxis": {
            "gridcolor": "white",
            "linecolor": "white",
            "ticks": ""
           },
           "bgcolor": "#E5ECF6",
           "caxis": {
            "gridcolor": "white",
            "linecolor": "white",
            "ticks": ""
           }
          },
          "title": {
           "x": 0.05
          },
          "xaxis": {
           "automargin": true,
           "gridcolor": "white",
           "linecolor": "white",
           "ticks": "",
           "title": {
            "standoff": 15
           },
           "zerolinecolor": "white",
           "zerolinewidth": 2
          },
          "yaxis": {
           "automargin": true,
           "gridcolor": "white",
           "linecolor": "white",
           "ticks": "",
           "title": {
            "standoff": 15
           },
           "zerolinecolor": "white",
           "zerolinewidth": 2
          }
         }
        },
        "title": {
         "text": "Top 120 Rank distribution by Category"
        },
        "xaxis": {
         "anchor": "y",
         "categoryarray": [
          "Decoration",
          "Furniture",
          "Plants",
          "Materials",
          "Kitchen",
          "Bathroom",
          "Other Models",
          "Textures",
          "Childroom",
          "Lighting",
          "Technology",
          "Scripts",
          "Architecture"
         ],
         "categoryorder": "array",
         "domain": [
          0,
          1
         ],
         "title": {
          "text": "Category"
         }
        },
        "yaxis": {
         "anchor": "x",
         "domain": [
          0,
          1
         ],
         "title": {
          "text": "Ranking"
         }
        }
       }
      }
     },
     "metadata": {},
     "output_type": "display_data"
    }
   ],
   "source": [
    "fig6 = px.box(result_vis, x='Category', y='Ranking', color='Category', title='Top 120 Rank distribution by Category')\n",
    "fig6.show()"
   ]
  },
  {
   "cell_type": "code",
   "execution_count": 237,
   "metadata": {},
   "outputs": [
    {
     "data": {
      "application/vnd.plotly.v1+json": {
       "config": {
        "plotlyServerURL": "https://plot.ly"
       },
       "data": [
        {
         "alignmentgroup": "True",
         "hovertemplate": "Category=%{x}<br>Dur_Shrink=%{y}<extra></extra>",
         "legendgroup": "Decoration",
         "marker": {
          "color": "#636efa"
         },
         "name": "Decoration",
         "notched": false,
         "offsetgroup": "Decoration",
         "orientation": "v",
         "showlegend": true,
         "type": "box",
         "x": [
          "Decoration",
          "Decoration",
          "Decoration",
          "Decoration",
          "Decoration",
          "Decoration",
          "Decoration",
          "Decoration",
          "Decoration",
          "Decoration",
          "Decoration",
          "Decoration",
          "Decoration",
          "Decoration",
          "Decoration",
          "Decoration",
          "Decoration",
          "Decoration",
          "Decoration",
          "Decoration",
          "Decoration",
          "Decoration",
          "Decoration",
          "Decoration",
          "Decoration",
          "Decoration",
          "Decoration"
         ],
         "x0": " ",
         "xaxis": "x",
         "y": [
          19,
          27,
          18,
          156,
          96,
          34,
          48,
          15,
          35,
          18,
          500,
          373,
          39,
          27,
          10,
          195,
          216,
          344,
          33,
          14,
          500,
          106,
          77,
          40,
          18,
          13,
          160
         ],
         "y0": " ",
         "yaxis": "y"
        },
        {
         "alignmentgroup": "True",
         "hovertemplate": "Category=%{x}<br>Dur_Shrink=%{y}<extra></extra>",
         "legendgroup": "Furniture",
         "marker": {
          "color": "#EF553B"
         },
         "name": "Furniture",
         "notched": false,
         "offsetgroup": "Furniture",
         "orientation": "v",
         "showlegend": true,
         "type": "box",
         "x": [
          "Furniture",
          "Furniture",
          "Furniture",
          "Furniture",
          "Furniture",
          "Furniture",
          "Furniture",
          "Furniture",
          "Furniture",
          "Furniture",
          "Furniture",
          "Furniture",
          "Furniture",
          "Furniture",
          "Furniture",
          "Furniture",
          "Furniture",
          "Furniture",
          "Furniture",
          "Furniture",
          "Furniture",
          "Furniture",
          "Furniture",
          "Furniture",
          "Furniture",
          "Furniture"
         ],
         "x0": " ",
         "xaxis": "x",
         "y": [
          48,
          16,
          25,
          357,
          208,
          25,
          12,
          53,
          18,
          40,
          34,
          24,
          48,
          29,
          127,
          112,
          103,
          48,
          42,
          28,
          163,
          144,
          228,
          140,
          86,
          38
         ],
         "y0": " ",
         "yaxis": "y"
        },
        {
         "alignmentgroup": "True",
         "hovertemplate": "Category=%{x}<br>Dur_Shrink=%{y}<extra></extra>",
         "legendgroup": "Plants",
         "marker": {
          "color": "#00cc96"
         },
         "name": "Plants",
         "notched": false,
         "offsetgroup": "Plants",
         "orientation": "v",
         "showlegend": true,
         "type": "box",
         "x": [
          "Plants",
          "Plants",
          "Plants",
          "Plants",
          "Plants",
          "Plants"
         ],
         "x0": " ",
         "xaxis": "x",
         "y": [
          214,
          86,
          39,
          22,
          257,
          500
         ],
         "y0": " ",
         "yaxis": "y"
        },
        {
         "alignmentgroup": "True",
         "hovertemplate": "Category=%{x}<br>Dur_Shrink=%{y}<extra></extra>",
         "legendgroup": "Materials",
         "marker": {
          "color": "#ab63fa"
         },
         "name": "Materials",
         "notched": false,
         "offsetgroup": "Materials",
         "orientation": "v",
         "showlegend": true,
         "type": "box",
         "x": [
          "Materials",
          "Materials",
          "Materials",
          "Materials",
          "Materials",
          "Materials"
         ],
         "x0": " ",
         "xaxis": "x",
         "y": [
          34,
          81,
          21,
          77,
          109,
          61
         ],
         "y0": " ",
         "yaxis": "y"
        },
        {
         "alignmentgroup": "True",
         "hovertemplate": "Category=%{x}<br>Dur_Shrink=%{y}<extra></extra>",
         "legendgroup": "Kitchen",
         "marker": {
          "color": "#FFA15A"
         },
         "name": "Kitchen",
         "notched": false,
         "offsetgroup": "Kitchen",
         "orientation": "v",
         "showlegend": true,
         "type": "box",
         "x": [
          "Kitchen",
          "Kitchen",
          "Kitchen",
          "Kitchen",
          "Kitchen",
          "Kitchen",
          "Kitchen",
          "Kitchen",
          "Kitchen"
         ],
         "x0": " ",
         "xaxis": "x",
         "y": [
          154,
          54,
          412,
          120,
          25,
          74,
          16,
          466,
          39
         ],
         "y0": " ",
         "yaxis": "y"
        },
        {
         "alignmentgroup": "True",
         "hovertemplate": "Category=%{x}<br>Dur_Shrink=%{y}<extra></extra>",
         "legendgroup": "Bathroom",
         "marker": {
          "color": "#19d3f3"
         },
         "name": "Bathroom",
         "notched": false,
         "offsetgroup": "Bathroom",
         "orientation": "v",
         "showlegend": true,
         "type": "box",
         "x": [
          "Bathroom",
          "Bathroom",
          "Bathroom",
          "Bathroom",
          "Bathroom",
          "Bathroom",
          "Bathroom",
          "Bathroom",
          "Bathroom",
          "Bathroom",
          "Bathroom",
          "Bathroom",
          "Bathroom",
          "Bathroom",
          "Bathroom"
         ],
         "x0": " ",
         "xaxis": "x",
         "y": [
          143,
          78,
          116,
          49,
          81,
          17,
          125,
          57,
          186,
          500,
          219,
          40,
          500,
          500,
          183
         ],
         "y0": " ",
         "yaxis": "y"
        },
        {
         "alignmentgroup": "True",
         "hovertemplate": "Category=%{x}<br>Dur_Shrink=%{y}<extra></extra>",
         "legendgroup": "Other Models",
         "marker": {
          "color": "#FF6692"
         },
         "name": "Other Models",
         "notched": false,
         "offsetgroup": "Other Models",
         "orientation": "v",
         "showlegend": true,
         "type": "box",
         "x": [
          "Other Models",
          "Other Models",
          "Other Models",
          "Other Models",
          "Other Models",
          "Other Models",
          "Other Models",
          "Other Models",
          "Other Models",
          "Other Models",
          "Other Models",
          "Other Models"
         ],
         "x0": " ",
         "xaxis": "x",
         "y": [
          34,
          393,
          150,
          500,
          500,
          437,
          171,
          98,
          500,
          500,
          264,
          92
         ],
         "y0": " ",
         "yaxis": "y"
        },
        {
         "alignmentgroup": "True",
         "hovertemplate": "Category=%{x}<br>Dur_Shrink=%{y}<extra></extra>",
         "legendgroup": "Textures",
         "marker": {
          "color": "#B6E880"
         },
         "name": "Textures",
         "notched": false,
         "offsetgroup": "Textures",
         "orientation": "v",
         "showlegend": true,
         "type": "box",
         "x": [
          "Textures",
          "Textures",
          "Textures",
          "Textures",
          "Textures"
         ],
         "x0": " ",
         "xaxis": "x",
         "y": [
          66,
          40,
          190,
          328,
          276
         ],
         "y0": " ",
         "yaxis": "y"
        },
        {
         "alignmentgroup": "True",
         "hovertemplate": "Category=%{x}<br>Dur_Shrink=%{y}<extra></extra>",
         "legendgroup": "Childroom",
         "marker": {
          "color": "#FF97FF"
         },
         "name": "Childroom",
         "notched": false,
         "offsetgroup": "Childroom",
         "orientation": "v",
         "showlegend": true,
         "type": "box",
         "x": [
          "Childroom",
          "Childroom",
          "Childroom",
          "Childroom",
          "Childroom",
          "Childroom"
         ],
         "x0": " ",
         "xaxis": "x",
         "y": [
          286,
          26,
          47,
          17,
          128,
          107
         ],
         "y0": " ",
         "yaxis": "y"
        },
        {
         "alignmentgroup": "True",
         "hovertemplate": "Category=%{x}<br>Dur_Shrink=%{y}<extra></extra>",
         "legendgroup": "Lighting",
         "marker": {
          "color": "#FECB52"
         },
         "name": "Lighting",
         "notched": false,
         "offsetgroup": "Lighting",
         "orientation": "v",
         "showlegend": true,
         "type": "box",
         "x": [
          "Lighting",
          "Lighting",
          "Lighting"
         ],
         "x0": " ",
         "xaxis": "x",
         "y": [
          33,
          31,
          263
         ],
         "y0": " ",
         "yaxis": "y"
        },
        {
         "alignmentgroup": "True",
         "hovertemplate": "Category=%{x}<br>Dur_Shrink=%{y}<extra></extra>",
         "legendgroup": "Technology",
         "marker": {
          "color": "#636efa"
         },
         "name": "Technology",
         "notched": false,
         "offsetgroup": "Technology",
         "orientation": "v",
         "showlegend": true,
         "type": "box",
         "x": [
          "Technology",
          "Technology"
         ],
         "x0": " ",
         "xaxis": "x",
         "y": [
          183,
          67
         ],
         "y0": " ",
         "yaxis": "y"
        },
        {
         "alignmentgroup": "True",
         "hovertemplate": "Category=%{x}<br>Dur_Shrink=%{y}<extra></extra>",
         "legendgroup": "Scripts",
         "marker": {
          "color": "#EF553B"
         },
         "name": "Scripts",
         "notched": false,
         "offsetgroup": "Scripts",
         "orientation": "v",
         "showlegend": true,
         "type": "box",
         "x": [
          "Scripts"
         ],
         "x0": " ",
         "xaxis": "x",
         "y": [
          500
         ],
         "y0": " ",
         "yaxis": "y"
        },
        {
         "alignmentgroup": "True",
         "hovertemplate": "Category=%{x}<br>Dur_Shrink=%{y}<extra></extra>",
         "legendgroup": "Architecture",
         "marker": {
          "color": "#00cc96"
         },
         "name": "Architecture",
         "notched": false,
         "offsetgroup": "Architecture",
         "orientation": "v",
         "showlegend": true,
         "type": "box",
         "x": [
          "Architecture",
          "Architecture"
         ],
         "x0": " ",
         "xaxis": "x",
         "y": [
          403,
          500
         ],
         "y0": " ",
         "yaxis": "y"
        }
       ],
       "layout": {
        "boxmode": "overlay",
        "legend": {
         "title": {
          "text": "Category"
         },
         "tracegroupgap": 0
        },
        "template": {
         "data": {
          "bar": [
           {
            "error_x": {
             "color": "#2a3f5f"
            },
            "error_y": {
             "color": "#2a3f5f"
            },
            "marker": {
             "line": {
              "color": "#E5ECF6",
              "width": 0.5
             },
             "pattern": {
              "fillmode": "overlay",
              "size": 10,
              "solidity": 0.2
             }
            },
            "type": "bar"
           }
          ],
          "barpolar": [
           {
            "marker": {
             "line": {
              "color": "#E5ECF6",
              "width": 0.5
             },
             "pattern": {
              "fillmode": "overlay",
              "size": 10,
              "solidity": 0.2
             }
            },
            "type": "barpolar"
           }
          ],
          "carpet": [
           {
            "aaxis": {
             "endlinecolor": "#2a3f5f",
             "gridcolor": "white",
             "linecolor": "white",
             "minorgridcolor": "white",
             "startlinecolor": "#2a3f5f"
            },
            "baxis": {
             "endlinecolor": "#2a3f5f",
             "gridcolor": "white",
             "linecolor": "white",
             "minorgridcolor": "white",
             "startlinecolor": "#2a3f5f"
            },
            "type": "carpet"
           }
          ],
          "choropleth": [
           {
            "colorbar": {
             "outlinewidth": 0,
             "ticks": ""
            },
            "type": "choropleth"
           }
          ],
          "contour": [
           {
            "colorbar": {
             "outlinewidth": 0,
             "ticks": ""
            },
            "colorscale": [
             [
              0,
              "#0d0887"
             ],
             [
              0.1111111111111111,
              "#46039f"
             ],
             [
              0.2222222222222222,
              "#7201a8"
             ],
             [
              0.3333333333333333,
              "#9c179e"
             ],
             [
              0.4444444444444444,
              "#bd3786"
             ],
             [
              0.5555555555555556,
              "#d8576b"
             ],
             [
              0.6666666666666666,
              "#ed7953"
             ],
             [
              0.7777777777777778,
              "#fb9f3a"
             ],
             [
              0.8888888888888888,
              "#fdca26"
             ],
             [
              1,
              "#f0f921"
             ]
            ],
            "type": "contour"
           }
          ],
          "contourcarpet": [
           {
            "colorbar": {
             "outlinewidth": 0,
             "ticks": ""
            },
            "type": "contourcarpet"
           }
          ],
          "heatmap": [
           {
            "colorbar": {
             "outlinewidth": 0,
             "ticks": ""
            },
            "colorscale": [
             [
              0,
              "#0d0887"
             ],
             [
              0.1111111111111111,
              "#46039f"
             ],
             [
              0.2222222222222222,
              "#7201a8"
             ],
             [
              0.3333333333333333,
              "#9c179e"
             ],
             [
              0.4444444444444444,
              "#bd3786"
             ],
             [
              0.5555555555555556,
              "#d8576b"
             ],
             [
              0.6666666666666666,
              "#ed7953"
             ],
             [
              0.7777777777777778,
              "#fb9f3a"
             ],
             [
              0.8888888888888888,
              "#fdca26"
             ],
             [
              1,
              "#f0f921"
             ]
            ],
            "type": "heatmap"
           }
          ],
          "heatmapgl": [
           {
            "colorbar": {
             "outlinewidth": 0,
             "ticks": ""
            },
            "colorscale": [
             [
              0,
              "#0d0887"
             ],
             [
              0.1111111111111111,
              "#46039f"
             ],
             [
              0.2222222222222222,
              "#7201a8"
             ],
             [
              0.3333333333333333,
              "#9c179e"
             ],
             [
              0.4444444444444444,
              "#bd3786"
             ],
             [
              0.5555555555555556,
              "#d8576b"
             ],
             [
              0.6666666666666666,
              "#ed7953"
             ],
             [
              0.7777777777777778,
              "#fb9f3a"
             ],
             [
              0.8888888888888888,
              "#fdca26"
             ],
             [
              1,
              "#f0f921"
             ]
            ],
            "type": "heatmapgl"
           }
          ],
          "histogram": [
           {
            "marker": {
             "pattern": {
              "fillmode": "overlay",
              "size": 10,
              "solidity": 0.2
             }
            },
            "type": "histogram"
           }
          ],
          "histogram2d": [
           {
            "colorbar": {
             "outlinewidth": 0,
             "ticks": ""
            },
            "colorscale": [
             [
              0,
              "#0d0887"
             ],
             [
              0.1111111111111111,
              "#46039f"
             ],
             [
              0.2222222222222222,
              "#7201a8"
             ],
             [
              0.3333333333333333,
              "#9c179e"
             ],
             [
              0.4444444444444444,
              "#bd3786"
             ],
             [
              0.5555555555555556,
              "#d8576b"
             ],
             [
              0.6666666666666666,
              "#ed7953"
             ],
             [
              0.7777777777777778,
              "#fb9f3a"
             ],
             [
              0.8888888888888888,
              "#fdca26"
             ],
             [
              1,
              "#f0f921"
             ]
            ],
            "type": "histogram2d"
           }
          ],
          "histogram2dcontour": [
           {
            "colorbar": {
             "outlinewidth": 0,
             "ticks": ""
            },
            "colorscale": [
             [
              0,
              "#0d0887"
             ],
             [
              0.1111111111111111,
              "#46039f"
             ],
             [
              0.2222222222222222,
              "#7201a8"
             ],
             [
              0.3333333333333333,
              "#9c179e"
             ],
             [
              0.4444444444444444,
              "#bd3786"
             ],
             [
              0.5555555555555556,
              "#d8576b"
             ],
             [
              0.6666666666666666,
              "#ed7953"
             ],
             [
              0.7777777777777778,
              "#fb9f3a"
             ],
             [
              0.8888888888888888,
              "#fdca26"
             ],
             [
              1,
              "#f0f921"
             ]
            ],
            "type": "histogram2dcontour"
           }
          ],
          "mesh3d": [
           {
            "colorbar": {
             "outlinewidth": 0,
             "ticks": ""
            },
            "type": "mesh3d"
           }
          ],
          "parcoords": [
           {
            "line": {
             "colorbar": {
              "outlinewidth": 0,
              "ticks": ""
             }
            },
            "type": "parcoords"
           }
          ],
          "pie": [
           {
            "automargin": true,
            "type": "pie"
           }
          ],
          "scatter": [
           {
            "fillpattern": {
             "fillmode": "overlay",
             "size": 10,
             "solidity": 0.2
            },
            "type": "scatter"
           }
          ],
          "scatter3d": [
           {
            "line": {
             "colorbar": {
              "outlinewidth": 0,
              "ticks": ""
             }
            },
            "marker": {
             "colorbar": {
              "outlinewidth": 0,
              "ticks": ""
             }
            },
            "type": "scatter3d"
           }
          ],
          "scattercarpet": [
           {
            "marker": {
             "colorbar": {
              "outlinewidth": 0,
              "ticks": ""
             }
            },
            "type": "scattercarpet"
           }
          ],
          "scattergeo": [
           {
            "marker": {
             "colorbar": {
              "outlinewidth": 0,
              "ticks": ""
             }
            },
            "type": "scattergeo"
           }
          ],
          "scattergl": [
           {
            "marker": {
             "colorbar": {
              "outlinewidth": 0,
              "ticks": ""
             }
            },
            "type": "scattergl"
           }
          ],
          "scattermapbox": [
           {
            "marker": {
             "colorbar": {
              "outlinewidth": 0,
              "ticks": ""
             }
            },
            "type": "scattermapbox"
           }
          ],
          "scatterpolar": [
           {
            "marker": {
             "colorbar": {
              "outlinewidth": 0,
              "ticks": ""
             }
            },
            "type": "scatterpolar"
           }
          ],
          "scatterpolargl": [
           {
            "marker": {
             "colorbar": {
              "outlinewidth": 0,
              "ticks": ""
             }
            },
            "type": "scatterpolargl"
           }
          ],
          "scatterternary": [
           {
            "marker": {
             "colorbar": {
              "outlinewidth": 0,
              "ticks": ""
             }
            },
            "type": "scatterternary"
           }
          ],
          "surface": [
           {
            "colorbar": {
             "outlinewidth": 0,
             "ticks": ""
            },
            "colorscale": [
             [
              0,
              "#0d0887"
             ],
             [
              0.1111111111111111,
              "#46039f"
             ],
             [
              0.2222222222222222,
              "#7201a8"
             ],
             [
              0.3333333333333333,
              "#9c179e"
             ],
             [
              0.4444444444444444,
              "#bd3786"
             ],
             [
              0.5555555555555556,
              "#d8576b"
             ],
             [
              0.6666666666666666,
              "#ed7953"
             ],
             [
              0.7777777777777778,
              "#fb9f3a"
             ],
             [
              0.8888888888888888,
              "#fdca26"
             ],
             [
              1,
              "#f0f921"
             ]
            ],
            "type": "surface"
           }
          ],
          "table": [
           {
            "cells": {
             "fill": {
              "color": "#EBF0F8"
             },
             "line": {
              "color": "white"
             }
            },
            "header": {
             "fill": {
              "color": "#C8D4E3"
             },
             "line": {
              "color": "white"
             }
            },
            "type": "table"
           }
          ]
         },
         "layout": {
          "annotationdefaults": {
           "arrowcolor": "#2a3f5f",
           "arrowhead": 0,
           "arrowwidth": 1
          },
          "autotypenumbers": "strict",
          "coloraxis": {
           "colorbar": {
            "outlinewidth": 0,
            "ticks": ""
           }
          },
          "colorscale": {
           "diverging": [
            [
             0,
             "#8e0152"
            ],
            [
             0.1,
             "#c51b7d"
            ],
            [
             0.2,
             "#de77ae"
            ],
            [
             0.3,
             "#f1b6da"
            ],
            [
             0.4,
             "#fde0ef"
            ],
            [
             0.5,
             "#f7f7f7"
            ],
            [
             0.6,
             "#e6f5d0"
            ],
            [
             0.7,
             "#b8e186"
            ],
            [
             0.8,
             "#7fbc41"
            ],
            [
             0.9,
             "#4d9221"
            ],
            [
             1,
             "#276419"
            ]
           ],
           "sequential": [
            [
             0,
             "#0d0887"
            ],
            [
             0.1111111111111111,
             "#46039f"
            ],
            [
             0.2222222222222222,
             "#7201a8"
            ],
            [
             0.3333333333333333,
             "#9c179e"
            ],
            [
             0.4444444444444444,
             "#bd3786"
            ],
            [
             0.5555555555555556,
             "#d8576b"
            ],
            [
             0.6666666666666666,
             "#ed7953"
            ],
            [
             0.7777777777777778,
             "#fb9f3a"
            ],
            [
             0.8888888888888888,
             "#fdca26"
            ],
            [
             1,
             "#f0f921"
            ]
           ],
           "sequentialminus": [
            [
             0,
             "#0d0887"
            ],
            [
             0.1111111111111111,
             "#46039f"
            ],
            [
             0.2222222222222222,
             "#7201a8"
            ],
            [
             0.3333333333333333,
             "#9c179e"
            ],
            [
             0.4444444444444444,
             "#bd3786"
            ],
            [
             0.5555555555555556,
             "#d8576b"
            ],
            [
             0.6666666666666666,
             "#ed7953"
            ],
            [
             0.7777777777777778,
             "#fb9f3a"
            ],
            [
             0.8888888888888888,
             "#fdca26"
            ],
            [
             1,
             "#f0f921"
            ]
           ]
          },
          "colorway": [
           "#636efa",
           "#EF553B",
           "#00cc96",
           "#ab63fa",
           "#FFA15A",
           "#19d3f3",
           "#FF6692",
           "#B6E880",
           "#FF97FF",
           "#FECB52"
          ],
          "font": {
           "color": "#2a3f5f"
          },
          "geo": {
           "bgcolor": "white",
           "lakecolor": "white",
           "landcolor": "#E5ECF6",
           "showlakes": true,
           "showland": true,
           "subunitcolor": "white"
          },
          "hoverlabel": {
           "align": "left"
          },
          "hovermode": "closest",
          "mapbox": {
           "style": "light"
          },
          "paper_bgcolor": "white",
          "plot_bgcolor": "#E5ECF6",
          "polar": {
           "angularaxis": {
            "gridcolor": "white",
            "linecolor": "white",
            "ticks": ""
           },
           "bgcolor": "#E5ECF6",
           "radialaxis": {
            "gridcolor": "white",
            "linecolor": "white",
            "ticks": ""
           }
          },
          "scene": {
           "xaxis": {
            "backgroundcolor": "#E5ECF6",
            "gridcolor": "white",
            "gridwidth": 2,
            "linecolor": "white",
            "showbackground": true,
            "ticks": "",
            "zerolinecolor": "white"
           },
           "yaxis": {
            "backgroundcolor": "#E5ECF6",
            "gridcolor": "white",
            "gridwidth": 2,
            "linecolor": "white",
            "showbackground": true,
            "ticks": "",
            "zerolinecolor": "white"
           },
           "zaxis": {
            "backgroundcolor": "#E5ECF6",
            "gridcolor": "white",
            "gridwidth": 2,
            "linecolor": "white",
            "showbackground": true,
            "ticks": "",
            "zerolinecolor": "white"
           }
          },
          "shapedefaults": {
           "line": {
            "color": "#2a3f5f"
           }
          },
          "ternary": {
           "aaxis": {
            "gridcolor": "white",
            "linecolor": "white",
            "ticks": ""
           },
           "baxis": {
            "gridcolor": "white",
            "linecolor": "white",
            "ticks": ""
           },
           "bgcolor": "#E5ECF6",
           "caxis": {
            "gridcolor": "white",
            "linecolor": "white",
            "ticks": ""
           }
          },
          "title": {
           "x": 0.05
          },
          "xaxis": {
           "automargin": true,
           "gridcolor": "white",
           "linecolor": "white",
           "ticks": "",
           "title": {
            "standoff": 15
           },
           "zerolinecolor": "white",
           "zerolinewidth": 2
          },
          "yaxis": {
           "automargin": true,
           "gridcolor": "white",
           "linecolor": "white",
           "ticks": "",
           "title": {
            "standoff": 15
           },
           "zerolinecolor": "white",
           "zerolinewidth": 2
          }
         }
        },
        "title": {
         "text": "Top 120 Duration distribution by Category"
        },
        "xaxis": {
         "anchor": "y",
         "categoryarray": [
          "Decoration",
          "Furniture",
          "Plants",
          "Materials",
          "Kitchen",
          "Bathroom",
          "Other Models",
          "Textures",
          "Childroom",
          "Lighting",
          "Technology",
          "Scripts",
          "Architecture"
         ],
         "categoryorder": "array",
         "domain": [
          0,
          1
         ],
         "title": {
          "text": "Category"
         }
        },
        "yaxis": {
         "anchor": "x",
         "domain": [
          0,
          1
         ],
         "title": {
          "text": "Dur_Shrink"
         }
        }
       }
      }
     },
     "metadata": {},
     "output_type": "display_data"
    }
   ],
   "source": [
    "fig7 = px.box(result_vis, x='Category', y='Dur_Shrink', color='Category', title='Top 120 Duration distribution by Category')\n",
    "fig7.show()"
   ]
  },
  {
   "cell_type": "code",
   "execution_count": 238,
   "metadata": {},
   "outputs": [
    {
     "data": {
      "application/vnd.plotly.v1+json": {
       "config": {
        "plotlyServerURL": "https://plot.ly"
       },
       "data": [
        {
         "customdata": [
          [
           1,
           "Christmas tree with fireplace 5",
           "dofen",
           314
          ],
          [
           2,
           "Benuta Leon Cream Wool Rug",
           "3Dmitruk",
           335
          ],
          [
           5,
           "Clothes for wardrobe NG15",
           "niga2323",
           744
          ],
          [
           7,
           "Benuta Dave Rectangular Fur Rug (3 colors)",
           "3Dmitruk",
           335
          ],
          [
           8,
           "Curtains with Roman blinds 2",
           "Rolan05",
           128
          ],
          [
           10,
           "Decorative Set 089",
           "Moriiiz",
           87
          ],
          [
           15,
           "Decorative Set 088",
           "Moriiiz",
           87
          ],
          [
           16,
           "coffee table decor set 005",
           "Mitya87",
           190
          ],
          [
           24,
           "A set of clothes in bright colors for a wardrobe or showroom and a store",
           "sofiakholina",
           772
          ],
          [
           25,
           "Roman blinds, Roman blinds",
           "Neeo",
           417
          ],
          [
           36,
           "Glass Block Wall 08",
           "NK3D",
           128
          ],
          [
           44,
           "Nice Christmas tree",
           "fffaaa12",
           1217
          ],
          [
           48,
           "3DArt Relief NG41",
           "niga2323",
           744
          ],
          [
           49,
           "Pila Vessels en gold / Jug",
           "picture.cg",
           8
          ],
          [
           52,
           "Pinch Pleat Linen Curtain with Roller Blind",
           "kapusta",
           128
          ],
          [
           69,
           "Decorative set with a small beige bag",
           "Lana3D",
           28
          ],
          [
           71,
           "Panel with waves",
           "Manax",
           69
          ],
          [
           77,
           "Christmas tree with fireplace 4",
           "dofen",
           314
          ],
          [
           80,
           "Decorative Set 270",
           "☆☆Roohollah.3DArtist☆☆",
           566
          ],
          [
           85,
           "Wonderful Christmas Tree",
           "fffaaa12",
           1217
          ],
          [
           87,
           "Christmas tree 5",
           "fffaaa12",
           1217
          ],
          [
           99,
           "Round carpet",
           "miklob",
           18
          ],
          [
           103,
           "Curtains 9",
           "fffaaa12",
           1217
          ],
          [
           108,
           "Curtain #121",
           "deez",
           86
          ],
          [
           109,
           "Christmas Tree and Decoration 78",
           "3Design.FB",
           1563
          ],
          [
           110,
           "Decorative Set-086 Shelf Accessories",
           "mhl.hnr",
           256
          ],
          [
           118,
           "Benuta Dave Round Fur Rug (3 colors)",
           "3Dmitruk",
           335
          ]
         ],
         "hovertemplate": "Category=Decoration<br>Dur_Shrink=%{x}<br>Ranking=%{y}<br>Followers=%{customdata[3]}<br>N=%{customdata[0]}<br>Title=%{customdata[1]}<br>Username=%{customdata[2]}<extra></extra>",
         "legendgroup": "Decoration",
         "marker": {
          "color": "#636efa",
          "size": [
           314,
           335,
           744,
           335,
           128,
           87,
           87,
           190,
           772,
           417,
           128,
           1217,
           744,
           8,
           128,
           28,
           69,
           314,
           566,
           1217,
           1217,
           18,
           1217,
           86,
           1563,
           256,
           335
          ],
          "sizemode": "area",
          "sizeref": 5.56,
          "symbol": "circle"
         },
         "mode": "markers",
         "name": "Decoration",
         "orientation": "v",
         "showlegend": true,
         "type": "scatter",
         "x": [
          19,
          27,
          18,
          156,
          96,
          34,
          48,
          15,
          35,
          18,
          500,
          373,
          39,
          27,
          10,
          195,
          216,
          344,
          33,
          14,
          500,
          106,
          77,
          40,
          18,
          13,
          160
         ],
         "xaxis": "x",
         "y": [
          120,
          119,
          116,
          114,
          113,
          111,
          106,
          105,
          97,
          96,
          85,
          77,
          73,
          72,
          69,
          52,
          50,
          44,
          41,
          36,
          34,
          22,
          18,
          13,
          12,
          11,
          3
         ],
         "yaxis": "y"
        },
        {
         "customdata": [
          [
           3,
           "Office chair Ashley",
           "illidan_",
           6
          ],
          [
           12,
           "Dressing room 28",
           "protektor",
           322
          ],
          [
           14,
           "Cairns pedestal Divan.ru",
           "niga2323",
           744
          ],
          [
           20,
           "TV wall with Xiaomi laser projector",
           "aoverina",
           2224
          ],
          [
           21,
           "Dressing room 16",
           "protektor",
           322
          ],
          [
           26,
           "Lindsay Laurie coffee table Divan.ru",
           "niga2323",
           744
          ],
          [
           28,
           "HOMARY island for dressing room NG16",
           "niga2323",
           744
          ],
          [
           32,
           "Milam chair Divan.ru",
           "niga2323",
           744
          ],
          [
           34,
           "Basic wardrobe made of cabinet furniture with doors",
           "sofiakholina",
           772
          ],
          [
           41,
           "Cecily Nara bedside table Cosmo",
           "niga2323",
           744
          ],
          [
           42,
           "TV Wall 52",
           "sirous21",
           231
          ],
          [
           50,
           "West Elm Curved Modern Upholstered Bed",
           "Ney",
           610
          ],
          [
           57,
           "Office chair Sergio La Redoute",
           "Артур56",
           245
          ],
          [
           61,
           "Minotti Pilots Bench",
           "horrortechnology",
           717
          ],
          [
           74,
           "Emmi Armchair by Minotti",
           "wesftgyhnj",
           192
          ],
          [
           75,
           "Gianna Natural Walnut Wood King Bed Frame",
           "ZikKoo",
           417
          ],
          [
           78,
           "garage tools set 23",
           "pluse44",
           9
          ],
          [
           81,
           "Bedside table Tammi",
           "evgeni77712",
           5
          ],
          [
           82,
           "Furniture Composition 271",
           "Stt.HuynOneShine",
           178
          ],
          [
           83,
           "Dinning Set 162",
           "лааппп",
           76
          ],
          [
           91,
           "Wardrobe system Rimadesio Dress Bold",
           "restereo",
           98
          ],
          [
           92,
           "Oval island for dressing room NG14",
           "niga2323",
           744
          ],
          [
           96,
           "Travis shelving Divan.ru",
           "niga2323",
           744
          ],
          [
           100,
           "Pattie Armchair by Minotti",
           "QrisTina",
           55
          ],
          [
           104,
           "Office Furniture | 4 | Workplace",
           "spurt",
           381
          ],
          [
           105,
           "Calder Lander Build table Divan.ru",
           "niga2323",
           744
          ]
         ],
         "hovertemplate": "Category=Furniture<br>Dur_Shrink=%{x}<br>Ranking=%{y}<br>Followers=%{customdata[3]}<br>N=%{customdata[0]}<br>Title=%{customdata[1]}<br>Username=%{customdata[2]}<extra></extra>",
         "legendgroup": "Furniture",
         "marker": {
          "color": "#EF553B",
          "size": [
           6,
           322,
           744,
           2224,
           322,
           744,
           744,
           744,
           772,
           744,
           231,
           610,
           245,
           717,
           192,
           417,
           9,
           5,
           178,
           76,
           98,
           744,
           744,
           55,
           381,
           744
          ],
          "sizemode": "area",
          "sizeref": 5.56,
          "symbol": "circle"
         },
         "mode": "markers",
         "name": "Furniture",
         "orientation": "v",
         "showlegend": true,
         "type": "scatter",
         "x": [
          48,
          16,
          25,
          357,
          208,
          25,
          12,
          53,
          18,
          40,
          34,
          24,
          48,
          29,
          127,
          112,
          103,
          48,
          42,
          28,
          163,
          144,
          228,
          140,
          86,
          38
         ],
         "xaxis": "x",
         "y": [
          118,
          109,
          107,
          101,
          100,
          95,
          93,
          89,
          87,
          80,
          79,
          71,
          64,
          60,
          47,
          46,
          43,
          40,
          39,
          38,
          30,
          29,
          25,
          21,
          17,
          16
         ],
         "yaxis": "y"
        },
        {
         "customdata": [
          [
           4,
           "Indoor Plant Set 89",
           "mh.designer",
           211
          ],
          [
           46,
           "Realistic meadow grass",
           "AlexHappy",
           1671
          ],
          [
           58,
           "A bouquet of lilacs in a glass vase",
           "auralis",
           228
          ],
          [
           62,
           "Bouquet 06",
           "Mahikoo",
           10
          ],
          [
           73,
           "Indoor Plant 702 - Olive Plant",
           "3Design.FB",
           1563
          ],
          [
           114,
           "Acer Ginnala",
           "Istwood15",
           871
          ]
         ],
         "hovertemplate": "Category=Plants<br>Dur_Shrink=%{x}<br>Ranking=%{y}<br>Followers=%{customdata[3]}<br>N=%{customdata[0]}<br>Title=%{customdata[1]}<br>Username=%{customdata[2]}<extra></extra>",
         "legendgroup": "Plants",
         "marker": {
          "color": "#00cc96",
          "size": [
           211,
           1671,
           228,
           10,
           1563,
           871
          ],
          "sizemode": "area",
          "sizeref": 5.56,
          "symbol": "circle"
         },
         "mode": "markers",
         "name": "Plants",
         "orientation": "v",
         "showlegend": true,
         "type": "scatter",
         "x": [
          214,
          86,
          39,
          22,
          257,
          500
         ],
         "xaxis": "x",
         "y": [
          117,
          75,
          63,
          59,
          48,
          7
         ],
         "yaxis": "y"
        },
        {
         "customdata": [
          [
           6,
           "Boucle Fabric",
           "marchik3d",
           150
          ],
          [
           11,
           "Carpeting. Seamless carpet",
           "sofiakholina",
           772
          ],
          [
           19,
           "Snow",
           "maltsev_stepan",
           310
          ],
          [
           31,
           "Porcelain tiles Nolana Estima",
           "RazorS95",
           11
          ],
          [
           95,
           "Rubber Coating",
           "maltsev_stepan",
           310
          ],
          [
           101,
           "Flat Metal Material",
           "jy893dsky",
           51
          ]
         ],
         "hovertemplate": "Category=Materials<br>Dur_Shrink=%{x}<br>Ranking=%{y}<br>Followers=%{customdata[3]}<br>N=%{customdata[0]}<br>Title=%{customdata[1]}<br>Username=%{customdata[2]}<extra></extra>",
         "legendgroup": "Materials",
         "marker": {
          "color": "#ab63fa",
          "size": [
           150,
           772,
           310,
           11,
           310,
           51
          ],
          "sizemode": "area",
          "sizeref": 5.56,
          "symbol": "circle"
         },
         "mode": "markers",
         "name": "Materials",
         "orientation": "v",
         "showlegend": true,
         "type": "scatter",
         "x": [
          34,
          81,
          21,
          77,
          109,
          61
         ],
         "xaxis": "x",
         "y": [
          115,
          110,
          102,
          90,
          26,
          20
         ],
         "yaxis": "y"
        },
        {
         "customdata": [
          [
           9,
           "Kitchen 10",
           "RazorS95",
           11
          ],
          [
           38,
           "Cookware set NG5",
           "niga2323",
           744
          ],
          [
           45,
           "Sinks and faucets Omoikiri",
           "oleksandroleksandr",
           125
          ],
          [
           55,
           "Wine with chocolate set/1",
           "unrepeatable",
           73
          ],
          [
           60,
           "kitchen 0252",
           "Hasan3596",
           97
          ],
          [
           79,
           "Kitchen Appliance Bosch Kitchen 81",
           "freesection",
           135
          ],
          [
           84,
           "Kitchen 27",
           "Bensy",
           91
          ],
          [
           90,
           "Serving NG3",
           "niga2323",
           744
          ],
          [
           107,
           "kitchen modern-067",
           "moon_3dart296",
           24
          ]
         ],
         "hovertemplate": "Category=Kitchen<br>Dur_Shrink=%{x}<br>Ranking=%{y}<br>Followers=%{customdata[3]}<br>N=%{customdata[0]}<br>Title=%{customdata[1]}<br>Username=%{customdata[2]}<extra></extra>",
         "legendgroup": "Kitchen",
         "marker": {
          "color": "#FFA15A",
          "size": [
           11,
           744,
           125,
           73,
           97,
           135,
           91,
           744,
           24
          ],
          "sizemode": "area",
          "sizeref": 5.56,
          "symbol": "circle"
         },
         "mode": "markers",
         "name": "Kitchen",
         "orientation": "v",
         "showlegend": true,
         "type": "scatter",
         "x": [
          154,
          54,
          412,
          120,
          25,
          74,
          16,
          466,
          39
         ],
         "xaxis": "x",
         "y": [
          112,
          83,
          76,
          66,
          61,
          42,
          37,
          31,
          14
         ],
         "yaxis": "y"
        },
        {
         "customdata": [
          [
           13,
           "Bathroom decor with a set of different cosmetic products",
           "sofiakholina",
           772
          ],
          [
           17,
           "Faucets and showers Boheme uno set 2",
           "Ashlesha",
           22
          ],
          [
           23,
           "Bathroom decor set P06",
           "picture.cg",
           8
          ],
          [
           27,
           "Omnires mixers",
           "fffaaa12",
           1217
          ],
          [
           39,
           "Faucets and showers Boheme uno set 1",
           "Ashlesha",
           22
          ],
          [
           43,
           "Bathroom accessories Z42",
           "zyazdiyan",
           34
          ],
          [
           47,
           "Bathroom furniture 21",
           "don2432",
           170
          ],
          [
           56,
           "Faucets and showers Boheme Specter set",
           "Ashlesha",
           22
          ],
          [
           70,
           "Timo Saona",
           "tokyokyoto",
           78
          ],
          [
           86,
           "Laundry Room _ 0005",
           "grol69",
           311
          ],
          [
           94,
           "Hotel Bathroom Accessories LE LABO",
           "lzv_cg",
           85
          ],
          [
           106,
           "EWRIKA Penelope electric heated towel rail",
           "niga2323",
           744
          ],
          [
           111,
           "LAUNDRY SET (Poliform FITTED + ASKO)",
           "vitaly_y_panov",
           223
          ],
          [
           112,
           "LAUNDRY SET 2 (L'ORIGINE Aeterna + ASKO)",
           "vitaly_y_panov",
           223
          ],
          [
           119,
           "Cezares Stylus + Boheme Uno + AlcaPlast Thin",
           "star_vera",
           7
          ]
         ],
         "hovertemplate": "Category=Bathroom<br>Dur_Shrink=%{x}<br>Ranking=%{y}<br>Followers=%{customdata[3]}<br>N=%{customdata[0]}<br>Title=%{customdata[1]}<br>Username=%{customdata[2]}<extra></extra>",
         "legendgroup": "Bathroom",
         "marker": {
          "color": "#19d3f3",
          "size": [
           772,
           22,
           8,
           1217,
           22,
           34,
           170,
           22,
           78,
           311,
           85,
           744,
           223,
           223,
           7
          ],
          "sizemode": "area",
          "sizeref": 5.56,
          "symbol": "circle"
         },
         "mode": "markers",
         "name": "Bathroom",
         "orientation": "v",
         "showlegend": true,
         "type": "scatter",
         "x": [
          143,
          78,
          116,
          49,
          81,
          17,
          125,
          57,
          186,
          500,
          219,
          40,
          500,
          500,
          183
         ],
         "xaxis": "x",
         "y": [
          108,
          104,
          98,
          94,
          82,
          78,
          74,
          65,
          51,
          35,
          27,
          15,
          10,
          9,
          2
         ],
         "yaxis": "y"
        },
        {
         "customdata": [
          [
           18,
           "Grilles for ventilation and air conditioning Redvent",
           "DashutaG",
           31
          ],
          [
           30,
           "Padel",
           "alexsm2014",
           22
          ],
          [
           54,
           "Volhovec Rift Doors",
           "Игорь1969",
           66
          ],
          [
           65,
           "Guitar. Guitar set for stage. Musical instrument. Microphone",
           "paradize",
           89
          ],
          [
           66,
           "Set of ceilings Armstrong and Grilyato",
           "solomon5555",
           430
          ],
          [
           88,
           "Yoga & Meditation Set",
           "wesftgyhnj",
           192
          ],
          [
           93,
           "A wall with a rack for gym equipment 2",
           "sofiakholina",
           772
          ],
          [
           97,
           "Ventilation system.",
           "slipknot1111",
           20
          ],
          [
           113,
           "Bakery Equipment",
           "Стаска",
           72
          ],
          [
           115,
           "CAT Forklift, Manual Loader and Warehouse Carts Kit",
           "quantum_4141",
           99
          ],
          [
           117,
           "Coffee Shop 6",
           "omnomn",
           310
          ],
          [
           120,
           "Cafe Equipment Set 8",
           "Стаска",
           72
          ]
         ],
         "hovertemplate": "Category=Other Models<br>Dur_Shrink=%{x}<br>Ranking=%{y}<br>Followers=%{customdata[3]}<br>N=%{customdata[0]}<br>Title=%{customdata[1]}<br>Username=%{customdata[2]}<extra></extra>",
         "legendgroup": "Other Models",
         "marker": {
          "color": "#FF6692",
          "size": [
           31,
           22,
           66,
           89,
           430,
           192,
           772,
           20,
           72,
           99,
           310,
           72
          ],
          "sizemode": "area",
          "sizeref": 5.56,
          "symbol": "circle"
         },
         "mode": "markers",
         "name": "Other Models",
         "orientation": "v",
         "showlegend": true,
         "type": "scatter",
         "x": [
          34,
          393,
          150,
          500,
          500,
          437,
          171,
          98,
          500,
          500,
          264,
          92
         ],
         "xaxis": "x",
         "y": [
          103,
          91,
          67,
          56,
          55,
          33,
          28,
          24,
          8,
          6,
          4,
          1
         ],
         "yaxis": "y"
        },
        {
         "customdata": [
          [
           22,
           "Equipe BALI",
           "StanisLOVE.viz",
           162
          ],
          [
           40,
           "Parquet board 4",
           "dofen",
           314
          ],
          [
           53,
           "Herringbone parquet chevron s8",
           "StanisLOVE.viz",
           162
          ],
          [
           67,
           "Boen parquet board wood flooring",
           "dofen",
           314
          ],
          [
           89,
           "Equipe Hopp",
           "StanisLOVE.viz",
           162
          ]
         ],
         "hovertemplate": "Category=Textures<br>Dur_Shrink=%{x}<br>Ranking=%{y}<br>Followers=%{customdata[3]}<br>N=%{customdata[0]}<br>Title=%{customdata[1]}<br>Username=%{customdata[2]}<extra></extra>",
         "legendgroup": "Textures",
         "marker": {
          "color": "#B6E880",
          "size": [
           162,
           314,
           162,
           314,
           162
          ],
          "sizemode": "area",
          "sizeref": 5.56,
          "symbol": "circle"
         },
         "mode": "markers",
         "name": "Textures",
         "orientation": "v",
         "showlegend": true,
         "type": "scatter",
         "x": [
          66,
          40,
          190,
          328,
          276
         ],
         "xaxis": "x",
         "y": [
          99,
          81,
          68,
          54,
          32
         ],
         "yaxis": "y"
        },
        {
         "customdata": [
          [
           29,
           "Siena Kids Bed By Como",
           "ZikKoo",
           417
          ],
          [
           51,
           "Children play area | Interactive",
           "lzv_cg",
           85
          ],
          [
           59,
           "Pinboard with childrens drawings",
           "DashutaG",
           31
          ],
          [
           63,
           "Childrens open wardrobe with desk, modular, modern, 25",
           "don2432",
           170
          ],
          [
           76,
           "Soft seat by the window in the children's room",
           "lzv_cg",
           85
          ],
          [
           98,
           "Interactive panel for children room",
           "lzv_cg",
           85
          ]
         ],
         "hovertemplate": "Category=Childroom<br>Dur_Shrink=%{x}<br>Ranking=%{y}<br>Followers=%{customdata[3]}<br>N=%{customdata[0]}<br>Title=%{customdata[1]}<br>Username=%{customdata[2]}<extra></extra>",
         "legendgroup": "Childroom",
         "marker": {
          "color": "#FF97FF",
          "size": [
           417,
           85,
           31,
           170,
           85,
           85
          ],
          "sizemode": "area",
          "sizeref": 5.56,
          "symbol": "circle"
         },
         "mode": "markers",
         "name": "Childroom",
         "orientation": "v",
         "showlegend": true,
         "type": "scatter",
         "x": [
          286,
          26,
          47,
          17,
          128,
          107
         ],
         "xaxis": "x",
         "y": [
          92,
          70,
          62,
          58,
          45,
          23
         ],
         "yaxis": "y"
        },
        {
         "customdata": [
          [
           33,
           "Moooi Drape Lights",
           "Karloo",
           100
          ],
          [
           35,
           "Track system centersvet Infinity",
           "Beliy",
           22
          ],
          [
           72,
           "Khmara by Makhno Rough Plaster Pendant Lamps",
           "CG__Aryan",
           29
          ]
         ],
         "hovertemplate": "Category=Lighting<br>Dur_Shrink=%{x}<br>Ranking=%{y}<br>Followers=%{customdata[3]}<br>N=%{customdata[0]}<br>Title=%{customdata[1]}<br>Username=%{customdata[2]}<extra></extra>",
         "legendgroup": "Lighting",
         "marker": {
          "color": "#FECB52",
          "size": [
           100,
           22,
           29
          ],
          "sizemode": "area",
          "sizeref": 5.56,
          "symbol": "circle"
         },
         "mode": "markers",
         "name": "Lighting",
         "orientation": "v",
         "showlegend": true,
         "type": "scatter",
         "x": [
          33,
          31,
          263
         ],
         "xaxis": "x",
         "y": [
          88,
          86,
          49
         ],
         "yaxis": "y"
        },
        {
         "customdata": [
          [
           37,
           "Robot vacuum cleaner Xiaomi Robot Vacuum Cleaner X20",
           "dilya_1",
           99
          ],
          [
           102,
           "Canon printer set.",
           "slipknot1111",
           20
          ]
         ],
         "hovertemplate": "Category=Technology<br>Dur_Shrink=%{x}<br>Ranking=%{y}<br>Followers=%{customdata[3]}<br>N=%{customdata[0]}<br>Title=%{customdata[1]}<br>Username=%{customdata[2]}<extra></extra>",
         "legendgroup": "Technology",
         "marker": {
          "color": "#636efa",
          "size": [
           99,
           20
          ],
          "sizemode": "area",
          "sizeref": 5.56,
          "symbol": "circle"
         },
         "mode": "markers",
         "name": "Technology",
         "orientation": "v",
         "showlegend": true,
         "type": "scatter",
         "x": [
          183,
          67
         ],
         "xaxis": "x",
         "y": [
          84,
          19
         ],
         "yaxis": "y"
        },
        {
         "customdata": [
          [
           64,
           "FloorGen Tools 1.5.4",
           "-NiK-",
           40
          ]
         ],
         "hovertemplate": "Category=Scripts<br>Dur_Shrink=%{x}<br>Ranking=%{y}<br>Followers=%{customdata[3]}<br>N=%{customdata[0]}<br>Title=%{customdata[1]}<br>Username=%{customdata[2]}<extra></extra>",
         "legendgroup": "Scripts",
         "marker": {
          "color": "#EF553B",
          "size": [
           40
          ],
          "sizemode": "area",
          "sizeref": 5.56,
          "symbol": "circle"
         },
         "mode": "markers",
         "name": "Scripts",
         "orientation": "v",
         "showlegend": true,
         "type": "scatter",
         "x": [
          500
         ],
         "xaxis": "x",
         "y": [
          57
         ],
         "yaxis": "y"
        },
        {
         "customdata": [
          [
           68,
           "Wet asphalt with leaves. Autumn. Editable",
           "paz",
           130
          ],
          [
           116,
           "Christmas Tree Street",
           "Al-make",
           50
          ]
         ],
         "hovertemplate": "Category=Architecture<br>Dur_Shrink=%{x}<br>Ranking=%{y}<br>Followers=%{customdata[3]}<br>N=%{customdata[0]}<br>Title=%{customdata[1]}<br>Username=%{customdata[2]}<extra></extra>",
         "legendgroup": "Architecture",
         "marker": {
          "color": "#00cc96",
          "size": [
           130,
           50
          ],
          "sizemode": "area",
          "sizeref": 5.56,
          "symbol": "circle"
         },
         "mode": "markers",
         "name": "Architecture",
         "orientation": "v",
         "showlegend": true,
         "type": "scatter",
         "x": [
          403,
          500
         ],
         "xaxis": "x",
         "y": [
          53,
          5
         ],
         "yaxis": "y"
        }
       ],
       "layout": {
        "legend": {
         "itemsizing": "constant",
         "title": {
          "text": "Category"
         },
         "tracegroupgap": 0
        },
        "template": {
         "data": {
          "bar": [
           {
            "error_x": {
             "color": "#2a3f5f"
            },
            "error_y": {
             "color": "#2a3f5f"
            },
            "marker": {
             "line": {
              "color": "#E5ECF6",
              "width": 0.5
             },
             "pattern": {
              "fillmode": "overlay",
              "size": 10,
              "solidity": 0.2
             }
            },
            "type": "bar"
           }
          ],
          "barpolar": [
           {
            "marker": {
             "line": {
              "color": "#E5ECF6",
              "width": 0.5
             },
             "pattern": {
              "fillmode": "overlay",
              "size": 10,
              "solidity": 0.2
             }
            },
            "type": "barpolar"
           }
          ],
          "carpet": [
           {
            "aaxis": {
             "endlinecolor": "#2a3f5f",
             "gridcolor": "white",
             "linecolor": "white",
             "minorgridcolor": "white",
             "startlinecolor": "#2a3f5f"
            },
            "baxis": {
             "endlinecolor": "#2a3f5f",
             "gridcolor": "white",
             "linecolor": "white",
             "minorgridcolor": "white",
             "startlinecolor": "#2a3f5f"
            },
            "type": "carpet"
           }
          ],
          "choropleth": [
           {
            "colorbar": {
             "outlinewidth": 0,
             "ticks": ""
            },
            "type": "choropleth"
           }
          ],
          "contour": [
           {
            "colorbar": {
             "outlinewidth": 0,
             "ticks": ""
            },
            "colorscale": [
             [
              0,
              "#0d0887"
             ],
             [
              0.1111111111111111,
              "#46039f"
             ],
             [
              0.2222222222222222,
              "#7201a8"
             ],
             [
              0.3333333333333333,
              "#9c179e"
             ],
             [
              0.4444444444444444,
              "#bd3786"
             ],
             [
              0.5555555555555556,
              "#d8576b"
             ],
             [
              0.6666666666666666,
              "#ed7953"
             ],
             [
              0.7777777777777778,
              "#fb9f3a"
             ],
             [
              0.8888888888888888,
              "#fdca26"
             ],
             [
              1,
              "#f0f921"
             ]
            ],
            "type": "contour"
           }
          ],
          "contourcarpet": [
           {
            "colorbar": {
             "outlinewidth": 0,
             "ticks": ""
            },
            "type": "contourcarpet"
           }
          ],
          "heatmap": [
           {
            "colorbar": {
             "outlinewidth": 0,
             "ticks": ""
            },
            "colorscale": [
             [
              0,
              "#0d0887"
             ],
             [
              0.1111111111111111,
              "#46039f"
             ],
             [
              0.2222222222222222,
              "#7201a8"
             ],
             [
              0.3333333333333333,
              "#9c179e"
             ],
             [
              0.4444444444444444,
              "#bd3786"
             ],
             [
              0.5555555555555556,
              "#d8576b"
             ],
             [
              0.6666666666666666,
              "#ed7953"
             ],
             [
              0.7777777777777778,
              "#fb9f3a"
             ],
             [
              0.8888888888888888,
              "#fdca26"
             ],
             [
              1,
              "#f0f921"
             ]
            ],
            "type": "heatmap"
           }
          ],
          "heatmapgl": [
           {
            "colorbar": {
             "outlinewidth": 0,
             "ticks": ""
            },
            "colorscale": [
             [
              0,
              "#0d0887"
             ],
             [
              0.1111111111111111,
              "#46039f"
             ],
             [
              0.2222222222222222,
              "#7201a8"
             ],
             [
              0.3333333333333333,
              "#9c179e"
             ],
             [
              0.4444444444444444,
              "#bd3786"
             ],
             [
              0.5555555555555556,
              "#d8576b"
             ],
             [
              0.6666666666666666,
              "#ed7953"
             ],
             [
              0.7777777777777778,
              "#fb9f3a"
             ],
             [
              0.8888888888888888,
              "#fdca26"
             ],
             [
              1,
              "#f0f921"
             ]
            ],
            "type": "heatmapgl"
           }
          ],
          "histogram": [
           {
            "marker": {
             "pattern": {
              "fillmode": "overlay",
              "size": 10,
              "solidity": 0.2
             }
            },
            "type": "histogram"
           }
          ],
          "histogram2d": [
           {
            "colorbar": {
             "outlinewidth": 0,
             "ticks": ""
            },
            "colorscale": [
             [
              0,
              "#0d0887"
             ],
             [
              0.1111111111111111,
              "#46039f"
             ],
             [
              0.2222222222222222,
              "#7201a8"
             ],
             [
              0.3333333333333333,
              "#9c179e"
             ],
             [
              0.4444444444444444,
              "#bd3786"
             ],
             [
              0.5555555555555556,
              "#d8576b"
             ],
             [
              0.6666666666666666,
              "#ed7953"
             ],
             [
              0.7777777777777778,
              "#fb9f3a"
             ],
             [
              0.8888888888888888,
              "#fdca26"
             ],
             [
              1,
              "#f0f921"
             ]
            ],
            "type": "histogram2d"
           }
          ],
          "histogram2dcontour": [
           {
            "colorbar": {
             "outlinewidth": 0,
             "ticks": ""
            },
            "colorscale": [
             [
              0,
              "#0d0887"
             ],
             [
              0.1111111111111111,
              "#46039f"
             ],
             [
              0.2222222222222222,
              "#7201a8"
             ],
             [
              0.3333333333333333,
              "#9c179e"
             ],
             [
              0.4444444444444444,
              "#bd3786"
             ],
             [
              0.5555555555555556,
              "#d8576b"
             ],
             [
              0.6666666666666666,
              "#ed7953"
             ],
             [
              0.7777777777777778,
              "#fb9f3a"
             ],
             [
              0.8888888888888888,
              "#fdca26"
             ],
             [
              1,
              "#f0f921"
             ]
            ],
            "type": "histogram2dcontour"
           }
          ],
          "mesh3d": [
           {
            "colorbar": {
             "outlinewidth": 0,
             "ticks": ""
            },
            "type": "mesh3d"
           }
          ],
          "parcoords": [
           {
            "line": {
             "colorbar": {
              "outlinewidth": 0,
              "ticks": ""
             }
            },
            "type": "parcoords"
           }
          ],
          "pie": [
           {
            "automargin": true,
            "type": "pie"
           }
          ],
          "scatter": [
           {
            "fillpattern": {
             "fillmode": "overlay",
             "size": 10,
             "solidity": 0.2
            },
            "type": "scatter"
           }
          ],
          "scatter3d": [
           {
            "line": {
             "colorbar": {
              "outlinewidth": 0,
              "ticks": ""
             }
            },
            "marker": {
             "colorbar": {
              "outlinewidth": 0,
              "ticks": ""
             }
            },
            "type": "scatter3d"
           }
          ],
          "scattercarpet": [
           {
            "marker": {
             "colorbar": {
              "outlinewidth": 0,
              "ticks": ""
             }
            },
            "type": "scattercarpet"
           }
          ],
          "scattergeo": [
           {
            "marker": {
             "colorbar": {
              "outlinewidth": 0,
              "ticks": ""
             }
            },
            "type": "scattergeo"
           }
          ],
          "scattergl": [
           {
            "marker": {
             "colorbar": {
              "outlinewidth": 0,
              "ticks": ""
             }
            },
            "type": "scattergl"
           }
          ],
          "scattermapbox": [
           {
            "marker": {
             "colorbar": {
              "outlinewidth": 0,
              "ticks": ""
             }
            },
            "type": "scattermapbox"
           }
          ],
          "scatterpolar": [
           {
            "marker": {
             "colorbar": {
              "outlinewidth": 0,
              "ticks": ""
             }
            },
            "type": "scatterpolar"
           }
          ],
          "scatterpolargl": [
           {
            "marker": {
             "colorbar": {
              "outlinewidth": 0,
              "ticks": ""
             }
            },
            "type": "scatterpolargl"
           }
          ],
          "scatterternary": [
           {
            "marker": {
             "colorbar": {
              "outlinewidth": 0,
              "ticks": ""
             }
            },
            "type": "scatterternary"
           }
          ],
          "surface": [
           {
            "colorbar": {
             "outlinewidth": 0,
             "ticks": ""
            },
            "colorscale": [
             [
              0,
              "#0d0887"
             ],
             [
              0.1111111111111111,
              "#46039f"
             ],
             [
              0.2222222222222222,
              "#7201a8"
             ],
             [
              0.3333333333333333,
              "#9c179e"
             ],
             [
              0.4444444444444444,
              "#bd3786"
             ],
             [
              0.5555555555555556,
              "#d8576b"
             ],
             [
              0.6666666666666666,
              "#ed7953"
             ],
             [
              0.7777777777777778,
              "#fb9f3a"
             ],
             [
              0.8888888888888888,
              "#fdca26"
             ],
             [
              1,
              "#f0f921"
             ]
            ],
            "type": "surface"
           }
          ],
          "table": [
           {
            "cells": {
             "fill": {
              "color": "#EBF0F8"
             },
             "line": {
              "color": "white"
             }
            },
            "header": {
             "fill": {
              "color": "#C8D4E3"
             },
             "line": {
              "color": "white"
             }
            },
            "type": "table"
           }
          ]
         },
         "layout": {
          "annotationdefaults": {
           "arrowcolor": "#2a3f5f",
           "arrowhead": 0,
           "arrowwidth": 1
          },
          "autotypenumbers": "strict",
          "coloraxis": {
           "colorbar": {
            "outlinewidth": 0,
            "ticks": ""
           }
          },
          "colorscale": {
           "diverging": [
            [
             0,
             "#8e0152"
            ],
            [
             0.1,
             "#c51b7d"
            ],
            [
             0.2,
             "#de77ae"
            ],
            [
             0.3,
             "#f1b6da"
            ],
            [
             0.4,
             "#fde0ef"
            ],
            [
             0.5,
             "#f7f7f7"
            ],
            [
             0.6,
             "#e6f5d0"
            ],
            [
             0.7,
             "#b8e186"
            ],
            [
             0.8,
             "#7fbc41"
            ],
            [
             0.9,
             "#4d9221"
            ],
            [
             1,
             "#276419"
            ]
           ],
           "sequential": [
            [
             0,
             "#0d0887"
            ],
            [
             0.1111111111111111,
             "#46039f"
            ],
            [
             0.2222222222222222,
             "#7201a8"
            ],
            [
             0.3333333333333333,
             "#9c179e"
            ],
            [
             0.4444444444444444,
             "#bd3786"
            ],
            [
             0.5555555555555556,
             "#d8576b"
            ],
            [
             0.6666666666666666,
             "#ed7953"
            ],
            [
             0.7777777777777778,
             "#fb9f3a"
            ],
            [
             0.8888888888888888,
             "#fdca26"
            ],
            [
             1,
             "#f0f921"
            ]
           ],
           "sequentialminus": [
            [
             0,
             "#0d0887"
            ],
            [
             0.1111111111111111,
             "#46039f"
            ],
            [
             0.2222222222222222,
             "#7201a8"
            ],
            [
             0.3333333333333333,
             "#9c179e"
            ],
            [
             0.4444444444444444,
             "#bd3786"
            ],
            [
             0.5555555555555556,
             "#d8576b"
            ],
            [
             0.6666666666666666,
             "#ed7953"
            ],
            [
             0.7777777777777778,
             "#fb9f3a"
            ],
            [
             0.8888888888888888,
             "#fdca26"
            ],
            [
             1,
             "#f0f921"
            ]
           ]
          },
          "colorway": [
           "#636efa",
           "#EF553B",
           "#00cc96",
           "#ab63fa",
           "#FFA15A",
           "#19d3f3",
           "#FF6692",
           "#B6E880",
           "#FF97FF",
           "#FECB52"
          ],
          "font": {
           "color": "#2a3f5f"
          },
          "geo": {
           "bgcolor": "white",
           "lakecolor": "white",
           "landcolor": "#E5ECF6",
           "showlakes": true,
           "showland": true,
           "subunitcolor": "white"
          },
          "hoverlabel": {
           "align": "left"
          },
          "hovermode": "closest",
          "mapbox": {
           "style": "light"
          },
          "paper_bgcolor": "white",
          "plot_bgcolor": "#E5ECF6",
          "polar": {
           "angularaxis": {
            "gridcolor": "white",
            "linecolor": "white",
            "ticks": ""
           },
           "bgcolor": "#E5ECF6",
           "radialaxis": {
            "gridcolor": "white",
            "linecolor": "white",
            "ticks": ""
           }
          },
          "scene": {
           "xaxis": {
            "backgroundcolor": "#E5ECF6",
            "gridcolor": "white",
            "gridwidth": 2,
            "linecolor": "white",
            "showbackground": true,
            "ticks": "",
            "zerolinecolor": "white"
           },
           "yaxis": {
            "backgroundcolor": "#E5ECF6",
            "gridcolor": "white",
            "gridwidth": 2,
            "linecolor": "white",
            "showbackground": true,
            "ticks": "",
            "zerolinecolor": "white"
           },
           "zaxis": {
            "backgroundcolor": "#E5ECF6",
            "gridcolor": "white",
            "gridwidth": 2,
            "linecolor": "white",
            "showbackground": true,
            "ticks": "",
            "zerolinecolor": "white"
           }
          },
          "shapedefaults": {
           "line": {
            "color": "#2a3f5f"
           }
          },
          "ternary": {
           "aaxis": {
            "gridcolor": "white",
            "linecolor": "white",
            "ticks": ""
           },
           "baxis": {
            "gridcolor": "white",
            "linecolor": "white",
            "ticks": ""
           },
           "bgcolor": "#E5ECF6",
           "caxis": {
            "gridcolor": "white",
            "linecolor": "white",
            "ticks": ""
           }
          },
          "title": {
           "x": 0.05
          },
          "xaxis": {
           "automargin": true,
           "gridcolor": "white",
           "linecolor": "white",
           "ticks": "",
           "title": {
            "standoff": 15
           },
           "zerolinecolor": "white",
           "zerolinewidth": 2
          },
          "yaxis": {
           "automargin": true,
           "gridcolor": "white",
           "linecolor": "white",
           "ticks": "",
           "title": {
            "standoff": 15
           },
           "zerolinecolor": "white",
           "zerolinewidth": 2
          }
         }
        },
        "title": {
         "text": "Top 120 by Duration and Ranking"
        },
        "xaxis": {
         "anchor": "y",
         "domain": [
          0,
          1
         ],
         "title": {
          "text": "Dur_Shrink"
         }
        },
        "yaxis": {
         "anchor": "x",
         "domain": [
          0,
          1
         ],
         "title": {
          "text": "Ranking"
         }
        }
       }
      }
     },
     "metadata": {},
     "output_type": "display_data"
    }
   ],
   "source": [
    "fig8 = px.scatter(result_vis, x='Dur_Shrink', y='Ranking', color='Category', size='Followers', hover_data=['N','Title','Username','Followers'], title='Top 120 by Duration and Ranking')\n",
    "fig8.show()"
   ]
  },
  {
   "cell_type": "code",
   "execution_count": null,
   "metadata": {},
   "outputs": [],
   "source": [
    "fig1.write_html(\"Top 120 Count by Category.html\")\n",
    "fig2.write_html(\"Top 120 Count by Subcategory.html\")\n",
    "fig3.write_html(\"Top 120 by Selected and Followers.html\")\n",
    "fig4.write_html(\"Top 120 Count by Duration.html\")\n",
    "fig5.write_html(\"Top 120 total Rank by Category.html\")\n",
    "fig6.write_html(\"Top 120 Rank distribution by Category.html\")\n",
    "fig7.write_html(\"Top 120 Duration distribution by Category.html\")\n",
    "fig8.write_html(\"Top 120 by Duration and Ranking.html\")"
   ]
  }
 ],
 "metadata": {
  "kernelspec": {
   "display_name": "Python 3",
   "language": "python",
   "name": "python3"
  },
  "language_info": {
   "codemirror_mode": {
    "name": "ipython",
    "version": 3
   },
   "file_extension": ".py",
   "mimetype": "text/x-python",
   "name": "python",
   "nbconvert_exporter": "python",
   "pygments_lexer": "ipython3",
   "version": "3.9.13"
  }
 },
 "nbformat": 4,
 "nbformat_minor": 2
}
