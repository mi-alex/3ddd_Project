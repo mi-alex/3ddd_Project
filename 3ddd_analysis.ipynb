{
 "cells": [
  {
   "cell_type": "code",
   "execution_count": 102,
   "metadata": {},
   "outputs": [],
   "source": [
    "import pandas as pd\n",
    "import plotly.express as px\n",
    "from datetime import datetime\n",
    "\n",
    "file_path = 'output.xlsx'\n",
    "maxpage = 2                                                         # сколько страниц топа грузим\n",
    "page_size = 60                                                      # число моделей на странице\n",
    "\n",
    "# Чтение данных\n",
    "data = pd.read_excel(file_path)\n",
    "\n",
    "# Дополнительные столбцы\n",
    "data['Ranking'] = maxpage*page_size - data['N'] + 1\n",
    "data['Unique_Title'] = data['Link'].apply(lambda x: x.split('/')[-1])\n",
    "data['Max_Version'] = data['Platform'].apply(lambda x: x.split(' + ')[0] if ' + ' in x else None)\n",
    "data['File_Type'] = data['Platform'].apply(lambda x: x.split(' + ')[1] if ' + ' in x else None)\n",
    "\n",
    "data['Pubdate'] = pd.to_datetime(data['Pubdate'])\n",
    "data['Full_Category'] = data['Category'] + '.' + data['Subcategory']\n",
    "\n",
    "current_date = datetime.now()\n",
    "data['Duration'] = (current_date - data['Pubdate']).dt.days\n",
    "\n",
    "data.drop(['N','Link', 'Standard', 'Pubdate', 'Platform'], axis=1, inplace=True)\n"
   ]
  },
  {
   "cell_type": "code",
   "execution_count": 103,
   "metadata": {},
   "outputs": [
    {
     "name": "stdout",
     "output_type": "stream",
     "text": [
      "<class 'pandas.core.frame.DataFrame'>\n",
      "RangeIndex: 2280 entries, 0 to 2279\n",
      "Data columns (total 15 columns):\n",
      " #   Column         Non-Null Count  Dtype \n",
      "---  ------         --------------  ----- \n",
      " 0   Curdate        2280 non-null   object\n",
      " 1   Title          2280 non-null   object\n",
      " 2   Category       2280 non-null   object\n",
      " 3   Subcategory    2280 non-null   object\n",
      " 4   Corona         2265 non-null   object\n",
      " 5   V-Ray          1536 non-null   object\n",
      " 6   Username       2280 non-null   object\n",
      " 7   Followers      2280 non-null   int64 \n",
      " 8   Selected       2280 non-null   int64 \n",
      " 9   Ranking        2280 non-null   int64 \n",
      " 10  Unique_Title   2280 non-null   object\n",
      " 11  Max_Version    2272 non-null   object\n",
      " 12  File_Type      2272 non-null   object\n",
      " 13  Full_Category  2280 non-null   object\n",
      " 14  Duration       2280 non-null   int64 \n",
      "dtypes: int64(4), object(11)\n",
      "memory usage: 267.3+ KB\n"
     ]
    },
    {
     "data": {
      "text/plain": [
       "None"
      ]
     },
     "metadata": {},
     "output_type": "display_data"
    }
   ],
   "source": [
    "display(data.info())"
   ]
  },
  {
   "cell_type": "code",
   "execution_count": 95,
   "metadata": {},
   "outputs": [
    {
     "name": "stderr",
     "output_type": "stream",
     "text": [
      "c:\\Users\\mi_al\\AppData\\Local\\Programs\\Python\\Python39\\lib\\site-packages\\plotly\\express\\_core.py:1985: FutureWarning:\n",
      "\n",
      "When grouping with a length-1 list-like, you will need to pass a length-1 tuple to get_group in a future version of pandas. Pass `(name,)` instead of `name` to silence this warning.\n",
      "\n"
     ]
    },
    {
     "data": {
      "application/vnd.plotly.v1+json": {
       "config": {
        "plotlyServerURL": "https://plot.ly"
       },
       "data": [
        {
         "hovertemplate": "Unique_Title=novogodniaia_elka_s_kaminom_5<br>Curdate=%{x}<br>Ranking=%{y}<extra></extra>",
         "legendgroup": "novogodniaia_elka_s_kaminom_5",
         "line": {
          "color": "#636efa",
          "dash": "solid"
         },
         "marker": {
          "symbol": "circle"
         },
         "mode": "lines",
         "name": "novogodniaia_elka_s_kaminom_5",
         "showlegend": true,
         "type": "scattergl",
         "x": [
          "2024-11-26",
          "2024-11-27",
          "2024-11-28",
          "2024-11-29",
          "2024-11-30",
          "2024-12-01",
          "2024-12-02",
          "2024-12-03",
          "2024-12-04",
          "2024-12-05",
          "2024-12-06",
          "2024-12-07",
          "2024-12-08",
          "2024-12-09",
          "2024-12-11",
          "2024-12-12",
          "2024-12-13",
          "2024-12-14",
          "2024-12-15"
         ],
         "xaxis": "x",
         "y": [
          120,
          120,
          120,
          120,
          120,
          120,
          120,
          120,
          120,
          120,
          120,
          120,
          120,
          120,
          119,
          117,
          114,
          114,
          114
         ],
         "yaxis": "y"
        },
        {
         "hovertemplate": "Unique_Title=benuta_leon_cream_wool_rug<br>Curdate=%{x}<br>Ranking=%{y}<extra></extra>",
         "legendgroup": "benuta_leon_cream_wool_rug",
         "line": {
          "color": "#EF553B",
          "dash": "solid"
         },
         "marker": {
          "symbol": "circle"
         },
         "mode": "lines",
         "name": "benuta_leon_cream_wool_rug",
         "showlegend": true,
         "type": "scattergl",
         "x": [
          "2024-11-26",
          "2024-11-27",
          "2024-11-28",
          "2024-11-29",
          "2024-11-30",
          "2024-12-01",
          "2024-12-02",
          "2024-12-03",
          "2024-12-04",
          "2024-12-05",
          "2024-12-06",
          "2024-12-07",
          "2024-12-08",
          "2024-12-09",
          "2024-12-11",
          "2024-12-12",
          "2024-12-13",
          "2024-12-14",
          "2024-12-15"
         ],
         "xaxis": "x",
         "y": [
          119,
          119,
          119,
          119,
          119,
          119,
          119,
          119,
          116,
          115,
          115,
          115,
          113,
          111,
          91,
          96,
          93,
          94,
          94
         ],
         "yaxis": "y"
        },
        {
         "hovertemplate": "Unique_Title=ofisnoe_kreslo_eshli<br>Curdate=%{x}<br>Ranking=%{y}<extra></extra>",
         "legendgroup": "ofisnoe_kreslo_eshli",
         "line": {
          "color": "#00cc96",
          "dash": "solid"
         },
         "marker": {
          "symbol": "circle"
         },
         "mode": "lines",
         "name": "ofisnoe_kreslo_eshli",
         "showlegend": true,
         "type": "scattergl",
         "x": [
          "2024-11-26",
          "2024-11-27",
          "2024-11-28",
          "2024-11-29",
          "2024-11-30",
          "2024-12-01",
          "2024-12-02",
          "2024-12-03",
          "2024-12-04",
          "2024-12-05",
          "2024-12-06",
          "2024-12-07",
          "2024-12-08",
          "2024-12-09",
          "2024-12-11",
          "2024-12-12",
          "2024-12-13",
          "2024-12-14",
          "2024-12-15"
         ],
         "xaxis": "x",
         "y": [
          118,
          117,
          117,
          118,
          118,
          118,
          115,
          115,
          115,
          118,
          118,
          114,
          112,
          115,
          106,
          103,
          101,
          99,
          99
         ],
         "yaxis": "y"
        },
        {
         "hovertemplate": "Unique_Title=indoor_plant_set_89_23<br>Curdate=%{x}<br>Ranking=%{y}<extra></extra>",
         "legendgroup": "indoor_plant_set_89_23",
         "line": {
          "color": "#ab63fa",
          "dash": "solid"
         },
         "marker": {
          "symbol": "circle"
         },
         "mode": "lines",
         "name": "indoor_plant_set_89_23",
         "showlegend": true,
         "type": "scattergl",
         "x": [
          "2024-11-26",
          "2024-11-27",
          "2024-11-28",
          "2024-11-29",
          "2024-11-30",
          "2024-12-01",
          "2024-12-02",
          "2024-12-03",
          "2024-12-04",
          "2024-12-05",
          "2024-12-06",
          "2024-12-07",
          "2024-12-08",
          "2024-12-09",
          "2024-12-11",
          "2024-12-12",
          "2024-12-13",
          "2024-12-14",
          "2024-12-15"
         ],
         "xaxis": "x",
         "y": [
          117,
          116,
          118,
          116,
          117,
          116,
          116,
          116,
          119,
          119,
          119,
          119,
          119,
          116,
          99,
          98,
          94,
          85,
          84
         ],
         "yaxis": "y"
        },
        {
         "hovertemplate": "Unique_Title=boucle_fabric<br>Curdate=%{x}<br>Ranking=%{y}<extra></extra>",
         "legendgroup": "boucle_fabric",
         "line": {
          "color": "#FFA15A",
          "dash": "solid"
         },
         "marker": {
          "symbol": "circle"
         },
         "mode": "lines",
         "name": "boucle_fabric",
         "showlegend": true,
         "type": "scattergl",
         "x": [
          "2024-11-26",
          "2024-11-27",
          "2024-11-28",
          "2024-11-29",
          "2024-11-30",
          "2024-12-01",
          "2024-12-02",
          "2024-12-03",
          "2024-12-04",
          "2024-12-05",
          "2024-12-06",
          "2024-12-07",
          "2024-12-08",
          "2024-12-09",
          "2024-12-11",
          "2024-12-12",
          "2024-12-13",
          "2024-12-14",
          "2024-12-15"
         ],
         "xaxis": "x",
         "y": [
          116,
          118,
          115,
          115,
          115,
          115,
          117,
          117,
          117,
          117,
          117,
          112,
          114,
          112,
          103,
          97,
          97,
          84,
          83
         ],
         "yaxis": "y"
        },
        {
         "hovertemplate": "Unique_Title=odezhda_dlia_garderoba_ng15<br>Curdate=%{x}<br>Ranking=%{y}<extra></extra>",
         "legendgroup": "odezhda_dlia_garderoba_ng15",
         "line": {
          "color": "#19d3f3",
          "dash": "solid"
         },
         "marker": {
          "symbol": "circle"
         },
         "mode": "lines",
         "name": "odezhda_dlia_garderoba_ng15",
         "showlegend": true,
         "type": "scattergl",
         "x": [
          "2024-11-26",
          "2024-11-27",
          "2024-11-28",
          "2024-11-29",
          "2024-11-30",
          "2024-12-01",
          "2024-12-02",
          "2024-12-03",
          "2024-12-04",
          "2024-12-05",
          "2024-12-06",
          "2024-12-07",
          "2024-12-08",
          "2024-12-09",
          "2024-12-11",
          "2024-12-12",
          "2024-12-13",
          "2024-12-14",
          "2024-12-15"
         ],
         "xaxis": "x",
         "y": [
          115,
          115,
          116,
          117,
          116,
          117,
          118,
          118,
          118,
          114,
          114,
          118,
          117,
          118,
          109,
          109,
          108,
          103,
          106
         ],
         "yaxis": "y"
        },
        {
         "hovertemplate": "Unique_Title=benuta_dave_rectangular_fur_rug_3_colors<br>Curdate=%{x}<br>Ranking=%{y}<extra></extra>",
         "legendgroup": "benuta_dave_rectangular_fur_rug_3_colors",
         "line": {
          "color": "#FF6692",
          "dash": "solid"
         },
         "marker": {
          "symbol": "circle"
         },
         "mode": "lines",
         "name": "benuta_dave_rectangular_fur_rug_3_colors",
         "showlegend": true,
         "type": "scattergl",
         "x": [
          "2024-11-26",
          "2024-11-27",
          "2024-11-28",
          "2024-11-29",
          "2024-11-30",
          "2024-12-01",
          "2024-12-02",
          "2024-12-03",
          "2024-12-04",
          "2024-12-05",
          "2024-12-06",
          "2024-12-07",
          "2024-12-08",
          "2024-12-09",
          "2024-12-11",
          "2024-12-12",
          "2024-12-13",
          "2024-12-14",
          "2024-12-15"
         ],
         "xaxis": "x",
         "y": [
          114,
          114,
          113,
          114,
          114,
          114,
          113,
          113,
          110,
          109,
          110,
          104,
          104,
          98,
          87,
          99,
          98,
          95,
          95
         ],
         "yaxis": "y"
        },
        {
         "hovertemplate": "Unique_Title=decorative_set_089_4<br>Curdate=%{x}<br>Ranking=%{y}<extra></extra>",
         "legendgroup": "decorative_set_089_4",
         "line": {
          "color": "#B6E880",
          "dash": "solid"
         },
         "marker": {
          "symbol": "circle"
         },
         "mode": "lines",
         "name": "decorative_set_089_4",
         "showlegend": true,
         "type": "scattergl",
         "x": [
          "2024-11-26",
          "2024-11-27",
          "2024-11-28",
          "2024-11-29",
          "2024-11-30",
          "2024-12-01",
          "2024-12-02",
          "2024-12-03",
          "2024-12-04",
          "2024-12-05",
          "2024-12-06",
          "2024-12-07",
          "2024-12-08",
          "2024-12-09",
          "2024-12-11",
          "2024-12-12",
          "2024-12-13",
          "2024-12-14",
          "2024-12-15"
         ],
         "xaxis": "x",
         "y": [
          113,
          113,
          114,
          111,
          111,
          111,
          110,
          110,
          108,
          107,
          106,
          102,
          102,
          97,
          85,
          87,
          87,
          93,
          93
         ],
         "yaxis": "y"
        },
        {
         "hovertemplate": "Unique_Title=kukhnia_10_6<br>Curdate=%{x}<br>Ranking=%{y}<extra></extra>",
         "legendgroup": "kukhnia_10_6",
         "line": {
          "color": "#FF97FF",
          "dash": "solid"
         },
         "marker": {
          "symbol": "circle"
         },
         "mode": "lines",
         "name": "kukhnia_10_6",
         "showlegend": true,
         "type": "scattergl",
         "x": [
          "2024-11-26",
          "2024-11-27",
          "2024-11-28",
          "2024-11-29",
          "2024-11-30",
          "2024-12-01",
          "2024-12-02",
          "2024-12-03",
          "2024-12-04",
          "2024-12-05",
          "2024-12-06",
          "2024-12-07",
          "2024-12-08",
          "2024-12-09",
          "2024-12-11",
          "2024-12-12",
          "2024-12-13",
          "2024-12-14",
          "2024-12-15"
         ],
         "xaxis": "x",
         "y": [
          112,
          112,
          111,
          112,
          112,
          110,
          111,
          111,
          111,
          111,
          109,
          109,
          109,
          113,
          104,
          105,
          107,
          100,
          100
         ],
         "yaxis": "y"
        },
        {
         "hovertemplate": "Unique_Title=shtory_s_rimskimi_shtorami_2<br>Curdate=%{x}<br>Ranking=%{y}<extra></extra>",
         "legendgroup": "shtory_s_rimskimi_shtorami_2",
         "line": {
          "color": "#FECB52",
          "dash": "solid"
         },
         "marker": {
          "symbol": "circle"
         },
         "mode": "lines",
         "name": "shtory_s_rimskimi_shtorami_2",
         "showlegend": true,
         "type": "scattergl",
         "x": [
          "2024-11-26",
          "2024-11-27",
          "2024-11-28",
          "2024-11-29",
          "2024-11-30",
          "2024-12-01",
          "2024-12-02",
          "2024-12-03",
          "2024-12-04",
          "2024-12-05",
          "2024-12-06",
          "2024-12-07",
          "2024-12-08",
          "2024-12-09",
          "2024-12-11",
          "2024-12-12",
          "2024-12-13",
          "2024-12-14",
          "2024-12-15"
         ],
         "xaxis": "x",
         "y": [
          111,
          111,
          112,
          113,
          113,
          112,
          112,
          112,
          113,
          112,
          112,
          108,
          108,
          100,
          92,
          84,
          82,
          81,
          80
         ],
         "yaxis": "y"
        },
        {
         "hovertemplate": "Unique_Title=decorative_set_088_2<br>Curdate=%{x}<br>Ranking=%{y}<extra></extra>",
         "legendgroup": "decorative_set_088_2",
         "line": {
          "color": "#636efa",
          "dash": "solid"
         },
         "marker": {
          "symbol": "circle"
         },
         "mode": "lines",
         "name": "decorative_set_088_2",
         "showlegend": true,
         "type": "scattergl",
         "x": [
          "2024-11-26",
          "2024-11-27",
          "2024-11-28",
          "2024-11-29",
          "2024-11-30",
          "2024-12-01",
          "2024-12-02",
          "2024-12-03",
          "2024-12-04",
          "2024-12-05",
          "2024-12-06",
          "2024-12-07",
          "2024-12-08",
          "2024-12-09",
          "2024-12-11",
          "2024-12-12",
          "2024-12-13",
          "2024-12-14",
          "2024-12-15"
         ],
         "xaxis": "x",
         "y": [
          110,
          110,
          110,
          106,
          106,
          98,
          63,
          85,
          94,
          73,
          72,
          59,
          57,
          48,
          58,
          58,
          65,
          83,
          82
         ],
         "yaxis": "y"
        },
        {
         "hovertemplate": "Unique_Title=a_set_of_clothes_in_bright_colors_for_a_wardrobe_or_showroom_and_a_store<br>Curdate=%{x}<br>Ranking=%{y}<extra></extra>",
         "legendgroup": "a_set_of_clothes_in_bright_colors_for_a_wardrobe_or_showroom_and_a_store",
         "line": {
          "color": "#EF553B",
          "dash": "solid"
         },
         "marker": {
          "symbol": "circle"
         },
         "mode": "lines",
         "name": "a_set_of_clothes_in_bright_colors_for_a_wardrobe_or_showroom_and_a_store",
         "showlegend": true,
         "type": "scattergl",
         "x": [
          "2024-11-26",
          "2024-11-27",
          "2024-11-28",
          "2024-11-29",
          "2024-11-30",
          "2024-12-01",
          "2024-12-02",
          "2024-12-03",
          "2024-12-04"
         ],
         "xaxis": "x",
         "y": [
          109,
          100,
          106,
          98,
          97,
          94,
          99,
          99,
          69
         ],
         "yaxis": "y"
        },
        {
         "hovertemplate": "Unique_Title=kreslo_ofisnoe_sergio_la_redoute<br>Curdate=%{x}<br>Ranking=%{y}<extra></extra>",
         "legendgroup": "kreslo_ofisnoe_sergio_la_redoute",
         "line": {
          "color": "#00cc96",
          "dash": "solid"
         },
         "marker": {
          "symbol": "circle"
         },
         "mode": "lines",
         "name": "kreslo_ofisnoe_sergio_la_redoute",
         "showlegend": true,
         "type": "scattergl",
         "x": [
          "2024-11-26",
          "2024-11-27",
          "2024-11-28",
          "2024-11-29",
          "2024-11-30",
          "2024-12-01",
          "2024-12-02",
          "2024-12-03",
          "2024-12-14",
          "2024-12-15"
         ],
         "xaxis": "x",
         "y": [
          108,
          107,
          99,
          62,
          64,
          63,
          24,
          25,
          57,
          57
         ],
         "yaxis": "y"
        },
        {
         "hovertemplate": "Unique_Title=tv_stena_s_lazernym_proektorom_xiaomi<br>Curdate=%{x}<br>Ranking=%{y}<extra></extra>",
         "legendgroup": "tv_stena_s_lazernym_proektorom_xiaomi",
         "line": {
          "color": "#ab63fa",
          "dash": "solid"
         },
         "marker": {
          "symbol": "circle"
         },
         "mode": "lines",
         "name": "tv_stena_s_lazernym_proektorom_xiaomi",
         "showlegend": true,
         "type": "scattergl",
         "x": [
          "2024-11-26",
          "2024-11-27",
          "2024-11-28",
          "2024-11-29",
          "2024-11-30",
          "2024-12-01",
          "2024-12-02",
          "2024-12-03",
          "2024-12-04",
          "2024-12-05",
          "2024-12-06",
          "2024-12-07",
          "2024-12-08",
          "2024-12-11",
          "2024-12-12",
          "2024-12-13",
          "2024-12-14",
          "2024-12-15"
         ],
         "xaxis": "x",
         "y": [
          107,
          101,
          101,
          101,
          101,
          79,
          77,
          76,
          75,
          24,
          23,
          16,
          16,
          46,
          20,
          26,
          47,
          47
         ],
         "yaxis": "y"
        },
        {
         "hovertemplate": "Unique_Title=garderobnaia_16_1<br>Curdate=%{x}<br>Ranking=%{y}<extra></extra>",
         "legendgroup": "garderobnaia_16_1",
         "line": {
          "color": "#FFA15A",
          "dash": "solid"
         },
         "marker": {
          "symbol": "circle"
         },
         "mode": "lines",
         "name": "garderobnaia_16_1",
         "showlegend": true,
         "type": "scattergl",
         "x": [
          "2024-11-26",
          "2024-11-27",
          "2024-11-28",
          "2024-11-29",
          "2024-11-30",
          "2024-12-01",
          "2024-12-02",
          "2024-12-03",
          "2024-12-04",
          "2024-12-05",
          "2024-12-06",
          "2024-12-07",
          "2024-12-08",
          "2024-12-09",
          "2024-12-11",
          "2024-12-12",
          "2024-12-13",
          "2024-12-14",
          "2024-12-15"
         ],
         "xaxis": "x",
         "y": [
          106,
          109,
          107,
          100,
          100,
          100,
          103,
          103,
          96,
          83,
          82,
          88,
          84,
          72,
          79,
          73,
          72,
          71,
          70
         ],
         "yaxis": "y"
        },
        {
         "hovertemplate": "Unique_Title=carpeting_seamless_carpet<br>Curdate=%{x}<br>Ranking=%{y}<extra></extra>",
         "legendgroup": "carpeting_seamless_carpet",
         "line": {
          "color": "#19d3f3",
          "dash": "solid"
         },
         "marker": {
          "symbol": "circle"
         },
         "mode": "lines",
         "name": "carpeting_seamless_carpet",
         "showlegend": true,
         "type": "scattergl",
         "x": [
          "2024-11-26",
          "2024-11-27",
          "2024-11-28",
          "2024-11-29",
          "2024-11-30",
          "2024-12-01",
          "2024-12-02",
          "2024-12-03",
          "2024-12-04",
          "2024-12-05",
          "2024-12-06",
          "2024-12-07",
          "2024-12-08",
          "2024-12-09",
          "2024-12-11",
          "2024-12-12"
         ],
         "xaxis": "x",
         "y": [
          105,
          108,
          109,
          110,
          110,
          109,
          105,
          105,
          104,
          102,
          103,
          92,
          87,
          84,
          64,
          35
         ],
         "yaxis": "y"
        },
        {
         "hovertemplate": "Unique_Title=roman_blinds_rimskie_shtory<br>Curdate=%{x}<br>Ranking=%{y}<extra></extra>",
         "legendgroup": "roman_blinds_rimskie_shtory",
         "line": {
          "color": "#FF6692",
          "dash": "solid"
         },
         "marker": {
          "symbol": "circle"
         },
         "mode": "lines",
         "name": "roman_blinds_rimskie_shtory",
         "showlegend": true,
         "type": "scattergl",
         "x": [
          "2024-11-26",
          "2024-11-27",
          "2024-11-28",
          "2024-11-29",
          "2024-11-30",
          "2024-12-01",
          "2024-12-02",
          "2024-12-03",
          "2024-12-05",
          "2024-12-06",
          "2024-12-07",
          "2024-12-08",
          "2024-12-09",
          "2024-12-12",
          "2024-12-13"
         ],
         "xaxis": "x",
         "y": [
          104,
          105,
          103,
          96,
          96,
          81,
          58,
          57,
          57,
          56,
          28,
          29,
          44,
          32,
          36
         ],
         "yaxis": "y"
        },
        {
         "hovertemplate": "Unique_Title=basic_wardrobe_made_of_cabinet_furniture_with_doors<br>Curdate=%{x}<br>Ranking=%{y}<extra></extra>",
         "legendgroup": "basic_wardrobe_made_of_cabinet_furniture_with_doors",
         "line": {
          "color": "#B6E880",
          "dash": "solid"
         },
         "marker": {
          "symbol": "circle"
         },
         "mode": "lines",
         "name": "basic_wardrobe_made_of_cabinet_furniture_with_doors",
         "showlegend": true,
         "type": "scattergl",
         "x": [
          "2024-11-26",
          "2024-11-27",
          "2024-11-28",
          "2024-11-29",
          "2024-11-30",
          "2024-12-01",
          "2024-12-02",
          "2024-12-03",
          "2024-12-04",
          "2024-12-05",
          "2024-12-06"
         ],
         "xaxis": "x",
         "y": [
          103,
          104,
          102,
          87,
          87,
          89,
          80,
          79,
          83,
          67,
          66
         ],
         "yaxis": "y"
        },
        {
         "hovertemplate": "Unique_Title=bathroom_decor_with_a_set_of_different_cosmetic_products<br>Curdate=%{x}<br>Ranking=%{y}<extra></extra>",
         "legendgroup": "bathroom_decor_with_a_set_of_different_cosmetic_products",
         "line": {
          "color": "#FF97FF",
          "dash": "solid"
         },
         "marker": {
          "symbol": "circle"
         },
         "mode": "lines",
         "name": "bathroom_decor_with_a_set_of_different_cosmetic_products",
         "showlegend": true,
         "type": "scattergl",
         "x": [
          "2024-11-26",
          "2024-11-27",
          "2024-11-28",
          "2024-11-29",
          "2024-11-30",
          "2024-12-01",
          "2024-12-02",
          "2024-12-03",
          "2024-12-04",
          "2024-12-05",
          "2024-12-06",
          "2024-12-07",
          "2024-12-08",
          "2024-12-09",
          "2024-12-11",
          "2024-12-12",
          "2024-12-13",
          "2024-12-14",
          "2024-12-15"
         ],
         "xaxis": "x",
         "y": [
          102,
          96,
          95,
          108,
          108,
          106,
          108,
          108,
          107,
          103,
          97,
          99,
          94,
          94,
          86,
          88,
          86,
          46,
          45
         ],
         "yaxis": "y"
        },
        {
         "hovertemplate": "Unique_Title=cecily_nara_prikrovatnaia_tumba_cosmo<br>Curdate=%{x}<br>Ranking=%{y}<extra></extra>",
         "legendgroup": "cecily_nara_prikrovatnaia_tumba_cosmo",
         "line": {
          "color": "#FECB52",
          "dash": "solid"
         },
         "marker": {
          "symbol": "circle"
         },
         "mode": "lines",
         "name": "cecily_nara_prikrovatnaia_tumba_cosmo",
         "showlegend": true,
         "type": "scattergl",
         "x": [
          "2024-11-26",
          "2024-11-27",
          "2024-11-28",
          "2024-11-29",
          "2024-11-30",
          "2024-12-01",
          "2024-12-04",
          "2024-12-05",
          "2024-12-06",
          "2024-12-07",
          "2024-12-08",
          "2024-12-11",
          "2024-12-12",
          "2024-12-14",
          "2024-12-15"
         ],
         "xaxis": "x",
         "y": [
          101,
          89,
          86,
          80,
          80,
          43,
          76,
          88,
          87,
          31,
          32,
          13,
          13,
          32,
          31
         ],
         "yaxis": "y"
        },
        {
         "hovertemplate": "Unique_Title=kerns_tumba_divan_ru<br>Curdate=%{x}<br>Ranking=%{y}<extra></extra>",
         "legendgroup": "kerns_tumba_divan_ru",
         "line": {
          "color": "#636efa",
          "dash": "solid"
         },
         "marker": {
          "symbol": "circle"
         },
         "mode": "lines",
         "name": "kerns_tumba_divan_ru",
         "showlegend": true,
         "type": "scattergl",
         "x": [
          "2024-11-26",
          "2024-11-27",
          "2024-11-28",
          "2024-11-29",
          "2024-11-30",
          "2024-12-01",
          "2024-12-02",
          "2024-12-03",
          "2024-12-04",
          "2024-12-05",
          "2024-12-06",
          "2024-12-07",
          "2024-12-08",
          "2024-12-09",
          "2024-12-11",
          "2024-12-12",
          "2024-12-13",
          "2024-12-14",
          "2024-12-15"
         ],
         "xaxis": "x",
         "y": [
          100,
          106,
          105,
          107,
          107,
          107,
          106,
          106,
          99,
          99,
          100,
          106,
          105,
          91,
          90,
          91,
          96,
          98,
          98
         ],
         "yaxis": "y"
        },
        {
         "hovertemplate": "Unique_Title=sneg_4<br>Curdate=%{x}<br>Ranking=%{y}<extra></extra>",
         "legendgroup": "sneg_4",
         "line": {
          "color": "#EF553B",
          "dash": "solid"
         },
         "marker": {
          "symbol": "circle"
         },
         "mode": "lines",
         "name": "sneg_4",
         "showlegend": true,
         "type": "scattergl",
         "x": [
          "2024-11-26",
          "2024-11-27",
          "2024-11-28",
          "2024-11-29",
          "2024-11-30",
          "2024-12-01",
          "2024-12-02",
          "2024-12-03",
          "2024-12-04",
          "2024-12-05",
          "2024-12-06",
          "2024-12-07",
          "2024-12-08",
          "2024-12-09",
          "2024-12-11",
          "2024-12-12",
          "2024-12-13",
          "2024-12-14",
          "2024-12-15"
         ],
         "xaxis": "x",
         "y": [
          99,
          98,
          97,
          102,
          102,
          105,
          95,
          94,
          109,
          98,
          99,
          91,
          86,
          83,
          81,
          86,
          80,
          72,
          71
         ],
         "yaxis": "y"
        },
        {
         "hovertemplate": "Unique_Title=glass_block_wall_08<br>Curdate=%{x}<br>Ranking=%{y}<extra></extra>",
         "legendgroup": "glass_block_wall_08",
         "line": {
          "color": "#00cc96",
          "dash": "solid"
         },
         "marker": {
          "symbol": "circle"
         },
         "mode": "lines",
         "name": "glass_block_wall_08",
         "showlegend": true,
         "type": "scattergl",
         "x": [
          "2024-11-26",
          "2024-11-27",
          "2024-11-28",
          "2024-11-29",
          "2024-11-30",
          "2024-12-01",
          "2024-12-02",
          "2024-12-03",
          "2024-12-04",
          "2024-12-05",
          "2024-12-06",
          "2024-12-07",
          "2024-12-08",
          "2024-12-09",
          "2024-12-11",
          "2024-12-12",
          "2024-12-13",
          "2024-12-14",
          "2024-12-15"
         ],
         "xaxis": "x",
         "y": [
          98,
          97,
          96,
          86,
          85,
          87,
          93,
          91,
          59,
          51,
          50,
          38,
          39,
          54,
          80,
          74,
          67,
          76,
          76
         ],
         "yaxis": "y"
        },
        {
         "hovertemplate": "Unique_Title=faucets_and_showers_boheme_uno_set_2<br>Curdate=%{x}<br>Ranking=%{y}<extra></extra>",
         "legendgroup": "faucets_and_showers_boheme_uno_set_2",
         "line": {
          "color": "#ab63fa",
          "dash": "solid"
         },
         "marker": {
          "symbol": "circle"
         },
         "mode": "lines",
         "name": "faucets_and_showers_boheme_uno_set_2",
         "showlegend": true,
         "type": "scattergl",
         "x": [
          "2024-11-26",
          "2024-11-27",
          "2024-11-28",
          "2024-11-29",
          "2024-11-30",
          "2024-12-01",
          "2024-12-02",
          "2024-12-03",
          "2024-12-04",
          "2024-12-05",
          "2024-12-06",
          "2024-12-07",
          "2024-12-08",
          "2024-12-09",
          "2024-12-11",
          "2024-12-12",
          "2024-12-13",
          "2024-12-14",
          "2024-12-15"
         ],
         "xaxis": "x",
         "y": [
          97,
          84,
          89,
          104,
          104,
          99,
          102,
          102,
          92,
          89,
          88,
          87,
          83,
          86,
          78,
          83,
          81,
          77,
          77
         ],
         "yaxis": "y"
        },
        {
         "hovertemplate": "Unique_Title=keramogranit_nolana_estima<br>Curdate=%{x}<br>Ranking=%{y}<extra></extra>",
         "legendgroup": "keramogranit_nolana_estima",
         "line": {
          "color": "#FFA15A",
          "dash": "solid"
         },
         "marker": {
          "symbol": "circle"
         },
         "mode": "lines",
         "name": "keramogranit_nolana_estima",
         "showlegend": true,
         "type": "scattergl",
         "x": [
          "2024-11-26",
          "2024-11-27",
          "2024-11-28",
          "2024-11-29",
          "2024-11-30",
          "2024-12-01",
          "2024-12-02",
          "2024-12-03",
          "2024-12-04",
          "2024-12-05",
          "2024-12-06",
          "2024-12-07",
          "2024-12-08",
          "2024-12-09",
          "2024-12-11",
          "2024-12-13"
         ],
         "xaxis": "x",
         "y": [
          96,
          95,
          88,
          91,
          90,
          97,
          101,
          101,
          87,
          81,
          80,
          80,
          76,
          64,
          17,
          19
         ],
         "yaxis": "y"
        },
        {
         "hovertemplate": "Unique_Title=smesiteli_omnires<br>Curdate=%{x}<br>Ranking=%{y}<extra></extra>",
         "legendgroup": "smesiteli_omnires",
         "line": {
          "color": "#19d3f3",
          "dash": "solid"
         },
         "marker": {
          "symbol": "circle"
         },
         "mode": "lines",
         "name": "smesiteli_omnires",
         "showlegend": true,
         "type": "scattergl",
         "x": [
          "2024-11-26",
          "2024-11-27",
          "2024-11-28",
          "2024-11-29",
          "2024-11-30",
          "2024-12-01",
          "2024-12-02",
          "2024-12-03",
          "2024-12-04",
          "2024-12-05",
          "2024-12-06",
          "2024-12-07",
          "2024-12-08",
          "2024-12-09",
          "2024-12-11"
         ],
         "xaxis": "x",
         "y": [
          95,
          103,
          100,
          95,
          94,
          108,
          96,
          96,
          86,
          94,
          78,
          56,
          54,
          63,
          15
         ],
         "yaxis": "y"
        },
        {
         "hovertemplate": "Unique_Title=3dart_relef_ng41<br>Curdate=%{x}<br>Ranking=%{y}<extra></extra>",
         "legendgroup": "3dart_relef_ng41",
         "line": {
          "color": "#FF6692",
          "dash": "solid"
         },
         "marker": {
          "symbol": "circle"
         },
         "mode": "lines",
         "name": "3dart_relef_ng41",
         "showlegend": true,
         "type": "scattergl",
         "x": [
          "2024-11-26",
          "2024-11-27",
          "2024-11-28",
          "2024-11-29",
          "2024-11-30",
          "2024-12-01",
          "2024-12-02",
          "2024-12-03",
          "2024-12-04",
          "2024-12-05",
          "2024-12-06",
          "2024-12-07",
          "2024-12-08",
          "2024-12-09"
         ],
         "xaxis": "x",
         "y": [
          94,
          90,
          78,
          73,
          73,
          44,
          61,
          60,
          67,
          42,
          41,
          53,
          51,
          31
         ],
         "yaxis": "y"
        },
        {
         "hovertemplate": "Unique_Title=decorative_set_270_1<br>Curdate=%{x}<br>Ranking=%{y}<extra></extra>",
         "legendgroup": "decorative_set_270_1",
         "line": {
          "color": "#B6E880",
          "dash": "solid"
         },
         "marker": {
          "symbol": "circle"
         },
         "mode": "lines",
         "name": "decorative_set_270_1",
         "showlegend": true,
         "type": "scattergl",
         "x": [
          "2024-11-26",
          "2024-11-27",
          "2024-11-28",
          "2024-11-29",
          "2024-11-30",
          "2024-12-02",
          "2024-12-03",
          "2024-12-04"
         ],
         "xaxis": "x",
         "y": [
          93,
          93,
          59,
          39,
          41,
          21,
          22,
          7
         ],
         "yaxis": "y"
        },
        {
         "hovertemplate": "Unique_Title=reshetki_dlia_ventiliatsii_i_konditsionirovaniia_redvent<br>Curdate=%{x}<br>Ranking=%{y}<extra></extra>",
         "legendgroup": "reshetki_dlia_ventiliatsii_i_konditsionirovaniia_redvent",
         "line": {
          "color": "#FF97FF",
          "dash": "solid"
         },
         "marker": {
          "symbol": "circle"
         },
         "mode": "lines",
         "name": "reshetki_dlia_ventiliatsii_i_konditsionirovaniia_redvent",
         "showlegend": true,
         "type": "scattergl",
         "x": [
          "2024-11-26",
          "2024-11-27",
          "2024-11-28",
          "2024-11-29",
          "2024-11-30",
          "2024-12-01",
          "2024-12-02",
          "2024-12-03",
          "2024-12-04",
          "2024-12-05",
          "2024-12-06",
          "2024-12-07",
          "2024-12-08",
          "2024-12-09",
          "2024-12-11",
          "2024-12-12",
          "2024-12-13",
          "2024-12-14",
          "2024-12-15"
         ],
         "xaxis": "x",
         "y": [
          92,
          82,
          93,
          103,
          103,
          93,
          98,
          98,
          103,
          95,
          94,
          95,
          91,
          92,
          84,
          80,
          78,
          74,
          73
         ],
         "yaxis": "y"
        },
        {
         "hovertemplate": "Unique_Title=kitchen_0252<br>Curdate=%{x}<br>Ranking=%{y}<extra></extra>",
         "legendgroup": "kitchen_0252",
         "line": {
          "color": "#FECB52",
          "dash": "solid"
         },
         "marker": {
          "symbol": "circle"
         },
         "mode": "lines",
         "name": "kitchen_0252",
         "showlegend": true,
         "type": "scattergl",
         "x": [
          "2024-11-26",
          "2024-11-27",
          "2024-11-28",
          "2024-11-29",
          "2024-11-30",
          "2024-12-01",
          "2024-12-02",
          "2024-12-03",
          "2024-12-04",
          "2024-12-05",
          "2024-12-06",
          "2024-12-09"
         ],
         "xaxis": "x",
         "y": [
          91,
          69,
          85,
          69,
          61,
          61,
          59,
          58,
          64,
          56,
          55,
          24
         ],
         "yaxis": "y"
        },
        {
         "hovertemplate": "Unique_Title=garderobnaia_28<br>Curdate=%{x}<br>Ranking=%{y}<extra></extra>",
         "legendgroup": "garderobnaia_28",
         "line": {
          "color": "#636efa",
          "dash": "solid"
         },
         "marker": {
          "symbol": "circle"
         },
         "mode": "lines",
         "name": "garderobnaia_28",
         "showlegend": true,
         "type": "scattergl",
         "x": [
          "2024-11-26",
          "2024-11-27",
          "2024-11-28",
          "2024-11-29",
          "2024-11-30",
          "2024-12-01",
          "2024-12-02",
          "2024-12-03",
          "2024-12-04",
          "2024-12-05",
          "2024-12-06",
          "2024-12-07",
          "2024-12-08",
          "2024-12-09",
          "2024-12-11",
          "2024-12-12",
          "2024-12-13",
          "2024-12-14",
          "2024-12-15"
         ],
         "xaxis": "x",
         "y": [
          90,
          99,
          108,
          109,
          109,
          113,
          114,
          114,
          114,
          116,
          116,
          117,
          116,
          110,
          105,
          107,
          106,
          106,
          103
         ],
         "yaxis": "y"
        },
        {
         "hovertemplate": "Unique_Title=interactive_panel_for_children_room<br>Curdate=%{x}<br>Ranking=%{y}<extra></extra>",
         "legendgroup": "interactive_panel_for_children_room",
         "line": {
          "color": "#EF553B",
          "dash": "solid"
         },
         "marker": {
          "symbol": "circle"
         },
         "mode": "lines",
         "name": "interactive_panel_for_children_room",
         "showlegend": true,
         "type": "scattergl",
         "x": [
          "2024-11-26",
          "2024-11-27",
          "2024-11-28",
          "2024-11-29",
          "2024-11-30",
          "2024-12-01",
          "2024-12-02",
          "2024-12-03",
          "2024-12-04"
         ],
         "xaxis": "x",
         "y": [
          89,
          73,
          43,
          43,
          23,
          27,
          48,
          48,
          44
         ],
         "yaxis": "y"
        },
        {
         "hovertemplate": "Unique_Title=kitchen_appliance_bosch_kitchen_81_2<br>Curdate=%{x}<br>Ranking=%{y}<extra></extra>",
         "legendgroup": "kitchen_appliance_bosch_kitchen_81_2",
         "line": {
          "color": "#00cc96",
          "dash": "solid"
         },
         "marker": {
          "symbol": "circle"
         },
         "mode": "lines",
         "name": "kitchen_appliance_bosch_kitchen_81_2",
         "showlegend": true,
         "type": "scattergl",
         "x": [
          "2024-11-26",
          "2024-11-27",
          "2024-11-28",
          "2024-11-29",
          "2024-11-30",
          "2024-12-01",
          "2024-12-02",
          "2024-12-03",
          "2024-12-04"
         ],
         "xaxis": "x",
         "y": [
          88,
          58,
          40,
          40,
          42,
          22,
          3,
          3,
          13
         ],
         "yaxis": "y"
        },
        {
         "hovertemplate": "Unique_Title=children_play_area_interactive<br>Curdate=%{x}<br>Ranking=%{y}<extra></extra>",
         "legendgroup": "children_play_area_interactive",
         "line": {
          "color": "#ab63fa",
          "dash": "solid"
         },
         "marker": {
          "symbol": "circle"
         },
         "mode": "lines",
         "name": "children_play_area_interactive",
         "showlegend": true,
         "type": "scattergl",
         "x": [
          "2024-11-26",
          "2024-11-27",
          "2024-11-28",
          "2024-11-29",
          "2024-11-30",
          "2024-12-01",
          "2024-12-02",
          "2024-12-03",
          "2024-12-04",
          "2024-12-05",
          "2024-12-06",
          "2024-12-07",
          "2024-12-08",
          "2024-12-09",
          "2024-12-11",
          "2024-12-12",
          "2024-12-13",
          "2024-12-14",
          "2024-12-15"
         ],
         "xaxis": "x",
         "y": [
          87,
          87,
          98,
          70,
          70,
          82,
          82,
          81,
          91,
          97,
          98,
          100,
          97,
          82,
          51,
          78,
          58,
          67,
          65
         ],
         "yaxis": "y"
        },
        {
         "hovertemplate": "Unique_Title=siena_kids_bed_by_como_5<br>Curdate=%{x}<br>Ranking=%{y}<extra></extra>",
         "legendgroup": "siena_kids_bed_by_como_5",
         "line": {
          "color": "#FFA15A",
          "dash": "solid"
         },
         "marker": {
          "symbol": "circle"
         },
         "mode": "lines",
         "name": "siena_kids_bed_by_como_5",
         "showlegend": true,
         "type": "scattergl",
         "x": [
          "2024-11-26",
          "2024-11-27",
          "2024-11-28",
          "2024-11-29",
          "2024-11-30",
          "2024-12-01",
          "2024-12-02",
          "2024-12-03",
          "2024-12-04",
          "2024-12-05",
          "2024-12-06",
          "2024-12-07",
          "2024-12-08",
          "2024-12-09"
         ],
         "xaxis": "x",
         "y": [
          86,
          92,
          92,
          93,
          92,
          101,
          104,
          104,
          97,
          92,
          91,
          66,
          63,
          52
         ],
         "yaxis": "y"
        },
        {
         "hovertemplate": "Unique_Title=padel_padel<br>Curdate=%{x}<br>Ranking=%{y}<extra></extra>",
         "legendgroup": "padel_padel",
         "line": {
          "color": "#19d3f3",
          "dash": "solid"
         },
         "marker": {
          "symbol": "circle"
         },
         "mode": "lines",
         "name": "padel_padel",
         "showlegend": true,
         "type": "scattergl",
         "x": [
          "2024-11-26",
          "2024-11-27",
          "2024-11-28",
          "2024-11-29",
          "2024-11-30",
          "2024-12-01",
          "2024-12-02",
          "2024-12-03",
          "2024-12-04",
          "2024-12-05",
          "2024-12-06",
          "2024-12-07",
          "2024-12-08",
          "2024-12-09",
          "2024-12-11",
          "2024-12-12",
          "2024-12-13",
          "2024-12-14",
          "2024-12-15"
         ],
         "xaxis": "x",
         "y": [
          85,
          77,
          91,
          92,
          91,
          77,
          75,
          74,
          57,
          62,
          61,
          37,
          38,
          39,
          43,
          43,
          23,
          16,
          18
         ],
         "yaxis": "y"
        },
        {
         "hovertemplate": "Unique_Title=robot_pylesos_xiaomi_robot_vacuum_cleaner_x20<br>Curdate=%{x}<br>Ranking=%{y}<extra></extra>",
         "legendgroup": "robot_pylesos_xiaomi_robot_vacuum_cleaner_x20",
         "line": {
          "color": "#FF6692",
          "dash": "solid"
         },
         "marker": {
          "symbol": "circle"
         },
         "mode": "lines",
         "name": "robot_pylesos_xiaomi_robot_vacuum_cleaner_x20",
         "showlegend": true,
         "type": "scattergl",
         "x": [
          "2024-11-26",
          "2024-11-27",
          "2024-11-28",
          "2024-11-29",
          "2024-11-30",
          "2024-12-01",
          "2024-12-02",
          "2024-12-03",
          "2024-12-04",
          "2024-12-05",
          "2024-12-06",
          "2024-12-07",
          "2024-12-08",
          "2024-12-09"
         ],
         "xaxis": "x",
         "y": [
          84,
          76,
          90,
          85,
          84,
          52,
          9,
          10,
          55,
          49,
          49,
          36,
          37,
          6
         ],
         "yaxis": "y"
        },
        {
         "hovertemplate": "Unique_Title=vino_s_shokoladom_set_1<br>Curdate=%{x}<br>Ranking=%{y}<extra></extra>",
         "legendgroup": "vino_s_shokoladom_set_1",
         "line": {
          "color": "#B6E880",
          "dash": "solid"
         },
         "marker": {
          "symbol": "circle"
         },
         "mode": "lines",
         "name": "vino_s_shokoladom_set_1",
         "showlegend": true,
         "type": "scattergl",
         "x": [
          "2024-11-26",
          "2024-11-27",
          "2024-11-28",
          "2024-11-29",
          "2024-11-30",
          "2024-12-01",
          "2024-12-02",
          "2024-12-03",
          "2024-12-04",
          "2024-12-05",
          "2024-12-06",
          "2024-12-07",
          "2024-12-08",
          "2024-12-09",
          "2024-12-11",
          "2024-12-12",
          "2024-12-13"
         ],
         "xaxis": "x",
         "y": [
          83,
          85,
          76,
          64,
          66,
          67,
          49,
          61,
          79,
          82,
          81,
          74,
          70,
          71,
          67,
          59,
          20
         ],
         "yaxis": "y"
        },
        {
         "hovertemplate": "Unique_Title=buket_sireni_v_stekliannoi_vaze_1<br>Curdate=%{x}<br>Ranking=%{y}<extra></extra>",
         "legendgroup": "buket_sireni_v_stekliannoi_vaze_1",
         "line": {
          "color": "#FF97FF",
          "dash": "solid"
         },
         "marker": {
          "symbol": "circle"
         },
         "mode": "lines",
         "name": "buket_sireni_v_stekliannoi_vaze_1",
         "showlegend": true,
         "type": "scattergl",
         "x": [
          "2024-11-26",
          "2024-11-27",
          "2024-11-28",
          "2024-11-29",
          "2024-11-30",
          "2024-12-01",
          "2024-12-02",
          "2024-12-03",
          "2024-12-04",
          "2024-12-05",
          "2024-12-06",
          "2024-12-07",
          "2024-12-08",
          "2024-12-11",
          "2024-12-12",
          "2024-12-13",
          "2024-12-14",
          "2024-12-15"
         ],
         "xaxis": "x",
         "y": [
          82,
          91,
          72,
          61,
          63,
          62,
          85,
          84,
          106,
          101,
          102,
          86,
          82,
          56,
          34,
          38,
          33,
          32
         ],
         "yaxis": "y"
        },
        {
         "hovertemplate": "Unique_Title=moooi_drape_lights<br>Curdate=%{x}<br>Ranking=%{y}<extra></extra>",
         "legendgroup": "moooi_drape_lights",
         "line": {
          "color": "#FECB52",
          "dash": "solid"
         },
         "marker": {
          "symbol": "circle"
         },
         "mode": "lines",
         "name": "moooi_drape_lights",
         "showlegend": true,
         "type": "scattergl",
         "x": [
          "2024-11-26",
          "2024-11-27",
          "2024-11-28",
          "2024-11-29",
          "2024-11-30",
          "2024-12-01",
          "2024-12-02",
          "2024-12-04",
          "2024-12-05",
          "2024-12-06"
         ],
         "xaxis": "x",
         "y": [
          81,
          102,
          94,
          89,
          88,
          83,
          62,
          40,
          7,
          6
         ],
         "yaxis": "y"
        },
        {
         "hovertemplate": "Unique_Title=pila_vessels_en_gold_kuvshin<br>Curdate=%{x}<br>Ranking=%{y}<extra></extra>",
         "legendgroup": "pila_vessels_en_gold_kuvshin",
         "line": {
          "color": "#636efa",
          "dash": "solid"
         },
         "marker": {
          "symbol": "circle"
         },
         "mode": "lines",
         "name": "pila_vessels_en_gold_kuvshin",
         "showlegend": true,
         "type": "scattergl",
         "x": [
          "2024-11-26",
          "2024-11-27",
          "2024-11-28",
          "2024-11-29",
          "2024-11-30",
          "2024-12-01",
          "2024-12-02",
          "2024-12-03",
          "2024-12-04",
          "2024-12-06",
          "2024-12-07",
          "2024-12-12"
         ],
         "xaxis": "x",
         "y": [
          80,
          53,
          57,
          72,
          72,
          72,
          90,
          89,
          53,
          5,
          50,
          12
         ],
         "yaxis": "y"
        },
        {
         "hovertemplate": "Unique_Title=panel_s_volnami<br>Curdate=%{x}<br>Ranking=%{y}<extra></extra>",
         "legendgroup": "panel_s_volnami",
         "line": {
          "color": "#EF553B",
          "dash": "solid"
         },
         "marker": {
          "symbol": "circle"
         },
         "mode": "lines",
         "name": "panel_s_volnami",
         "showlegend": true,
         "type": "scattergl",
         "x": [
          "2024-11-26",
          "2024-11-27",
          "2024-11-28",
          "2024-11-29",
          "2024-11-30",
          "2024-12-01",
          "2024-12-02",
          "2024-12-03",
          "2024-12-04"
         ],
         "xaxis": "x",
         "y": [
          79,
          63,
          67,
          49,
          50,
          53,
          52,
          51,
          21
         ],
         "yaxis": "y"
        },
        {
         "hovertemplate": "Unique_Title=mebel_dlia_vannoi_komnaty_21<br>Curdate=%{x}<br>Ranking=%{y}<extra></extra>",
         "legendgroup": "mebel_dlia_vannoi_komnaty_21",
         "line": {
          "color": "#00cc96",
          "dash": "solid"
         },
         "marker": {
          "symbol": "circle"
         },
         "mode": "lines",
         "name": "mebel_dlia_vannoi_komnaty_21",
         "showlegend": true,
         "type": "scattergl",
         "x": [
          "2024-11-26",
          "2024-11-27",
          "2024-11-28",
          "2024-11-29",
          "2024-11-30",
          "2024-12-01",
          "2024-12-02",
          "2024-12-03"
         ],
         "xaxis": "x",
         "y": [
          78,
          72,
          80,
          74,
          74,
          66,
          47,
          47
         ],
         "yaxis": "y"
        },
        {
         "hovertemplate": "Unique_Title=garage_tools_set_23_1<br>Curdate=%{x}<br>Ranking=%{y}<extra></extra>",
         "legendgroup": "garage_tools_set_23_1",
         "line": {
          "color": "#ab63fa",
          "dash": "solid"
         },
         "marker": {
          "symbol": "circle"
         },
         "mode": "lines",
         "name": "garage_tools_set_23_1",
         "showlegend": true,
         "type": "scattergl",
         "x": [
          "2024-11-26",
          "2024-11-27",
          "2024-11-28",
          "2024-11-29",
          "2024-11-30",
          "2024-12-01"
         ],
         "xaxis": "x",
         "y": [
          77,
          59,
          75,
          41,
          43,
          5
         ],
         "yaxis": "y"
        },
        {
         "hovertemplate": "Unique_Title=bathroom_decor_set_p06<br>Curdate=%{x}<br>Ranking=%{y}<extra></extra>",
         "legendgroup": "bathroom_decor_set_p06",
         "line": {
          "color": "#FFA15A",
          "dash": "solid"
         },
         "marker": {
          "symbol": "circle"
         },
         "mode": "lines",
         "name": "bathroom_decor_set_p06",
         "showlegend": true,
         "type": "scattergl",
         "x": [
          "2024-11-26",
          "2024-11-27",
          "2024-11-28",
          "2024-11-29",
          "2024-11-30",
          "2024-12-01",
          "2024-12-02",
          "2024-12-03",
          "2024-12-04",
          "2024-12-05",
          "2024-12-06",
          "2024-12-07",
          "2024-12-08"
         ],
         "xaxis": "x",
         "y": [
          76,
          94,
          87,
          99,
          98,
          96,
          91,
          95,
          93,
          78,
          76,
          8,
          7
         ],
         "yaxis": "y"
        },
        {
         "hovertemplate": "Unique_Title=flat_metal_material<br>Curdate=%{x}<br>Ranking=%{y}<extra></extra>",
         "legendgroup": "flat_metal_material",
         "line": {
          "color": "#19d3f3",
          "dash": "solid"
         },
         "marker": {
          "symbol": "circle"
         },
         "mode": "lines",
         "name": "flat_metal_material",
         "showlegend": true,
         "type": "scattergl",
         "x": [
          "2024-11-26",
          "2024-11-27",
          "2024-11-29",
          "2024-11-30",
          "2024-12-01",
          "2024-12-02",
          "2024-12-03",
          "2024-12-04",
          "2024-12-05",
          "2024-12-06",
          "2024-12-07",
          "2024-12-08",
          "2024-12-11",
          "2024-12-12",
          "2024-12-13",
          "2024-12-14",
          "2024-12-15"
         ],
         "xaxis": "x",
         "y": [
          75,
          57,
          22,
          20,
          4,
          26,
          27,
          41,
          44,
          44,
          7,
          6,
          38,
          56,
          63,
          34,
          33
         ],
         "yaxis": "y"
        },
        {
         "hovertemplate": "Unique_Title=milam_stul_divan_ru<br>Curdate=%{x}<br>Ranking=%{y}<extra></extra>",
         "legendgroup": "milam_stul_divan_ru",
         "line": {
          "color": "#FF6692",
          "dash": "solid"
         },
         "marker": {
          "symbol": "circle"
         },
         "mode": "lines",
         "name": "milam_stul_divan_ru",
         "showlegend": true,
         "type": "scattergl",
         "x": [
          "2024-11-26",
          "2024-11-27",
          "2024-11-28",
          "2024-11-29",
          "2024-11-30",
          "2024-12-01",
          "2024-12-02",
          "2024-12-03",
          "2024-12-04",
          "2024-12-05",
          "2024-12-06"
         ],
         "xaxis": "x",
         "y": [
          74,
          71,
          73,
          90,
          89,
          95,
          72,
          71,
          12,
          9,
          9
         ],
         "yaxis": "y"
        },
        {
         "hovertemplate": "Unique_Title=curtains_9_12<br>Curdate=%{x}<br>Ranking=%{y}<extra></extra>",
         "legendgroup": "curtains_9_12",
         "line": {
          "color": "#B6E880",
          "dash": "solid"
         },
         "marker": {
          "symbol": "circle"
         },
         "mode": "lines",
         "name": "curtains_9_12",
         "showlegend": true,
         "type": "scattergl",
         "x": [
          "2024-11-26",
          "2024-11-27",
          "2024-11-28",
          "2024-11-29",
          "2024-11-30",
          "2024-12-01",
          "2024-12-02",
          "2024-12-03",
          "2024-12-04",
          "2024-12-05",
          "2024-12-06",
          "2024-12-07",
          "2024-12-08",
          "2024-12-09",
          "2024-12-13"
         ],
         "xaxis": "x",
         "y": [
          73,
          35,
          39,
          20,
          18,
          3,
          1,
          2,
          54,
          71,
          70,
          73,
          69,
          61,
          16
         ],
         "yaxis": "y"
        },
        {
         "hovertemplate": "Unique_Title=parketnaia_doska_4_1<br>Curdate=%{x}<br>Ranking=%{y}<extra></extra>",
         "legendgroup": "parketnaia_doska_4_1",
         "line": {
          "color": "#FF97FF",
          "dash": "solid"
         },
         "marker": {
          "symbol": "circle"
         },
         "mode": "lines",
         "name": "parketnaia_doska_4_1",
         "showlegend": true,
         "type": "scattergl",
         "x": [
          "2024-11-26",
          "2024-11-27",
          "2024-11-28",
          "2024-11-29",
          "2024-11-30",
          "2024-12-01",
          "2024-12-02",
          "2024-12-03",
          "2024-12-04",
          "2024-12-05",
          "2024-12-06",
          "2024-12-07",
          "2024-12-08",
          "2024-12-09",
          "2024-12-11",
          "2024-12-12",
          "2024-12-13",
          "2024-12-14",
          "2024-12-15"
         ],
         "xaxis": "x",
         "y": [
          72,
          70,
          60,
          81,
          81,
          84,
          84,
          83,
          84,
          75,
          93,
          85,
          81,
          78,
          73,
          71,
          73,
          56,
          56
         ],
         "yaxis": "y"
        },
        {
         "hovertemplate": "Unique_Title=west_elm_curved_modern_upholstered_bed_9<br>Curdate=%{x}<br>Ranking=%{y}<extra></extra>",
         "legendgroup": "west_elm_curved_modern_upholstered_bed_9",
         "line": {
          "color": "#FECB52",
          "dash": "solid"
         },
         "marker": {
          "symbol": "circle"
         },
         "mode": "lines",
         "name": "west_elm_curved_modern_upholstered_bed_9",
         "showlegend": true,
         "type": "scattergl",
         "x": [
          "2024-11-26",
          "2024-11-27",
          "2024-11-28",
          "2024-11-29",
          "2024-11-30",
          "2024-12-04",
          "2024-12-05",
          "2024-12-06",
          "2024-12-07",
          "2024-12-08",
          "2024-12-09",
          "2024-12-11",
          "2024-12-12",
          "2024-12-14",
          "2024-12-15"
         ],
         "xaxis": "x",
         "y": [
          71,
          81,
          77,
          71,
          71,
          6,
          5,
          4,
          49,
          48,
          59,
          50,
          11,
          45,
          44
         ],
         "yaxis": "y"
        },
        {
         "hovertemplate": "Unique_Title=lindsi_lori_zhurnalnyi_stolik_divan_ru<br>Curdate=%{x}<br>Ranking=%{y}<extra></extra>",
         "legendgroup": "lindsi_lori_zhurnalnyi_stolik_divan_ru",
         "line": {
          "color": "#636efa",
          "dash": "solid"
         },
         "marker": {
          "symbol": "circle"
         },
         "mode": "lines",
         "name": "lindsi_lori_zhurnalnyi_stolik_divan_ru",
         "showlegend": true,
         "type": "scattergl",
         "x": [
          "2024-11-26",
          "2024-11-27",
          "2024-11-28",
          "2024-11-29",
          "2024-11-30",
          "2024-12-01",
          "2024-12-02",
          "2024-12-03",
          "2024-12-04",
          "2024-12-05",
          "2024-12-06",
          "2024-12-07",
          "2024-12-08",
          "2024-12-09",
          "2024-12-11",
          "2024-12-14",
          "2024-12-15"
         ],
         "xaxis": "x",
         "y": [
          70,
          88,
          84,
          97,
          95,
          71,
          42,
          41,
          63,
          39,
          54,
          27,
          28,
          25,
          11,
          44,
          43
         ],
         "yaxis": "y"
        },
        {
         "hovertemplate": "Unique_Title=minotti_pilotis_bench<br>Curdate=%{x}<br>Ranking=%{y}<extra></extra>",
         "legendgroup": "minotti_pilotis_bench",
         "line": {
          "color": "#EF553B",
          "dash": "solid"
         },
         "marker": {
          "symbol": "circle"
         },
         "mode": "lines",
         "name": "minotti_pilotis_bench",
         "showlegend": true,
         "type": "scattergl",
         "x": [
          "2024-11-26",
          "2024-11-27",
          "2024-11-28",
          "2024-11-29",
          "2024-11-30",
          "2024-12-01",
          "2024-12-02",
          "2024-12-03",
          "2024-12-04",
          "2024-12-05",
          "2024-12-06"
         ],
         "xaxis": "x",
         "y": [
          69,
          28,
          55,
          59,
          60,
          60,
          56,
          55,
          61,
          34,
          34
         ],
         "yaxis": "y"
        },
        {
         "hovertemplate": "Unique_Title=bouquet_06_10<br>Curdate=%{x}<br>Ranking=%{y}<extra></extra>",
         "legendgroup": "bouquet_06_10",
         "line": {
          "color": "#00cc96",
          "dash": "solid"
         },
         "marker": {
          "symbol": "circle"
         },
         "mode": "lines",
         "name": "bouquet_06_10",
         "showlegend": true,
         "type": "scattergl",
         "x": [
          "2024-11-26",
          "2024-11-27",
          "2024-11-28",
          "2024-11-29",
          "2024-11-30",
          "2024-12-01",
          "2024-12-02",
          "2024-12-03",
          "2024-12-04",
          "2024-12-05",
          "2024-12-06"
         ],
         "xaxis": "x",
         "y": [
          68,
          79,
          71,
          58,
          59,
          39,
          18,
          19,
          35,
          35,
          36
         ],
         "yaxis": "y"
        },
        {
         "hovertemplate": "Unique_Title=photo_studio_kit<br>Curdate=%{x}<br>Ranking=%{y}<extra></extra>",
         "legendgroup": "photo_studio_kit",
         "line": {
          "color": "#ab63fa",
          "dash": "solid"
         },
         "marker": {
          "symbol": "circle"
         },
         "mode": "lines",
         "name": "photo_studio_kit",
         "showlegend": true,
         "type": "scattergl",
         "x": [
          "2024-11-26",
          "2024-11-27",
          "2024-11-28",
          "2024-12-11",
          "2024-12-12",
          "2024-12-13",
          "2024-12-14",
          "2024-12-15"
         ],
         "xaxis": "x",
         "y": [
          67,
          49,
          29,
          1,
          3,
          10,
          20,
          38
         ],
         "yaxis": "y"
        },
        {
         "hovertemplate": "Unique_Title=laundry_room_0005<br>Curdate=%{x}<br>Ranking=%{y}<extra></extra>",
         "legendgroup": "laundry_room_0005",
         "line": {
          "color": "#FFA15A",
          "dash": "solid"
         },
         "marker": {
          "symbol": "circle"
         },
         "mode": "lines",
         "name": "laundry_room_0005",
         "showlegend": true,
         "type": "scattergl",
         "x": [
          "2024-11-26",
          "2024-11-27",
          "2024-11-28",
          "2024-11-29",
          "2024-11-30",
          "2024-12-02",
          "2024-12-03",
          "2024-12-04",
          "2024-12-05",
          "2024-12-06",
          "2024-12-07",
          "2024-12-08",
          "2024-12-09",
          "2024-12-12"
         ],
         "xaxis": "x",
         "y": [
          66,
          67,
          70,
          34,
          35,
          14,
          15,
          47,
          25,
          24,
          39,
          40,
          55,
          2
         ],
         "yaxis": "y"
        },
        {
         "hovertemplate": "Unique_Title=coffee_shop_6_1<br>Curdate=%{x}<br>Ranking=%{y}<extra></extra>",
         "legendgroup": "coffee_shop_6_1",
         "line": {
          "color": "#19d3f3",
          "dash": "solid"
         },
         "marker": {
          "symbol": "circle"
         },
         "mode": "lines",
         "name": "coffee_shop_6_1",
         "showlegend": true,
         "type": "scattergl",
         "x": [
          "2024-11-26",
          "2024-11-27",
          "2024-11-28",
          "2024-11-29",
          "2024-11-30",
          "2024-12-01",
          "2024-12-02",
          "2024-12-03",
          "2024-12-04"
         ],
         "xaxis": "x",
         "y": [
          65,
          22,
          23,
          5,
          4,
          34,
          53,
          52,
          23
         ],
         "yaxis": "y"
        },
        {
         "hovertemplate": "Unique_Title=equipe_hopp_2<br>Curdate=%{x}<br>Ranking=%{y}<extra></extra>",
         "legendgroup": "equipe_hopp_2",
         "line": {
          "color": "#FF6692",
          "dash": "solid"
         },
         "marker": {
          "symbol": "circle"
         },
         "mode": "lines",
         "name": "equipe_hopp_2",
         "showlegend": true,
         "type": "scattergl",
         "x": [
          "2024-11-26",
          "2024-11-27",
          "2024-11-28",
          "2024-11-29",
          "2024-11-30",
          "2024-12-01",
          "2024-12-02",
          "2024-12-03",
          "2024-12-15"
         ],
         "xaxis": "x",
         "y": [
          64,
          64,
          68,
          33,
          32,
          13,
          11,
          12,
          1
         ],
         "yaxis": "y"
        },
        {
         "hovertemplate": "Unique_Title=benuta_dave_round_fur_rug_3_colors<br>Curdate=%{x}<br>Ranking=%{y}<extra></extra>",
         "legendgroup": "benuta_dave_round_fur_rug_3_colors",
         "line": {
          "color": "#B6E880",
          "dash": "solid"
         },
         "marker": {
          "symbol": "circle"
         },
         "mode": "lines",
         "name": "benuta_dave_round_fur_rug_3_colors",
         "showlegend": true,
         "type": "scattergl",
         "x": [
          "2024-11-26",
          "2024-11-27",
          "2024-11-29",
          "2024-11-30"
         ],
         "xaxis": "x",
         "y": [
          63,
          19,
          4,
          3
         ],
         "yaxis": "y"
        },
        {
         "hovertemplate": "Unique_Title=realistichnaia_lugovaia_trava<br>Curdate=%{x}<br>Ranking=%{y}<extra></extra>",
         "legendgroup": "realistichnaia_lugovaia_trava",
         "line": {
          "color": "#FF97FF",
          "dash": "solid"
         },
         "marker": {
          "symbol": "circle"
         },
         "mode": "lines",
         "name": "realistichnaia_lugovaia_trava",
         "showlegend": true,
         "type": "scattergl",
         "x": [
          "2024-11-26",
          "2024-11-27",
          "2024-11-28",
          "2024-11-29",
          "2024-11-30",
          "2024-12-01",
          "2024-12-02",
          "2024-12-03",
          "2024-12-04",
          "2024-12-05",
          "2024-12-06",
          "2024-12-07",
          "2024-12-08",
          "2024-12-09",
          "2024-12-11",
          "2024-12-12",
          "2024-12-13",
          "2024-12-14",
          "2024-12-15"
         ],
         "xaxis": "x",
         "y": [
          62,
          75,
          66,
          75,
          75,
          75,
          86,
          86,
          73,
          91,
          90,
          93,
          88,
          87,
          69,
          40,
          42,
          14,
          17
         ],
         "yaxis": "y"
        },
        {
         "hovertemplate": "Unique_Title=parket_elochka_shevron_s8<br>Curdate=%{x}<br>Ranking=%{y}<extra></extra>",
         "legendgroup": "parket_elochka_shevron_s8",
         "line": {
          "color": "#FECB52",
          "dash": "solid"
         },
         "marker": {
          "symbol": "circle"
         },
         "mode": "lines",
         "name": "parket_elochka_shevron_s8",
         "showlegend": true,
         "type": "scattergl",
         "x": [
          "2024-11-26",
          "2024-11-27",
          "2024-11-28",
          "2024-11-29",
          "2024-11-30",
          "2024-12-01",
          "2024-12-02",
          "2024-12-03"
         ],
         "xaxis": "x",
         "y": [
          61,
          74,
          65,
          66,
          68,
          68,
          66,
          64
         ],
         "yaxis": "y"
        },
        {
         "hovertemplate": "Unique_Title=industrialnyi_potolok_2<br>Curdate=%{x}<br>Ranking=%{y}<extra></extra>",
         "legendgroup": "industrialnyi_potolok_2",
         "line": {
          "color": "#636efa",
          "dash": "solid"
         },
         "marker": {
          "symbol": "circle"
         },
         "mode": "lines",
         "name": "industrialnyi_potolok_2",
         "showlegend": true,
         "type": "scattergl",
         "x": [
          "2024-11-26",
          "2024-11-27",
          "2024-11-28",
          "2024-11-29",
          "2024-11-30",
          "2024-12-01",
          "2024-12-02",
          "2024-12-03",
          "2024-12-05",
          "2024-12-06",
          "2024-12-07",
          "2024-12-08",
          "2024-12-09",
          "2024-12-11",
          "2024-12-12",
          "2024-12-13"
         ],
         "xaxis": "x",
         "y": [
          60,
          83,
          44,
          25,
          24,
          8,
          30,
          30,
          60,
          73,
          82,
          78,
          70,
          66,
          38,
          53
         ],
         "yaxis": "y"
        },
        {
         "hovertemplate": "Unique_Title=kruglyi_kovior<br>Curdate=%{x}<br>Ranking=%{y}<extra></extra>",
         "legendgroup": "kruglyi_kovior",
         "line": {
          "color": "#EF553B",
          "dash": "solid"
         },
         "marker": {
          "symbol": "circle"
         },
         "mode": "lines",
         "name": "kruglyi_kovior",
         "showlegend": true,
         "type": "scattergl",
         "x": [
          "2024-11-26",
          "2024-11-27",
          "2024-11-28",
          "2024-11-29",
          "2024-11-30",
          "2024-12-01"
         ],
         "xaxis": "x",
         "y": [
          59,
          60,
          41,
          24,
          22,
          7
         ],
         "yaxis": "y"
        },
        {
         "hovertemplate": "Unique_Title=541_hallway_zone_14_minimal_modular_wardeobe_with_seating_niche<br>Curdate=%{x}<br>Ranking=%{y}<extra></extra>",
         "legendgroup": "541_hallway_zone_14_minimal_modular_wardeobe_with_seating_niche",
         "line": {
          "color": "#00cc96",
          "dash": "solid"
         },
         "marker": {
          "symbol": "circle"
         },
         "mode": "lines",
         "name": "541_hallway_zone_14_minimal_modular_wardeobe_with_seating_niche",
         "showlegend": true,
         "type": "scattergl",
         "x": [
          "2024-11-26",
          "2024-11-27",
          "2024-11-28"
         ],
         "xaxis": "x",
         "y": [
          58,
          38,
          16
         ],
         "yaxis": "y"
        },
        {
         "hovertemplate": "Unique_Title=kolder_lander_bild_stolik_divan_ru<br>Curdate=%{x}<br>Ranking=%{y}<extra></extra>",
         "legendgroup": "kolder_lander_bild_stolik_divan_ru",
         "line": {
          "color": "#ab63fa",
          "dash": "solid"
         },
         "marker": {
          "symbol": "circle"
         },
         "mode": "lines",
         "name": "kolder_lander_bild_stolik_divan_ru",
         "showlegend": true,
         "type": "scattergl",
         "x": [
          "2024-11-26",
          "2024-11-27",
          "2024-11-28",
          "2024-11-29",
          "2024-11-30",
          "2024-12-01",
          "2024-12-02",
          "2024-12-03",
          "2024-12-04",
          "2024-12-05",
          "2024-12-06",
          "2024-12-07",
          "2024-12-08",
          "2024-12-09",
          "2024-12-11",
          "2024-12-12",
          "2024-12-13",
          "2024-12-14",
          "2024-12-15"
         ],
         "xaxis": "x",
         "y": [
          57,
          34,
          14,
          18,
          16,
          45,
          25,
          26,
          85,
          76,
          95,
          96,
          92,
          99,
          94,
          92,
          92,
          96,
          96
         ],
         "yaxis": "y"
        },
        {
         "hovertemplate": "Unique_Title=rooftop_hvac_systems_obekty_kryshi_zdanii<br>Curdate=%{x}<br>Ranking=%{y}<extra></extra>",
         "legendgroup": "rooftop_hvac_systems_obekty_kryshi_zdanii",
         "line": {
          "color": "#FFA15A",
          "dash": "solid"
         },
         "marker": {
          "symbol": "circle"
         },
         "mode": "lines",
         "name": "rooftop_hvac_systems_obekty_kryshi_zdanii",
         "showlegend": true,
         "type": "scattergl",
         "x": [
          "2024-11-26",
          "2024-11-27",
          "2024-12-01",
          "2024-12-02",
          "2024-12-03",
          "2024-12-04",
          "2024-12-05",
          "2024-12-06",
          "2024-12-07",
          "2024-12-08",
          "2024-12-09",
          "2024-12-11",
          "2024-12-12",
          "2024-12-13",
          "2024-12-14",
          "2024-12-15"
         ],
         "xaxis": "x",
         "y": [
          56,
          33,
          20,
          43,
          43,
          68,
          70,
          69,
          71,
          68,
          77,
          54,
          54,
          61,
          54,
          54
         ],
         "yaxis": "y"
        },
        {
         "hovertemplate": "Unique_Title=equipe_massimo<br>Curdate=%{x}<br>Ranking=%{y}<extra></extra>",
         "legendgroup": "equipe_massimo",
         "line": {
          "color": "#19d3f3",
          "dash": "solid"
         },
         "marker": {
          "symbol": "circle"
         },
         "mode": "lines",
         "name": "equipe_massimo",
         "showlegend": true,
         "type": "scattergl",
         "x": [
          "2024-11-26",
          "2024-11-27",
          "2024-11-28",
          "2024-11-29",
          "2024-12-01",
          "2024-12-07",
          "2024-12-08",
          "2024-12-11",
          "2024-12-12",
          "2024-12-13",
          "2024-12-14",
          "2024-12-15"
         ],
         "xaxis": "x",
         "y": [
          55,
          55,
          13,
          16,
          1,
          4,
          4,
          55,
          63,
          69,
          53,
          53
         ],
         "yaxis": "y"
        },
        {
         "hovertemplate": "Unique_Title=decorative_set_19_57<br>Curdate=%{x}<br>Ranking=%{y}<extra></extra>",
         "legendgroup": "decorative_set_19_57",
         "line": {
          "color": "#FF6692",
          "dash": "solid"
         },
         "marker": {
          "symbol": "circle"
         },
         "mode": "lines",
         "name": "decorative_set_19_57",
         "showlegend": true,
         "type": "scattergl",
         "x": [
          "2024-11-26",
          "2024-11-27"
         ],
         "xaxis": "x",
         "y": [
          54,
          52
         ],
         "yaxis": "y"
        },
        {
         "hovertemplate": "Unique_Title=indoor_plant_set_0147_1<br>Curdate=%{x}<br>Ranking=%{y}<extra></extra>",
         "legendgroup": "indoor_plant_set_0147_1",
         "line": {
          "color": "#B6E880",
          "dash": "solid"
         },
         "marker": {
          "symbol": "circle"
         },
         "mode": "lines",
         "name": "indoor_plant_set_0147_1",
         "showlegend": true,
         "type": "scattergl",
         "x": [
          "2024-11-26",
          "2024-11-27",
          "2024-11-28"
         ],
         "xaxis": "x",
         "y": [
          53,
          27,
          33
         ],
         "yaxis": "y"
        },
        {
         "hovertemplate": "Unique_Title=coffee_table_decor_set_005<br>Curdate=%{x}<br>Ranking=%{y}<extra></extra>",
         "legendgroup": "coffee_table_decor_set_005",
         "line": {
          "color": "#FF97FF",
          "dash": "solid"
         },
         "marker": {
          "symbol": "circle"
         },
         "mode": "lines",
         "name": "coffee_table_decor_set_005",
         "showlegend": true,
         "type": "scattergl",
         "x": [
          "2024-11-26",
          "2024-11-27",
          "2024-11-28",
          "2024-11-29",
          "2024-11-30",
          "2024-12-01",
          "2024-12-02",
          "2024-12-03",
          "2024-12-04",
          "2024-12-05",
          "2024-12-06",
          "2024-12-07",
          "2024-12-08",
          "2024-12-09",
          "2024-12-11",
          "2024-12-12",
          "2024-12-13",
          "2024-12-14",
          "2024-12-15"
         ],
         "xaxis": "x",
         "y": [
          52,
          78,
          104,
          105,
          105,
          102,
          107,
          107,
          98,
          108,
          108,
          113,
          115,
          114,
          107,
          106,
          105,
          104,
          104
         ],
         "yaxis": "y"
        },
        {
         "hovertemplate": "Unique_Title=christmas_tree_and_decoration_78<br>Curdate=%{x}<br>Ranking=%{y}<extra></extra>",
         "legendgroup": "christmas_tree_and_decoration_78",
         "line": {
          "color": "#FECB52",
          "dash": "solid"
         },
         "marker": {
          "symbol": "circle"
         },
         "mode": "lines",
         "name": "christmas_tree_and_decoration_78",
         "showlegend": true,
         "type": "scattergl",
         "x": [
          "2024-11-26",
          "2024-11-27",
          "2024-11-28",
          "2024-11-29",
          "2024-11-30",
          "2024-12-01",
          "2024-12-02",
          "2024-12-03",
          "2024-12-04",
          "2024-12-07",
          "2024-12-08",
          "2024-12-09"
         ],
         "xaxis": "x",
         "y": [
          51,
          51,
          10,
          12,
          12,
          15,
          16,
          18,
          49,
          25,
          26,
          21
         ],
         "yaxis": "y"
        },
        {
         "hovertemplate": "Unique_Title=floorgen_tools_1_5_4<br>Curdate=%{x}<br>Ranking=%{y}<extra></extra>",
         "legendgroup": "floorgen_tools_1_5_4",
         "line": {
          "color": "#636efa",
          "dash": "solid"
         },
         "marker": {
          "symbol": "circle"
         },
         "mode": "lines",
         "name": "floorgen_tools_1_5_4",
         "showlegend": true,
         "type": "scattergl",
         "x": [
          "2024-11-26",
          "2024-11-27",
          "2024-11-28",
          "2024-11-29",
          "2024-11-30",
          "2024-12-01",
          "2024-12-02",
          "2024-12-03"
         ],
         "xaxis": "x",
         "y": [
          50,
          50,
          52,
          67,
          57,
          57,
          38,
          38
         ],
         "yaxis": "y"
        },
        {
         "hovertemplate": "Unique_Title=nabor_potolkov_armstrong_i_griliato_1<br>Curdate=%{x}<br>Ranking=%{y}<extra></extra>",
         "legendgroup": "nabor_potolkov_armstrong_i_griliato_1",
         "line": {
          "color": "#EF553B",
          "dash": "solid"
         },
         "marker": {
          "symbol": "circle"
         },
         "mode": "lines",
         "name": "nabor_potolkov_armstrong_i_griliato_1",
         "showlegend": true,
         "type": "scattergl",
         "x": [
          "2024-11-26",
          "2024-11-27",
          "2024-11-28",
          "2024-11-29",
          "2024-11-30",
          "2024-12-01",
          "2024-12-04",
          "2024-12-13",
          "2024-12-14",
          "2024-12-15"
         ],
         "xaxis": "x",
         "y": [
          49,
          48,
          28,
          55,
          55,
          14,
          28,
          27,
          3,
          4
         ],
         "yaxis": "y"
        },
        {
         "hovertemplate": "Unique_Title=khoroshaia_elochka<br>Curdate=%{x}<br>Ranking=%{y}<extra></extra>",
         "legendgroup": "khoroshaia_elochka",
         "line": {
          "color": "#00cc96",
          "dash": "solid"
         },
         "marker": {
          "symbol": "circle"
         },
         "mode": "lines",
         "name": "khoroshaia_elochka",
         "showlegend": true,
         "type": "scattergl",
         "x": [
          "2024-11-26",
          "2024-11-27",
          "2024-11-28",
          "2024-11-29",
          "2024-11-30",
          "2024-12-01",
          "2024-12-02",
          "2024-12-03",
          "2024-12-04",
          "2024-12-05",
          "2024-12-06",
          "2024-12-13",
          "2024-12-14",
          "2024-12-15"
         ],
         "xaxis": "x",
         "y": [
          48,
          66,
          81,
          77,
          77,
          78,
          69,
          67,
          46,
          22,
          21,
          9,
          18,
          21
         ],
         "yaxis": "y"
        },
        {
         "hovertemplate": "Unique_Title=aksessuary_dlia_obshchestvennykh_tualetov_black_set_152_part_4<br>Curdate=%{x}<br>Ranking=%{y}<extra></extra>",
         "legendgroup": "aksessuary_dlia_obshchestvennykh_tualetov_black_set_152_part_4",
         "line": {
          "color": "#ab63fa",
          "dash": "solid"
         },
         "marker": {
          "symbol": "circle"
         },
         "mode": "lines",
         "name": "aksessuary_dlia_obshchestvennykh_tualetov_black_set_152_part_4",
         "showlegend": true,
         "type": "scattergl",
         "x": [
          "2024-11-26",
          "2024-11-27",
          "2024-11-28",
          "2024-12-04"
         ],
         "xaxis": "x",
         "y": [
          47,
          65,
          26,
          26
         ],
         "yaxis": "y"
        },
        {
         "hovertemplate": "Unique_Title=moiki_i_smesiteli_omoikiri<br>Curdate=%{x}<br>Ranking=%{y}<extra></extra>",
         "legendgroup": "moiki_i_smesiteli_omoikiri",
         "line": {
          "color": "#FFA15A",
          "dash": "solid"
         },
         "marker": {
          "symbol": "circle"
         },
         "mode": "lines",
         "name": "moiki_i_smesiteli_omoikiri",
         "showlegend": true,
         "type": "scattergl",
         "x": [
          "2024-11-26",
          "2024-11-27",
          "2024-11-28",
          "2024-11-29",
          "2024-11-30",
          "2024-12-01",
          "2024-12-02",
          "2024-12-03",
          "2024-12-04",
          "2024-12-05",
          "2024-12-06",
          "2024-12-07",
          "2024-12-08",
          "2024-12-09",
          "2024-12-11"
         ],
         "xaxis": "x",
         "y": [
          46,
          86,
          69,
          76,
          76,
          86,
          76,
          75,
          74,
          84,
          83,
          67,
          64,
          53,
          45
         ],
         "yaxis": "y"
        },
        {
         "hovertemplate": "Unique_Title=sushilka_dlia_belia_v_shkafu<br>Curdate=%{x}<br>Ranking=%{y}<extra></extra>",
         "legendgroup": "sushilka_dlia_belia_v_shkafu",
         "line": {
          "color": "#19d3f3",
          "dash": "solid"
         },
         "marker": {
          "symbol": "circle"
         },
         "mode": "lines",
         "name": "sushilka_dlia_belia_v_shkafu",
         "showlegend": true,
         "type": "scattergl",
         "x": [
          "2024-11-26",
          "2024-11-27"
         ],
         "xaxis": "x",
         "y": [
          45,
          44
         ],
         "yaxis": "y"
        },
        {
         "hovertemplate": "Unique_Title=cezares_stylus_boheme_uno_alcaplast_thin<br>Curdate=%{x}<br>Ranking=%{y}<extra></extra>",
         "legendgroup": "cezares_stylus_boheme_uno_alcaplast_thin",
         "line": {
          "color": "#FF6692",
          "dash": "solid"
         },
         "marker": {
          "symbol": "circle"
         },
         "mode": "lines",
         "name": "cezares_stylus_boheme_uno_alcaplast_thin",
         "showlegend": true,
         "type": "scattergl",
         "x": [
          "2024-11-26",
          "2024-11-27",
          "2024-11-29",
          "2024-11-30",
          "2024-12-01",
          "2024-12-02",
          "2024-12-03"
         ],
         "xaxis": "x",
         "y": [
          44,
          43,
          3,
          2,
          11,
          34,
          34
         ],
         "yaxis": "y"
        },
        {
         "hovertemplate": "Unique_Title=dvoinaia_shtora_dlia_vanny_na_karnize_sunerzha<br>Curdate=%{x}<br>Ranking=%{y}<extra></extra>",
         "legendgroup": "dvoinaia_shtora_dlia_vanny_na_karnize_sunerzha",
         "line": {
          "color": "#B6E880",
          "dash": "solid"
         },
         "marker": {
          "symbol": "circle"
         },
         "mode": "lines",
         "name": "dvoinaia_shtora_dlia_vanny_na_karnize_sunerzha",
         "showlegend": true,
         "type": "scattergl",
         "x": [
          "2024-11-26",
          "2024-11-27",
          "2024-11-28"
         ],
         "xaxis": "x",
         "y": [
          43,
          62,
          21
         ],
         "yaxis": "y"
        },
        {
         "hovertemplate": "Unique_Title=ovalnyi_ostrov_dlia_garderobnoi_ng14<br>Curdate=%{x}<br>Ranking=%{y}<extra></extra>",
         "legendgroup": "ovalnyi_ostrov_dlia_garderobnoi_ng14",
         "line": {
          "color": "#FF97FF",
          "dash": "solid"
         },
         "marker": {
          "symbol": "circle"
         },
         "mode": "lines",
         "name": "ovalnyi_ostrov_dlia_garderobnoi_ng14",
         "showlegend": true,
         "type": "scattergl",
         "x": [
          "2024-11-26",
          "2024-11-27",
          "2024-11-28",
          "2024-11-29",
          "2024-11-30",
          "2024-12-11",
          "2024-12-12",
          "2024-12-13",
          "2024-12-14",
          "2024-12-15"
         ],
         "xaxis": "x",
         "y": [
          42,
          18,
          20,
          30,
          29,
          68,
          67,
          71,
          70,
          69
         ],
         "yaxis": "y"
        },
        {
         "hovertemplate": "Unique_Title=gianna_natural_walnut_wood_king_bed_frame<br>Curdate=%{x}<br>Ranking=%{y}<extra></extra>",
         "legendgroup": "gianna_natural_walnut_wood_king_bed_frame",
         "line": {
          "color": "#FECB52",
          "dash": "solid"
         },
         "marker": {
          "symbol": "circle"
         },
         "mode": "lines",
         "name": "gianna_natural_walnut_wood_king_bed_frame",
         "showlegend": true,
         "type": "scattergl",
         "x": [
          "2024-11-26",
          "2024-11-27",
          "2024-11-29",
          "2024-11-30",
          "2024-12-01",
          "2024-12-02",
          "2024-12-03",
          "2024-12-04",
          "2024-12-05",
          "2024-12-06"
         ],
         "xaxis": "x",
         "y": [
          41,
          17,
          45,
          46,
          29,
          31,
          31,
          81,
          46,
          46
         ],
         "yaxis": "y"
        },
        {
         "hovertemplate": "Unique_Title=soft_seat_by_the_window_in_the_children_room<br>Curdate=%{x}<br>Ranking=%{y}<extra></extra>",
         "legendgroup": "soft_seat_by_the_window_in_the_children_room",
         "line": {
          "color": "#636efa",
          "dash": "solid"
         },
         "marker": {
          "symbol": "circle"
         },
         "mode": "lines",
         "name": "soft_seat_by_the_window_in_the_children_room",
         "showlegend": true,
         "type": "scattergl",
         "x": [
          "2024-11-26",
          "2024-11-27",
          "2024-11-28",
          "2024-11-29",
          "2024-11-30"
         ],
         "xaxis": "x",
         "y": [
          40,
          40,
          63,
          44,
          45
         ],
         "yaxis": "y"
        },
        {
         "hovertemplate": "Unique_Title=nabor_posudy_ng5<br>Curdate=%{x}<br>Ranking=%{y}<extra></extra>",
         "legendgroup": "nabor_posudy_ng5",
         "line": {
          "color": "#EF553B",
          "dash": "solid"
         },
         "marker": {
          "symbol": "circle"
         },
         "mode": "lines",
         "name": "nabor_posudy_ng5",
         "showlegend": true,
         "type": "scattergl",
         "x": [
          "2024-11-26",
          "2024-11-27",
          "2024-11-28",
          "2024-11-29",
          "2024-11-30",
          "2024-12-01",
          "2024-12-02",
          "2024-12-03",
          "2024-12-04",
          "2024-12-05",
          "2024-12-06",
          "2024-12-07",
          "2024-12-08",
          "2024-12-09",
          "2024-12-11",
          "2024-12-12",
          "2024-12-13",
          "2024-12-14",
          "2024-12-15"
         ],
         "xaxis": "x",
         "y": [
          39,
          39,
          79,
          84,
          83,
          73,
          28,
          6,
          15,
          12,
          58,
          81,
          77,
          69,
          83,
          72,
          70,
          87,
          87
         ],
         "yaxis": "y"
        },
        {
         "hovertemplate": "Unique_Title=vitrina_s_bokalami_1<br>Curdate=%{x}<br>Ranking=%{y}<extra></extra>",
         "legendgroup": "vitrina_s_bokalami_1",
         "line": {
          "color": "#00cc96",
          "dash": "solid"
         },
         "marker": {
          "symbol": "circle"
         },
         "mode": "lines",
         "name": "vitrina_s_bokalami_1",
         "showlegend": true,
         "type": "scattergl",
         "x": [
          "2024-11-26",
          "2024-11-29"
         ],
         "xaxis": "x",
         "y": [
          38,
          1
         ],
         "yaxis": "y"
        },
        {
         "hovertemplate": "Unique_Title=shampanskoe_set1<br>Curdate=%{x}<br>Ranking=%{y}<extra></extra>",
         "legendgroup": "shampanskoe_set1",
         "line": {
          "color": "#ab63fa",
          "dash": "solid"
         },
         "marker": {
          "symbol": "circle"
         },
         "mode": "lines",
         "name": "shampanskoe_set1",
         "showlegend": true,
         "type": "scattergl",
         "x": [
          "2024-11-26",
          "2024-11-27"
         ],
         "xaxis": "x",
         "y": [
          37,
          11
         ],
         "yaxis": "y"
        },
        {
         "hovertemplate": "Unique_Title=faucets_and_showers_boheme_spectre_set<br>Curdate=%{x}<br>Ranking=%{y}<extra></extra>",
         "legendgroup": "faucets_and_showers_boheme_spectre_set",
         "line": {
          "color": "#FFA15A",
          "dash": "solid"
         },
         "marker": {
          "symbol": "circle"
         },
         "mode": "lines",
         "name": "faucets_and_showers_boheme_spectre_set",
         "showlegend": true,
         "type": "scattergl",
         "x": [
          "2024-11-26",
          "2024-11-27",
          "2024-11-28",
          "2024-11-29",
          "2024-11-30",
          "2024-12-01",
          "2024-12-02",
          "2024-12-03",
          "2024-12-04",
          "2024-12-05",
          "2024-12-06",
          "2024-12-07",
          "2024-12-08",
          "2024-12-09",
          "2024-12-11"
         ],
         "xaxis": "x",
         "y": [
          36,
          37,
          61,
          63,
          65,
          64,
          73,
          72,
          70,
          77,
          43,
          55,
          53,
          62,
          37
         ],
         "yaxis": "y"
        },
        {
         "hovertemplate": "Unique_Title=komnatnye_rasteniia_01<br>Curdate=%{x}<br>Ranking=%{y}<extra></extra>",
         "legendgroup": "komnatnye_rasteniia_01",
         "line": {
          "color": "#19d3f3",
          "dash": "solid"
         },
         "marker": {
          "symbol": "circle"
         },
         "mode": "lines",
         "name": "komnatnye_rasteniia_01",
         "showlegend": true,
         "type": "scattergl",
         "x": [
          "2024-11-26"
         ],
         "xaxis": "x",
         "y": [
          35
         ],
         "yaxis": "y"
        },
        {
         "hovertemplate": "Unique_Title=zhiloe_mnogoetazhnoe_zdanie<br>Curdate=%{x}<br>Ranking=%{y}<extra></extra>",
         "legendgroup": "zhiloe_mnogoetazhnoe_zdanie",
         "line": {
          "color": "#FF6692",
          "dash": "solid"
         },
         "marker": {
          "symbol": "circle"
         },
         "mode": "lines",
         "name": "zhiloe_mnogoetazhnoe_zdanie",
         "showlegend": true,
         "type": "scattergl",
         "x": [
          "2024-11-26"
         ],
         "xaxis": "x",
         "y": [
          34
         ],
         "yaxis": "y"
        },
        {
         "hovertemplate": "Unique_Title=pinbord_doska_s_detskimi_risunkami<br>Curdate=%{x}<br>Ranking=%{y}<extra></extra>",
         "legendgroup": "pinbord_doska_s_detskimi_risunkami",
         "line": {
          "color": "#B6E880",
          "dash": "solid"
         },
         "marker": {
          "symbol": "circle"
         },
         "mode": "lines",
         "name": "pinbord_doska_s_detskimi_risunkami",
         "showlegend": true,
         "type": "scattergl",
         "x": [
          "2024-11-26",
          "2024-11-27",
          "2024-11-28",
          "2024-11-29",
          "2024-11-30",
          "2024-12-01",
          "2024-12-04"
         ],
         "xaxis": "x",
         "y": [
          33,
          32,
          36,
          60,
          62,
          40,
          5
         ],
         "yaxis": "y"
        },
        {
         "hovertemplate": "Unique_Title=kitchen_set09<br>Curdate=%{x}<br>Ranking=%{y}<extra></extra>",
         "legendgroup": "kitchen_set09",
         "line": {
          "color": "#FF97FF",
          "dash": "solid"
         },
         "marker": {
          "symbol": "circle"
         },
         "mode": "lines",
         "name": "kitchen_set09",
         "showlegend": true,
         "type": "scattergl",
         "x": [
          "2024-11-26",
          "2024-11-27"
         ],
         "xaxis": "x",
         "y": [
          32,
          30
         ],
         "yaxis": "y"
        },
        {
         "hovertemplate": "Unique_Title=shower_cabin_07<br>Curdate=%{x}<br>Ranking=%{y}<extra></extra>",
         "legendgroup": "shower_cabin_07",
         "line": {
          "color": "#FECB52",
          "dash": "solid"
         },
         "marker": {
          "symbol": "circle"
         },
         "mode": "lines",
         "name": "shower_cabin_07",
         "showlegend": true,
         "type": "scattergl",
         "x": [
          "2024-11-26",
          "2024-11-28",
          "2024-12-01",
          "2024-12-04",
          "2024-12-05",
          "2024-12-06"
         ],
         "xaxis": "x",
         "y": [
          31,
          11,
          18,
          36,
          37,
          37
         ],
         "yaxis": "y"
        },
        {
         "hovertemplate": "Unique_Title=trekovaia_sistema_centersvet_infinity<br>Curdate=%{x}<br>Ranking=%{y}<extra></extra>",
         "legendgroup": "trekovaia_sistema_centersvet_infinity",
         "line": {
          "color": "#636efa",
          "dash": "solid"
         },
         "marker": {
          "symbol": "circle"
         },
         "mode": "lines",
         "name": "trekovaia_sistema_centersvet_infinity",
         "showlegend": true,
         "type": "scattergl",
         "x": [
          "2024-11-26",
          "2024-11-27",
          "2024-11-28",
          "2024-11-29",
          "2024-11-30",
          "2024-12-01",
          "2024-12-02",
          "2024-12-03",
          "2024-12-04",
          "2024-12-05",
          "2024-12-11"
         ],
         "xaxis": "x",
         "y": [
          30,
          80,
          83,
          88,
          86,
          88,
          79,
          78,
          1,
          2,
          9
         ],
         "yaxis": "y"
        },
        {
         "hovertemplate": "Unique_Title=kitchen_decor_set_with_pears<br>Curdate=%{x}<br>Ranking=%{y}<extra></extra>",
         "legendgroup": "kitchen_decor_set_with_pears",
         "line": {
          "color": "#EF553B",
          "dash": "solid"
         },
         "marker": {
          "symbol": "circle"
         },
         "mode": "lines",
         "name": "kitchen_decor_set_with_pears",
         "showlegend": true,
         "type": "scattergl",
         "x": [
          "2024-11-26",
          "2024-11-27"
         ],
         "xaxis": "x",
         "y": [
          29,
          7
         ],
         "yaxis": "y"
        },
        {
         "hovertemplate": "Unique_Title=homary_ostrov_dlia_garderobnoi_ng16<br>Curdate=%{x}<br>Ranking=%{y}<extra></extra>",
         "legendgroup": "homary_ostrov_dlia_garderobnoi_ng16",
         "line": {
          "color": "#00cc96",
          "dash": "solid"
         },
         "marker": {
          "symbol": "circle"
         },
         "mode": "lines",
         "name": "homary_ostrov_dlia_garderobnoi_ng16",
         "showlegend": true,
         "type": "scattergl",
         "x": [
          "2024-11-26",
          "2024-11-27",
          "2024-11-28",
          "2024-11-29",
          "2024-11-30",
          "2024-12-01",
          "2024-12-02",
          "2024-12-03"
         ],
         "xaxis": "x",
         "y": [
          28,
          68,
          82,
          94,
          93,
          91,
          94,
          92
         ],
         "yaxis": "y"
        },
        {
         "hovertemplate": "Unique_Title=tv_wall_set_1056<br>Curdate=%{x}<br>Ranking=%{y}<extra></extra>",
         "legendgroup": "tv_wall_set_1056",
         "line": {
          "color": "#ab63fa",
          "dash": "solid"
         },
         "marker": {
          "symbol": "circle"
         },
         "mode": "lines",
         "name": "tv_wall_set_1056",
         "showlegend": true,
         "type": "scattergl",
         "x": [
          "2024-11-26"
         ],
         "xaxis": "x",
         "y": [
          27
         ],
         "yaxis": "y"
        },
        {
         "hovertemplate": "Unique_Title=siena_kids_bed_by_como_9<br>Curdate=%{x}<br>Ranking=%{y}<extra></extra>",
         "legendgroup": "siena_kids_bed_by_como_9",
         "line": {
          "color": "#FFA15A",
          "dash": "solid"
         },
         "marker": {
          "symbol": "circle"
         },
         "mode": "lines",
         "name": "siena_kids_bed_by_como_9",
         "showlegend": true,
         "type": "scattergl",
         "x": [
          "2024-11-26"
         ],
         "xaxis": "x",
         "y": [
          26
         ],
         "yaxis": "y"
        },
        {
         "hovertemplate": "Unique_Title=laundry_set_poliform_fitted_asko<br>Curdate=%{x}<br>Ranking=%{y}<extra></extra>",
         "legendgroup": "laundry_set_poliform_fitted_asko",
         "line": {
          "color": "#19d3f3",
          "dash": "solid"
         },
         "marker": {
          "symbol": "circle"
         },
         "mode": "lines",
         "name": "laundry_set_poliform_fitted_asko",
         "showlegend": true,
         "type": "scattergl",
         "x": [
          "2024-11-26",
          "2024-11-27",
          "2024-11-28",
          "2024-11-30",
          "2024-12-01",
          "2024-12-02",
          "2024-12-03",
          "2024-12-04",
          "2024-12-05",
          "2024-12-06"
         ],
         "xaxis": "x",
         "y": [
          25,
          4,
          31,
          10,
          36,
          15,
          16,
          30,
          27,
          26
         ],
         "yaxis": "y"
        },
        {
         "hovertemplate": "Unique_Title=laundry_set_2_lorigine_aeterna_asko<br>Curdate=%{x}<br>Ranking=%{y}<extra></extra>",
         "legendgroup": "laundry_set_2_lorigine_aeterna_asko",
         "line": {
          "color": "#FF6692",
          "dash": "solid"
         },
         "marker": {
          "symbol": "circle"
         },
         "mode": "lines",
         "name": "laundry_set_2_lorigine_aeterna_asko",
         "showlegend": true,
         "type": "scattergl",
         "x": [
          "2024-11-26",
          "2024-11-27",
          "2024-11-30"
         ],
         "xaxis": "x",
         "y": [
          24,
          25,
          9
         ],
         "yaxis": "y"
        },
        {
         "hovertemplate": "Unique_Title=novogodniaia_elka_5_1<br>Curdate=%{x}<br>Ranking=%{y}<extra></extra>",
         "legendgroup": "novogodniaia_elka_5_1",
         "line": {
          "color": "#B6E880",
          "dash": "solid"
         },
         "marker": {
          "symbol": "circle"
         },
         "mode": "lines",
         "name": "novogodniaia_elka_5_1",
         "showlegend": true,
         "type": "scattergl",
         "x": [
          "2024-11-26",
          "2024-11-27",
          "2024-11-28",
          "2024-11-29",
          "2024-11-30",
          "2024-12-01",
          "2024-12-02",
          "2024-12-03",
          "2024-12-04",
          "2024-12-09",
          "2024-12-11",
          "2024-12-12",
          "2024-12-13",
          "2024-12-14",
          "2024-12-15"
         ],
         "xaxis": "x",
         "y": [
          23,
          47,
          51,
          54,
          34,
          55,
          70,
          68,
          27,
          11,
          60,
          68,
          66,
          61,
          75
         ],
         "yaxis": "y"
        },
        {
         "hovertemplate": "Unique_Title=parketnaia_doska_boen<br>Curdate=%{x}<br>Ranking=%{y}<extra></extra>",
         "legendgroup": "parketnaia_doska_boen",
         "line": {
          "color": "#FF97FF",
          "dash": "solid"
         },
         "marker": {
          "symbol": "circle"
         },
         "mode": "lines",
         "name": "parketnaia_doska_boen",
         "showlegend": true,
         "type": "scattergl",
         "x": [
          "2024-11-26",
          "2024-11-27",
          "2024-11-28",
          "2024-11-29",
          "2024-11-30"
         ],
         "xaxis": "x",
         "y": [
          22,
          46,
          27,
          53,
          54
         ],
         "yaxis": "y"
        },
        {
         "hovertemplate": "Unique_Title=mokryi_asfalt_s_listiami_osen_redaktiruemyi<br>Curdate=%{x}<br>Ranking=%{y}<extra></extra>",
         "legendgroup": "mokryi_asfalt_s_listiami_osen_redaktiruemyi",
         "line": {
          "color": "#FECB52",
          "dash": "solid"
         },
         "marker": {
          "symbol": "circle"
         },
         "mode": "lines",
         "name": "mokryi_asfalt_s_listiami_osen_redaktiruemyi",
         "showlegend": true,
         "type": "scattergl",
         "x": [
          "2024-11-26",
          "2024-11-27",
          "2024-11-28",
          "2024-11-29",
          "2024-11-30",
          "2024-12-01",
          "2024-12-02",
          "2024-12-03",
          "2024-12-14",
          "2024-12-15"
         ],
         "xaxis": "x",
         "y": [
          21,
          45,
          50,
          52,
          53,
          54,
          68,
          66,
          1,
          3
         ],
         "yaxis": "y"
        },
        {
         "hovertemplate": "Unique_Title=cervirovka_ng3<br>Curdate=%{x}<br>Ranking=%{y}<extra></extra>",
         "legendgroup": "cervirovka_ng3",
         "line": {
          "color": "#636efa",
          "dash": "solid"
         },
         "marker": {
          "symbol": "circle"
         },
         "mode": "lines",
         "name": "cervirovka_ng3",
         "showlegend": true,
         "type": "scattergl",
         "x": [
          "2024-11-26",
          "2024-11-28",
          "2024-11-29",
          "2024-11-30",
          "2024-12-01"
         ],
         "xaxis": "x",
         "y": [
          20,
          49,
          32,
          31,
          12
         ],
         "yaxis": "y"
        },
        {
         "hovertemplate": "Unique_Title=indoor_plant_702_olive_plant<br>Curdate=%{x}<br>Ranking=%{y}<extra></extra>",
         "legendgroup": "indoor_plant_702_olive_plant",
         "line": {
          "color": "#EF553B",
          "dash": "solid"
         },
         "marker": {
          "symbol": "circle"
         },
         "mode": "lines",
         "name": "indoor_plant_702_olive_plant",
         "showlegend": true,
         "type": "scattergl",
         "x": [
          "2024-11-26",
          "2024-11-28",
          "2024-11-29",
          "2024-11-30",
          "2024-12-01",
          "2024-12-02",
          "2024-12-03"
         ],
         "xaxis": "x",
         "y": [
          19,
          48,
          47,
          48,
          31,
          33,
          33
         ],
         "yaxis": "y"
        },
        {
         "hovertemplate": "Unique_Title=playstation_5_collection<br>Curdate=%{x}<br>Ranking=%{y}<extra></extra>",
         "legendgroup": "playstation_5_collection",
         "line": {
          "color": "#00cc96",
          "dash": "solid"
         },
         "marker": {
          "symbol": "circle"
         },
         "mode": "lines",
         "name": "playstation_5_collection",
         "showlegend": true,
         "type": "scattergl",
         "x": [
          "2024-11-26",
          "2024-12-01",
          "2024-12-02",
          "2024-12-03"
         ],
         "xaxis": "x",
         "y": [
          18,
          9,
          8,
          9
         ],
         "yaxis": "y"
        },
        {
         "hovertemplate": "Unique_Title=a_wall_with_a_rack_for_gym_equipment_2<br>Curdate=%{x}<br>Ranking=%{y}<extra></extra>",
         "legendgroup": "a_wall_with_a_rack_for_gym_equipment_2",
         "line": {
          "color": "#ab63fa",
          "dash": "solid"
         },
         "marker": {
          "symbol": "circle"
         },
         "mode": "lines",
         "name": "a_wall_with_a_rack_for_gym_equipment_2",
         "showlegend": true,
         "type": "scattergl",
         "x": [
          "2024-11-26",
          "2024-11-28",
          "2024-11-29",
          "2024-11-30",
          "2024-12-01",
          "2024-12-02",
          "2024-12-03"
         ],
         "xaxis": "x",
         "y": [
          17,
          19,
          29,
          28,
          51,
          51,
          50
         ],
         "yaxis": "y"
        },
        {
         "hovertemplate": "Unique_Title=hotel_bathroom_accessories_le_labo<br>Curdate=%{x}<br>Ranking=%{y}<extra></extra>",
         "legendgroup": "hotel_bathroom_accessories_le_labo",
         "line": {
          "color": "#FFA15A",
          "dash": "solid"
         },
         "marker": {
          "symbol": "circle"
         },
         "mode": "lines",
         "name": "hotel_bathroom_accessories_le_labo",
         "showlegend": true,
         "type": "scattergl",
         "x": [
          "2024-11-26",
          "2024-11-27",
          "2024-11-28",
          "2024-11-29",
          "2024-11-30",
          "2024-12-01",
          "2024-12-02",
          "2024-12-03"
         ],
         "xaxis": "x",
         "y": [
          16,
          41,
          46,
          28,
          27,
          30,
          7,
          8
         ],
         "yaxis": "y"
        },
        {
         "hovertemplate": "Unique_Title=novogodniaia_elka_s_kaminom_4<br>Curdate=%{x}<br>Ranking=%{y}<extra></extra>",
         "legendgroup": "novogodniaia_elka_s_kaminom_4",
         "line": {
          "color": "#19d3f3",
          "dash": "solid"
         },
         "marker": {
          "symbol": "circle"
         },
         "mode": "lines",
         "name": "novogodniaia_elka_s_kaminom_4",
         "showlegend": true,
         "type": "scattergl",
         "x": [
          "2024-11-26",
          "2024-11-27",
          "2024-11-28",
          "2024-11-29",
          "2024-11-30",
          "2024-12-01",
          "2024-12-02",
          "2024-12-03",
          "2024-12-04",
          "2024-12-05",
          "2024-12-06",
          "2024-12-07",
          "2024-12-08",
          "2024-12-09",
          "2024-12-11",
          "2024-12-12",
          "2024-12-13",
          "2024-12-14",
          "2024-12-15"
         ],
         "xaxis": "x",
         "y": [
          15,
          14,
          42,
          42,
          44,
          74,
          92,
          90,
          95,
          96,
          96,
          98,
          93,
          85,
          77,
          81,
          85,
          80,
          79
         ],
         "yaxis": "y"
        },
        {
         "hovertemplate": "Unique_Title=faucets_and_showers_boheme_uno_set_1<br>Curdate=%{x}<br>Ranking=%{y}<extra></extra>",
         "legendgroup": "faucets_and_showers_boheme_uno_set_1",
         "line": {
          "color": "#FF6692",
          "dash": "solid"
         },
         "marker": {
          "symbol": "circle"
         },
         "mode": "lines",
         "name": "faucets_and_showers_boheme_uno_set_1",
         "showlegend": true,
         "type": "scattergl",
         "x": [
          "2024-11-26",
          "2024-11-27",
          "2024-11-28",
          "2024-11-29",
          "2024-11-30",
          "2024-12-01",
          "2024-12-02",
          "2024-12-03",
          "2024-12-04",
          "2024-12-05",
          "2024-12-06",
          "2024-12-07",
          "2024-12-08",
          "2024-12-09",
          "2024-12-11",
          "2024-12-12",
          "2024-12-13",
          "2024-12-14",
          "2024-12-15"
         ],
         "xaxis": "x",
         "y": [
          14,
          13,
          62,
          83,
          82,
          85,
          97,
          97,
          78,
          72,
          71,
          58,
          56,
          65,
          65,
          57,
          52,
          36,
          35
         ],
         "yaxis": "y"
        },
        {
         "hovertemplate": "Unique_Title=oborudovanie_dlia_kafe_set_8<br>Curdate=%{x}<br>Ranking=%{y}<extra></extra>",
         "legendgroup": "oborudovanie_dlia_kafe_set_8",
         "line": {
          "color": "#B6E880",
          "dash": "solid"
         },
         "marker": {
          "symbol": "circle"
         },
         "mode": "lines",
         "name": "oborudovanie_dlia_kafe_set_8",
         "showlegend": true,
         "type": "scattergl",
         "x": [
          "2024-11-26",
          "2024-11-29",
          "2024-11-30",
          "2024-12-01",
          "2024-12-02",
          "2024-12-03",
          "2024-12-04",
          "2024-12-06",
          "2024-12-07",
          "2024-12-08",
          "2024-12-09",
          "2024-12-11",
          "2024-12-12",
          "2024-12-13",
          "2024-12-14",
          "2024-12-15"
         ],
         "xaxis": "x",
         "y": [
          13,
          2,
          1,
          24,
          4,
          4,
          42,
          10,
          10,
          9,
          34,
          39,
          36,
          40,
          35,
          34
         ],
         "yaxis": "y"
        },
        {
         "hovertemplate": "Unique_Title=office_furniture_4_rabochee_mesto<br>Curdate=%{x}<br>Ranking=%{y}<extra></extra>",
         "legendgroup": "office_furniture_4_rabochee_mesto",
         "line": {
          "color": "#FF97FF",
          "dash": "solid"
         },
         "marker": {
          "symbol": "circle"
         },
         "mode": "lines",
         "name": "office_furniture_4_rabochee_mesto",
         "showlegend": true,
         "type": "scattergl",
         "x": [
          "2024-11-26",
          "2024-11-29",
          "2024-11-30"
         ],
         "xaxis": "x",
         "y": [
          12,
          19,
          17
         ],
         "yaxis": "y"
        },
        {
         "hovertemplate": "Unique_Title=shtory_rimskie<br>Curdate=%{x}<br>Ranking=%{y}<extra></extra>",
         "legendgroup": "shtory_rimskie",
         "line": {
          "color": "#FECB52",
          "dash": "solid"
         },
         "marker": {
          "symbol": "circle"
         },
         "mode": "lines",
         "name": "shtory_rimskie",
         "showlegend": true,
         "type": "scattergl",
         "x": [
          "2024-11-26",
          "2024-12-04",
          "2024-12-11",
          "2024-12-12",
          "2024-12-13",
          "2024-12-14",
          "2024-12-15"
         ],
         "xaxis": "x",
         "y": [
          11,
          10,
          57,
          55,
          74,
          82,
          81
         ],
         "yaxis": "y"
        },
        {
         "hovertemplate": "Unique_Title=mononova_roxen_sectional_sofa_4<br>Curdate=%{x}<br>Ranking=%{y}<extra></extra>",
         "legendgroup": "mononova_roxen_sectional_sofa_4",
         "line": {
          "color": "#636efa",
          "dash": "solid"
         },
         "marker": {
          "symbol": "circle"
         },
         "mode": "lines",
         "name": "mononova_roxen_sectional_sofa_4",
         "showlegend": true,
         "type": "scattergl",
         "x": [
          "2024-11-26"
         ],
         "xaxis": "x",
         "y": [
          10
         ],
         "yaxis": "y"
        },
        {
         "hovertemplate": "Unique_Title=wood_planks_02<br>Curdate=%{x}<br>Ranking=%{y}<extra></extra>",
         "legendgroup": "wood_planks_02",
         "line": {
          "color": "#EF553B",
          "dash": "solid"
         },
         "marker": {
          "symbol": "circle"
         },
         "mode": "lines",
         "name": "wood_planks_02",
         "showlegend": true,
         "type": "scattergl",
         "x": [
          "2024-11-26"
         ],
         "xaxis": "x",
         "y": [
          9
         ],
         "yaxis": "y"
        },
        {
         "hovertemplate": "Unique_Title=arflex_marechiaro_modular_sofa<br>Curdate=%{x}<br>Ranking=%{y}<extra></extra>",
         "legendgroup": "arflex_marechiaro_modular_sofa",
         "line": {
          "color": "#00cc96",
          "dash": "solid"
         },
         "marker": {
          "symbol": "circle"
         },
         "mode": "lines",
         "name": "arflex_marechiaro_modular_sofa",
         "showlegend": true,
         "type": "scattergl",
         "x": [
          "2024-11-26",
          "2024-11-27"
         ],
         "xaxis": "x",
         "y": [
          8,
          56
         ],
         "yaxis": "y"
        },
        {
         "hovertemplate": "Unique_Title=yves_sofa_014_by_minotti<br>Curdate=%{x}<br>Ranking=%{y}<extra></extra>",
         "legendgroup": "yves_sofa_014_by_minotti",
         "line": {
          "color": "#ab63fa",
          "dash": "solid"
         },
         "marker": {
          "symbol": "circle"
         },
         "mode": "lines",
         "name": "yves_sofa_014_by_minotti",
         "showlegend": true,
         "type": "scattergl",
         "x": [
          "2024-11-26"
         ],
         "xaxis": "x",
         "y": [
          7
         ],
         "yaxis": "y"
        },
        {
         "hovertemplate": "Unique_Title=tumba_prikrovatnaia_tammi<br>Curdate=%{x}<br>Ranking=%{y}<extra></extra>",
         "legendgroup": "tumba_prikrovatnaia_tammi",
         "line": {
          "color": "#FFA15A",
          "dash": "solid"
         },
         "marker": {
          "symbol": "circle"
         },
         "mode": "lines",
         "name": "tumba_prikrovatnaia_tammi",
         "showlegend": true,
         "type": "scattergl",
         "x": [
          "2024-11-26",
          "2024-11-27",
          "2024-11-28",
          "2024-11-29",
          "2024-11-30"
         ],
         "xaxis": "x",
         "y": [
          6,
          54,
          58,
          38,
          40
         ],
         "yaxis": "y"
        },
        {
         "hovertemplate": "Unique_Title=kitchen_modern_067<br>Curdate=%{x}<br>Ranking=%{y}<extra></extra>",
         "legendgroup": "kitchen_modern_067",
         "line": {
          "color": "#19d3f3",
          "dash": "solid"
         },
         "marker": {
          "symbol": "circle"
         },
         "mode": "lines",
         "name": "kitchen_modern_067",
         "showlegend": true,
         "type": "scattergl",
         "x": [
          "2024-11-26",
          "2024-11-27",
          "2024-11-28",
          "2024-11-29",
          "2024-11-30"
         ],
         "xaxis": "x",
         "y": [
          5,
          8,
          56,
          15,
          14
         ],
         "yaxis": "y"
        },
        {
         "hovertemplate": "Unique_Title=furniture_composition_ghs_2617<br>Curdate=%{x}<br>Ranking=%{y}<extra></extra>",
         "legendgroup": "furniture_composition_ghs_2617",
         "line": {
          "color": "#FF6692",
          "dash": "solid"
         },
         "marker": {
          "symbol": "circle"
         },
         "mode": "lines",
         "name": "furniture_composition_ghs_2617",
         "showlegend": true,
         "type": "scattergl",
         "x": [
          "2024-11-26",
          "2024-11-28"
         ],
         "xaxis": "x",
         "y": [
          4,
          12
         ],
         "yaxis": "y"
        },
        {
         "hovertemplate": "Unique_Title=furniture_composition_271<br>Curdate=%{x}<br>Ranking=%{y}<extra></extra>",
         "legendgroup": "furniture_composition_271",
         "line": {
          "color": "#B6E880",
          "dash": "solid"
         },
         "marker": {
          "symbol": "circle"
         },
         "mode": "lines",
         "name": "furniture_composition_271",
         "showlegend": true,
         "type": "scattergl",
         "x": [
          "2024-11-26",
          "2024-11-27",
          "2024-11-28",
          "2024-11-29",
          "2024-11-30",
          "2024-12-01",
          "2024-12-02",
          "2024-12-03"
         ],
         "xaxis": "x",
         "y": [
          3,
          31,
          35,
          37,
          39,
          41,
          20,
          21
         ],
         "yaxis": "y"
        },
        {
         "hovertemplate": "Unique_Title=kukhnia_v_stile_neoklassika_71<br>Curdate=%{x}<br>Ranking=%{y}<extra></extra>",
         "legendgroup": "kukhnia_v_stile_neoklassika_71",
         "line": {
          "color": "#FF97FF",
          "dash": "solid"
         },
         "marker": {
          "symbol": "circle"
         },
         "mode": "lines",
         "name": "kukhnia_v_stile_neoklassika_71",
         "showlegend": true,
         "type": "scattergl",
         "x": [
          "2024-11-26"
         ],
         "xaxis": "x",
         "y": [
          2
         ],
         "yaxis": "y"
        },
        {
         "hovertemplate": "Unique_Title=oborudovanie_dlia_pekarni<br>Curdate=%{x}<br>Ranking=%{y}<extra></extra>",
         "legendgroup": "oborudovanie_dlia_pekarni",
         "line": {
          "color": "#FECB52",
          "dash": "solid"
         },
         "marker": {
          "symbol": "circle"
         },
         "mode": "lines",
         "name": "oborudovanie_dlia_pekarni",
         "showlegend": true,
         "type": "scattergl",
         "x": [
          "2024-11-26",
          "2024-11-27",
          "2024-11-28",
          "2024-11-29",
          "2024-11-30"
         ],
         "xaxis": "x",
         "y": [
          1,
          3,
          30,
          9,
          8
         ],
         "yaxis": "y"
        },
        {
         "hovertemplate": "Unique_Title=rezinovoe_pokrytie_1<br>Curdate=%{x}<br>Ranking=%{y}<extra></extra>",
         "legendgroup": "rezinovoe_pokrytie_1",
         "line": {
          "color": "#636efa",
          "dash": "solid"
         },
         "marker": {
          "symbol": "circle"
         },
         "mode": "lines",
         "name": "rezinovoe_pokrytie_1",
         "showlegend": true,
         "type": "scattergl",
         "x": [
          "2024-11-27",
          "2024-11-28",
          "2024-11-29",
          "2024-11-30",
          "2024-12-01",
          "2024-12-02",
          "2024-12-03",
          "2024-12-04",
          "2024-12-05",
          "2024-12-06",
          "2024-12-07",
          "2024-12-08",
          "2024-12-09",
          "2024-12-11",
          "2024-12-12",
          "2024-12-13",
          "2024-12-14",
          "2024-12-15"
         ],
         "xaxis": "x",
         "y": [
          61,
          45,
          27,
          26,
          49,
          64,
          62,
          80,
          90,
          89,
          75,
          71,
          66,
          40,
          39,
          54,
          59,
          59
         ],
         "yaxis": "y"
        },
        {
         "hovertemplate": "Unique_Title=garderobnaia_sistema_rimadesio_dress_bold<br>Curdate=%{x}<br>Ranking=%{y}<extra></extra>",
         "legendgroup": "garderobnaia_sistema_rimadesio_dress_bold",
         "line": {
          "color": "#EF553B",
          "dash": "solid"
         },
         "marker": {
          "symbol": "circle"
         },
         "mode": "lines",
         "name": "garderobnaia_sistema_rimadesio_dress_bold",
         "showlegend": true,
         "type": "scattergl",
         "x": [
          "2024-11-27",
          "2024-11-28",
          "2024-11-29",
          "2024-11-30",
          "2024-12-01",
          "2024-12-02",
          "2024-12-03",
          "2024-12-04",
          "2024-12-05",
          "2024-12-06",
          "2024-12-14",
          "2024-12-15"
         ],
         "xaxis": "x",
         "y": [
          42,
          47,
          31,
          30,
          10,
          32,
          32,
          20,
          19,
          19,
          15,
          36
         ],
         "yaxis": "y"
        },
        {
         "hovertemplate": "Unique_Title=nabor_printerov_canon_1<br>Curdate=%{x}<br>Ranking=%{y}<extra></extra>",
         "legendgroup": "nabor_printerov_canon_1",
         "line": {
          "color": "#00cc96",
          "dash": "solid"
         },
         "marker": {
          "symbol": "circle"
         },
         "mode": "lines",
         "name": "nabor_printerov_canon_1",
         "showlegend": true,
         "type": "scattergl",
         "x": [
          "2024-11-27",
          "2024-11-28",
          "2024-11-29",
          "2024-11-30",
          "2024-12-01",
          "2024-12-02",
          "2024-12-03"
         ],
         "xaxis": "x",
         "y": [
          36,
          15,
          21,
          19,
          46,
          2,
          1
         ],
         "yaxis": "y"
        },
        {
         "hovertemplate": "Unique_Title=tv_wall_52_7<br>Curdate=%{x}<br>Ranking=%{y}<extra></extra>",
         "legendgroup": "tv_wall_52_7",
         "line": {
          "color": "#ab63fa",
          "dash": "solid"
         },
         "marker": {
          "symbol": "circle"
         },
         "mode": "lines",
         "name": "tv_wall_52_7",
         "showlegend": true,
         "type": "scattergl",
         "x": [
          "2024-11-27",
          "2024-11-28",
          "2024-11-29",
          "2024-11-30",
          "2024-12-01",
          "2024-12-02",
          "2024-12-03",
          "2024-12-04",
          "2024-12-05",
          "2024-12-06",
          "2024-12-07",
          "2024-12-08",
          "2024-12-09",
          "2024-12-11",
          "2024-12-12"
         ],
         "xaxis": "x",
         "y": [
          29,
          34,
          79,
          79,
          80,
          81,
          80,
          90,
          87,
          86,
          84,
          80,
          81,
          34,
          31
         ],
         "yaxis": "y"
        },
        {
         "hovertemplate": "Unique_Title=shkaf_otkrytyi_detskii_s_pismennym_stolom_modulnyi_sovremennyi_25<br>Curdate=%{x}<br>Ranking=%{y}<extra></extra>",
         "legendgroup": "shkaf_otkrytyi_detskii_s_pismennym_stolom_modulnyi_sovremennyi_25",
         "line": {
          "color": "#FFA15A",
          "dash": "solid"
         },
         "marker": {
          "symbol": "circle"
         },
         "mode": "lines",
         "name": "shkaf_otkrytyi_detskii_s_pismennym_stolom_modulnyi_sovremennyi_25",
         "showlegend": true,
         "type": "scattergl",
         "x": [
          "2024-11-27",
          "2024-11-28",
          "2024-11-29",
          "2024-11-30",
          "2024-12-01",
          "2024-12-02",
          "2024-12-03",
          "2024-12-04",
          "2024-12-07",
          "2024-12-08",
          "2024-12-14",
          "2024-12-15"
         ],
         "xaxis": "x",
         "y": [
          26,
          32,
          57,
          58,
          58,
          55,
          53,
          34,
          45,
          45,
          8,
          11
         ],
         "yaxis": "y"
        },
        {
         "hovertemplate": "Unique_Title=kitchen_equipment_1<br>Curdate=%{x}<br>Ranking=%{y}<extra></extra>",
         "legendgroup": "kitchen_equipment_1",
         "line": {
          "color": "#19d3f3",
          "dash": "solid"
         },
         "marker": {
          "symbol": "circle"
         },
         "mode": "lines",
         "name": "kitchen_equipment_1",
         "showlegend": true,
         "type": "scattergl",
         "x": [
          "2024-11-27"
         ],
         "xaxis": "x",
         "y": [
          24
         ],
         "yaxis": "y"
        },
        {
         "hovertemplate": "Unique_Title=gitara_stsenicheskii_nabor_gitarista_muzykalnyi_instrument_mikrofon<br>Curdate=%{x}<br>Ranking=%{y}<extra></extra>",
         "legendgroup": "gitara_stsenicheskii_nabor_gitarista_muzykalnyi_instrument_mikrofon",
         "line": {
          "color": "#FF6692",
          "dash": "solid"
         },
         "marker": {
          "symbol": "circle"
         },
         "mode": "lines",
         "name": "gitara_stsenicheskii_nabor_gitarista_muzykalnyi_instrument_mikrofon",
         "showlegend": true,
         "type": "scattergl",
         "x": [
          "2024-11-27",
          "2024-11-28",
          "2024-11-29",
          "2024-11-30",
          "2024-12-01",
          "2024-12-02",
          "2024-12-03",
          "2024-12-04",
          "2024-12-07",
          "2024-12-08",
          "2024-12-09"
         ],
         "xaxis": "x",
         "y": [
          23,
          6,
          56,
          56,
          56,
          37,
          37,
          29,
          17,
          17,
          40
         ],
         "yaxis": "y"
        },
        {
         "hovertemplate": "Unique_Title=garderobnaia_24<br>Curdate=%{x}<br>Ranking=%{y}<extra></extra>",
         "legendgroup": "garderobnaia_24",
         "line": {
          "color": "#B6E880",
          "dash": "solid"
         },
         "marker": {
          "symbol": "circle"
         },
         "mode": "lines",
         "name": "garderobnaia_24",
         "showlegend": true,
         "type": "scattergl",
         "x": [
          "2024-11-27",
          "2024-11-28"
         ],
         "xaxis": "x",
         "y": [
          21,
          2
         ],
         "yaxis": "y"
        },
        {
         "hovertemplate": "Unique_Title=khmara_by_makhno_rough_plaster_pendant_lamps_set_01_3<br>Curdate=%{x}<br>Ranking=%{y}<extra></extra>",
         "legendgroup": "khmara_by_makhno_rough_plaster_pendant_lamps_set_01_3",
         "line": {
          "color": "#FF97FF",
          "dash": "solid"
         },
         "marker": {
          "symbol": "circle"
         },
         "mode": "lines",
         "name": "khmara_by_makhno_rough_plaster_pendant_lamps_set_01_3",
         "showlegend": true,
         "type": "scattergl",
         "x": [
          "2024-11-27",
          "2024-11-28",
          "2024-11-29",
          "2024-11-30",
          "2024-12-01",
          "2024-12-02",
          "2024-12-03",
          "2024-12-04",
          "2024-12-05",
          "2024-12-06",
          "2024-12-07",
          "2024-12-08",
          "2024-12-09"
         ],
         "xaxis": "x",
         "y": [
          20,
          22,
          48,
          49,
          90,
          87,
          87,
          88,
          74,
          74,
          61,
          59,
          37
         ],
         "yaxis": "y"
        },
        {
         "hovertemplate": "Unique_Title=volhovec_rift_doors_1<br>Curdate=%{x}<br>Ranking=%{y}<extra></extra>",
         "legendgroup": "volhovec_rift_doors_1",
         "line": {
          "color": "#FECB52",
          "dash": "solid"
         },
         "marker": {
          "symbol": "circle"
         },
         "mode": "lines",
         "name": "volhovec_rift_doors_1",
         "showlegend": true,
         "type": "scattergl",
         "x": [
          "2024-11-27",
          "2024-11-28",
          "2024-11-29",
          "2024-11-30",
          "2024-12-01",
          "2024-12-02",
          "2024-12-03",
          "2024-12-04",
          "2024-12-07",
          "2024-12-08",
          "2024-12-09"
         ],
         "xaxis": "x",
         "y": [
          16,
          64,
          65,
          67,
          48,
          50,
          49,
          16,
          14,
          13,
          3
         ],
         "yaxis": "y"
        },
        {
         "hovertemplate": "Unique_Title=saba_italia_pixel_sofa_8<br>Curdate=%{x}<br>Ranking=%{y}<extra></extra>",
         "legendgroup": "saba_italia_pixel_sofa_8",
         "line": {
          "color": "#636efa",
          "dash": "solid"
         },
         "marker": {
          "symbol": "circle"
         },
         "mode": "lines",
         "name": "saba_italia_pixel_sofa_8",
         "showlegend": true,
         "type": "scattergl",
         "x": [
          "2024-11-27"
         ],
         "xaxis": "x",
         "y": [
          15
         ],
         "yaxis": "y"
        },
        {
         "hovertemplate": "Unique_Title=pattie_armchair_by_minotti_3<br>Curdate=%{x}<br>Ranking=%{y}<extra></extra>",
         "legendgroup": "pattie_armchair_by_minotti_3",
         "line": {
          "color": "#EF553B",
          "dash": "solid"
         },
         "marker": {
          "symbol": "circle"
         },
         "mode": "lines",
         "name": "pattie_armchair_by_minotti_3",
         "showlegend": true,
         "type": "scattergl",
         "x": [
          "2024-11-27",
          "2024-11-29",
          "2024-11-30",
          "2024-12-01",
          "2024-12-02",
          "2024-12-03",
          "2024-12-04",
          "2024-12-05",
          "2024-12-06",
          "2024-12-07",
          "2024-12-08"
         ],
         "xaxis": "x",
         "y": [
          12,
          23,
          21,
          6,
          46,
          46,
          71,
          80,
          79,
          57,
          55
         ],
         "yaxis": "y"
        },
        {
         "hovertemplate": "Unique_Title=equipe_bali_2<br>Curdate=%{x}<br>Ranking=%{y}<extra></extra>",
         "legendgroup": "equipe_bali_2",
         "line": {
          "color": "#00cc96",
          "dash": "solid"
         },
         "marker": {
          "symbol": "circle"
         },
         "mode": "lines",
         "name": "equipe_bali_2",
         "showlegend": true,
         "type": "scattergl",
         "x": [
          "2024-11-27",
          "2024-11-28",
          "2024-11-29",
          "2024-11-30",
          "2024-12-01",
          "2024-12-02",
          "2024-12-03",
          "2024-12-04",
          "2024-12-05",
          "2024-12-06",
          "2024-12-07",
          "2024-12-08",
          "2024-12-09",
          "2024-12-11",
          "2024-12-12",
          "2024-12-13"
         ],
         "xaxis": "x",
         "y": [
          10,
          74,
          82,
          99,
          103,
          100,
          100,
          100,
          100,
          101,
          97,
          99,
          89,
          63,
          65,
          39
         ],
         "yaxis": "y"
        },
        {
         "hovertemplate": "Unique_Title=thick_and_linen_curtains_with_roman_shade<br>Curdate=%{x}<br>Ranking=%{y}<extra></extra>",
         "legendgroup": "thick_and_linen_curtains_with_roman_shade",
         "line": {
          "color": "#ab63fa",
          "dash": "solid"
         },
         "marker": {
          "symbol": "circle"
         },
         "mode": "lines",
         "name": "thick_and_linen_curtains_with_roman_shade",
         "showlegend": true,
         "type": "scattergl",
         "x": [
          "2024-11-27"
         ],
         "xaxis": "x",
         "y": [
          9
         ],
         "yaxis": "y"
        },
        {
         "hovertemplate": "Unique_Title=ato_rug_by_gallotti_radice<br>Curdate=%{x}<br>Ranking=%{y}<extra></extra>",
         "legendgroup": "ato_rug_by_gallotti_radice",
         "line": {
          "color": "#FFA15A",
          "dash": "solid"
         },
         "marker": {
          "symbol": "circle"
         },
         "mode": "lines",
         "name": "ato_rug_by_gallotti_radice",
         "showlegend": true,
         "type": "scattergl",
         "x": [
          "2024-11-27"
         ],
         "xaxis": "x",
         "y": [
          6
         ],
         "yaxis": "y"
        },
        {
         "hovertemplate": "Unique_Title=bathroom_accessories_z42<br>Curdate=%{x}<br>Ranking=%{y}<extra></extra>",
         "legendgroup": "bathroom_accessories_z42",
         "line": {
          "color": "#19d3f3",
          "dash": "solid"
         },
         "marker": {
          "symbol": "circle"
         },
         "mode": "lines",
         "name": "bathroom_accessories_z42",
         "showlegend": true,
         "type": "scattergl",
         "x": [
          "2024-11-27",
          "2024-11-28",
          "2024-11-29",
          "2024-11-30",
          "2024-12-01",
          "2024-12-02",
          "2024-12-03",
          "2024-12-04",
          "2024-12-05",
          "2024-12-06",
          "2024-12-07",
          "2024-12-08",
          "2024-12-09",
          "2024-12-12"
         ],
         "xaxis": "x",
         "y": [
          5,
          53,
          78,
          78,
          92,
          89,
          93,
          89,
          93,
          92,
          46,
          46,
          22,
          10
         ],
         "yaxis": "y"
        },
        {
         "hovertemplate": "Unique_Title=ulichnaia_novogodniaia_elka<br>Curdate=%{x}<br>Ranking=%{y}<extra></extra>",
         "legendgroup": "ulichnaia_novogodniaia_elka",
         "line": {
          "color": "#FF6692",
          "dash": "solid"
         },
         "marker": {
          "symbol": "circle"
         },
         "mode": "lines",
         "name": "ulichnaia_novogodniaia_elka",
         "showlegend": true,
         "type": "scattergl",
         "x": [
          "2024-11-27",
          "2024-11-28",
          "2024-11-29",
          "2024-11-30",
          "2024-12-01",
          "2024-12-02",
          "2024-12-03",
          "2024-12-04",
          "2024-12-05",
          "2024-12-06",
          "2024-12-07",
          "2024-12-08",
          "2024-12-13",
          "2024-12-14",
          "2024-12-15"
         ],
         "xaxis": "x",
         "y": [
          2,
          4,
          7,
          5,
          35,
          12,
          13,
          25,
          21,
          20,
          15,
          15,
          6,
          39,
          19
         ],
         "yaxis": "y"
        },
        {
         "hovertemplate": "Unique_Title=curtain_28_shtory<br>Curdate=%{x}<br>Ranking=%{y}<extra></extra>",
         "legendgroup": "curtain_28_shtory",
         "line": {
          "color": "#B6E880",
          "dash": "solid"
         },
         "marker": {
          "symbol": "circle"
         },
         "mode": "lines",
         "name": "curtain_28_shtory",
         "showlegend": true,
         "type": "scattergl",
         "x": [
          "2024-11-27",
          "2024-11-28"
         ],
         "xaxis": "x",
         "y": [
          1,
          25
         ],
         "yaxis": "y"
        },
        {
         "hovertemplate": "Unique_Title=dinning_set_162<br>Curdate=%{x}<br>Ranking=%{y}<extra></extra>",
         "legendgroup": "dinning_set_162",
         "line": {
          "color": "#FF97FF",
          "dash": "solid"
         },
         "marker": {
          "symbol": "circle"
         },
         "mode": "lines",
         "name": "dinning_set_162",
         "showlegend": true,
         "type": "scattergl",
         "x": [
          "2024-11-28",
          "2024-11-29",
          "2024-11-30",
          "2024-12-01",
          "2024-12-02",
          "2024-12-03"
         ],
         "xaxis": "x",
         "y": [
          54,
          13,
          38,
          38,
          71,
          70
         ],
         "yaxis": "y"
        },
        {
         "hovertemplate": "Unique_Title=ewrika_penelopa_polotentsesushitel_elektricheskii<br>Curdate=%{x}<br>Ranking=%{y}<extra></extra>",
         "legendgroup": "ewrika_penelopa_polotentsesushitel_elektricheskii",
         "line": {
          "color": "#FECB52",
          "dash": "solid"
         },
         "marker": {
          "symbol": "circle"
         },
         "mode": "lines",
         "name": "ewrika_penelopa_polotentsesushitel_elektricheskii",
         "showlegend": true,
         "type": "scattergl",
         "x": [
          "2024-11-28",
          "2024-11-29",
          "2024-11-30",
          "2024-12-01",
          "2024-12-02",
          "2024-12-03",
          "2024-12-04",
          "2024-12-05",
          "2024-12-06",
          "2024-12-07",
          "2024-12-08",
          "2024-12-09",
          "2024-12-11",
          "2024-12-12",
          "2024-12-13",
          "2024-12-14",
          "2024-12-15"
         ],
         "xaxis": "x",
         "y": [
          38,
          17,
          15,
          21,
          44,
          44,
          8,
          6,
          7,
          32,
          33,
          32,
          72,
          64,
          62,
          55,
          55
         ],
         "yaxis": "y"
        },
        {
         "hovertemplate": "Unique_Title=a_set_for_a_clothing_store_and_showroom<br>Curdate=%{x}<br>Ranking=%{y}<extra></extra>",
         "legendgroup": "a_set_for_a_clothing_store_and_showroom",
         "line": {
          "color": "#636efa",
          "dash": "solid"
         },
         "marker": {
          "symbol": "circle"
         },
         "mode": "lines",
         "name": "a_set_for_a_clothing_store_and_showroom",
         "showlegend": true,
         "type": "scattergl",
         "x": [
          "2024-11-28",
          "2024-12-01",
          "2024-12-02",
          "2024-12-03",
          "2024-12-04",
          "2024-12-05",
          "2024-12-06",
          "2024-12-07",
          "2024-12-08",
          "2024-12-09",
          "2024-12-11",
          "2024-12-12"
         ],
         "xaxis": "x",
         "y": [
          37,
          42,
          60,
          59,
          52,
          68,
          67,
          29,
          30,
          60,
          52,
          53
         ],
         "yaxis": "y"
        },
        {
         "hovertemplate": "Unique_Title=dekorativnyi_nabor_s_malenkoi_sumkoi_bezh<br>Curdate=%{x}<br>Ranking=%{y}<extra></extra>",
         "legendgroup": "dekorativnyi_nabor_s_malenkoi_sumkoi_bezh",
         "line": {
          "color": "#EF553B",
          "dash": "solid"
         },
         "marker": {
          "symbol": "circle"
         },
         "mode": "lines",
         "name": "dekorativnyi_nabor_s_malenkoi_sumkoi_bezh",
         "showlegend": true,
         "type": "scattergl",
         "x": [
          "2024-11-28",
          "2024-11-29",
          "2024-11-30",
          "2024-12-01",
          "2024-12-02",
          "2024-12-03",
          "2024-12-04",
          "2024-12-05",
          "2024-12-06",
          "2024-12-07",
          "2024-12-08",
          "2024-12-09",
          "2024-12-11",
          "2024-12-12",
          "2024-12-13",
          "2024-12-14",
          "2024-12-15"
         ],
         "xaxis": "x",
         "y": [
          24,
          51,
          52,
          76,
          67,
          65,
          56,
          61,
          60,
          64,
          62,
          38,
          22,
          42,
          44,
          38,
          37
         ],
         "yaxis": "y"
        },
        {
         "hovertemplate": "Unique_Title=emmi_armchair_by_minotti_2<br>Curdate=%{x}<br>Ranking=%{y}<extra></extra>",
         "legendgroup": "emmi_armchair_by_minotti_2",
         "line": {
          "color": "#00cc96",
          "dash": "solid"
         },
         "marker": {
          "symbol": "circle"
         },
         "mode": "lines",
         "name": "emmi_armchair_by_minotti_2",
         "showlegend": true,
         "type": "scattergl",
         "x": [
          "2024-11-28",
          "2024-11-29",
          "2024-11-30",
          "2024-12-01",
          "2024-12-02",
          "2024-12-03",
          "2024-12-04",
          "2024-12-05",
          "2024-12-06"
         ],
         "xaxis": "x",
         "y": [
          18,
          46,
          47,
          50,
          65,
          63,
          72,
          18,
          18
         ],
         "yaxis": "y"
        },
        {
         "hovertemplate": "Unique_Title=mebel_dlia_vannoi_11_3<br>Curdate=%{x}<br>Ranking=%{y}<extra></extra>",
         "legendgroup": "mebel_dlia_vannoi_11_3",
         "line": {
          "color": "#ab63fa",
          "dash": "solid"
         },
         "marker": {
          "symbol": "circle"
         },
         "mode": "lines",
         "name": "mebel_dlia_vannoi_11_3",
         "showlegend": true,
         "type": "scattergl",
         "x": [
          "2024-11-28"
         ],
         "xaxis": "x",
         "y": [
          17
         ],
         "yaxis": "y"
        },
        {
         "hovertemplate": "Unique_Title=pinch_pleat_linen_curtain_with_roller_blind<br>Curdate=%{x}<br>Ranking=%{y}<extra></extra>",
         "legendgroup": "pinch_pleat_linen_curtain_with_roller_blind",
         "line": {
          "color": "#FFA15A",
          "dash": "solid"
         },
         "marker": {
          "symbol": "circle"
         },
         "mode": "lines",
         "name": "pinch_pleat_linen_curtain_with_roller_blind",
         "showlegend": true,
         "type": "scattergl",
         "x": [
          "2024-11-28",
          "2024-11-29",
          "2024-11-30",
          "2024-12-01",
          "2024-12-02",
          "2024-12-03",
          "2024-12-04",
          "2024-12-05",
          "2024-12-06",
          "2024-12-07",
          "2024-12-08",
          "2024-12-09",
          "2024-12-11",
          "2024-12-12",
          "2024-12-13",
          "2024-12-14",
          "2024-12-15"
         ],
         "xaxis": "x",
         "y": [
          9,
          68,
          69,
          104,
          109,
          109,
          112,
          113,
          113,
          111,
          111,
          105,
          102,
          104,
          102,
          97,
          97
         ],
         "yaxis": "y"
        },
        {
         "hovertemplate": "Unique_Title=elochka_1<br>Curdate=%{x}<br>Ranking=%{y}<extra></extra>",
         "legendgroup": "elochka_1",
         "line": {
          "color": "#19d3f3",
          "dash": "solid"
         },
         "marker": {
          "symbol": "circle"
         },
         "mode": "lines",
         "name": "elochka_1",
         "showlegend": true,
         "type": "scattergl",
         "x": [
          "2024-11-28",
          "2024-11-29",
          "2024-11-30",
          "2024-12-01",
          "2024-12-02",
          "2024-12-03",
          "2024-12-04",
          "2024-12-05",
          "2024-12-06",
          "2024-12-07",
          "2024-12-08",
          "2024-12-09",
          "2024-12-11",
          "2024-12-12",
          "2024-12-13",
          "2024-12-14",
          "2024-12-15"
         ],
         "xaxis": "x",
         "y": [
          8,
          36,
          36,
          59,
          54,
          69,
          101,
          105,
          104,
          107,
          107,
          101,
          93,
          100,
          95,
          101,
          101
         ],
         "yaxis": "y"
        },
        {
         "hovertemplate": "Unique_Title=kukhonnyi_stol_loft_tobacco_i_stulia_dik_divan_ru<br>Curdate=%{x}<br>Ranking=%{y}<extra></extra>",
         "legendgroup": "kukhonnyi_stol_loft_tobacco_i_stulia_dik_divan_ru",
         "line": {
          "color": "#FF6692",
          "dash": "solid"
         },
         "marker": {
          "symbol": "circle"
         },
         "mode": "lines",
         "name": "kukhonnyi_stol_loft_tobacco_i_stulia_dik_divan_ru",
         "showlegend": true,
         "type": "scattergl",
         "x": [
          "2024-11-28"
         ],
         "xaxis": "x",
         "y": [
          7
         ],
         "yaxis": "y"
        },
        {
         "hovertemplate": "Unique_Title=thermal_curtain_ballu<br>Curdate=%{x}<br>Ranking=%{y}<extra></extra>",
         "legendgroup": "thermal_curtain_ballu",
         "line": {
          "color": "#B6E880",
          "dash": "solid"
         },
         "marker": {
          "symbol": "circle"
         },
         "mode": "lines",
         "name": "thermal_curtain_ballu",
         "showlegend": true,
         "type": "scattergl",
         "x": [
          "2024-11-28",
          "2024-12-09",
          "2024-12-11",
          "2024-12-12",
          "2024-12-13"
         ],
         "xaxis": "x",
         "y": [
          5,
          9,
          44,
          44,
          7
         ],
         "yaxis": "y"
        },
        {
         "hovertemplate": "Unique_Title=yoga_meditation_set<br>Curdate=%{x}<br>Ranking=%{y}<extra></extra>",
         "legendgroup": "yoga_meditation_set",
         "line": {
          "color": "#FF97FF",
          "dash": "solid"
         },
         "marker": {
          "symbol": "circle"
         },
         "mode": "lines",
         "name": "yoga_meditation_set",
         "showlegend": true,
         "type": "scattergl",
         "x": [
          "2024-11-28",
          "2024-11-29",
          "2024-11-30"
         ],
         "xaxis": "x",
         "y": [
          3,
          6,
          33
         ],
         "yaxis": "y"
        },
        {
         "hovertemplate": "Unique_Title=timo_saona<br>Curdate=%{x}<br>Ranking=%{y}<extra></extra>",
         "legendgroup": "timo_saona",
         "line": {
          "color": "#FECB52",
          "dash": "solid"
         },
         "marker": {
          "symbol": "circle"
         },
         "mode": "lines",
         "name": "timo_saona",
         "showlegend": true,
         "type": "scattergl",
         "x": [
          "2024-11-28",
          "2024-11-29",
          "2024-11-30",
          "2024-12-01",
          "2024-12-02",
          "2024-12-03"
         ],
         "xaxis": "x",
         "y": [
          1,
          50,
          51,
          32,
          35,
          35
         ],
         "yaxis": "y"
        },
        {
         "hovertemplate": "Unique_Title=kukhnia_27_3<br>Curdate=%{x}<br>Ranking=%{y}<extra></extra>",
         "legendgroup": "kukhnia_27_3",
         "line": {
          "color": "#636efa",
          "dash": "solid"
         },
         "marker": {
          "symbol": "circle"
         },
         "mode": "lines",
         "name": "kukhnia_27_3",
         "showlegend": true,
         "type": "scattergl",
         "x": [
          "2024-11-29",
          "2024-11-30",
          "2024-12-01",
          "2024-12-02",
          "2024-12-03",
          "2024-12-04",
          "2024-12-05",
          "2024-12-06",
          "2024-12-07",
          "2024-12-08",
          "2024-12-09"
         ],
         "xaxis": "x",
         "y": [
          35,
          37,
          69,
          39,
          39,
          60,
          33,
          32,
          44,
          44,
          43
         ],
         "yaxis": "y"
        },
        {
         "hovertemplate": "Unique_Title=treivis_stellazh_divan_ru<br>Curdate=%{x}<br>Ranking=%{y}<extra></extra>",
         "legendgroup": "treivis_stellazh_divan_ru",
         "line": {
          "color": "#EF553B",
          "dash": "solid"
         },
         "marker": {
          "symbol": "circle"
         },
         "mode": "lines",
         "name": "treivis_stellazh_divan_ru",
         "showlegend": true,
         "type": "scattergl",
         "x": [
          "2024-11-29",
          "2024-11-30",
          "2024-12-01",
          "2024-12-02",
          "2024-12-03",
          "2024-12-04",
          "2024-12-05",
          "2024-12-06"
         ],
         "xaxis": "x",
         "y": [
          26,
          25,
          28,
          6,
          7,
          45,
          45,
          45
         ],
         "yaxis": "y"
        },
        {
         "hovertemplate": "Unique_Title=curtain_121_4<br>Curdate=%{x}<br>Ranking=%{y}<extra></extra>",
         "legendgroup": "curtain_121_4",
         "line": {
          "color": "#00cc96",
          "dash": "solid"
         },
         "marker": {
          "symbol": "circle"
         },
         "mode": "lines",
         "name": "curtain_121_4",
         "showlegend": true,
         "type": "scattergl",
         "x": [
          "2024-11-29",
          "2024-11-30"
         ],
         "xaxis": "x",
         "y": [
          14,
          13
         ],
         "yaxis": "y"
        },
        {
         "hovertemplate": "Unique_Title=decorative_set_086_4<br>Curdate=%{x}<br>Ranking=%{y}<extra></extra>",
         "legendgroup": "decorative_set_086_4",
         "line": {
          "color": "#ab63fa",
          "dash": "solid"
         },
         "marker": {
          "symbol": "circle"
         },
         "mode": "lines",
         "name": "decorative_set_086_4",
         "showlegend": true,
         "type": "scattergl",
         "x": [
          "2024-11-29",
          "2024-11-30",
          "2024-12-01",
          "2024-12-02",
          "2024-12-03",
          "2024-12-04",
          "2024-12-05",
          "2024-12-06",
          "2024-12-07",
          "2024-12-08",
          "2024-12-09",
          "2024-12-11",
          "2024-12-12",
          "2024-12-13",
          "2024-12-14",
          "2024-12-15"
         ],
         "xaxis": "x",
         "y": [
          11,
          11,
          37,
          78,
          77,
          105,
          106,
          105,
          105,
          103,
          95,
          98,
          95,
          90,
          90,
          90
         ],
         "yaxis": "y"
        },
        {
         "hovertemplate": "Unique_Title=plastikovoie_okno_balkonnaia_dvier_1<br>Curdate=%{x}<br>Ranking=%{y}<extra></extra>",
         "legendgroup": "plastikovoie_okno_balkonnaia_dvier_1",
         "line": {
          "color": "#FFA15A",
          "dash": "solid"
         },
         "marker": {
          "symbol": "circle"
         },
         "mode": "lines",
         "name": "plastikovoie_okno_balkonnaia_dvier_1",
         "showlegend": true,
         "type": "scattergl",
         "x": [
          "2024-11-29",
          "2024-12-07",
          "2024-12-08"
         ],
         "xaxis": "x",
         "y": [
          10,
          18,
          19
         ],
         "yaxis": "y"
        },
        {
         "hovertemplate": "Unique_Title=cat_forklift_manual_loader_and_warehouse_carts_kit<br>Curdate=%{x}<br>Ranking=%{y}<extra></extra>",
         "legendgroup": "cat_forklift_manual_loader_and_warehouse_carts_kit",
         "line": {
          "color": "#19d3f3",
          "dash": "solid"
         },
         "marker": {
          "symbol": "circle"
         },
         "mode": "lines",
         "name": "cat_forklift_manual_loader_and_warehouse_carts_kit",
         "showlegend": true,
         "type": "scattergl",
         "x": [
          "2024-11-29",
          "2024-11-30"
         ],
         "xaxis": "x",
         "y": [
          8,
          6
         ],
         "yaxis": "y"
        },
        {
         "hovertemplate": "Unique_Title=acer_ginnala_3<br>Curdate=%{x}<br>Ranking=%{y}<extra></extra>",
         "legendgroup": "acer_ginnala_3",
         "line": {
          "color": "#FF6692",
          "dash": "solid"
         },
         "marker": {
          "symbol": "circle"
         },
         "mode": "lines",
         "name": "acer_ginnala_3",
         "showlegend": true,
         "type": "scattergl",
         "x": [
          "2024-11-30",
          "2024-12-05",
          "2024-12-06"
         ],
         "xaxis": "x",
         "y": [
          7,
          26,
          25
         ],
         "yaxis": "y"
        },
        {
         "hovertemplate": "Unique_Title=a_set_of_clothes_and_accessories_to_fill_a_wardrobe_or_store_and_showroom<br>Curdate=%{x}<br>Ranking=%{y}<extra></extra>",
         "legendgroup": "a_set_of_clothes_and_accessories_to_fill_a_wardrobe_or_store_and_showroom",
         "line": {
          "color": "#B6E880",
          "dash": "solid"
         },
         "marker": {
          "symbol": "circle"
         },
         "mode": "lines",
         "name": "a_set_of_clothes_and_accessories_to_fill_a_wardrobe_or_store_and_showroom",
         "showlegend": true,
         "type": "scattergl",
         "x": [
          "2024-12-01",
          "2024-12-02",
          "2024-12-03",
          "2024-12-04",
          "2024-12-05",
          "2024-12-06",
          "2024-12-07",
          "2024-12-08",
          "2024-12-09",
          "2024-12-11",
          "2024-12-12",
          "2024-12-13",
          "2024-12-14",
          "2024-12-15"
         ],
         "xaxis": "x",
         "y": [
          70,
          88,
          88,
          102,
          110,
          111,
          110,
          110,
          104,
          100,
          90,
          89,
          78,
          86
         ],
         "yaxis": "y"
        },
        {
         "hovertemplate": "Unique_Title=novogodniaia_servirovka_3_2<br>Curdate=%{x}<br>Ranking=%{y}<extra></extra>",
         "legendgroup": "novogodniaia_servirovka_3_2",
         "line": {
          "color": "#FF97FF",
          "dash": "solid"
         },
         "marker": {
          "symbol": "circle"
         },
         "mode": "lines",
         "name": "novogodniaia_servirovka_3_2",
         "showlegend": true,
         "type": "scattergl",
         "x": [
          "2024-12-01",
          "2024-12-02",
          "2024-12-03",
          "2024-12-04",
          "2024-12-05",
          "2024-12-06",
          "2024-12-07",
          "2024-12-08",
          "2024-12-09",
          "2024-12-11",
          "2024-12-12",
          "2024-12-13",
          "2024-12-14",
          "2024-12-15"
         ],
         "xaxis": "x",
         "y": [
          65,
          74,
          73,
          77,
          79,
          77,
          101,
          100,
          96,
          95,
          93,
          91,
          92,
          92
         ],
         "yaxis": "y"
        },
        {
         "hovertemplate": "Unique_Title=banketka_taks_bukle_kapuchino_3<br>Curdate=%{x}<br>Ranking=%{y}<extra></extra>",
         "legendgroup": "banketka_taks_bukle_kapuchino_3",
         "line": {
          "color": "#FECB52",
          "dash": "solid"
         },
         "marker": {
          "symbol": "circle"
         },
         "mode": "lines",
         "name": "banketka_taks_bukle_kapuchino_3",
         "showlegend": true,
         "type": "scattergl",
         "x": [
          "2024-12-01",
          "2024-12-02",
          "2024-12-03",
          "2024-12-04"
         ],
         "xaxis": "x",
         "y": [
          47,
          45,
          45,
          11
         ],
         "yaxis": "y"
        },
        {
         "hovertemplate": "Unique_Title=set_of_apple_equipment_2<br>Curdate=%{x}<br>Ranking=%{y}<extra></extra>",
         "legendgroup": "set_of_apple_equipment_2",
         "line": {
          "color": "#636efa",
          "dash": "solid"
         },
         "marker": {
          "symbol": "circle"
         },
         "mode": "lines",
         "name": "set_of_apple_equipment_2",
         "showlegend": true,
         "type": "scattergl",
         "x": [
          "2024-12-01",
          "2024-12-02",
          "2024-12-03",
          "2024-12-04"
         ],
         "xaxis": "x",
         "y": [
          33,
          36,
          36,
          22
         ],
         "yaxis": "y"
        },
        {
         "hovertemplate": "Unique_Title=stellazh_s_dekorom_11<br>Curdate=%{x}<br>Ranking=%{y}<extra></extra>",
         "legendgroup": "stellazh_s_dekorom_11",
         "line": {
          "color": "#EF553B",
          "dash": "solid"
         },
         "marker": {
          "symbol": "circle"
         },
         "mode": "lines",
         "name": "stellazh_s_dekorom_11",
         "showlegend": true,
         "type": "scattergl",
         "x": [
          "2024-12-01",
          "2024-12-02",
          "2024-12-03",
          "2024-12-04",
          "2024-12-05",
          "2024-12-06",
          "2024-12-07",
          "2024-12-08",
          "2024-12-09",
          "2024-12-13"
         ],
         "xaxis": "x",
         "y": [
          26,
          29,
          29,
          43,
          59,
          59,
          35,
          36,
          36,
          1
         ],
         "yaxis": "y"
        },
        {
         "hovertemplate": "Unique_Title=trenazher_dlia_pilatesa_fonv_reformer_professional<br>Curdate=%{x}<br>Ranking=%{y}<extra></extra>",
         "legendgroup": "trenazher_dlia_pilatesa_fonv_reformer_professional",
         "line": {
          "color": "#00cc96",
          "dash": "solid"
         },
         "marker": {
          "symbol": "circle"
         },
         "mode": "lines",
         "name": "trenazher_dlia_pilatesa_fonv_reformer_professional",
         "showlegend": true,
         "type": "scattergl",
         "x": [
          "2024-12-01",
          "2024-12-02",
          "2024-12-03"
         ],
         "xaxis": "x",
         "y": [
          25,
          5,
          5
         ],
         "yaxis": "y"
        },
        {
         "hovertemplate": "Unique_Title=gessi_habito_bathroom_faucet_collection_1_1<br>Curdate=%{x}<br>Ranking=%{y}<extra></extra>",
         "legendgroup": "gessi_habito_bathroom_faucet_collection_1_1",
         "line": {
          "color": "#ab63fa",
          "dash": "solid"
         },
         "marker": {
          "symbol": "circle"
         },
         "mode": "lines",
         "name": "gessi_habito_bathroom_faucet_collection_1_1",
         "showlegend": true,
         "type": "scattergl",
         "x": [
          "2024-12-01",
          "2024-12-02",
          "2024-12-03"
         ],
         "xaxis": "x",
         "y": [
          23,
          27,
          28
         ],
         "yaxis": "y"
        },
        {
         "hovertemplate": "Unique_Title=polotentsesushiteli_boheme_uno<br>Curdate=%{x}<br>Ranking=%{y}<extra></extra>",
         "legendgroup": "polotentsesushiteli_boheme_uno",
         "line": {
          "color": "#FFA15A",
          "dash": "solid"
         },
         "marker": {
          "symbol": "circle"
         },
         "mode": "lines",
         "name": "polotentsesushiteli_boheme_uno",
         "showlegend": true,
         "type": "scattergl",
         "x": [
          "2024-12-01",
          "2024-12-02",
          "2024-12-03",
          "2024-12-04",
          "2024-12-05",
          "2024-12-06",
          "2024-12-07",
          "2024-12-08",
          "2024-12-09"
         ],
         "xaxis": "x",
         "y": [
          19,
          83,
          82,
          66,
          69,
          68,
          30,
          31,
          29
         ],
         "yaxis": "y"
        },
        {
         "hovertemplate": "Unique_Title=dekorativnyi_nabor_ng25<br>Curdate=%{x}<br>Ranking=%{y}<extra></extra>",
         "legendgroup": "dekorativnyi_nabor_ng25",
         "line": {
          "color": "#19d3f3",
          "dash": "solid"
         },
         "marker": {
          "symbol": "circle"
         },
         "mode": "lines",
         "name": "dekorativnyi_nabor_ng25",
         "showlegend": true,
         "type": "scattergl",
         "x": [
          "2024-12-01",
          "2024-12-02",
          "2024-12-03",
          "2024-12-04",
          "2024-12-05",
          "2024-12-06",
          "2024-12-07",
          "2024-12-08",
          "2024-12-09",
          "2024-12-11",
          "2024-12-14",
          "2024-12-15"
         ],
         "xaxis": "x",
         "y": [
          17,
          57,
          56,
          51,
          66,
          65,
          70,
          66,
          57,
          8,
          30,
          30
         ],
         "yaxis": "y"
        },
        {
         "hovertemplate": "Unique_Title=tv_wall_black_wood_set_192<br>Curdate=%{x}<br>Ranking=%{y}<extra></extra>",
         "legendgroup": "tv_wall_black_wood_set_192",
         "line": {
          "color": "#FF6692",
          "dash": "solid"
         },
         "marker": {
          "symbol": "circle"
         },
         "mode": "lines",
         "name": "tv_wall_black_wood_set_192",
         "showlegend": true,
         "type": "scattergl",
         "x": [
          "2024-12-01"
         ],
         "xaxis": "x",
         "y": [
          16
         ],
         "yaxis": "y"
        },
        {
         "hovertemplate": "Unique_Title=stul_vigo_deephouse<br>Curdate=%{x}<br>Ranking=%{y}<extra></extra>",
         "legendgroup": "stul_vigo_deephouse",
         "line": {
          "color": "#B6E880",
          "dash": "solid"
         },
         "marker": {
          "symbol": "circle"
         },
         "mode": "lines",
         "name": "stul_vigo_deephouse",
         "showlegend": true,
         "type": "scattergl",
         "x": [
          "2024-12-01",
          "2024-12-02",
          "2024-12-03",
          "2024-12-04",
          "2024-12-05",
          "2024-12-06",
          "2024-12-07",
          "2024-12-08",
          "2024-12-09"
         ],
         "xaxis": "x",
         "y": [
          2,
          22,
          23,
          39,
          41,
          40,
          2,
          3,
          30
         ],
         "yaxis": "y"
        },
        {
         "hovertemplate": "Unique_Title=henge_vibe_wall_lamps<br>Curdate=%{x}<br>Ranking=%{y}<extra></extra>",
         "legendgroup": "henge_vibe_wall_lamps",
         "line": {
          "color": "#FF97FF",
          "dash": "solid"
         },
         "marker": {
          "symbol": "circle"
         },
         "mode": "lines",
         "name": "henge_vibe_wall_lamps",
         "showlegend": true,
         "type": "scattergl",
         "x": [
          "2024-12-02",
          "2024-12-03",
          "2024-12-04",
          "2024-12-05",
          "2024-12-06",
          "2024-12-07",
          "2024-12-08",
          "2024-12-09",
          "2024-12-11",
          "2024-12-12",
          "2024-12-13",
          "2024-12-14",
          "2024-12-15"
         ],
         "xaxis": "x",
         "y": [
          41,
          40,
          62,
          86,
          85,
          47,
          67,
          58,
          49,
          51,
          34,
          28,
          28
         ],
         "yaxis": "y"
        },
        {
         "hovertemplate": "Unique_Title=christmas_tree_and_decoration_77<br>Curdate=%{x}<br>Ranking=%{y}<extra></extra>",
         "legendgroup": "christmas_tree_and_decoration_77",
         "line": {
          "color": "#FECB52",
          "dash": "solid"
         },
         "marker": {
          "symbol": "circle"
         },
         "mode": "lines",
         "name": "christmas_tree_and_decoration_77",
         "showlegend": true,
         "type": "scattergl",
         "x": [
          "2024-12-02",
          "2024-12-03",
          "2024-12-04",
          "2024-12-05",
          "2024-12-06",
          "2024-12-07",
          "2024-12-08",
          "2024-12-09",
          "2024-12-11",
          "2024-12-12",
          "2024-12-13",
          "2024-12-14",
          "2024-12-15"
         ],
         "xaxis": "x",
         "y": [
          40,
          54,
          82,
          85,
          84,
          90,
          85,
          79,
          71,
          77,
          68,
          65,
          63
         ],
         "yaxis": "y"
        },
        {
         "hovertemplate": "Unique_Title=organaizer_dlia_ukrashenii<br>Curdate=%{x}<br>Ranking=%{y}<extra></extra>",
         "legendgroup": "organaizer_dlia_ukrashenii",
         "line": {
          "color": "#636efa",
          "dash": "solid"
         },
         "marker": {
          "symbol": "circle"
         },
         "mode": "lines",
         "name": "organaizer_dlia_ukrashenii",
         "showlegend": true,
         "type": "scattergl",
         "x": [
          "2024-12-02",
          "2024-12-03"
         ],
         "xaxis": "x",
         "y": [
          23,
          24
         ],
         "yaxis": "y"
        },
        {
         "hovertemplate": "Unique_Title=coffee_table_decor_set_004<br>Curdate=%{x}<br>Ranking=%{y}<extra></extra>",
         "legendgroup": "coffee_table_decor_set_004",
         "line": {
          "color": "#EF553B",
          "dash": "solid"
         },
         "marker": {
          "symbol": "circle"
         },
         "mode": "lines",
         "name": "coffee_table_decor_set_004",
         "showlegend": true,
         "type": "scattergl",
         "x": [
          "2024-12-02",
          "2024-12-03",
          "2024-12-04",
          "2024-12-05",
          "2024-12-06"
         ],
         "xaxis": "x",
         "y": [
          19,
          20,
          3,
          38,
          38
         ],
         "yaxis": "y"
        },
        {
         "hovertemplate": "Unique_Title=plitka_41zero42_nok<br>Curdate=%{x}<br>Ranking=%{y}<extra></extra>",
         "legendgroup": "plitka_41zero42_nok",
         "line": {
          "color": "#00cc96",
          "dash": "solid"
         },
         "marker": {
          "symbol": "circle"
         },
         "mode": "lines",
         "name": "plitka_41zero42_nok",
         "showlegend": true,
         "type": "scattergl",
         "x": [
          "2024-12-02",
          "2024-12-03",
          "2024-12-05",
          "2024-12-06"
         ],
         "xaxis": "x",
         "y": [
          17,
          17,
          55,
          33
         ],
         "yaxis": "y"
        },
        {
         "hovertemplate": "Unique_Title=nabor_mnogoetazhnykh_domov_3<br>Curdate=%{x}<br>Ranking=%{y}<extra></extra>",
         "legendgroup": "nabor_mnogoetazhnykh_domov_3",
         "line": {
          "color": "#ab63fa",
          "dash": "solid"
         },
         "marker": {
          "symbol": "circle"
         },
         "mode": "lines",
         "name": "nabor_mnogoetazhnykh_domov_3",
         "showlegend": true,
         "type": "scattergl",
         "x": [
          "2024-12-02",
          "2024-12-03",
          "2024-12-04",
          "2024-12-05",
          "2024-12-06",
          "2024-12-07",
          "2024-12-08",
          "2024-12-09",
          "2024-12-11",
          "2024-12-12",
          "2024-12-13",
          "2024-12-14",
          "2024-12-15"
         ],
         "xaxis": "x",
         "y": [
          13,
          14,
          58,
          63,
          62,
          76,
          72,
          67,
          59,
          1,
          24,
          17,
          20
         ],
         "yaxis": "y"
        },
        {
         "hovertemplate": "Unique_Title=shtora_dlia_vannoi_3<br>Curdate=%{x}<br>Ranking=%{y}<extra></extra>",
         "legendgroup": "shtora_dlia_vannoi_3",
         "line": {
          "color": "#FFA15A",
          "dash": "solid"
         },
         "marker": {
          "symbol": "circle"
         },
         "mode": "lines",
         "name": "shtora_dlia_vannoi_3",
         "showlegend": true,
         "type": "scattergl",
         "x": [
          "2024-12-02",
          "2024-12-03",
          "2024-12-07",
          "2024-12-08",
          "2024-12-09"
         ],
         "xaxis": "x",
         "y": [
          10,
          11,
          63,
          61,
          7
         ],
         "yaxis": "y"
        },
        {
         "hovertemplate": "Unique_Title=travertin_kamen_raznykh_ottenkov_11<br>Curdate=%{x}<br>Ranking=%{y}<extra></extra>",
         "legendgroup": "travertin_kamen_raznykh_ottenkov_11",
         "line": {
          "color": "#19d3f3",
          "dash": "solid"
         },
         "marker": {
          "symbol": "circle"
         },
         "mode": "lines",
         "name": "travertin_kamen_raznykh_ottenkov_11",
         "showlegend": true,
         "type": "scattergl",
         "x": [
          "2024-12-03",
          "2024-12-04",
          "2024-12-05",
          "2024-12-06"
         ],
         "xaxis": "x",
         "y": [
          42,
          38,
          4,
          3
         ],
         "yaxis": "y"
        },
        {
         "hovertemplate": "Unique_Title=bar_cabinet_24<br>Curdate=%{x}<br>Ranking=%{y}<extra></extra>",
         "legendgroup": "bar_cabinet_24",
         "line": {
          "color": "#FF6692",
          "dash": "solid"
         },
         "marker": {
          "symbol": "circle"
         },
         "mode": "lines",
         "name": "bar_cabinet_24",
         "showlegend": true,
         "type": "scattergl",
         "x": [
          "2024-12-04",
          "2024-12-05",
          "2024-12-06",
          "2024-12-07",
          "2024-12-08",
          "2024-12-09",
          "2024-12-11",
          "2024-12-12",
          "2024-12-13",
          "2024-12-14",
          "2024-12-15"
         ],
         "xaxis": "x",
         "y": [
          65,
          40,
          39,
          52,
          50,
          76,
          76,
          62,
          60,
          79,
          78
         ],
         "yaxis": "y"
        },
        {
         "hovertemplate": "Unique_Title=tekstura_kovrolina_003<br>Curdate=%{x}<br>Ranking=%{y}<extra></extra>",
         "legendgroup": "tekstura_kovrolina_003",
         "line": {
          "color": "#B6E880",
          "dash": "solid"
         },
         "marker": {
          "symbol": "circle"
         },
         "mode": "lines",
         "name": "tekstura_kovrolina_003",
         "showlegend": true,
         "type": "scattergl",
         "x": [
          "2024-12-04",
          "2024-12-05",
          "2024-12-06",
          "2024-12-07",
          "2024-12-08",
          "2024-12-09",
          "2024-12-11",
          "2024-12-12",
          "2024-12-13",
          "2024-12-14",
          "2024-12-15"
         ],
         "xaxis": "x",
         "y": [
          50,
          1,
          1,
          83,
          79,
          75,
          61,
          30,
          51,
          66,
          64
         ],
         "yaxis": "y"
        },
        {
         "hovertemplate": "Unique_Title=maiden_home_eldridge_bed_5<br>Curdate=%{x}<br>Ranking=%{y}<extra></extra>",
         "legendgroup": "maiden_home_eldridge_bed_5",
         "line": {
          "color": "#FF97FF",
          "dash": "solid"
         },
         "marker": {
          "symbol": "circle"
         },
         "mode": "lines",
         "name": "maiden_home_eldridge_bed_5",
         "showlegend": true,
         "type": "scattergl",
         "x": [
          "2024-12-04",
          "2024-12-05",
          "2024-12-06"
         ],
         "xaxis": "x",
         "y": [
          48,
          32,
          31
         ],
         "yaxis": "y"
        },
        {
         "hovertemplate": "Unique_Title=houseplants_mission_kalamata_leccino_arbequina_wilsonii_chemlali_olive_set53<br>Curdate=%{x}<br>Ranking=%{y}<extra></extra>",
         "legendgroup": "houseplants_mission_kalamata_leccino_arbequina_wilsonii_chemlali_olive_set53",
         "line": {
          "color": "#FECB52",
          "dash": "solid"
         },
         "marker": {
          "symbol": "circle"
         },
         "mode": "lines",
         "name": "houseplants_mission_kalamata_leccino_arbequina_wilsonii_chemlali_olive_set53",
         "showlegend": true,
         "type": "scattergl",
         "x": [
          "2024-12-04",
          "2024-12-09",
          "2024-12-14",
          "2024-12-15"
         ],
         "xaxis": "x",
         "y": [
          37,
          26,
          10,
          13
         ],
         "yaxis": "y"
        },
        {
         "hovertemplate": "Unique_Title=shtory_1033<br>Curdate=%{x}<br>Ranking=%{y}<extra></extra>",
         "legendgroup": "shtory_1033",
         "line": {
          "color": "#636efa",
          "dash": "solid"
         },
         "marker": {
          "symbol": "circle"
         },
         "mode": "lines",
         "name": "shtory_1033",
         "showlegend": true,
         "type": "scattergl",
         "x": [
          "2024-12-04",
          "2024-12-05",
          "2024-12-06",
          "2024-12-07",
          "2024-12-08",
          "2024-12-09"
         ],
         "xaxis": "x",
         "y": [
          33,
          53,
          52,
          42,
          43,
          42
         ],
         "yaxis": "y"
        },
        {
         "hovertemplate": "Unique_Title=ribbed_glass_set_1_riflenoe_steklo<br>Curdate=%{x}<br>Ranking=%{y}<extra></extra>",
         "legendgroup": "ribbed_glass_set_1_riflenoe_steklo",
         "line": {
          "color": "#EF553B",
          "dash": "solid"
         },
         "marker": {
          "symbol": "circle"
         },
         "mode": "lines",
         "name": "ribbed_glass_set_1_riflenoe_steklo",
         "showlegend": true,
         "type": "scattergl",
         "x": [
          "2024-12-04",
          "2024-12-05",
          "2024-12-06",
          "2024-12-14"
         ],
         "xaxis": "x",
         "y": [
          32,
          31,
          30,
          7
         ],
         "yaxis": "y"
        },
        {
         "hovertemplate": "Unique_Title=odezhda_dlia_garderoba_magazina_02<br>Curdate=%{x}<br>Ranking=%{y}<extra></extra>",
         "legendgroup": "odezhda_dlia_garderoba_magazina_02",
         "line": {
          "color": "#00cc96",
          "dash": "solid"
         },
         "marker": {
          "symbol": "circle"
         },
         "mode": "lines",
         "name": "odezhda_dlia_garderoba_magazina_02",
         "showlegend": true,
         "type": "scattergl",
         "x": [
          "2024-12-04",
          "2024-12-05",
          "2024-12-06",
          "2024-12-07",
          "2024-12-08",
          "2024-12-09",
          "2024-12-11",
          "2024-12-12"
         ],
         "xaxis": "x",
         "y": [
          31,
          65,
          64,
          41,
          23,
          19,
          28,
          26
         ],
         "yaxis": "y"
        },
        {
         "hovertemplate": "Unique_Title=spruce_6<br>Curdate=%{x}<br>Ranking=%{y}<extra></extra>",
         "legendgroup": "spruce_6",
         "line": {
          "color": "#ab63fa",
          "dash": "solid"
         },
         "marker": {
          "symbol": "circle"
         },
         "mode": "lines",
         "name": "spruce_6",
         "showlegend": true,
         "type": "scattergl",
         "x": [
          "2024-12-04",
          "2024-12-05",
          "2024-12-06",
          "2024-12-07",
          "2024-12-08",
          "2024-12-09",
          "2024-12-11",
          "2024-12-12",
          "2024-12-13",
          "2024-12-14",
          "2024-12-15"
         ],
         "xaxis": "x",
         "y": [
          24,
          104,
          107,
          116,
          118,
          119,
          120,
          120,
          120,
          120,
          120
         ],
         "yaxis": "y"
        },
        {
         "hovertemplate": "Unique_Title=camaleonda_by_b_b_italia_3<br>Curdate=%{x}<br>Ranking=%{y}<extra></extra>",
         "legendgroup": "camaleonda_by_b_b_italia_3",
         "line": {
          "color": "#FFA15A",
          "dash": "solid"
         },
         "marker": {
          "symbol": "circle"
         },
         "mode": "lines",
         "name": "camaleonda_by_b_b_italia_3",
         "showlegend": true,
         "type": "scattergl",
         "x": [
          "2024-12-04",
          "2024-12-05",
          "2024-12-06",
          "2024-12-09"
         ],
         "xaxis": "x",
         "y": [
          19,
          48,
          48,
          5
         ],
         "yaxis": "y"
        },
        {
         "hovertemplate": "Unique_Title=decorative_set_245_35<br>Curdate=%{x}<br>Ranking=%{y}<extra></extra>",
         "legendgroup": "decorative_set_245_35",
         "line": {
          "color": "#19d3f3",
          "dash": "solid"
         },
         "marker": {
          "symbol": "circle"
         },
         "mode": "lines",
         "name": "decorative_set_245_35",
         "showlegend": true,
         "type": "scattergl",
         "x": [
          "2024-12-04",
          "2024-12-05",
          "2024-12-06",
          "2024-12-07",
          "2024-12-08",
          "2024-12-09",
          "2024-12-13"
         ],
         "xaxis": "x",
         "y": [
          18,
          47,
          47,
          60,
          58,
          49,
          3
         ],
         "yaxis": "y"
        },
        {
         "hovertemplate": "Unique_Title=shtory_s_rimskimi_shtorami<br>Curdate=%{x}<br>Ranking=%{y}<extra></extra>",
         "legendgroup": "shtory_s_rimskimi_shtorami",
         "line": {
          "color": "#FF6692",
          "dash": "solid"
         },
         "marker": {
          "symbol": "circle"
         },
         "mode": "lines",
         "name": "shtory_s_rimskimi_shtorami",
         "showlegend": true,
         "type": "scattergl",
         "x": [
          "2024-12-04",
          "2024-12-05",
          "2024-12-06",
          "2024-12-13",
          "2024-12-14",
          "2024-12-15"
         ],
         "xaxis": "x",
         "y": [
          17,
          17,
          17,
          21,
          13,
          16
         ],
         "yaxis": "y"
        },
        {
         "hovertemplate": "Unique_Title=kollektsiia_rastenii_1436<br>Curdate=%{x}<br>Ranking=%{y}<extra></extra>",
         "legendgroup": "kollektsiia_rastenii_1436",
         "line": {
          "color": "#B6E880",
          "dash": "solid"
         },
         "marker": {
          "symbol": "circle"
         },
         "mode": "lines",
         "name": "kollektsiia_rastenii_1436",
         "showlegend": true,
         "type": "scattergl",
         "x": [
          "2024-12-04",
          "2024-12-05",
          "2024-12-06",
          "2024-12-09",
          "2024-12-11"
         ],
         "xaxis": "x",
         "y": [
          14,
          11,
          12,
          1,
          18
         ],
         "yaxis": "y"
        },
        {
         "hovertemplate": "Unique_Title=club_chair_nordic<br>Curdate=%{x}<br>Ranking=%{y}<extra></extra>",
         "legendgroup": "club_chair_nordic",
         "line": {
          "color": "#FF97FF",
          "dash": "solid"
         },
         "marker": {
          "symbol": "circle"
         },
         "mode": "lines",
         "name": "club_chair_nordic",
         "showlegend": true,
         "type": "scattergl",
         "x": [
          "2024-12-04",
          "2024-12-05",
          "2024-12-06",
          "2024-12-07",
          "2024-12-08"
         ],
         "xaxis": "x",
         "y": [
          9,
          8,
          8,
          5,
          5
         ],
         "yaxis": "y"
        },
        {
         "hovertemplate": "Unique_Title=polubarnyi_stul_balla_stool_group_3<br>Curdate=%{x}<br>Ranking=%{y}<extra></extra>",
         "legendgroup": "polubarnyi_stul_balla_stool_group_3",
         "line": {
          "color": "#FECB52",
          "dash": "solid"
         },
         "marker": {
          "symbol": "circle"
         },
         "mode": "lines",
         "name": "polubarnyi_stul_balla_stool_group_3",
         "showlegend": true,
         "type": "scattergl",
         "x": [
          "2024-12-04",
          "2024-12-05",
          "2024-12-06"
         ],
         "xaxis": "x",
         "y": [
          4,
          3,
          2
         ],
         "yaxis": "y"
        },
        {
         "hovertemplate": "Unique_Title=garderobnaia_sistema_deli_divan_ru<br>Curdate=%{x}<br>Ranking=%{y}<extra></extra>",
         "legendgroup": "garderobnaia_sistema_deli_divan_ru",
         "line": {
          "color": "#636efa",
          "dash": "solid"
         },
         "marker": {
          "symbol": "circle"
         },
         "mode": "lines",
         "name": "garderobnaia_sistema_deli_divan_ru",
         "showlegend": true,
         "type": "scattergl",
         "x": [
          "2024-12-04"
         ],
         "xaxis": "x",
         "y": [
          2
         ],
         "yaxis": "y"
        },
        {
         "hovertemplate": "Unique_Title=tv_wall_14_21<br>Curdate=%{x}<br>Ranking=%{y}<extra></extra>",
         "legendgroup": "tv_wall_14_21",
         "line": {
          "color": "#EF553B",
          "dash": "solid"
         },
         "marker": {
          "symbol": "circle"
         },
         "mode": "lines",
         "name": "tv_wall_14_21",
         "showlegend": true,
         "type": "scattergl",
         "x": [
          "2024-12-05",
          "2024-12-06",
          "2024-12-07",
          "2024-12-08",
          "2024-12-09",
          "2024-12-11",
          "2024-12-12",
          "2024-12-14",
          "2024-12-15"
         ],
         "xaxis": "x",
         "y": [
          64,
          63,
          22,
          42,
          18,
          27,
          27,
          27,
          10
         ],
         "yaxis": "y"
        },
        {
         "hovertemplate": "Unique_Title=roman_curtains_21<br>Curdate=%{x}<br>Ranking=%{y}<extra></extra>",
         "legendgroup": "roman_curtains_21",
         "line": {
          "color": "#00cc96",
          "dash": "solid"
         },
         "marker": {
          "symbol": "circle"
         },
         "mode": "lines",
         "name": "roman_curtains_21",
         "showlegend": true,
         "type": "scattergl",
         "x": [
          "2024-12-05",
          "2024-12-06",
          "2024-12-07",
          "2024-12-08",
          "2024-12-09",
          "2024-12-11",
          "2024-12-12",
          "2024-12-13",
          "2024-12-14",
          "2024-12-15"
         ],
         "xaxis": "x",
         "y": [
          58,
          57,
          51,
          49,
          46,
          53,
          61,
          59,
          73,
          72
         ],
         "yaxis": "y"
        },
        {
         "hovertemplate": "Unique_Title=chanel_bed_by_vankov_su<br>Curdate=%{x}<br>Ranking=%{y}<extra></extra>",
         "legendgroup": "chanel_bed_by_vankov_su",
         "line": {
          "color": "#ab63fa",
          "dash": "solid"
         },
         "marker": {
          "symbol": "circle"
         },
         "mode": "lines",
         "name": "chanel_bed_by_vankov_su",
         "showlegend": true,
         "type": "scattergl",
         "x": [
          "2024-12-05",
          "2024-12-06",
          "2024-12-07",
          "2024-12-08",
          "2024-12-09",
          "2024-12-11",
          "2024-12-12",
          "2024-12-13"
         ],
         "xaxis": "x",
         "y": [
          54,
          53,
          23,
          24,
          20,
          7,
          9,
          48
         ],
         "yaxis": "y"
        },
        {
         "hovertemplate": "Unique_Title=torvall_stul_divan_ru_1<br>Curdate=%{x}<br>Ranking=%{y}<extra></extra>",
         "legendgroup": "torvall_stul_divan_ru_1",
         "line": {
          "color": "#FFA15A",
          "dash": "solid"
         },
         "marker": {
          "symbol": "circle"
         },
         "mode": "lines",
         "name": "torvall_stul_divan_ru_1",
         "showlegend": true,
         "type": "scattergl",
         "x": [
          "2024-12-05",
          "2024-12-06",
          "2024-12-07",
          "2024-12-08",
          "2024-12-09",
          "2024-12-11",
          "2024-12-12",
          "2024-12-13",
          "2024-12-14",
          "2024-12-15"
         ],
         "xaxis": "x",
         "y": [
          52,
          51,
          40,
          41,
          73,
          74,
          49,
          47,
          63,
          61
         ],
         "yaxis": "y"
        },
        {
         "hovertemplate": "Unique_Title=banty<br>Curdate=%{x}<br>Ranking=%{y}<extra></extra>",
         "legendgroup": "banty",
         "line": {
          "color": "#19d3f3",
          "dash": "solid"
         },
         "marker": {
          "symbol": "circle"
         },
         "mode": "lines",
         "name": "banty",
         "showlegend": true,
         "type": "scattergl",
         "x": [
          "2024-12-05",
          "2024-12-06",
          "2024-12-07",
          "2024-12-08",
          "2024-12-09",
          "2024-12-11",
          "2024-12-12",
          "2024-12-13",
          "2024-12-14",
          "2024-12-15"
         ],
         "xaxis": "x",
         "y": [
          50,
          75,
          103,
          106,
          107,
          116,
          115,
          118,
          118,
          118
         ],
         "yaxis": "y"
        },
        {
         "hovertemplate": "Unique_Title=pebble_pendant_light<br>Curdate=%{x}<br>Ranking=%{y}<extra></extra>",
         "legendgroup": "pebble_pendant_light",
         "line": {
          "color": "#FF6692",
          "dash": "solid"
         },
         "marker": {
          "symbol": "circle"
         },
         "mode": "lines",
         "name": "pebble_pendant_light",
         "showlegend": true,
         "type": "scattergl",
         "x": [
          "2024-12-05",
          "2024-12-06",
          "2024-12-07",
          "2024-12-08",
          "2024-12-12",
          "2024-12-13"
         ],
         "xaxis": "x",
         "y": [
          43,
          42,
          33,
          34,
          14,
          17
         ],
         "yaxis": "y"
        },
        {
         "hovertemplate": "Unique_Title=dekorativnyi_nabor_020_1<br>Curdate=%{x}<br>Ranking=%{y}<extra></extra>",
         "legendgroup": "dekorativnyi_nabor_020_1",
         "line": {
          "color": "#B6E880",
          "dash": "solid"
         },
         "marker": {
          "symbol": "circle"
         },
         "mode": "lines",
         "name": "dekorativnyi_nabor_020_1",
         "showlegend": true,
         "type": "scattergl",
         "x": [
          "2024-12-05",
          "2024-12-06",
          "2024-12-11"
         ],
         "xaxis": "x",
         "y": [
          36,
          35,
          31
         ],
         "yaxis": "y"
        },
        {
         "hovertemplate": "Unique_Title=bosch_collection_of_appliances_set_2<br>Curdate=%{x}<br>Ranking=%{y}<extra></extra>",
         "legendgroup": "bosch_collection_of_appliances_set_2",
         "line": {
          "color": "#FF97FF",
          "dash": "solid"
         },
         "marker": {
          "symbol": "circle"
         },
         "mode": "lines",
         "name": "bosch_collection_of_appliances_set_2",
         "showlegend": true,
         "type": "scattergl",
         "x": [
          "2024-12-05",
          "2024-12-06"
         ],
         "xaxis": "x",
         "y": [
          30,
          29
         ],
         "yaxis": "y"
        },
        {
         "hovertemplate": "Unique_Title=garderobnaia_29<br>Curdate=%{x}<br>Ranking=%{y}<extra></extra>",
         "legendgroup": "garderobnaia_29",
         "line": {
          "color": "#FECB52",
          "dash": "solid"
         },
         "marker": {
          "symbol": "circle"
         },
         "mode": "lines",
         "name": "garderobnaia_29",
         "showlegend": true,
         "type": "scattergl",
         "x": [
          "2024-12-05",
          "2024-12-06"
         ],
         "xaxis": "x",
         "y": [
          29,
          28
         ],
         "yaxis": "y"
        },
        {
         "hovertemplate": "Unique_Title=divan_term<br>Curdate=%{x}<br>Ranking=%{y}<extra></extra>",
         "legendgroup": "divan_term",
         "line": {
          "color": "#636efa",
          "dash": "solid"
         },
         "marker": {
          "symbol": "circle"
         },
         "mode": "lines",
         "name": "divan_term",
         "showlegend": true,
         "type": "scattergl",
         "x": [
          "2024-12-05",
          "2024-12-06",
          "2024-12-07",
          "2024-12-08",
          "2024-12-09",
          "2024-12-11"
         ],
         "xaxis": "x",
         "y": [
          28,
          27,
          20,
          21,
          41,
          5
         ],
         "yaxis": "y"
        },
        {
         "hovertemplate": "Unique_Title=prachechnaia_postirochnaia_laundry<br>Curdate=%{x}<br>Ranking=%{y}<extra></extra>",
         "legendgroup": "prachechnaia_postirochnaia_laundry",
         "line": {
          "color": "#EF553B",
          "dash": "solid"
         },
         "marker": {
          "symbol": "circle"
         },
         "mode": "lines",
         "name": "prachechnaia_postirochnaia_laundry",
         "showlegend": true,
         "type": "scattergl",
         "x": [
          "2024-12-05",
          "2024-12-06",
          "2024-12-07",
          "2024-12-08",
          "2024-12-09",
          "2024-12-11",
          "2024-12-12",
          "2024-12-13",
          "2024-12-14",
          "2024-12-15"
         ],
         "xaxis": "x",
         "y": [
          23,
          22,
          77,
          73,
          68,
          23,
          19,
          25,
          19,
          22
         ],
         "yaxis": "y"
        },
        {
         "hovertemplate": "Unique_Title=ave_vintage_french_window<br>Curdate=%{x}<br>Ranking=%{y}<extra></extra>",
         "legendgroup": "ave_vintage_french_window",
         "line": {
          "color": "#00cc96",
          "dash": "solid"
         },
         "marker": {
          "symbol": "circle"
         },
         "mode": "lines",
         "name": "ave_vintage_french_window",
         "showlegend": true,
         "type": "scattergl",
         "x": [
          "2024-12-05",
          "2024-12-07",
          "2024-12-08",
          "2024-12-09",
          "2024-12-11",
          "2024-12-12",
          "2024-12-13",
          "2024-12-14",
          "2024-12-15"
         ],
         "xaxis": "x",
         "y": [
          20,
          65,
          89,
          102,
          117,
          116,
          119,
          119,
          119
         ],
         "yaxis": "y"
        },
        {
         "hovertemplate": "Unique_Title=bolia_yoga_set<br>Curdate=%{x}<br>Ranking=%{y}<extra></extra>",
         "legendgroup": "bolia_yoga_set",
         "line": {
          "color": "#ab63fa",
          "dash": "solid"
         },
         "marker": {
          "symbol": "circle"
         },
         "mode": "lines",
         "name": "bolia_yoga_set",
         "showlegend": true,
         "type": "scattergl",
         "x": [
          "2024-12-05",
          "2024-12-06"
         ],
         "xaxis": "x",
         "y": [
          16,
          16
         ],
         "yaxis": "y"
        },
        {
         "hovertemplate": "Unique_Title=dvoinaia_shtora_dlia_vanny_na_potolochnom_karnize<br>Curdate=%{x}<br>Ranking=%{y}<extra></extra>",
         "legendgroup": "dvoinaia_shtora_dlia_vanny_na_potolochnom_karnize",
         "line": {
          "color": "#FFA15A",
          "dash": "solid"
         },
         "marker": {
          "symbol": "circle"
         },
         "mode": "lines",
         "name": "dvoinaia_shtora_dlia_vanny_na_potolochnom_karnize",
         "showlegend": true,
         "type": "scattergl",
         "x": [
          "2024-12-05",
          "2024-12-06"
         ],
         "xaxis": "x",
         "y": [
          15,
          15
         ],
         "yaxis": "y"
        },
        {
         "hovertemplate": "Unique_Title=prikhozhaia_4_13<br>Curdate=%{x}<br>Ranking=%{y}<extra></extra>",
         "legendgroup": "prikhozhaia_4_13",
         "line": {
          "color": "#19d3f3",
          "dash": "solid"
         },
         "marker": {
          "symbol": "circle"
         },
         "mode": "lines",
         "name": "prikhozhaia_4_13",
         "showlegend": true,
         "type": "scattergl",
         "x": [
          "2024-12-05",
          "2024-12-06",
          "2024-12-07",
          "2024-12-08",
          "2024-12-12"
         ],
         "xaxis": "x",
         "y": [
          14,
          14,
          13,
          12,
          15
         ],
         "yaxis": "y"
        },
        {
         "hovertemplate": "Unique_Title=tesla_optimus_gen_2<br>Curdate=%{x}<br>Ranking=%{y}<extra></extra>",
         "legendgroup": "tesla_optimus_gen_2",
         "line": {
          "color": "#FF6692",
          "dash": "solid"
         },
         "marker": {
          "symbol": "circle"
         },
         "mode": "lines",
         "name": "tesla_optimus_gen_2",
         "showlegend": true,
         "type": "scattergl",
         "x": [
          "2024-12-05",
          "2024-12-06",
          "2024-12-07",
          "2024-12-08",
          "2024-12-11"
         ],
         "xaxis": "x",
         "y": [
          13,
          13,
          34,
          35,
          19
         ],
         "yaxis": "y"
        },
        {
         "hovertemplate": "Unique_Title=vezd_na_okhraniaemuiu_territoriiu_parkovku<br>Curdate=%{x}<br>Ranking=%{y}<extra></extra>",
         "legendgroup": "vezd_na_okhraniaemuiu_territoriiu_parkovku",
         "line": {
          "color": "#B6E880",
          "dash": "solid"
         },
         "marker": {
          "symbol": "circle"
         },
         "mode": "lines",
         "name": "vezd_na_okhraniaemuiu_territoriiu_parkovku",
         "showlegend": true,
         "type": "scattergl",
         "x": [
          "2024-12-05",
          "2024-12-06",
          "2024-12-07",
          "2024-12-08",
          "2024-12-09",
          "2024-12-11",
          "2024-12-12"
         ],
         "xaxis": "x",
         "y": [
          10,
          11,
          11,
          10,
          35,
          16,
          37
         ],
         "yaxis": "y"
        },
        {
         "hovertemplate": "Unique_Title=french_wood_side_table_by_charles_dudouyt<br>Curdate=%{x}<br>Ranking=%{y}<extra></extra>",
         "legendgroup": "french_wood_side_table_by_charles_dudouyt",
         "line": {
          "color": "#FF97FF",
          "dash": "solid"
         },
         "marker": {
          "symbol": "circle"
         },
         "mode": "lines",
         "name": "french_wood_side_table_by_charles_dudouyt",
         "showlegend": true,
         "type": "scattergl",
         "x": [
          "2024-12-07",
          "2024-12-08",
          "2024-12-09",
          "2024-12-11",
          "2024-12-12",
          "2024-12-13",
          "2024-12-14",
          "2024-12-15"
         ],
         "xaxis": "x",
         "y": [
          94,
          90,
          117,
          114,
          113,
          113,
          113,
          113
         ],
         "yaxis": "y"
        },
        {
         "hovertemplate": "Unique_Title=nabor_proektorov_epson_1<br>Curdate=%{x}<br>Ranking=%{y}<extra></extra>",
         "legendgroup": "nabor_proektorov_epson_1",
         "line": {
          "color": "#FECB52",
          "dash": "solid"
         },
         "marker": {
          "symbol": "circle"
         },
         "mode": "lines",
         "name": "nabor_proektorov_epson_1",
         "showlegend": true,
         "type": "scattergl",
         "x": [
          "2024-12-07",
          "2024-12-08",
          "2024-12-09",
          "2024-12-11",
          "2024-12-12",
          "2024-12-13",
          "2024-12-14",
          "2024-12-15"
         ],
         "xaxis": "x",
         "y": [
          89,
          95,
          90,
          88,
          89,
          88,
          86,
          85
         ],
         "yaxis": "y"
        },
        {
         "hovertemplate": "Unique_Title=decorative_set_with_branch_ch15<br>Curdate=%{x}<br>Ranking=%{y}<extra></extra>",
         "legendgroup": "decorative_set_with_branch_ch15",
         "line": {
          "color": "#636efa",
          "dash": "solid"
         },
         "marker": {
          "symbol": "circle"
         },
         "mode": "lines",
         "name": "decorative_set_with_branch_ch15",
         "showlegend": true,
         "type": "scattergl",
         "x": [
          "2024-12-07",
          "2024-12-08",
          "2024-12-09",
          "2024-12-11",
          "2024-12-12",
          "2024-12-13",
          "2024-12-14",
          "2024-12-15"
         ],
         "xaxis": "x",
         "y": [
          79,
          75,
          93,
          111,
          111,
          111,
          111,
          111
         ],
         "yaxis": "y"
        },
        {
         "hovertemplate": "Unique_Title=shtory_1018<br>Curdate=%{x}<br>Ranking=%{y}<extra></extra>",
         "legendgroup": "shtory_1018",
         "line": {
          "color": "#EF553B",
          "dash": "solid"
         },
         "marker": {
          "symbol": "circle"
         },
         "mode": "lines",
         "name": "shtory_1018",
         "showlegend": true,
         "type": "scattergl",
         "x": [
          "2024-12-07",
          "2024-12-08",
          "2024-12-09",
          "2024-12-11",
          "2024-12-12",
          "2024-12-13",
          "2024-12-14",
          "2024-12-15"
         ],
         "xaxis": "x",
         "y": [
          78,
          96,
          108,
          113,
          118,
          115,
          117,
          117
         ],
         "yaxis": "y"
        },
        {
         "hovertemplate": "Unique_Title=41zero42_spectre<br>Curdate=%{x}<br>Ranking=%{y}<extra></extra>",
         "legendgroup": "41zero42_spectre",
         "line": {
          "color": "#00cc96",
          "dash": "solid"
         },
         "marker": {
          "symbol": "circle"
         },
         "mode": "lines",
         "name": "41zero42_spectre",
         "showlegend": true,
         "type": "scattergl",
         "x": [
          "2024-12-07",
          "2024-12-08",
          "2024-12-09",
          "2024-12-11",
          "2024-12-12",
          "2024-12-13",
          "2024-12-14",
          "2024-12-15"
         ],
         "xaxis": "x",
         "y": [
          72,
          52,
          47,
          62,
          70,
          79,
          75,
          74
         ],
         "yaxis": "y"
        },
        {
         "hovertemplate": "Unique_Title=mendas_orsetto<br>Curdate=%{x}<br>Ranking=%{y}<extra></extra>",
         "legendgroup": "mendas_orsetto",
         "line": {
          "color": "#ab63fa",
          "dash": "solid"
         },
         "marker": {
          "symbol": "circle"
         },
         "mode": "lines",
         "name": "mendas_orsetto",
         "showlegend": true,
         "type": "scattergl",
         "x": [
          "2024-12-07",
          "2024-12-08",
          "2024-12-09",
          "2024-12-11",
          "2024-12-12",
          "2024-12-13",
          "2024-12-14",
          "2024-12-15"
         ],
         "xaxis": "x",
         "y": [
          69,
          101,
          109,
          115,
          114,
          116,
          115,
          115
         ],
         "yaxis": "y"
        },
        {
         "hovertemplate": "Unique_Title=krovat_amaliia_90_amalia_kids_bed_by_divan_ru_1<br>Curdate=%{x}<br>Ranking=%{y}<extra></extra>",
         "legendgroup": "krovat_amaliia_90_amalia_kids_bed_by_divan_ru_1",
         "line": {
          "color": "#FFA15A",
          "dash": "solid"
         },
         "marker": {
          "symbol": "circle"
         },
         "mode": "lines",
         "name": "krovat_amaliia_90_amalia_kids_bed_by_divan_ru_1",
         "showlegend": true,
         "type": "scattergl",
         "x": [
          "2024-12-07",
          "2024-12-08",
          "2024-12-09",
          "2024-12-11",
          "2024-12-12",
          "2024-12-13",
          "2024-12-14",
          "2024-12-15"
         ],
         "xaxis": "x",
         "y": [
          68,
          65,
          56,
          70,
          75,
          75,
          50,
          50
         ],
         "yaxis": "y"
        },
        {
         "hovertemplate": "Unique_Title=italon_stellaris_fullpack<br>Curdate=%{x}<br>Ranking=%{y}<extra></extra>",
         "legendgroup": "italon_stellaris_fullpack",
         "line": {
          "color": "#19d3f3",
          "dash": "solid"
         },
         "marker": {
          "symbol": "circle"
         },
         "mode": "lines",
         "name": "italon_stellaris_fullpack",
         "showlegend": true,
         "type": "scattergl",
         "x": [
          "2024-12-07",
          "2024-12-08",
          "2024-12-09",
          "2024-12-11"
         ],
         "xaxis": "x",
         "y": [
          62,
          60,
          50,
          41
         ],
         "yaxis": "y"
        },
        {
         "hovertemplate": "Unique_Title=urban_outfitters_sanna_floor_lamp<br>Curdate=%{x}<br>Ranking=%{y}<extra></extra>",
         "legendgroup": "urban_outfitters_sanna_floor_lamp",
         "line": {
          "color": "#FF6692",
          "dash": "solid"
         },
         "marker": {
          "symbol": "circle"
         },
         "mode": "lines",
         "name": "urban_outfitters_sanna_floor_lamp",
         "showlegend": true,
         "type": "scattergl",
         "x": [
          "2024-12-07",
          "2024-12-08",
          "2024-12-09",
          "2024-12-11",
          "2024-12-12",
          "2024-12-13",
          "2024-12-14",
          "2024-12-15"
         ],
         "xaxis": "x",
         "y": [
          54,
          98,
          106,
          112,
          112,
          112,
          112,
          112
         ],
         "yaxis": "y"
        },
        {
         "hovertemplate": "Unique_Title=slides_for_children_room<br>Curdate=%{x}<br>Ranking=%{y}<extra></extra>",
         "legendgroup": "slides_for_children_room",
         "line": {
          "color": "#B6E880",
          "dash": "solid"
         },
         "marker": {
          "symbol": "circle"
         },
         "mode": "lines",
         "name": "slides_for_children_room",
         "showlegend": true,
         "type": "scattergl",
         "x": [
          "2024-12-07",
          "2024-12-08",
          "2024-12-09"
         ],
         "xaxis": "x",
         "y": [
          48,
          47,
          45
         ],
         "yaxis": "y"
        },
        {
         "hovertemplate": "Unique_Title=soho_home_ferguson_table_lamp<br>Curdate=%{x}<br>Ranking=%{y}<extra></extra>",
         "legendgroup": "soho_home_ferguson_table_lamp",
         "line": {
          "color": "#FF97FF",
          "dash": "solid"
         },
         "marker": {
          "symbol": "circle"
         },
         "mode": "lines",
         "name": "soho_home_ferguson_table_lamp",
         "showlegend": true,
         "type": "scattergl",
         "x": [
          "2024-12-07",
          "2024-12-08",
          "2024-12-09",
          "2024-12-11",
          "2024-12-12",
          "2024-12-13",
          "2024-12-14",
          "2024-12-15"
         ],
         "xaxis": "x",
         "y": [
          43,
          74,
          103,
          118,
          119,
          117,
          116,
          116
         ],
         "yaxis": "y"
        },
        {
         "hovertemplate": "Unique_Title=dreame_x40_ultra_robot_vacuum_cleaner_white<br>Curdate=%{x}<br>Ranking=%{y}<extra></extra>",
         "legendgroup": "dreame_x40_ultra_robot_vacuum_cleaner_white",
         "line": {
          "color": "#FECB52",
          "dash": "solid"
         },
         "marker": {
          "symbol": "circle"
         },
         "mode": "lines",
         "name": "dreame_x40_ultra_robot_vacuum_cleaner_white",
         "showlegend": true,
         "type": "scattergl",
         "x": [
          "2024-12-07",
          "2024-12-08",
          "2024-12-09",
          "2024-12-11",
          "2024-12-12",
          "2024-12-13",
          "2024-12-14",
          "2024-12-15"
         ],
         "xaxis": "x",
         "y": [
          26,
          27,
          23,
          33,
          52,
          14,
          29,
          29
         ],
         "yaxis": "y"
        },
        {
         "hovertemplate": "Unique_Title=dekor_dlia_detskoi_komnaty_449<br>Curdate=%{x}<br>Ranking=%{y}<extra></extra>",
         "legendgroup": "dekor_dlia_detskoi_komnaty_449",
         "line": {
          "color": "#636efa",
          "dash": "solid"
         },
         "marker": {
          "symbol": "circle"
         },
         "mode": "lines",
         "name": "dekor_dlia_detskoi_komnaty_449",
         "showlegend": true,
         "type": "scattergl",
         "x": [
          "2024-12-07",
          "2024-12-08",
          "2024-12-11",
          "2024-12-12"
         ],
         "xaxis": "x",
         "y": [
          24,
          25,
          30,
          50
         ],
         "yaxis": "y"
        },
        {
         "hovertemplate": "Unique_Title=pixel_sofa_saba_italia_1<br>Curdate=%{x}<br>Ranking=%{y}<extra></extra>",
         "legendgroup": "pixel_sofa_saba_italia_1",
         "line": {
          "color": "#EF553B",
          "dash": "solid"
         },
         "marker": {
          "symbol": "circle"
         },
         "mode": "lines",
         "name": "pixel_sofa_saba_italia_1",
         "showlegend": true,
         "type": "scattergl",
         "x": [
          "2024-12-07",
          "2024-12-08",
          "2024-12-09",
          "2024-12-14",
          "2024-12-15"
         ],
         "xaxis": "x",
         "y": [
          21,
          22,
          17,
          26,
          27
         ],
         "yaxis": "y"
        },
        {
         "hovertemplate": "Unique_Title=carpe_armchair_noaliving<br>Curdate=%{x}<br>Ranking=%{y}<extra></extra>",
         "legendgroup": "carpe_armchair_noaliving",
         "line": {
          "color": "#00cc96",
          "dash": "solid"
         },
         "marker": {
          "symbol": "circle"
         },
         "mode": "lines",
         "name": "carpe_armchair_noaliving",
         "showlegend": true,
         "type": "scattergl",
         "x": [
          "2024-12-07",
          "2024-12-08",
          "2024-12-09",
          "2024-12-11",
          "2024-12-12",
          "2024-12-13"
         ],
         "xaxis": "x",
         "y": [
          19,
          20,
          15,
          24,
          47,
          55
         ],
         "yaxis": "y"
        },
        {
         "hovertemplate": "Unique_Title=vetki_s_listiami_v_staroi_glinianoi_vaze<br>Curdate=%{x}<br>Ranking=%{y}<extra></extra>",
         "legendgroup": "vetki_s_listiami_v_staroi_glinianoi_vaze",
         "line": {
          "color": "#ab63fa",
          "dash": "solid"
         },
         "marker": {
          "symbol": "circle"
         },
         "mode": "lines",
         "name": "vetki_s_listiami_v_staroi_glinianoi_vaze",
         "showlegend": true,
         "type": "scattergl",
         "x": [
          "2024-12-07",
          "2024-12-08",
          "2024-12-09",
          "2024-12-11",
          "2024-12-12",
          "2024-12-13",
          "2024-12-14",
          "2024-12-15"
         ],
         "xaxis": "x",
         "y": [
          12,
          11,
          2,
          20,
          66,
          64,
          69,
          67
         ],
         "yaxis": "y"
        },
        {
         "hovertemplate": "Unique_Title=plywood_set_02<br>Curdate=%{x}<br>Ranking=%{y}<extra></extra>",
         "legendgroup": "plywood_set_02",
         "line": {
          "color": "#FFA15A",
          "dash": "solid"
         },
         "marker": {
          "symbol": "circle"
         },
         "mode": "lines",
         "name": "plywood_set_02",
         "showlegend": true,
         "type": "scattergl",
         "x": [
          "2024-12-07",
          "2024-12-08",
          "2024-12-09",
          "2024-12-11"
         ],
         "xaxis": "x",
         "y": [
          9,
          8,
          33,
          14
         ],
         "yaxis": "y"
        },
        {
         "hovertemplate": "Unique_Title=esse_volhovec_doors_interior_door_253_3<br>Curdate=%{x}<br>Ranking=%{y}<extra></extra>",
         "legendgroup": "esse_volhovec_doors_interior_door_253_3",
         "line": {
          "color": "#19d3f3",
          "dash": "solid"
         },
         "marker": {
          "symbol": "circle"
         },
         "mode": "lines",
         "name": "esse_volhovec_doors_interior_door_253_3",
         "showlegend": true,
         "type": "scattergl",
         "x": [
          "2024-12-07",
          "2024-12-13",
          "2024-12-14",
          "2024-12-15"
         ],
         "xaxis": "x",
         "y": [
          6,
          15,
          11,
          14
         ],
         "yaxis": "y"
        },
        {
         "hovertemplate": "Unique_Title=the_rug_company_aarambha<br>Curdate=%{x}<br>Ranking=%{y}<extra></extra>",
         "legendgroup": "the_rug_company_aarambha",
         "line": {
          "color": "#FF6692",
          "dash": "solid"
         },
         "marker": {
          "symbol": "circle"
         },
         "mode": "lines",
         "name": "the_rug_company_aarambha",
         "showlegend": true,
         "type": "scattergl",
         "x": [
          "2024-12-07",
          "2024-12-08"
         ],
         "xaxis": "x",
         "y": [
          3,
          2
         ],
         "yaxis": "y"
        },
        {
         "hovertemplate": "Unique_Title=furniture_composition_006<br>Curdate=%{x}<br>Ranking=%{y}<extra></extra>",
         "legendgroup": "furniture_composition_006",
         "line": {
          "color": "#B6E880",
          "dash": "solid"
         },
         "marker": {
          "symbol": "circle"
         },
         "mode": "lines",
         "name": "furniture_composition_006",
         "showlegend": true,
         "type": "scattergl",
         "x": [
          "2024-12-07",
          "2024-12-09",
          "2024-12-11",
          "2024-12-12",
          "2024-12-13",
          "2024-12-14"
         ],
         "xaxis": "x",
         "y": [
          1,
          28,
          35,
          33,
          37,
          31
         ],
         "yaxis": "y"
        },
        {
         "hovertemplate": "Unique_Title=fasad_c_20_low_poly_intererami<br>Curdate=%{x}<br>Ranking=%{y}<extra></extra>",
         "legendgroup": "fasad_c_20_low_poly_intererami",
         "line": {
          "color": "#FF97FF",
          "dash": "solid"
         },
         "marker": {
          "symbol": "circle"
         },
         "mode": "lines",
         "name": "fasad_c_20_low_poly_intererami",
         "showlegend": true,
         "type": "scattergl",
         "x": [
          "2024-12-08",
          "2024-12-09",
          "2024-12-11",
          "2024-12-12",
          "2024-12-13",
          "2024-12-14",
          "2024-12-15"
         ],
         "xaxis": "x",
         "y": [
          18,
          13,
          47,
          45,
          28,
          41,
          39
         ],
         "yaxis": "y"
        },
        {
         "hovertemplate": "Unique_Title=novogodniaia_elka_s_kaminom_3<br>Curdate=%{x}<br>Ranking=%{y}<extra></extra>",
         "legendgroup": "novogodniaia_elka_s_kaminom_3",
         "line": {
          "color": "#FECB52",
          "dash": "solid"
         },
         "marker": {
          "symbol": "circle"
         },
         "mode": "lines",
         "name": "novogodniaia_elka_s_kaminom_3",
         "showlegend": true,
         "type": "scattergl",
         "x": [
          "2024-12-08",
          "2024-12-09",
          "2024-12-11",
          "2024-12-12",
          "2024-12-13",
          "2024-12-14",
          "2024-12-15"
         ],
         "xaxis": "x",
         "y": [
          14,
          4,
          21,
          16,
          22,
          60,
          68
         ],
         "yaxis": "y"
        },
        {
         "hovertemplate": "Unique_Title=nabor_sumok_12_kollektsiia_hermes<br>Curdate=%{x}<br>Ranking=%{y}<extra></extra>",
         "legendgroup": "nabor_sumok_12_kollektsiia_hermes",
         "line": {
          "color": "#636efa",
          "dash": "solid"
         },
         "marker": {
          "symbol": "circle"
         },
         "mode": "lines",
         "name": "nabor_sumok_12_kollektsiia_hermes",
         "showlegend": true,
         "type": "scattergl",
         "x": [
          "2024-12-08",
          "2024-12-09",
          "2024-12-11"
         ],
         "xaxis": "x",
         "y": [
          1,
          27,
          12
         ],
         "yaxis": "y"
        },
        {
         "hovertemplate": "Unique_Title=korziny_dlia_belia<br>Curdate=%{x}<br>Ranking=%{y}<extra></extra>",
         "legendgroup": "korziny_dlia_belia",
         "line": {
          "color": "#EF553B",
          "dash": "solid"
         },
         "marker": {
          "symbol": "circle"
         },
         "mode": "lines",
         "name": "korziny_dlia_belia",
         "showlegend": true,
         "type": "scattergl",
         "x": [
          "2024-12-09",
          "2024-12-11",
          "2024-12-12",
          "2024-12-13",
          "2024-12-14",
          "2024-12-15"
         ],
         "xaxis": "x",
         "y": [
          88,
          110,
          110,
          110,
          110,
          110
         ],
         "yaxis": "y"
        },
        {
         "hovertemplate": "Unique_Title=nastennaia_polka_dlia_kruzhek_i_chashek<br>Curdate=%{x}<br>Ranking=%{y}<extra></extra>",
         "legendgroup": "nastennaia_polka_dlia_kruzhek_i_chashek",
         "line": {
          "color": "#00cc96",
          "dash": "solid"
         },
         "marker": {
          "symbol": "circle"
         },
         "mode": "lines",
         "name": "nastennaia_polka_dlia_kruzhek_i_chashek",
         "showlegend": true,
         "type": "scattergl",
         "x": [
          "2024-12-09",
          "2024-12-11",
          "2024-12-12",
          "2024-12-13",
          "2024-12-14",
          "2024-12-15"
         ],
         "xaxis": "x",
         "y": [
          80,
          108,
          108,
          109,
          109,
          109
         ],
         "yaxis": "y"
        },
        {
         "hovertemplate": "Unique_Title=novogodniaia_elka_c_bantom_i_girliandami_av_087<br>Curdate=%{x}<br>Ranking=%{y}<extra></extra>",
         "legendgroup": "novogodniaia_elka_c_bantom_i_girliandami_av_087",
         "line": {
          "color": "#ab63fa",
          "dash": "solid"
         },
         "marker": {
          "symbol": "circle"
         },
         "mode": "lines",
         "name": "novogodniaia_elka_c_bantom_i_girliandami_av_087",
         "showlegend": true,
         "type": "scattergl",
         "x": [
          "2024-12-09",
          "2024-12-11",
          "2024-12-12",
          "2024-12-13",
          "2024-12-14",
          "2024-12-15"
         ],
         "xaxis": "x",
         "y": [
          74,
          89,
          85,
          84,
          89,
          89
         ],
         "yaxis": "y"
        },
        {
         "hovertemplate": "Unique_Title=oleandro_chair_wood_by_calligaris<br>Curdate=%{x}<br>Ranking=%{y}<extra></extra>",
         "legendgroup": "oleandro_chair_wood_by_calligaris",
         "line": {
          "color": "#FFA15A",
          "dash": "solid"
         },
         "marker": {
          "symbol": "circle"
         },
         "mode": "lines",
         "name": "oleandro_chair_wood_by_calligaris",
         "showlegend": true,
         "type": "scattergl",
         "x": [
          "2024-12-09",
          "2024-12-11",
          "2024-12-12",
          "2024-12-13",
          "2024-12-14",
          "2024-12-15"
         ],
         "xaxis": "x",
         "y": [
          51,
          97,
          101,
          99,
          105,
          105
         ],
         "yaxis": "y"
        },
        {
         "hovertemplate": "Unique_Title=voluem_bed_by_one_home<br>Curdate=%{x}<br>Ranking=%{y}<extra></extra>",
         "legendgroup": "voluem_bed_by_one_home",
         "line": {
          "color": "#19d3f3",
          "dash": "solid"
         },
         "marker": {
          "symbol": "circle"
         },
         "mode": "lines",
         "name": "voluem_bed_by_one_home",
         "showlegend": true,
         "type": "scattergl",
         "x": [
          "2024-12-09",
          "2024-12-11",
          "2024-12-12",
          "2024-12-13",
          "2024-12-14",
          "2024-12-15"
         ],
         "xaxis": "x",
         "y": [
          16,
          4,
          7,
          32,
          25,
          26
         ],
         "yaxis": "y"
        },
        {
         "hovertemplate": "Unique_Title=bathroom_accessories_z44_2<br>Curdate=%{x}<br>Ranking=%{y}<extra></extra>",
         "legendgroup": "bathroom_accessories_z44_2",
         "line": {
          "color": "#FF6692",
          "dash": "solid"
         },
         "marker": {
          "symbol": "circle"
         },
         "mode": "lines",
         "name": "bathroom_accessories_z44_2",
         "showlegend": true,
         "type": "scattergl",
         "x": [
          "2024-12-09",
          "2024-12-11",
          "2024-12-12",
          "2024-12-13",
          "2024-12-14",
          "2024-12-15"
         ],
         "xaxis": "x",
         "y": [
          14,
          25,
          46,
          13,
          6,
          9
         ],
         "yaxis": "y"
        },
        {
         "hovertemplate": "Unique_Title=nabor_srednepoligonalnykh_avtomobilei_3<br>Curdate=%{x}<br>Ranking=%{y}<extra></extra>",
         "legendgroup": "nabor_srednepoligonalnykh_avtomobilei_3",
         "line": {
          "color": "#B6E880",
          "dash": "solid"
         },
         "marker": {
          "symbol": "circle"
         },
         "mode": "lines",
         "name": "nabor_srednepoligonalnykh_avtomobilei_3",
         "showlegend": true,
         "type": "scattergl",
         "x": [
          "2024-12-09"
         ],
         "xaxis": "x",
         "y": [
          12
         ],
         "yaxis": "y"
        },
        {
         "hovertemplate": "Unique_Title=televizor_led_samsung_70<br>Curdate=%{x}<br>Ranking=%{y}<extra></extra>",
         "legendgroup": "televizor_led_samsung_70",
         "line": {
          "color": "#FF97FF",
          "dash": "solid"
         },
         "marker": {
          "symbol": "circle"
         },
         "mode": "lines",
         "name": "televizor_led_samsung_70",
         "showlegend": true,
         "type": "scattergl",
         "x": [
          "2024-12-09",
          "2024-12-13",
          "2024-12-14"
         ],
         "xaxis": "x",
         "y": [
          10,
          8,
          2
         ],
         "yaxis": "y"
        },
        {
         "hovertemplate": "Unique_Title=beige_soft_decor_for_the_workplace<br>Curdate=%{x}<br>Ranking=%{y}<extra></extra>",
         "legendgroup": "beige_soft_decor_for_the_workplace",
         "line": {
          "color": "#FECB52",
          "dash": "solid"
         },
         "marker": {
          "symbol": "circle"
         },
         "mode": "lines",
         "name": "beige_soft_decor_for_the_workplace",
         "showlegend": true,
         "type": "scattergl",
         "x": [
          "2024-12-09",
          "2024-12-12",
          "2024-12-13",
          "2024-12-15"
         ],
         "xaxis": "x",
         "y": [
          8,
          18,
          5,
          2
         ],
         "yaxis": "y"
        },
        {
         "hovertemplate": "Unique_Title=chemex<br>Curdate=%{x}<br>Ranking=%{y}<extra></extra>",
         "legendgroup": "chemex",
         "line": {
          "color": "#636efa",
          "dash": "solid"
         },
         "marker": {
          "symbol": "circle"
         },
         "mode": "lines",
         "name": "chemex",
         "showlegend": true,
         "type": "scattergl",
         "x": [
          "2024-12-11",
          "2024-12-12",
          "2024-12-13",
          "2024-12-14",
          "2024-12-15"
         ],
         "xaxis": "x",
         "y": [
          101,
          102,
          103,
          108,
          107
         ],
         "yaxis": "y"
        },
        {
         "hovertemplate": "Unique_Title=flexform_asolo_sofa_1<br>Curdate=%{x}<br>Ranking=%{y}<extra></extra>",
         "legendgroup": "flexform_asolo_sofa_1",
         "line": {
          "color": "#EF553B",
          "dash": "solid"
         },
         "marker": {
          "symbol": "circle"
         },
         "mode": "lines",
         "name": "flexform_asolo_sofa_1",
         "showlegend": true,
         "type": "scattergl",
         "x": [
          "2024-12-11",
          "2024-12-12",
          "2024-12-13",
          "2024-12-14",
          "2024-12-15"
         ],
         "xaxis": "x",
         "y": [
          96,
          94,
          104,
          107,
          108
         ],
         "yaxis": "y"
        },
        {
         "hovertemplate": "Unique_Title=macbook_pro_5<br>Curdate=%{x}<br>Ranking=%{y}<extra></extra>",
         "legendgroup": "macbook_pro_5",
         "line": {
          "color": "#00cc96",
          "dash": "solid"
         },
         "marker": {
          "symbol": "circle"
         },
         "mode": "lines",
         "name": "macbook_pro_5",
         "showlegend": true,
         "type": "scattergl",
         "x": [
          "2024-12-11",
          "2024-12-12",
          "2024-12-13",
          "2024-12-14",
          "2024-12-15"
         ],
         "xaxis": "x",
         "y": [
          82,
          82,
          100,
          102,
          102
         ],
         "yaxis": "y"
        },
        {
         "hovertemplate": "Unique_Title=izgolove_krovati_5_12<br>Curdate=%{x}<br>Ranking=%{y}<extra></extra>",
         "legendgroup": "izgolove_krovati_5_12",
         "line": {
          "color": "#ab63fa",
          "dash": "solid"
         },
         "marker": {
          "symbol": "circle"
         },
         "mode": "lines",
         "name": "izgolove_krovati_5_12",
         "showlegend": true,
         "type": "scattergl",
         "x": [
          "2024-12-11",
          "2024-12-12",
          "2024-12-13",
          "2024-12-14",
          "2024-12-15"
         ],
         "xaxis": "x",
         "y": [
          75,
          79,
          83,
          88,
          88
         ],
         "yaxis": "y"
        },
        {
         "hovertemplate": "Unique_Title=edano_pendant_light_lucande_1<br>Curdate=%{x}<br>Ranking=%{y}<extra></extra>",
         "legendgroup": "edano_pendant_light_lucande_1",
         "line": {
          "color": "#FFA15A",
          "dash": "solid"
         },
         "marker": {
          "symbol": "circle"
         },
         "mode": "lines",
         "name": "edano_pendant_light_lucande_1",
         "showlegend": true,
         "type": "scattergl",
         "x": [
          "2024-12-11",
          "2024-12-12",
          "2024-12-13",
          "2024-12-14",
          "2024-12-15"
         ],
         "xaxis": "x",
         "y": [
          48,
          76,
          76,
          91,
          91
         ],
         "yaxis": "y"
        },
        {
         "hovertemplate": "Unique_Title=girlianda_na_okno_1<br>Curdate=%{x}<br>Ranking=%{y}<extra></extra>",
         "legendgroup": "girlianda_na_okno_1",
         "line": {
          "color": "#19d3f3",
          "dash": "solid"
         },
         "marker": {
          "symbol": "circle"
         },
         "mode": "lines",
         "name": "girlianda_na_okno_1",
         "showlegend": true,
         "type": "scattergl",
         "x": [
          "2024-12-11",
          "2024-12-12",
          "2024-12-13",
          "2024-12-14",
          "2024-12-15"
         ],
         "xaxis": "x",
         "y": [
          42,
          41,
          43,
          37,
          46
         ],
         "yaxis": "y"
        },
        {
         "hovertemplate": "Unique_Title=mogens_stolik_divan_ru<br>Curdate=%{x}<br>Ranking=%{y}<extra></extra>",
         "legendgroup": "mogens_stolik_divan_ru",
         "line": {
          "color": "#FF6692",
          "dash": "solid"
         },
         "marker": {
          "symbol": "circle"
         },
         "mode": "lines",
         "name": "mogens_stolik_divan_ru",
         "showlegend": true,
         "type": "scattergl",
         "x": [
          "2024-12-11",
          "2024-12-12",
          "2024-12-13",
          "2024-12-14",
          "2024-12-15"
         ],
         "xaxis": "x",
         "y": [
          36,
          60,
          77,
          68,
          66
         ],
         "yaxis": "y"
        },
        {
         "hovertemplate": "Unique_Title=prikhozhaia_7_7<br>Curdate=%{x}<br>Ranking=%{y}<extra></extra>",
         "legendgroup": "prikhozhaia_7_7",
         "line": {
          "color": "#B6E880",
          "dash": "solid"
         },
         "marker": {
          "symbol": "circle"
         },
         "mode": "lines",
         "name": "prikhozhaia_7_7",
         "showlegend": true,
         "type": "scattergl",
         "x": [
          "2024-12-11",
          "2024-12-12",
          "2024-12-13"
         ],
         "xaxis": "x",
         "y": [
          32,
          29,
          33
         ],
         "yaxis": "y"
        },
        {
         "hovertemplate": "Unique_Title=curtain_118_3<br>Curdate=%{x}<br>Ranking=%{y}<extra></extra>",
         "legendgroup": "curtain_118_3",
         "line": {
          "color": "#FF97FF",
          "dash": "solid"
         },
         "marker": {
          "symbol": "circle"
         },
         "mode": "lines",
         "name": "curtain_118_3",
         "showlegend": true,
         "type": "scattergl",
         "x": [
          "2024-12-11",
          "2024-12-12",
          "2024-12-13",
          "2024-12-14",
          "2024-12-15"
         ],
         "xaxis": "x",
         "y": [
          29,
          28,
          49,
          64,
          62
         ],
         "yaxis": "y"
        },
        {
         "hovertemplate": "Unique_Title=nabor_sladostei_vypechki_i_pechene_dlia_kafe_restoranov<br>Curdate=%{x}<br>Ranking=%{y}<extra></extra>",
         "legendgroup": "nabor_sladostei_vypechki_i_pechene_dlia_kafe_restoranov",
         "line": {
          "color": "#FECB52",
          "dash": "solid"
         },
         "marker": {
          "symbol": "circle"
         },
         "mode": "lines",
         "name": "nabor_sladostei_vypechki_i_pechene_dlia_kafe_restoranov",
         "showlegend": true,
         "type": "scattergl",
         "x": [
          "2024-12-11",
          "2024-12-12"
         ],
         "xaxis": "x",
         "y": [
          26,
          25
         ],
         "yaxis": "y"
        },
        {
         "hovertemplate": "Unique_Title=corner_sofa_space_2_speis_2_divan<br>Curdate=%{x}<br>Ranking=%{y}<extra></extra>",
         "legendgroup": "corner_sofa_space_2_speis_2_divan",
         "line": {
          "color": "#636efa",
          "dash": "solid"
         },
         "marker": {
          "symbol": "circle"
         },
         "mode": "lines",
         "name": "corner_sofa_space_2_speis_2_divan",
         "showlegend": true,
         "type": "scattergl",
         "x": [
          "2024-12-11",
          "2024-12-12",
          "2024-12-13",
          "2024-12-14",
          "2024-12-15"
         ],
         "xaxis": "x",
         "y": [
          10,
          69,
          50,
          51,
          51
         ],
         "yaxis": "y"
        },
        {
         "hovertemplate": "Unique_Title=voiampol_tumba_divan_ru<br>Curdate=%{x}<br>Ranking=%{y}<extra></extra>",
         "legendgroup": "voiampol_tumba_divan_ru",
         "line": {
          "color": "#EF553B",
          "dash": "solid"
         },
         "marker": {
          "symbol": "circle"
         },
         "mode": "lines",
         "name": "voiampol_tumba_divan_ru",
         "showlegend": true,
         "type": "scattergl",
         "x": [
          "2024-12-11",
          "2024-12-12"
         ],
         "xaxis": "x",
         "y": [
          6,
          8
         ],
         "yaxis": "y"
        },
        {
         "hovertemplate": "Unique_Title=zelionaia_dereviannaia_zmeia_na_vetke<br>Curdate=%{x}<br>Ranking=%{y}<extra></extra>",
         "legendgroup": "zelionaia_dereviannaia_zmeia_na_vetke",
         "line": {
          "color": "#00cc96",
          "dash": "solid"
         },
         "marker": {
          "symbol": "circle"
         },
         "mode": "lines",
         "name": "zelionaia_dereviannaia_zmeia_na_vetke",
         "showlegend": true,
         "type": "scattergl",
         "x": [
          "2024-12-11",
          "2024-12-12",
          "2024-12-13"
         ],
         "xaxis": "x",
         "y": [
          3,
          6,
          46
         ],
         "yaxis": "y"
        },
        {
         "hovertemplate": "Unique_Title=sovremennye_okna<br>Curdate=%{x}<br>Ranking=%{y}<extra></extra>",
         "legendgroup": "sovremennye_okna",
         "line": {
          "color": "#ab63fa",
          "dash": "solid"
         },
         "marker": {
          "symbol": "circle"
         },
         "mode": "lines",
         "name": "sovremennye_okna",
         "showlegend": true,
         "type": "scattergl",
         "x": [
          "2024-12-11",
          "2024-12-14",
          "2024-12-15"
         ],
         "xaxis": "x",
         "y": [
          2,
          40,
          5
         ],
         "yaxis": "y"
        },
        {
         "hovertemplate": "Unique_Title=shtora_dlia_vannoi_dvoinaia_so_skrytym_potolochnym_karnizom<br>Curdate=%{x}<br>Ranking=%{y}<extra></extra>",
         "legendgroup": "shtora_dlia_vannoi_dvoinaia_so_skrytym_potolochnym_karnizom",
         "line": {
          "color": "#FFA15A",
          "dash": "solid"
         },
         "marker": {
          "symbol": "circle"
         },
         "mode": "lines",
         "name": "shtora_dlia_vannoi_dvoinaia_so_skrytym_potolochnym_karnizom",
         "showlegend": true,
         "type": "scattergl",
         "x": [
          "2024-12-12",
          "2024-12-13",
          "2024-12-14",
          "2024-12-15"
         ],
         "xaxis": "x",
         "y": [
          48,
          56,
          62,
          60
         ],
         "yaxis": "y"
        },
        {
         "hovertemplate": "Unique_Title=vetki_sosny_v_glinianoi_vaze_novogodnii_buket<br>Curdate=%{x}<br>Ranking=%{y}<extra></extra>",
         "legendgroup": "vetki_sosny_v_glinianoi_vaze_novogodnii_buket",
         "line": {
          "color": "#19d3f3",
          "dash": "solid"
         },
         "marker": {
          "symbol": "circle"
         },
         "mode": "lines",
         "name": "vetki_sosny_v_glinianoi_vaze_novogodnii_buket",
         "showlegend": true,
         "type": "scattergl",
         "x": [
          "2024-12-12",
          "2024-12-13",
          "2024-12-14",
          "2024-12-15"
         ],
         "xaxis": "x",
         "y": [
          24,
          31,
          49,
          49
         ],
         "yaxis": "y"
        },
        {
         "hovertemplate": "Unique_Title=novogodniaia_servirovka_4_1<br>Curdate=%{x}<br>Ranking=%{y}<extra></extra>",
         "legendgroup": "novogodniaia_servirovka_4_1",
         "line": {
          "color": "#FF6692",
          "dash": "solid"
         },
         "marker": {
          "symbol": "circle"
         },
         "mode": "lines",
         "name": "novogodniaia_servirovka_4_1",
         "showlegend": true,
         "type": "scattergl",
         "x": [
          "2024-12-12",
          "2024-12-13",
          "2024-12-14",
          "2024-12-15"
         ],
         "xaxis": "x",
         "y": [
          23,
          57,
          43,
          42
         ],
         "yaxis": "y"
        },
        {
         "hovertemplate": "Unique_Title=basic_wardrobe_made_of_cabinet_furniture_with_doors_2<br>Curdate=%{x}<br>Ranking=%{y}<extra></extra>",
         "legendgroup": "basic_wardrobe_made_of_cabinet_furniture_with_doors_2",
         "line": {
          "color": "#B6E880",
          "dash": "solid"
         },
         "marker": {
          "symbol": "circle"
         },
         "mode": "lines",
         "name": "basic_wardrobe_made_of_cabinet_furniture_with_doors_2",
         "showlegend": true,
         "type": "scattergl",
         "x": [
          "2024-12-12",
          "2024-12-13",
          "2024-12-14",
          "2024-12-15"
         ],
         "xaxis": "x",
         "y": [
          22,
          30,
          48,
          48
         ],
         "yaxis": "y"
        },
        {
         "hovertemplate": "Unique_Title=bolia_lomi_sofa_1<br>Curdate=%{x}<br>Ranking=%{y}<extra></extra>",
         "legendgroup": "bolia_lomi_sofa_1",
         "line": {
          "color": "#FF97FF",
          "dash": "solid"
         },
         "marker": {
          "symbol": "circle"
         },
         "mode": "lines",
         "name": "bolia_lomi_sofa_1",
         "showlegend": true,
         "type": "scattergl",
         "x": [
          "2024-12-12",
          "2024-12-13",
          "2024-12-14",
          "2024-12-15"
         ],
         "xaxis": "x",
         "y": [
          21,
          45,
          4,
          7
         ],
         "yaxis": "y"
        },
        {
         "hovertemplate": "Unique_Title=barbekiu_pech_1<br>Curdate=%{x}<br>Ranking=%{y}<extra></extra>",
         "legendgroup": "barbekiu_pech_1",
         "line": {
          "color": "#FECB52",
          "dash": "solid"
         },
         "marker": {
          "symbol": "circle"
         },
         "mode": "lines",
         "name": "barbekiu_pech_1",
         "showlegend": true,
         "type": "scattergl",
         "x": [
          "2024-12-12",
          "2024-12-13"
         ],
         "xaxis": "x",
         "y": [
          17,
          4
         ],
         "yaxis": "y"
        },
        {
         "hovertemplate": "Unique_Title=dwarf_white_pine_1<br>Curdate=%{x}<br>Ranking=%{y}<extra></extra>",
         "legendgroup": "dwarf_white_pine_1",
         "line": {
          "color": "#636efa",
          "dash": "solid"
         },
         "marker": {
          "symbol": "circle"
         },
         "mode": "lines",
         "name": "dwarf_white_pine_1",
         "showlegend": true,
         "type": "scattergl",
         "x": [
          "2024-12-12",
          "2024-12-13",
          "2024-12-14",
          "2024-12-15"
         ],
         "xaxis": "x",
         "y": [
          5,
          11,
          22,
          40
         ],
         "yaxis": "y"
        },
        {
         "hovertemplate": "Unique_Title=nabor_nizkopoligonalnykh_avtomobilei_2<br>Curdate=%{x}<br>Ranking=%{y}<extra></extra>",
         "legendgroup": "nabor_nizkopoligonalnykh_avtomobilei_2",
         "line": {
          "color": "#EF553B",
          "dash": "solid"
         },
         "marker": {
          "symbol": "circle"
         },
         "mode": "lines",
         "name": "nabor_nizkopoligonalnykh_avtomobilei_2",
         "showlegend": true,
         "type": "scattergl",
         "x": [
          "2024-12-12",
          "2024-12-13"
         ],
         "xaxis": "x",
         "y": [
          4,
          29
         ],
         "yaxis": "y"
        },
        {
         "hovertemplate": "Unique_Title=dekorativnyi_nabor_ng16<br>Curdate=%{x}<br>Ranking=%{y}<extra></extra>",
         "legendgroup": "dekorativnyi_nabor_ng16",
         "line": {
          "color": "#00cc96",
          "dash": "solid"
         },
         "marker": {
          "symbol": "circle"
         },
         "mode": "lines",
         "name": "dekorativnyi_nabor_ng16",
         "showlegend": true,
         "type": "scattergl",
         "x": [
          "2024-12-13"
         ],
         "xaxis": "x",
         "y": [
          41
         ],
         "yaxis": "y"
        },
        {
         "hovertemplate": "Unique_Title=wall_decor_05_5<br>Curdate=%{x}<br>Ranking=%{y}<extra></extra>",
         "legendgroup": "wall_decor_05_5",
         "line": {
          "color": "#ab63fa",
          "dash": "solid"
         },
         "marker": {
          "symbol": "circle"
         },
         "mode": "lines",
         "name": "wall_decor_05_5",
         "showlegend": true,
         "type": "scattergl",
         "x": [
          "2024-12-13",
          "2024-12-14",
          "2024-12-15"
         ],
         "xaxis": "x",
         "y": [
          35,
          52,
          52
         ],
         "yaxis": "y"
        },
        {
         "hovertemplate": "Unique_Title=sklad_angar<br>Curdate=%{x}<br>Ranking=%{y}<extra></extra>",
         "legendgroup": "sklad_angar",
         "line": {
          "color": "#FFA15A",
          "dash": "solid"
         },
         "marker": {
          "symbol": "circle"
         },
         "mode": "lines",
         "name": "sklad_angar",
         "showlegend": true,
         "type": "scattergl",
         "x": [
          "2024-12-13"
         ],
         "xaxis": "x",
         "y": [
          18
         ],
         "yaxis": "y"
        },
        {
         "hovertemplate": "Unique_Title=bathroom_accessories_70_4<br>Curdate=%{x}<br>Ranking=%{y}<extra></extra>",
         "legendgroup": "bathroom_accessories_70_4",
         "line": {
          "color": "#19d3f3",
          "dash": "solid"
         },
         "marker": {
          "symbol": "circle"
         },
         "mode": "lines",
         "name": "bathroom_accessories_70_4",
         "showlegend": true,
         "type": "scattergl",
         "x": [
          "2024-12-13"
         ],
         "xaxis": "x",
         "y": [
          12
         ],
         "yaxis": "y"
        },
        {
         "hovertemplate": "Unique_Title=rozetki_i_vykliuchateli_systeme_electric_ceriia_artgallery<br>Curdate=%{x}<br>Ranking=%{y}<extra></extra>",
         "legendgroup": "rozetki_i_vykliuchateli_systeme_electric_ceriia_artgallery",
         "line": {
          "color": "#FF6692",
          "dash": "solid"
         },
         "marker": {
          "symbol": "circle"
         },
         "mode": "lines",
         "name": "rozetki_i_vykliuchateli_systeme_electric_ceriia_artgallery",
         "showlegend": true,
         "type": "scattergl",
         "x": [
          "2024-12-13",
          "2024-12-14",
          "2024-12-15"
         ],
         "xaxis": "x",
         "y": [
          2,
          58,
          58
         ],
         "yaxis": "y"
        },
        {
         "hovertemplate": "Unique_Title=khoroshaia_elochka_2<br>Curdate=%{x}<br>Ranking=%{y}<extra></extra>",
         "legendgroup": "khoroshaia_elochka_2",
         "line": {
          "color": "#B6E880",
          "dash": "solid"
         },
         "marker": {
          "symbol": "circle"
         },
         "mode": "lines",
         "name": "khoroshaia_elochka_2",
         "showlegend": true,
         "type": "scattergl",
         "x": [
          "2024-12-14",
          "2024-12-15"
         ],
         "xaxis": "x",
         "y": [
          42,
          41
         ],
         "yaxis": "y"
        },
        {
         "hovertemplate": "Unique_Title=siena_kids_bed_by_como_11<br>Curdate=%{x}<br>Ranking=%{y}<extra></extra>",
         "legendgroup": "siena_kids_bed_by_como_11",
         "line": {
          "color": "#FF97FF",
          "dash": "solid"
         },
         "marker": {
          "symbol": "circle"
         },
         "mode": "lines",
         "name": "siena_kids_bed_by_como_11",
         "showlegend": true,
         "type": "scattergl",
         "x": [
          "2024-12-14",
          "2024-12-15"
         ],
         "xaxis": "x",
         "y": [
          24,
          25
         ],
         "yaxis": "y"
        },
        {
         "hovertemplate": "Unique_Title=tumby_prikrovatnye_tammi_ellipsefurniture<br>Curdate=%{x}<br>Ranking=%{y}<extra></extra>",
         "legendgroup": "tumby_prikrovatnye_tammi_ellipsefurniture",
         "line": {
          "color": "#FECB52",
          "dash": "solid"
         },
         "marker": {
          "symbol": "circle"
         },
         "mode": "lines",
         "name": "tumby_prikrovatnye_tammi_ellipsefurniture",
         "showlegend": true,
         "type": "scattergl",
         "x": [
          "2024-12-14",
          "2024-12-15"
         ],
         "xaxis": "x",
         "y": [
          23,
          24
         ],
         "yaxis": "y"
        },
        {
         "hovertemplate": "Unique_Title=sienna_swivel_armchair<br>Curdate=%{x}<br>Ranking=%{y}<extra></extra>",
         "legendgroup": "sienna_swivel_armchair",
         "line": {
          "color": "#636efa",
          "dash": "solid"
         },
         "marker": {
          "symbol": "circle"
         },
         "mode": "lines",
         "name": "sienna_swivel_armchair",
         "showlegend": true,
         "type": "scattergl",
         "x": [
          "2024-12-14",
          "2024-12-15"
         ],
         "xaxis": "x",
         "y": [
          21,
          23
         ],
         "yaxis": "y"
        },
        {
         "hovertemplate": "Unique_Title=kitchen_decor_03_1<br>Curdate=%{x}<br>Ranking=%{y}<extra></extra>",
         "legendgroup": "kitchen_decor_03_1",
         "line": {
          "color": "#EF553B",
          "dash": "solid"
         },
         "marker": {
          "symbol": "circle"
         },
         "mode": "lines",
         "name": "kitchen_decor_03_1",
         "showlegend": true,
         "type": "scattergl",
         "x": [
          "2024-12-14",
          "2024-12-15"
         ],
         "xaxis": "x",
         "y": [
          12,
          15
         ],
         "yaxis": "y"
        },
        {
         "hovertemplate": "Unique_Title=kovior_rajah_la_redoute<br>Curdate=%{x}<br>Ranking=%{y}<extra></extra>",
         "legendgroup": "kovior_rajah_la_redoute",
         "line": {
          "color": "#00cc96",
          "dash": "solid"
         },
         "marker": {
          "symbol": "circle"
         },
         "mode": "lines",
         "name": "kovior_rajah_la_redoute",
         "showlegend": true,
         "type": "scattergl",
         "x": [
          "2024-12-14",
          "2024-12-15"
         ],
         "xaxis": "x",
         "y": [
          9,
          12
         ],
         "yaxis": "y"
        },
        {
         "hovertemplate": "Unique_Title=kreslo_cosmopolita_mur_art_by_bo_art<br>Curdate=%{x}<br>Ranking=%{y}<extra></extra>",
         "legendgroup": "kreslo_cosmopolita_mur_art_by_bo_art",
         "line": {
          "color": "#ab63fa",
          "dash": "solid"
         },
         "marker": {
          "symbol": "circle"
         },
         "mode": "lines",
         "name": "kreslo_cosmopolita_mur_art_by_bo_art",
         "showlegend": true,
         "type": "scattergl",
         "x": [
          "2024-12-14",
          "2024-12-15"
         ],
         "xaxis": "x",
         "y": [
          5,
          8
         ],
         "yaxis": "y"
        },
        {
         "hovertemplate": "Unique_Title=loewe_bathroom_decor_set<br>Curdate=%{x}<br>Ranking=%{y}<extra></extra>",
         "legendgroup": "loewe_bathroom_decor_set",
         "line": {
          "color": "#FFA15A",
          "dash": "solid"
         },
         "marker": {
          "symbol": "circle"
         },
         "mode": "lines",
         "name": "loewe_bathroom_decor_set",
         "showlegend": true,
         "type": "scattergl",
         "x": [
          "2024-12-15"
         ],
         "xaxis": "x",
         "y": [
          6
         ],
         "yaxis": "y"
        }
       ],
       "layout": {
        "legend": {
         "title": {
          "text": "Unique_Title"
         },
         "tracegroupgap": 0
        },
        "template": {
         "data": {
          "bar": [
           {
            "error_x": {
             "color": "#2a3f5f"
            },
            "error_y": {
             "color": "#2a3f5f"
            },
            "marker": {
             "line": {
              "color": "#E5ECF6",
              "width": 0.5
             },
             "pattern": {
              "fillmode": "overlay",
              "size": 10,
              "solidity": 0.2
             }
            },
            "type": "bar"
           }
          ],
          "barpolar": [
           {
            "marker": {
             "line": {
              "color": "#E5ECF6",
              "width": 0.5
             },
             "pattern": {
              "fillmode": "overlay",
              "size": 10,
              "solidity": 0.2
             }
            },
            "type": "barpolar"
           }
          ],
          "carpet": [
           {
            "aaxis": {
             "endlinecolor": "#2a3f5f",
             "gridcolor": "white",
             "linecolor": "white",
             "minorgridcolor": "white",
             "startlinecolor": "#2a3f5f"
            },
            "baxis": {
             "endlinecolor": "#2a3f5f",
             "gridcolor": "white",
             "linecolor": "white",
             "minorgridcolor": "white",
             "startlinecolor": "#2a3f5f"
            },
            "type": "carpet"
           }
          ],
          "choropleth": [
           {
            "colorbar": {
             "outlinewidth": 0,
             "ticks": ""
            },
            "type": "choropleth"
           }
          ],
          "contour": [
           {
            "colorbar": {
             "outlinewidth": 0,
             "ticks": ""
            },
            "colorscale": [
             [
              0,
              "#0d0887"
             ],
             [
              0.1111111111111111,
              "#46039f"
             ],
             [
              0.2222222222222222,
              "#7201a8"
             ],
             [
              0.3333333333333333,
              "#9c179e"
             ],
             [
              0.4444444444444444,
              "#bd3786"
             ],
             [
              0.5555555555555556,
              "#d8576b"
             ],
             [
              0.6666666666666666,
              "#ed7953"
             ],
             [
              0.7777777777777778,
              "#fb9f3a"
             ],
             [
              0.8888888888888888,
              "#fdca26"
             ],
             [
              1,
              "#f0f921"
             ]
            ],
            "type": "contour"
           }
          ],
          "contourcarpet": [
           {
            "colorbar": {
             "outlinewidth": 0,
             "ticks": ""
            },
            "type": "contourcarpet"
           }
          ],
          "heatmap": [
           {
            "colorbar": {
             "outlinewidth": 0,
             "ticks": ""
            },
            "colorscale": [
             [
              0,
              "#0d0887"
             ],
             [
              0.1111111111111111,
              "#46039f"
             ],
             [
              0.2222222222222222,
              "#7201a8"
             ],
             [
              0.3333333333333333,
              "#9c179e"
             ],
             [
              0.4444444444444444,
              "#bd3786"
             ],
             [
              0.5555555555555556,
              "#d8576b"
             ],
             [
              0.6666666666666666,
              "#ed7953"
             ],
             [
              0.7777777777777778,
              "#fb9f3a"
             ],
             [
              0.8888888888888888,
              "#fdca26"
             ],
             [
              1,
              "#f0f921"
             ]
            ],
            "type": "heatmap"
           }
          ],
          "heatmapgl": [
           {
            "colorbar": {
             "outlinewidth": 0,
             "ticks": ""
            },
            "colorscale": [
             [
              0,
              "#0d0887"
             ],
             [
              0.1111111111111111,
              "#46039f"
             ],
             [
              0.2222222222222222,
              "#7201a8"
             ],
             [
              0.3333333333333333,
              "#9c179e"
             ],
             [
              0.4444444444444444,
              "#bd3786"
             ],
             [
              0.5555555555555556,
              "#d8576b"
             ],
             [
              0.6666666666666666,
              "#ed7953"
             ],
             [
              0.7777777777777778,
              "#fb9f3a"
             ],
             [
              0.8888888888888888,
              "#fdca26"
             ],
             [
              1,
              "#f0f921"
             ]
            ],
            "type": "heatmapgl"
           }
          ],
          "histogram": [
           {
            "marker": {
             "pattern": {
              "fillmode": "overlay",
              "size": 10,
              "solidity": 0.2
             }
            },
            "type": "histogram"
           }
          ],
          "histogram2d": [
           {
            "colorbar": {
             "outlinewidth": 0,
             "ticks": ""
            },
            "colorscale": [
             [
              0,
              "#0d0887"
             ],
             [
              0.1111111111111111,
              "#46039f"
             ],
             [
              0.2222222222222222,
              "#7201a8"
             ],
             [
              0.3333333333333333,
              "#9c179e"
             ],
             [
              0.4444444444444444,
              "#bd3786"
             ],
             [
              0.5555555555555556,
              "#d8576b"
             ],
             [
              0.6666666666666666,
              "#ed7953"
             ],
             [
              0.7777777777777778,
              "#fb9f3a"
             ],
             [
              0.8888888888888888,
              "#fdca26"
             ],
             [
              1,
              "#f0f921"
             ]
            ],
            "type": "histogram2d"
           }
          ],
          "histogram2dcontour": [
           {
            "colorbar": {
             "outlinewidth": 0,
             "ticks": ""
            },
            "colorscale": [
             [
              0,
              "#0d0887"
             ],
             [
              0.1111111111111111,
              "#46039f"
             ],
             [
              0.2222222222222222,
              "#7201a8"
             ],
             [
              0.3333333333333333,
              "#9c179e"
             ],
             [
              0.4444444444444444,
              "#bd3786"
             ],
             [
              0.5555555555555556,
              "#d8576b"
             ],
             [
              0.6666666666666666,
              "#ed7953"
             ],
             [
              0.7777777777777778,
              "#fb9f3a"
             ],
             [
              0.8888888888888888,
              "#fdca26"
             ],
             [
              1,
              "#f0f921"
             ]
            ],
            "type": "histogram2dcontour"
           }
          ],
          "mesh3d": [
           {
            "colorbar": {
             "outlinewidth": 0,
             "ticks": ""
            },
            "type": "mesh3d"
           }
          ],
          "parcoords": [
           {
            "line": {
             "colorbar": {
              "outlinewidth": 0,
              "ticks": ""
             }
            },
            "type": "parcoords"
           }
          ],
          "pie": [
           {
            "automargin": true,
            "type": "pie"
           }
          ],
          "scatter": [
           {
            "fillpattern": {
             "fillmode": "overlay",
             "size": 10,
             "solidity": 0.2
            },
            "type": "scatter"
           }
          ],
          "scatter3d": [
           {
            "line": {
             "colorbar": {
              "outlinewidth": 0,
              "ticks": ""
             }
            },
            "marker": {
             "colorbar": {
              "outlinewidth": 0,
              "ticks": ""
             }
            },
            "type": "scatter3d"
           }
          ],
          "scattercarpet": [
           {
            "marker": {
             "colorbar": {
              "outlinewidth": 0,
              "ticks": ""
             }
            },
            "type": "scattercarpet"
           }
          ],
          "scattergeo": [
           {
            "marker": {
             "colorbar": {
              "outlinewidth": 0,
              "ticks": ""
             }
            },
            "type": "scattergeo"
           }
          ],
          "scattergl": [
           {
            "marker": {
             "colorbar": {
              "outlinewidth": 0,
              "ticks": ""
             }
            },
            "type": "scattergl"
           }
          ],
          "scattermapbox": [
           {
            "marker": {
             "colorbar": {
              "outlinewidth": 0,
              "ticks": ""
             }
            },
            "type": "scattermapbox"
           }
          ],
          "scatterpolar": [
           {
            "marker": {
             "colorbar": {
              "outlinewidth": 0,
              "ticks": ""
             }
            },
            "type": "scatterpolar"
           }
          ],
          "scatterpolargl": [
           {
            "marker": {
             "colorbar": {
              "outlinewidth": 0,
              "ticks": ""
             }
            },
            "type": "scatterpolargl"
           }
          ],
          "scatterternary": [
           {
            "marker": {
             "colorbar": {
              "outlinewidth": 0,
              "ticks": ""
             }
            },
            "type": "scatterternary"
           }
          ],
          "surface": [
           {
            "colorbar": {
             "outlinewidth": 0,
             "ticks": ""
            },
            "colorscale": [
             [
              0,
              "#0d0887"
             ],
             [
              0.1111111111111111,
              "#46039f"
             ],
             [
              0.2222222222222222,
              "#7201a8"
             ],
             [
              0.3333333333333333,
              "#9c179e"
             ],
             [
              0.4444444444444444,
              "#bd3786"
             ],
             [
              0.5555555555555556,
              "#d8576b"
             ],
             [
              0.6666666666666666,
              "#ed7953"
             ],
             [
              0.7777777777777778,
              "#fb9f3a"
             ],
             [
              0.8888888888888888,
              "#fdca26"
             ],
             [
              1,
              "#f0f921"
             ]
            ],
            "type": "surface"
           }
          ],
          "table": [
           {
            "cells": {
             "fill": {
              "color": "#EBF0F8"
             },
             "line": {
              "color": "white"
             }
            },
            "header": {
             "fill": {
              "color": "#C8D4E3"
             },
             "line": {
              "color": "white"
             }
            },
            "type": "table"
           }
          ]
         },
         "layout": {
          "annotationdefaults": {
           "arrowcolor": "#2a3f5f",
           "arrowhead": 0,
           "arrowwidth": 1
          },
          "autotypenumbers": "strict",
          "coloraxis": {
           "colorbar": {
            "outlinewidth": 0,
            "ticks": ""
           }
          },
          "colorscale": {
           "diverging": [
            [
             0,
             "#8e0152"
            ],
            [
             0.1,
             "#c51b7d"
            ],
            [
             0.2,
             "#de77ae"
            ],
            [
             0.3,
             "#f1b6da"
            ],
            [
             0.4,
             "#fde0ef"
            ],
            [
             0.5,
             "#f7f7f7"
            ],
            [
             0.6,
             "#e6f5d0"
            ],
            [
             0.7,
             "#b8e186"
            ],
            [
             0.8,
             "#7fbc41"
            ],
            [
             0.9,
             "#4d9221"
            ],
            [
             1,
             "#276419"
            ]
           ],
           "sequential": [
            [
             0,
             "#0d0887"
            ],
            [
             0.1111111111111111,
             "#46039f"
            ],
            [
             0.2222222222222222,
             "#7201a8"
            ],
            [
             0.3333333333333333,
             "#9c179e"
            ],
            [
             0.4444444444444444,
             "#bd3786"
            ],
            [
             0.5555555555555556,
             "#d8576b"
            ],
            [
             0.6666666666666666,
             "#ed7953"
            ],
            [
             0.7777777777777778,
             "#fb9f3a"
            ],
            [
             0.8888888888888888,
             "#fdca26"
            ],
            [
             1,
             "#f0f921"
            ]
           ],
           "sequentialminus": [
            [
             0,
             "#0d0887"
            ],
            [
             0.1111111111111111,
             "#46039f"
            ],
            [
             0.2222222222222222,
             "#7201a8"
            ],
            [
             0.3333333333333333,
             "#9c179e"
            ],
            [
             0.4444444444444444,
             "#bd3786"
            ],
            [
             0.5555555555555556,
             "#d8576b"
            ],
            [
             0.6666666666666666,
             "#ed7953"
            ],
            [
             0.7777777777777778,
             "#fb9f3a"
            ],
            [
             0.8888888888888888,
             "#fdca26"
            ],
            [
             1,
             "#f0f921"
            ]
           ]
          },
          "colorway": [
           "#636efa",
           "#EF553B",
           "#00cc96",
           "#ab63fa",
           "#FFA15A",
           "#19d3f3",
           "#FF6692",
           "#B6E880",
           "#FF97FF",
           "#FECB52"
          ],
          "font": {
           "color": "#2a3f5f"
          },
          "geo": {
           "bgcolor": "white",
           "lakecolor": "white",
           "landcolor": "#E5ECF6",
           "showlakes": true,
           "showland": true,
           "subunitcolor": "white"
          },
          "hoverlabel": {
           "align": "left"
          },
          "hovermode": "closest",
          "mapbox": {
           "style": "light"
          },
          "paper_bgcolor": "white",
          "plot_bgcolor": "#E5ECF6",
          "polar": {
           "angularaxis": {
            "gridcolor": "white",
            "linecolor": "white",
            "ticks": ""
           },
           "bgcolor": "#E5ECF6",
           "radialaxis": {
            "gridcolor": "white",
            "linecolor": "white",
            "ticks": ""
           }
          },
          "scene": {
           "xaxis": {
            "backgroundcolor": "#E5ECF6",
            "gridcolor": "white",
            "gridwidth": 2,
            "linecolor": "white",
            "showbackground": true,
            "ticks": "",
            "zerolinecolor": "white"
           },
           "yaxis": {
            "backgroundcolor": "#E5ECF6",
            "gridcolor": "white",
            "gridwidth": 2,
            "linecolor": "white",
            "showbackground": true,
            "ticks": "",
            "zerolinecolor": "white"
           },
           "zaxis": {
            "backgroundcolor": "#E5ECF6",
            "gridcolor": "white",
            "gridwidth": 2,
            "linecolor": "white",
            "showbackground": true,
            "ticks": "",
            "zerolinecolor": "white"
           }
          },
          "shapedefaults": {
           "line": {
            "color": "#2a3f5f"
           }
          },
          "ternary": {
           "aaxis": {
            "gridcolor": "white",
            "linecolor": "white",
            "ticks": ""
           },
           "baxis": {
            "gridcolor": "white",
            "linecolor": "white",
            "ticks": ""
           },
           "bgcolor": "#E5ECF6",
           "caxis": {
            "gridcolor": "white",
            "linecolor": "white",
            "ticks": ""
           }
          },
          "title": {
           "x": 0.05
          },
          "xaxis": {
           "automargin": true,
           "gridcolor": "white",
           "linecolor": "white",
           "ticks": "",
           "title": {
            "standoff": 15
           },
           "zerolinecolor": "white",
           "zerolinewidth": 2
          },
          "yaxis": {
           "automargin": true,
           "gridcolor": "white",
           "linecolor": "white",
           "ticks": "",
           "title": {
            "standoff": 15
           },
           "zerolinecolor": "white",
           "zerolinewidth": 2
          }
         }
        },
        "title": {
         "text": "Top 120 Rank Dynamics"
        },
        "xaxis": {
         "anchor": "y",
         "domain": [
          0,
          1
         ],
         "title": {
          "text": "Curdate"
         }
        },
        "yaxis": {
         "anchor": "x",
         "domain": [
          0,
          1
         ],
         "title": {
          "text": "Ranking"
         }
        }
       }
      }
     },
     "metadata": {},
     "output_type": "display_data"
    }
   ],
   "source": [
    "fig1 = px.line(data, x='Curdate', y='Ranking', color='Unique_Title', title='Top 120 Rank Dynamics')\n",
    "fig1.show()"
   ]
  },
  {
   "cell_type": "code",
   "execution_count": 96,
   "metadata": {},
   "outputs": [
    {
     "data": {
      "application/vnd.plotly.v1+json": {
       "config": {
        "plotlyServerURL": "https://plot.ly"
       },
       "data": [
        {
         "alignmentgroup": "True",
         "hovertemplate": "Category=%{x}<br>Total_Ranking=%{y}<extra></extra>",
         "legendgroup": "",
         "marker": {
          "color": "#636efa",
          "pattern": {
           "shape": ""
          }
         },
         "name": "",
         "offsetgroup": "",
         "orientation": "v",
         "showlegend": false,
         "textposition": "auto",
         "type": "bar",
         "x": [
          "Decoration",
          "Furniture",
          "Bathroom",
          "Kitchen",
          "Materials",
          "Other Models",
          "Plants",
          "Textures",
          "Lighting",
          "Childroom",
          "Technology",
          "Architecture",
          "Scripts"
         ],
         "xaxis": "x",
         "y": [
          40509,
          28245,
          13842,
          10002,
          8650,
          7672,
          7531,
          5548,
          5146,
          5055,
          2805,
          2526,
          409
         ],
         "yaxis": "y"
        }
       ],
       "layout": {
        "barmode": "relative",
        "legend": {
         "tracegroupgap": 0
        },
        "template": {
         "data": {
          "bar": [
           {
            "error_x": {
             "color": "#2a3f5f"
            },
            "error_y": {
             "color": "#2a3f5f"
            },
            "marker": {
             "line": {
              "color": "#E5ECF6",
              "width": 0.5
             },
             "pattern": {
              "fillmode": "overlay",
              "size": 10,
              "solidity": 0.2
             }
            },
            "type": "bar"
           }
          ],
          "barpolar": [
           {
            "marker": {
             "line": {
              "color": "#E5ECF6",
              "width": 0.5
             },
             "pattern": {
              "fillmode": "overlay",
              "size": 10,
              "solidity": 0.2
             }
            },
            "type": "barpolar"
           }
          ],
          "carpet": [
           {
            "aaxis": {
             "endlinecolor": "#2a3f5f",
             "gridcolor": "white",
             "linecolor": "white",
             "minorgridcolor": "white",
             "startlinecolor": "#2a3f5f"
            },
            "baxis": {
             "endlinecolor": "#2a3f5f",
             "gridcolor": "white",
             "linecolor": "white",
             "minorgridcolor": "white",
             "startlinecolor": "#2a3f5f"
            },
            "type": "carpet"
           }
          ],
          "choropleth": [
           {
            "colorbar": {
             "outlinewidth": 0,
             "ticks": ""
            },
            "type": "choropleth"
           }
          ],
          "contour": [
           {
            "colorbar": {
             "outlinewidth": 0,
             "ticks": ""
            },
            "colorscale": [
             [
              0,
              "#0d0887"
             ],
             [
              0.1111111111111111,
              "#46039f"
             ],
             [
              0.2222222222222222,
              "#7201a8"
             ],
             [
              0.3333333333333333,
              "#9c179e"
             ],
             [
              0.4444444444444444,
              "#bd3786"
             ],
             [
              0.5555555555555556,
              "#d8576b"
             ],
             [
              0.6666666666666666,
              "#ed7953"
             ],
             [
              0.7777777777777778,
              "#fb9f3a"
             ],
             [
              0.8888888888888888,
              "#fdca26"
             ],
             [
              1,
              "#f0f921"
             ]
            ],
            "type": "contour"
           }
          ],
          "contourcarpet": [
           {
            "colorbar": {
             "outlinewidth": 0,
             "ticks": ""
            },
            "type": "contourcarpet"
           }
          ],
          "heatmap": [
           {
            "colorbar": {
             "outlinewidth": 0,
             "ticks": ""
            },
            "colorscale": [
             [
              0,
              "#0d0887"
             ],
             [
              0.1111111111111111,
              "#46039f"
             ],
             [
              0.2222222222222222,
              "#7201a8"
             ],
             [
              0.3333333333333333,
              "#9c179e"
             ],
             [
              0.4444444444444444,
              "#bd3786"
             ],
             [
              0.5555555555555556,
              "#d8576b"
             ],
             [
              0.6666666666666666,
              "#ed7953"
             ],
             [
              0.7777777777777778,
              "#fb9f3a"
             ],
             [
              0.8888888888888888,
              "#fdca26"
             ],
             [
              1,
              "#f0f921"
             ]
            ],
            "type": "heatmap"
           }
          ],
          "heatmapgl": [
           {
            "colorbar": {
             "outlinewidth": 0,
             "ticks": ""
            },
            "colorscale": [
             [
              0,
              "#0d0887"
             ],
             [
              0.1111111111111111,
              "#46039f"
             ],
             [
              0.2222222222222222,
              "#7201a8"
             ],
             [
              0.3333333333333333,
              "#9c179e"
             ],
             [
              0.4444444444444444,
              "#bd3786"
             ],
             [
              0.5555555555555556,
              "#d8576b"
             ],
             [
              0.6666666666666666,
              "#ed7953"
             ],
             [
              0.7777777777777778,
              "#fb9f3a"
             ],
             [
              0.8888888888888888,
              "#fdca26"
             ],
             [
              1,
              "#f0f921"
             ]
            ],
            "type": "heatmapgl"
           }
          ],
          "histogram": [
           {
            "marker": {
             "pattern": {
              "fillmode": "overlay",
              "size": 10,
              "solidity": 0.2
             }
            },
            "type": "histogram"
           }
          ],
          "histogram2d": [
           {
            "colorbar": {
             "outlinewidth": 0,
             "ticks": ""
            },
            "colorscale": [
             [
              0,
              "#0d0887"
             ],
             [
              0.1111111111111111,
              "#46039f"
             ],
             [
              0.2222222222222222,
              "#7201a8"
             ],
             [
              0.3333333333333333,
              "#9c179e"
             ],
             [
              0.4444444444444444,
              "#bd3786"
             ],
             [
              0.5555555555555556,
              "#d8576b"
             ],
             [
              0.6666666666666666,
              "#ed7953"
             ],
             [
              0.7777777777777778,
              "#fb9f3a"
             ],
             [
              0.8888888888888888,
              "#fdca26"
             ],
             [
              1,
              "#f0f921"
             ]
            ],
            "type": "histogram2d"
           }
          ],
          "histogram2dcontour": [
           {
            "colorbar": {
             "outlinewidth": 0,
             "ticks": ""
            },
            "colorscale": [
             [
              0,
              "#0d0887"
             ],
             [
              0.1111111111111111,
              "#46039f"
             ],
             [
              0.2222222222222222,
              "#7201a8"
             ],
             [
              0.3333333333333333,
              "#9c179e"
             ],
             [
              0.4444444444444444,
              "#bd3786"
             ],
             [
              0.5555555555555556,
              "#d8576b"
             ],
             [
              0.6666666666666666,
              "#ed7953"
             ],
             [
              0.7777777777777778,
              "#fb9f3a"
             ],
             [
              0.8888888888888888,
              "#fdca26"
             ],
             [
              1,
              "#f0f921"
             ]
            ],
            "type": "histogram2dcontour"
           }
          ],
          "mesh3d": [
           {
            "colorbar": {
             "outlinewidth": 0,
             "ticks": ""
            },
            "type": "mesh3d"
           }
          ],
          "parcoords": [
           {
            "line": {
             "colorbar": {
              "outlinewidth": 0,
              "ticks": ""
             }
            },
            "type": "parcoords"
           }
          ],
          "pie": [
           {
            "automargin": true,
            "type": "pie"
           }
          ],
          "scatter": [
           {
            "fillpattern": {
             "fillmode": "overlay",
             "size": 10,
             "solidity": 0.2
            },
            "type": "scatter"
           }
          ],
          "scatter3d": [
           {
            "line": {
             "colorbar": {
              "outlinewidth": 0,
              "ticks": ""
             }
            },
            "marker": {
             "colorbar": {
              "outlinewidth": 0,
              "ticks": ""
             }
            },
            "type": "scatter3d"
           }
          ],
          "scattercarpet": [
           {
            "marker": {
             "colorbar": {
              "outlinewidth": 0,
              "ticks": ""
             }
            },
            "type": "scattercarpet"
           }
          ],
          "scattergeo": [
           {
            "marker": {
             "colorbar": {
              "outlinewidth": 0,
              "ticks": ""
             }
            },
            "type": "scattergeo"
           }
          ],
          "scattergl": [
           {
            "marker": {
             "colorbar": {
              "outlinewidth": 0,
              "ticks": ""
             }
            },
            "type": "scattergl"
           }
          ],
          "scattermapbox": [
           {
            "marker": {
             "colorbar": {
              "outlinewidth": 0,
              "ticks": ""
             }
            },
            "type": "scattermapbox"
           }
          ],
          "scatterpolar": [
           {
            "marker": {
             "colorbar": {
              "outlinewidth": 0,
              "ticks": ""
             }
            },
            "type": "scatterpolar"
           }
          ],
          "scatterpolargl": [
           {
            "marker": {
             "colorbar": {
              "outlinewidth": 0,
              "ticks": ""
             }
            },
            "type": "scatterpolargl"
           }
          ],
          "scatterternary": [
           {
            "marker": {
             "colorbar": {
              "outlinewidth": 0,
              "ticks": ""
             }
            },
            "type": "scatterternary"
           }
          ],
          "surface": [
           {
            "colorbar": {
             "outlinewidth": 0,
             "ticks": ""
            },
            "colorscale": [
             [
              0,
              "#0d0887"
             ],
             [
              0.1111111111111111,
              "#46039f"
             ],
             [
              0.2222222222222222,
              "#7201a8"
             ],
             [
              0.3333333333333333,
              "#9c179e"
             ],
             [
              0.4444444444444444,
              "#bd3786"
             ],
             [
              0.5555555555555556,
              "#d8576b"
             ],
             [
              0.6666666666666666,
              "#ed7953"
             ],
             [
              0.7777777777777778,
              "#fb9f3a"
             ],
             [
              0.8888888888888888,
              "#fdca26"
             ],
             [
              1,
              "#f0f921"
             ]
            ],
            "type": "surface"
           }
          ],
          "table": [
           {
            "cells": {
             "fill": {
              "color": "#EBF0F8"
             },
             "line": {
              "color": "white"
             }
            },
            "header": {
             "fill": {
              "color": "#C8D4E3"
             },
             "line": {
              "color": "white"
             }
            },
            "type": "table"
           }
          ]
         },
         "layout": {
          "annotationdefaults": {
           "arrowcolor": "#2a3f5f",
           "arrowhead": 0,
           "arrowwidth": 1
          },
          "autotypenumbers": "strict",
          "coloraxis": {
           "colorbar": {
            "outlinewidth": 0,
            "ticks": ""
           }
          },
          "colorscale": {
           "diverging": [
            [
             0,
             "#8e0152"
            ],
            [
             0.1,
             "#c51b7d"
            ],
            [
             0.2,
             "#de77ae"
            ],
            [
             0.3,
             "#f1b6da"
            ],
            [
             0.4,
             "#fde0ef"
            ],
            [
             0.5,
             "#f7f7f7"
            ],
            [
             0.6,
             "#e6f5d0"
            ],
            [
             0.7,
             "#b8e186"
            ],
            [
             0.8,
             "#7fbc41"
            ],
            [
             0.9,
             "#4d9221"
            ],
            [
             1,
             "#276419"
            ]
           ],
           "sequential": [
            [
             0,
             "#0d0887"
            ],
            [
             0.1111111111111111,
             "#46039f"
            ],
            [
             0.2222222222222222,
             "#7201a8"
            ],
            [
             0.3333333333333333,
             "#9c179e"
            ],
            [
             0.4444444444444444,
             "#bd3786"
            ],
            [
             0.5555555555555556,
             "#d8576b"
            ],
            [
             0.6666666666666666,
             "#ed7953"
            ],
            [
             0.7777777777777778,
             "#fb9f3a"
            ],
            [
             0.8888888888888888,
             "#fdca26"
            ],
            [
             1,
             "#f0f921"
            ]
           ],
           "sequentialminus": [
            [
             0,
             "#0d0887"
            ],
            [
             0.1111111111111111,
             "#46039f"
            ],
            [
             0.2222222222222222,
             "#7201a8"
            ],
            [
             0.3333333333333333,
             "#9c179e"
            ],
            [
             0.4444444444444444,
             "#bd3786"
            ],
            [
             0.5555555555555556,
             "#d8576b"
            ],
            [
             0.6666666666666666,
             "#ed7953"
            ],
            [
             0.7777777777777778,
             "#fb9f3a"
            ],
            [
             0.8888888888888888,
             "#fdca26"
            ],
            [
             1,
             "#f0f921"
            ]
           ]
          },
          "colorway": [
           "#636efa",
           "#EF553B",
           "#00cc96",
           "#ab63fa",
           "#FFA15A",
           "#19d3f3",
           "#FF6692",
           "#B6E880",
           "#FF97FF",
           "#FECB52"
          ],
          "font": {
           "color": "#2a3f5f"
          },
          "geo": {
           "bgcolor": "white",
           "lakecolor": "white",
           "landcolor": "#E5ECF6",
           "showlakes": true,
           "showland": true,
           "subunitcolor": "white"
          },
          "hoverlabel": {
           "align": "left"
          },
          "hovermode": "closest",
          "mapbox": {
           "style": "light"
          },
          "paper_bgcolor": "white",
          "plot_bgcolor": "#E5ECF6",
          "polar": {
           "angularaxis": {
            "gridcolor": "white",
            "linecolor": "white",
            "ticks": ""
           },
           "bgcolor": "#E5ECF6",
           "radialaxis": {
            "gridcolor": "white",
            "linecolor": "white",
            "ticks": ""
           }
          },
          "scene": {
           "xaxis": {
            "backgroundcolor": "#E5ECF6",
            "gridcolor": "white",
            "gridwidth": 2,
            "linecolor": "white",
            "showbackground": true,
            "ticks": "",
            "zerolinecolor": "white"
           },
           "yaxis": {
            "backgroundcolor": "#E5ECF6",
            "gridcolor": "white",
            "gridwidth": 2,
            "linecolor": "white",
            "showbackground": true,
            "ticks": "",
            "zerolinecolor": "white"
           },
           "zaxis": {
            "backgroundcolor": "#E5ECF6",
            "gridcolor": "white",
            "gridwidth": 2,
            "linecolor": "white",
            "showbackground": true,
            "ticks": "",
            "zerolinecolor": "white"
           }
          },
          "shapedefaults": {
           "line": {
            "color": "#2a3f5f"
           }
          },
          "ternary": {
           "aaxis": {
            "gridcolor": "white",
            "linecolor": "white",
            "ticks": ""
           },
           "baxis": {
            "gridcolor": "white",
            "linecolor": "white",
            "ticks": ""
           },
           "bgcolor": "#E5ECF6",
           "caxis": {
            "gridcolor": "white",
            "linecolor": "white",
            "ticks": ""
           }
          },
          "title": {
           "x": 0.05
          },
          "xaxis": {
           "automargin": true,
           "gridcolor": "white",
           "linecolor": "white",
           "ticks": "",
           "title": {
            "standoff": 15
           },
           "zerolinecolor": "white",
           "zerolinewidth": 2
          },
          "yaxis": {
           "automargin": true,
           "gridcolor": "white",
           "linecolor": "white",
           "ticks": "",
           "title": {
            "standoff": 15
           },
           "zerolinecolor": "white",
           "zerolinewidth": 2
          }
         }
        },
        "title": {
         "text": "Top 120 total Rank by Category"
        },
        "xaxis": {
         "anchor": "y",
         "domain": [
          0,
          1
         ],
         "title": {
          "text": "Category"
         }
        },
        "yaxis": {
         "anchor": "x",
         "domain": [
          0,
          1
         ],
         "title": {
          "text": "Total_Ranking"
         }
        }
       }
      }
     },
     "metadata": {},
     "output_type": "display_data"
    }
   ],
   "source": [
    "data_cat_gr = data.groupby(by='Category', as_index=False)['Ranking'].sum()\n",
    "data_cat_gr.columns = ['Category', 'Total_Ranking']\n",
    "data_cat_gr.sort_values(by='Total_Ranking', ascending=False, inplace=True)\n",
    "\n",
    "fig2 = px.bar(data_cat_gr, x='Category', y='Total_Ranking', title='Top 120 total Rank by Category')\n",
    "fig2.show()\n"
   ]
  },
  {
   "cell_type": "code",
   "execution_count": 97,
   "metadata": {},
   "outputs": [
    {
     "name": "stderr",
     "output_type": "stream",
     "text": [
      "c:\\Users\\mi_al\\AppData\\Local\\Programs\\Python\\Python39\\lib\\site-packages\\plotly\\express\\_core.py:1985: FutureWarning:\n",
      "\n",
      "When grouping with a length-1 list-like, you will need to pass a length-1 tuple to get_group in a future version of pandas. Pass `(name,)` instead of `name` to silence this warning.\n",
      "\n"
     ]
    },
    {
     "data": {
      "application/vnd.plotly.v1+json": {
       "config": {
        "plotlyServerURL": "https://plot.ly"
       },
       "data": [
        {
         "alignmentgroup": "True",
         "hovertemplate": "Category=Decoration<br>Full_Category=%{x}<br>Total_Ranking=%{y}<extra></extra>",
         "legendgroup": "Decoration",
         "marker": {
          "color": "#636efa",
          "pattern": {
           "shape": ""
          }
         },
         "name": "Decoration",
         "offsetgroup": "Decoration",
         "orientation": "v",
         "showlegend": true,
         "textposition": "auto",
         "type": "bar",
         "x": [
          "Decoration.Other decorative objects",
          "Decoration.Decorative set",
          "Decoration.Curtain",
          "Decoration.Clothes",
          "Decoration.Carpets",
          "Decoration.Frame",
          "Decoration.Vase",
          "Decoration.Sculpture"
         ],
         "xaxis": "x",
         "y": [
          11453,
          10026,
          7661,
          4670,
          4457,
          997,
          705,
          540
         ],
         "yaxis": "y"
        },
        {
         "alignmentgroup": "True",
         "hovertemplate": "Category=Bathroom<br>Full_Category=%{x}<br>Total_Ranking=%{y}<extra></extra>",
         "legendgroup": "Bathroom",
         "marker": {
          "color": "#EF553B",
          "pattern": {
           "shape": ""
          }
         },
         "name": "Bathroom",
         "offsetgroup": "Bathroom",
         "orientation": "v",
         "showlegend": true,
         "textposition": "auto",
         "type": "bar",
         "x": [
          "Bathroom.Bathroom accessories",
          "Bathroom.Faucet",
          "Bathroom.Bathtub",
          "Bathroom.Towel rail",
          "Bathroom.Bathroom furniture",
          "Bathroom.Toilet and Bidet",
          "Bathroom.Shower"
         ],
         "xaxis": "x",
         "y": [
          6543,
          4085,
          1178,
          1082,
          613,
          171,
          170
         ],
         "yaxis": "y"
        },
        {
         "alignmentgroup": "True",
         "hovertemplate": "Category=Materials<br>Full_Category=%{x}<br>Total_Ranking=%{y}<extra></extra>",
         "legendgroup": "Materials",
         "marker": {
          "color": "#00cc96",
          "pattern": {
           "shape": ""
          }
         },
         "name": "Materials",
         "offsetgroup": "Materials",
         "orientation": "v",
         "showlegend": true,
         "textposition": "auto",
         "type": "bar",
         "x": [
          "Materials.Miscellaneous",
          "Materials.Tile",
          "Materials.Metal",
          "Materials.Glass",
          "Materials.Stone",
          "Materials.Wood"
         ],
         "xaxis": "x",
         "y": [
          6417,
          1385,
          597,
          100,
          87,
          64
         ],
         "yaxis": "y"
        },
        {
         "alignmentgroup": "True",
         "hovertemplate": "Category=Furniture<br>Full_Category=%{x}<br>Total_Ranking=%{y}<extra></extra>",
         "legendgroup": "Furniture",
         "marker": {
          "color": "#ab63fa",
          "pattern": {
           "shape": ""
          }
         },
         "name": "Furniture",
         "offsetgroup": "Furniture",
         "orientation": "v",
         "showlegend": true,
         "textposition": "auto",
         "type": "bar",
         "x": [
          "Furniture.Wardrobe & Display cabinets",
          "Furniture.Table",
          "Furniture.Sideboard & Chest of drawer",
          "Furniture.Office furniture",
          "Furniture.TV Wall",
          "Furniture.Chair",
          "Furniture.Rack",
          "Furniture.Bed",
          "Furniture.Sofa",
          "Furniture.Arm chair",
          "Furniture.Other",
          "Furniture.Dressing table",
          "Furniture.Other soft seating",
          "Furniture.Table + Chair",
          "Furniture.Hallway"
         ],
         "xaxis": "x",
         "y": [
          5546,
          3344,
          3056,
          2850,
          2461,
          1985,
          1722,
          1564,
          1288,
          1165,
          1126,
          854,
          719,
          291,
          274
         ],
         "yaxis": "y"
        },
        {
         "alignmentgroup": "True",
         "hovertemplate": "Category=Kitchen<br>Full_Category=%{x}<br>Total_Ranking=%{y}<extra></extra>",
         "legendgroup": "Kitchen",
         "marker": {
          "color": "#FFA15A",
          "pattern": {
           "shape": ""
          }
         },
         "name": "Kitchen",
         "offsetgroup": "Kitchen",
         "orientation": "v",
         "showlegend": true,
         "textposition": "auto",
         "type": "bar",
         "x": [
          "Kitchen.Kitchen",
          "Kitchen.Tableware",
          "Kitchen.Food and drinks",
          "Kitchen.Sink",
          "Kitchen.Other kitchen accessories",
          "Kitchen.Kitchen appliance"
         ],
         "xaxis": "x",
         "y": [
          3705,
          3279,
          1774,
          1060,
          125,
          59
         ],
         "yaxis": "y"
        },
        {
         "alignmentgroup": "True",
         "hovertemplate": "Category=Other Models<br>Full_Category=%{x}<br>Total_Ranking=%{y}<extra></extra>",
         "legendgroup": "Other Models",
         "marker": {
          "color": "#19d3f3",
          "pattern": {
           "shape": ""
          }
         },
         "name": "Other Models",
         "offsetgroup": "Other Models",
         "orientation": "v",
         "showlegend": true,
         "textposition": "auto",
         "type": "bar",
         "x": [
          "Other Models.Miscellaneous",
          "Other Models.Sports",
          "Other Models.Windows",
          "Other Models.Restaurant",
          "Other Models.Shop",
          "Other Models.Doors",
          "Other Models.Musical instrument",
          "Other Models.Transport"
         ],
         "xaxis": "x",
         "y": [
          3073,
          1453,
          960,
          693,
          609,
          451,
          374,
          59
         ],
         "yaxis": "y"
        },
        {
         "alignmentgroup": "True",
         "hovertemplate": "Category=Textures<br>Full_Category=%{x}<br>Total_Ranking=%{y}<extra></extra>",
         "legendgroup": "Textures",
         "marker": {
          "color": "#FF6692",
          "pattern": {
           "shape": ""
          }
         },
         "name": "Textures",
         "offsetgroup": "Textures",
         "orientation": "v",
         "showlegend": true,
         "textposition": "auto",
         "type": "bar",
         "x": [
          "Textures.Tile",
          "Textures.Floor coverings",
          "Textures.Fabric",
          "Textures.Wood"
         ],
         "xaxis": "x",
         "y": [
          2804,
          2174,
          561,
          9
         ],
         "yaxis": "y"
        },
        {
         "alignmentgroup": "True",
         "hovertemplate": "Category=Childroom<br>Full_Category=%{x}<br>Total_Ranking=%{y}<extra></extra>",
         "legendgroup": "Childroom",
         "marker": {
          "color": "#B6E880",
          "pattern": {
           "shape": ""
          }
         },
         "name": "Childroom",
         "offsetgroup": "Childroom",
         "orientation": "v",
         "showlegend": true,
         "textposition": "auto",
         "type": "bar",
         "x": [
          "Childroom.Miscellaneous",
          "Childroom.Bed",
          "Childroom.Wardrobe"
         ],
         "xaxis": "x",
         "y": [
          2748,
          1809,
          498
         ],
         "yaxis": "y"
        },
        {
         "alignmentgroup": "True",
         "hovertemplate": "Category=Plants<br>Full_Category=%{x}<br>Total_Ranking=%{y}<extra></extra>",
         "legendgroup": "Plants",
         "marker": {
          "color": "#FF97FF",
          "pattern": {
           "shape": ""
          }
         },
         "name": "Plants",
         "offsetgroup": "Plants",
         "orientation": "v",
         "showlegend": true,
         "textposition": "auto",
         "type": "bar",
         "x": [
          "Plants.Indoor",
          "Plants.Bouquet",
          "Plants.Grass",
          "Plants.Tree",
          "Plants.Bush"
         ],
         "xaxis": "x",
         "y": [
          2652,
          2251,
          1304,
          1246,
          78
         ],
         "yaxis": "y"
        },
        {
         "alignmentgroup": "True",
         "hovertemplate": "Category=Lighting<br>Full_Category=%{x}<br>Total_Ranking=%{y}<extra></extra>",
         "legendgroup": "Lighting",
         "marker": {
          "color": "#FECB52",
          "pattern": {
           "shape": ""
          }
         },
         "name": "Lighting",
         "offsetgroup": "Lighting",
         "orientation": "v",
         "showlegend": true,
         "textposition": "auto",
         "type": "bar",
         "x": [
          "Lighting.Pendant light",
          "Lighting.Technical lighting",
          "Lighting.Floor lamp",
          "Lighting.Table lamp",
          "Lighting.Wall light"
         ],
         "xaxis": "x",
         "y": [
          2013,
          833,
          818,
          806,
          676
         ],
         "yaxis": "y"
        },
        {
         "alignmentgroup": "True",
         "hovertemplate": "Category=Technology<br>Full_Category=%{x}<br>Total_Ranking=%{y}<extra></extra>",
         "legendgroup": "Technology",
         "marker": {
          "color": "#636efa",
          "pattern": {
           "shape": ""
          }
         },
         "name": "Technology",
         "offsetgroup": "Technology",
         "orientation": "v",
         "showlegend": true,
         "textposition": "auto",
         "type": "bar",
         "x": [
          "Technology.PC & other electronics",
          "Technology.Household appliance",
          "Technology.Miscellaneous",
          "Technology.TV"
         ],
         "xaxis": "x",
         "y": [
          1489,
          1064,
          232,
          20
         ],
         "yaxis": "y"
        },
        {
         "alignmentgroup": "True",
         "hovertemplate": "Category=Architecture<br>Full_Category=%{x}<br>Total_Ranking=%{y}<extra></extra>",
         "legendgroup": "Architecture",
         "marker": {
          "color": "#EF553B",
          "pattern": {
           "shape": ""
          }
         },
         "name": "Architecture",
         "offsetgroup": "Architecture",
         "orientation": "v",
         "showlegend": true,
         "textposition": "auto",
         "type": "bar",
         "x": [
          "Architecture.Facade element",
          "Architecture.Building",
          "Architecture.Urban environment",
          "Architecture.Barbecue and grill"
         ],
         "xaxis": "x",
         "y": [
          895,
          829,
          781,
          21
         ],
         "yaxis": "y"
        },
        {
         "alignmentgroup": "True",
         "hovertemplate": "Category=Scripts<br>Full_Category=%{x}<br>Total_Ranking=%{y}<extra></extra>",
         "legendgroup": "Scripts",
         "marker": {
          "color": "#00cc96",
          "pattern": {
           "shape": ""
          }
         },
         "name": "Scripts",
         "offsetgroup": "Scripts",
         "orientation": "v",
         "showlegend": true,
         "textposition": "auto",
         "type": "bar",
         "x": [
          "Scripts.Scripts"
         ],
         "xaxis": "x",
         "y": [
          409
         ],
         "yaxis": "y"
        }
       ],
       "layout": {
        "barmode": "relative",
        "height": 600,
        "legend": {
         "title": {
          "text": "Category"
         },
         "tracegroupgap": 0
        },
        "template": {
         "data": {
          "bar": [
           {
            "error_x": {
             "color": "#2a3f5f"
            },
            "error_y": {
             "color": "#2a3f5f"
            },
            "marker": {
             "line": {
              "color": "#E5ECF6",
              "width": 0.5
             },
             "pattern": {
              "fillmode": "overlay",
              "size": 10,
              "solidity": 0.2
             }
            },
            "type": "bar"
           }
          ],
          "barpolar": [
           {
            "marker": {
             "line": {
              "color": "#E5ECF6",
              "width": 0.5
             },
             "pattern": {
              "fillmode": "overlay",
              "size": 10,
              "solidity": 0.2
             }
            },
            "type": "barpolar"
           }
          ],
          "carpet": [
           {
            "aaxis": {
             "endlinecolor": "#2a3f5f",
             "gridcolor": "white",
             "linecolor": "white",
             "minorgridcolor": "white",
             "startlinecolor": "#2a3f5f"
            },
            "baxis": {
             "endlinecolor": "#2a3f5f",
             "gridcolor": "white",
             "linecolor": "white",
             "minorgridcolor": "white",
             "startlinecolor": "#2a3f5f"
            },
            "type": "carpet"
           }
          ],
          "choropleth": [
           {
            "colorbar": {
             "outlinewidth": 0,
             "ticks": ""
            },
            "type": "choropleth"
           }
          ],
          "contour": [
           {
            "colorbar": {
             "outlinewidth": 0,
             "ticks": ""
            },
            "colorscale": [
             [
              0,
              "#0d0887"
             ],
             [
              0.1111111111111111,
              "#46039f"
             ],
             [
              0.2222222222222222,
              "#7201a8"
             ],
             [
              0.3333333333333333,
              "#9c179e"
             ],
             [
              0.4444444444444444,
              "#bd3786"
             ],
             [
              0.5555555555555556,
              "#d8576b"
             ],
             [
              0.6666666666666666,
              "#ed7953"
             ],
             [
              0.7777777777777778,
              "#fb9f3a"
             ],
             [
              0.8888888888888888,
              "#fdca26"
             ],
             [
              1,
              "#f0f921"
             ]
            ],
            "type": "contour"
           }
          ],
          "contourcarpet": [
           {
            "colorbar": {
             "outlinewidth": 0,
             "ticks": ""
            },
            "type": "contourcarpet"
           }
          ],
          "heatmap": [
           {
            "colorbar": {
             "outlinewidth": 0,
             "ticks": ""
            },
            "colorscale": [
             [
              0,
              "#0d0887"
             ],
             [
              0.1111111111111111,
              "#46039f"
             ],
             [
              0.2222222222222222,
              "#7201a8"
             ],
             [
              0.3333333333333333,
              "#9c179e"
             ],
             [
              0.4444444444444444,
              "#bd3786"
             ],
             [
              0.5555555555555556,
              "#d8576b"
             ],
             [
              0.6666666666666666,
              "#ed7953"
             ],
             [
              0.7777777777777778,
              "#fb9f3a"
             ],
             [
              0.8888888888888888,
              "#fdca26"
             ],
             [
              1,
              "#f0f921"
             ]
            ],
            "type": "heatmap"
           }
          ],
          "heatmapgl": [
           {
            "colorbar": {
             "outlinewidth": 0,
             "ticks": ""
            },
            "colorscale": [
             [
              0,
              "#0d0887"
             ],
             [
              0.1111111111111111,
              "#46039f"
             ],
             [
              0.2222222222222222,
              "#7201a8"
             ],
             [
              0.3333333333333333,
              "#9c179e"
             ],
             [
              0.4444444444444444,
              "#bd3786"
             ],
             [
              0.5555555555555556,
              "#d8576b"
             ],
             [
              0.6666666666666666,
              "#ed7953"
             ],
             [
              0.7777777777777778,
              "#fb9f3a"
             ],
             [
              0.8888888888888888,
              "#fdca26"
             ],
             [
              1,
              "#f0f921"
             ]
            ],
            "type": "heatmapgl"
           }
          ],
          "histogram": [
           {
            "marker": {
             "pattern": {
              "fillmode": "overlay",
              "size": 10,
              "solidity": 0.2
             }
            },
            "type": "histogram"
           }
          ],
          "histogram2d": [
           {
            "colorbar": {
             "outlinewidth": 0,
             "ticks": ""
            },
            "colorscale": [
             [
              0,
              "#0d0887"
             ],
             [
              0.1111111111111111,
              "#46039f"
             ],
             [
              0.2222222222222222,
              "#7201a8"
             ],
             [
              0.3333333333333333,
              "#9c179e"
             ],
             [
              0.4444444444444444,
              "#bd3786"
             ],
             [
              0.5555555555555556,
              "#d8576b"
             ],
             [
              0.6666666666666666,
              "#ed7953"
             ],
             [
              0.7777777777777778,
              "#fb9f3a"
             ],
             [
              0.8888888888888888,
              "#fdca26"
             ],
             [
              1,
              "#f0f921"
             ]
            ],
            "type": "histogram2d"
           }
          ],
          "histogram2dcontour": [
           {
            "colorbar": {
             "outlinewidth": 0,
             "ticks": ""
            },
            "colorscale": [
             [
              0,
              "#0d0887"
             ],
             [
              0.1111111111111111,
              "#46039f"
             ],
             [
              0.2222222222222222,
              "#7201a8"
             ],
             [
              0.3333333333333333,
              "#9c179e"
             ],
             [
              0.4444444444444444,
              "#bd3786"
             ],
             [
              0.5555555555555556,
              "#d8576b"
             ],
             [
              0.6666666666666666,
              "#ed7953"
             ],
             [
              0.7777777777777778,
              "#fb9f3a"
             ],
             [
              0.8888888888888888,
              "#fdca26"
             ],
             [
              1,
              "#f0f921"
             ]
            ],
            "type": "histogram2dcontour"
           }
          ],
          "mesh3d": [
           {
            "colorbar": {
             "outlinewidth": 0,
             "ticks": ""
            },
            "type": "mesh3d"
           }
          ],
          "parcoords": [
           {
            "line": {
             "colorbar": {
              "outlinewidth": 0,
              "ticks": ""
             }
            },
            "type": "parcoords"
           }
          ],
          "pie": [
           {
            "automargin": true,
            "type": "pie"
           }
          ],
          "scatter": [
           {
            "fillpattern": {
             "fillmode": "overlay",
             "size": 10,
             "solidity": 0.2
            },
            "type": "scatter"
           }
          ],
          "scatter3d": [
           {
            "line": {
             "colorbar": {
              "outlinewidth": 0,
              "ticks": ""
             }
            },
            "marker": {
             "colorbar": {
              "outlinewidth": 0,
              "ticks": ""
             }
            },
            "type": "scatter3d"
           }
          ],
          "scattercarpet": [
           {
            "marker": {
             "colorbar": {
              "outlinewidth": 0,
              "ticks": ""
             }
            },
            "type": "scattercarpet"
           }
          ],
          "scattergeo": [
           {
            "marker": {
             "colorbar": {
              "outlinewidth": 0,
              "ticks": ""
             }
            },
            "type": "scattergeo"
           }
          ],
          "scattergl": [
           {
            "marker": {
             "colorbar": {
              "outlinewidth": 0,
              "ticks": ""
             }
            },
            "type": "scattergl"
           }
          ],
          "scattermapbox": [
           {
            "marker": {
             "colorbar": {
              "outlinewidth": 0,
              "ticks": ""
             }
            },
            "type": "scattermapbox"
           }
          ],
          "scatterpolar": [
           {
            "marker": {
             "colorbar": {
              "outlinewidth": 0,
              "ticks": ""
             }
            },
            "type": "scatterpolar"
           }
          ],
          "scatterpolargl": [
           {
            "marker": {
             "colorbar": {
              "outlinewidth": 0,
              "ticks": ""
             }
            },
            "type": "scatterpolargl"
           }
          ],
          "scatterternary": [
           {
            "marker": {
             "colorbar": {
              "outlinewidth": 0,
              "ticks": ""
             }
            },
            "type": "scatterternary"
           }
          ],
          "surface": [
           {
            "colorbar": {
             "outlinewidth": 0,
             "ticks": ""
            },
            "colorscale": [
             [
              0,
              "#0d0887"
             ],
             [
              0.1111111111111111,
              "#46039f"
             ],
             [
              0.2222222222222222,
              "#7201a8"
             ],
             [
              0.3333333333333333,
              "#9c179e"
             ],
             [
              0.4444444444444444,
              "#bd3786"
             ],
             [
              0.5555555555555556,
              "#d8576b"
             ],
             [
              0.6666666666666666,
              "#ed7953"
             ],
             [
              0.7777777777777778,
              "#fb9f3a"
             ],
             [
              0.8888888888888888,
              "#fdca26"
             ],
             [
              1,
              "#f0f921"
             ]
            ],
            "type": "surface"
           }
          ],
          "table": [
           {
            "cells": {
             "fill": {
              "color": "#EBF0F8"
             },
             "line": {
              "color": "white"
             }
            },
            "header": {
             "fill": {
              "color": "#C8D4E3"
             },
             "line": {
              "color": "white"
             }
            },
            "type": "table"
           }
          ]
         },
         "layout": {
          "annotationdefaults": {
           "arrowcolor": "#2a3f5f",
           "arrowhead": 0,
           "arrowwidth": 1
          },
          "autotypenumbers": "strict",
          "coloraxis": {
           "colorbar": {
            "outlinewidth": 0,
            "ticks": ""
           }
          },
          "colorscale": {
           "diverging": [
            [
             0,
             "#8e0152"
            ],
            [
             0.1,
             "#c51b7d"
            ],
            [
             0.2,
             "#de77ae"
            ],
            [
             0.3,
             "#f1b6da"
            ],
            [
             0.4,
             "#fde0ef"
            ],
            [
             0.5,
             "#f7f7f7"
            ],
            [
             0.6,
             "#e6f5d0"
            ],
            [
             0.7,
             "#b8e186"
            ],
            [
             0.8,
             "#7fbc41"
            ],
            [
             0.9,
             "#4d9221"
            ],
            [
             1,
             "#276419"
            ]
           ],
           "sequential": [
            [
             0,
             "#0d0887"
            ],
            [
             0.1111111111111111,
             "#46039f"
            ],
            [
             0.2222222222222222,
             "#7201a8"
            ],
            [
             0.3333333333333333,
             "#9c179e"
            ],
            [
             0.4444444444444444,
             "#bd3786"
            ],
            [
             0.5555555555555556,
             "#d8576b"
            ],
            [
             0.6666666666666666,
             "#ed7953"
            ],
            [
             0.7777777777777778,
             "#fb9f3a"
            ],
            [
             0.8888888888888888,
             "#fdca26"
            ],
            [
             1,
             "#f0f921"
            ]
           ],
           "sequentialminus": [
            [
             0,
             "#0d0887"
            ],
            [
             0.1111111111111111,
             "#46039f"
            ],
            [
             0.2222222222222222,
             "#7201a8"
            ],
            [
             0.3333333333333333,
             "#9c179e"
            ],
            [
             0.4444444444444444,
             "#bd3786"
            ],
            [
             0.5555555555555556,
             "#d8576b"
            ],
            [
             0.6666666666666666,
             "#ed7953"
            ],
            [
             0.7777777777777778,
             "#fb9f3a"
            ],
            [
             0.8888888888888888,
             "#fdca26"
            ],
            [
             1,
             "#f0f921"
            ]
           ]
          },
          "colorway": [
           "#636efa",
           "#EF553B",
           "#00cc96",
           "#ab63fa",
           "#FFA15A",
           "#19d3f3",
           "#FF6692",
           "#B6E880",
           "#FF97FF",
           "#FECB52"
          ],
          "font": {
           "color": "#2a3f5f"
          },
          "geo": {
           "bgcolor": "white",
           "lakecolor": "white",
           "landcolor": "#E5ECF6",
           "showlakes": true,
           "showland": true,
           "subunitcolor": "white"
          },
          "hoverlabel": {
           "align": "left"
          },
          "hovermode": "closest",
          "mapbox": {
           "style": "light"
          },
          "paper_bgcolor": "white",
          "plot_bgcolor": "#E5ECF6",
          "polar": {
           "angularaxis": {
            "gridcolor": "white",
            "linecolor": "white",
            "ticks": ""
           },
           "bgcolor": "#E5ECF6",
           "radialaxis": {
            "gridcolor": "white",
            "linecolor": "white",
            "ticks": ""
           }
          },
          "scene": {
           "xaxis": {
            "backgroundcolor": "#E5ECF6",
            "gridcolor": "white",
            "gridwidth": 2,
            "linecolor": "white",
            "showbackground": true,
            "ticks": "",
            "zerolinecolor": "white"
           },
           "yaxis": {
            "backgroundcolor": "#E5ECF6",
            "gridcolor": "white",
            "gridwidth": 2,
            "linecolor": "white",
            "showbackground": true,
            "ticks": "",
            "zerolinecolor": "white"
           },
           "zaxis": {
            "backgroundcolor": "#E5ECF6",
            "gridcolor": "white",
            "gridwidth": 2,
            "linecolor": "white",
            "showbackground": true,
            "ticks": "",
            "zerolinecolor": "white"
           }
          },
          "shapedefaults": {
           "line": {
            "color": "#2a3f5f"
           }
          },
          "ternary": {
           "aaxis": {
            "gridcolor": "white",
            "linecolor": "white",
            "ticks": ""
           },
           "baxis": {
            "gridcolor": "white",
            "linecolor": "white",
            "ticks": ""
           },
           "bgcolor": "#E5ECF6",
           "caxis": {
            "gridcolor": "white",
            "linecolor": "white",
            "ticks": ""
           }
          },
          "title": {
           "x": 0.05
          },
          "xaxis": {
           "automargin": true,
           "gridcolor": "white",
           "linecolor": "white",
           "ticks": "",
           "title": {
            "standoff": 15
           },
           "zerolinecolor": "white",
           "zerolinewidth": 2
          },
          "yaxis": {
           "automargin": true,
           "gridcolor": "white",
           "linecolor": "white",
           "ticks": "",
           "title": {
            "standoff": 15
           },
           "zerolinecolor": "white",
           "zerolinewidth": 2
          }
         }
        },
        "title": {
         "text": "Top 120 total Rank by Subcategory"
        },
        "xaxis": {
         "anchor": "y",
         "categoryarray": [
          "Decoration.Other decorative objects",
          "Decoration.Decorative set",
          "Decoration.Curtain",
          "Bathroom.Bathroom accessories",
          "Materials.Miscellaneous",
          "Furniture.Wardrobe & Display cabinets",
          "Decoration.Clothes",
          "Decoration.Carpets",
          "Bathroom.Faucet",
          "Kitchen.Kitchen",
          "Furniture.Table",
          "Kitchen.Tableware",
          "Other Models.Miscellaneous",
          "Furniture.Sideboard & Chest of drawer",
          "Furniture.Office furniture",
          "Textures.Tile",
          "Childroom.Miscellaneous",
          "Plants.Indoor",
          "Furniture.TV Wall",
          "Plants.Bouquet",
          "Textures.Floor coverings",
          "Lighting.Pendant light",
          "Furniture.Chair",
          "Childroom.Bed",
          "Kitchen.Food and drinks",
          "Furniture.Rack",
          "Furniture.Bed",
          "Technology.PC & other electronics",
          "Other Models.Sports",
          "Materials.Tile",
          "Plants.Grass",
          "Furniture.Sofa",
          "Plants.Tree",
          "Bathroom.Bathtub",
          "Furniture.Arm chair",
          "Furniture.Other",
          "Bathroom.Towel rail",
          "Technology.Household appliance",
          "Kitchen.Sink",
          "Decoration.Frame",
          "Other Models.Windows",
          "Architecture.Facade element",
          "Furniture.Dressing table",
          "Lighting.Technical lighting",
          "Architecture.Building",
          "Lighting.Floor lamp",
          "Lighting.Table lamp",
          "Architecture.Urban environment",
          "Furniture.Other soft seating",
          "Decoration.Vase",
          "Other Models.Restaurant",
          "Lighting.Wall light",
          "Bathroom.Bathroom furniture",
          "Other Models.Shop",
          "Materials.Metal",
          "Textures.Fabric",
          "Decoration.Sculpture",
          "Childroom.Wardrobe",
          "Other Models.Doors",
          "Scripts.Scripts",
          "Other Models.Musical instrument",
          "Furniture.Table + Chair",
          "Furniture.Hallway",
          "Technology.Miscellaneous",
          "Bathroom.Toilet and Bidet",
          "Bathroom.Shower",
          "Kitchen.Other kitchen accessories",
          "Materials.Glass",
          "Materials.Stone",
          "Plants.Bush",
          "Materials.Wood",
          "Other Models.Transport",
          "Kitchen.Kitchen appliance",
          "Architecture.Barbecue and grill",
          "Technology.TV",
          "Textures.Wood"
         ],
         "categoryorder": "array",
         "domain": [
          0,
          1
         ],
         "title": {
          "text": "Full_Category"
         }
        },
        "yaxis": {
         "anchor": "x",
         "domain": [
          0,
          1
         ],
         "title": {
          "text": "Total_Ranking"
         }
        }
       }
      }
     },
     "metadata": {},
     "output_type": "display_data"
    }
   ],
   "source": [
    "data_subcat_gr = data.groupby(by=['Full_Category', 'Category'], as_index=False)['Ranking'].sum()\n",
    "data_subcat_gr.columns = ['Full_Category', 'Category', 'Total_Ranking']\n",
    "data_subcat_gr.sort_values(by='Total_Ranking', ascending=False, inplace=True)\n",
    "\n",
    "cat_list = data_subcat_gr['Full_Category'].tolist()\n",
    "cat_dict = {'Full_Category': cat_list}\n",
    "\n",
    "fig3 = px.bar(data_subcat_gr, x='Full_Category', y='Total_Ranking', \n",
    "              category_orders=cat_dict, color='Category', height=600, title='Top 120 total Rank by Subcategory')\n",
    "fig3.show()"
   ]
  },
  {
   "cell_type": "code",
   "execution_count": 98,
   "metadata": {},
   "outputs": [
    {
     "name": "stderr",
     "output_type": "stream",
     "text": [
      "c:\\Users\\mi_al\\AppData\\Local\\Programs\\Python\\Python39\\lib\\site-packages\\plotly\\express\\_core.py:1985: FutureWarning:\n",
      "\n",
      "When grouping with a length-1 list-like, you will need to pass a length-1 tuple to get_group in a future version of pandas. Pass `(name,)` instead of `name` to silence this warning.\n",
      "\n"
     ]
    },
    {
     "data": {
      "application/vnd.plotly.v1+json": {
       "config": {
        "plotlyServerURL": "https://plot.ly"
       },
       "data": [
        {
         "alignmentgroup": "True",
         "customdata": [
          [
           "dofen"
          ],
          [
           "niga2323"
          ],
          [
           "3Dmitruk"
          ],
          [
           "3Dmitruk"
          ],
          [
           "Rolan05"
          ],
          [
           "Moriiiz"
          ],
          [
           "Mitya87"
          ],
          [
           "kapusta"
          ],
          [
           "Moriiiz"
          ],
          [
           "NK3D"
          ],
          [
           "dofen"
          ],
          [
           "fffaaa12"
          ],
          [
           "sofiakholina"
          ],
          [
           "mhl.hnr"
          ]
         ],
         "hovertemplate": "Category=Decoration<br>Unique_Title=%{x}<br>Total_Ranking=%{y}<br>Username=%{customdata[0]}<extra></extra>",
         "legendgroup": "Decoration",
         "marker": {
          "color": "#636efa",
          "pattern": {
           "shape": ""
          }
         },
         "name": "Decoration",
         "offsetgroup": "Decoration",
         "orientation": "v",
         "showlegend": true,
         "textposition": "auto",
         "type": "bar",
         "x": [
          "novogodniaia_elka_s_kaminom_5",
          "odezhda_dlia_garderoba_ng15",
          "benuta_leon_cream_wool_rug",
          "benuta_dave_rectangular_fur_rug_3_colors",
          "shtory_s_rimskimi_shtorami_2",
          "decorative_set_089_4",
          "coffee_table_decor_set_005",
          "pinch_pleat_linen_curtain_with_roller_blind",
          "decorative_set_088_2",
          "glass_block_wall_08",
          "novogodniaia_elka_s_kaminom_4",
          "elochka_1",
          "a_set_of_clothes_and_accessories_to_fill_a_wardrobe_or_store_and_showroom",
          "decorative_set_086_4"
         ],
         "xaxis": "x",
         "y": [
          2258,
          2166,
          2105,
          2018,
          1968,
          1960,
          1942,
          1635,
          1537,
          1397,
          1378,
          1377,
          1336,
          1296
         ],
         "yaxis": "y"
        },
        {
         "alignmentgroup": "True",
         "customdata": [
          [
           "illidan_"
          ],
          [
           "protektor"
          ],
          [
           "niga2323"
          ],
          [
           "protektor"
          ]
         ],
         "hovertemplate": "Category=Furniture<br>Unique_Title=%{x}<br>Total_Ranking=%{y}<br>Username=%{customdata[0]}<extra></extra>",
         "legendgroup": "Furniture",
         "marker": {
          "color": "#EF553B",
          "pattern": {
           "shape": ""
          }
         },
         "name": "Furniture",
         "offsetgroup": "Furniture",
         "orientation": "v",
         "showlegend": true,
         "textposition": "auto",
         "type": "bar",
         "x": [
          "ofisnoe_kreslo_eshli",
          "garderobnaia_28",
          "kerns_tumba_divan_ru",
          "garderobnaia_16_1"
         ],
         "xaxis": "x",
         "y": [
          2136,
          2072,
          1917,
          1698
         ],
         "yaxis": "y"
        },
        {
         "alignmentgroup": "True",
         "customdata": [
          [
           "mh.designer"
          ],
          [
           "AlexHappy"
          ]
         ],
         "hovertemplate": "Category=Plants<br>Unique_Title=%{x}<br>Total_Ranking=%{y}<br>Username=%{customdata[0]}<extra></extra>",
         "legendgroup": "Plants",
         "marker": {
          "color": "#00cc96",
          "pattern": {
           "shape": ""
          }
         },
         "name": "Plants",
         "offsetgroup": "Plants",
         "orientation": "v",
         "showlegend": true,
         "textposition": "auto",
         "type": "bar",
         "x": [
          "indoor_plant_set_89_23",
          "realistichnaia_lugovaia_trava"
         ],
         "xaxis": "x",
         "y": [
          2103,
          1304
         ],
         "yaxis": "y"
        },
        {
         "alignmentgroup": "True",
         "customdata": [
          [
           "marchik3d"
          ],
          [
           "maltsev_stepan"
          ],
          [
           "sofiakholina"
          ]
         ],
         "hovertemplate": "Category=Materials<br>Unique_Title=%{x}<br>Total_Ranking=%{y}<br>Username=%{customdata[0]}<extra></extra>",
         "legendgroup": "Materials",
         "marker": {
          "color": "#ab63fa",
          "pattern": {
           "shape": ""
          }
         },
         "name": "Materials",
         "offsetgroup": "Materials",
         "orientation": "v",
         "showlegend": true,
         "textposition": "auto",
         "type": "bar",
         "x": [
          "boucle_fabric",
          "sneg_4",
          "carpeting_seamless_carpet"
         ],
         "xaxis": "x",
         "y": [
          2081,
          1748,
          1532
         ],
         "yaxis": "y"
        },
        {
         "alignmentgroup": "True",
         "customdata": [
          [
           "RazorS95"
          ]
         ],
         "hovertemplate": "Category=Kitchen<br>Unique_Title=%{x}<br>Total_Ranking=%{y}<br>Username=%{customdata[0]}<extra></extra>",
         "legendgroup": "Kitchen",
         "marker": {
          "color": "#FFA15A",
          "pattern": {
           "shape": ""
          }
         },
         "name": "Kitchen",
         "offsetgroup": "Kitchen",
         "orientation": "v",
         "showlegend": true,
         "textposition": "auto",
         "type": "bar",
         "x": [
          "kukhnia_10_6"
         ],
         "xaxis": "x",
         "y": [
          2069
         ],
         "yaxis": "y"
        },
        {
         "alignmentgroup": "True",
         "customdata": [
          [
           "sofiakholina"
          ],
          [
           "Ashlesha"
          ]
         ],
         "hovertemplate": "Category=Bathroom<br>Unique_Title=%{x}<br>Total_Ranking=%{y}<br>Username=%{customdata[0]}<extra></extra>",
         "legendgroup": "Bathroom",
         "marker": {
          "color": "#19d3f3",
          "pattern": {
           "shape": ""
          }
         },
         "name": "Bathroom",
         "offsetgroup": "Bathroom",
         "orientation": "v",
         "showlegend": true,
         "textposition": "auto",
         "type": "bar",
         "x": [
          "bathroom_decor_with_a_set_of_different_cosmetic_products",
          "faucets_and_showers_boheme_uno_set_2"
         ],
         "xaxis": "x",
         "y": [
          1776,
          1702
         ],
         "yaxis": "y"
        },
        {
         "alignmentgroup": "True",
         "customdata": [
          [
           "DashutaG"
          ]
         ],
         "hovertemplate": "Category=Other Models<br>Unique_Title=%{x}<br>Total_Ranking=%{y}<br>Username=%{customdata[0]}<extra></extra>",
         "legendgroup": "Other Models",
         "marker": {
          "color": "#FF6692",
          "pattern": {
           "shape": ""
          }
         },
         "name": "Other Models",
         "offsetgroup": "Other Models",
         "orientation": "v",
         "showlegend": true,
         "textposition": "auto",
         "type": "bar",
         "x": [
          "reshetki_dlia_ventiliatsii_i_konditsionirovaniia_redvent"
         ],
         "xaxis": "x",
         "y": [
          1721
         ],
         "yaxis": "y"
        },
        {
         "alignmentgroup": "True",
         "customdata": [
          [
           "lzv_cg"
          ]
         ],
         "hovertemplate": "Category=Childroom<br>Unique_Title=%{x}<br>Total_Ranking=%{y}<br>Username=%{customdata[0]}<extra></extra>",
         "legendgroup": "Childroom",
         "marker": {
          "color": "#B6E880",
          "pattern": {
           "shape": ""
          }
         },
         "name": "Childroom",
         "offsetgroup": "Childroom",
         "orientation": "v",
         "showlegend": true,
         "textposition": "auto",
         "type": "bar",
         "x": [
          "children_play_area_interactive"
         ],
         "xaxis": "x",
         "y": [
          1541
         ],
         "yaxis": "y"
        },
        {
         "alignmentgroup": "True",
         "customdata": [
          [
           "dofen"
          ],
          [
           "StanisLOVE.viz"
          ]
         ],
         "hovertemplate": "Category=Textures<br>Unique_Title=%{x}<br>Total_Ranking=%{y}<br>Username=%{customdata[0]}<extra></extra>",
         "legendgroup": "Textures",
         "marker": {
          "color": "#FF97FF",
          "pattern": {
           "shape": ""
          }
         },
         "name": "Textures",
         "offsetgroup": "Textures",
         "orientation": "v",
         "showlegend": true,
         "textposition": "auto",
         "type": "bar",
         "x": [
          "parketnaia_doska_4_1",
          "equipe_bali_2"
         ],
         "xaxis": "x",
         "y": [
          1440,
          1321
         ],
         "yaxis": "y"
        }
       ],
       "layout": {
        "barmode": "relative",
        "height": 800,
        "legend": {
         "title": {
          "text": "Category"
         },
         "tracegroupgap": 0
        },
        "template": {
         "data": {
          "bar": [
           {
            "error_x": {
             "color": "#2a3f5f"
            },
            "error_y": {
             "color": "#2a3f5f"
            },
            "marker": {
             "line": {
              "color": "#E5ECF6",
              "width": 0.5
             },
             "pattern": {
              "fillmode": "overlay",
              "size": 10,
              "solidity": 0.2
             }
            },
            "type": "bar"
           }
          ],
          "barpolar": [
           {
            "marker": {
             "line": {
              "color": "#E5ECF6",
              "width": 0.5
             },
             "pattern": {
              "fillmode": "overlay",
              "size": 10,
              "solidity": 0.2
             }
            },
            "type": "barpolar"
           }
          ],
          "carpet": [
           {
            "aaxis": {
             "endlinecolor": "#2a3f5f",
             "gridcolor": "white",
             "linecolor": "white",
             "minorgridcolor": "white",
             "startlinecolor": "#2a3f5f"
            },
            "baxis": {
             "endlinecolor": "#2a3f5f",
             "gridcolor": "white",
             "linecolor": "white",
             "minorgridcolor": "white",
             "startlinecolor": "#2a3f5f"
            },
            "type": "carpet"
           }
          ],
          "choropleth": [
           {
            "colorbar": {
             "outlinewidth": 0,
             "ticks": ""
            },
            "type": "choropleth"
           }
          ],
          "contour": [
           {
            "colorbar": {
             "outlinewidth": 0,
             "ticks": ""
            },
            "colorscale": [
             [
              0,
              "#0d0887"
             ],
             [
              0.1111111111111111,
              "#46039f"
             ],
             [
              0.2222222222222222,
              "#7201a8"
             ],
             [
              0.3333333333333333,
              "#9c179e"
             ],
             [
              0.4444444444444444,
              "#bd3786"
             ],
             [
              0.5555555555555556,
              "#d8576b"
             ],
             [
              0.6666666666666666,
              "#ed7953"
             ],
             [
              0.7777777777777778,
              "#fb9f3a"
             ],
             [
              0.8888888888888888,
              "#fdca26"
             ],
             [
              1,
              "#f0f921"
             ]
            ],
            "type": "contour"
           }
          ],
          "contourcarpet": [
           {
            "colorbar": {
             "outlinewidth": 0,
             "ticks": ""
            },
            "type": "contourcarpet"
           }
          ],
          "heatmap": [
           {
            "colorbar": {
             "outlinewidth": 0,
             "ticks": ""
            },
            "colorscale": [
             [
              0,
              "#0d0887"
             ],
             [
              0.1111111111111111,
              "#46039f"
             ],
             [
              0.2222222222222222,
              "#7201a8"
             ],
             [
              0.3333333333333333,
              "#9c179e"
             ],
             [
              0.4444444444444444,
              "#bd3786"
             ],
             [
              0.5555555555555556,
              "#d8576b"
             ],
             [
              0.6666666666666666,
              "#ed7953"
             ],
             [
              0.7777777777777778,
              "#fb9f3a"
             ],
             [
              0.8888888888888888,
              "#fdca26"
             ],
             [
              1,
              "#f0f921"
             ]
            ],
            "type": "heatmap"
           }
          ],
          "heatmapgl": [
           {
            "colorbar": {
             "outlinewidth": 0,
             "ticks": ""
            },
            "colorscale": [
             [
              0,
              "#0d0887"
             ],
             [
              0.1111111111111111,
              "#46039f"
             ],
             [
              0.2222222222222222,
              "#7201a8"
             ],
             [
              0.3333333333333333,
              "#9c179e"
             ],
             [
              0.4444444444444444,
              "#bd3786"
             ],
             [
              0.5555555555555556,
              "#d8576b"
             ],
             [
              0.6666666666666666,
              "#ed7953"
             ],
             [
              0.7777777777777778,
              "#fb9f3a"
             ],
             [
              0.8888888888888888,
              "#fdca26"
             ],
             [
              1,
              "#f0f921"
             ]
            ],
            "type": "heatmapgl"
           }
          ],
          "histogram": [
           {
            "marker": {
             "pattern": {
              "fillmode": "overlay",
              "size": 10,
              "solidity": 0.2
             }
            },
            "type": "histogram"
           }
          ],
          "histogram2d": [
           {
            "colorbar": {
             "outlinewidth": 0,
             "ticks": ""
            },
            "colorscale": [
             [
              0,
              "#0d0887"
             ],
             [
              0.1111111111111111,
              "#46039f"
             ],
             [
              0.2222222222222222,
              "#7201a8"
             ],
             [
              0.3333333333333333,
              "#9c179e"
             ],
             [
              0.4444444444444444,
              "#bd3786"
             ],
             [
              0.5555555555555556,
              "#d8576b"
             ],
             [
              0.6666666666666666,
              "#ed7953"
             ],
             [
              0.7777777777777778,
              "#fb9f3a"
             ],
             [
              0.8888888888888888,
              "#fdca26"
             ],
             [
              1,
              "#f0f921"
             ]
            ],
            "type": "histogram2d"
           }
          ],
          "histogram2dcontour": [
           {
            "colorbar": {
             "outlinewidth": 0,
             "ticks": ""
            },
            "colorscale": [
             [
              0,
              "#0d0887"
             ],
             [
              0.1111111111111111,
              "#46039f"
             ],
             [
              0.2222222222222222,
              "#7201a8"
             ],
             [
              0.3333333333333333,
              "#9c179e"
             ],
             [
              0.4444444444444444,
              "#bd3786"
             ],
             [
              0.5555555555555556,
              "#d8576b"
             ],
             [
              0.6666666666666666,
              "#ed7953"
             ],
             [
              0.7777777777777778,
              "#fb9f3a"
             ],
             [
              0.8888888888888888,
              "#fdca26"
             ],
             [
              1,
              "#f0f921"
             ]
            ],
            "type": "histogram2dcontour"
           }
          ],
          "mesh3d": [
           {
            "colorbar": {
             "outlinewidth": 0,
             "ticks": ""
            },
            "type": "mesh3d"
           }
          ],
          "parcoords": [
           {
            "line": {
             "colorbar": {
              "outlinewidth": 0,
              "ticks": ""
             }
            },
            "type": "parcoords"
           }
          ],
          "pie": [
           {
            "automargin": true,
            "type": "pie"
           }
          ],
          "scatter": [
           {
            "fillpattern": {
             "fillmode": "overlay",
             "size": 10,
             "solidity": 0.2
            },
            "type": "scatter"
           }
          ],
          "scatter3d": [
           {
            "line": {
             "colorbar": {
              "outlinewidth": 0,
              "ticks": ""
             }
            },
            "marker": {
             "colorbar": {
              "outlinewidth": 0,
              "ticks": ""
             }
            },
            "type": "scatter3d"
           }
          ],
          "scattercarpet": [
           {
            "marker": {
             "colorbar": {
              "outlinewidth": 0,
              "ticks": ""
             }
            },
            "type": "scattercarpet"
           }
          ],
          "scattergeo": [
           {
            "marker": {
             "colorbar": {
              "outlinewidth": 0,
              "ticks": ""
             }
            },
            "type": "scattergeo"
           }
          ],
          "scattergl": [
           {
            "marker": {
             "colorbar": {
              "outlinewidth": 0,
              "ticks": ""
             }
            },
            "type": "scattergl"
           }
          ],
          "scattermapbox": [
           {
            "marker": {
             "colorbar": {
              "outlinewidth": 0,
              "ticks": ""
             }
            },
            "type": "scattermapbox"
           }
          ],
          "scatterpolar": [
           {
            "marker": {
             "colorbar": {
              "outlinewidth": 0,
              "ticks": ""
             }
            },
            "type": "scatterpolar"
           }
          ],
          "scatterpolargl": [
           {
            "marker": {
             "colorbar": {
              "outlinewidth": 0,
              "ticks": ""
             }
            },
            "type": "scatterpolargl"
           }
          ],
          "scatterternary": [
           {
            "marker": {
             "colorbar": {
              "outlinewidth": 0,
              "ticks": ""
             }
            },
            "type": "scatterternary"
           }
          ],
          "surface": [
           {
            "colorbar": {
             "outlinewidth": 0,
             "ticks": ""
            },
            "colorscale": [
             [
              0,
              "#0d0887"
             ],
             [
              0.1111111111111111,
              "#46039f"
             ],
             [
              0.2222222222222222,
              "#7201a8"
             ],
             [
              0.3333333333333333,
              "#9c179e"
             ],
             [
              0.4444444444444444,
              "#bd3786"
             ],
             [
              0.5555555555555556,
              "#d8576b"
             ],
             [
              0.6666666666666666,
              "#ed7953"
             ],
             [
              0.7777777777777778,
              "#fb9f3a"
             ],
             [
              0.8888888888888888,
              "#fdca26"
             ],
             [
              1,
              "#f0f921"
             ]
            ],
            "type": "surface"
           }
          ],
          "table": [
           {
            "cells": {
             "fill": {
              "color": "#EBF0F8"
             },
             "line": {
              "color": "white"
             }
            },
            "header": {
             "fill": {
              "color": "#C8D4E3"
             },
             "line": {
              "color": "white"
             }
            },
            "type": "table"
           }
          ]
         },
         "layout": {
          "annotationdefaults": {
           "arrowcolor": "#2a3f5f",
           "arrowhead": 0,
           "arrowwidth": 1
          },
          "autotypenumbers": "strict",
          "coloraxis": {
           "colorbar": {
            "outlinewidth": 0,
            "ticks": ""
           }
          },
          "colorscale": {
           "diverging": [
            [
             0,
             "#8e0152"
            ],
            [
             0.1,
             "#c51b7d"
            ],
            [
             0.2,
             "#de77ae"
            ],
            [
             0.3,
             "#f1b6da"
            ],
            [
             0.4,
             "#fde0ef"
            ],
            [
             0.5,
             "#f7f7f7"
            ],
            [
             0.6,
             "#e6f5d0"
            ],
            [
             0.7,
             "#b8e186"
            ],
            [
             0.8,
             "#7fbc41"
            ],
            [
             0.9,
             "#4d9221"
            ],
            [
             1,
             "#276419"
            ]
           ],
           "sequential": [
            [
             0,
             "#0d0887"
            ],
            [
             0.1111111111111111,
             "#46039f"
            ],
            [
             0.2222222222222222,
             "#7201a8"
            ],
            [
             0.3333333333333333,
             "#9c179e"
            ],
            [
             0.4444444444444444,
             "#bd3786"
            ],
            [
             0.5555555555555556,
             "#d8576b"
            ],
            [
             0.6666666666666666,
             "#ed7953"
            ],
            [
             0.7777777777777778,
             "#fb9f3a"
            ],
            [
             0.8888888888888888,
             "#fdca26"
            ],
            [
             1,
             "#f0f921"
            ]
           ],
           "sequentialminus": [
            [
             0,
             "#0d0887"
            ],
            [
             0.1111111111111111,
             "#46039f"
            ],
            [
             0.2222222222222222,
             "#7201a8"
            ],
            [
             0.3333333333333333,
             "#9c179e"
            ],
            [
             0.4444444444444444,
             "#bd3786"
            ],
            [
             0.5555555555555556,
             "#d8576b"
            ],
            [
             0.6666666666666666,
             "#ed7953"
            ],
            [
             0.7777777777777778,
             "#fb9f3a"
            ],
            [
             0.8888888888888888,
             "#fdca26"
            ],
            [
             1,
             "#f0f921"
            ]
           ]
          },
          "colorway": [
           "#636efa",
           "#EF553B",
           "#00cc96",
           "#ab63fa",
           "#FFA15A",
           "#19d3f3",
           "#FF6692",
           "#B6E880",
           "#FF97FF",
           "#FECB52"
          ],
          "font": {
           "color": "#2a3f5f"
          },
          "geo": {
           "bgcolor": "white",
           "lakecolor": "white",
           "landcolor": "#E5ECF6",
           "showlakes": true,
           "showland": true,
           "subunitcolor": "white"
          },
          "hoverlabel": {
           "align": "left"
          },
          "hovermode": "closest",
          "mapbox": {
           "style": "light"
          },
          "paper_bgcolor": "white",
          "plot_bgcolor": "#E5ECF6",
          "polar": {
           "angularaxis": {
            "gridcolor": "white",
            "linecolor": "white",
            "ticks": ""
           },
           "bgcolor": "#E5ECF6",
           "radialaxis": {
            "gridcolor": "white",
            "linecolor": "white",
            "ticks": ""
           }
          },
          "scene": {
           "xaxis": {
            "backgroundcolor": "#E5ECF6",
            "gridcolor": "white",
            "gridwidth": 2,
            "linecolor": "white",
            "showbackground": true,
            "ticks": "",
            "zerolinecolor": "white"
           },
           "yaxis": {
            "backgroundcolor": "#E5ECF6",
            "gridcolor": "white",
            "gridwidth": 2,
            "linecolor": "white",
            "showbackground": true,
            "ticks": "",
            "zerolinecolor": "white"
           },
           "zaxis": {
            "backgroundcolor": "#E5ECF6",
            "gridcolor": "white",
            "gridwidth": 2,
            "linecolor": "white",
            "showbackground": true,
            "ticks": "",
            "zerolinecolor": "white"
           }
          },
          "shapedefaults": {
           "line": {
            "color": "#2a3f5f"
           }
          },
          "ternary": {
           "aaxis": {
            "gridcolor": "white",
            "linecolor": "white",
            "ticks": ""
           },
           "baxis": {
            "gridcolor": "white",
            "linecolor": "white",
            "ticks": ""
           },
           "bgcolor": "#E5ECF6",
           "caxis": {
            "gridcolor": "white",
            "linecolor": "white",
            "ticks": ""
           }
          },
          "title": {
           "x": 0.05
          },
          "xaxis": {
           "automargin": true,
           "gridcolor": "white",
           "linecolor": "white",
           "ticks": "",
           "title": {
            "standoff": 15
           },
           "zerolinecolor": "white",
           "zerolinewidth": 2
          },
          "yaxis": {
           "automargin": true,
           "gridcolor": "white",
           "linecolor": "white",
           "ticks": "",
           "title": {
            "standoff": 15
           },
           "zerolinecolor": "white",
           "zerolinewidth": 2
          }
         }
        },
        "title": {
         "text": "Top 120 total Rank by Unique_Title"
        },
        "xaxis": {
         "anchor": "y",
         "categoryarray": [
          "novogodniaia_elka_s_kaminom_5",
          "odezhda_dlia_garderoba_ng15",
          "ofisnoe_kreslo_eshli",
          "benuta_leon_cream_wool_rug",
          "indoor_plant_set_89_23",
          "boucle_fabric",
          "garderobnaia_28",
          "kukhnia_10_6",
          "benuta_dave_rectangular_fur_rug_3_colors",
          "shtory_s_rimskimi_shtorami_2",
          "decorative_set_089_4",
          "coffee_table_decor_set_005",
          "kerns_tumba_divan_ru",
          "bathroom_decor_with_a_set_of_different_cosmetic_products",
          "sneg_4",
          "reshetki_dlia_ventiliatsii_i_konditsionirovaniia_redvent",
          "faucets_and_showers_boheme_uno_set_2",
          "garderobnaia_16_1",
          "pinch_pleat_linen_curtain_with_roller_blind",
          "children_play_area_interactive",
          "decorative_set_088_2",
          "carpeting_seamless_carpet",
          "parketnaia_doska_4_1",
          "glass_block_wall_08",
          "novogodniaia_elka_s_kaminom_4",
          "elochka_1",
          "a_set_of_clothes_and_accessories_to_fill_a_wardrobe_or_store_and_showroom",
          "equipe_bali_2",
          "realistichnaia_lugovaia_trava",
          "decorative_set_086_4"
         ],
         "categoryorder": "array",
         "domain": [
          0,
          1
         ],
         "title": {
          "text": "Unique_Title"
         }
        },
        "yaxis": {
         "anchor": "x",
         "domain": [
          0,
          1
         ],
         "title": {
          "text": "Total_Ranking"
         }
        }
       }
      }
     },
     "metadata": {},
     "output_type": "display_data"
    }
   ],
   "source": [
    "data_unique_gr = data.groupby(by=['Unique_Title', 'Category', 'Username'], as_index=False)['Ranking'].sum()\n",
    "data_unique_gr.columns = ['Unique_Title', 'Category', 'Username', 'Total_Ranking']\n",
    "data_unique_gr.sort_values(by='Total_Ranking', ascending=False, inplace=True)\n",
    "data_unique_gr = data_unique_gr.head(30)\n",
    "\n",
    "cat_list = data_unique_gr['Unique_Title'].tolist()\n",
    "cat_dict = {'Unique_Title': cat_list}\n",
    "\n",
    "fig4 = px.bar(data_unique_gr, x='Unique_Title', y='Total_Ranking', hover_data='Username',\n",
    "              category_orders=cat_dict, color='Category', height=800, title='Top 120 total Rank by Unique_Title')\n",
    "fig4.show()"
   ]
  },
  {
   "cell_type": "code",
   "execution_count": null,
   "metadata": {},
   "outputs": [
    {
     "data": {
      "application/vnd.plotly.v1+json": {
       "config": {
        "plotlyServerURL": "https://plot.ly"
       },
       "data": [
        {
         "alignmentgroup": "True",
         "hovertemplate": "Username=%{x}<br>Total_Ranking=%{y}<extra></extra>",
         "legendgroup": "",
         "marker": {
          "color": "#636efa",
          "pattern": {
           "shape": ""
          }
         },
         "name": "",
         "offsetgroup": "",
         "orientation": "v",
         "showlegend": false,
         "textposition": "auto",
         "type": "bar",
         "x": [
          "niga2323",
          "sofiakholina",
          "dofen",
          "fffaaa12",
          "3Dmitruk",
          "protektor",
          "Ashlesha",
          "Moriiiz",
          "StanisLOVE.viz",
          "RazorS95",
          "maltsev_stepan",
          "lzv_cg",
          "mh.designer",
          "Mitya87",
          "illidan_",
          "DashutaG",
          "ZikKoo",
          "marchik3d",
          "Rolan05",
          "horrortechnology",
          "3Design.FB",
          "aoverina",
          "auralis",
          "picture.cg",
          "slipknot1111",
          "kapusta",
          "oleksandroleksandr",
          "AlexHappy",
          "NK3D",
          "Neeo"
         ],
         "xaxis": "x",
         "y": [
          13679,
          7624,
          6921,
          4909,
          4212,
          3850,
          3748,
          3497,
          3336,
          3332,
          2804,
          2554,
          2403,
          2293,
          2278,
          2263,
          2105,
          2081,
          2069,
          2065,
          1992,
          1937,
          1734,
          1703,
          1674,
          1644,
          1473,
          1451,
          1397,
          1326
         ],
         "yaxis": "y"
        }
       ],
       "layout": {
        "barmode": "relative",
        "height": 800,
        "legend": {
         "tracegroupgap": 0
        },
        "template": {
         "data": {
          "bar": [
           {
            "error_x": {
             "color": "#2a3f5f"
            },
            "error_y": {
             "color": "#2a3f5f"
            },
            "marker": {
             "line": {
              "color": "#E5ECF6",
              "width": 0.5
             },
             "pattern": {
              "fillmode": "overlay",
              "size": 10,
              "solidity": 0.2
             }
            },
            "type": "bar"
           }
          ],
          "barpolar": [
           {
            "marker": {
             "line": {
              "color": "#E5ECF6",
              "width": 0.5
             },
             "pattern": {
              "fillmode": "overlay",
              "size": 10,
              "solidity": 0.2
             }
            },
            "type": "barpolar"
           }
          ],
          "carpet": [
           {
            "aaxis": {
             "endlinecolor": "#2a3f5f",
             "gridcolor": "white",
             "linecolor": "white",
             "minorgridcolor": "white",
             "startlinecolor": "#2a3f5f"
            },
            "baxis": {
             "endlinecolor": "#2a3f5f",
             "gridcolor": "white",
             "linecolor": "white",
             "minorgridcolor": "white",
             "startlinecolor": "#2a3f5f"
            },
            "type": "carpet"
           }
          ],
          "choropleth": [
           {
            "colorbar": {
             "outlinewidth": 0,
             "ticks": ""
            },
            "type": "choropleth"
           }
          ],
          "contour": [
           {
            "colorbar": {
             "outlinewidth": 0,
             "ticks": ""
            },
            "colorscale": [
             [
              0,
              "#0d0887"
             ],
             [
              0.1111111111111111,
              "#46039f"
             ],
             [
              0.2222222222222222,
              "#7201a8"
             ],
             [
              0.3333333333333333,
              "#9c179e"
             ],
             [
              0.4444444444444444,
              "#bd3786"
             ],
             [
              0.5555555555555556,
              "#d8576b"
             ],
             [
              0.6666666666666666,
              "#ed7953"
             ],
             [
              0.7777777777777778,
              "#fb9f3a"
             ],
             [
              0.8888888888888888,
              "#fdca26"
             ],
             [
              1,
              "#f0f921"
             ]
            ],
            "type": "contour"
           }
          ],
          "contourcarpet": [
           {
            "colorbar": {
             "outlinewidth": 0,
             "ticks": ""
            },
            "type": "contourcarpet"
           }
          ],
          "heatmap": [
           {
            "colorbar": {
             "outlinewidth": 0,
             "ticks": ""
            },
            "colorscale": [
             [
              0,
              "#0d0887"
             ],
             [
              0.1111111111111111,
              "#46039f"
             ],
             [
              0.2222222222222222,
              "#7201a8"
             ],
             [
              0.3333333333333333,
              "#9c179e"
             ],
             [
              0.4444444444444444,
              "#bd3786"
             ],
             [
              0.5555555555555556,
              "#d8576b"
             ],
             [
              0.6666666666666666,
              "#ed7953"
             ],
             [
              0.7777777777777778,
              "#fb9f3a"
             ],
             [
              0.8888888888888888,
              "#fdca26"
             ],
             [
              1,
              "#f0f921"
             ]
            ],
            "type": "heatmap"
           }
          ],
          "heatmapgl": [
           {
            "colorbar": {
             "outlinewidth": 0,
             "ticks": ""
            },
            "colorscale": [
             [
              0,
              "#0d0887"
             ],
             [
              0.1111111111111111,
              "#46039f"
             ],
             [
              0.2222222222222222,
              "#7201a8"
             ],
             [
              0.3333333333333333,
              "#9c179e"
             ],
             [
              0.4444444444444444,
              "#bd3786"
             ],
             [
              0.5555555555555556,
              "#d8576b"
             ],
             [
              0.6666666666666666,
              "#ed7953"
             ],
             [
              0.7777777777777778,
              "#fb9f3a"
             ],
             [
              0.8888888888888888,
              "#fdca26"
             ],
             [
              1,
              "#f0f921"
             ]
            ],
            "type": "heatmapgl"
           }
          ],
          "histogram": [
           {
            "marker": {
             "pattern": {
              "fillmode": "overlay",
              "size": 10,
              "solidity": 0.2
             }
            },
            "type": "histogram"
           }
          ],
          "histogram2d": [
           {
            "colorbar": {
             "outlinewidth": 0,
             "ticks": ""
            },
            "colorscale": [
             [
              0,
              "#0d0887"
             ],
             [
              0.1111111111111111,
              "#46039f"
             ],
             [
              0.2222222222222222,
              "#7201a8"
             ],
             [
              0.3333333333333333,
              "#9c179e"
             ],
             [
              0.4444444444444444,
              "#bd3786"
             ],
             [
              0.5555555555555556,
              "#d8576b"
             ],
             [
              0.6666666666666666,
              "#ed7953"
             ],
             [
              0.7777777777777778,
              "#fb9f3a"
             ],
             [
              0.8888888888888888,
              "#fdca26"
             ],
             [
              1,
              "#f0f921"
             ]
            ],
            "type": "histogram2d"
           }
          ],
          "histogram2dcontour": [
           {
            "colorbar": {
             "outlinewidth": 0,
             "ticks": ""
            },
            "colorscale": [
             [
              0,
              "#0d0887"
             ],
             [
              0.1111111111111111,
              "#46039f"
             ],
             [
              0.2222222222222222,
              "#7201a8"
             ],
             [
              0.3333333333333333,
              "#9c179e"
             ],
             [
              0.4444444444444444,
              "#bd3786"
             ],
             [
              0.5555555555555556,
              "#d8576b"
             ],
             [
              0.6666666666666666,
              "#ed7953"
             ],
             [
              0.7777777777777778,
              "#fb9f3a"
             ],
             [
              0.8888888888888888,
              "#fdca26"
             ],
             [
              1,
              "#f0f921"
             ]
            ],
            "type": "histogram2dcontour"
           }
          ],
          "mesh3d": [
           {
            "colorbar": {
             "outlinewidth": 0,
             "ticks": ""
            },
            "type": "mesh3d"
           }
          ],
          "parcoords": [
           {
            "line": {
             "colorbar": {
              "outlinewidth": 0,
              "ticks": ""
             }
            },
            "type": "parcoords"
           }
          ],
          "pie": [
           {
            "automargin": true,
            "type": "pie"
           }
          ],
          "scatter": [
           {
            "fillpattern": {
             "fillmode": "overlay",
             "size": 10,
             "solidity": 0.2
            },
            "type": "scatter"
           }
          ],
          "scatter3d": [
           {
            "line": {
             "colorbar": {
              "outlinewidth": 0,
              "ticks": ""
             }
            },
            "marker": {
             "colorbar": {
              "outlinewidth": 0,
              "ticks": ""
             }
            },
            "type": "scatter3d"
           }
          ],
          "scattercarpet": [
           {
            "marker": {
             "colorbar": {
              "outlinewidth": 0,
              "ticks": ""
             }
            },
            "type": "scattercarpet"
           }
          ],
          "scattergeo": [
           {
            "marker": {
             "colorbar": {
              "outlinewidth": 0,
              "ticks": ""
             }
            },
            "type": "scattergeo"
           }
          ],
          "scattergl": [
           {
            "marker": {
             "colorbar": {
              "outlinewidth": 0,
              "ticks": ""
             }
            },
            "type": "scattergl"
           }
          ],
          "scattermapbox": [
           {
            "marker": {
             "colorbar": {
              "outlinewidth": 0,
              "ticks": ""
             }
            },
            "type": "scattermapbox"
           }
          ],
          "scatterpolar": [
           {
            "marker": {
             "colorbar": {
              "outlinewidth": 0,
              "ticks": ""
             }
            },
            "type": "scatterpolar"
           }
          ],
          "scatterpolargl": [
           {
            "marker": {
             "colorbar": {
              "outlinewidth": 0,
              "ticks": ""
             }
            },
            "type": "scatterpolargl"
           }
          ],
          "scatterternary": [
           {
            "marker": {
             "colorbar": {
              "outlinewidth": 0,
              "ticks": ""
             }
            },
            "type": "scatterternary"
           }
          ],
          "surface": [
           {
            "colorbar": {
             "outlinewidth": 0,
             "ticks": ""
            },
            "colorscale": [
             [
              0,
              "#0d0887"
             ],
             [
              0.1111111111111111,
              "#46039f"
             ],
             [
              0.2222222222222222,
              "#7201a8"
             ],
             [
              0.3333333333333333,
              "#9c179e"
             ],
             [
              0.4444444444444444,
              "#bd3786"
             ],
             [
              0.5555555555555556,
              "#d8576b"
             ],
             [
              0.6666666666666666,
              "#ed7953"
             ],
             [
              0.7777777777777778,
              "#fb9f3a"
             ],
             [
              0.8888888888888888,
              "#fdca26"
             ],
             [
              1,
              "#f0f921"
             ]
            ],
            "type": "surface"
           }
          ],
          "table": [
           {
            "cells": {
             "fill": {
              "color": "#EBF0F8"
             },
             "line": {
              "color": "white"
             }
            },
            "header": {
             "fill": {
              "color": "#C8D4E3"
             },
             "line": {
              "color": "white"
             }
            },
            "type": "table"
           }
          ]
         },
         "layout": {
          "annotationdefaults": {
           "arrowcolor": "#2a3f5f",
           "arrowhead": 0,
           "arrowwidth": 1
          },
          "autotypenumbers": "strict",
          "coloraxis": {
           "colorbar": {
            "outlinewidth": 0,
            "ticks": ""
           }
          },
          "colorscale": {
           "diverging": [
            [
             0,
             "#8e0152"
            ],
            [
             0.1,
             "#c51b7d"
            ],
            [
             0.2,
             "#de77ae"
            ],
            [
             0.3,
             "#f1b6da"
            ],
            [
             0.4,
             "#fde0ef"
            ],
            [
             0.5,
             "#f7f7f7"
            ],
            [
             0.6,
             "#e6f5d0"
            ],
            [
             0.7,
             "#b8e186"
            ],
            [
             0.8,
             "#7fbc41"
            ],
            [
             0.9,
             "#4d9221"
            ],
            [
             1,
             "#276419"
            ]
           ],
           "sequential": [
            [
             0,
             "#0d0887"
            ],
            [
             0.1111111111111111,
             "#46039f"
            ],
            [
             0.2222222222222222,
             "#7201a8"
            ],
            [
             0.3333333333333333,
             "#9c179e"
            ],
            [
             0.4444444444444444,
             "#bd3786"
            ],
            [
             0.5555555555555556,
             "#d8576b"
            ],
            [
             0.6666666666666666,
             "#ed7953"
            ],
            [
             0.7777777777777778,
             "#fb9f3a"
            ],
            [
             0.8888888888888888,
             "#fdca26"
            ],
            [
             1,
             "#f0f921"
            ]
           ],
           "sequentialminus": [
            [
             0,
             "#0d0887"
            ],
            [
             0.1111111111111111,
             "#46039f"
            ],
            [
             0.2222222222222222,
             "#7201a8"
            ],
            [
             0.3333333333333333,
             "#9c179e"
            ],
            [
             0.4444444444444444,
             "#bd3786"
            ],
            [
             0.5555555555555556,
             "#d8576b"
            ],
            [
             0.6666666666666666,
             "#ed7953"
            ],
            [
             0.7777777777777778,
             "#fb9f3a"
            ],
            [
             0.8888888888888888,
             "#fdca26"
            ],
            [
             1,
             "#f0f921"
            ]
           ]
          },
          "colorway": [
           "#636efa",
           "#EF553B",
           "#00cc96",
           "#ab63fa",
           "#FFA15A",
           "#19d3f3",
           "#FF6692",
           "#B6E880",
           "#FF97FF",
           "#FECB52"
          ],
          "font": {
           "color": "#2a3f5f"
          },
          "geo": {
           "bgcolor": "white",
           "lakecolor": "white",
           "landcolor": "#E5ECF6",
           "showlakes": true,
           "showland": true,
           "subunitcolor": "white"
          },
          "hoverlabel": {
           "align": "left"
          },
          "hovermode": "closest",
          "mapbox": {
           "style": "light"
          },
          "paper_bgcolor": "white",
          "plot_bgcolor": "#E5ECF6",
          "polar": {
           "angularaxis": {
            "gridcolor": "white",
            "linecolor": "white",
            "ticks": ""
           },
           "bgcolor": "#E5ECF6",
           "radialaxis": {
            "gridcolor": "white",
            "linecolor": "white",
            "ticks": ""
           }
          },
          "scene": {
           "xaxis": {
            "backgroundcolor": "#E5ECF6",
            "gridcolor": "white",
            "gridwidth": 2,
            "linecolor": "white",
            "showbackground": true,
            "ticks": "",
            "zerolinecolor": "white"
           },
           "yaxis": {
            "backgroundcolor": "#E5ECF6",
            "gridcolor": "white",
            "gridwidth": 2,
            "linecolor": "white",
            "showbackground": true,
            "ticks": "",
            "zerolinecolor": "white"
           },
           "zaxis": {
            "backgroundcolor": "#E5ECF6",
            "gridcolor": "white",
            "gridwidth": 2,
            "linecolor": "white",
            "showbackground": true,
            "ticks": "",
            "zerolinecolor": "white"
           }
          },
          "shapedefaults": {
           "line": {
            "color": "#2a3f5f"
           }
          },
          "ternary": {
           "aaxis": {
            "gridcolor": "white",
            "linecolor": "white",
            "ticks": ""
           },
           "baxis": {
            "gridcolor": "white",
            "linecolor": "white",
            "ticks": ""
           },
           "bgcolor": "#E5ECF6",
           "caxis": {
            "gridcolor": "white",
            "linecolor": "white",
            "ticks": ""
           }
          },
          "title": {
           "x": 0.05
          },
          "xaxis": {
           "automargin": true,
           "gridcolor": "white",
           "linecolor": "white",
           "ticks": "",
           "title": {
            "standoff": 15
           },
           "zerolinecolor": "white",
           "zerolinewidth": 2
          },
          "yaxis": {
           "automargin": true,
           "gridcolor": "white",
           "linecolor": "white",
           "ticks": "",
           "title": {
            "standoff": 15
           },
           "zerolinecolor": "white",
           "zerolinewidth": 2
          }
         }
        },
        "title": {
         "text": "Top 120 total Rank by Username"
        },
        "xaxis": {
         "anchor": "y",
         "categoryarray": [
          "niga2323",
          "sofiakholina",
          "dofen",
          "fffaaa12",
          "3Dmitruk",
          "protektor",
          "Ashlesha",
          "Moriiiz",
          "StanisLOVE.viz",
          "RazorS95",
          "maltsev_stepan",
          "lzv_cg",
          "mh.designer",
          "Mitya87",
          "illidan_",
          "DashutaG",
          "ZikKoo",
          "marchik3d",
          "Rolan05",
          "horrortechnology",
          "3Design.FB",
          "aoverina",
          "auralis",
          "picture.cg",
          "slipknot1111",
          "kapusta",
          "oleksandroleksandr",
          "AlexHappy",
          "NK3D",
          "Neeo"
         ],
         "categoryorder": "array",
         "domain": [
          0,
          1
         ],
         "title": {
          "text": "Username"
         }
        },
        "yaxis": {
         "anchor": "x",
         "domain": [
          0,
          1
         ],
         "title": {
          "text": "Total_Ranking"
         }
        }
       }
      }
     },
     "metadata": {},
     "output_type": "display_data"
    }
   ],
   "source": [
    "data_user_gr = data.groupby(by='Username', as_index=False)['Ranking'].sum()\n",
    "data_user_gr.columns = ['Username', 'Total_Ranking']\n",
    "data_user_gr.sort_values(by='Total_Ranking', ascending=False, inplace=True)\n",
    "data_user_gr = data_user_gr.head(30)\n",
    "\n",
    "cat_user_list = data_user_gr['Username'].tolist()\n",
    "cat_user_dict = {'Username': cat_user_list}\n",
    "\n",
    "fig5 = px.bar(data_user_gr, x='Username', y='Total_Ranking', \n",
    "              category_orders=cat_user_dict, height=800, title='Top 120 total Rank by Username')\n",
    "fig5.show()"
   ]
  },
  {
   "cell_type": "code",
   "execution_count": null,
   "metadata": {},
   "outputs": [
    {
     "data": {
      "application/vnd.plotly.v1+json": {
       "config": {
        "plotlyServerURL": "https://plot.ly"
       },
       "data": [
        {
         "coloraxis": "coloraxis",
         "hovertemplate": "File_Type: %{x}<br>Max_Version: %{y}<br>color: %{z}<extra></extra>",
         "name": "0",
         "type": "heatmap",
         "x": [
          "fbx",
          "obj"
         ],
         "xaxis": "x",
         "y": [
          "3dsMax 2011",
          "3dsMax 2012",
          "3dsMax 2013",
          "3dsMax 2014",
          "3dsMax 2015",
          "3dsMax 2016",
          "3dsMax 2017",
          "3dsMax 2018",
          "3dsMax 2019",
          "3dsMax 2020",
          "3dsMax 2021"
         ],
         "yaxis": "y",
         "z": [
          [
           2,
           1
          ],
          [
           2,
           10
          ],
          [
           9,
           18
          ],
          [
           13,
           16
          ],
          [
           34,
           32
          ],
          [
           12,
           54
          ],
          [
           16,
           17
          ],
          [
           6,
           6
          ],
          [
           3,
           6
          ],
          [
           6,
           6
          ],
          [
           5,
           null
          ]
         ]
        }
       ],
       "layout": {
        "coloraxis": {
         "colorscale": [
          [
           0,
           "rgb(247,251,255)"
          ],
          [
           0.125,
           "rgb(222,235,247)"
          ],
          [
           0.25,
           "rgb(198,219,239)"
          ],
          [
           0.375,
           "rgb(158,202,225)"
          ],
          [
           0.5,
           "rgb(107,174,214)"
          ],
          [
           0.625,
           "rgb(66,146,198)"
          ],
          [
           0.75,
           "rgb(33,113,181)"
          ],
          [
           0.875,
           "rgb(8,81,156)"
          ],
          [
           1,
           "rgb(8,48,107)"
          ]
         ]
        },
        "template": {
         "data": {
          "bar": [
           {
            "error_x": {
             "color": "#2a3f5f"
            },
            "error_y": {
             "color": "#2a3f5f"
            },
            "marker": {
             "line": {
              "color": "#E5ECF6",
              "width": 0.5
             },
             "pattern": {
              "fillmode": "overlay",
              "size": 10,
              "solidity": 0.2
             }
            },
            "type": "bar"
           }
          ],
          "barpolar": [
           {
            "marker": {
             "line": {
              "color": "#E5ECF6",
              "width": 0.5
             },
             "pattern": {
              "fillmode": "overlay",
              "size": 10,
              "solidity": 0.2
             }
            },
            "type": "barpolar"
           }
          ],
          "carpet": [
           {
            "aaxis": {
             "endlinecolor": "#2a3f5f",
             "gridcolor": "white",
             "linecolor": "white",
             "minorgridcolor": "white",
             "startlinecolor": "#2a3f5f"
            },
            "baxis": {
             "endlinecolor": "#2a3f5f",
             "gridcolor": "white",
             "linecolor": "white",
             "minorgridcolor": "white",
             "startlinecolor": "#2a3f5f"
            },
            "type": "carpet"
           }
          ],
          "choropleth": [
           {
            "colorbar": {
             "outlinewidth": 0,
             "ticks": ""
            },
            "type": "choropleth"
           }
          ],
          "contour": [
           {
            "colorbar": {
             "outlinewidth": 0,
             "ticks": ""
            },
            "colorscale": [
             [
              0,
              "#0d0887"
             ],
             [
              0.1111111111111111,
              "#46039f"
             ],
             [
              0.2222222222222222,
              "#7201a8"
             ],
             [
              0.3333333333333333,
              "#9c179e"
             ],
             [
              0.4444444444444444,
              "#bd3786"
             ],
             [
              0.5555555555555556,
              "#d8576b"
             ],
             [
              0.6666666666666666,
              "#ed7953"
             ],
             [
              0.7777777777777778,
              "#fb9f3a"
             ],
             [
              0.8888888888888888,
              "#fdca26"
             ],
             [
              1,
              "#f0f921"
             ]
            ],
            "type": "contour"
           }
          ],
          "contourcarpet": [
           {
            "colorbar": {
             "outlinewidth": 0,
             "ticks": ""
            },
            "type": "contourcarpet"
           }
          ],
          "heatmap": [
           {
            "colorbar": {
             "outlinewidth": 0,
             "ticks": ""
            },
            "colorscale": [
             [
              0,
              "#0d0887"
             ],
             [
              0.1111111111111111,
              "#46039f"
             ],
             [
              0.2222222222222222,
              "#7201a8"
             ],
             [
              0.3333333333333333,
              "#9c179e"
             ],
             [
              0.4444444444444444,
              "#bd3786"
             ],
             [
              0.5555555555555556,
              "#d8576b"
             ],
             [
              0.6666666666666666,
              "#ed7953"
             ],
             [
              0.7777777777777778,
              "#fb9f3a"
             ],
             [
              0.8888888888888888,
              "#fdca26"
             ],
             [
              1,
              "#f0f921"
             ]
            ],
            "type": "heatmap"
           }
          ],
          "heatmapgl": [
           {
            "colorbar": {
             "outlinewidth": 0,
             "ticks": ""
            },
            "colorscale": [
             [
              0,
              "#0d0887"
             ],
             [
              0.1111111111111111,
              "#46039f"
             ],
             [
              0.2222222222222222,
              "#7201a8"
             ],
             [
              0.3333333333333333,
              "#9c179e"
             ],
             [
              0.4444444444444444,
              "#bd3786"
             ],
             [
              0.5555555555555556,
              "#d8576b"
             ],
             [
              0.6666666666666666,
              "#ed7953"
             ],
             [
              0.7777777777777778,
              "#fb9f3a"
             ],
             [
              0.8888888888888888,
              "#fdca26"
             ],
             [
              1,
              "#f0f921"
             ]
            ],
            "type": "heatmapgl"
           }
          ],
          "histogram": [
           {
            "marker": {
             "pattern": {
              "fillmode": "overlay",
              "size": 10,
              "solidity": 0.2
             }
            },
            "type": "histogram"
           }
          ],
          "histogram2d": [
           {
            "colorbar": {
             "outlinewidth": 0,
             "ticks": ""
            },
            "colorscale": [
             [
              0,
              "#0d0887"
             ],
             [
              0.1111111111111111,
              "#46039f"
             ],
             [
              0.2222222222222222,
              "#7201a8"
             ],
             [
              0.3333333333333333,
              "#9c179e"
             ],
             [
              0.4444444444444444,
              "#bd3786"
             ],
             [
              0.5555555555555556,
              "#d8576b"
             ],
             [
              0.6666666666666666,
              "#ed7953"
             ],
             [
              0.7777777777777778,
              "#fb9f3a"
             ],
             [
              0.8888888888888888,
              "#fdca26"
             ],
             [
              1,
              "#f0f921"
             ]
            ],
            "type": "histogram2d"
           }
          ],
          "histogram2dcontour": [
           {
            "colorbar": {
             "outlinewidth": 0,
             "ticks": ""
            },
            "colorscale": [
             [
              0,
              "#0d0887"
             ],
             [
              0.1111111111111111,
              "#46039f"
             ],
             [
              0.2222222222222222,
              "#7201a8"
             ],
             [
              0.3333333333333333,
              "#9c179e"
             ],
             [
              0.4444444444444444,
              "#bd3786"
             ],
             [
              0.5555555555555556,
              "#d8576b"
             ],
             [
              0.6666666666666666,
              "#ed7953"
             ],
             [
              0.7777777777777778,
              "#fb9f3a"
             ],
             [
              0.8888888888888888,
              "#fdca26"
             ],
             [
              1,
              "#f0f921"
             ]
            ],
            "type": "histogram2dcontour"
           }
          ],
          "mesh3d": [
           {
            "colorbar": {
             "outlinewidth": 0,
             "ticks": ""
            },
            "type": "mesh3d"
           }
          ],
          "parcoords": [
           {
            "line": {
             "colorbar": {
              "outlinewidth": 0,
              "ticks": ""
             }
            },
            "type": "parcoords"
           }
          ],
          "pie": [
           {
            "automargin": true,
            "type": "pie"
           }
          ],
          "scatter": [
           {
            "fillpattern": {
             "fillmode": "overlay",
             "size": 10,
             "solidity": 0.2
            },
            "type": "scatter"
           }
          ],
          "scatter3d": [
           {
            "line": {
             "colorbar": {
              "outlinewidth": 0,
              "ticks": ""
             }
            },
            "marker": {
             "colorbar": {
              "outlinewidth": 0,
              "ticks": ""
             }
            },
            "type": "scatter3d"
           }
          ],
          "scattercarpet": [
           {
            "marker": {
             "colorbar": {
              "outlinewidth": 0,
              "ticks": ""
             }
            },
            "type": "scattercarpet"
           }
          ],
          "scattergeo": [
           {
            "marker": {
             "colorbar": {
              "outlinewidth": 0,
              "ticks": ""
             }
            },
            "type": "scattergeo"
           }
          ],
          "scattergl": [
           {
            "marker": {
             "colorbar": {
              "outlinewidth": 0,
              "ticks": ""
             }
            },
            "type": "scattergl"
           }
          ],
          "scattermapbox": [
           {
            "marker": {
             "colorbar": {
              "outlinewidth": 0,
              "ticks": ""
             }
            },
            "type": "scattermapbox"
           }
          ],
          "scatterpolar": [
           {
            "marker": {
             "colorbar": {
              "outlinewidth": 0,
              "ticks": ""
             }
            },
            "type": "scatterpolar"
           }
          ],
          "scatterpolargl": [
           {
            "marker": {
             "colorbar": {
              "outlinewidth": 0,
              "ticks": ""
             }
            },
            "type": "scatterpolargl"
           }
          ],
          "scatterternary": [
           {
            "marker": {
             "colorbar": {
              "outlinewidth": 0,
              "ticks": ""
             }
            },
            "type": "scatterternary"
           }
          ],
          "surface": [
           {
            "colorbar": {
             "outlinewidth": 0,
             "ticks": ""
            },
            "colorscale": [
             [
              0,
              "#0d0887"
             ],
             [
              0.1111111111111111,
              "#46039f"
             ],
             [
              0.2222222222222222,
              "#7201a8"
             ],
             [
              0.3333333333333333,
              "#9c179e"
             ],
             [
              0.4444444444444444,
              "#bd3786"
             ],
             [
              0.5555555555555556,
              "#d8576b"
             ],
             [
              0.6666666666666666,
              "#ed7953"
             ],
             [
              0.7777777777777778,
              "#fb9f3a"
             ],
             [
              0.8888888888888888,
              "#fdca26"
             ],
             [
              1,
              "#f0f921"
             ]
            ],
            "type": "surface"
           }
          ],
          "table": [
           {
            "cells": {
             "fill": {
              "color": "#EBF0F8"
             },
             "line": {
              "color": "white"
             }
            },
            "header": {
             "fill": {
              "color": "#C8D4E3"
             },
             "line": {
              "color": "white"
             }
            },
            "type": "table"
           }
          ]
         },
         "layout": {
          "annotationdefaults": {
           "arrowcolor": "#2a3f5f",
           "arrowhead": 0,
           "arrowwidth": 1
          },
          "autotypenumbers": "strict",
          "coloraxis": {
           "colorbar": {
            "outlinewidth": 0,
            "ticks": ""
           }
          },
          "colorscale": {
           "diverging": [
            [
             0,
             "#8e0152"
            ],
            [
             0.1,
             "#c51b7d"
            ],
            [
             0.2,
             "#de77ae"
            ],
            [
             0.3,
             "#f1b6da"
            ],
            [
             0.4,
             "#fde0ef"
            ],
            [
             0.5,
             "#f7f7f7"
            ],
            [
             0.6,
             "#e6f5d0"
            ],
            [
             0.7,
             "#b8e186"
            ],
            [
             0.8,
             "#7fbc41"
            ],
            [
             0.9,
             "#4d9221"
            ],
            [
             1,
             "#276419"
            ]
           ],
           "sequential": [
            [
             0,
             "#0d0887"
            ],
            [
             0.1111111111111111,
             "#46039f"
            ],
            [
             0.2222222222222222,
             "#7201a8"
            ],
            [
             0.3333333333333333,
             "#9c179e"
            ],
            [
             0.4444444444444444,
             "#bd3786"
            ],
            [
             0.5555555555555556,
             "#d8576b"
            ],
            [
             0.6666666666666666,
             "#ed7953"
            ],
            [
             0.7777777777777778,
             "#fb9f3a"
            ],
            [
             0.8888888888888888,
             "#fdca26"
            ],
            [
             1,
             "#f0f921"
            ]
           ],
           "sequentialminus": [
            [
             0,
             "#0d0887"
            ],
            [
             0.1111111111111111,
             "#46039f"
            ],
            [
             0.2222222222222222,
             "#7201a8"
            ],
            [
             0.3333333333333333,
             "#9c179e"
            ],
            [
             0.4444444444444444,
             "#bd3786"
            ],
            [
             0.5555555555555556,
             "#d8576b"
            ],
            [
             0.6666666666666666,
             "#ed7953"
            ],
            [
             0.7777777777777778,
             "#fb9f3a"
            ],
            [
             0.8888888888888888,
             "#fdca26"
            ],
            [
             1,
             "#f0f921"
            ]
           ]
          },
          "colorway": [
           "#636efa",
           "#EF553B",
           "#00cc96",
           "#ab63fa",
           "#FFA15A",
           "#19d3f3",
           "#FF6692",
           "#B6E880",
           "#FF97FF",
           "#FECB52"
          ],
          "font": {
           "color": "#2a3f5f"
          },
          "geo": {
           "bgcolor": "white",
           "lakecolor": "white",
           "landcolor": "#E5ECF6",
           "showlakes": true,
           "showland": true,
           "subunitcolor": "white"
          },
          "hoverlabel": {
           "align": "left"
          },
          "hovermode": "closest",
          "mapbox": {
           "style": "light"
          },
          "paper_bgcolor": "white",
          "plot_bgcolor": "#E5ECF6",
          "polar": {
           "angularaxis": {
            "gridcolor": "white",
            "linecolor": "white",
            "ticks": ""
           },
           "bgcolor": "#E5ECF6",
           "radialaxis": {
            "gridcolor": "white",
            "linecolor": "white",
            "ticks": ""
           }
          },
          "scene": {
           "xaxis": {
            "backgroundcolor": "#E5ECF6",
            "gridcolor": "white",
            "gridwidth": 2,
            "linecolor": "white",
            "showbackground": true,
            "ticks": "",
            "zerolinecolor": "white"
           },
           "yaxis": {
            "backgroundcolor": "#E5ECF6",
            "gridcolor": "white",
            "gridwidth": 2,
            "linecolor": "white",
            "showbackground": true,
            "ticks": "",
            "zerolinecolor": "white"
           },
           "zaxis": {
            "backgroundcolor": "#E5ECF6",
            "gridcolor": "white",
            "gridwidth": 2,
            "linecolor": "white",
            "showbackground": true,
            "ticks": "",
            "zerolinecolor": "white"
           }
          },
          "shapedefaults": {
           "line": {
            "color": "#2a3f5f"
           }
          },
          "ternary": {
           "aaxis": {
            "gridcolor": "white",
            "linecolor": "white",
            "ticks": ""
           },
           "baxis": {
            "gridcolor": "white",
            "linecolor": "white",
            "ticks": ""
           },
           "bgcolor": "#E5ECF6",
           "caxis": {
            "gridcolor": "white",
            "linecolor": "white",
            "ticks": ""
           }
          },
          "title": {
           "x": 0.05
          },
          "xaxis": {
           "automargin": true,
           "gridcolor": "white",
           "linecolor": "white",
           "ticks": "",
           "title": {
            "standoff": 15
           },
           "zerolinecolor": "white",
           "zerolinewidth": 2
          },
          "yaxis": {
           "automargin": true,
           "gridcolor": "white",
           "linecolor": "white",
           "ticks": "",
           "title": {
            "standoff": 15
           },
           "zerolinecolor": "white",
           "zerolinewidth": 2
          }
         }
        },
        "title": {
         "text": "Top 120 distribution by Max_Version and File_Type"
        },
        "xaxis": {
         "anchor": "y",
         "constrain": "domain",
         "domain": [
          0,
          1
         ],
         "scaleanchor": "y",
         "title": {
          "text": "File_Type"
         }
        },
        "yaxis": {
         "anchor": "x",
         "autorange": "reversed",
         "constrain": "domain",
         "domain": [
          0,
          1
         ],
         "title": {
          "text": "Max_Version"
         }
        }
       }
      }
     },
     "metadata": {},
     "output_type": "display_data"
    }
   ],
   "source": [
    "data_max_file = data[['Unique_Title', 'Max_Version', 'File_Type']].drop_duplicates().reset_index()\n",
    "data_max_file_pivot = data_max_file.pivot_table(\n",
    "    values='Unique_Title',\n",
    "    index='Max_Version',\n",
    "    columns='File_Type',\n",
    "    aggfunc='count'\n",
    ")\n",
    "\n",
    "fig6 = px.imshow(data_max_file_pivot, color_continuous_scale='Blues', \n",
    "                 title='Top 120 distribution by Max_Version and File_Type')\n",
    "fig6.show()"
   ]
  },
  {
   "cell_type": "code",
   "execution_count": 109,
   "metadata": {},
   "outputs": [],
   "source": [
    "fig1.write_html(\"Top 120 Rank Dynamics.html\")\n",
    "fig2.write_html(\"Top 120 total Rank by Category.html\")\n",
    "fig3.write_html(\"Top 120 total Rank by Subcategory.html\")\n",
    "fig4.write_html(\"Top 120 total Rank by Unique_Title.html\")\n",
    "fig5.write_html(\"Top 120 total Rank by Username.html\")\n",
    "fig6.write_html(\"Top 120 distribution by Max_Version and File_Type.html\")"
   ]
  },
  {
   "cell_type": "code",
   "execution_count": 79,
   "metadata": {},
   "outputs": [
    {
     "data": {
      "text/html": [
       "<div>\n",
       "<style scoped>\n",
       "    .dataframe tbody tr th:only-of-type {\n",
       "        vertical-align: middle;\n",
       "    }\n",
       "\n",
       "    .dataframe tbody tr th {\n",
       "        vertical-align: top;\n",
       "    }\n",
       "\n",
       "    .dataframe thead th {\n",
       "        text-align: right;\n",
       "    }\n",
       "</style>\n",
       "<table border=\"1\" class=\"dataframe\">\n",
       "  <thead>\n",
       "    <tr style=\"text-align: right;\">\n",
       "      <th></th>\n",
       "      <th>Unique_Title</th>\n",
       "      <th>Category</th>\n",
       "      <th>Username</th>\n",
       "      <th>Total_Ranking</th>\n",
       "    </tr>\n",
       "  </thead>\n",
       "  <tbody>\n",
       "    <tr>\n",
       "      <th>254</th>\n",
       "      <td>vezd_na_okhraniaemuiu_territoriiu_parkovku</td>\n",
       "      <td>Architecture</td>\n",
       "      <td>Juliet-t-e</td>\n",
       "      <td>130</td>\n",
       "    </tr>\n",
       "  </tbody>\n",
       "</table>\n",
       "</div>"
      ],
      "text/plain": [
       "                                   Unique_Title      Category    Username  \\\n",
       "254  vezd_na_okhraniaemuiu_territoriiu_parkovku  Architecture  Juliet-t-e   \n",
       "\n",
       "     Total_Ranking  \n",
       "254            130  "
      ]
     },
     "metadata": {},
     "output_type": "display_data"
    }
   ],
   "source": [
    "display(data_unique_gr[data_unique_gr['Username']=='Juliet-t-e'])"
   ]
  }
 ],
 "metadata": {
  "kernelspec": {
   "display_name": "Python 3",
   "language": "python",
   "name": "python3"
  },
  "language_info": {
   "codemirror_mode": {
    "name": "ipython",
    "version": 3
   },
   "file_extension": ".py",
   "mimetype": "text/x-python",
   "name": "python",
   "nbconvert_exporter": "python",
   "pygments_lexer": "ipython3",
   "version": "3.9.13"
  }
 },
 "nbformat": 4,
 "nbformat_minor": 2
}
